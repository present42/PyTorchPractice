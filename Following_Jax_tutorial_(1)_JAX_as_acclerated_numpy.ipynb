{
  "nbformat": 4,
  "nbformat_minor": 0,
  "metadata": {
    "colab": {
      "provenance": [],
      "authorship_tag": "ABX9TyPmi4LnoyTc1wpwBK6hhj4q",
      "include_colab_link": true
    },
    "kernelspec": {
      "name": "python3",
      "display_name": "Python 3"
    },
    "language_info": {
      "name": "python"
    }
  },
  "cells": [
    {
      "cell_type": "markdown",
      "metadata": {
        "id": "view-in-github",
        "colab_type": "text"
      },
      "source": [
        "<a href=\"https://colab.research.google.com/github/present42/PyTorchPractice/blob/main/Following_Jax_tutorial_(1)_JAX_as_acclerated_numpy.ipynb\" target=\"_parent\"><img src=\"https://colab.research.google.com/assets/colab-badge.svg\" alt=\"Open In Colab\"/></a>"
      ]
    },
    {
      "cell_type": "code",
      "execution_count": 1,
      "metadata": {
        "colab": {
          "base_uri": "https://localhost:8080/"
        },
        "id": "lVgP5koux_sr",
        "outputId": "e7e9aad9-02de-46c2-a9b0-3d386affa120"
      },
      "outputs": [
        {
          "output_type": "stream",
          "name": "stdout",
          "text": [
            "[0 1 2 3 4 5 6 7 8 9]\n"
          ]
        }
      ],
      "source": [
        "import jax\n",
        "import jax.numpy as jnp\n",
        "\n",
        "x = jnp.arange(10)\n",
        "print(x)"
      ]
    },
    {
      "cell_type": "code",
      "source": [
        "x"
      ],
      "metadata": {
        "colab": {
          "base_uri": "https://localhost:8080/"
        },
        "id": "XLDQHWlbyIBD",
        "outputId": "31f337ac-6751-4348-c051-960ccd233be1"
      },
      "execution_count": 2,
      "outputs": [
        {
          "output_type": "execute_result",
          "data": {
            "text/plain": [
              "Array([0, 1, 2, 3, 4, 5, 6, 7, 8, 9], dtype=int32)"
            ]
          },
          "metadata": {},
          "execution_count": 2
        }
      ]
    },
    {
      "cell_type": "markdown",
      "source": [
        " - On CPU, 8.37 ms ± 179 µs per loop (mean ± std. dev. of 7 runs, 100 loops each)\n",
        " - On GPU, 467 µs ± 56.8 µs per loop (mean ± std. dev. of 7 runs, 1 loop each)"
      ],
      "metadata": {
        "id": "ApvGYHsjyr-z"
      }
    },
    {
      "cell_type": "code",
      "source": [
        "long_vector = jnp.arange(int(1e7))\n",
        "\n",
        "%timeit jnp.dot(long_vector, long_vector).block_until_ready()"
      ],
      "metadata": {
        "colab": {
          "base_uri": "https://localhost:8080/"
        },
        "id": "RvANiP9JyROy",
        "outputId": "db0ad180-c165-4ccb-db88-256576993fa6"
      },
      "execution_count": 3,
      "outputs": [
        {
          "output_type": "stream",
          "name": "stdout",
          "text": [
            "467 µs ± 56.8 µs per loop (mean ± std. dev. of 7 runs, 1 loop each)\n"
          ]
        }
      ]
    },
    {
      "cell_type": "code",
      "source": [
        "def sum_of_squares(x):\n",
        "  return jnp.sum(x**2)"
      ],
      "metadata": {
        "id": "nTiwrSBgykJa"
      },
      "execution_count": 3,
      "outputs": []
    },
    {
      "cell_type": "markdown",
      "source": [
        "`jax.grad` will only work on functions with a scalar output"
      ],
      "metadata": {
        "id": "sLlBtw9TzoXO"
      }
    },
    {
      "cell_type": "code",
      "source": [
        "sum_of_squares_dx = jax.grad(sum_of_squares)\n",
        "\n",
        "x = jnp.asarray([1.0, 2.0, 3.0, 4.0])\n",
        "\n",
        "print(sum_of_squares(x))\n",
        "\n",
        "print(sum_of_squares_dx(x))"
      ],
      "metadata": {
        "colab": {
          "base_uri": "https://localhost:8080/"
        },
        "id": "ioTEZtqzzNQx",
        "outputId": "eec1e65d-95cb-4454-b0e0-690b5cff90ab"
      },
      "execution_count": 4,
      "outputs": [
        {
          "output_type": "stream",
          "name": "stdout",
          "text": [
            "30.0\n",
            "[2. 4. 6. 8.]\n"
          ]
        }
      ]
    },
    {
      "cell_type": "markdown",
      "source": [
        "By default, `jax.grad` will find the gradient with respect to the first argument."
      ],
      "metadata": {
        "id": "mqy16QjH0H1-"
      }
    },
    {
      "cell_type": "code",
      "source": [
        "def sum_squared_error(x, y):\n",
        "  return jnp.sum((x - y) ** 2)\n",
        "\n",
        "sum_squared_error_dx = jax.grad(sum_squared_error)\n",
        "\n",
        "y = jnp.array([1.1, 2.1, 3.1, 4.1])\n",
        "\n",
        "print(sum_squared_error_dx(x, y))"
      ],
      "metadata": {
        "colab": {
          "base_uri": "https://localhost:8080/"
        },
        "id": "W6KMLxJPzbUx",
        "outputId": "edfb13cb-78d6-46f1-be7a-8c243d05b38e"
      },
      "execution_count": 6,
      "outputs": [
        {
          "output_type": "stream",
          "name": "stdout",
          "text": [
            "[-0.20000005 -0.19999981 -0.19999981 -0.19999981]\n"
          ]
        }
      ]
    },
    {
      "cell_type": "code",
      "source": [
        "jax.grad(sum_squared_error, argnums=(0, 1))(x, y)"
      ],
      "metadata": {
        "colab": {
          "base_uri": "https://localhost:8080/"
        },
        "id": "cKN84tvmz9jh",
        "outputId": "3f2738ce-9df3-44d8-a588-be65691597a2"
      },
      "execution_count": 7,
      "outputs": [
        {
          "output_type": "execute_result",
          "data": {
            "text/plain": [
              "(Array([-0.20000005, -0.19999981, -0.19999981, -0.19999981], dtype=float32),\n",
              " Array([0.20000005, 0.19999981, 0.19999981, 0.19999981], dtype=float32))"
            ]
          },
          "metadata": {},
          "execution_count": 7
        }
      ]
    },
    {
      "cell_type": "code",
      "source": [
        "jax.value_and_grad(sum_squared_error)(x, y)"
      ],
      "metadata": {
        "colab": {
          "base_uri": "https://localhost:8080/"
        },
        "id": "ZAZ-BRUx0edY",
        "outputId": "3ab9f826-47d2-42c1-bdf4-37b10c9fb0e0"
      },
      "execution_count": 8,
      "outputs": [
        {
          "output_type": "execute_result",
          "data": {
            "text/plain": [
              "(Array(0.03999995, dtype=float32),\n",
              " Array([-0.20000005, -0.19999981, -0.19999981, -0.19999981], dtype=float32))"
            ]
          },
          "metadata": {},
          "execution_count": 8
        }
      ]
    },
    {
      "cell_type": "code",
      "source": [
        "(sum_squared_error(x, y),\n",
        "                                                jax.grad(sum_squared_error)(x, y))"
      ],
      "metadata": {
        "colab": {
          "base_uri": "https://localhost:8080/"
        },
        "id": "RHkqx1Mv0vvw",
        "outputId": "19040421-1f01-4af2-adec-bf47fb1e2b5c"
      },
      "execution_count": 11,
      "outputs": [
        {
          "output_type": "execute_result",
          "data": {
            "text/plain": [
              "(Array(0.03999995, dtype=float32),\n",
              " Array([-0.20000005, -0.19999981, -0.19999981, -0.19999981], dtype=float32))"
            ]
          },
          "metadata": {},
          "execution_count": 11
        }
      ]
    },
    {
      "cell_type": "code",
      "source": [
        "def squared_error_with_aux(x, y):\n",
        "  return sum_squared_error(x, y), x-y\n",
        "\n",
        "jax.grad(squared_error_with_aux, has_aux=True)(x, y)"
      ],
      "metadata": {
        "colab": {
          "base_uri": "https://localhost:8080/"
        },
        "id": "3N6eXpaX06O4",
        "outputId": "350b7a84-db67-4066-9453-ad2581baa2de"
      },
      "execution_count": 13,
      "outputs": [
        {
          "output_type": "execute_result",
          "data": {
            "text/plain": [
              "(Array([-0.20000005, -0.19999981, -0.19999981, -0.19999981], dtype=float32),\n",
              " Array([-0.10000002, -0.0999999 , -0.0999999 , -0.0999999 ], dtype=float32))"
            ]
          },
          "metadata": {},
          "execution_count": 13
        }
      ]
    },
    {
      "cell_type": "code",
      "source": [
        "def jax_in_place_modify(x):\n",
        "  return x.at[0].set(123)\n",
        "\n",
        "y = jnp.array([1, 2, 3])\n",
        "jax_in_place_modify(y)"
      ],
      "metadata": {
        "colab": {
          "base_uri": "https://localhost:8080/"
        },
        "id": "90UH-LMh1T3q",
        "outputId": "9b76f1db-0688-45f5-9349-54d0d8e051f7"
      },
      "execution_count": 15,
      "outputs": [
        {
          "output_type": "execute_result",
          "data": {
            "text/plain": [
              "Array([123,   2,   3], dtype=int32)"
            ]
          },
          "metadata": {},
          "execution_count": 15
        }
      ]
    },
    {
      "cell_type": "code",
      "source": [
        "y"
      ],
      "metadata": {
        "colab": {
          "base_uri": "https://localhost:8080/"
        },
        "id": "yDVPcu-W1_oZ",
        "outputId": "fea275f9-5942-43a8-d4a0-db6f7b31f6f5"
      },
      "execution_count": 16,
      "outputs": [
        {
          "output_type": "execute_result",
          "data": {
            "text/plain": [
              "Array([1, 2, 3], dtype=int32)"
            ]
          },
          "metadata": {},
          "execution_count": 16
        }
      ]
    },
    {
      "cell_type": "markdown",
      "source": [
        "Isn't the pure version less efficient? Strictly, yes; we are creating a new array. However, JAX computations are often compiled before being run using another program transformation `jax.jit`."
      ],
      "metadata": {
        "id": "f255a1Qb2F1z"
      }
    },
    {
      "cell_type": "code",
      "source": [
        "import numpy as np\n",
        "import matplotlib.pyplot as plt\n",
        "\n",
        "xs = np.random.normal(size=(100,))\n",
        "noise = np.random.normal(scale=0.1, size=(100,))\n",
        "ys = xs * 3 - 1 + noise\n",
        "\n",
        "plt.scatter(xs, ys)"
      ],
      "metadata": {
        "colab": {
          "base_uri": "https://localhost:8080/",
          "height": 449
        },
        "id": "uGAo3dc02B3p",
        "outputId": "5759baf4-7da6-46ee-f9b6-97506b46e63d"
      },
      "execution_count": 17,
      "outputs": [
        {
          "output_type": "execute_result",
          "data": {
            "text/plain": [
              "<matplotlib.collections.PathCollection at 0x7b864e1b50f0>"
            ]
          },
          "metadata": {},
          "execution_count": 17
        },
        {
          "output_type": "display_data",
          "data": {
            "text/plain": [
              "<Figure size 640x480 with 1 Axes>"
            ],
            "image/png": "[encoded data removed]"
          },
          "metadata": {}
        }
      ]
    },
    {
      "cell_type": "code",
      "source": [
        "# single array theta = [w, b] to house both params\n",
        "def model(theta, x):\n",
        "  w, b = theta\n",
        "  return w * x + b"
      ],
      "metadata": {
        "id": "v5DCto5K3H4Y"
      },
      "execution_count": 18,
      "outputs": []
    },
    {
      "cell_type": "code",
      "source": [
        "def loss_fn(theta, x, y):\n",
        "  prediction = model(theta, x)\n",
        "  return jnp.mean((prediction - y) ** 2) # MSE"
      ],
      "metadata": {
        "id": "syduuk5m3SMJ"
      },
      "execution_count": 23,
      "outputs": []
    },
    {
      "cell_type": "markdown",
      "source": [
        "In JAX, it's common to define an `update` function that is called every step, taking the current parameters as input and returning the new parameters."
      ],
      "metadata": {
        "id": "Kc30zSg13l32"
      }
    },
    {
      "cell_type": "code",
      "source": [
        "def update(theta, x, y, lr=0.1):\n",
        "  return theta - lr * jax.grad(loss_fn)(theta, x, y)"
      ],
      "metadata": {
        "id": "PeZmBmXO3Zxx"
      },
      "execution_count": 24,
      "outputs": []
    },
    {
      "cell_type": "code",
      "source": [
        "theta = jnp.array([1., 1.])\n",
        "\n",
        "for _ in range(1000):\n",
        "  theta = update(theta, xs, ys)\n",
        "\n",
        "plt.scatter(xs, ys)\n",
        "plt.plot(xs, model(theta, xs))\n",
        "\n",
        "w, b = theta\n",
        "print(f\"w: {w: <.2f}, b: {b: <.2f}\")"
      ],
      "metadata": {
        "colab": {
          "base_uri": "https://localhost:8080/",
          "height": 449
        },
        "id": "70KfLq8P3lRR",
        "outputId": "63961c19-e6fa-4e4e-8ed7-5ab663e6db68"
      },
      "execution_count": 25,
      "outputs": [
        {
          "output_type": "stream",
          "name": "stdout",
          "text": [
            "w: 2.99, b: -1.00\n"
          ]
        },
        {
          "output_type": "display_data",
          "data": {
            "text/plain": [
              "<Figure size 640x480 with 1 Axes>"
            ],
            "image/png": "[encoded data removed]"
          },
          "metadata": {}
        }
      ]
    },
    {
      "cell_type": "code",
      "source": [],
      "metadata": {
        "id": "8auEgUHO3_mh"
      },
      "execution_count": null,
      "outputs": []
    }
  ]
}