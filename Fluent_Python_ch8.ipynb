{
  "nbformat": 4,
  "nbformat_minor": 0,
  "metadata": {
    "colab": {
      "provenance": [],
      "authorship_tag": "ABX9TyNyswMvOwdbLHylmWxj/B4R",
      "include_colab_link": true
    },
    "kernelspec": {
      "name": "python3",
      "display_name": "Python 3"
    },
    "language_info": {
      "name": "python"
    }
  },
  "cells": [
    {
      "cell_type": "markdown",
      "metadata": {
        "id": "view-in-github",
        "colab_type": "text"
      },
      "source": [
        "<a href=\"https://colab.research.google.com/github/present42/PyTorchPractice/blob/main/Fluent_Python_ch8.ipynb\" target=\"_parent\"><img src=\"https://colab.research.google.com/assets/colab-badge.svg\" alt=\"Open In Colab\"/></a>"
      ]
    },
    {
      "cell_type": "markdown",
      "source": [
        "11:34 - 12:09"
      ],
      "metadata": {
        "id": "IgwrhDbpHxXK"
      }
    },
    {
      "cell_type": "code",
      "source": [
        "%load_ext autoreload\n",
        "%autoreload 2"
      ],
      "metadata": {
        "id": "AVTW37muK9TX"
      },
      "execution_count": null,
      "outputs": []
    },
    {
      "cell_type": "markdown",
      "source": [
        "## About Gradaul Typing\n",
        "\n",
        "Properties:\n",
        " 1. Optional\n",
        " 2. Does not catch type erros at runtime\n",
        " 3. Does not enhance performance"
      ],
      "metadata": {
        "id": "GriioFaIH0fZ"
      }
    },
    {
      "cell_type": "code",
      "execution_count": null,
      "metadata": {
        "id": "Pft4k9LsHrzc"
      },
      "outputs": [],
      "source": [
        "def show_count(count, word):\n",
        "  if count == 1:\n",
        "    return f'1 {word}'\n",
        "  count_str = str(count) if count else 'no'\n",
        "  return f'{count_str} {word}s'"
      ]
    },
    {
      "cell_type": "code",
      "source": [
        "show_count(99, 'bird')"
      ],
      "metadata": {
        "colab": {
          "base_uri": "https://localhost:8080/",
          "height": 36
        },
        "id": "g-KT6MySIxFg",
        "outputId": "88d0718f-896a-4c77-ee43-b6ab5265499a"
      },
      "execution_count": null,
      "outputs": [
        {
          "output_type": "execute_result",
          "data": {
            "text/plain": [
              "'99 birds'"
            ],
            "application/vnd.google.colaboratory.intrinsic+json": {
              "type": "string"
            }
          },
          "metadata": {},
          "execution_count": 2
        }
      ]
    },
    {
      "cell_type": "code",
      "source": [
        "show_count(1, 'bird')"
      ],
      "metadata": {
        "colab": {
          "base_uri": "https://localhost:8080/",
          "height": 36
        },
        "id": "ulctKQpTIzD-",
        "outputId": "de48e4a4-8448-40f2-a239-9886d431ae91"
      },
      "execution_count": null,
      "outputs": [
        {
          "output_type": "execute_result",
          "data": {
            "text/plain": [
              "'1 bird'"
            ],
            "application/vnd.google.colaboratory.intrinsic+json": {
              "type": "string"
            }
          },
          "metadata": {},
          "execution_count": 3
        }
      ]
    },
    {
      "cell_type": "code",
      "source": [
        "show_count(0, 'bird')"
      ],
      "metadata": {
        "colab": {
          "base_uri": "https://localhost:8080/",
          "height": 36
        },
        "id": "RksoqL7rI0Iu",
        "outputId": "8e06230c-4386-47ca-de10-4ab23b5733e7"
      },
      "execution_count": null,
      "outputs": [
        {
          "output_type": "execute_result",
          "data": {
            "text/plain": [
              "'no birds'"
            ],
            "application/vnd.google.colaboratory.intrinsic+json": {
              "type": "string"
            }
          },
          "metadata": {},
          "execution_count": 4
        }
      ]
    },
    {
      "cell_type": "code",
      "source": [
        "!pip install mypy"
      ],
      "metadata": {
        "colab": {
          "base_uri": "https://localhost:8080/"
        },
        "id": "AJsHoWvgI2Q-",
        "outputId": "31e1db54-034a-4f16-c351-076ebced8256"
      },
      "execution_count": null,
      "outputs": [
        {
          "output_type": "stream",
          "name": "stdout",
          "text": [
            "Collecting mypy\n",
            "  Downloading mypy-1.9.0-cp310-cp310-manylinux_2_17_x86_64.manylinux2014_x86_64.whl (12.5 MB)\n",
            "\u001b[?25l     \u001b[90m━━━━━━━━━━━━━━━━━━━━━━━━━━━━━━━━━━━━━━━━\u001b[0m \u001b[32m0.0/12.5 MB\u001b[0m \u001b[31m?\u001b[0m eta \u001b[36m-:--:--\u001b[0m\r\u001b[2K     \u001b[90m━━━━━━━━━━━━━━━━━━━━━━━━━━━━━━━━━━━━━━━━\u001b[0m \u001b[32m0.1/12.5 MB\u001b[0m \u001b[31m3.3 MB/s\u001b[0m eta \u001b[36m0:00:04\u001b[0m\r\u001b[2K     \u001b[91m━━━━━━━━━━━━\u001b[0m\u001b[91m╸\u001b[0m\u001b[90m━━━━━━━━━━━━━━━━━━━━━━━━━━━\u001b[0m \u001b[32m4.0/12.5 MB\u001b[0m \u001b[31m58.4 MB/s\u001b[0m eta \u001b[36m0:00:01\u001b[0m\r\u001b[2K     \u001b[91m━━━━━━━━━━━━━━━━━━━━━━━━━━━━━━━\u001b[0m\u001b[91m╸\u001b[0m\u001b[90m━━━━━━━━\u001b[0m \u001b[32m10.0/12.5 MB\u001b[0m \u001b[31m95.1 MB/s\u001b[0m eta \u001b[36m0:00:01\u001b[0m\r\u001b[2K     \u001b[91m━━━━━━━━━━━━━━━━━━━━━━━━━━━━━━━━━━━━━━━\u001b[0m\u001b[91m╸\u001b[0m \u001b[32m12.5/12.5 MB\u001b[0m \u001b[31m168.9 MB/s\u001b[0m eta \u001b[36m0:00:01\u001b[0m\r\u001b[2K     \u001b[91m━━━━━━━━━━━━━━━━━━━━━━━━━━━━━━━━━━━━━━━\u001b[0m\u001b[91m╸\u001b[0m \u001b[32m12.5/12.5 MB\u001b[0m \u001b[31m168.9 MB/s\u001b[0m eta \u001b[36m0:00:01\u001b[0m\r\u001b[2K     \u001b[90m━━━━━━━━━━━━━━━━━━━━━━━━━━━━━━━━━━━━━━━━\u001b[0m \u001b[32m12.5/12.5 MB\u001b[0m \u001b[31m82.4 MB/s\u001b[0m eta \u001b[36m0:00:00\u001b[0m\n",
            "\u001b[?25hRequirement already satisfied: typing-extensions>=4.1.0 in /usr/local/lib/python3.10/dist-packages (from mypy) (4.11.0)\n",
            "Collecting mypy-extensions>=1.0.0 (from mypy)\n",
            "  Downloading mypy_extensions-1.0.0-py3-none-any.whl (4.7 kB)\n",
            "Requirement already satisfied: tomli>=1.1.0 in /usr/local/lib/python3.10/dist-packages (from mypy) (2.0.1)\n",
            "Installing collected packages: mypy-extensions, mypy\n",
            "Successfully installed mypy-1.9.0 mypy-extensions-1.0.0\n"
          ]
        }
      ]
    },
    {
      "cell_type": "code",
      "source": [
        "!mypy messages.py"
      ],
      "metadata": {
        "colab": {
          "base_uri": "https://localhost:8080/"
        },
        "id": "2IkJCS8OI5_e",
        "outputId": "e98d82c8-b563-475e-8a92-d8b07feed7e2"
      },
      "execution_count": null,
      "outputs": [
        {
          "output_type": "stream",
          "name": "stdout",
          "text": [
            "\u001b[1m\u001b[32mSuccess: no issues found in 1 source file\u001b[m\n"
          ]
        }
      ]
    },
    {
      "cell_type": "code",
      "source": [
        "from pytest import mark\n",
        "\n",
        "from messages import show_count\n",
        "\n",
        "@mark.parametrize('qty, expected', [\n",
        "    (1, '1 part'),\n",
        "    (2, '2 parts'),\n",
        "])\n",
        "def test_show_count(qty, expected):\n",
        "  got = show_count(qty, 'part')\n",
        "  assert got == expected\n",
        "\n",
        "def test_show_count_zero():\n",
        "  got = show_count(0, 'part')\n",
        "  assert got == 'no parts'"
      ],
      "metadata": {
        "id": "j7yqFghQJEnu"
      },
      "execution_count": null,
      "outputs": []
    },
    {
      "cell_type": "code",
      "source": [
        "!mypy --disallow-untyped-defs messages_test.py"
      ],
      "metadata": {
        "colab": {
          "base_uri": "https://localhost:8080/"
        },
        "id": "wugZLFa7Jin-",
        "outputId": "9cdba69b-2716-46fb-be01-e7c2804931bf"
      },
      "execution_count": null,
      "outputs": [
        {
          "output_type": "stream",
          "name": "stdout",
          "text": [
            "messages.py:1: \u001b[1m\u001b[31merror:\u001b[m Function is missing a type annotation  \u001b[m\u001b[33m[no-untyped-def]\u001b[m\n",
            "messages_test.py:9: \u001b[1m\u001b[31merror:\u001b[m Function is missing a type annotation  \u001b[m\u001b[33m[no-untyped-def]\u001b[m\n",
            "messages_test.py:13: \u001b[1m\u001b[31merror:\u001b[m Function is missing a return type annotation  \u001b[m\u001b[33m[no-untyped-def]\u001b[m\n",
            "messages_test.py:13: \u001b[34mnote:\u001b[m Use \u001b[m\u001b[1m\"-> None\"\u001b[m if function does not return a value\u001b[m\n",
            "\u001b[1m\u001b[31mFound 3 errors in 2 files (checked 1 source file)\u001b[m\n"
          ]
        }
      ]
    },
    {
      "cell_type": "code",
      "source": [
        "!mypy messages_test.py"
      ],
      "metadata": {
        "colab": {
          "base_uri": "https://localhost:8080/"
        },
        "id": "NE61VA8zJuIt",
        "outputId": "1dc654a5-7f70-44ed-a13d-89fa732cb949"
      },
      "execution_count": null,
      "outputs": [
        {
          "output_type": "stream",
          "name": "stdout",
          "text": [
            "\u001b[1m\u001b[32mSuccess: no issues found in 1 source file\u001b[m\n"
          ]
        }
      ]
    },
    {
      "cell_type": "code",
      "source": [
        "from typing import Optional\n",
        "\n",
        "def show_count(count: int, singular: str, plural: Optional[str] = None)"
      ],
      "metadata": {
        "id": "oEAKa7S7Kaj2"
      },
      "execution_count": null,
      "outputs": []
    },
    {
      "cell_type": "markdown",
      "source": [
        "## Types Are Defined by Supported Operations"
      ],
      "metadata": {
        "id": "bHjI2TnhMdgZ"
      }
    },
    {
      "cell_type": "code",
      "source": [
        "from collections import abc\n",
        "def double(x: abc.Sequence):\n",
        "  return x * 2"
      ],
      "metadata": {
        "id": "z3gDs4GBMfuv"
      },
      "execution_count": null,
      "outputs": []
    },
    {
      "cell_type": "markdown",
      "source": [
        "A type checker will reject that code (`double(x)` wher `x` has type `str`, `tuple`, ..., `array`) because the type checker only cares about what is explicitly declared, and `abc.Sequence` has no `__mul__`."
      ],
      "metadata": {
        "id": "wJrYryApM26-"
      }
    },
    {
      "cell_type": "markdown",
      "source": [
        "### Duck Typing\n",
        " - The view adopted by SmallTalk as well as Python, Javascript, and Ruby. In practice, it doesn't matter what the declared type of the object is, only what operations it actually supports. If I can invoke `birdie.quack()`, then the `birdie` is a duck in this context. By definition, duck typing is only enforced at runtime.\n",
        "\n",
        "### Nominal Typing\n",
        " - Adopted by C++, Java and C#, supported by annotated Python. Objects and vars have types but objects only exist at runtime and the type checker only cares about the source code where variables are annotated with type hints."
      ],
      "metadata": {
        "id": "ES6x_EweNLLI"
      }
    },
    {
      "cell_type": "code",
      "source": [
        "!mypy birds.py"
      ],
      "metadata": {
        "colab": {
          "base_uri": "https://localhost:8080/"
        },
        "id": "2YZpYypVM17P",
        "outputId": "95761a06-bfa8-4b21-9db1-fdb2f7328324"
      },
      "execution_count": null,
      "outputs": [
        {
          "output_type": "stream",
          "name": "stdout",
          "text": [
            "birds.py:15: \u001b[1m\u001b[31merror:\u001b[m \u001b[m\u001b[1m\"Bird\"\u001b[m has no attribute \u001b[m\u001b[1m\"quack\"\u001b[m  \u001b[m\u001b[33m[attr-defined]\u001b[m\n",
            "\u001b[1m\u001b[31mFound 1 error in 1 file (checked 1 source file)\u001b[m\n"
          ]
        }
      ]
    },
    {
      "cell_type": "code",
      "source": [
        "# daffy.py\n",
        "from birds import *\n",
        "\n",
        "daffy = Duck()\n",
        "alert(daffy)\n",
        "alert_duck(daffy)\n",
        "alert_bird(daffy)"
      ],
      "metadata": {
        "id": "PHd625hpOLN3"
      },
      "execution_count": null,
      "outputs": []
    },
    {
      "cell_type": "code",
      "source": [
        "!mypy daffy.py"
      ],
      "metadata": {
        "colab": {
          "base_uri": "https://localhost:8080/"
        },
        "id": "moPR34aeObpp",
        "outputId": "e6efa82f-b280-4b6b-87d3-57f57e4fecbc"
      },
      "execution_count": null,
      "outputs": [
        {
          "output_type": "stream",
          "name": "stdout",
          "text": [
            "birds.py:15: \u001b[1m\u001b[31merror:\u001b[m \u001b[m\u001b[1m\"Bird\"\u001b[m has no attribute \u001b[m\u001b[1m\"quack\"\u001b[m  \u001b[m\u001b[33m[attr-defined]\u001b[m\n",
            "\u001b[1m\u001b[31mFound 1 error in 1 file (checked 1 source file)\u001b[m\n"
          ]
        }
      ]
    },
    {
      "cell_type": "code",
      "source": [
        "!python daffy.py"
      ],
      "metadata": {
        "colab": {
          "base_uri": "https://localhost:8080/"
        },
        "id": "DQ-cbnHeOdmn",
        "outputId": "28446ecc-3c20-46a8-cf92-9edbbc533e97"
      },
      "execution_count": null,
      "outputs": [
        {
          "output_type": "stream",
          "name": "stdout",
          "text": [
            "Quack!\n",
            "Quack!\n",
            "Quack!\n"
          ]
        }
      ]
    },
    {
      "cell_type": "code",
      "source": [
        "# woody.py\n",
        "\n",
        "from birds import *\n",
        "\n",
        "woody = Bird()\n",
        "alert(woody)\n",
        "alert_duck(woody)\n",
        "alert_bird(woody)"
      ],
      "metadata": {
        "id": "8OX1TZKhOgIP"
      },
      "execution_count": null,
      "outputs": []
    },
    {
      "cell_type": "code",
      "source": [
        "!mypy woody.py"
      ],
      "metadata": {
        "colab": {
          "base_uri": "https://localhost:8080/"
        },
        "id": "YkkslSqWOwNH",
        "outputId": "bb4684ff-d334-4712-dcdd-829d12db9498"
      },
      "execution_count": null,
      "outputs": [
        {
          "output_type": "stream",
          "name": "stdout",
          "text": [
            "birds.py:15: \u001b[1m\u001b[31merror:\u001b[m \u001b[m\u001b[1m\"Bird\"\u001b[m has no attribute \u001b[m\u001b[1m\"quack\"\u001b[m  \u001b[m\u001b[33m[attr-defined]\u001b[m\n",
            "woody.py:7: \u001b[1m\u001b[31merror:\u001b[m Argument 1 to \u001b[m\u001b[1m\"alert_duck\"\u001b[m has incompatible type \u001b[m\u001b[1m\"Bird\"\u001b[m; expected \u001b[m\u001b[1m\"Duck\"\u001b[m  \u001b[m\u001b[33m[arg-type]\u001b[m\n",
            "\u001b[1m\u001b[31mFound 2 errors in 2 files (checked 1 source file)\u001b[m\n"
          ]
        }
      ]
    },
    {
      "cell_type": "code",
      "source": [
        "!python woody.py"
      ],
      "metadata": {
        "colab": {
          "base_uri": "https://localhost:8080/"
        },
        "id": "j07013SEOxZf",
        "outputId": "7c0728f3-fd0b-48fb-a4c2-73e72c376be8"
      },
      "execution_count": null,
      "outputs": [
        {
          "output_type": "stream",
          "name": "stdout",
          "text": [
            "Traceback (most recent call last):\n",
            "  File \"/content/woody.py\", line 6, in <module>\n",
            "    alert(woody)\n",
            "  File \"/content/birds.py\", line 9, in alert\n",
            "    birdie.quack()\n",
            "AttributeError: 'Bird' object has no attribute 'quack'\n"
          ]
        }
      ]
    },
    {
      "cell_type": "markdown",
      "source": [
        "9:48 -"
      ],
      "metadata": {
        "id": "Zp2kj54Y5BdH"
      }
    },
    {
      "cell_type": "code",
      "source": [
        "!pip install mypy"
      ],
      "metadata": {
        "colab": {
          "base_uri": "https://localhost:8080/"
        },
        "id": "nWVUKzaK50mT",
        "outputId": "cf28ee73-bc00-4d0c-c908-43c0ab6a1595"
      },
      "execution_count": null,
      "outputs": [
        {
          "output_type": "stream",
          "name": "stdout",
          "text": [
            "Collecting mypy\n",
            "  Downloading mypy-1.9.0-cp310-cp310-manylinux_2_17_x86_64.manylinux2014_x86_64.whl (12.5 MB)\n",
            "\u001b[2K     \u001b[90m━━━━━━━━━━━━━━━━━━━━━━━━━━━━━━━━━━━━━━━━\u001b[0m \u001b[32m12.5/12.5 MB\u001b[0m \u001b[31m72.0 MB/s\u001b[0m eta \u001b[36m0:00:00\u001b[0m\n",
            "\u001b[?25hRequirement already satisfied: typing-extensions>=4.1.0 in /usr/local/lib/python3.10/dist-packages (from mypy) (4.11.0)\n",
            "Collecting mypy-extensions>=1.0.0 (from mypy)\n",
            "  Downloading mypy_extensions-1.0.0-py3-none-any.whl (4.7 kB)\n",
            "Requirement already satisfied: tomli>=1.1.0 in /usr/local/lib/python3.10/dist-packages (from mypy) (2.0.1)\n",
            "Installing collected packages: mypy-extensions, mypy\n",
            "Successfully installed mypy-1.9.0 mypy-extensions-1.0.0\n"
          ]
        }
      ]
    },
    {
      "cell_type": "code",
      "source": [
        "!mypy double_object.py"
      ],
      "metadata": {
        "colab": {
          "base_uri": "https://localhost:8080/"
        },
        "id": "tWmGZw-o59qH",
        "outputId": "df35d705-237a-4177-d728-d97b4c185bbf"
      },
      "execution_count": null,
      "outputs": [
        {
          "output_type": "stream",
          "name": "stdout",
          "text": [
            "\u001b[1m\u001b[32mSuccess: no issues found in 1 source file\u001b[m\n"
          ]
        }
      ]
    },
    {
      "cell_type": "markdown",
      "source": [
        "* Traditional OOP\n",
        "  - Liskov Property: If an object of type `T2` substitutes an object of type `T1` and the program still behaves correctly, then `T2` is subtype of `T1`.\n",
        "* Gradual Type System\n",
        "  - consistent-with relationship\n",
        "  - which applies wherever subtype-of applies, with special provision for type `Any`\n",
        "\n",
        "  - Rules\n",
        "    1. Given `T1` and a subtype `T2`, then `T2` is consistent with `T1` (Liskov substitution)\n",
        "    2. Every type is consistent with `Any`: you can pass objects of every type to an argument declared of type `Any`.\n",
        "    3. `Any` is consistent-with every type: you can always pass an object of type `Any` where an argument of another type is expected."
      ],
      "metadata": {
        "id": "Ee_qgTvf6n_f"
      }
    },
    {
      "cell_type": "markdown",
      "source": [
        "## Optional and Union Types"
      ],
      "metadata": {
        "id": "P-ux2kQ58Mx4"
      }
    },
    {
      "cell_type": "markdown",
      "source": [
        "The construct `Optional[str]` is actually a shortcut for `Union[str, None]`"
      ],
      "metadata": {
        "id": "S97eja6v8W4I"
      }
    },
    {
      "cell_type": "code",
      "source": [
        "from typing import Optional\n",
        "\n",
        "def show_count(count: int, signular: str, plural: Optional[str] = None) -> str:\n"
      ],
      "metadata": {
        "id": "lp7rGCIF5_53"
      },
      "execution_count": null,
      "outputs": []
    },
    {
      "cell_type": "markdown",
      "source": [
        "## Generic Collection"
      ],
      "metadata": {
        "id": "F0oFxhd49BC-"
      }
    },
    {
      "cell_type": "code",
      "source": [
        "def tokenize(text: str) -> list[str]:\n",
        "  return text.upper().split()"
      ],
      "metadata": {
        "id": "psG-UEQx9CYF"
      },
      "execution_count": null,
      "outputs": []
    },
    {
      "cell_type": "markdown",
      "source": [
        "## Tuple Types\n",
        "\n",
        "Three ways to annotate tuple types:\n",
        " 1. Tuples as records\n",
        " 2. Tuples as records with named fields\n",
        " 3. Tuples as immutable sequences"
      ],
      "metadata": {
        "id": "JvWJA-dD983z"
      }
    },
    {
      "cell_type": "markdown",
      "source": [
        "1. Tuples as records\n",
        ": use `tuple` built-in and declare the types of the fields within `[]`"
      ],
      "metadata": {
        "id": "HtHUkImf-IKI"
      }
    },
    {
      "cell_type": "code",
      "source": [
        "!pip install geolib"
      ],
      "metadata": {
        "colab": {
          "base_uri": "https://localhost:8080/"
        },
        "id": "ZD24l6sL-eU-",
        "outputId": "493ef034-98c7-4e41-b11c-8474cedad947"
      },
      "execution_count": null,
      "outputs": [
        {
          "output_type": "stream",
          "name": "stdout",
          "text": [
            "Collecting geolib\n",
            "  Downloading geolib-1.0.7-py3-none-any.whl (5.5 kB)\n",
            "Requirement already satisfied: future in /usr/local/lib/python3.10/dist-packages (from geolib) (0.18.3)\n",
            "Installing collected packages: geolib\n",
            "Successfully installed geolib-1.0.7\n"
          ]
        }
      ]
    },
    {
      "cell_type": "code",
      "source": [
        "from geolib import geohash as gh # type: ignore\n",
        "PRECISION = 9\n",
        "\n",
        "def geohash(lat_lon: tuple[float, float]) -> str:\n",
        "  return gh.encode(*lat_lon, PRECISION)"
      ],
      "metadata": {
        "id": "kQN0k6e8-DyG"
      },
      "execution_count": null,
      "outputs": []
    },
    {
      "cell_type": "code",
      "source": [
        "shanghai = 31.2304, 121.4737\n",
        "geohash(shanghai)"
      ],
      "metadata": {
        "colab": {
          "base_uri": "https://localhost:8080/",
          "height": 36
        },
        "id": "myaRN0dZ-c6-",
        "outputId": "f8a68b88-5ae5-4eb3-d6fe-f3c511b36ee4"
      },
      "execution_count": null,
      "outputs": [
        {
          "output_type": "execute_result",
          "data": {
            "text/plain": [
              "'wtw3sjq6q'"
            ],
            "application/vnd.google.colaboratory.intrinsic+json": {
              "type": "string"
            }
          },
          "metadata": {},
          "execution_count": 7
        }
      ]
    },
    {
      "cell_type": "markdown",
      "source": [
        "2. Tuples as records with named fields"
      ],
      "metadata": {
        "id": "SHS-TPAJ-y3d"
      }
    },
    {
      "cell_type": "code",
      "source": [
        "from typing import NamedTuple\n",
        "\n",
        "from geolib import geohash as gh # type: ignore\n",
        "\n",
        "PRECISION = 9\n",
        "\n",
        "# NamedTuple is a factory for `tuple` subclasses\n",
        "# so `Coordinate` is consistent-with tuple[float, float]\n",
        "class Coordinate(NamedTuple):\n",
        "  lat: float\n",
        "  lon: float\n",
        "\n",
        "def geohash(lat_lon: Coordinate) -> str:\n",
        "  return gh.encode(*lat_lon, PRECISION)\n",
        "\n",
        "geohash(shanghai)"
      ],
      "metadata": {
        "id": "qF5NYy-H-nh9"
      },
      "execution_count": null,
      "outputs": []
    },
    {
      "cell_type": "code",
      "source": [
        "!mypy coordinates_named.py"
      ],
      "metadata": {
        "colab": {
          "base_uri": "https://localhost:8080/"
        },
        "id": "RoWz7kWV_Fbf",
        "outputId": "9fa571c5-f8f3-40c9-a93b-00ca93a31088"
      },
      "execution_count": null,
      "outputs": [
        {
          "output_type": "stream",
          "name": "stdout",
          "text": [
            "coordinates_named.py:15: \u001b[1m\u001b[31merror:\u001b[m Argument 1 to \u001b[m\u001b[1m\"geohash\"\u001b[m has incompatible type \u001b[m\u001b[1m\"tuple[float, float]\"\u001b[m; expected \u001b[m\u001b[1m\"Coordinate\"\u001b[m  \u001b[m\u001b[33m[arg-type]\u001b[m\n",
            "\u001b[1m\u001b[31mFound 1 error in 1 file (checked 1 source file)\u001b[m\n"
          ]
        }
      ]
    },
    {
      "cell_type": "code",
      "source": [
        "geohash(shanghai)"
      ],
      "metadata": {
        "colab": {
          "base_uri": "https://localhost:8080/",
          "height": 36
        },
        "id": "YbfQHIfz_Ome",
        "outputId": "0786a8ea-e1d5-40e4-c6ab-492b84e46b28"
      },
      "execution_count": null,
      "outputs": [
        {
          "output_type": "execute_result",
          "data": {
            "text/plain": [
              "'wtw3sjq6q'"
            ],
            "application/vnd.google.colaboratory.intrinsic+json": {
              "type": "string"
            }
          },
          "metadata": {},
          "execution_count": 10
        }
      ]
    },
    {
      "cell_type": "markdown",
      "source": [
        "3. Tuples as immutable Sequences\n",
        "\n",
        "To annotate tuples of unspecified length that are used as immutable lists, you must specify a single type, followed by a comma and ..."
      ],
      "metadata": {
        "id": "1-3r6m-2_vEr"
      }
    },
    {
      "cell_type": "code",
      "source": [
        "# ex:\n",
        "tuple[int, ...] # is a tuple with int items"
      ],
      "metadata": {
        "id": "5_dlI-Ch_dQd"
      },
      "execution_count": null,
      "outputs": []
    },
    {
      "cell_type": "code",
      "source": [
        "from collections.abc import Sequence\n",
        "\n",
        "def columnize(\n",
        "    sequence: Sequence[str], num_columns: int = 0\n",
        ") -> list[tuple[str, ...]]:\n",
        "  if num_columns == 0:\n",
        "    num_columns = round(len(sequence) ** 0.5)\n",
        "  num_rows, remainder = divmod(len(sequence), num_columns)\n",
        "  num_rows += bool(remainder)\n",
        "  return [tuple(sequence[i::num_rows]) for i in range(num_rows)]\n",
        "\n",
        "animals = 'drake fawn heron ibex koala lynx tahr xerus yak zapus'.split()\n",
        "table = columnize(animals)\n",
        "table"
      ],
      "metadata": {
        "colab": {
          "base_uri": "https://localhost:8080/"
        },
        "id": "yEZKnb3cAJod",
        "outputId": "aa735a48-ad42-4887-aa8b-44e24c8b3074"
      },
      "execution_count": null,
      "outputs": [
        {
          "output_type": "execute_result",
          "data": {
            "text/plain": [
              "[('drake', 'koala', 'yak'),\n",
              " ('fawn', 'lynx', 'zapus'),\n",
              " ('heron', 'tahr'),\n",
              " ('ibex', 'xerus')]"
            ]
          },
          "metadata": {},
          "execution_count": 13
        }
      ]
    },
    {
      "cell_type": "code",
      "source": [],
      "metadata": {
        "id": "Y_GJ_2tsAs1G"
      },
      "execution_count": null,
      "outputs": []
    }
  ]
}