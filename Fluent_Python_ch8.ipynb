{
  "nbformat": 4,
  "nbformat_minor": 0,
  "metadata": {
    "colab": {
      "provenance": [],
      "authorship_tag": "ABX9TyPBCg8MIJVMn/87O/irQnsa",
      "include_colab_link": true
    },
    "kernelspec": {
      "name": "python3",
      "display_name": "Python 3"
    },
    "language_info": {
      "name": "python"
    }
  },
  "cells": [
    {
      "cell_type": "markdown",
      "metadata": {
        "id": "view-in-github",
        "colab_type": "text"
      },
      "source": [
        "<a href=\"https://colab.research.google.com/github/present42/PyTorchPractice/blob/main/Fluent_Python_ch8.ipynb\" target=\"_parent\"><img src=\"https://colab.research.google.com/assets/colab-badge.svg\" alt=\"Open In Colab\"/></a>"
      ]
    },
    {
      "cell_type": "markdown",
      "source": [
        "11:34 - 12:09"
      ],
      "metadata": {
        "id": "IgwrhDbpHxXK"
      }
    },
    {
      "cell_type": "code",
      "source": [
        "%load_ext autoreload\n",
        "%autoreload 2"
      ],
      "metadata": {
        "id": "AVTW37muK9TX"
      },
      "execution_count": null,
      "outputs": []
    },
    {
      "cell_type": "markdown",
      "source": [
        "## About Gradaul Typing\n",
        "\n",
        "Properties:\n",
        " 1. Optional\n",
        " 2. Does not catch type erros at runtime\n",
        " 3. Does not enhance performance"
      ],
      "metadata": {
        "id": "GriioFaIH0fZ"
      }
    },
    {
      "cell_type": "code",
      "execution_count": null,
      "metadata": {
        "id": "Pft4k9LsHrzc"
      },
      "outputs": [],
      "source": [
        "def show_count(count, word):\n",
        "  if count == 1:\n",
        "    return f'1 {word}'\n",
        "  count_str = str(count) if count else 'no'\n",
        "  return f'{count_str} {word}s'"
      ]
    },
    {
      "cell_type": "code",
      "source": [
        "show_count(99, 'bird')"
      ],
      "metadata": {
        "colab": {
          "base_uri": "https://localhost:8080/",
          "height": 36
        },
        "id": "g-KT6MySIxFg",
        "outputId": "88d0718f-896a-4c77-ee43-b6ab5265499a"
      },
      "execution_count": null,
      "outputs": [
        {
          "output_type": "execute_result",
          "data": {
            "text/plain": [
              "'99 birds'"
            ],
            "application/vnd.google.colaboratory.intrinsic+json": {
              "type": "string"
            }
          },
          "metadata": {},
          "execution_count": 2
        }
      ]
    },
    {
      "cell_type": "code",
      "source": [
        "show_count(1, 'bird')"
      ],
      "metadata": {
        "colab": {
          "base_uri": "https://localhost:8080/",
          "height": 36
        },
        "id": "ulctKQpTIzD-",
        "outputId": "de48e4a4-8448-40f2-a239-9886d431ae91"
      },
      "execution_count": null,
      "outputs": [
        {
          "output_type": "execute_result",
          "data": {
            "text/plain": [
              "'1 bird'"
            ],
            "application/vnd.google.colaboratory.intrinsic+json": {
              "type": "string"
            }
          },
          "metadata": {},
          "execution_count": 3
        }
      ]
    },
    {
      "cell_type": "code",
      "source": [
        "show_count(0, 'bird')"
      ],
      "metadata": {
        "colab": {
          "base_uri": "https://localhost:8080/",
          "height": 36
        },
        "id": "RksoqL7rI0Iu",
        "outputId": "8e06230c-4386-47ca-de10-4ab23b5733e7"
      },
      "execution_count": null,
      "outputs": [
        {
          "output_type": "execute_result",
          "data": {
            "text/plain": [
              "'no birds'"
            ],
            "application/vnd.google.colaboratory.intrinsic+json": {
              "type": "string"
            }
          },
          "metadata": {},
          "execution_count": 4
        }
      ]
    },
    {
      "cell_type": "code",
      "source": [
        "!pip install mypy"
      ],
      "metadata": {
        "colab": {
          "base_uri": "https://localhost:8080/"
        },
        "id": "AJsHoWvgI2Q-",
        "outputId": "31e1db54-034a-4f16-c351-076ebced8256"
      },
      "execution_count": null,
      "outputs": [
        {
          "output_type": "stream",
          "name": "stdout",
          "text": [
            "Collecting mypy\n",
            "  Downloading mypy-1.9.0-cp310-cp310-manylinux_2_17_x86_64.manylinux2014_x86_64.whl (12.5 MB)\n",
            "\u001b[?25l     \u001b[90m━━━━━━━━━━━━━━━━━━━━━━━━━━━━━━━━━━━━━━━━\u001b[0m \u001b[32m0.0/12.5 MB\u001b[0m \u001b[31m?\u001b[0m eta \u001b[36m-:--:--\u001b[0m\r\u001b[2K     \u001b[90m━━━━━━━━━━━━━━━━━━━━━━━━━━━━━━━━━━━━━━━━\u001b[0m \u001b[32m0.1/12.5 MB\u001b[0m \u001b[31m3.3 MB/s\u001b[0m eta \u001b[36m0:00:04\u001b[0m\r\u001b[2K     \u001b[91m━━━━━━━━━━━━\u001b[0m\u001b[91m╸\u001b[0m\u001b[90m━━━━━━━━━━━━━━━━━━━━━━━━━━━\u001b[0m \u001b[32m4.0/12.5 MB\u001b[0m \u001b[31m58.4 MB/s\u001b[0m eta \u001b[36m0:00:01\u001b[0m\r\u001b[2K     \u001b[91m━━━━━━━━━━━━━━━━━━━━━━━━━━━━━━━\u001b[0m\u001b[91m╸\u001b[0m\u001b[90m━━━━━━━━\u001b[0m \u001b[32m10.0/12.5 MB\u001b[0m \u001b[31m95.1 MB/s\u001b[0m eta \u001b[36m0:00:01\u001b[0m\r\u001b[2K     \u001b[91m━━━━━━━━━━━━━━━━━━━━━━━━━━━━━━━━━━━━━━━\u001b[0m\u001b[91m╸\u001b[0m \u001b[32m12.5/12.5 MB\u001b[0m \u001b[31m168.9 MB/s\u001b[0m eta \u001b[36m0:00:01\u001b[0m\r\u001b[2K     \u001b[91m━━━━━━━━━━━━━━━━━━━━━━━━━━━━━━━━━━━━━━━\u001b[0m\u001b[91m╸\u001b[0m \u001b[32m12.5/12.5 MB\u001b[0m \u001b[31m168.9 MB/s\u001b[0m eta \u001b[36m0:00:01\u001b[0m\r\u001b[2K     \u001b[90m━━━━━━━━━━━━━━━━━━━━━━━━━━━━━━━━━━━━━━━━\u001b[0m \u001b[32m12.5/12.5 MB\u001b[0m \u001b[31m82.4 MB/s\u001b[0m eta \u001b[36m0:00:00\u001b[0m\n",
            "\u001b[?25hRequirement already satisfied: typing-extensions>=4.1.0 in /usr/local/lib/python3.10/dist-packages (from mypy) (4.11.0)\n",
            "Collecting mypy-extensions>=1.0.0 (from mypy)\n",
            "  Downloading mypy_extensions-1.0.0-py3-none-any.whl (4.7 kB)\n",
            "Requirement already satisfied: tomli>=1.1.0 in /usr/local/lib/python3.10/dist-packages (from mypy) (2.0.1)\n",
            "Installing collected packages: mypy-extensions, mypy\n",
            "Successfully installed mypy-1.9.0 mypy-extensions-1.0.0\n"
          ]
        }
      ]
    },
    {
      "cell_type": "code",
      "source": [
        "!mypy messages.py"
      ],
      "metadata": {
        "colab": {
          "base_uri": "https://localhost:8080/"
        },
        "id": "2IkJCS8OI5_e",
        "outputId": "e98d82c8-b563-475e-8a92-d8b07feed7e2"
      },
      "execution_count": null,
      "outputs": [
        {
          "output_type": "stream",
          "name": "stdout",
          "text": [
            "\u001b[1m\u001b[32mSuccess: no issues found in 1 source file\u001b[m\n"
          ]
        }
      ]
    },
    {
      "cell_type": "code",
      "source": [
        "from pytest import mark\n",
        "\n",
        "from messages import show_count\n",
        "\n",
        "@mark.parametrize('qty, expected', [\n",
        "    (1, '1 part'),\n",
        "    (2, '2 parts'),\n",
        "])\n",
        "def test_show_count(qty, expected):\n",
        "  got = show_count(qty, 'part')\n",
        "  assert got == expected\n",
        "\n",
        "def test_show_count_zero():\n",
        "  got = show_count(0, 'part')\n",
        "  assert got == 'no parts'"
      ],
      "metadata": {
        "id": "j7yqFghQJEnu"
      },
      "execution_count": null,
      "outputs": []
    },
    {
      "cell_type": "code",
      "source": [
        "!mypy --disallow-untyped-defs messages_test.py"
      ],
      "metadata": {
        "colab": {
          "base_uri": "https://localhost:8080/"
        },
        "id": "wugZLFa7Jin-",
        "outputId": "9cdba69b-2716-46fb-be01-e7c2804931bf"
      },
      "execution_count": null,
      "outputs": [
        {
          "output_type": "stream",
          "name": "stdout",
          "text": [
            "messages.py:1: \u001b[1m\u001b[31merror:\u001b[m Function is missing a type annotation  \u001b[m\u001b[33m[no-untyped-def]\u001b[m\n",
            "messages_test.py:9: \u001b[1m\u001b[31merror:\u001b[m Function is missing a type annotation  \u001b[m\u001b[33m[no-untyped-def]\u001b[m\n",
            "messages_test.py:13: \u001b[1m\u001b[31merror:\u001b[m Function is missing a return type annotation  \u001b[m\u001b[33m[no-untyped-def]\u001b[m\n",
            "messages_test.py:13: \u001b[34mnote:\u001b[m Use \u001b[m\u001b[1m\"-> None\"\u001b[m if function does not return a value\u001b[m\n",
            "\u001b[1m\u001b[31mFound 3 errors in 2 files (checked 1 source file)\u001b[m\n"
          ]
        }
      ]
    },
    {
      "cell_type": "code",
      "source": [
        "!mypy messages_test.py"
      ],
      "metadata": {
        "colab": {
          "base_uri": "https://localhost:8080/"
        },
        "id": "NE61VA8zJuIt",
        "outputId": "1dc654a5-7f70-44ed-a13d-89fa732cb949"
      },
      "execution_count": null,
      "outputs": [
        {
          "output_type": "stream",
          "name": "stdout",
          "text": [
            "\u001b[1m\u001b[32mSuccess: no issues found in 1 source file\u001b[m\n"
          ]
        }
      ]
    },
    {
      "cell_type": "code",
      "source": [
        "from typing import Optional\n",
        "\n",
        "def show_count(count: int, singular: str, plural: Optional[str] = None)"
      ],
      "metadata": {
        "id": "oEAKa7S7Kaj2"
      },
      "execution_count": null,
      "outputs": []
    },
    {
      "cell_type": "markdown",
      "source": [
        "## Types Are Defined by Supported Operations"
      ],
      "metadata": {
        "id": "bHjI2TnhMdgZ"
      }
    },
    {
      "cell_type": "code",
      "source": [
        "from collections import abc\n",
        "def double(x: abc.Sequence):\n",
        "  return x * 2"
      ],
      "metadata": {
        "id": "z3gDs4GBMfuv"
      },
      "execution_count": null,
      "outputs": []
    },
    {
      "cell_type": "markdown",
      "source": [
        "A type checker will reject that code (`double(x)` wher `x` has type `str`, `tuple`, ..., `array`) because the type checker only cares about what is explicitly declared, and `abc.Sequence` has no `__mul__`."
      ],
      "metadata": {
        "id": "wJrYryApM26-"
      }
    },
    {
      "cell_type": "markdown",
      "source": [
        "### Duck Typing\n",
        " - The view adopted by SmallTalk as well as Python, Javascript, and Ruby. In practice, it doesn't matter what the declared type of the object is, only what operations it actually supports. If I can invoke `birdie.quack()`, then the `birdie` is a duck in this context. By definition, duck typing is only enforced at runtime.\n",
        "\n",
        "### Nominal Typing\n",
        " - Adopted by C++, Java and C#, supported by annotated Python. Objects and vars have types but objects only exist at runtime and the type checker only cares about the source code where variables are annotated with type hints."
      ],
      "metadata": {
        "id": "ES6x_EweNLLI"
      }
    },
    {
      "cell_type": "code",
      "source": [
        "!mypy birds.py"
      ],
      "metadata": {
        "colab": {
          "base_uri": "https://localhost:8080/"
        },
        "id": "2YZpYypVM17P",
        "outputId": "95761a06-bfa8-4b21-9db1-fdb2f7328324"
      },
      "execution_count": null,
      "outputs": [
        {
          "output_type": "stream",
          "name": "stdout",
          "text": [
            "birds.py:15: \u001b[1m\u001b[31merror:\u001b[m \u001b[m\u001b[1m\"Bird\"\u001b[m has no attribute \u001b[m\u001b[1m\"quack\"\u001b[m  \u001b[m\u001b[33m[attr-defined]\u001b[m\n",
            "\u001b[1m\u001b[31mFound 1 error in 1 file (checked 1 source file)\u001b[m\n"
          ]
        }
      ]
    },
    {
      "cell_type": "code",
      "source": [
        "# daffy.py\n",
        "from birds import *\n",
        "\n",
        "daffy = Duck()\n",
        "alert(daffy)\n",
        "alert_duck(daffy)\n",
        "alert_bird(daffy)"
      ],
      "metadata": {
        "id": "PHd625hpOLN3"
      },
      "execution_count": null,
      "outputs": []
    },
    {
      "cell_type": "code",
      "source": [
        "!mypy daffy.py"
      ],
      "metadata": {
        "colab": {
          "base_uri": "https://localhost:8080/"
        },
        "id": "moPR34aeObpp",
        "outputId": "e6efa82f-b280-4b6b-87d3-57f57e4fecbc"
      },
      "execution_count": null,
      "outputs": [
        {
          "output_type": "stream",
          "name": "stdout",
          "text": [
            "birds.py:15: \u001b[1m\u001b[31merror:\u001b[m \u001b[m\u001b[1m\"Bird\"\u001b[m has no attribute \u001b[m\u001b[1m\"quack\"\u001b[m  \u001b[m\u001b[33m[attr-defined]\u001b[m\n",
            "\u001b[1m\u001b[31mFound 1 error in 1 file (checked 1 source file)\u001b[m\n"
          ]
        }
      ]
    },
    {
      "cell_type": "code",
      "source": [
        "!python daffy.py"
      ],
      "metadata": {
        "colab": {
          "base_uri": "https://localhost:8080/"
        },
        "id": "DQ-cbnHeOdmn",
        "outputId": "28446ecc-3c20-46a8-cf92-9edbbc533e97"
      },
      "execution_count": null,
      "outputs": [
        {
          "output_type": "stream",
          "name": "stdout",
          "text": [
            "Quack!\n",
            "Quack!\n",
            "Quack!\n"
          ]
        }
      ]
    },
    {
      "cell_type": "code",
      "source": [
        "# woody.py\n",
        "\n",
        "from birds import *\n",
        "\n",
        "woody = Bird()\n",
        "alert(woody)\n",
        "alert_duck(woody)\n",
        "alert_bird(woody)"
      ],
      "metadata": {
        "id": "8OX1TZKhOgIP"
      },
      "execution_count": null,
      "outputs": []
    },
    {
      "cell_type": "code",
      "source": [
        "!mypy woody.py"
      ],
      "metadata": {
        "colab": {
          "base_uri": "https://localhost:8080/"
        },
        "id": "YkkslSqWOwNH",
        "outputId": "bb4684ff-d334-4712-dcdd-829d12db9498"
      },
      "execution_count": null,
      "outputs": [
        {
          "output_type": "stream",
          "name": "stdout",
          "text": [
            "birds.py:15: \u001b[1m\u001b[31merror:\u001b[m \u001b[m\u001b[1m\"Bird\"\u001b[m has no attribute \u001b[m\u001b[1m\"quack\"\u001b[m  \u001b[m\u001b[33m[attr-defined]\u001b[m\n",
            "woody.py:7: \u001b[1m\u001b[31merror:\u001b[m Argument 1 to \u001b[m\u001b[1m\"alert_duck\"\u001b[m has incompatible type \u001b[m\u001b[1m\"Bird\"\u001b[m; expected \u001b[m\u001b[1m\"Duck\"\u001b[m  \u001b[m\u001b[33m[arg-type]\u001b[m\n",
            "\u001b[1m\u001b[31mFound 2 errors in 2 files (checked 1 source file)\u001b[m\n"
          ]
        }
      ]
    },
    {
      "cell_type": "code",
      "source": [
        "!python woody.py"
      ],
      "metadata": {
        "colab": {
          "base_uri": "https://localhost:8080/"
        },
        "id": "j07013SEOxZf",
        "outputId": "7c0728f3-fd0b-48fb-a4c2-73e72c376be8"
      },
      "execution_count": null,
      "outputs": [
        {
          "output_type": "stream",
          "name": "stdout",
          "text": [
            "Traceback (most recent call last):\n",
            "  File \"/content/woody.py\", line 6, in <module>\n",
            "    alert(woody)\n",
            "  File \"/content/birds.py\", line 9, in alert\n",
            "    birdie.quack()\n",
            "AttributeError: 'Bird' object has no attribute 'quack'\n"
          ]
        }
      ]
    },
    {
      "cell_type": "markdown",
      "source": [
        "9:48 -"
      ],
      "metadata": {
        "id": "Zp2kj54Y5BdH"
      }
    },
    {
      "cell_type": "code",
      "source": [
        "!pip install mypy"
      ],
      "metadata": {
        "colab": {
          "base_uri": "https://localhost:8080/"
        },
        "id": "nWVUKzaK50mT",
        "outputId": "cf28ee73-bc00-4d0c-c908-43c0ab6a1595"
      },
      "execution_count": null,
      "outputs": [
        {
          "output_type": "stream",
          "name": "stdout",
          "text": [
            "Collecting mypy\n",
            "  Downloading mypy-1.9.0-cp310-cp310-manylinux_2_17_x86_64.manylinux2014_x86_64.whl (12.5 MB)\n",
            "\u001b[2K     \u001b[90m━━━━━━━━━━━━━━━━━━━━━━━━━━━━━━━━━━━━━━━━\u001b[0m \u001b[32m12.5/12.5 MB\u001b[0m \u001b[31m72.0 MB/s\u001b[0m eta \u001b[36m0:00:00\u001b[0m\n",
            "\u001b[?25hRequirement already satisfied: typing-extensions>=4.1.0 in /usr/local/lib/python3.10/dist-packages (from mypy) (4.11.0)\n",
            "Collecting mypy-extensions>=1.0.0 (from mypy)\n",
            "  Downloading mypy_extensions-1.0.0-py3-none-any.whl (4.7 kB)\n",
            "Requirement already satisfied: tomli>=1.1.0 in /usr/local/lib/python3.10/dist-packages (from mypy) (2.0.1)\n",
            "Installing collected packages: mypy-extensions, mypy\n",
            "Successfully installed mypy-1.9.0 mypy-extensions-1.0.0\n"
          ]
        }
      ]
    },
    {
      "cell_type": "code",
      "source": [
        "!mypy double_object.py"
      ],
      "metadata": {
        "colab": {
          "base_uri": "https://localhost:8080/"
        },
        "id": "tWmGZw-o59qH",
        "outputId": "df35d705-237a-4177-d728-d97b4c185bbf"
      },
      "execution_count": null,
      "outputs": [
        {
          "output_type": "stream",
          "name": "stdout",
          "text": [
            "\u001b[1m\u001b[32mSuccess: no issues found in 1 source file\u001b[m\n"
          ]
        }
      ]
    },
    {
      "cell_type": "markdown",
      "source": [
        "* Traditional OOP\n",
        "  - Liskov Property: If an object of type `T2` substitutes an object of type `T1` and the program still behaves correctly, then `T2` is subtype of `T1`.\n",
        "* Gradual Type System\n",
        "  - consistent-with relationship\n",
        "  - which applies wherever subtype-of applies, with special provision for type `Any`\n",
        "\n",
        "  - Rules\n",
        "    1. Given `T1` and a subtype `T2`, then `T2` is consistent with `T1` (Liskov substitution)\n",
        "    2. Every type is consistent with `Any`: you can pass objects of every type to an argument declared of type `Any`.\n",
        "    3. `Any` is consistent-with every type: you can always pass an object of type `Any` where an argument of another type is expected."
      ],
      "metadata": {
        "id": "Ee_qgTvf6n_f"
      }
    },
    {
      "cell_type": "markdown",
      "source": [
        "## Optional and Union Types"
      ],
      "metadata": {
        "id": "P-ux2kQ58Mx4"
      }
    },
    {
      "cell_type": "markdown",
      "source": [
        "The construct `Optional[str]` is actually a shortcut for `Union[str, None]`"
      ],
      "metadata": {
        "id": "S97eja6v8W4I"
      }
    },
    {
      "cell_type": "code",
      "source": [
        "from typing import Optional\n",
        "\n",
        "def show_count(count: int, signular: str, plural: Optional[str] = None) -> str:\n"
      ],
      "metadata": {
        "id": "lp7rGCIF5_53"
      },
      "execution_count": null,
      "outputs": []
    },
    {
      "cell_type": "markdown",
      "source": [
        "## Generic Collection"
      ],
      "metadata": {
        "id": "F0oFxhd49BC-"
      }
    },
    {
      "cell_type": "code",
      "source": [
        "def tokenize(text: str) -> list[str]:\n",
        "  return text.upper().split()"
      ],
      "metadata": {
        "id": "psG-UEQx9CYF"
      },
      "execution_count": null,
      "outputs": []
    },
    {
      "cell_type": "markdown",
      "source": [
        "## Tuple Types\n",
        "\n",
        "Three ways to annotate tuple types:\n",
        " 1. Tuples as records\n",
        " 2. Tuples as records with named fields\n",
        " 3. Tuples as immutable sequences"
      ],
      "metadata": {
        "id": "JvWJA-dD983z"
      }
    },
    {
      "cell_type": "markdown",
      "source": [
        "1. Tuples as records\n",
        ": use `tuple` built-in and declare the types of the fields within `[]`"
      ],
      "metadata": {
        "id": "HtHUkImf-IKI"
      }
    },
    {
      "cell_type": "code",
      "source": [
        "!pip install geolib"
      ],
      "metadata": {
        "colab": {
          "base_uri": "https://localhost:8080/"
        },
        "id": "ZD24l6sL-eU-",
        "outputId": "493ef034-98c7-4e41-b11c-8474cedad947"
      },
      "execution_count": null,
      "outputs": [
        {
          "output_type": "stream",
          "name": "stdout",
          "text": [
            "Collecting geolib\n",
            "  Downloading geolib-1.0.7-py3-none-any.whl (5.5 kB)\n",
            "Requirement already satisfied: future in /usr/local/lib/python3.10/dist-packages (from geolib) (0.18.3)\n",
            "Installing collected packages: geolib\n",
            "Successfully installed geolib-1.0.7\n"
          ]
        }
      ]
    },
    {
      "cell_type": "code",
      "source": [
        "from geolib import geohash as gh # type: ignore\n",
        "PRECISION = 9\n",
        "\n",
        "def geohash(lat_lon: tuple[float, float]) -> str:\n",
        "  return gh.encode(*lat_lon, PRECISION)"
      ],
      "metadata": {
        "id": "kQN0k6e8-DyG"
      },
      "execution_count": null,
      "outputs": []
    },
    {
      "cell_type": "code",
      "source": [
        "shanghai = 31.2304, 121.4737\n",
        "geohash(shanghai)"
      ],
      "metadata": {
        "colab": {
          "base_uri": "https://localhost:8080/",
          "height": 36
        },
        "id": "myaRN0dZ-c6-",
        "outputId": "f8a68b88-5ae5-4eb3-d6fe-f3c511b36ee4"
      },
      "execution_count": null,
      "outputs": [
        {
          "output_type": "execute_result",
          "data": {
            "text/plain": [
              "'wtw3sjq6q'"
            ],
            "application/vnd.google.colaboratory.intrinsic+json": {
              "type": "string"
            }
          },
          "metadata": {},
          "execution_count": 7
        }
      ]
    },
    {
      "cell_type": "markdown",
      "source": [
        "2. Tuples as records with named fields"
      ],
      "metadata": {
        "id": "SHS-TPAJ-y3d"
      }
    },
    {
      "cell_type": "code",
      "source": [
        "from typing import NamedTuple\n",
        "\n",
        "from geolib import geohash as gh # type: ignore\n",
        "\n",
        "PRECISION = 9\n",
        "\n",
        "# NamedTuple is a factory for `tuple` subclasses\n",
        "# so `Coordinate` is consistent-with tuple[float, float]\n",
        "class Coordinate(NamedTuple):\n",
        "  lat: float\n",
        "  lon: float\n",
        "\n",
        "def geohash(lat_lon: Coordinate) -> str:\n",
        "  return gh.encode(*lat_lon, PRECISION)\n",
        "\n",
        "geohash(shanghai)"
      ],
      "metadata": {
        "id": "qF5NYy-H-nh9"
      },
      "execution_count": null,
      "outputs": []
    },
    {
      "cell_type": "code",
      "source": [
        "!mypy coordinates_named.py"
      ],
      "metadata": {
        "colab": {
          "base_uri": "https://localhost:8080/"
        },
        "id": "RoWz7kWV_Fbf",
        "outputId": "9fa571c5-f8f3-40c9-a93b-00ca93a31088"
      },
      "execution_count": null,
      "outputs": [
        {
          "output_type": "stream",
          "name": "stdout",
          "text": [
            "coordinates_named.py:15: \u001b[1m\u001b[31merror:\u001b[m Argument 1 to \u001b[m\u001b[1m\"geohash\"\u001b[m has incompatible type \u001b[m\u001b[1m\"tuple[float, float]\"\u001b[m; expected \u001b[m\u001b[1m\"Coordinate\"\u001b[m  \u001b[m\u001b[33m[arg-type]\u001b[m\n",
            "\u001b[1m\u001b[31mFound 1 error in 1 file (checked 1 source file)\u001b[m\n"
          ]
        }
      ]
    },
    {
      "cell_type": "code",
      "source": [
        "geohash(shanghai)"
      ],
      "metadata": {
        "colab": {
          "base_uri": "https://localhost:8080/",
          "height": 36
        },
        "id": "YbfQHIfz_Ome",
        "outputId": "0786a8ea-e1d5-40e4-c6ab-492b84e46b28"
      },
      "execution_count": null,
      "outputs": [
        {
          "output_type": "execute_result",
          "data": {
            "text/plain": [
              "'wtw3sjq6q'"
            ],
            "application/vnd.google.colaboratory.intrinsic+json": {
              "type": "string"
            }
          },
          "metadata": {},
          "execution_count": 10
        }
      ]
    },
    {
      "cell_type": "markdown",
      "source": [
        "3. Tuples as immutable Sequences\n",
        "\n",
        "To annotate tuples of unspecified length that are used as immutable lists, you must specify a single type, followed by a comma and ..."
      ],
      "metadata": {
        "id": "1-3r6m-2_vEr"
      }
    },
    {
      "cell_type": "code",
      "source": [
        "# ex:\n",
        "tuple[int, ...] # is a tuple with int items"
      ],
      "metadata": {
        "id": "5_dlI-Ch_dQd"
      },
      "execution_count": null,
      "outputs": []
    },
    {
      "cell_type": "code",
      "source": [
        "from collections.abc import Sequence\n",
        "\n",
        "def columnize(\n",
        "    sequence: Sequence[str], num_columns: int = 0\n",
        ") -> list[tuple[str, ...]]:\n",
        "  if num_columns == 0:\n",
        "    num_columns = round(len(sequence) ** 0.5)\n",
        "  num_rows, remainder = divmod(len(sequence), num_columns)\n",
        "  num_rows += bool(remainder)\n",
        "  return [tuple(sequence[i::num_rows]) for i in range(num_rows)]\n",
        "\n",
        "animals = 'drake fawn heron ibex koala lynx tahr xerus yak zapus'.split()\n",
        "table = columnize(animals)\n",
        "table"
      ],
      "metadata": {
        "colab": {
          "base_uri": "https://localhost:8080/"
        },
        "id": "yEZKnb3cAJod",
        "outputId": "aa735a48-ad42-4887-aa8b-44e24c8b3074"
      },
      "execution_count": null,
      "outputs": [
        {
          "output_type": "execute_result",
          "data": {
            "text/plain": [
              "[('drake', 'koala', 'yak'),\n",
              " ('fawn', 'lynx', 'zapus'),\n",
              " ('heron', 'tahr'),\n",
              " ('ibex', 'xerus')]"
            ]
          },
          "metadata": {},
          "execution_count": 13
        }
      ]
    },
    {
      "cell_type": "markdown",
      "source": [
        "## Generic Mapping"
      ],
      "metadata": {
        "id": "FxB7_XsfFumf"
      }
    },
    {
      "cell_type": "markdown",
      "source": [],
      "metadata": {
        "id": "zus-3_aEF7b7"
      }
    },
    {
      "cell_type": "markdown",
      "source": [
        "Generic mapping types are annotated as `MappingType[KeyType, ValueType]`"
      ],
      "metadata": {
        "id": "yEpB5CKoF2wy"
      }
    },
    {
      "cell_type": "code",
      "source": [
        "index = name_index(32, 65)"
      ],
      "metadata": {
        "id": "Y_GJ_2tsAs1G",
        "colab": {
          "base_uri": "https://localhost:8080/",
          "height": 149
        },
        "outputId": "3805c3fc-1134-4cb7-9490-c1a394963c87"
      },
      "execution_count": null,
      "outputs": [
        {
          "output_type": "error",
          "ename": "NameError",
          "evalue": "name 'name_index' is not defined",
          "traceback": [
            "\u001b[0;31m---------------------------------------------------------------------------\u001b[0m",
            "\u001b[0;31mNameError\u001b[0m                                 Traceback (most recent call last)",
            "\u001b[0;32m<ipython-input-1-1e3d518f69dd>\u001b[0m in \u001b[0;36m<cell line: 1>\u001b[0;34m()\u001b[0m\n\u001b[0;32m----> 1\u001b[0;31m \u001b[0mindex\u001b[0m \u001b[0;34m=\u001b[0m \u001b[0mname_index\u001b[0m\u001b[0;34m(\u001b[0m\u001b[0;36m32\u001b[0m\u001b[0;34m,\u001b[0m \u001b[0;36m65\u001b[0m\u001b[0;34m)\u001b[0m\u001b[0;34m\u001b[0m\u001b[0;34m\u001b[0m\u001b[0m\n\u001b[0m",
            "\u001b[0;31mNameError\u001b[0m: name 'name_index' is not defined"
          ]
        }
      ]
    },
    {
      "cell_type": "code",
      "source": [
        "import sys\n",
        "import re\n",
        "import unicodedata\n",
        "from collections.abc import Iterator\n",
        "\n",
        "RE_WORD = re.compile(r'\\w+')\n",
        "STOP_CODE = sys.maxunicode + 1\n",
        "\n",
        "# tokenize is a generator function (will be dealt in chapter 17)\n",
        "def tokenize(text: str) -> Iterator[str]:\n",
        "  for match in RE_WORD.finditer(text):\n",
        "    yield match.group().upper()\n",
        "\n",
        "def name_index(start: int = 32, end: int = STOP_CODE) -> dict[str, set[str]]:\n",
        "  index: dict[str, set[str]] = {}\n",
        "  for char in (chr(i) for i in range(start, end)):\n",
        "    # walrus operator / it assigns the result of the unicodedata.name() call to\n",
        "    # name and the whole expression evaluates to that result\n",
        "    if name := unicodedata.name(char, ''):\n",
        "      for word in tokenize(name):\n",
        "        index.setdefault(word, set()).add(char)\n",
        "  return index"
      ],
      "metadata": {
        "id": "VxlEsKLCGCkm"
      },
      "execution_count": null,
      "outputs": []
    },
    {
      "cell_type": "code",
      "source": [
        "if name := unicodedata.name('&', ''):\n",
        "  print(name)"
      ],
      "metadata": {
        "colab": {
          "base_uri": "https://localhost:8080/"
        },
        "id": "hKGYXeGoG77J",
        "outputId": "e47190da-38fe-4361-e34e-1ea06f5d5afa"
      },
      "execution_count": null,
      "outputs": [
        {
          "output_type": "stream",
          "name": "stdout",
          "text": [
            "AMPERSAND\n"
          ]
        }
      ]
    },
    {
      "cell_type": "markdown",
      "source": [
        "STOP_CODE"
      ],
      "metadata": {
        "id": "x1kZHMU99Y6E"
      }
    },
    {
      "cell_type": "code",
      "source": [
        "index = name_index(32, 65)"
      ],
      "metadata": {
        "id": "6upTxUhcHbgb"
      },
      "execution_count": null,
      "outputs": []
    },
    {
      "cell_type": "code",
      "source": [
        "index['SIGN']"
      ],
      "metadata": {
        "colab": {
          "base_uri": "https://localhost:8080/"
        },
        "id": "68WCxdW19mGq",
        "outputId": "dee467ef-47cf-4c78-c449-fcb58ef4fa67"
      },
      "execution_count": null,
      "outputs": [
        {
          "output_type": "execute_result",
          "data": {
            "text/plain": [
              "{'#', '$', '%', '+', '<', '=', '>'}"
            ]
          },
          "metadata": {},
          "execution_count": 4
        }
      ]
    },
    {
      "cell_type": "code",
      "source": [
        "index['DIGIT']"
      ],
      "metadata": {
        "colab": {
          "base_uri": "https://localhost:8080/"
        },
        "id": "jFdUVl9c9sCJ",
        "outputId": "ef4ab99e-9358-4b8e-ff3b-c5d4c1f57218"
      },
      "execution_count": null,
      "outputs": [
        {
          "output_type": "execute_result",
          "data": {
            "text/plain": [
              "{'0', '1', '2', '3', '4', '5', '6', '7', '8', '9'}"
            ]
          },
          "metadata": {},
          "execution_count": 5
        }
      ]
    },
    {
      "cell_type": "markdown",
      "source": [
        "## Abstract Base Classes"
      ],
      "metadata": {
        "id": "5cHOXchS9-Yh"
      }
    },
    {
      "cell_type": "markdown",
      "source": [
        "Rule of thumb: Be liberal in what you accpet (function argument) and be conservative in what you send (return type)"
      ],
      "metadata": {
        "id": "cyuhnWuc-hG2"
      }
    },
    {
      "cell_type": "code",
      "source": [
        "from collections.abc import Mapping\n",
        "\n",
        "# (1)\n",
        "# def name2hex(name: str, color_map: Mapping[str, int]) -> str:\n",
        "\n",
        "# (2)\n",
        "# def name2hex(name: str, color_map: dict[str, int]) -> str:\n",
        "# cannot accept UserDict (because UserDict and dict are sibblings)"
      ],
      "metadata": {
        "id": "evfhcflh94pz"
      },
      "execution_count": null,
      "outputs": []
    },
    {
      "cell_type": "markdown",
      "source": [
        "The `numbers` package defines the so-called *numeric tower*.\n",
        "\n",
        "* `Number`\n",
        "* `Complex`\n",
        "* `Real`\n",
        "* `Rational`\n",
        "* `Integer`"
      ],
      "metadata": {
        "id": "Eb07SfiQ-8WM"
      }
    },
    {
      "cell_type": "markdown",
      "source": [
        "Those ABCs work perfectly well for runtime type checking, but they are not supported for static type checking."
      ],
      "metadata": {
        "id": "wdQvvf3m_Ghk"
      }
    },
    {
      "cell_type": "markdown",
      "source": [
        "## Iterable\n",
        "\n",
        "The `typing.List` documentation recommends `Sequence` and `Iterable` for function parameter type hints."
      ],
      "metadata": {
        "id": "xvTf8jpk_UnT"
      }
    },
    {
      "cell_type": "code",
      "source": [
        "# ex\n",
        "# def fsum(__seq: Iterable[float]) -> float:"
      ],
      "metadata": {
        "id": "asT6-HOe-5Rc"
      },
      "execution_count": null,
      "outputs": []
    },
    {
      "cell_type": "code",
      "source": [
        "# replacer.py\n",
        "\n",
        "from collections.abc import Iterable\n",
        "\n",
        "FromTo = tuple[str, str] # type alias\n",
        "\n",
        "def zip_replace(text: str, changes: Iterable[FromTo]) -> str:\n",
        "  for from_, to in changes:\n",
        "    text = text.replace(from_, to)\n",
        "  return text"
      ],
      "metadata": {
        "id": "MxigHxvw_4Xg"
      },
      "execution_count": null,
      "outputs": []
    },
    {
      "cell_type": "code",
      "source": [
        "l33t = [('a', '4'), ('e', '3'), ('i', '1'), ('o', '0')]\n",
        "text = 'mad skilled noob powned leet'\n",
        "# from replacer import zip_replace\n",
        "zip_replace(text, l33t)"
      ],
      "metadata": {
        "colab": {
          "base_uri": "https://localhost:8080/",
          "height": 36
        },
        "id": "7Pb949-HAJox",
        "outputId": "44d48455-181b-4be7-8c07-0c0fed704819"
      },
      "execution_count": null,
      "outputs": [
        {
          "output_type": "execute_result",
          "data": {
            "text/plain": [
              "'m4d sk1ll3d n00b p0wn3d l33t'"
            ],
            "application/vnd.google.colaboratory.intrinsic+json": {
              "type": "string"
            }
          },
          "metadata": {},
          "execution_count": 9
        }
      ]
    },
    {
      "cell_type": "markdown",
      "source": [
        "## abc.Iterable vs. abc.Sequence"
      ],
      "metadata": {
        "id": "MKg2CfB2ARXI"
      }
    },
    {
      "cell_type": "markdown",
      "source": [
        "It is fairly common in modern Python to offer functions that accept an `Iterable` input even if they must process it completely to return a result. That gives the caller the option of providing input data as a generator instead of a prebuilt sequence, potentially saving a lot of memory if the number of input items is large."
      ],
      "metadata": {
        "id": "EPsBOhCuAdYQ"
      }
    },
    {
      "cell_type": "markdown",
      "source": [
        "## Parametrized Generics and TypeVar"
      ],
      "metadata": {
        "id": "DDa0fdBBAxQ2"
      }
    },
    {
      "cell_type": "markdown",
      "source": [
        "generic type written as `list[T]` where `T` is a type variable that will be bound to a specific type with each usage."
      ],
      "metadata": {
        "id": "m97wDPJwA0x2"
      }
    },
    {
      "cell_type": "code",
      "source": [
        "# sample.py\n",
        "from collections.abc import Sequence\n",
        "from random import shuffle\n",
        "from typing import TypeVar\n",
        "\n",
        "T = TypeVar('T') # why it is required\n",
        "# Ans: make the [] work on classes like Sequence[T]\n",
        "#      but the name of the T variable inside the bracket must be defined somewhere\n",
        "\n",
        "def sample(population: Sequence[T], size: int) -> list[T]:\n",
        "  if size < 1:\n",
        "    raise ValueError('size must be >= 1')\n",
        "\n",
        "  result = list(population)\n",
        "  shuffle(result)\n",
        "  return result[:size]"
      ],
      "metadata": {
        "id": "MWbJeUJxANOQ"
      },
      "execution_count": null,
      "outputs": []
    },
    {
      "cell_type": "code",
      "source": [
        "# mode_float.py\n",
        "from collections import Counter\n",
        "from collections.abc import Iterable\n",
        "from decimal import Decimal\n",
        "from fractions import Fraction\n",
        "\n",
        "NumberT = TypeVar('NumberT', float, Decimal, Fraction)\n",
        "def mode(data: Iterable[NumberT]) -> NumberT:\n",
        "  pairs = Counter(data).most_common(1)\n",
        "  if len(pairs) == 0:\n",
        "    raise ValueError('no mode for empy data')\n",
        "  return pairs[0][0]"
      ],
      "metadata": {
        "id": "Js8AnChDB5HT"
      },
      "execution_count": null,
      "outputs": []
    },
    {
      "cell_type": "code",
      "source": [
        "mode([1, 1, 2, 3, 3, 3, 3, 3, 4])"
      ],
      "metadata": {
        "colab": {
          "base_uri": "https://localhost:8080/"
        },
        "id": "ObezeN8pCGcR",
        "outputId": "4629ca25-fc5a-467f-8961-2c6924f13755"
      },
      "execution_count": null,
      "outputs": [
        {
          "output_type": "execute_result",
          "data": {
            "text/plain": [
              "3"
            ]
          },
          "metadata": {},
          "execution_count": 17
        }
      ]
    },
    {
      "cell_type": "code",
      "source": [
        "mode([1, (1, 2, 3), (1, 2, 3), 3])"
      ],
      "metadata": {
        "colab": {
          "base_uri": "https://localhost:8080/"
        },
        "id": "W_hh9CyOCKWJ",
        "outputId": "13975965-ec59-4304-8442-592bda6f5178"
      },
      "execution_count": null,
      "outputs": [
        {
          "output_type": "execute_result",
          "data": {
            "text/plain": [
              "(1, 2, 3)"
            ]
          },
          "metadata": {},
          "execution_count": 22
        }
      ]
    },
    {
      "cell_type": "markdown",
      "source": [
        "### AnyStr predifned type variable"
      ],
      "metadata": {
        "id": "5WssgHxya148"
      }
    },
    {
      "cell_type": "markdown",
      "source": [
        "15:32 -"
      ],
      "metadata": {
        "id": "7NGHiNX5a5q4"
      }
    },
    {
      "cell_type": "code",
      "source": [
        "AnyStr = TypeVar('AnyStr', bytes, str)"
      ],
      "metadata": {
        "id": "QZjXhObQCrrh"
      },
      "execution_count": null,
      "outputs": []
    },
    {
      "cell_type": "markdown",
      "source": [
        "### Static Protocol\n",
        "\n",
        " In OOP, the concept of a protocol as an informal interface is as old as Smalltlak, and is an essential part of Python. However, in the context of type hints, a protocol is `typing.Protocol` subclass defining an interface and a type checker can verify.\n",
        "\n",
        " In Python, a protocol definition is written as as a `typing.Protocol` subclass. However, classes that implement a protocol don't need to inherit, register or declare any relationship with the class that defines the protocol."
      ],
      "metadata": {
        "id": "g9b4DQF9bFEP"
      }
    },
    {
      "cell_type": "markdown",
      "source": [
        "Suppose you wanna create a function `top(it, n)` that returns a largest `n` elements of the iterable `it`:"
      ],
      "metadata": {
        "id": "ns4p96l6bosf"
      }
    },
    {
      "cell_type": "code",
      "source": [
        "def top(series: Iterable[T], length: int) -> list[T]:\n",
        "  ordered = sorted(series, reverse=True)\n",
        "  return ordered[:length]"
      ],
      "metadata": {
        "id": "B05p5L-ib9s6"
      },
      "execution_count": null,
      "outputs": []
    },
    {
      "cell_type": "markdown",
      "source": [
        "Q. How to constrain T? It cannot be `Any` or `object` because the series must work with `sorted`. The `sorted` built-in actually accepts `Iterable[Any]` but that's because the optional parameter `key` takes a function that computes an arbitrary sort key from each element. What happens if you give `sorted` a list of plain objects but don't provide a `key` argument?"
      ],
      "metadata": {
        "id": "VN-IFO49cFSE"
      }
    },
    {
      "cell_type": "code",
      "source": [
        "l = [object() for _ in range(4)]\n",
        "l"
      ],
      "metadata": {
        "colab": {
          "base_uri": "https://localhost:8080/"
        },
        "id": "A8wl3TRkcdDg",
        "outputId": "1c750cbb-7598-4f32-9cb2-c959220ba7a0"
      },
      "execution_count": null,
      "outputs": [
        {
          "output_type": "execute_result",
          "data": {
            "text/plain": [
              "[<object at 0x7eab51b204e0>,\n",
              " <object at 0x7eab51b20dd0>,\n",
              " <object at 0x7eab51b208b0>,\n",
              " <object at 0x7eab51b20cd0>]"
            ]
          },
          "metadata": {},
          "execution_count": 3
        }
      ]
    },
    {
      "cell_type": "code",
      "source": [
        "sorted(l)"
      ],
      "metadata": {
        "colab": {
          "base_uri": "https://localhost:8080/",
          "height": 149
        },
        "id": "7AXe61mYciIL",
        "outputId": "97b3ea70-0294-4f56-b854-cffefd6e2e8a"
      },
      "execution_count": null,
      "outputs": [
        {
          "output_type": "error",
          "ename": "TypeError",
          "evalue": "'<' not supported between instances of 'object' and 'object'",
          "traceback": [
            "\u001b[0;31m---------------------------------------------------------------------------\u001b[0m",
            "\u001b[0;31mTypeError\u001b[0m                                 Traceback (most recent call last)",
            "\u001b[0;32m<ipython-input-5-04dc31ea0310>\u001b[0m in \u001b[0;36m<cell line: 1>\u001b[0;34m()\u001b[0m\n\u001b[0;32m----> 1\u001b[0;31m \u001b[0msorted\u001b[0m\u001b[0;34m(\u001b[0m\u001b[0ml\u001b[0m\u001b[0;34m)\u001b[0m\u001b[0;34m\u001b[0m\u001b[0;34m\u001b[0m\u001b[0m\n\u001b[0m",
            "\u001b[0;31mTypeError\u001b[0m: '<' not supported between instances of 'object' and 'object'"
          ]
        }
      ]
    },
    {
      "cell_type": "code",
      "source": [
        "class Spam:\n",
        "  def __init__(self, n):\n",
        "    self.n = n\n",
        "  def __lt__(self, other):\n",
        "    return self.n < other.n\n",
        "  def __repr__(self):\n",
        "    return f\"Spam({self.n})\""
      ],
      "metadata": {
        "id": "qJpxTqhwcm8_"
      },
      "execution_count": null,
      "outputs": []
    },
    {
      "cell_type": "code",
      "source": [
        "l = [Spam(n) for n in range(5, 0, -1)]"
      ],
      "metadata": {
        "id": "pWsdxcWRc3g0"
      },
      "execution_count": null,
      "outputs": []
    },
    {
      "cell_type": "code",
      "source": [
        "l"
      ],
      "metadata": {
        "colab": {
          "base_uri": "https://localhost:8080/"
        },
        "id": "3IUxfFxYc9yp",
        "outputId": "b3eb6aeb-2559-4502-d33a-4857354e840d"
      },
      "execution_count": null,
      "outputs": [
        {
          "output_type": "execute_result",
          "data": {
            "text/plain": [
              "[Spam(5), Spam(4), Spam(3), Spam(2), Spam(1)]"
            ]
          },
          "metadata": {},
          "execution_count": 10
        }
      ]
    },
    {
      "cell_type": "code",
      "source": [
        "sorted(l)"
      ],
      "metadata": {
        "colab": {
          "base_uri": "https://localhost:8080/"
        },
        "id": "RQbRkyX_c-yz",
        "outputId": "ae774784-a476-4c78-add9-770d52664655"
      },
      "execution_count": null,
      "outputs": [
        {
          "output_type": "execute_result",
          "data": {
            "text/plain": [
              "[Spam(1), Spam(2), Spam(3), Spam(4), Spam(5)]"
            ]
          },
          "metadata": {},
          "execution_count": 11
        }
      ]
    },
    {
      "cell_type": "markdown",
      "source": [
        "We need a type parameter limiting to types that implement `__lt__`. But there is no suitable type in `typing` or `abc` to use, so we need to create it."
      ],
      "metadata": {
        "id": "NnhF_d8OdGMI"
      }
    },
    {
      "cell_type": "code",
      "source": [
        "# comparable.py\n",
        "from typing import Protocol, Any\n",
        "\n",
        "class SupportsLessThan(Protocol): # a protocol is a subclass of `typing.protocol`\n",
        "  def __lt__(self, other: Any) -> bool: ... # The body of the protocol has one or more method def\n",
        "  # with ... in their bodies"
      ],
      "metadata": {
        "id": "YptOkz-8dUyA"
      },
      "execution_count": null,
      "outputs": []
    },
    {
      "cell_type": "markdown",
      "source": [
        "A type `T` is consistent-with a protocol `P` if `T` implements all the methods defined in `P`, with matching type signatures."
      ],
      "metadata": {
        "id": "JTQlO-HrdoTs"
      }
    },
    {
      "cell_type": "code",
      "source": [
        "from collections.abc import Iterable\n",
        "from typing import TypeVar\n",
        "\n",
        "LT = TypeVar('LT', bound=SupportsLessThan)\n",
        "\n",
        "def top(series: Iterable[LT], length: int) -> list[LT]:\n",
        "  ordered = sorted(series, reverse=True)\n",
        "  return ordered[:length]"
      ],
      "metadata": {
        "id": "Eg6rbqOCdFwy"
      },
      "execution_count": null,
      "outputs": []
    },
    {
      "cell_type": "code",
      "source": [
        "top([4, 1, 5, 2, 6, 7, 3], 30)"
      ],
      "metadata": {
        "colab": {
          "base_uri": "https://localhost:8080/"
        },
        "id": "fhk0nTNabTwj",
        "outputId": "3aec3903-202a-43c2-b12f-c40351c3b760"
      },
      "execution_count": null,
      "outputs": [
        {
          "output_type": "execute_result",
          "data": {
            "text/plain": [
              "[7, 6, 5, 4, 3, 2, 1]"
            ]
          },
          "metadata": {},
          "execution_count": 15
        }
      ]
    },
    {
      "cell_type": "code",
      "source": [
        "l = 'mango peer apple kiwi banana'.split()\n",
        "top(l, 3)"
      ],
      "metadata": {
        "colab": {
          "base_uri": "https://localhost:8080/"
        },
        "id": "AgZxZ8xPbxj8",
        "outputId": "4e0b13a9-ceaf-4d14-970f-3aad57c2ebd8"
      },
      "execution_count": null,
      "outputs": [
        {
          "output_type": "execute_result",
          "data": {
            "text/plain": [
              "['peer', 'mango', 'kiwi']"
            ]
          },
          "metadata": {},
          "execution_count": 16
        }
      ]
    },
    {
      "cell_type": "code",
      "source": [
        "# top_test.py\n",
        "from collections.abc import Iterator\n",
        "from typing import TYPE_CHECKING\n",
        "\n",
        "import pytest\n",
        "\n",
        "from top import top\n",
        "\n",
        "def test_top_tuples() -> None:\n",
        "  fruit = 'mango peer apple kiwi banana'.split()\n",
        "  series: Iterator[tuple[int, str]] = (\n",
        "      (len(s), s) for s in fruit\n",
        "  )\n",
        "  length = 3\n",
        "  expected = [(6, 'banana'), (5, 'mango'), (5, 'apple')]\n",
        "  result = top(series, length)\n",
        "  if TYPE_CHECKING:\n",
        "    reveal_type(series)\n",
        "    reveal_type(expected)\n",
        "    reveal_type(result)\n",
        "  assert result == expected\n",
        "\n",
        "def test_top_objects_error() -> None:\n",
        "  series = [object() for _ in range(4)]\n",
        "  if TYPE_CHECKING:\n",
        "    reveal_type(series)\n",
        "  with pytest.raises(TypeError) as excinfo:\n",
        "    top(series, 3)\n",
        "  assert \"'<' not supported\" in str(excinfo.value)"
      ],
      "metadata": {
        "id": "PYC6z5ENeDt7"
      },
      "execution_count": null,
      "outputs": []
    },
    {
      "cell_type": "code",
      "source": [
        "!pip install mypy"
      ],
      "metadata": {
        "colab": {
          "base_uri": "https://localhost:8080/"
        },
        "id": "j7h7LTcJfZAe",
        "outputId": "848d8d69-710d-4197-fdb9-d6ae03c66dd0"
      },
      "execution_count": null,
      "outputs": [
        {
          "output_type": "stream",
          "name": "stdout",
          "text": [
            "Collecting mypy\n",
            "  Downloading mypy-1.9.0-cp310-cp310-manylinux_2_17_x86_64.manylinux2014_x86_64.whl (12.5 MB)\n",
            "\u001b[2K     \u001b[90m━━━━━━━━━━━━━━━━━━━━━━━━━━━━━━━━━━━━━━━━\u001b[0m \u001b[32m12.5/12.5 MB\u001b[0m \u001b[31m73.0 MB/s\u001b[0m eta \u001b[36m0:00:00\u001b[0m\n",
            "\u001b[?25hRequirement already satisfied: typing-extensions>=4.1.0 in /usr/local/lib/python3.10/dist-packages (from mypy) (4.11.0)\n",
            "Collecting mypy-extensions>=1.0.0 (from mypy)\n",
            "  Downloading mypy_extensions-1.0.0-py3-none-any.whl (4.7 kB)\n",
            "Requirement already satisfied: tomli>=1.1.0 in /usr/local/lib/python3.10/dist-packages (from mypy) (2.0.1)\n",
            "Installing collected packages: mypy-extensions, mypy\n",
            "Successfully installed mypy-1.9.0 mypy-extensions-1.0.0\n"
          ]
        }
      ]
    },
    {
      "cell_type": "code",
      "source": [
        "!mypy top_test.py"
      ],
      "metadata": {
        "colab": {
          "base_uri": "https://localhost:8080/"
        },
        "id": "4gvAklMmfaWi",
        "outputId": "f0bdf408-48f1-48e0-bc23-cab7e464c13f"
      },
      "execution_count": null,
      "outputs": [
        {
          "output_type": "stream",
          "name": "stdout",
          "text": [
            "top_test.py:18: \u001b[34mnote:\u001b[m Revealed type is \u001b[m\u001b[1m\"typing.Iterator[tuple[builtins.int, builtins.str]]\"\u001b[m\u001b[m\n",
            "top_test.py:19: \u001b[34mnote:\u001b[m Revealed type is \u001b[m\u001b[1m\"builtins.list[tuple[builtins.int, builtins.str]]\"\u001b[m\u001b[m\n",
            "top_test.py:20: \u001b[34mnote:\u001b[m Revealed type is \u001b[m\u001b[1m\"builtins.list[tuple[builtins.int, builtins.str]]\"\u001b[m\u001b[m\n",
            "top_test.py:26: \u001b[34mnote:\u001b[m Revealed type is \u001b[m\u001b[1m\"builtins.list[builtins.object]\"\u001b[m\u001b[m\n",
            "top_test.py:28: \u001b[1m\u001b[31merror:\u001b[m Value of type variable \u001b[m\u001b[1m\"LT\"\u001b[m of \u001b[m\u001b[1m\"top\"\u001b[m cannot be \u001b[m\u001b[1m\"object\"\u001b[m  \u001b[m\u001b[33m[type-var]\u001b[m\n",
            "\u001b[1m\u001b[31mFound 1 error in 1 file (checked 1 source file)\u001b[m\n"
          ]
        }
      ]
    },
    {
      "cell_type": "markdown",
      "source": [
        "A key advantage of a protocol type over ABCs is that a type doesn't need any special declaration to be consistent-with a protocol type."
      ],
      "metadata": {
        "id": "H4d7bv1vH1ND"
      }
    },
    {
      "cell_type": "markdown",
      "source": [
        "### Callable"
      ],
      "metadata": {
        "id": "B2u33amKIyCx"
      }
    },
    {
      "cell_type": "code",
      "source": [
        "input('hello')"
      ],
      "metadata": {
        "id": "QfsyF3NyffRO",
        "colab": {
          "base_uri": "https://localhost:8080/",
          "height": 54
        },
        "outputId": "089974e1-4bc7-42ae-8d2a-67cd15471312"
      },
      "execution_count": null,
      "outputs": [
        {
          "name": "stdout",
          "output_type": "stream",
          "text": [
            "helloda\n"
          ]
        },
        {
          "output_type": "execute_result",
          "data": {
            "text/plain": [
              "'da'"
            ],
            "application/vnd.google.colaboratory.intrinsic+json": {
              "type": "string"
            }
          },
          "metadata": {},
          "execution_count": 1
        }
      ]
    },
    {
      "cell_type": "markdown",
      "source": [
        "The interaction of generic type parameters with a type hierarchy introduces a new typing concept: variance."
      ],
      "metadata": {
        "id": "rF7y-ZZNJQxI"
      }
    },
    {
      "cell_type": "code",
      "source": [
        "# Illustrating variance\n",
        "from collections.abc import Callable\n",
        "\n",
        "def update(\n",
        "    probe: Callable[[], float],\n",
        "    display: Callable[[float], None]\n",
        ") -> None:\n",
        "  temperature = probe()\n",
        "  display(temperature)\n",
        "\n",
        "def probe_ok() -> int:\n",
        "  return 42\n",
        "\n",
        "def display_wrong(temperature: int) -> None:\n",
        "  print(hex(temperature))\n",
        "\n",
        "update(probe_ok, display_wrong)"
      ],
      "metadata": {
        "colab": {
          "base_uri": "https://localhost:8080/"
        },
        "id": "7r0VbhpkJEN7",
        "outputId": "5d1a5b87-0798-4de9-feb6-f0ac7a1dbf59"
      },
      "execution_count": null,
      "outputs": [
        {
          "output_type": "stream",
          "name": "stdout",
          "text": [
            "0x2a\n"
          ]
        }
      ]
    },
    {
      "cell_type": "code",
      "source": [
        "!pip install mypy"
      ],
      "metadata": {
        "colab": {
          "base_uri": "https://localhost:8080/"
        },
        "id": "ycG0UlG_KCP7",
        "outputId": "ad38abc8-eb3f-408b-ea14-f06bd080ebb9"
      },
      "execution_count": null,
      "outputs": [
        {
          "output_type": "stream",
          "name": "stdout",
          "text": [
            "Collecting mypy\n",
            "  Downloading mypy-1.9.0-cp310-cp310-manylinux_2_17_x86_64.manylinux2014_x86_64.whl (12.5 MB)\n",
            "\u001b[2K     \u001b[90m━━━━━━━━━━━━━━━━━━━━━━━━━━━━━━━━━━━━━━━━\u001b[0m \u001b[32m12.5/12.5 MB\u001b[0m \u001b[31m49.4 MB/s\u001b[0m eta \u001b[36m0:00:00\u001b[0m\n",
            "\u001b[?25hRequirement already satisfied: typing-extensions>=4.1.0 in /usr/local/lib/python3.10/dist-packages (from mypy) (4.11.0)\n",
            "Collecting mypy-extensions>=1.0.0 (from mypy)\n",
            "  Downloading mypy_extensions-1.0.0-py3-none-any.whl (4.7 kB)\n",
            "Requirement already satisfied: tomli>=1.1.0 in /usr/local/lib/python3.10/dist-packages (from mypy) (2.0.1)\n",
            "Installing collected packages: mypy-extensions, mypy\n",
            "Successfully installed mypy-1.9.0 mypy-extensions-1.0.0\n"
          ]
        }
      ]
    },
    {
      "cell_type": "code",
      "source": [
        "!mypy variance.py"
      ],
      "metadata": {
        "colab": {
          "base_uri": "https://localhost:8080/"
        },
        "id": "AtGObuy1J8br",
        "outputId": "c88a5dcb-5d34-44e7-d257-a43c2b0298f6"
      },
      "execution_count": null,
      "outputs": [
        {
          "output_type": "stream",
          "name": "stdout",
          "text": [
            "variance.py:17: \u001b[1m\u001b[31merror:\u001b[m Argument 2 to \u001b[m\u001b[1m\"update\"\u001b[m has incompatible type \u001b[m\u001b[1m\"Callable[[int], None]\"\u001b[m; expected \u001b[m\u001b[1m\"Callable[[float], None]\"\u001b[m  \u001b[m\u001b[33m[arg-type]\u001b[m\n",
            "\u001b[1m\u001b[31mFound 1 error in 1 file (checked 1 source file)\u001b[m\n"
          ]
        }
      ]
    },
    {
      "cell_type": "code",
      "source": [
        "def display_ok(temperature: complex) -> None:\n",
        "  print(temperature)"
      ],
      "metadata": {
        "id": "gCZPFwjSJ_JR"
      },
      "execution_count": null,
      "outputs": []
    },
    {
      "cell_type": "markdown",
      "source": [
        "Formally, we say that `Callable[[], int]` is subtype-of `Callable[[], float]` as `int` is subtype-of float. This means that `Callable` is covariant on the return type because the subtype-of relationship of the types `int` and `float` is in the same direction."
      ],
      "metadata": {
        "id": "xl0a-_1WL6Ky"
      }
    },
    {
      "cell_type": "code",
      "source": [
        "scores: list[float] = [2.0, 3.0]\n",
        "a: list[int] = [2, 3]\n",
        "scores = a"
      ],
      "metadata": {
        "id": "gnz_MAxFJyqe"
      },
      "execution_count": null,
      "outputs": []
    },
    {
      "cell_type": "code",
      "source": [
        "!mypy variance_test.py"
      ],
      "metadata": {
        "colab": {
          "base_uri": "https://localhost:8080/"
        },
        "id": "Dy2cYJSiMqTb",
        "outputId": "543d3bfb-b314-466c-87c9-325630f9d3f8"
      },
      "execution_count": null,
      "outputs": [
        {
          "output_type": "stream",
          "name": "stdout",
          "text": [
            "variance_test.py:3: \u001b[1m\u001b[31merror:\u001b[m Incompatible types in assignment (expression has type \u001b[m\u001b[1m\"list[int]\"\u001b[m, variable has type \u001b[m\u001b[1m\"list[float]\"\u001b[m)  \u001b[m\u001b[33m[assignment]\u001b[m\n",
            "variance_test.py:3: \u001b[34mnote:\u001b[m \u001b[m\u001b[1m\"List\"\u001b[m is invariant -- see \u001b[4mhttps://mypy.readthedocs.io/en/stable/common_issues.html#variance\u001b[m\u001b[m\n",
            "variance_test.py:3: \u001b[34mnote:\u001b[m Consider using \u001b[m\u001b[1m\"Sequence\"\u001b[m instead, which is covariant\u001b[m\n",
            "\u001b[1m\u001b[31mFound 1 error in 1 file (checked 1 source file)\u001b[m\n"
          ]
        }
      ]
    },
    {
      "cell_type": "markdown",
      "source": [
        "### NoReturn"
      ],
      "metadata": {
        "id": "BqD8On3NM18H"
      }
    },
    {
      "cell_type": "markdown",
      "source": [
        "This is a special type used only to annotate the return type of functions that never return. Usually, they exist to raise exceptions."
      ],
      "metadata": {
        "id": "GUZZZAsTM4uu"
      }
    },
    {
      "cell_type": "code",
      "source": [
        "def exit(__status: object = ...) -> NoReturn: ..."
      ],
      "metadata": {
        "id": "McKJSe5WMrzp"
      },
      "execution_count": null,
      "outputs": []
    },
    {
      "cell_type": "markdown",
      "source": [
        "# Annotating Positional Only and Variadic Parameters"
      ],
      "metadata": {
        "id": "NiwsOpiZNXPs"
      }
    },
    {
      "cell_type": "markdown",
      "source": [
        "PEP 484 convention: prefix each positional-only parameter"
      ],
      "metadata": {
        "id": "sVzGRfZ9N7KV"
      }
    },
    {
      "cell_type": "code",
      "source": [],
      "metadata": {
        "id": "foFooyJeNavI"
      },
      "execution_count": null,
      "outputs": []
    }
  ]
}