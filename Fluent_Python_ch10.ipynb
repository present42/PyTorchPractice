{
  "nbformat": 4,
  "nbformat_minor": 0,
  "metadata": {
    "colab": {
      "provenance": [],
      "authorship_tag": "ABX9TyNcHf43t2A3VX7MVirsM2O+",
      "include_colab_link": true
    },
    "kernelspec": {
      "name": "python3",
      "display_name": "Python 3"
    },
    "language_info": {
      "name": "python"
    }
  },
  "cells": [
    {
      "cell_type": "markdown",
      "metadata": {
        "id": "view-in-github",
        "colab_type": "text"
      },
      "source": [
        "<a href=\"https://colab.research.google.com/github/present42/PyTorchPractice/blob/main/Fluent_Python_ch10.ipynb\" target=\"_parent\"><img src=\"https://colab.research.google.com/assets/colab-badge.svg\" alt=\"Open In Colab\"/></a>"
      ]
    },
    {
      "cell_type": "markdown",
      "source": [
        "# Chapter 10. Design Patterns with First-Class Functions"
      ],
      "metadata": {
        "id": "tR7sPQG_wdUO"
      }
    },
    {
      "cell_type": "markdown",
      "source": [
        "Strategy Pattern: Define a family of algorithms, encapsulate each one, and make them inerchangeable. Strategy lets the algorithm vary independently from clients that use it."
      ],
      "metadata": {
        "id": "1yU7kuljxqkx"
      }
    },
    {
      "cell_type": "code",
      "execution_count": 5,
      "metadata": {
        "id": "lpP2heOfwajg"
      },
      "outputs": [],
      "source": [
        "from abc import ABC, abstractmethod\n",
        "from collections.abc import Sequence\n",
        "from decimal import Decimal\n",
        "from typing import NamedTuple, Optional\n",
        "\n",
        "class Customer(NamedTuple):\n",
        "  name: str\n",
        "  fidelity: str\n",
        "\n",
        "class LineItem(NamedTuple):\n",
        "  product: str\n",
        "  quantity: int\n",
        "  price: Decimal\n",
        "\n",
        "  def total(self) -> Decimal:\n",
        "    return self.price * self.quantity\n",
        "\n",
        "class Order(NamedTuple): # context\n",
        "  customer: Customer\n",
        "  cart: Sequence[LineItem]\n",
        "  promotion: Optional['Promotion'] = None\n",
        "\n",
        "  def total(self) -> Decimal:\n",
        "    totals = (item.total() for item in self.cart)\n",
        "    return sum(totals, start=Decimal(0))\n",
        "\n",
        "  def due(self) -> Decimal:\n",
        "    if self.promotion is None:\n",
        "      discount = Decimal(0)\n",
        "    else:\n",
        "      discount = self.promotion.discount(self)\n",
        "    return self.total() - discount\n",
        "\n",
        "  def __repr__(self):\n",
        "    return f'<Order total: {self.total():.2f} due: {self.due():.2f}>'\n",
        "\n",
        "class Promotion(ABC): # Strategy: an abstract base class\n",
        "  @abstractmethod\n",
        "  def discount(self, order: Order) -> Decimal:\n",
        "    \"\"\"Return discount as a positive dollar amount\"\"\"\n",
        "\n",
        "class FidelityPromo(Promotion):\n",
        "\n",
        "  def discount(self, order: Order) -> Decimal:\n",
        "    rate = Decimal('0.05')\n",
        "    if order.customer.fidelity >= 1000:\n",
        "      return order.total() * rate\n",
        "    return Decimal(0)\n",
        "\n",
        "class BulkItemPromo(Promotion):\n",
        "\n",
        "  def discount(self, order: Order) -> Decimal:\n",
        "    discount = Decimal(0)\n",
        "    for item in order.cart:\n",
        "      if item.quantity >= 20:\n",
        "        discount += item.total() * Decimal('0.1')\n",
        "    return discount\n",
        "\n",
        "class LargeOrderPromo(Promotion):\n",
        "  \"\"\" 7% discount for orders with 10 or more distinct items\"\"\"\n",
        "  def discount(self, order: Order) -> Decimal:\n",
        "    distinct_items = { item.product for item in order.cart }\n",
        "    if len(distinct_items) >= 10:\n",
        "      return order.total() * Decimal('0.07')\n",
        "    return Decimal(0)"
      ]
    },
    {
      "cell_type": "code",
      "source": [
        "joe = Customer('John Doe', 0)\n",
        "ann = Customer('Ann Smith', 1100)"
      ],
      "metadata": {
        "id": "755KTGmG0wkp"
      },
      "execution_count": 6,
      "outputs": []
    },
    {
      "cell_type": "code",
      "source": [
        "cart = (LineItem('banana', 4, Decimal('.5')),\n",
        "        LineItem('apple', 10, Decimal('1.5')),\n",
        "        LineItem('watermelon', 5, Decimal(5)),)"
      ],
      "metadata": {
        "id": "1dJOUPg900Gp"
      },
      "execution_count": 7,
      "outputs": []
    },
    {
      "cell_type": "code",
      "source": [
        "Order(joe, cart, FidelityPromo())"
      ],
      "metadata": {
        "colab": {
          "base_uri": "https://localhost:8080/"
        },
        "id": "iYx4U_Lx0-QV",
        "outputId": "e48dbd4f-51e1-4228-d861-f141abc53cd2"
      },
      "execution_count": 8,
      "outputs": [
        {
          "output_type": "execute_result",
          "data": {
            "text/plain": [
              "<Order total: 42.00 due: 42.00>"
            ]
          },
          "metadata": {},
          "execution_count": 8
        }
      ]
    },
    {
      "cell_type": "code",
      "source": [
        "Order(ann, cart, FidelityPromo())"
      ],
      "metadata": {
        "colab": {
          "base_uri": "https://localhost:8080/"
        },
        "id": "ULgZVhSL1E43",
        "outputId": "563c070b-bea9-4ab0-ab78-de4403620aa6"
      },
      "execution_count": 9,
      "outputs": [
        {
          "output_type": "execute_result",
          "data": {
            "text/plain": [
              "<Order total: 42.00 due: 39.90>"
            ]
          },
          "metadata": {},
          "execution_count": 9
        }
      ]
    },
    {
      "cell_type": "code",
      "source": [
        "banana_cart = (LineItem('banana', 30, Decimal('.5')),\n",
        "               LineItem('apple', 10, Decimal('1.5')))"
      ],
      "metadata": {
        "id": "CDCosN771Nfs"
      },
      "execution_count": 10,
      "outputs": []
    },
    {
      "cell_type": "code",
      "source": [
        "Order(joe, banana_cart, BulkItemPromo())"
      ],
      "metadata": {
        "colab": {
          "base_uri": "https://localhost:8080/"
        },
        "id": "yCSVZxUy26kX",
        "outputId": "9d50926f-d097-4762-c3fb-8a6cbd2f2c7b"
      },
      "execution_count": 11,
      "outputs": [
        {
          "output_type": "execute_result",
          "data": {
            "text/plain": [
              "<Order total: 30.00 due: 28.50>"
            ]
          },
          "metadata": {},
          "execution_count": 11
        }
      ]
    },
    {
      "cell_type": "code",
      "source": [
        "long_cart = tuple(LineItem(str(sku), 1, Decimal(1)) for sku in range(10))"
      ],
      "metadata": {
        "id": "scFFYESM3HQ1"
      },
      "execution_count": 12,
      "outputs": []
    },
    {
      "cell_type": "code",
      "source": [
        "Order(joe, long_cart, LargeOrderPromo())"
      ],
      "metadata": {
        "colab": {
          "base_uri": "https://localhost:8080/"
        },
        "id": "C2dsJe113QKl",
        "outputId": "dba657e7-3a29-4c9e-9987-593c62c34a1a"
      },
      "execution_count": 13,
      "outputs": [
        {
          "output_type": "execute_result",
          "data": {
            "text/plain": [
              "<Order total: 10.00 due: 9.30>"
            ]
          },
          "metadata": {},
          "execution_count": 13
        }
      ]
    },
    {
      "cell_type": "code",
      "source": [
        "Order(joe, cart, LargeOrderPromo())"
      ],
      "metadata": {
        "colab": {
          "base_uri": "https://localhost:8080/"
        },
        "id": "79reW-Lh3SWX",
        "outputId": "0915c33d-125c-44e2-911b-0203e1c3cdc6"
      },
      "execution_count": 14,
      "outputs": [
        {
          "output_type": "execute_result",
          "data": {
            "text/plain": [
              "<Order total: 42.00 due: 42.00>"
            ]
          },
          "metadata": {},
          "execution_count": 14
        }
      ]
    },
    {
      "cell_type": "markdown",
      "source": [
        "## Function-Oriented Strategy"
      ],
      "metadata": {
        "id": "TBaQHJJ43oTB"
      }
    },
    {
      "cell_type": "markdown",
      "source": [
        "Observation: each concrete strategy is a class with a single method, `discount`. Furthermore, strategy instances have no state."
      ],
      "metadata": {
        "id": "O4jTP4IQ3rd_"
      }
    },
    {
      "cell_type": "code",
      "source": [
        "from collections.abc import Sequence\n",
        "from dataclasses import dataclass\n",
        "from decimal import Decimal\n",
        "from typing import NamedTuple, Optional, Callable"
      ],
      "metadata": {
        "id": "Js9J1CsR3U4u"
      },
      "execution_count": 15,
      "outputs": []
    },
    {
      "cell_type": "code",
      "source": [
        "class Customer(NamedTuple):\n",
        "  name: str\n",
        "  fidelity: str\n",
        "\n",
        "class LineItem(NamedTuple):\n",
        "  product: str\n",
        "  quantity: int\n",
        "  price: Decimal\n",
        "\n",
        "  def total(self) -> Decimal:\n",
        "    return self.price * self.quantity\n",
        "\n",
        "@dataclass(frozen=True)\n",
        "class Order: # the context\n",
        "  customer: Customer\n",
        "  cart: Sequence[LineItem]\n",
        "  # This type hint says: promotion may be None or\n",
        "  # it may be a callable that takes an `Order` arg and returns a Decimal\n",
        "  promotion: Optional[Callable[['Order'], Decimal]] = None\n",
        "\n",
        "  def total(self) -> Decimal:\n",
        "    totals = (item.total() for item in self.cart)\n",
        "    return sum(totals, start=Decimal(0))\n",
        "\n",
        "  def due(self) -> Decimal:\n",
        "    if self.promotion is None:\n",
        "      discount = Decimal(0)\n",
        "    else:\n",
        "      # Call the `self.promotion` callable,\n",
        "      # passing self as an argument\n",
        "      discount = self.promotion(self)\n",
        "    return self.total() - discount\n",
        "\n",
        "  def __repr__(self):\n",
        "    return f'<Order total: {self.total():.2f} due: {self.due():.2f}>'\n",
        "\n",
        "def fidelity_promo(order: Order) -> Decimal:\n",
        "  if order.customer.fidelity >= 1000:\n",
        "    return order.total() * Decimal('0.05')\n",
        "  return Decimal(0)\n",
        "\n",
        "def bulk_item_promo(order: Order) -> Decimal:\n",
        "  discount = Decimal(0)\n",
        "  for item in order.cart:\n",
        "    if item.quantity >= 20:\n",
        "      discount += item.total() * Decimal('0.1')\n",
        "  return discount\n",
        "\n",
        "def large_order_promo(order: Order) -> Decimal:\n",
        "  distinct_items = { item.product for item in order.cart }\n",
        "  if len(distinct_items) >= 10:\n",
        "    return order.total() * Decimal('0.07')\n",
        "  return Decimal(0)"
      ],
      "metadata": {
        "id": "khN9GhzJ4D6B"
      },
      "execution_count": 20,
      "outputs": []
    },
    {
      "cell_type": "code",
      "source": [
        "joe = Customer('John Doe', 0)\n",
        "ann = Customer('Ann Smith', 1100)"
      ],
      "metadata": {
        "id": "Qv0HYz2e5e8R"
      },
      "execution_count": 21,
      "outputs": []
    },
    {
      "cell_type": "code",
      "source": [
        "cart = (LineItem('banana', 4, Decimal('.5')),\n",
        "        LineItem('apple', 10, Decimal('1.5')),\n",
        "        LineItem('watermelon', 5, Decimal(5)),)"
      ],
      "metadata": {
        "id": "UYwhhFKj5v2l"
      },
      "execution_count": 22,
      "outputs": []
    },
    {
      "cell_type": "code",
      "source": [
        "Order(joe, cart, fidelity_promo)"
      ],
      "metadata": {
        "colab": {
          "base_uri": "https://localhost:8080/"
        },
        "id": "ZmsrSz4u5x0v",
        "outputId": "198d52a9-ae55-4b2f-b3ea-72125c00939b"
      },
      "execution_count": 23,
      "outputs": [
        {
          "output_type": "execute_result",
          "data": {
            "text/plain": [
              "<Order total: 42.00 due: 42.00>"
            ]
          },
          "metadata": {},
          "execution_count": 23
        }
      ]
    },
    {
      "cell_type": "code",
      "source": [
        "Order(ann, cart, fidelity_promo)"
      ],
      "metadata": {
        "colab": {
          "base_uri": "https://localhost:8080/"
        },
        "id": "3DY0pgDm53rY",
        "outputId": "99a1f81b-1cc0-4e66-ed86-accdd691ca36"
      },
      "execution_count": 24,
      "outputs": [
        {
          "output_type": "execute_result",
          "data": {
            "text/plain": [
              "<Order total: 42.00 due: 39.90>"
            ]
          },
          "metadata": {},
          "execution_count": 24
        }
      ]
    },
    {
      "cell_type": "code",
      "source": [
        "Order(joe, banana_cart, bulk_item_promo)"
      ],
      "metadata": {
        "colab": {
          "base_uri": "https://localhost:8080/"
        },
        "id": "r9ts8mWh5-ry",
        "outputId": "d87c0cb1-f35e-4228-af18-44bab2b02d0c"
      },
      "execution_count": 25,
      "outputs": [
        {
          "output_type": "execute_result",
          "data": {
            "text/plain": [
              "<Order total: 30.00 due: 28.50>"
            ]
          },
          "metadata": {},
          "execution_count": 25
        }
      ]
    },
    {
      "cell_type": "code",
      "source": [
        "Order(joe, long_cart, large_order_promo)"
      ],
      "metadata": {
        "colab": {
          "base_uri": "https://localhost:8080/"
        },
        "id": "dJZkPOpb6AvJ",
        "outputId": "bee83609-c138-49a3-bd46-64790704d40d"
      },
      "execution_count": 26,
      "outputs": [
        {
          "output_type": "execute_result",
          "data": {
            "text/plain": [
              "<Order total: 10.00 due: 9.30>"
            ]
          },
          "metadata": {},
          "execution_count": 26
        }
      ]
    },
    {
      "cell_type": "code",
      "source": [
        "Order(joe, cart, large_order_promo)"
      ],
      "metadata": {
        "colab": {
          "base_uri": "https://localhost:8080/"
        },
        "id": "04qOTEkd6C0o",
        "outputId": "332bb155-e298-448c-b450-18a7b4b2c2dd"
      },
      "execution_count": 27,
      "outputs": [
        {
          "output_type": "execute_result",
          "data": {
            "text/plain": [
              "<Order total: 42.00 due: 42.00>"
            ]
          },
          "metadata": {},
          "execution_count": 27
        }
      ]
    },
    {
      "cell_type": "code",
      "source": [],
      "metadata": {
        "id": "2XSy57Xe6ETn"
      },
      "execution_count": null,
      "outputs": []
    }
  ]
}