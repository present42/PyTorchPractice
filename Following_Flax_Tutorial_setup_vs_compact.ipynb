{
  "nbformat": 4,
  "nbformat_minor": 0,
  "metadata": {
    "colab": {
      "provenance": [],
      "authorship_tag": "ABX9TyOojKM+n7akSBzTMq2kkY8e",
      "include_colab_link": true
    },
    "kernelspec": {
      "name": "python3",
      "display_name": "Python 3"
    },
    "language_info": {
      "name": "python"
    }
  },
  "cells": [
    {
      "cell_type": "markdown",
      "metadata": {
        "id": "view-in-github",
        "colab_type": "text"
      },
      "source": [
        "<a href=\"https://colab.research.google.com/github/present42/PyTorchPractice/blob/main/Following_Flax_Tutorial_setup_vs_compact.ipynb\" target=\"_parent\"><img src=\"https://colab.research.google.com/assets/colab-badge.svg\" alt=\"Open In Colab\"/></a>"
      ]
    },
    {
      "cell_type": "markdown",
      "source": [
        "1. Explicitly (using `setup`)\n",
        " : Assign submodules or variable to `self.<attr>` inside a setup method. Then use the submodules and variables asisgned to `self.<attr>` in `setup` from any forward pass method defined on the class. This resembles how modules are defined in Pytorch.\n",
        "2. In-line (using `nn.compact`)\n",
        " : Write your network's logic directly within a single \"forward pass\" method annotated with `nn.compact`"
      ],
      "metadata": {
        "id": "Jk8Af3xdrd4R"
      }
    },
    {
      "cell_type": "markdown",
      "source": [
        "Example of using `setup`\n",
        "\n",
        "Reasons to prefer using `setup`:\n",
        " 1. closer to PyTorch convention\n",
        " 2. allow defining more than one \"forward pass\" method"
      ],
      "metadata": {
        "id": "9RDYUmrgr4UV"
      }
    },
    {
      "cell_type": "code",
      "source": [
        "from flax import linen as nn"
      ],
      "metadata": {
        "id": "DEJ9XSIir7fX"
      },
      "execution_count": 2,
      "outputs": []
    },
    {
      "cell_type": "code",
      "execution_count": 4,
      "metadata": {
        "id": "Cjy1kRXorSpe"
      },
      "outputs": [],
      "source": [
        "class MLP(nn.Module):\n",
        "  def setup(self):\n",
        "    self.dense1 = nn.Dense(32)\n",
        "    self.dense2 = nn.Dense(32)\n",
        "\n",
        "  def __call__(self, x):\n",
        "    x = self.dense1(x)\n",
        "    x = nn.relu(x)\n",
        "    x = self.dense2(x)\n",
        "    return x"
      ]
    },
    {
      "cell_type": "markdown",
      "source": [
        "Using `nn.compact`\n",
        "\n",
        "Reason to prefer using `nn.compact`:\n",
        " 1. Allows defining submodules, parameters and other variables next to where they are used (Less scrolling up/down)\n",
        " 2. Reduce code duplication when there are conditionals or for loops that conditionally define submodules, parameters or varaibles\n",
        " 3. code typically looks more like mathematical notation: `y = self.param('W', ...) @ x + self.param('b', ...)`\n",
        " 4. If you are using shape inference, i.e., using parameters whose shape/value depend on shapes of the inputs, this is not possible using `setup`."
      ],
      "metadata": {
        "id": "0WxHbr5jsLSN"
      }
    },
    {
      "cell_type": "code",
      "source": [
        "class MLP(nn.Module):\n",
        "\n",
        "  @nn.compact\n",
        "  def __call__(self, x):\n",
        "    x = nn.Dense(32, name=\"dense1\")(x)\n",
        "    x = nn.relu(x)\n",
        "    x = nn.Dense(32, name=\"dense2\")(x)\n",
        "    return x"
      ],
      "metadata": {
        "id": "boSuRG12sIUu"
      },
      "execution_count": 5,
      "outputs": []
    },
    {
      "cell_type": "code",
      "source": [],
      "metadata": {
        "id": "R93Fzz4ksWs3"
      },
      "execution_count": null,
      "outputs": []
    }
  ]
}