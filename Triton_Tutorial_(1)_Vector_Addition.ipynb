{
  "nbformat": 4,
  "nbformat_minor": 0,
  "metadata": {
    "colab": {
      "provenance": [],
      "gpuType": "T4",
      "authorship_tag": "ABX9TyMdHZ1gPFof3BIB7AINtvCd"
    },
    "kernelspec": {
      "name": "python3",
      "display_name": "Python 3"
    },
    "language_info": {
      "name": "python"
    },
    "accelerator": "GPU"
  },
  "cells": [
    {
      "cell_type": "markdown",
      "source": [
        "15:27 - 15:51"
      ],
      "metadata": {
        "id": "Gj8HCWNpZKUc"
      }
    },
    {
      "cell_type": "code",
      "execution_count": 11,
      "metadata": {
        "id": "i8Y7aFoBY1kk"
      },
      "outputs": [],
      "source": [
        "import torch\n",
        "\n",
        "import triton\n",
        "import triton.language as tl\n",
        "\n",
        "@triton.jit\n",
        "def add_kernel(x_ptr, # pointer to first input vector\n",
        "               y_ptr, # pointer to second input vector\n",
        "               output_ptr, # pointer to output vector\n",
        "               n_elements,\n",
        "               BLOCK_SIZE: tl.constexpr,\n",
        "               ):\n",
        "  # there are multiple 'programs' processing different data\n",
        "  pid = tl.program_id(axis=0) # 1D launch grid\n",
        "  block_start = pid * BLOCK_SIZE\n",
        "  offsets = block_start + tl.arange(0, BLOCK_SIZE)\n",
        "\n",
        "  # create a mask to guard memory operations against out-of-bounds accesses\n",
        "  mask = offsets < n_elements\n",
        "\n",
        "  # Load x and y from DRAM, masking out any extra elements in case the\n",
        "  # input is not a multiple of the block size\n",
        "  x = tl.load(x_ptr + offsets, mask=mask)\n",
        "  y = tl.load(y_ptr + offsets, mask=mask)\n",
        "  output = x + y\n",
        "\n",
        "  # write x + y back to DRAM\n",
        "  tl.store(output_ptr + offsets, output, mask=mask)"
      ]
    },
    {
      "cell_type": "markdown",
      "source": [
        "helper function to (1) allocate the z tensor and (2) enqueue the above kernel with appropriate grid/block sizes:"
      ],
      "metadata": {
        "id": "A08HUHTFaUaE"
      }
    },
    {
      "cell_type": "code",
      "source": [
        "torch.tensor([1, 2, 3]).numel()"
      ],
      "metadata": {
        "colab": {
          "base_uri": "https://localhost:8080/"
        },
        "id": "Ci7eHzr4asPE",
        "outputId": "a43ba070-8bff-47cd-ffa7-6e2ba493d9d6"
      },
      "execution_count": 12,
      "outputs": [
        {
          "output_type": "execute_result",
          "data": {
            "text/plain": [
              "3"
            ]
          },
          "metadata": {},
          "execution_count": 12
        }
      ]
    },
    {
      "cell_type": "code",
      "source": [
        "def add(x: torch.Tensor, y: torch.Tensor):\n",
        "  output = torch.empty_like(x)\n",
        "  assert x.is_cuda and y.is_cuda and output.is_cuda\n",
        "\n",
        "  n_elements = output.numel()\n",
        "\n",
        "  grid = lambda meta: (triton.cdiv(n_elements, meta['BLOCK_SIZE']), )\n",
        "\n",
        "  # Note:\n",
        "  #  - Each torch.tensor object is implicitly converted into a pointer to its first element\n",
        "  #  - `triton.jit`ted functions can be indexed with a launch grid to obtain a callable GPU kernel\n",
        "  add_kernel[grid](x, y, output, n_elements, BLOCK_SIZE=1024)\n",
        "\n",
        "  return output"
      ],
      "metadata": {
        "id": "5PyDhuLXaNm7"
      },
      "execution_count": 13,
      "outputs": []
    },
    {
      "cell_type": "code",
      "source": [
        "torch.manual_seed(0)\n",
        "size = 98432\n",
        "x = torch.rand(size, device='cuda')\n",
        "y = torch.rand(size, device='cuda')\n",
        "output_torch = x + y\n",
        "output_triton = add(x, y)\n",
        "print(output_torch)\n",
        "print(output_triton)\n",
        "print(f'The maximum difference between torch and triton is {(output_torch - output_triton).abs().max()}')"
      ],
      "metadata": {
        "colab": {
          "base_uri": "https://localhost:8080/"
        },
        "id": "67_-eRASbpio",
        "outputId": "d2a20f42-f0f2-45f6-b9b0-8378c1a6b958"
      },
      "execution_count": 14,
      "outputs": [
        {
          "output_type": "stream",
          "name": "stdout",
          "text": [
            "tensor([1.3713, 1.3076, 0.4940,  ..., 0.4024, 1.7918, 1.0686], device='cuda:0')\n",
            "tensor([1.3713, 1.3076, 0.4940,  ..., 0.4024, 1.7918, 1.0686], device='cuda:0')\n",
            "The maximum difference between torch and triton is 0.0\n"
          ]
        }
      ]
    },
    {
      "cell_type": "markdown",
      "source": [
        "## Benchmark"
      ],
      "metadata": {
        "id": "PtyGZxZNcVKJ"
      }
    },
    {
      "cell_type": "code",
      "source": [
        "# byte / ms = byte / ms * 1 GB / 10e9 byte * 10e3 ms / 1sec = GB / s * 10e-6"
      ],
      "metadata": {
        "id": "lgcfoRJ8eEpT"
      },
      "execution_count": null,
      "outputs": []
    },
    {
      "cell_type": "code",
      "source": [
        "@triton.testing.perf_report(\n",
        "    triton.testing.Benchmark(\n",
        "        x_names=['size'],\n",
        "        x_vals=[2 ** i for i in range(12, 28, 1)],\n",
        "        x_log=True,\n",
        "        line_arg='provider',\n",
        "        line_vals=['triton', 'torch'],\n",
        "        line_names=['Triton', 'Torch'],\n",
        "        styles=[('blue', '-'), ('green', '-')],\n",
        "        ylabel='GB/s',\n",
        "        plot_name='vecor-add-performance',\n",
        "        args={},\n",
        "    )\n",
        ")\n",
        "def benchmark(size, provider):\n",
        "  x = torch.rand(size, device='cuda', dtype=torch.float32)\n",
        "  y = torch.rand(size, device='cuda', dtype=torch.float32)\n",
        "\n",
        "  quantiles = [0.5, 0.2, 0.8]\n",
        "  if provider == 'torch':\n",
        "    ms, min_ms, max_ms = triton.testing.do_bench(lambda: x + y, quantiles=quantiles)\n",
        "  if provider == 'triton':\n",
        "    ms, min_ms, max_ms = triton.testing.do_bench(lambda: add(x, y), quantiles=quantiles)\n",
        "  gbps = lambda ms: 3 * x.numel() * x.element_size() / ms * 1e-6\n",
        "  return gbps(ms), gbps(max_ms), gbps(min_ms)"
      ],
      "metadata": {
        "id": "6Rxmu0ZKcT4z"
      },
      "execution_count": 16,
      "outputs": []
    },
    {
      "cell_type": "code",
      "source": [
        "benchmark.run(print_data=True, show_plots=True)"
      ],
      "metadata": {
        "colab": {
          "base_uri": "https://localhost:8080/",
          "height": 766
        },
        "id": "8p9uWsEYegQx",
        "outputId": "b98b9391-2a47-4b56-a43d-f5bb2a24500f"
      },
      "execution_count": 17,
      "outputs": [
        {
          "output_type": "display_data",
          "data": {
            "text/plain": [
              "<Figure size 640x480 with 1 Axes>"
            ],
            "image/png": "[encoded data removed]"
          },
          "metadata": {}
        },
        {
          "output_type": "stream",
          "name": "stdout",
          "text": [
            "vecor-add-performance:\n",
            "           size      Triton       Torch\n",
            "0        4096.0    7.045872    7.366906\n",
            "1        8192.0   16.083770   16.340425\n",
            "2       16384.0   36.141177   37.012049\n",
            "3       32768.0   66.782607   64.673682\n",
            "4       65536.0   97.138338   99.902435\n",
            "5      131072.0  147.382306  149.625571\n",
            "6      262144.0  189.046153  176.172043\n",
            "7      524288.0  209.157447  195.435392\n",
            "8     1048576.0  220.783822  220.783822\n",
            "9     2097152.0  228.613961  231.849058\n",
            "10    4194304.0  233.570536  237.019900\n",
            "11    8388608.0  236.520907  240.941181\n",
            "12   16777216.0  238.168383  242.655723\n",
            "13   33554432.0  239.889272  244.316530\n",
            "14   67108864.0  241.538965  245.335931\n",
            "15  134217728.0  242.068695  246.565422\n"
          ]
        }
      ]
    },
    {
      "cell_type": "code",
      "source": [],
      "metadata": {
        "id": "vgKu5f0Weckg"
      },
      "execution_count": null,
      "outputs": []
    }
  ]
}