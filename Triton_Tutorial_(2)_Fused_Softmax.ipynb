{
  "nbformat": 4,
  "nbformat_minor": 0,
  "metadata": {
    "colab": {
      "provenance": [],
      "gpuType": "T4",
      "authorship_tag": "ABX9TyOYgV+dvU/vN71UsOGWkZYm"
    },
    "kernelspec": {
      "name": "python3",
      "display_name": "Python 3"
    },
    "language_info": {
      "name": "python"
    },
    "accelerator": "GPU"
  },
  "cells": [
    {
      "cell_type": "markdown",
      "source": [
        "This tutorial requires the most recent version of Triton"
      ],
      "metadata": {
        "id": "e8S2qdUbkPPs"
      }
    },
    {
      "cell_type": "code",
      "source": [
        "!pip install -U --index-url https://aiinfra.pkgs.visualstudio.com/PublicPackages/_packaging/Triton-Nightly/pypi/simple/ triton-nightly\n"
      ],
      "metadata": {
        "colab": {
          "base_uri": "https://localhost:8080/"
        },
        "id": "qloReR1cqrON",
        "outputId": "c76b6db5-22ed-49c7-98d5-c619adae92d0"
      },
      "execution_count": 2,
      "outputs": [
        {
          "output_type": "stream",
          "name": "stdout",
          "text": [
            "Looking in indexes: https://aiinfra.pkgs.visualstudio.com/PublicPackages/_packaging/Triton-Nightly/pypi/simple/\n",
            "Collecting triton-nightly\n",
            "  Downloading https://aiinfra.pkgs.visualstudio.com/2692857e-05ef-43b4-ba9c-ccf1c22c437c/_packaging/07c94329-d4c3-4ad4-9e6b-f904a60032ec/pypi/download/triton-nightly/3.post20240618224225/triton_nightly-3.0.0.post20240618224225-cp310-cp310-manylinux_2_27_x86_64.manylinux_2_28_x86_64.whl (138.8 MB)\n",
            "\u001b[2K     \u001b[90m━━━━━━━━━━━━━━━━━━━━━━━━━━━━━━━━━━━━━━━━\u001b[0m \u001b[32m138.8/138.8 MB\u001b[0m \u001b[31m2.5 MB/s\u001b[0m eta \u001b[36m0:00:00\u001b[0m\n",
            "\u001b[?25hRequirement already satisfied: filelock in /usr/local/lib/python3.10/dist-packages (from triton-nightly) (3.14.0)\n",
            "Installing collected packages: triton-nightly\n",
            "Successfully installed triton-nightly-3.0.0.post20240618224225\n"
          ]
        }
      ]
    },
    {
      "cell_type": "code",
      "execution_count": 3,
      "metadata": {
        "id": "8Zb_ZezLjDQu"
      },
      "outputs": [],
      "source": [
        "import torch\n",
        "\n",
        "import triton\n",
        "import triton.language as tl\n",
        "from triton.runtime import driver\n",
        "\n",
        "def naive_softmax(x):\n",
        "  \"\"\" compute row-wise softmax of x using native pytorch \"\"\"\n",
        "\n",
        "  # read MN elements; write M elements\n",
        "  x_max = x.max(dim=1)[0]\n",
        "\n",
        "  # read MN + M elements; write MN elements\n",
        "  z = x - x_max[:, None]\n",
        "\n",
        "  # read MN elements; write MN elements\n",
        "  numerator = torch.exp(z)\n",
        "\n",
        "  # read MN elements; write M elements\n",
        "  denominator = numerator.sum(dim=1)\n",
        "\n",
        "  # read MN + M elements; write MN elements\n",
        "  ret = numerator / denominator[:, None] # (M, N) / (M, 1)\n",
        "\n",
        "  # total read 5MN + 2M; total write 3MN + 2M\n",
        "  return ret"
      ]
    },
    {
      "cell_type": "markdown",
      "source": [
        "Each program loads a set of rows of the input matrix X strided by # of programs"
      ],
      "metadata": {
        "id": "B7_r5ZemnjwH"
      }
    },
    {
      "cell_type": "code",
      "source": [
        "@triton.jit\n",
        "def softmax_kernel(output_ptr,\n",
        "                   input_ptr,\n",
        "                   input_row_stride,\n",
        "                   output_row_stride,\n",
        "                   n_rows,\n",
        "                   n_cols,\n",
        "                   BLOCK_SIZE: tl.constexpr,\n",
        "                   num_stages: tl.constexpr):\n",
        "  # start row of the program\n",
        "  row_start = tl.program_id(0)\n",
        "  row_step = tl.num_programs(0)\n",
        "  for row_idx in tl.range(row_start, n_rows, row_step, num_stages=num_stages):\n",
        "    # stride represents how much we need to increase the pointer to advance 1 row\n",
        "    row_start_ptr = input_ptr + row_idx * input_row_stride\n",
        "\n",
        "    # block size is the next power of two greater than n_cols,\n",
        "    # so we can fit each row in a single block\n",
        "    col_offsets = tl.arange(0, BLOCK_SIZE)\n",
        "    input_ptrs = row_start_ptr + col_offsets\n",
        "\n",
        "    # Load the row into SRAM, using a mask since BLOCK_SIZE may be > than n_cols\n",
        "    mask = col_offsets < n_cols\n",
        "    row = tl.load(input_ptrs, mask=mask, other=-float('inf'))\n",
        "\n",
        "    # subtract maximum for numerical stability\n",
        "    row_minus_max = row - tl.max(row, axis=0)\n",
        "\n",
        "    # Note that exponentiation in Triton is fast but approximate\n",
        "    numerator = tl.exp(row_minus_max)\n",
        "    denominator = tl.sum(numerator, axis=0)\n",
        "\n",
        "    softmax_output = numerator / denominator\n",
        "    # write back output to DRAM\n",
        "    output_row_start_ptr = output_ptr + row_idx * output_row_stride\n",
        "    output_ptrs = output_row_start_ptr + col_offsets\n",
        "    tl.store(output_ptrs, softmax_output, mask=mask)\n",
        "\n",
        "\n"
      ],
      "metadata": {
        "id": "OSaUoMBvkNTL"
      },
      "execution_count": 9,
      "outputs": []
    },
    {
      "cell_type": "code",
      "source": [
        "device = torch.cuda.current_device()\n",
        "properties = driver.active.utils.get_device_properties(device)\n",
        "NUM_SM = properties[\"multiprocessor_count\"]\n",
        "NUM_REGS = properties[\"max_num_regs\"]\n",
        "SIZE_SMEM = properties[\"max_shared_mem\"]\n",
        "WARP_SIZE = properties[\"warpSize\"]\n",
        "target = triton.runtime.driver.active.get_current_target()\n",
        "kernels = {}\n",
        "\n",
        "def softmax(x):\n",
        "  n_rows, n_cols = x.shape\n",
        "\n",
        "  BLOCK_SIZE = triton.next_power_of_2(n_cols)\n",
        "\n",
        "  # Another trick\n",
        "  # ask compiler to use more threads per row by increasing # of warps\n",
        "  # over which row is distributed\n",
        "  num_warps = 8\n",
        "\n",
        "  # # of software pipelining stages\n",
        "  num_stages = 4 if SIZE_SMEM > 200000 else 2\n",
        "\n",
        "  # allocate output\n",
        "  y = torch.empty_like(x)\n",
        "\n",
        "  # precompile kernel to get register usage and compute thread occupancy\n",
        "  kernel, num_programs = kernels.get(BLOCK_SIZE, (None, 0))\n",
        "  if kernel is None:\n",
        "    kernel = softmax_kernel.warmup(y, x, x.stride(0), y.stride(0), n_rows, n_cols,\n",
        "                                   BLOCK_SIZE=BLOCK_SIZE, num_stages=num_stages, grid=(1,))\n",
        "    kernel._init_handles()\n",
        "    n_regs = kernel.n_regs\n",
        "    size_smem = kernel.metadata.shared\n",
        "    occupancy = NUM_REGS // (n_regs * WARP_SIZE * num_warps)\n",
        "    occupancy = min(occupancy, SIZE_SMEM // size_smem)\n",
        "    num_programs = NUM_SM * occupancy\n",
        "    kernels[BLOCK_SIZE] = (kernel, num_programs)\n",
        "\n",
        "  num_programs = min(num_programs, n_rows)\n",
        "\n",
        "  # Create a number of persistent programs\n",
        "  kernel[(num_programs, 1, 1)](\n",
        "      y,\n",
        "      x,\n",
        "      x.stride(0),\n",
        "      y.stride(0),\n",
        "      n_rows,\n",
        "      n_cols,\n",
        "  )\n",
        "  return y\n",
        ""
      ],
      "metadata": {
        "id": "x-PG3kFmoM03"
      },
      "execution_count": 10,
      "outputs": []
    },
    {
      "cell_type": "code",
      "source": [
        "torch.manual_seed(0)\n",
        "x = torch.randn(1823, 781, device='cuda')\n",
        "y_triton = softmax(x)\n",
        "y_torch = torch.softmax(x, axis=1)\n",
        "assert torch.allclose(y_triton, y_torch), (y_triton, y_torch)"
      ],
      "metadata": {
        "id": "4ybWZI5uonK5"
      },
      "execution_count": 11,
      "outputs": []
    },
    {
      "cell_type": "code",
      "source": [
        "@triton.testing.perf_report(\n",
        "    triton.testing.Benchmark(\n",
        "        x_names=['N'],  # argument names to use as an x-axis for the plot\n",
        "        x_vals=[128 * i for i in range(2, 100)],  # different possible values for `x_name`\n",
        "        line_arg='provider',  # argument name whose value corresponds to a different line in the plot\n",
        "        line_vals=['triton', 'torch'],  # possible values for `line_arg``\n",
        "        line_names=[\n",
        "            \"Triton\",\n",
        "            \"Torch\",\n",
        "        ],  # label name for the lines\n",
        "        styles=[('blue', '-'), ('green', '-')],  # line styles\n",
        "        ylabel=\"GB/s\",  # label name for the y-axis\n",
        "        plot_name=\"softmax-performance\",  # name for the plot. Used also as a file name for saving the plot.\n",
        "        args={'M': 4096},  # values for function arguments not in `x_names` and `y_name`\n",
        "    ))\n",
        "def benchmark(M, N, provider):\n",
        "  x = torch.randn(M, N, device='cuda', dtype=torch.float32)\n",
        "  stream = torch.cuda.Stream()\n",
        "  torch.cuda.set_stream(stream)\n",
        "  if provider == 'torch':\n",
        "    ms = triton.testing.do_bench(lambda: torch.softmax(x, axis=-1))\n",
        "  if provider == 'triton':\n",
        "    ms = triton.testing.do_bench(lambda: softmax(x))\n",
        "  gbps = lambda ms: 2 * x.nelement() * x.element_size() * 1e-9 / (ms * 1e-3)\n",
        "  return gbps(ms)"
      ],
      "metadata": {
        "id": "k-65LXnSrx7U"
      },
      "execution_count": 16,
      "outputs": []
    },
    {
      "cell_type": "code",
      "source": [
        "benchmark.run(show_plots=True, print_data=True)"
      ],
      "metadata": {
        "colab": {
          "base_uri": "https://localhost:8080/",
          "height": 1000
        },
        "id": "QHAOAAB2otNm",
        "outputId": "ac9eec49-13c4-48bb-c6b3-24a3072920d9"
      },
      "execution_count": 17,
      "outputs": [
        {
          "output_type": "display_data",
          "data": {
            "text/plain": [
              "<Figure size 640x480 with 1 Axes>"
            ],
            "image/png": "[encoded data removed]"
          },
          "metadata": {}
        },
        {
          "output_type": "stream",
          "name": "stdout",
          "text": [
            "softmax-performance:\n",
            "          N      Triton       Torch\n",
            "0     256.0  127.293267  206.869867\n",
            "1     384.0  194.257949  217.930649\n",
            "2     512.0  203.836653  218.367950\n",
            "3     640.0  217.913997  214.176941\n",
            "4     768.0  218.361992  214.503199\n",
            "5     896.0  219.825558  211.450739\n",
            "6    1024.0  220.688658  211.336927\n",
            "7    1152.0  222.336271  227.857458\n",
            "8    1280.0  222.895163  231.072439\n",
            "9    1408.0  221.782833  204.103793\n",
            "10   1536.0  221.765255  224.084849\n",
            "11   1664.0  222.890627  217.639813\n",
            "12   1792.0  223.194722  226.486303\n",
            "13   1920.0  222.550256  223.667915\n",
            "14   2048.0  223.479947  239.116479\n",
            "15   2176.0  224.109718  217.022095\n",
            "16   2304.0  224.240007  219.997448\n",
            "17   2432.0  223.758217  215.473911\n",
            "18   2560.0  224.263497  221.128987\n",
            "19   2688.0  223.354718  175.744986\n",
            "20   2816.0  224.558795  182.070120\n",
            "21   2944.0  223.661016  186.514527\n",
            "22   3072.0  224.004792  189.621543\n",
            "23   3200.0  223.526515  176.315732\n",
            "24   3328.0  224.808736  183.622825\n",
            "25   3456.0  223.816182  203.625616\n",
            "26   3584.0  224.514699  210.332300\n",
            "27   3712.0  224.811625  211.774806\n",
            "28   3840.0  225.385004  217.071688\n",
            "29   3968.0  225.114614  210.338963\n",
            "30   4096.0  226.545120  240.476961\n",
            "31   4224.0  227.804287  236.060823\n",
            "32   4352.0  227.728114  236.475100\n",
            "33   4480.0  227.549597  231.732432\n",
            "34   4608.0  226.892262  235.094360\n",
            "35   4736.0  226.915529  220.215351\n",
            "36   4864.0  227.466832  220.950624\n",
            "37   4992.0  227.186887  169.897123\n",
            "38   5120.0  198.326006  188.192745\n",
            "39   5248.0  226.720353  215.126854\n",
            "40   5376.0  227.536006  222.532028\n",
            "41   5504.0  226.923735  219.355754\n",
            "42   5632.0  227.340977  213.777538\n",
            "43   5760.0  226.981272  214.199256\n",
            "44   5888.0  227.572205  208.780428\n",
            "45   6016.0  227.189395  207.267679\n",
            "46   6144.0  228.211682  199.117821\n",
            "47   6272.0  226.917551  195.179616\n",
            "48   6400.0  227.915300  190.702010\n",
            "49   6528.0  227.024941  186.736154\n",
            "50   6656.0  227.393705  184.340737\n",
            "51   6784.0  226.854493  181.848155\n",
            "52   6912.0  226.670283  178.025562\n",
            "53   7040.0  226.727546  175.806563\n",
            "54   7168.0  227.596642  173.136268\n",
            "55   7296.0  226.580948  172.801311\n",
            "56   7424.0  227.357901  169.017006\n",
            "57   7552.0  226.956018  167.204229\n",
            "58   7680.0  227.879091  164.197617\n",
            "59   7808.0  226.759237  164.661434\n",
            "60   7936.0  227.440630  161.671352\n",
            "61   8064.0  227.201419  160.679066\n",
            "62   8192.0  227.641100  159.061671\n",
            "63   8320.0  235.547019  158.743946\n",
            "64   8448.0  235.569624  156.561522\n",
            "65   8576.0  235.655476  154.319523\n",
            "66   8704.0  235.087532  153.930312\n",
            "67   8832.0  235.781826  151.674684\n",
            "68   8960.0  192.069665  110.702487\n",
            "69   9088.0  216.207817  147.848843\n",
            "70   9216.0  234.593716  146.931960\n",
            "71   9344.0  235.556140  146.561614\n",
            "72   9472.0  236.002436  145.792223\n",
            "73   9600.0  235.475603  144.415327\n",
            "74   9728.0  235.640495  143.424893\n",
            "75   9856.0  235.242259  144.955257\n",
            "76   9984.0  235.447966  143.227801\n",
            "77  10112.0  235.215924  141.572631\n",
            "78  10240.0  235.351890  139.692130\n",
            "79  10368.0  234.661463  141.990157\n",
            "80  10496.0  235.096992  140.722757\n",
            "81  10624.0  234.734940  138.715715\n",
            "82  10752.0  234.270999  138.172106\n",
            "83  10880.0  234.526262  139.080784\n",
            "84  11008.0  234.695129  137.623973\n",
            "85  11136.0  234.245988  135.743139\n",
            "86  11264.0  234.200127  134.759508\n",
            "87  11392.0  233.793292  137.890547\n",
            "88  11520.0  233.884666  135.883092\n",
            "89  11648.0  197.699430  102.748487\n",
            "90  11776.0  206.209759  133.853020\n",
            "91  11904.0  233.430435  137.473784\n",
            "92  12032.0  233.320866  135.915060\n",
            "93  12160.0  233.015324  133.525599\n",
            "94  12288.0  233.373040  133.569281\n",
            "95  12416.0  232.863251  135.492805\n",
            "96  12544.0  233.812911  134.231930\n",
            "97  12672.0  232.464756  132.473286\n"
          ]
        }
      ]
    },
    {
      "cell_type": "code",
      "source": [],
      "metadata": {
        "id": "FQGK7vsZsSx0"
      },
      "execution_count": null,
      "outputs": []
    }
  ]
}