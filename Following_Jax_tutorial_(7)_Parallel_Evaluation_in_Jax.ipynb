{
  "nbformat": 4,
  "nbformat_minor": 0,
  "metadata": {
    "colab": {
      "provenance": [],
      "gpuType": "V28",
      "authorship_tag": "ABX9TyNp36VtrQXKEyRXsWFIVgby",
      "include_colab_link": true
    },
    "kernelspec": {
      "name": "python3",
      "display_name": "Python 3"
    },
    "language_info": {
      "name": "python"
    },
    "accelerator": "TPU"
  },
  "cells": [
    {
      "cell_type": "markdown",
      "metadata": {
        "id": "view-in-github",
        "colab_type": "text"
      },
      "source": [
        "<a href=\"https://colab.research.google.com/github/present42/PyTorchPractice/blob/main/Following_Jax_tutorial_(7)_Parallel_Evaluation_in_Jax.ipynb\" target=\"_parent\"><img src=\"https://colab.research.google.com/assets/colab-badge.svg\" alt=\"Open In Colab\"/></a>"
      ]
    },
    {
      "cell_type": "code",
      "execution_count": 1,
      "metadata": {
        "colab": {
          "base_uri": "https://localhost:8080/"
        },
        "id": "sw-vIYlhjF9m",
        "outputId": "a6fb8a23-c389-44a7-be46-206ec7e74977"
      },
      "outputs": [
        {
          "output_type": "execute_result",
          "data": {
            "text/plain": [
              "[TpuDevice(id=0, process_index=0, coords=(0,0,0), core_on_chip=0),\n",
              " TpuDevice(id=1, process_index=0, coords=(0,0,0), core_on_chip=1),\n",
              " TpuDevice(id=2, process_index=0, coords=(1,0,0), core_on_chip=0),\n",
              " TpuDevice(id=3, process_index=0, coords=(1,0,0), core_on_chip=1),\n",
              " TpuDevice(id=4, process_index=0, coords=(0,1,0), core_on_chip=0),\n",
              " TpuDevice(id=5, process_index=0, coords=(0,1,0), core_on_chip=1),\n",
              " TpuDevice(id=6, process_index=0, coords=(1,1,0), core_on_chip=0),\n",
              " TpuDevice(id=7, process_index=0, coords=(1,1,0), core_on_chip=1)]"
            ]
          },
          "metadata": {},
          "execution_count": 1
        }
      ],
      "source": [
        "import jax\n",
        "jax.devices()"
      ]
    },
    {
      "cell_type": "code",
      "source": [
        "import numpy as np\n",
        "import jax.numpy as jnp\n",
        "\n",
        "x = np.arange(5)\n",
        "w = np.array([2., 3., 4.])\n",
        "\n",
        "def convolve(x, w):\n",
        "  output = []\n",
        "  for i in range(1, len(x) - 1):\n",
        "    output.append(jnp.dot(x[i-1:i+2], w))\n",
        "  return jnp.array(output)\n",
        "\n",
        "convolve(x, w)"
      ],
      "metadata": {
        "colab": {
          "base_uri": "https://localhost:8080/"
        },
        "id": "H4syYpi2jYji",
        "outputId": "3f777399-b481-4b33-a829-29651d0e8e5b"
      },
      "execution_count": 4,
      "outputs": [
        {
          "output_type": "execute_result",
          "data": {
            "text/plain": [
              "Array([11., 20., 29.], dtype=float32)"
            ]
          },
          "metadata": {},
          "execution_count": 4
        }
      ]
    },
    {
      "cell_type": "code",
      "source": [
        "n_devices = jax.local_device_count()\n",
        "\n",
        "xs = np.arange(5 * n_devices).reshape(-1, 5)\n",
        "ws = np.stack([w] * n_devices)\n",
        "\n",
        "xs"
      ],
      "metadata": {
        "colab": {
          "base_uri": "https://localhost:8080/"
        },
        "id": "XfGiRa1Vj67h",
        "outputId": "05bb0ea6-5804-423d-cbba-9b5e6e78fbc5"
      },
      "execution_count": 5,
      "outputs": [
        {
          "output_type": "execute_result",
          "data": {
            "text/plain": [
              "array([[ 0,  1,  2,  3,  4],\n",
              "       [ 5,  6,  7,  8,  9],\n",
              "       [10, 11, 12, 13, 14],\n",
              "       [15, 16, 17, 18, 19],\n",
              "       [20, 21, 22, 23, 24],\n",
              "       [25, 26, 27, 28, 29],\n",
              "       [30, 31, 32, 33, 34],\n",
              "       [35, 36, 37, 38, 39]])"
            ]
          },
          "metadata": {},
          "execution_count": 5
        }
      ]
    },
    {
      "cell_type": "code",
      "source": [
        "ws"
      ],
      "metadata": {
        "colab": {
          "base_uri": "https://localhost:8080/"
        },
        "id": "VLXCA14TkL-5",
        "outputId": "fef82298-3046-4808-98c1-ce1cd3bd9735"
      },
      "execution_count": 6,
      "outputs": [
        {
          "output_type": "execute_result",
          "data": {
            "text/plain": [
              "array([[2., 3., 4.],\n",
              "       [2., 3., 4.],\n",
              "       [2., 3., 4.],\n",
              "       [2., 3., 4.],\n",
              "       [2., 3., 4.],\n",
              "       [2., 3., 4.],\n",
              "       [2., 3., 4.],\n",
              "       [2., 3., 4.]])"
            ]
          },
          "metadata": {},
          "execution_count": 6
        }
      ]
    },
    {
      "cell_type": "code",
      "source": [
        "jax.vmap(convolve)(xs, ws)"
      ],
      "metadata": {
        "colab": {
          "base_uri": "https://localhost:8080/"
        },
        "id": "AwK2Oe-4kNVZ",
        "outputId": "c4e7968b-d60b-4ad3-9dc5-fd2d64bb1542"
      },
      "execution_count": 7,
      "outputs": [
        {
          "output_type": "execute_result",
          "data": {
            "text/plain": [
              "Array([[ 11.,  20.,  29.],\n",
              "       [ 56.,  65.,  74.],\n",
              "       [101., 110., 119.],\n",
              "       [146., 155., 164.],\n",
              "       [191., 200., 209.],\n",
              "       [236., 245., 254.],\n",
              "       [281., 290., 299.],\n",
              "       [326., 335., 344.]], dtype=float32)"
            ]
          },
          "metadata": {},
          "execution_count": 7
        }
      ]
    },
    {
      "cell_type": "code",
      "source": [
        "jax.pmap(convolve)(xs, jax.pmap(convolve)(xs, ws))"
      ],
      "metadata": {
        "colab": {
          "base_uri": "https://localhost:8080/"
        },
        "id": "jEXDI9R0kQaZ",
        "outputId": "165f2436-c90f-467b-e250-cdb8a83f3f0c"
      },
      "execution_count": 10,
      "outputs": [
        {
          "output_type": "execute_result",
          "data": {
            "text/plain": [
              "Array([[   78.,   138.,   198.],\n",
              "       [ 1188.,  1383.,  1578.],\n",
              "       [ 3648.,  3978.,  4308.],\n",
              "       [ 7458.,  7923.,  8388.],\n",
              "       [12618., 13218., 13818.],\n",
              "       [19128., 19863., 20598.],\n",
              "       [26988., 27858., 28728.],\n",
              "       [36198., 37203., 38208.]], dtype=float32)"
            ]
          },
          "metadata": {},
          "execution_count": 10
        }
      ]
    },
    {
      "cell_type": "markdown",
      "source": [
        "## Specifying `in_axes`"
      ],
      "metadata": {
        "id": "QDEFGBDbkmku"
      }
    },
    {
      "cell_type": "code",
      "source": [
        "# inaxes specifies whether an argument to the parallelized function should be broadcasted (None)\n",
        "# or whether it should be split along a given axis\n",
        "jax.pmap(convolve, in_axes=(0, None))(xs, w)"
      ],
      "metadata": {
        "colab": {
          "base_uri": "https://localhost:8080/"
        },
        "id": "W2HJGu-KkTsH",
        "outputId": "d28f9a28-35cf-4220-e37f-83f6673c39a8"
      },
      "execution_count": 11,
      "outputs": [
        {
          "output_type": "execute_result",
          "data": {
            "text/plain": [
              "Array([[ 11.,  20.,  29.],\n",
              "       [ 56.,  65.,  74.],\n",
              "       [101., 110., 119.],\n",
              "       [146., 155., 164.],\n",
              "       [191., 200., 209.],\n",
              "       [236., 245., 254.],\n",
              "       [281., 290., 299.],\n",
              "       [326., 335., 344.]], dtype=float32)"
            ]
          },
          "metadata": {},
          "execution_count": 11
        }
      ]
    },
    {
      "cell_type": "markdown",
      "source": [
        "When calling the transformed function, the size of the specified axis in arguments must not exceed the number of devices available to the host."
      ],
      "metadata": {
        "id": "kUaay70XlAVu"
      }
    },
    {
      "cell_type": "code",
      "source": [
        "def normalized_convolution(x, w):\n",
        "  output = []\n",
        "  for i in range(1, len(x) - 1):\n",
        "    output.append(jnp.dot(x[i-1:i+2], w))\n",
        "  output = jnp.array(output)\n",
        "  return output / jax.lax.psum(output, axis_name='p')"
      ],
      "metadata": {
        "id": "Tz7PreBwk75A"
      },
      "execution_count": 14,
      "outputs": []
    },
    {
      "cell_type": "code",
      "source": [
        "jax.pmap(normalized_convolution, axis_name='p')(xs, ws)"
      ],
      "metadata": {
        "colab": {
          "base_uri": "https://localhost:8080/"
        },
        "id": "4okuWs-nlh66",
        "outputId": "589b0477-907f-4cf1-9d16-0b72709d0b36"
      },
      "execution_count": 15,
      "outputs": [
        {
          "output_type": "execute_result",
          "data": {
            "text/plain": [
              "Array([[0.00816024, 0.01408451, 0.019437  ],\n",
              "       [0.04154303, 0.04577465, 0.04959785],\n",
              "       [0.07492582, 0.07746479, 0.07975871],\n",
              "       [0.10830861, 0.10915492, 0.10991956],\n",
              "       [0.14169139, 0.14084506, 0.14008042],\n",
              "       [0.17507419, 0.17253521, 0.17024128],\n",
              "       [0.20845698, 0.20422535, 0.20040214],\n",
              "       [0.24183977, 0.23591548, 0.23056298]], dtype=float32)"
            ]
          },
          "metadata": {},
          "execution_count": 15
        }
      ]
    },
    {
      "cell_type": "markdown",
      "source": [
        "Note that `jax.vmap` also supports `axis_name` which allows `jax.lax.p*` operations to be used in the vectorization context in the same way they would be used in a `jax.pmap`."
      ],
      "metadata": {
        "id": "uJSvOAg1l18V"
      }
    },
    {
      "cell_type": "code",
      "source": [
        "jax.vmap(normalized_convolution, axis_name='p')(xs, ws)"
      ],
      "metadata": {
        "colab": {
          "base_uri": "https://localhost:8080/"
        },
        "id": "qVW4ya0nlmOQ",
        "outputId": "f8335455-af57-40d5-d3e4-da7a0b9e41ed"
      },
      "execution_count": 16,
      "outputs": [
        {
          "output_type": "execute_result",
          "data": {
            "text/plain": [
              "Array([[0.00816024, 0.01408451, 0.019437  ],\n",
              "       [0.04154303, 0.04577465, 0.04959785],\n",
              "       [0.07492582, 0.07746479, 0.07975871],\n",
              "       [0.10830861, 0.10915492, 0.10991956],\n",
              "       [0.14169139, 0.14084506, 0.14008042],\n",
              "       [0.17507419, 0.17253521, 0.17024128],\n",
              "       [0.20845698, 0.20422535, 0.20040214],\n",
              "       [0.24183977, 0.23591548, 0.23056298]], dtype=float32)"
            ]
          },
          "metadata": {},
          "execution_count": 16
        }
      ]
    },
    {
      "cell_type": "markdown",
      "source": [
        "## Nesting `jax.pmap` and `jax.vmap`\n",
        "\n",
        "Example of a regression training loop with data parallelism, where each batch is split into sub-batches wheich are evaluated on separate devices."
      ],
      "metadata": {
        "id": "xK1PQ5REmCh8"
      }
    },
    {
      "cell_type": "code",
      "source": [
        "jax.vmap(jax.pmap(f, axis_name='i'), axis_name='j')"
      ],
      "metadata": {
        "id": "RioFZl_hmD8N"
      },
      "execution_count": null,
      "outputs": []
    },
    {
      "cell_type": "code",
      "source": [
        "from typing import NamedTuple\n",
        "import functools\n",
        "\n",
        "class Params(NamedTuple):\n",
        "  weight: jnp.ndarray\n",
        "  bias: jnp.ndarray\n",
        "\n",
        "def init(rng) -> Params:\n",
        "  weights_key, bias_key = jax.random.split(rng)\n",
        "  weight = jax.random.normal(weights_key, ())\n",
        "  bias = jax.random.normal(bias_key, ())\n",
        "  return Params(weight, bias)\n",
        "\n",
        "def loss_fn(params: Params, xs: jnp.ndarray, ys: jnp.ndarray) -> jnp.ndarray:\n",
        "  pred = params.weight * xs + params.bias\n",
        "  return jnp.mean((pred - ys) ** 2)\n",
        "\n",
        "LEARNING_RATE = 0.005\n",
        "\n",
        "@functools.partial(jax.pmap, axis_name='num_devices')\n",
        "def update(params: Params, xs: jnp.ndarray, ys: jnp.ndarray) -> tuple[Params, jnp.ndarray]:\n",
        "  loss, grads = jax.value_and_grad(loss_fn)(params, xs, ys)\n",
        "\n",
        "  # aggregated gradient\n",
        "  grads = jax.lax.pmean(grads, axis_name='num_devices')\n",
        "\n",
        "  # aggregated loss\n",
        "  loss = jax.lax.pmean(loss, axis_name='num_devices')\n",
        "\n",
        "  new_params = jax.tree_map(\n",
        "      lambda param, g: param - LEARNING_RATE * g,\n",
        "      params,\n",
        "      grads\n",
        "  )\n",
        "\n",
        "  return new_params, loss"
      ],
      "metadata": {
        "id": "AzDRzXOgmD58"
      },
      "execution_count": 22,
      "outputs": []
    },
    {
      "cell_type": "code",
      "source": [
        "true_w, true_b = 2, -1\n",
        "xs = np.random.normal(size=(128, 1))\n",
        "noise = 0.5 * np.random.normal(size=(128, 1))\n",
        "ys = xs * true_w + true_b + noise\n",
        "\n",
        "params = init(jax.random.key(123))\n",
        "n_devices = jax.local_device_count()\n",
        "replicated_params = jax.tree_map(lambda x: jnp.array([x] * n_devices), params)"
      ],
      "metadata": {
        "id": "dtImhipNlx6J"
      },
      "execution_count": 30,
      "outputs": []
    },
    {
      "cell_type": "code",
      "source": [
        "replicated_params"
      ],
      "metadata": {
        "colab": {
          "base_uri": "https://localhost:8080/"
        },
        "id": "hCFq_BU3ozcf",
        "outputId": "2067e176-810a-42c6-b5c3-0f2fed90a9ce"
      },
      "execution_count": 31,
      "outputs": [
        {
          "output_type": "execute_result",
          "data": {
            "text/plain": [
              "Params(weight=Array([-0.12120727, -0.12120727, -0.12120727, -0.12120727, -0.12120727,\n",
              "       -0.12120727, -0.12120727, -0.12120727], dtype=float32), bias=Array([-1.7094023, -1.7094023, -1.7094023, -1.7094023, -1.7094023,\n",
              "       -1.7094023, -1.7094023, -1.7094023], dtype=float32))"
            ]
          },
          "metadata": {},
          "execution_count": 31
        }
      ]
    },
    {
      "cell_type": "code",
      "source": [
        "def split(arr):\n",
        "  return arr.reshape(n_devices, arr.shape[0] // n_devices, *arr.shape[1:])\n",
        "\n",
        "x_split = split(xs)\n",
        "y_split = split(ys)\n",
        "\n",
        "type(x_split)"
      ],
      "metadata": {
        "colab": {
          "base_uri": "https://localhost:8080/"
        },
        "id": "Phfi8gHso6TP",
        "outputId": "9cd06303-8ef3-46dc-d403-4b044dd61154"
      },
      "execution_count": 25,
      "outputs": [
        {
          "output_type": "execute_result",
          "data": {
            "text/plain": [
              "numpy.ndarray"
            ]
          },
          "metadata": {},
          "execution_count": 25
        }
      ]
    },
    {
      "cell_type": "code",
      "source": [
        "def type_after_update(name, obj):\n",
        "  print(f\"after first `update()`, `{name}` is a\", type(obj))\n",
        "\n",
        "for i in range(1000):\n",
        "  replicated_params, loss = update(replicated_params, x_split, y_split)\n",
        "\n",
        "  if i == 0:\n",
        "    type_after_update('replicated_params.weight', replicated_params.weight)\n",
        "    type_after_update('loss', loss)\n",
        "    type_after_update('x_split', x_split)\n",
        "\n",
        "  if i % 100 == 0:\n",
        "    print(f\"Step {i:3d}, loss {loss[0]:.3f}\")\n",
        "\n",
        "params = jax.device_get(jax.tree_map(lambda x: x[0], replicated_params))\n"
      ],
      "metadata": {
        "colab": {
          "base_uri": "https://localhost:8080/"
        },
        "id": "EMzkHMERpNZ3",
        "outputId": "21c0a700-e30d-457a-9010-17ffe2a88c7c"
      },
      "execution_count": 27,
      "outputs": [
        {
          "output_type": "stream",
          "name": "stdout",
          "text": [
            "after first `update()`, `replicated_params.weight` is a <class 'jaxlib.xla_extension.ArrayImpl'>\n",
            "after first `update()`, `loss` is a <class 'jaxlib.xla_extension.ArrayImpl'>\n",
            "after first `update()`, `x_split` is a <class 'numpy.ndarray'>\n",
            "Step   0, loss 0.263\n",
            "Step 100, loss 0.263\n",
            "Step 200, loss 0.263\n",
            "Step 300, loss 0.263\n",
            "Step 400, loss 0.263\n",
            "Step 500, loss 0.263\n",
            "Step 600, loss 0.263\n",
            "Step 700, loss 0.263\n",
            "Step 800, loss 0.263\n",
            "Step 900, loss 0.263\n"
          ]
        }
      ]
    },
    {
      "cell_type": "code",
      "source": [
        "import matplotlib.pyplot as plt\n",
        "plt.scatter(xs, ys)\n",
        "plt.plot(xs, params.weight * xs + params.bias, c='red', label='Model Prediction')\n",
        "plt.legend()\n",
        "plt.show()"
      ],
      "metadata": {
        "colab": {
          "base_uri": "https://localhost:8080/",
          "height": 430
        },
        "id": "wwRlYxmIqH_1",
        "outputId": "965cc7dd-73a8-4b49-d208-94dc72945a58"
      },
      "execution_count": 28,
      "outputs": [
        {
          "output_type": "display_data",
          "data": {
            "text/plain": [
              "<Figure size 640x480 with 1 Axes>"
            ],
            "image/png": "[encoded data removed]"
          },
          "metadata": {}
        }
      ]
    },
    {
      "cell_type": "code",
      "source": [
        "jax.devices()"
      ],
      "metadata": {
        "colab": {
          "base_uri": "https://localhost:8080/"
        },
        "id": "xOgbgeJsqlk3",
        "outputId": "9256c18e-00e8-409a-d2d2-766b53248688"
      },
      "execution_count": 32,
      "outputs": [
        {
          "output_type": "execute_result",
          "data": {
            "text/plain": [
              "[TpuDevice(id=0, process_index=0, coords=(0,0,0), core_on_chip=0),\n",
              " TpuDevice(id=1, process_index=0, coords=(0,0,0), core_on_chip=1),\n",
              " TpuDevice(id=2, process_index=0, coords=(1,0,0), core_on_chip=0),\n",
              " TpuDevice(id=3, process_index=0, coords=(1,0,0), core_on_chip=1),\n",
              " TpuDevice(id=4, process_index=0, coords=(0,1,0), core_on_chip=0),\n",
              " TpuDevice(id=5, process_index=0, coords=(0,1,0), core_on_chip=1),\n",
              " TpuDevice(id=6, process_index=0, coords=(1,1,0), core_on_chip=0),\n",
              " TpuDevice(id=7, process_index=0, coords=(1,1,0), core_on_chip=1)]"
            ]
          },
          "metadata": {},
          "execution_count": 32
        }
      ]
    },
    {
      "cell_type": "code",
      "source": [
        "import os"
      ],
      "metadata": {
        "id": "oXbpBrQrrvD2"
      },
      "execution_count": null,
      "outputs": []
    }
  ]
}