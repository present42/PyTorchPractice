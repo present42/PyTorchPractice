{
  "nbformat": 4,
  "nbformat_minor": 0,
  "metadata": {
    "colab": {
      "provenance": [],
      "authorship_tag": "ABX9TyPgWtKQWCMxnmzcLR7RtkF5"
    },
    "kernelspec": {
      "name": "python3",
      "display_name": "Python 3"
    },
    "language_info": {
      "name": "python"
    }
  },
  "cells": [
    {
      "cell_type": "markdown",
      "source": [
        "# Chapter 19. Concurrency Models in Python"
      ],
      "metadata": {
        "id": "qfkf_xHofK6G"
      }
    },
    {
      "cell_type": "markdown",
      "source": [
        "## The Big Picture\n",
        "\n",
        "Q. Starting threads and processes is easy enough, but how do you keep track of them?\n",
        "\n",
        "You don't automatically know when it's done, and getting back results or errors requires setting up some communication channel.\n",
        "\n",
        "A courtine is cheap to start. If you start a coroutine using the `await` keyword, it's easy to get a value returned by it, it can be safely cancelled and you have a clear stie to catch exception. But coroutines are often started by async framework and that can make them as hard to monitor as threads or processes."
      ],
      "metadata": {
        "id": "v4537oa8fuaL"
      }
    },
    {
      "cell_type": "markdown",
      "source": [
        "## A Bit of Jargon\n",
        "\n",
        "* Concurrency\n",
        " - The ability to handle multiple pending tasks, making progress one at a time or in parallel so that each of them eventually succeeds or fails.\n",
        "\n",
        "* Parallelism\n",
        " - The ability to execute multiple computations at the same time. This requires a multicore CPU, multiple CPUs, a GPU or multiple computers in a cluster.\n",
        "\n",
        "* Execution unit\n",
        " - General term for objs that execute code concurrently, each with independent state and call stack. (Python natively supports 3 kinds of execution units: processes, threads and coroutines)\n",
        "\n",
        "* Process\n",
        " - instance of a comp program while it is running, using memory and a slice of CPU time.\n",
        "\n",
        "* Thread\n",
        " - An execution unit within a single process. When a process satrts, it uses a single thread: the main thread. A process can create more threads to operate concurrently by calling operating system APIs. Threads within a process share the same memory space, which holds live Python objects. This allows easy data sharing between threads, but can also lead to corrupted data when more than one thread updates the same obj concurrently.\n",
        "\n",
        "* Coroutine\n",
        " - A fcn that can suspend itself and resume later. In Python, *classic coroutines* are built from generator fcn, and *native coroutines* are defined with `async def`.\n",
        "\n",
        ""
      ],
      "metadata": {
        "id": "zcUcgsFPgk2f"
      }
    },
    {
      "cell_type": "markdown",
      "source": [
        "## Processes, Threads, and Python's Infamous GIL\n",
        "\n",
        "1. Each instance of Python interpreter is a process. You can start additional Python processes using `multiprocessing` or `concurrent.futures` library. Python's `subprocess` lib is designed to launch processes to run external programs, regardless of the languages used to write them.\n",
        "\n",
        "2. The Python interpreter uses a single thread to run the user's program and the memory garbage collector. You can start additional Python threads using the `threading` or `concurrent.futures` lib.\n",
        "\n",
        "3. Access to object ref counts and other internal interpreter state is controlled by a lock, the Global Interpreter Lock (GIL). Only one python thread can hold the GIL at any time.\n",
        "\n",
        "4. To prevent a Python thread from holding the GIL indefinitely, Python bytecode interpreter pauses the current Python thread every 5ms by default.\n",
        "\n",
        "5. When we write Python code, we have no control over the GIL. but a built-in fcn or an extension written in C (or any lang that interfaces at the Python/C api level) can release the GIL while running time-consuming tasks.\n",
        "\n",
        "6. Every Python standard lib fcn that makes a `syscall` releases the GIL. This includes all fcns that perform disk I/O, network I/O, and `time.sleep()`. Many CPU intensive fcns in the NumPy/SciPy libraries also release the GIL.\n",
        "\n",
        "7. Extensions that integrate at the Python/C API level can also launch other non-Python threads that are not affected by the GIL. Such GIL-free threads generally cannot change Python objs, but they can read from and write to the memory underlying objects that support the \"buffer protocol\" such as `bytearray`, `array.array` and Numpy arrays.\n",
        "\n",
        "8. The effect of the GIL on network programming with Python threads is relatively small, because I/O fcn release the GIL, and r/w to the network always implies high latency. Consequently, each individual thread spends a lot of time waiting anyway, so their execution can be interleaved w/o major impact on the overall throughput.\n",
        "\n",
        "9. Contention over the GIL slows down compute-intensive Python threads. Sequential, single-threaded code is simpler and faster for such tasks.\n",
        "\n",
        "10. To run CPU-intensive Python code on multiple cores, you must use multiple Python processes."
      ],
      "metadata": {
        "id": "260euoLviecZ"
      }
    },
    {
      "cell_type": "markdown",
      "source": [
        "## A Concurrent Hello World"
      ],
      "metadata": {
        "id": "nbr4hV9ak_c2"
      }
    },
    {
      "cell_type": "markdown",
      "source": [
        "### Spinner with Threads\n",
        "\n",
        "Start a fcn that blocs for 3 seconds while animating characters in the terminal to let the user know that the program is \"thinking\" and not stalled."
      ],
      "metadata": {
        "id": "Gj7RtgMulHil"
      }
    },
    {
      "cell_type": "code",
      "execution_count": 3,
      "metadata": {
        "colab": {
          "base_uri": "https://localhost:8080/"
        },
        "id": "RPoOBYIoe9CN",
        "outputId": "d83509b1-1a16-4709-a498-bfa400939a4f"
      },
      "outputs": [
        {
          "output_type": "stream",
          "name": "stdout",
          "text": [
            "spinner object: <Thread(Thread-10 (spin), initial)>\n",
            "| thinking! Answer: 42\n"
          ]
        }
      ],
      "source": [
        "# spinner_thread.py\n",
        "\n",
        "import itertools\n",
        "import time\n",
        "from threading import Thread, Event\n",
        "\n",
        "# This fcn will run in a separate thread\n",
        "# The done arg is an instance of threading.Event\n",
        "# a symple obj to synchronize threads\n",
        "def spin(msg: str, done: Event) -> None:\n",
        "  for char in itertools.cycle(r'\\|/-'): # inf loop\n",
        "    status = f'\\r{char} {msg}' # trick for text-mode anim\n",
        "    # flush=True forcibly flushes the output stream\n",
        "    # independent of what default data buffering the file stream has\n",
        "    print(status, end='', flush=True)\n",
        "    if done.wait(.1): # Event.wait(timeout=None) method returns True\n",
        "    # when the event is set by another thread\n",
        "      break\n",
        "\n",
        "    blanks = ' ' * len(status)\n",
        "    print(f'\\r{blanks}\\r', end='')\n",
        "\n",
        "def slow() -> int:\n",
        "  time.sleep(3) # calling sleep blocks the main thread\n",
        "                # but GIL is released so the spinner thread can proceed\n",
        "  return 42\n",
        "\n",
        "# threading.Event class is Python's simplest signalling mechanism\n",
        "# to coordinate threads\n",
        "# supervisior() returns the result of slow\n",
        "def supervisor() -> int:\n",
        "  done = Event()\n",
        "  spinner = Thread(target=spin, args=('thinking!', done))\n",
        "  print(f'spinner object: {spinner}')\n",
        "  spinner.start() # start the thread\n",
        "  result = slow() # call slow, which blocks the main thread.\n",
        "                  # Meanwhile, the secondary thread is running the spinner anim\n",
        "  done.set() # set the Event flag to True\n",
        "  spinner.join() # wait until the spinner thread finishes\n",
        "  return result\n",
        "\n",
        "def main() -> None:\n",
        "  result = supervisor()\n",
        "  print(f\" Answer: {result}\")\n",
        "\n",
        "if __name__ == '__main__':\n",
        "  main()"
      ]
    },
    {
      "cell_type": "code",
      "source": [
        "!python spinner_thread.py"
      ],
      "metadata": {
        "colab": {
          "base_uri": "https://localhost:8080/"
        },
        "id": "rnC6-engmvW9",
        "outputId": "5040fd35-12b8-4d58-fc3e-63768eec67f0"
      },
      "execution_count": 5,
      "outputs": [
        {
          "output_type": "stream",
          "name": "stdout",
          "text": [
            "spinner object: <Thread(Thread-1 (spin), initial)>\n",
            "| thinking! Answer: 42\n"
          ]
        }
      ]
    },
    {
      "cell_type": "markdown",
      "source": [
        "### Spinner with Processes\n",
        "\n",
        "The `multiprocessing` package supports running concurrent tasks in separate Python processes instead of threads. When you create a `multiprocessing.Process` instance, a whole new Python interpreter is started as a child process in the background."
      ],
      "metadata": {
        "id": "swXp-p4aqae0"
      }
    },
    {
      "cell_type": "code",
      "source": [
        "# spinner_proc.py\n",
        "import itertools\n",
        "import time\n",
        "from multiprocessing import Process, Event\n",
        "from multiprocessing import synchronize # Mypy forces us to import syncrhonize\n",
        "\n",
        "# This fcn will run in a separate thread\n",
        "# The done arg is an instance of threading.Event\n",
        "# a symple obj to synchronize threads\n",
        "def spin(msg: str, done: synchronize.Event) -> None:\n",
        "  for char in itertools.cycle(r'\\|/-'): # inf loop\n",
        "    status = f'\\r{char} {msg}' # trick for text-mode anim\n",
        "    # flush=True forcibly flushes the output stream\n",
        "    # independent of what default data buffering the file stream has\n",
        "    print(status, end='', flush=True)\n",
        "    if done.wait(.1): # Event.wait(timeout=None) method returns True\n",
        "    # when the event is set by another thread\n",
        "      break\n",
        "\n",
        "    blanks = ' ' * len(status)\n",
        "    print(f'\\r{blanks}\\r', end='')\n",
        "\n",
        "def slow() -> int:\n",
        "  time.sleep(3) # calling sleep blocks the main thread\n",
        "                # but GIL is released so the spinner thread can proceed\n",
        "  return 42\n",
        "\n",
        "def supervisor() -> int:\n",
        "  done = Event()\n",
        "  spinner = Process(target=spin, args=('thinking!', done))\n",
        "  print(f\"spinner object: {spinner}\")\n",
        "  spinner.start()\n",
        "  result = slow()\n",
        "  done.set()\n",
        "  spinner.join()\n",
        "  return result\n",
        "\n",
        "def main() -> None:\n",
        "  result = supervisor()\n",
        "  print(f\" Answer: {result}\")\n",
        "\n",
        "if __name__ == '__main__':\n",
        "  main()"
      ],
      "metadata": {
        "id": "pyP0C0ZBmwZR"
      },
      "execution_count": null,
      "outputs": []
    },
    {
      "cell_type": "code",
      "source": [
        "!python spinner_proc.py"
      ],
      "metadata": {
        "colab": {
          "base_uri": "https://localhost:8080/"
        },
        "id": "M1_3OdqIrcl1",
        "outputId": "fbf71bfc-f9dc-42c8-c90d-8fa3d981f4b0"
      },
      "execution_count": 6,
      "outputs": [
        {
          "output_type": "stream",
          "name": "stdout",
          "text": [
            "spinner object: <Process name='Process-1' parent=13302 initial>\n",
            "| thinking! Answer: 42\n"
          ]
        }
      ]
    },
    {
      "cell_type": "markdown",
      "source": [
        "The basic API of `threading` and `multiprocessing` are simlar but their implementation is very different, and `multiprocessing` has a much larger API to handle the added complexity of multiprocess programming."
      ],
      "metadata": {
        "id": "zh2z_uSYsbWr"
      }
    },
    {
      "cell_type": "code",
      "source": [],
      "metadata": {
        "id": "u7VYN0P_reii"
      },
      "execution_count": null,
      "outputs": []
    }
  ]
}