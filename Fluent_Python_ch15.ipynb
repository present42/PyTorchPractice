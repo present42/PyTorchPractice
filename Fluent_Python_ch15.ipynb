{
  "nbformat": 4,
  "nbformat_minor": 0,
  "metadata": {
    "colab": {
      "provenance": [],
      "authorship_tag": "ABX9TyNwrJyyUe8PNsyNms5Ktx3M"
    },
    "kernelspec": {
      "name": "python3",
      "display_name": "Python 3"
    },
    "language_info": {
      "name": "python"
    }
  },
  "cells": [
    {
      "cell_type": "markdown",
      "source": [
        "# Chapter 15. More About Type Hints\n",
        "10:33 -\n",
        " - Overloaded function signatures\n",
        " - `typing.TypedDict` for type hinting `dicts` used as records\n",
        " - Type Casting\n",
        " - Runtime access to type hints\n",
        " - generic types\n",
        "  - declaring a generic class\n",
        "  - variance: invariant, convariant, contravariant\n",
        "  - generic static protocols"
      ],
      "metadata": {
        "id": "CrDbhK6Mv2Yn"
      }
    },
    {
      "cell_type": "markdown",
      "source": [
        "## Overloaded Signatures"
      ],
      "metadata": {
        "id": "aJputOYpwaC8"
      }
    },
    {
      "cell_type": "code",
      "execution_count": 1,
      "metadata": {
        "colab": {
          "base_uri": "https://localhost:8080/"
        },
        "id": "hboq8ElUvQie",
        "outputId": "067efffe-5c99-4840-88e0-3bb854e71ca3"
      },
      "outputs": [
        {
          "output_type": "stream",
          "name": "stdout",
          "text": [
            "Help on built-in function sum in module builtins:\n",
            "\n",
            "sum(iterable, /, start=0)\n",
            "    Return the sum of a 'start' value (default: 0) plus an iterable of numbers\n",
            "    \n",
            "    When the iterable is empty, return the start value.\n",
            "    This function is intended specifically for use with numeric values and may\n",
            "    reject non-numeric types.\n",
            "\n"
          ]
        }
      ],
      "source": [
        "help(sum)"
      ]
    },
    {
      "cell_type": "code",
      "source": [
        "# mysum.py\n",
        "import functools\n",
        "import operator\n",
        "from collections.abc import Iterable\n",
        "from typing import overload, Union, TypeVar\n",
        "\n",
        "T = TypeVar('T')\n",
        "S = TypeVar('S')\n",
        "\n",
        "@overload\n",
        "def sum(it: Iterable[T]) -> Union[T, int]: ...\n",
        "\n",
        "@overload\n",
        "def sum(it: Iterable[T], /, start: S) -> Union[T, S]: ...\n",
        "def sum(it, /, start=0):\n",
        "  return functools.reduce(operator.add, it, start)"
      ],
      "metadata": {
        "id": "g23xG8lMwh2W"
      },
      "execution_count": 2,
      "outputs": []
    },
    {
      "cell_type": "code",
      "source": [
        "sum([1, 2, 3])"
      ],
      "metadata": {
        "colab": {
          "base_uri": "https://localhost:8080/"
        },
        "id": "Hkx4Tz_Qyc3u",
        "outputId": "ce9c2138-e5bc-4c4e-b52d-84cace16a51f"
      },
      "execution_count": 4,
      "outputs": [
        {
          "output_type": "execute_result",
          "data": {
            "text/plain": [
              "6"
            ]
          },
          "metadata": {},
          "execution_count": 4
        }
      ]
    },
    {
      "cell_type": "code",
      "source": [
        "max([1, 2, 3])\n",
        "max(1, 2, 3)\n",
        "max([])"
      ],
      "metadata": {
        "colab": {
          "base_uri": "https://localhost:8080/",
          "height": 187
        },
        "id": "pgCxKQWeziRU",
        "outputId": "86d04af2-2caa-4fe8-8bf6-20e6fa0a064c"
      },
      "execution_count": 9,
      "outputs": [
        {
          "output_type": "error",
          "ename": "ValueError",
          "evalue": "max() arg is an empty sequence",
          "traceback": [
            "\u001b[0;31m---------------------------------------------------------------------------\u001b[0m",
            "\u001b[0;31mValueError\u001b[0m                                Traceback (most recent call last)",
            "\u001b[0;32m<ipython-input-9-2df02c8e5f8c>\u001b[0m in \u001b[0;36m<cell line: 3>\u001b[0;34m()\u001b[0m\n\u001b[1;32m      1\u001b[0m \u001b[0mmax\u001b[0m\u001b[0;34m(\u001b[0m\u001b[0;34m[\u001b[0m\u001b[0;36m1\u001b[0m\u001b[0;34m,\u001b[0m \u001b[0;36m2\u001b[0m\u001b[0;34m,\u001b[0m \u001b[0;36m3\u001b[0m\u001b[0;34m]\u001b[0m\u001b[0;34m)\u001b[0m\u001b[0;34m\u001b[0m\u001b[0;34m\u001b[0m\u001b[0m\n\u001b[1;32m      2\u001b[0m \u001b[0mmax\u001b[0m\u001b[0;34m(\u001b[0m\u001b[0;36m1\u001b[0m\u001b[0;34m,\u001b[0m \u001b[0;36m2\u001b[0m\u001b[0;34m,\u001b[0m \u001b[0;36m3\u001b[0m\u001b[0;34m)\u001b[0m\u001b[0;34m\u001b[0m\u001b[0;34m\u001b[0m\u001b[0m\n\u001b[0;32m----> 3\u001b[0;31m \u001b[0mmax\u001b[0m\u001b[0;34m(\u001b[0m\u001b[0;34m[\u001b[0m\u001b[0;34m]\u001b[0m\u001b[0;34m)\u001b[0m\u001b[0;34m\u001b[0m\u001b[0;34m\u001b[0m\u001b[0m\n\u001b[0m",
            "\u001b[0;31mValueError\u001b[0m: max() arg is an empty sequence"
          ]
        }
      ]
    },
    {
      "cell_type": "code",
      "source": [
        "# mymax.py\n",
        "from collections.abc import Callable, Iterable\n",
        "from typing import Protocol, Any, TypeVar, overload, Union\n",
        "\n",
        "class SupportsLessThan(Protocol):\n",
        "  def __lt__(self, other: Any) -> bool: ...\n",
        "\n",
        "T = TypeVar('T')\n",
        "LT = TypeVar('LT', bound=SupportsLessThan)\n",
        "DT = TypeVar('DT')\n",
        "\n",
        "MISSING = object()  # unique object instance used as sentinel\n",
        "EMPTY_MSG = 'max() arg is an empty sequence'\n",
        "\n",
        "@overload\n",
        "def max(__arg1: LT, __arg2: LT, *args: LT, key: None = ...) -> LT:\n",
        "  ...\n",
        "\n",
        "@overload\n",
        "def max(__arg1: T, __arg2: T, *args: T, key: Callable[[T], LT] = ...) -> T:\n",
        "  ...\n",
        "\n",
        "@overload\n",
        "def max(__iterable: Iterable[LT], *, key: None = ...) -> LT:\n",
        "  ...\n",
        "\n",
        "@overload\n",
        "def max(__iterable: Iterable[T], *, key: Callable[[T], LT] = ...) -> T:\n",
        "  ...\n",
        "\n",
        "@overload\n",
        "def max(__iterable: Iterable[LT], *, key: None = ...,\n",
        "        default: DT) -> Union[LT, DT]:\n",
        "  ...\n",
        "\n",
        "@overload\n",
        "def max(__iterable: Iterable[T], *, key: Callable[[T], LT] = ...,\n",
        "        default: DT) -> Union[T, DT]:\n",
        "  ...\n",
        "\n",
        "def max(first, *args, key=None, default=MISSING):\n",
        "  if args: # if there is a second positional argument\n",
        "    series = args\n",
        "    candidate = first\n",
        "  else:\n",
        "    series = iter(first)\n",
        "    try:\n",
        "      candidate = next(series)\n",
        "    except StopIteration:\n",
        "      if default is not MISSING:\n",
        "        return default\n",
        "      raise ValueError(EMPTY_MSG) from None\n",
        "  if key is None:\n",
        "    for current in series:\n",
        "      if candidate < current:\n",
        "        candidate = current\n",
        "  else:\n",
        "    candidate_key = key(candidate)\n",
        "    for current in series:\n",
        "      current_key = key(current)\n",
        "      if candidate_key < current_key:\n",
        "        candidate = current\n",
        "        candidate_key = current_key\n",
        "  return candidate"
      ],
      "metadata": {
        "id": "pQJ60V-LyeUU"
      },
      "execution_count": 19,
      "outputs": []
    },
    {
      "cell_type": "code",
      "source": [
        "def test(a, *, b, c=3):\n",
        "  print(a, b, c)"
      ],
      "metadata": {
        "id": "UqaGzbkvz-40"
      },
      "execution_count": 15,
      "outputs": []
    },
    {
      "cell_type": "code",
      "source": [
        "test(3, b=2)"
      ],
      "metadata": {
        "colab": {
          "base_uri": "https://localhost:8080/"
        },
        "id": "tHfkyYyp28qt",
        "outputId": "ef123ae1-02a7-4028-ef35-f148d0554167"
      },
      "execution_count": 18,
      "outputs": [
        {
          "output_type": "stream",
          "name": "stdout",
          "text": [
            "3 2 3\n"
          ]
        }
      ]
    },
    {
      "cell_type": "code",
      "source": [
        "test(a=3, b=2)"
      ],
      "metadata": {
        "colab": {
          "base_uri": "https://localhost:8080/",
          "height": 149
        },
        "id": "YxjS5LUC29zU",
        "outputId": "de915048-310d-4a9d-cea9-3cabeb152f23"
      },
      "execution_count": 14,
      "outputs": [
        {
          "output_type": "error",
          "ename": "TypeError",
          "evalue": "test() got some positional-only arguments passed as keyword arguments: 'a'",
          "traceback": [
            "\u001b[0;31m---------------------------------------------------------------------------\u001b[0m",
            "\u001b[0;31mTypeError\u001b[0m                                 Traceback (most recent call last)",
            "\u001b[0;32m<ipython-input-14-f175af6b6c6e>\u001b[0m in \u001b[0;36m<cell line: 1>\u001b[0;34m()\u001b[0m\n\u001b[0;32m----> 1\u001b[0;31m \u001b[0mtest\u001b[0m\u001b[0;34m(\u001b[0m\u001b[0ma\u001b[0m\u001b[0;34m=\u001b[0m\u001b[0;36m3\u001b[0m\u001b[0;34m,\u001b[0m \u001b[0mb\u001b[0m\u001b[0;34m=\u001b[0m\u001b[0;36m2\u001b[0m\u001b[0;34m)\u001b[0m\u001b[0;34m\u001b[0m\u001b[0;34m\u001b[0m\u001b[0m\n\u001b[0m",
            "\u001b[0;31mTypeError\u001b[0m: test() got some positional-only arguments passed as keyword arguments: 'a'"
          ]
        }
      ]
    },
    {
      "cell_type": "markdown",
      "source": [
        "## TypedDict\n",
        "\n",
        " - It's tempting to use `TypedDict` to protect against errors while handling dynamic data structures like JSON API responses. But the example here make clear that correct handling of JSON must be done at runtime."
      ],
      "metadata": {
        "id": "Nu1iAV0i46Vm"
      }
    },
    {
      "cell_type": "code",
      "source": [
        "from typing import TypedDict\n",
        "\n",
        "class BookDict(TypedDict):\n",
        "  isbn: str\n",
        "  title: str\n",
        "  authors: list[str]\n",
        "  pagecount: int"
      ],
      "metadata": {
        "id": "umG3gUdQ2_Dk"
      },
      "execution_count": 20,
      "outputs": []
    },
    {
      "cell_type": "markdown",
      "source": [
        "At first glance, `typing.TypedDict` may seem like a data class builder, similar to `typing.NamedDict`.\n",
        "\n",
        "But, it only exists for the benefit of type checkers! (No runtime effect)"
      ],
      "metadata": {
        "id": "E7yxDE0D5k2E"
      }
    },
    {
      "cell_type": "code",
      "source": [
        "pp = BookDict(title=\"Programming Pearls\",\n",
        "              authors='Jon Bentley', # no type checking in runtime\n",
        "              isbn='0201657880',\n",
        "              pagecount=256)"
      ],
      "metadata": {
        "id": "j5WbjkTC5ka0"
      },
      "execution_count": 21,
      "outputs": []
    },
    {
      "cell_type": "code",
      "source": [
        "pp"
      ],
      "metadata": {
        "colab": {
          "base_uri": "https://localhost:8080/"
        },
        "id": "eW-kA9-b6Cbk",
        "outputId": "64a6aa9c-0753-4046-d535-3047b74a827e"
      },
      "execution_count": 22,
      "outputs": [
        {
          "output_type": "execute_result",
          "data": {
            "text/plain": [
              "{'title': 'Programming Pearls',\n",
              " 'authors': 'Jon Bentley',\n",
              " 'isbn': '0201657880',\n",
              " 'pagecount': 256}"
            ]
          },
          "metadata": {},
          "execution_count": 22
        }
      ]
    },
    {
      "cell_type": "code",
      "source": [
        "type(pp) # result of calling BookDict is a plain dict"
      ],
      "metadata": {
        "colab": {
          "base_uri": "https://localhost:8080/"
        },
        "id": "EPUscC4a6Ctb",
        "outputId": "67a241d8-33d8-4b27-adb7-5f731797d0f9"
      },
      "execution_count": 23,
      "outputs": [
        {
          "output_type": "execute_result",
          "data": {
            "text/plain": [
              "dict"
            ]
          },
          "metadata": {},
          "execution_count": 23
        }
      ]
    },
    {
      "cell_type": "code",
      "source": [
        "BookDict.__annotations__"
      ],
      "metadata": {
        "colab": {
          "base_uri": "https://localhost:8080/"
        },
        "id": "BkzNc4696EGM",
        "outputId": "0f6b71c2-45ca-42b9-8594-ce6629e00020"
      },
      "execution_count": 25,
      "outputs": [
        {
          "output_type": "execute_result",
          "data": {
            "text/plain": [
              "{'isbn': str, 'title': str, 'authors': list[str], 'pagecount': int}"
            ]
          },
          "metadata": {},
          "execution_count": 25
        }
      ]
    },
    {
      "cell_type": "code",
      "source": [
        "# demo_books.py\n",
        "from typing import TYPE_CHECKING\n",
        "\n",
        "def demo() -> None: # Don't forget to add None so that Mypy doesn't ignore the fcn\n",
        "  book = BookDict(\n",
        "      isbn='0134757599',\n",
        "      authors=['Martin Fowler', 'Kent Beck'],\n",
        "      title='Refactoring, 2e',\n",
        "      pagesount=478\n",
        "  )\n",
        "  authors = book['authors']\n",
        "  if TYPE_CHECKING:\n",
        "    reveal_type(authors)\n",
        "  authors = 'Bob'\n",
        "  book['weight'] = 4.2\n",
        "  del book['title']\n",
        "\n",
        "if __name__ == \"__main__\":\n",
        "  demo()"
      ],
      "metadata": {
        "id": "Rv9sebB36FHs"
      },
      "execution_count": 34,
      "outputs": []
    },
    {
      "cell_type": "code",
      "source": [
        "!pip install mypy"
      ],
      "metadata": {
        "colab": {
          "base_uri": "https://localhost:8080/"
        },
        "id": "zZ70eBWu7PyU",
        "outputId": "93734c26-4940-44cf-8608-15fa8b253ef1"
      },
      "execution_count": 28,
      "outputs": [
        {
          "output_type": "stream",
          "name": "stdout",
          "text": [
            "Installing collected packages: mypy-extensions, mypy\n",
            "Successfully installed mypy-1.10.0 mypy-extensions-1.0.0\n"
          ]
        }
      ]
    },
    {
      "cell_type": "code",
      "source": [
        "!mypy demo_book.py"
      ],
      "metadata": {
        "colab": {
          "base_uri": "https://localhost:8080/"
        },
        "id": "G9J_JxAr7TGc",
        "outputId": "37a51c64-d736-4bc2-f8ed-4087f408301d"
      },
      "execution_count": 31,
      "outputs": [
        {
          "output_type": "stream",
          "name": "stdout",
          "text": [
            "demo_book.py:14: \u001b[34mnote:\u001b[m Revealed type is \u001b[m\u001b[1m\"builtins.list[builtins.str]\"\u001b[m\u001b[m\n",
            "demo_book.py:15: \u001b[1m\u001b[31merror:\u001b[m Incompatible types in assignment (expression has type \u001b[m\u001b[1m\"str\"\u001b[m, variable has type \u001b[m\u001b[1m\"list[str]\"\u001b[m)  \u001b[m\u001b[33m[assignment]\u001b[m\n",
            "demo_book.py:16: \u001b[1m\u001b[31merror:\u001b[m TypedDict \u001b[m\u001b[1m\"BookDict\"\u001b[m has no key \u001b[m\u001b[1m\"weight\"\u001b[m  \u001b[m\u001b[33m[typeddict-unknown-key]\u001b[m\n",
            "demo_book.py:17: \u001b[1m\u001b[31merror:\u001b[m Key \u001b[m\u001b[1m\"title\"\u001b[m of TypedDict \u001b[m\u001b[1m\"BookDict\"\u001b[m cannot be deleted  \u001b[m\u001b[33m[misc]\u001b[m\n",
            "\u001b[1m\u001b[31mFound 3 errors in 1 file (checked 1 source file)\u001b[m\n"
          ]
        }
      ]
    },
    {
      "cell_type": "code",
      "source": [
        "# books.py\n",
        "AUTHOR_ELEMENT = '<AUTHOR>{}</AUTHOR>'\n",
        "\n",
        "def to_xml(book: BookDict) -> str: # whole point of example = using BookDict in the fcn signature\n",
        "  elements: list[str] = []\n",
        "  for key, value in book.items():\n",
        "    if isinstance(value, list):\n",
        "      elements.extend(\n",
        "          AUTHOR_ELEMENT.format(n) for n in value\n",
        "      )\n",
        "    else:\n",
        "      tag = key.upper()\n",
        "      elements.append(f'<{tag}>{value}</{tag}>')\n",
        "  xml = '\\n\\t'.join(elements)\n",
        "  return f'<BOOK>\\n\\t{xml}\\n</BOOK>'"
      ],
      "metadata": {
        "id": "roLNT74P7Wf8"
      },
      "execution_count": 35,
      "outputs": []
    },
    {
      "cell_type": "code",
      "source": [
        "!mypy books.py"
      ],
      "metadata": {
        "colab": {
          "base_uri": "https://localhost:8080/"
        },
        "id": "A9oJzLQN8zm9",
        "outputId": "9ec598e9-c84a-4d4b-ce1f-e26a710acf42"
      },
      "execution_count": 36,
      "outputs": [
        {
          "output_type": "stream",
          "name": "stdout",
          "text": [
            "\u001b[1m\u001b[32mSuccess: no issues found in 1 source file\u001b[m\n"
          ]
        }
      ]
    },
    {
      "cell_type": "code",
      "source": [
        "!mypy books_any.py --disallow-any-expr"
      ],
      "metadata": {
        "colab": {
          "base_uri": "https://localhost:8080/"
        },
        "id": "l6ygrNai9Vp7",
        "outputId": "b70dc49b-d7f2-420d-b714-37b4d079e873"
      },
      "execution_count": 37,
      "outputs": [
        {
          "output_type": "stream",
          "name": "stdout",
          "text": [
            "\u001b[1m\u001b[32mSuccess: no issues found in 1 source file\u001b[m\n"
          ]
        }
      ]
    },
    {
      "cell_type": "code",
      "source": [
        "# demo_not_book.py\n",
        "from books import to_xml, from_json\n",
        "from typing import TYPE_CHECKING\n",
        "\n",
        "def demo() -> None:\n",
        "  NOT_BOOK_JSON = \"\"\"\n",
        "    {\"title\": \"Andromeda Strain\",\n",
        "     \"flavor\": \"pistachio\",\n",
        "     \"authors\": true}\n",
        "  \"\"\"\n",
        "\n",
        "  not_book = from_json(NOT_BOOK_JSON)\n",
        "  if TYPE_CHECKING:\n",
        "    reveal_type(not_book)\n",
        "    reveal_type(not_book['authors'])\n",
        "\n",
        "  print(not_book)\n",
        "  print(not_book['flavor'])\n",
        "\n",
        "  xml = to_xml(not_book)\n",
        "  print(xml)\n",
        "\n",
        "if __name__ == \"__main__\":\n",
        "  demo()"
      ],
      "metadata": {
        "id": "haYmHzEA99hT"
      },
      "execution_count": null,
      "outputs": []
    },
    {
      "cell_type": "code",
      "source": [
        "!mypy demo_not_book.py"
      ],
      "metadata": {
        "colab": {
          "base_uri": "https://localhost:8080/"
        },
        "id": "baLJETs6ErNf",
        "outputId": "2d49a3ed-ef7d-49aa-d818-13d25ee2fe09"
      },
      "execution_count": 38,
      "outputs": [
        {
          "output_type": "stream",
          "name": "stdout",
          "text": [
            "demo_not_book.py:14: \u001b[34mnote:\u001b[m Revealed type is \u001b[m\u001b[1m\"TypedDict('books.BookDict', {'isbn': builtins.str, 'title': builtins.str, 'authors': builtins.list[builtins.str], 'pagecount': builtins.int})\"\u001b[m\u001b[m\n",
            "demo_not_book.py:15: \u001b[34mnote:\u001b[m Revealed type is \u001b[m\u001b[1m\"builtins.list[builtins.str]\"\u001b[m\u001b[m\n",
            "demo_not_book.py:18: \u001b[1m\u001b[31merror:\u001b[m TypedDict \u001b[m\u001b[1m\"BookDict\"\u001b[m has no key \u001b[m\u001b[1m\"flavor\"\u001b[m  \u001b[m\u001b[33m[typeddict-item]\u001b[m\n",
            "\u001b[1m\u001b[31mFound 1 error in 1 file (checked 1 source file)\u001b[m\n"
          ]
        }
      ]
    },
    {
      "cell_type": "code",
      "source": [
        "!python demo_not_book.py"
      ],
      "metadata": {
        "colab": {
          "base_uri": "https://localhost:8080/"
        },
        "id": "W75FHd4rEtvo",
        "outputId": "6df9602f-5f1b-461c-e9a8-f17cd73da840"
      },
      "execution_count": 39,
      "outputs": [
        {
          "output_type": "stream",
          "name": "stdout",
          "text": [
            "{'title': 'Andromeda Strain', 'flavor': 'pistachio', 'authors': True}\n",
            "pistachio\n",
            "<BOOK>\n",
            "\t<TITLE>Andromeda Strain</TITLE>\n",
            "\t<FLAVOR>pistachio</FLAVOR>\n",
            "\t<AUTHORS>True</AUTHORS>\n",
            "</BOOK>\n"
          ]
        }
      ]
    },
    {
      "cell_type": "code",
      "source": [],
      "metadata": {
        "id": "pV98YaoLE1Tf"
      },
      "execution_count": null,
      "outputs": []
    }
  ]
}