{
  "nbformat": 4,
  "nbformat_minor": 0,
  "metadata": {
    "colab": {
      "provenance": [],
      "authorship_tag": "ABX9TyNrnTlSk6FaAAJk/Cn9x/w3",
      "include_colab_link": true
    },
    "kernelspec": {
      "name": "python3",
      "display_name": "Python 3"
    },
    "language_info": {
      "name": "python"
    }
  },
  "cells": [
    {
      "cell_type": "markdown",
      "metadata": {
        "id": "view-in-github",
        "colab_type": "text"
      },
      "source": [
        "<a href=\"https://colab.research.google.com/github/present42/PyTorchPractice/blob/main/Fluent_Python_ch15.ipynb\" target=\"_parent\"><img src=\"https://colab.research.google.com/assets/colab-badge.svg\" alt=\"Open In Colab\"/></a>"
      ]
    },
    {
      "cell_type": "markdown",
      "source": [
        "# Chapter 15. More About Type Hints\n",
        "10:33 -\n",
        " - Overloaded function signatures\n",
        " - `typing.TypedDict` for type hinting `dicts` used as records\n",
        " - Type Casting\n",
        " - Runtime access to type hints\n",
        " - generic types\n",
        "  - declaring a generic class\n",
        "  - variance: invariant, convariant, contravariant\n",
        "  - generic static protocols"
      ],
      "metadata": {
        "id": "CrDbhK6Mv2Yn"
      }
    },
    {
      "cell_type": "markdown",
      "source": [
        "## Overloaded Signatures"
      ],
      "metadata": {
        "id": "aJputOYpwaC8"
      }
    },
    {
      "cell_type": "code",
      "execution_count": null,
      "metadata": {
        "colab": {
          "base_uri": "https://localhost:8080/"
        },
        "id": "hboq8ElUvQie",
        "outputId": "067efffe-5c99-4840-88e0-3bb854e71ca3"
      },
      "outputs": [
        {
          "output_type": "stream",
          "name": "stdout",
          "text": [
            "Help on built-in function sum in module builtins:\n",
            "\n",
            "sum(iterable, /, start=0)\n",
            "    Return the sum of a 'start' value (default: 0) plus an iterable of numbers\n",
            "    \n",
            "    When the iterable is empty, return the start value.\n",
            "    This function is intended specifically for use with numeric values and may\n",
            "    reject non-numeric types.\n",
            "\n"
          ]
        }
      ],
      "source": [
        "help(sum)"
      ]
    },
    {
      "cell_type": "code",
      "source": [
        "# mysum.py\n",
        "import functools\n",
        "import operator\n",
        "from collections.abc import Iterable\n",
        "from typing import overload, Union, TypeVar\n",
        "\n",
        "T = TypeVar('T')\n",
        "S = TypeVar('S')\n",
        "\n",
        "@overload\n",
        "def sum(it: Iterable[T]) -> Union[T, int]: ...\n",
        "\n",
        "@overload\n",
        "def sum(it: Iterable[T], /, start: S) -> Union[T, S]: ...\n",
        "def sum(it, /, start=0):\n",
        "  return functools.reduce(operator.add, it, start)"
      ],
      "metadata": {
        "id": "g23xG8lMwh2W"
      },
      "execution_count": null,
      "outputs": []
    },
    {
      "cell_type": "code",
      "source": [
        "sum([1, 2, 3])"
      ],
      "metadata": {
        "colab": {
          "base_uri": "https://localhost:8080/"
        },
        "id": "Hkx4Tz_Qyc3u",
        "outputId": "ce9c2138-e5bc-4c4e-b52d-84cace16a51f"
      },
      "execution_count": null,
      "outputs": [
        {
          "output_type": "execute_result",
          "data": {
            "text/plain": [
              "6"
            ]
          },
          "metadata": {},
          "execution_count": 4
        }
      ]
    },
    {
      "cell_type": "code",
      "source": [
        "max([1, 2, 3])\n",
        "max(1, 2, 3)\n",
        "max([])"
      ],
      "metadata": {
        "colab": {
          "base_uri": "https://localhost:8080/",
          "height": 187
        },
        "id": "pgCxKQWeziRU",
        "outputId": "86d04af2-2caa-4fe8-8bf6-20e6fa0a064c"
      },
      "execution_count": null,
      "outputs": [
        {
          "output_type": "error",
          "ename": "ValueError",
          "evalue": "max() arg is an empty sequence",
          "traceback": [
            "\u001b[0;31m---------------------------------------------------------------------------\u001b[0m",
            "\u001b[0;31mValueError\u001b[0m                                Traceback (most recent call last)",
            "\u001b[0;32m<ipython-input-9-2df02c8e5f8c>\u001b[0m in \u001b[0;36m<cell line: 3>\u001b[0;34m()\u001b[0m\n\u001b[1;32m      1\u001b[0m \u001b[0mmax\u001b[0m\u001b[0;34m(\u001b[0m\u001b[0;34m[\u001b[0m\u001b[0;36m1\u001b[0m\u001b[0;34m,\u001b[0m \u001b[0;36m2\u001b[0m\u001b[0;34m,\u001b[0m \u001b[0;36m3\u001b[0m\u001b[0;34m]\u001b[0m\u001b[0;34m)\u001b[0m\u001b[0;34m\u001b[0m\u001b[0;34m\u001b[0m\u001b[0m\n\u001b[1;32m      2\u001b[0m \u001b[0mmax\u001b[0m\u001b[0;34m(\u001b[0m\u001b[0;36m1\u001b[0m\u001b[0;34m,\u001b[0m \u001b[0;36m2\u001b[0m\u001b[0;34m,\u001b[0m \u001b[0;36m3\u001b[0m\u001b[0;34m)\u001b[0m\u001b[0;34m\u001b[0m\u001b[0;34m\u001b[0m\u001b[0m\n\u001b[0;32m----> 3\u001b[0;31m \u001b[0mmax\u001b[0m\u001b[0;34m(\u001b[0m\u001b[0;34m[\u001b[0m\u001b[0;34m]\u001b[0m\u001b[0;34m)\u001b[0m\u001b[0;34m\u001b[0m\u001b[0;34m\u001b[0m\u001b[0m\n\u001b[0m",
            "\u001b[0;31mValueError\u001b[0m: max() arg is an empty sequence"
          ]
        }
      ]
    },
    {
      "cell_type": "code",
      "source": [
        "# mymax.py\n",
        "from collections.abc import Callable, Iterable\n",
        "from typing import Protocol, Any, TypeVar, overload, Union\n",
        "\n",
        "class SupportsLessThan(Protocol):\n",
        "  def __lt__(self, other: Any) -> bool: ...\n",
        "\n",
        "T = TypeVar('T')\n",
        "LT = TypeVar('LT', bound=SupportsLessThan)\n",
        "DT = TypeVar('DT')\n",
        "\n",
        "MISSING = object()  # unique object instance used as sentinel\n",
        "EMPTY_MSG = 'max() arg is an empty sequence'\n",
        "\n",
        "@overload\n",
        "def max(__arg1: LT, __arg2: LT, *args: LT, key: None = ...) -> LT:\n",
        "  ...\n",
        "\n",
        "@overload\n",
        "def max(__arg1: T, __arg2: T, *args: T, key: Callable[[T], LT] = ...) -> T:\n",
        "  ...\n",
        "\n",
        "@overload\n",
        "def max(__iterable: Iterable[LT], *, key: None = ...) -> LT:\n",
        "  ...\n",
        "\n",
        "@overload\n",
        "def max(__iterable: Iterable[T], *, key: Callable[[T], LT] = ...) -> T:\n",
        "  ...\n",
        "\n",
        "@overload\n",
        "def max(__iterable: Iterable[LT], *, key: None = ...,\n",
        "        default: DT) -> Union[LT, DT]:\n",
        "  ...\n",
        "\n",
        "@overload\n",
        "def max(__iterable: Iterable[T], *, key: Callable[[T], LT] = ...,\n",
        "        default: DT) -> Union[T, DT]:\n",
        "  ...\n",
        "\n",
        "def max(first, *args, key=None, default=MISSING):\n",
        "  if args: # if there is a second positional argument\n",
        "    series = args\n",
        "    candidate = first\n",
        "  else:\n",
        "    series = iter(first)\n",
        "    try:\n",
        "      candidate = next(series)\n",
        "    except StopIteration:\n",
        "      if default is not MISSING:\n",
        "        return default\n",
        "      raise ValueError(EMPTY_MSG) from None\n",
        "  if key is None:\n",
        "    for current in series:\n",
        "      if candidate < current:\n",
        "        candidate = current\n",
        "  else:\n",
        "    candidate_key = key(candidate)\n",
        "    for current in series:\n",
        "      current_key = key(current)\n",
        "      if candidate_key < current_key:\n",
        "        candidate = current\n",
        "        candidate_key = current_key\n",
        "  return candidate"
      ],
      "metadata": {
        "id": "pQJ60V-LyeUU"
      },
      "execution_count": null,
      "outputs": []
    },
    {
      "cell_type": "code",
      "source": [
        "def test(a, *, b, c=3):\n",
        "  print(a, b, c)"
      ],
      "metadata": {
        "id": "UqaGzbkvz-40"
      },
      "execution_count": null,
      "outputs": []
    },
    {
      "cell_type": "code",
      "source": [
        "test(3, b=2)"
      ],
      "metadata": {
        "colab": {
          "base_uri": "https://localhost:8080/"
        },
        "id": "tHfkyYyp28qt",
        "outputId": "ef123ae1-02a7-4028-ef35-f148d0554167"
      },
      "execution_count": null,
      "outputs": [
        {
          "output_type": "stream",
          "name": "stdout",
          "text": [
            "3 2 3\n"
          ]
        }
      ]
    },
    {
      "cell_type": "code",
      "source": [
        "test(a=3, b=2)"
      ],
      "metadata": {
        "colab": {
          "base_uri": "https://localhost:8080/",
          "height": 149
        },
        "id": "YxjS5LUC29zU",
        "outputId": "de915048-310d-4a9d-cea9-3cabeb152f23"
      },
      "execution_count": null,
      "outputs": [
        {
          "output_type": "error",
          "ename": "TypeError",
          "evalue": "test() got some positional-only arguments passed as keyword arguments: 'a'",
          "traceback": [
            "\u001b[0;31m---------------------------------------------------------------------------\u001b[0m",
            "\u001b[0;31mTypeError\u001b[0m                                 Traceback (most recent call last)",
            "\u001b[0;32m<ipython-input-14-f175af6b6c6e>\u001b[0m in \u001b[0;36m<cell line: 1>\u001b[0;34m()\u001b[0m\n\u001b[0;32m----> 1\u001b[0;31m \u001b[0mtest\u001b[0m\u001b[0;34m(\u001b[0m\u001b[0ma\u001b[0m\u001b[0;34m=\u001b[0m\u001b[0;36m3\u001b[0m\u001b[0;34m,\u001b[0m \u001b[0mb\u001b[0m\u001b[0;34m=\u001b[0m\u001b[0;36m2\u001b[0m\u001b[0;34m)\u001b[0m\u001b[0;34m\u001b[0m\u001b[0;34m\u001b[0m\u001b[0m\n\u001b[0m",
            "\u001b[0;31mTypeError\u001b[0m: test() got some positional-only arguments passed as keyword arguments: 'a'"
          ]
        }
      ]
    },
    {
      "cell_type": "markdown",
      "source": [
        "## TypedDict\n",
        "\n",
        " - It's tempting to use `TypedDict` to protect against errors while handling dynamic data structures like JSON API responses. But the example here make clear that correct handling of JSON must be done at runtime."
      ],
      "metadata": {
        "id": "Nu1iAV0i46Vm"
      }
    },
    {
      "cell_type": "code",
      "source": [
        "from typing import TypedDict\n",
        "\n",
        "class BookDict(TypedDict):\n",
        "  isbn: str\n",
        "  title: str\n",
        "  authors: list[str]\n",
        "  pagecount: int"
      ],
      "metadata": {
        "id": "umG3gUdQ2_Dk"
      },
      "execution_count": null,
      "outputs": []
    },
    {
      "cell_type": "markdown",
      "source": [
        "At first glance, `typing.TypedDict` may seem like a data class builder, similar to `typing.NamedDict`.\n",
        "\n",
        "But, it only exists for the benefit of type checkers! (No runtime effect)"
      ],
      "metadata": {
        "id": "E7yxDE0D5k2E"
      }
    },
    {
      "cell_type": "code",
      "source": [
        "pp = BookDict(title=\"Programming Pearls\",\n",
        "              authors='Jon Bentley', # no type checking in runtime\n",
        "              isbn='0201657880',\n",
        "              pagecount=256)"
      ],
      "metadata": {
        "id": "j5WbjkTC5ka0"
      },
      "execution_count": null,
      "outputs": []
    },
    {
      "cell_type": "code",
      "source": [
        "pp"
      ],
      "metadata": {
        "colab": {
          "base_uri": "https://localhost:8080/"
        },
        "id": "eW-kA9-b6Cbk",
        "outputId": "64a6aa9c-0753-4046-d535-3047b74a827e"
      },
      "execution_count": null,
      "outputs": [
        {
          "output_type": "execute_result",
          "data": {
            "text/plain": [
              "{'title': 'Programming Pearls',\n",
              " 'authors': 'Jon Bentley',\n",
              " 'isbn': '0201657880',\n",
              " 'pagecount': 256}"
            ]
          },
          "metadata": {},
          "execution_count": 22
        }
      ]
    },
    {
      "cell_type": "code",
      "source": [
        "type(pp) # result of calling BookDict is a plain dict"
      ],
      "metadata": {
        "colab": {
          "base_uri": "https://localhost:8080/"
        },
        "id": "EPUscC4a6Ctb",
        "outputId": "67a241d8-33d8-4b27-adb7-5f731797d0f9"
      },
      "execution_count": null,
      "outputs": [
        {
          "output_type": "execute_result",
          "data": {
            "text/plain": [
              "dict"
            ]
          },
          "metadata": {},
          "execution_count": 23
        }
      ]
    },
    {
      "cell_type": "code",
      "source": [
        "BookDict.__annotations__"
      ],
      "metadata": {
        "colab": {
          "base_uri": "https://localhost:8080/"
        },
        "id": "BkzNc4696EGM",
        "outputId": "0f6b71c2-45ca-42b9-8594-ce6629e00020"
      },
      "execution_count": null,
      "outputs": [
        {
          "output_type": "execute_result",
          "data": {
            "text/plain": [
              "{'isbn': str, 'title': str, 'authors': list[str], 'pagecount': int}"
            ]
          },
          "metadata": {},
          "execution_count": 25
        }
      ]
    },
    {
      "cell_type": "code",
      "source": [
        "# demo_books.py\n",
        "from typing import TYPE_CHECKING\n",
        "\n",
        "def demo() -> None: # Don't forget to add None so that Mypy doesn't ignore the fcn\n",
        "  book = BookDict(\n",
        "      isbn='0134757599',\n",
        "      authors=['Martin Fowler', 'Kent Beck'],\n",
        "      title='Refactoring, 2e',\n",
        "      pagesount=478\n",
        "  )\n",
        "  authors = book['authors']\n",
        "  if TYPE_CHECKING:\n",
        "    reveal_type(authors)\n",
        "  authors = 'Bob'\n",
        "  book['weight'] = 4.2\n",
        "  del book['title']\n",
        "\n",
        "if __name__ == \"__main__\":\n",
        "  demo()"
      ],
      "metadata": {
        "id": "Rv9sebB36FHs"
      },
      "execution_count": null,
      "outputs": []
    },
    {
      "cell_type": "code",
      "source": [
        "!pip install mypy"
      ],
      "metadata": {
        "colab": {
          "base_uri": "https://localhost:8080/"
        },
        "id": "zZ70eBWu7PyU",
        "outputId": "93734c26-4940-44cf-8608-15fa8b253ef1"
      },
      "execution_count": null,
      "outputs": [
        {
          "output_type": "stream",
          "name": "stdout",
          "text": [
            "Installing collected packages: mypy-extensions, mypy\n",
            "Successfully installed mypy-1.10.0 mypy-extensions-1.0.0\n"
          ]
        }
      ]
    },
    {
      "cell_type": "code",
      "source": [
        "!mypy demo_book.py"
      ],
      "metadata": {
        "colab": {
          "base_uri": "https://localhost:8080/"
        },
        "id": "G9J_JxAr7TGc",
        "outputId": "37a51c64-d736-4bc2-f8ed-4087f408301d"
      },
      "execution_count": null,
      "outputs": [
        {
          "output_type": "stream",
          "name": "stdout",
          "text": [
            "demo_book.py:14: \u001b[34mnote:\u001b[m Revealed type is \u001b[m\u001b[1m\"builtins.list[builtins.str]\"\u001b[m\u001b[m\n",
            "demo_book.py:15: \u001b[1m\u001b[31merror:\u001b[m Incompatible types in assignment (expression has type \u001b[m\u001b[1m\"str\"\u001b[m, variable has type \u001b[m\u001b[1m\"list[str]\"\u001b[m)  \u001b[m\u001b[33m[assignment]\u001b[m\n",
            "demo_book.py:16: \u001b[1m\u001b[31merror:\u001b[m TypedDict \u001b[m\u001b[1m\"BookDict\"\u001b[m has no key \u001b[m\u001b[1m\"weight\"\u001b[m  \u001b[m\u001b[33m[typeddict-unknown-key]\u001b[m\n",
            "demo_book.py:17: \u001b[1m\u001b[31merror:\u001b[m Key \u001b[m\u001b[1m\"title\"\u001b[m of TypedDict \u001b[m\u001b[1m\"BookDict\"\u001b[m cannot be deleted  \u001b[m\u001b[33m[misc]\u001b[m\n",
            "\u001b[1m\u001b[31mFound 3 errors in 1 file (checked 1 source file)\u001b[m\n"
          ]
        }
      ]
    },
    {
      "cell_type": "code",
      "source": [
        "# books.py\n",
        "AUTHOR_ELEMENT = '<AUTHOR>{}</AUTHOR>'\n",
        "\n",
        "def to_xml(book: BookDict) -> str: # whole point of example = using BookDict in the fcn signature\n",
        "  elements: list[str] = []\n",
        "  for key, value in book.items():\n",
        "    if isinstance(value, list):\n",
        "      elements.extend(\n",
        "          AUTHOR_ELEMENT.format(n) for n in value\n",
        "      )\n",
        "    else:\n",
        "      tag = key.upper()\n",
        "      elements.append(f'<{tag}>{value}</{tag}>')\n",
        "  xml = '\\n\\t'.join(elements)\n",
        "  return f'<BOOK>\\n\\t{xml}\\n</BOOK>'"
      ],
      "metadata": {
        "id": "roLNT74P7Wf8"
      },
      "execution_count": null,
      "outputs": []
    },
    {
      "cell_type": "code",
      "source": [
        "!mypy books.py"
      ],
      "metadata": {
        "colab": {
          "base_uri": "https://localhost:8080/"
        },
        "id": "A9oJzLQN8zm9",
        "outputId": "9ec598e9-c84a-4d4b-ce1f-e26a710acf42"
      },
      "execution_count": null,
      "outputs": [
        {
          "output_type": "stream",
          "name": "stdout",
          "text": [
            "\u001b[1m\u001b[32mSuccess: no issues found in 1 source file\u001b[m\n"
          ]
        }
      ]
    },
    {
      "cell_type": "code",
      "source": [
        "!mypy books_any.py --disallow-any-expr"
      ],
      "metadata": {
        "colab": {
          "base_uri": "https://localhost:8080/"
        },
        "id": "l6ygrNai9Vp7",
        "outputId": "b70dc49b-d7f2-420d-b714-37b4d079e873"
      },
      "execution_count": null,
      "outputs": [
        {
          "output_type": "stream",
          "name": "stdout",
          "text": [
            "\u001b[1m\u001b[32mSuccess: no issues found in 1 source file\u001b[m\n"
          ]
        }
      ]
    },
    {
      "cell_type": "code",
      "source": [
        "# demo_not_book.py\n",
        "from books import to_xml, from_json\n",
        "from typing import TYPE_CHECKING\n",
        "\n",
        "def demo() -> None:\n",
        "  NOT_BOOK_JSON = \"\"\"\n",
        "    {\"title\": \"Andromeda Strain\",\n",
        "     \"flavor\": \"pistachio\",\n",
        "     \"authors\": true}\n",
        "  \"\"\"\n",
        "\n",
        "  not_book = from_json(NOT_BOOK_JSON)\n",
        "  if TYPE_CHECKING:\n",
        "    reveal_type(not_book)\n",
        "    reveal_type(not_book['authors'])\n",
        "\n",
        "  print(not_book)\n",
        "  print(not_book['flavor'])\n",
        "\n",
        "  xml = to_xml(not_book)\n",
        "  print(xml)\n",
        "\n",
        "if __name__ == \"__main__\":\n",
        "  demo()"
      ],
      "metadata": {
        "id": "haYmHzEA99hT"
      },
      "execution_count": null,
      "outputs": []
    },
    {
      "cell_type": "code",
      "source": [
        "!mypy demo_not_book.py"
      ],
      "metadata": {
        "colab": {
          "base_uri": "https://localhost:8080/"
        },
        "id": "baLJETs6ErNf",
        "outputId": "2d49a3ed-ef7d-49aa-d818-13d25ee2fe09"
      },
      "execution_count": null,
      "outputs": [
        {
          "output_type": "stream",
          "name": "stdout",
          "text": [
            "demo_not_book.py:14: \u001b[34mnote:\u001b[m Revealed type is \u001b[m\u001b[1m\"TypedDict('books.BookDict', {'isbn': builtins.str, 'title': builtins.str, 'authors': builtins.list[builtins.str], 'pagecount': builtins.int})\"\u001b[m\u001b[m\n",
            "demo_not_book.py:15: \u001b[34mnote:\u001b[m Revealed type is \u001b[m\u001b[1m\"builtins.list[builtins.str]\"\u001b[m\u001b[m\n",
            "demo_not_book.py:18: \u001b[1m\u001b[31merror:\u001b[m TypedDict \u001b[m\u001b[1m\"BookDict\"\u001b[m has no key \u001b[m\u001b[1m\"flavor\"\u001b[m  \u001b[m\u001b[33m[typeddict-item]\u001b[m\n",
            "\u001b[1m\u001b[31mFound 1 error in 1 file (checked 1 source file)\u001b[m\n"
          ]
        }
      ]
    },
    {
      "cell_type": "code",
      "source": [
        "!python demo_not_book.py"
      ],
      "metadata": {
        "colab": {
          "base_uri": "https://localhost:8080/"
        },
        "id": "W75FHd4rEtvo",
        "outputId": "6df9602f-5f1b-461c-e9a8-f17cd73da840"
      },
      "execution_count": null,
      "outputs": [
        {
          "output_type": "stream",
          "name": "stdout",
          "text": [
            "{'title': 'Andromeda Strain', 'flavor': 'pistachio', 'authors': True}\n",
            "pistachio\n",
            "<BOOK>\n",
            "\t<TITLE>Andromeda Strain</TITLE>\n",
            "\t<FLAVOR>pistachio</FLAVOR>\n",
            "\t<AUTHORS>True</AUTHORS>\n",
            "</BOOK>\n"
          ]
        }
      ]
    },
    {
      "cell_type": "markdown",
      "source": [
        "Takeaway: when handling data with a dynamic structure, such as JSON or XML, TypedDict is absolutely not a replacement for data vaidation at runtime."
      ],
      "metadata": {
        "id": "RS_LPfGV_omW"
      }
    },
    {
      "cell_type": "markdown",
      "source": [
        "## Type Casting"
      ],
      "metadata": {
        "id": "ZlUXuWIH_3w-"
      }
    },
    {
      "cell_type": "markdown",
      "source": [
        "`typing.cast()` special function provides one way to handle type checking malfunctions or incorrect type hints in code we can't fix.\n",
        "\n",
        "\n",
        "> Casts are used to silence spurious type checker warnings and give the type checker a little help when it can't quite understand what is going on.\n",
        "\n"
      ],
      "metadata": {
        "id": "fLTqlf2O_--w"
      }
    },
    {
      "cell_type": "code",
      "source": [
        "from typing import cast\n",
        "\n",
        "# it'll either return the index of a str item or raise StopIteration\n",
        "def find_first_str(a: list[object]) -> str:\n",
        "  index = next(i for i, x in enumerate(a) if isinstance(x, str))\n",
        "  # if the last line were just return a[index]\n",
        "  # Mypy would infer the return type as object\n",
        "  return cast(str, a[index])"
      ],
      "metadata": {
        "id": "pV98YaoLE1Tf"
      },
      "execution_count": null,
      "outputs": []
    },
    {
      "cell_type": "code",
      "source": [
        "find_first_str([1, 2, 'a'])"
      ],
      "metadata": {
        "colab": {
          "base_uri": "https://localhost:8080/",
          "height": 35
        },
        "id": "4Xdg5HygAxag",
        "outputId": "73168edf-7471-4243-e936-0ee07394d0f3"
      },
      "execution_count": null,
      "outputs": [
        {
          "output_type": "execute_result",
          "data": {
            "text/plain": [
              "'a'"
            ],
            "application/vnd.google.colaboratory.intrinsic+json": {
              "type": "string"
            }
          },
          "metadata": {},
          "execution_count": 2
        }
      ]
    },
    {
      "cell_type": "markdown",
      "source": [
        "## Reading Type Hints at Runtime"
      ],
      "metadata": {
        "id": "b2nLR6BjB7rp"
      }
    },
    {
      "cell_type": "code",
      "source": [
        "# clipannot.py\n",
        "def clip(text: str, max_len: int = 80) -> str:"
      ],
      "metadata": {
        "id": "OZT32jDIB7iR"
      },
      "execution_count": null,
      "outputs": []
    },
    {
      "cell_type": "markdown",
      "source": [
        "Note that annotations are evaluated by the interpreter at imort time, just as parameter default values are also evaluated"
      ],
      "metadata": {
        "id": "wutiAUMuCow6"
      }
    },
    {
      "cell_type": "code",
      "source": [
        "from clipannot import clip\n",
        "\n",
        "clip.__annotations__"
      ],
      "metadata": {
        "colab": {
          "base_uri": "https://localhost:8080/"
        },
        "id": "lPr9lDaxAz-0",
        "outputId": "7b326295-c37d-45e3-e158-c72e46534850"
      },
      "execution_count": null,
      "outputs": [
        {
          "output_type": "execute_result",
          "data": {
            "text/plain": [
              "{'text': str, 'max_len': int, 'return': str}"
            ]
          },
          "metadata": {},
          "execution_count": 5
        }
      ]
    },
    {
      "cell_type": "code",
      "source": [
        "# Beginning with Python 3.7, that's how annotations are handled in any module\n",
        "# that starts with this import statement\n",
        "from __future__ import annotations"
      ],
      "metadata": {
        "id": "d6zx95DDCat9"
      },
      "execution_count": null,
      "outputs": []
    },
    {
      "cell_type": "code",
      "source": [
        "# clip_annot_post.py\n",
        "from __future__ import annotations\n",
        "\n",
        "def clip(text: str, max_len: int = 80) -> str:\n",
        "  pass"
      ],
      "metadata": {
        "id": "akYEW5LTDila"
      },
      "execution_count": null,
      "outputs": []
    },
    {
      "cell_type": "code",
      "source": [
        "from clip_annot_post import clip\n",
        "\n",
        "clip.__annotations__"
      ],
      "metadata": {
        "colab": {
          "base_uri": "https://localhost:8080/"
        },
        "id": "QCLCBCDtD0dQ",
        "outputId": "ff015b72-14a4-4eb2-a0f0-2f31a29b9f61"
      },
      "execution_count": null,
      "outputs": [
        {
          "output_type": "execute_result",
          "data": {
            "text/plain": [
              "{'text': 'str', 'max_len': 'int', 'return': 'str'}"
            ]
          },
          "metadata": {},
          "execution_count": 6
        }
      ]
    },
    {
      "cell_type": "code",
      "source": [
        "from typing import get_type_hints\n",
        "\n",
        "get_type_hints(clip)"
      ],
      "metadata": {
        "colab": {
          "base_uri": "https://localhost:8080/"
        },
        "id": "PrrITErVD48S",
        "outputId": "b5884514-953d-4270-9dcd-29499f25e1a7"
      },
      "execution_count": null,
      "outputs": [
        {
          "output_type": "execute_result",
          "data": {
            "text/plain": [
              "{'text': str, 'max_len': int, 'return': str}"
            ]
          },
          "metadata": {},
          "execution_count": 7
        }
      ]
    },
    {
      "cell_type": "markdown",
      "source": [
        "Dealing with problem\n",
        " - Avoid reading `__annotations__` directly; instead, use `inspect.get_annotations` or `typing.get_type_hints`\n",
        " - Write a custom function of your own as a thin wrapper around `inspect.get_annotations` or `typing.get_type_hints` and have the rest of your codebase call that custom function, so that future changes are localized to a single function."
      ],
      "metadata": {
        "id": "XeqYg-zYEuFd"
      }
    },
    {
      "cell_type": "markdown",
      "source": [
        "## Implementing a Generic Class"
      ],
      "metadata": {
        "id": "JhtCpTGEFbqx"
      }
    },
    {
      "cell_type": "code",
      "source": [
        "# tombola.py\n",
        "\n",
        "import abc\n",
        "\n",
        "class Tombola(abc.ABC):\n",
        "\n",
        "    @abc.abstractmethod\n",
        "    def load(self, iterable):\n",
        "        \"\"\"Add items from an iterable.\"\"\"\n",
        "\n",
        "    @abc.abstractmethod\n",
        "    def pick(self):\n",
        "        \"\"\"Remove item at random, returning it.\n",
        "\n",
        "        This method should raise `LookupError` when the instance is empty.\n",
        "        \"\"\"\n",
        "\n",
        "    def loaded(self):\n",
        "        \"\"\"Return `True` if there's at least 1 item, `False` otherwise.\"\"\"\n",
        "        return bool(self.inspect())\n",
        "\n",
        "    def inspect(self):\n",
        "        \"\"\"Return a sorted tuple with the items currently inside.\"\"\"\n",
        "        items = []\n",
        "        while True:\n",
        "            try:\n",
        "                items.append(self.pick())\n",
        "            except LookupError:\n",
        "                break\n",
        "        self.load(items)\n",
        "        return tuple(items)"
      ],
      "metadata": {
        "id": "PQ-0A5wpFqh8"
      },
      "execution_count": null,
      "outputs": []
    },
    {
      "cell_type": "code",
      "source": [
        "# lotto.py\n",
        "\n",
        "import random\n",
        "\n",
        "from tombola import Tombola\n",
        "\n",
        "\n",
        "class LottoBlower(Tombola):\n",
        "\n",
        "    def __init__(self, iterable):\n",
        "        self._balls = list(iterable)\n",
        "\n",
        "    def load(self, iterable):\n",
        "        self._balls.extend(iterable)\n",
        "\n",
        "    def pick(self):\n",
        "        try:\n",
        "            position = random.randrange(len(self._balls))\n",
        "        except ValueError:\n",
        "            raise LookupError('pick from empty LottoBlower')\n",
        "        return self._balls.pop(position)\n",
        "\n",
        "    def loaded(self):\n",
        "        return bool(self._balls)\n",
        "\n",
        "    def inspect(self):\n",
        "        return tuple(self._balls)"
      ],
      "metadata": {
        "id": "cwXfyxxnEAqx"
      },
      "execution_count": null,
      "outputs": []
    },
    {
      "cell_type": "code",
      "source": [
        "# generic_lotto.py\n",
        "\n",
        "import random\n",
        "\n",
        "from collections.abc import Iterable\n",
        "from typing import TypeVar, Generic\n",
        "\n",
        "from tombola import Tombola\n",
        "\n",
        "T = TypeVar('T')\n",
        "\n",
        "# Generic class declaration often use multiple inheritance,\n",
        "# because we need to subclass Generic to declare the formal type params\n",
        "class LottoBlower(Tombola, Generic[T]):\n",
        "\n",
        "  def __init__(self, items: Iterable[T]) -> None:\n",
        "    self._balls = list[T](items)\n",
        "\n",
        "  def load(self, items: Iterable[T]) -> None:\n",
        "    self._balls.extend(items)\n",
        "\n",
        "  def pick(self) -> T:\n",
        "    try:\n",
        "        position = random.randrange(len(self._balls))\n",
        "    except ValueError:\n",
        "        raise LookupError('pick from empty LottoBlower')\n",
        "    return self._balls.pop(position)\n",
        "\n",
        "  def loaded(self) -> bool:\n",
        "    return bool(self._balls)\n",
        "\n",
        "  def inspect(self) -> tuple[T, ...]:\n",
        "    return tuple(self._balls)"
      ],
      "metadata": {
        "id": "bgXvkswhF84v"
      },
      "execution_count": null,
      "outputs": []
    },
    {
      "cell_type": "code",
      "source": [
        "# generic_lotto_demo.py\n",
        "\n",
        "from generic_lotto import LottoBlower\n",
        "\n",
        "machine = LottoBlower[int](range(1, 11))\n",
        "\n",
        "first = machine.pick()\n",
        "remain = machine.inspect()"
      ],
      "metadata": {
        "id": "rti3lTjCHnKC"
      },
      "execution_count": null,
      "outputs": []
    },
    {
      "cell_type": "code",
      "source": [
        "# generic_lotto_error.py\n",
        "from generic_lotto import LottoBlower\n",
        "\n",
        "machine = LottoBlower[int]([1, .2])\n",
        "\n",
        "machine = LottoBlower[int](range(1, 11))\n",
        "\n",
        "machine.load('ABC')"
      ],
      "metadata": {
        "id": "lzZa4m94IJW0"
      },
      "execution_count": null,
      "outputs": []
    },
    {
      "cell_type": "code",
      "source": [
        "!pip install mypy"
      ],
      "metadata": {
        "id": "3MmSq4QEH9Oa"
      },
      "execution_count": null,
      "outputs": []
    },
    {
      "cell_type": "code",
      "source": [
        "!mypy generic_lotto_demo.py"
      ],
      "metadata": {
        "colab": {
          "base_uri": "https://localhost:8080/"
        },
        "id": "y4GBZ-a4IAbm",
        "outputId": "97cac695-3653-4e92-b410-de46529a5f6e"
      },
      "execution_count": null,
      "outputs": [
        {
          "output_type": "stream",
          "name": "stdout",
          "text": [
            "\u001b[1m\u001b[32mSuccess: no issues found in 1 source file\u001b[m\n"
          ]
        }
      ]
    },
    {
      "cell_type": "code",
      "source": [
        "!mypy generic_lotto_error.py"
      ],
      "metadata": {
        "colab": {
          "base_uri": "https://localhost:8080/"
        },
        "id": "AIO3C52SIGoU",
        "outputId": "b8e2db07-e730-4590-b318-9ed120ab4fc6"
      },
      "execution_count": null,
      "outputs": [
        {
          "output_type": "stream",
          "name": "stdout",
          "text": [
            "generic_lotto_error.py:4: \u001b[1m\u001b[31merror:\u001b[m List item 1 has incompatible type \u001b[m\u001b[1m\"float\"\u001b[m; expected \u001b[m\u001b[1m\"int\"\u001b[m  \u001b[m\u001b[33m[list-item]\u001b[m\n",
            "generic_lotto_error.py:8: \u001b[1m\u001b[31merror:\u001b[m Argument 1 to \u001b[m\u001b[1m\"load\"\u001b[m of \u001b[m\u001b[1m\"LottoBlower\"\u001b[m has incompatible type \u001b[m\u001b[1m\"str\"\u001b[m; expected \u001b[m\u001b[1m\"Iterable[int]\"\u001b[m  \u001b[m\u001b[33m[arg-type]\u001b[m\n",
            "generic_lotto_error.py:8: \u001b[34mnote:\u001b[m Following member(s) of \u001b[m\u001b[1m\"str\"\u001b[m have conflicts:\u001b[m\n",
            "generic_lotto_error.py:8: \u001b[34mnote:\u001b[m     Expected:\u001b[m\n",
            "generic_lotto_error.py:8: \u001b[34mnote:\u001b[m         def __iter__(self) -> Iterator[int]\u001b[m\n",
            "generic_lotto_error.py:8: \u001b[34mnote:\u001b[m     Got:\u001b[m\n",
            "generic_lotto_error.py:8: \u001b[34mnote:\u001b[m         def __iter__(self) -> Iterator[str]\u001b[m\n",
            "\u001b[1m\u001b[31mFound 2 errors in 1 file (checked 1 source file)\u001b[m\n"
          ]
        }
      ]
    },
    {
      "cell_type": "markdown",
      "source": [
        "Basic Jargon for Generic Types\n",
        " - Generic type\n",
        "  : type declared with one or more type variables (e.g. `LottoBlower[T]`, `abc.Mapping[KT, VT]`)\n",
        " - Formal type parameter\n",
        "  : type variables that appear in a generic type declaration.\n",
        " - Parametrized type\n",
        "  : A type declared with actual type parameters.\n",
        " - Actual type parameter"
      ],
      "metadata": {
        "id": "ynwePRzwIkIN"
      }
    },
    {
      "cell_type": "markdown",
      "source": [
        "## Variance"
      ],
      "metadata": {
        "id": "iQKix1foJEOv"
      }
    },
    {
      "cell_type": "code",
      "source": [
        "# invariant.py\n",
        "\n",
        "from typing import TypeVar, Generic\n",
        "\n",
        "class Beverage:\n",
        "  \"\"\"Any beverage.\"\"\"\n",
        "\n",
        "class Juice(Beverage):\n",
        "  \"\"\"Any fruit juice.\"\"\"\n",
        "\n",
        "class OrangeJuice(Juice):\n",
        "  \"\"\"orange juice.\"\"\"\n",
        "\n",
        "T = TypeVar('T')\n",
        "\n",
        "class BeverageDispenser(Generic[T]):\n",
        "  def __init__(self, beverage: T) -> None:\n",
        "    self.beverage = beverage\n",
        "\n",
        "  def dispense(self) -> T:\n",
        "    return self.beverage\n",
        "\n",
        "def install(dispenser: BeverageDispenser[Juice]) -> None:\n",
        "  \"\"\" Install a fruit juice dispenser \"\"\""
      ],
      "metadata": {
        "id": "zCeBGhrMIYPl"
      },
      "execution_count": null,
      "outputs": []
    },
    {
      "cell_type": "code",
      "source": [
        "juice_dispenser = BeverageDispenser(Juice())\n",
        "install(juice_dispenser)"
      ],
      "metadata": {
        "id": "-Ma0fDiSKNGL"
      },
      "execution_count": null,
      "outputs": []
    },
    {
      "cell_type": "markdown",
      "source": [
        "This is not legal because the cafeteria requires a dispenser that is specialzed for Juice."
      ],
      "metadata": {
        "id": "WNUCQz_xLF0l"
      }
    },
    {
      "cell_type": "code",
      "source": [
        "beverage_dispenser = BeverageDispenser(Beverage())\n",
        "install(beverage_dispenser)"
      ],
      "metadata": {
        "id": "94hB4_3FKa_M"
      },
      "execution_count": null,
      "outputs": []
    },
    {
      "cell_type": "markdown",
      "source": [
        "But this code is also illegal."
      ],
      "metadata": {
        "id": "8jXuRuguLFbN"
      }
    },
    {
      "cell_type": "code",
      "source": [
        "orange_juice_dispenser = BeverageDispenser(OrangeJuice())\n",
        "install(orange_juice_dispenser)"
      ],
      "metadata": {
        "id": "uPRyH0cCLP8_"
      },
      "execution_count": null,
      "outputs": []
    },
    {
      "cell_type": "markdown",
      "source": [],
      "metadata": {
        "id": "CGKSJl7ULPf3"
      }
    },
    {
      "cell_type": "code",
      "source": [
        "!mypy invariant_demo.py"
      ],
      "metadata": {
        "colab": {
          "base_uri": "https://localhost:8080/"
        },
        "id": "YMVOqNjRKf-M",
        "outputId": "f1836138-ac09-4ad9-e167-47378fda78fb"
      },
      "execution_count": null,
      "outputs": [
        {
          "output_type": "stream",
          "name": "stdout",
          "text": [
            "invariant_demo.py:7: \u001b[1m\u001b[31merror:\u001b[m Argument 1 to \u001b[m\u001b[1m\"install\"\u001b[m has incompatible type \u001b[m\u001b[1m\"BeverageDispenser[Beverage]\"\u001b[m; expected \u001b[m\u001b[1m\"BeverageDispenser[Juice]\"\u001b[m  \u001b[m\u001b[33m[arg-type]\u001b[m\n",
            "invariant_demo.py:10: \u001b[1m\u001b[31merror:\u001b[m Argument 1 to \u001b[m\u001b[1m\"install\"\u001b[m has incompatible type \u001b[m\u001b[1m\"BeverageDispenser[OrangeJuice]\"\u001b[m; expected \u001b[m\u001b[1m\"BeverageDispenser[Juice]\"\u001b[m  \u001b[m\u001b[33m[arg-type]\u001b[m\n",
            "\u001b[1m\u001b[31mFound 2 errors in 1 file (checked 1 source file)\u001b[m\n"
          ]
        }
      ]
    },
    {
      "cell_type": "markdown",
      "source": [
        "In typing jargon, we say that `BeverageDispenser(Generic[T])` is invariant when `BeverageDispenser[OrangeJuice]` is not compatible with `BeverageDispenser[Juice]`"
      ],
      "metadata": {
        "id": "g_-EI5vQLeuP"
      }
    },
    {
      "cell_type": "markdown",
      "source": [
        "### Covariant Dispenser"
      ],
      "metadata": {
        "id": "0-T0oIZdLsSY"
      }
    },
    {
      "cell_type": "code",
      "source": [
        "# covariant.py\n",
        "\n",
        "from typing import TypeVar, Generic\n",
        "\n",
        "class Beverage:\n",
        "  \"\"\"Any beverage.\"\"\"\n",
        "\n",
        "class Juice(Beverage):\n",
        "  \"\"\"Any fruit juice.\"\"\"\n",
        "\n",
        "class OrangeJuice(Juice):\n",
        "  \"\"\"orange juice.\"\"\"\n",
        "\n",
        "T_co = TypeVar('T_co', covariant=True)\n",
        "\n",
        "class BeverageDispenser(Generic[T_co])\n",
        "  def __init__(self, beverage: T_co) -> None:\n",
        "    self.beverage = beverage\n",
        "\n",
        "  def dispense(self) -> T_co:\n",
        "    return self.beverage\n",
        "\n",
        "def install(dispenser: BeverageDispenser[Juice]) -> None:\n",
        "  \"\"\"Install a fruit juice dispenser \"\"\""
      ],
      "metadata": {
        "id": "3_NE98bPK9wg"
      },
      "execution_count": null,
      "outputs": []
    },
    {
      "cell_type": "code",
      "source": [
        "!mypy covariant_demo.py"
      ],
      "metadata": {
        "colab": {
          "base_uri": "https://localhost:8080/"
        },
        "id": "fIIA3woUMie2",
        "outputId": "a9c922f8-83b5-45e1-a906-77e843ded2ad"
      },
      "execution_count": null,
      "outputs": [
        {
          "output_type": "stream",
          "name": "stdout",
          "text": [
            "covariant_demo.py:7: \u001b[1m\u001b[31merror:\u001b[m Argument 1 to \u001b[m\u001b[1m\"install\"\u001b[m has incompatible type \u001b[m\u001b[1m\"BeverageDispenser[Beverage]\"\u001b[m; expected \u001b[m\u001b[1m\"BeverageDispenser[Juice]\"\u001b[m  \u001b[m\u001b[33m[arg-type]\u001b[m\n",
            "\u001b[1m\u001b[31mFound 1 error in 1 file (checked 1 source file)\u001b[m\n"
          ]
        }
      ]
    },
    {
      "cell_type": "markdown",
      "source": [
        "Summary of 'covariance': the subtype relationship of the parametrized dispensers varies in the same direction as the subtype relationship of the type parameters."
      ],
      "metadata": {
        "id": "NcoO1VU1Mywb"
      }
    },
    {
      "cell_type": "markdown",
      "source": [
        "## Contravariant Trash Can\n",
        "\n",
        "Note. For the sake of this example, let's make simplifying assumptions to classify trash in a neat hierarchy:\n",
        " - `Refuse` is the most general type of trash.\n",
        " - `Biodegradable` is a specific type of trash that can be decomposed by organisms over time. Some `Refuse` is not `Biodegradable`\n",
        " - `Compostable` is a specific type of `Biodegradable`. Not all `Biodegradable` is `Compostable` in our def."
      ],
      "metadata": {
        "id": "OjT52sUufWxV"
      }
    },
    {
      "cell_type": "code",
      "source": [
        "# contravariant.py\n",
        "\n",
        "from typing import TypeVar, Generic\n",
        "\n",
        "class Refuse:\n",
        "  \"\"\" Any refuse \"\"\"\n",
        "\n",
        "class Biodegradable(Refuse):\n",
        "  \"\"\" Biodegradable refuse \"\"\"\n",
        "\n",
        "class Compostable(Biodegradable):\n",
        "  \"\"\" Compostable refuse \"\"\"\n",
        "\n",
        "T_contra = TypeVar(\"T_contra\", contravariant=True)\n",
        "\n",
        "class TrashCan(Generic[T_contra]): # Trashcan is a contravariant on the type of refuse\n",
        "  def put(self, refuse: T_contra) -> None:\n",
        "    \"\"\" Store trash until dumped \"\"\"\n",
        "\n",
        "def deploy(trash_can: TrashCan[Biodegradable]):\n",
        "  \"\"\" Deploy a trash can for bidegradable refuse \"\"\"\n",
        "\n"
      ],
      "metadata": {
        "id": "gI0Hjqv9MnBm"
      },
      "execution_count": 1,
      "outputs": []
    },
    {
      "cell_type": "code",
      "source": [
        "!pip install mypy"
      ],
      "metadata": {
        "colab": {
          "base_uri": "https://localhost:8080/"
        },
        "id": "KYHohIW3gf9N",
        "outputId": "c6952ac1-dc19-4f9d-8517-ff8d106fd2d0"
      },
      "execution_count": 2,
      "outputs": [
        {
          "output_type": "stream",
          "name": "stdout",
          "text": [
            "Collecting mypy\n",
            "  Downloading mypy-1.10.0-cp310-cp310-manylinux_2_17_x86_64.manylinux2014_x86_64.whl (12.7 MB)\n",
            "\u001b[2K     \u001b[90m━━━━━━━━━━━━━━━━━━━━━━━━━━━━━━━━━━━━━━━━\u001b[0m \u001b[32m12.7/12.7 MB\u001b[0m \u001b[31m36.9 MB/s\u001b[0m eta \u001b[36m0:00:00\u001b[0m\n",
            "\u001b[?25hRequirement already satisfied: typing-extensions>=4.1.0 in /usr/local/lib/python3.10/dist-packages (from mypy) (4.11.0)\n",
            "Collecting mypy-extensions>=1.0.0 (from mypy)\n",
            "  Downloading mypy_extensions-1.0.0-py3-none-any.whl (4.7 kB)\n",
            "Requirement already satisfied: tomli>=1.1.0 in /usr/local/lib/python3.10/dist-packages (from mypy) (2.0.1)\n",
            "Installing collected packages: mypy-extensions, mypy\n",
            "Successfully installed mypy-1.10.0 mypy-extensions-1.0.0\n"
          ]
        }
      ]
    },
    {
      "cell_type": "code",
      "source": [
        "# contravariant_demo.py\n",
        "from contravariant import Refuse, TrashCan, Compostable, Biodegradable, deploy\n",
        "\n",
        "bio_can: TrashCan[Biodegradable] = TrashCan()\n",
        "deploy(bio_can)\n",
        "\n",
        "trash_can: TrashCan[Refuse] = TrashCan()\n",
        "deploy(trash_can)\n",
        "\n",
        "compost_can: TrashCan[Compostable] = TrashCan()\n",
        "deploy(compost_can)"
      ],
      "metadata": {
        "id": "njlcclBbhWwE"
      },
      "execution_count": null,
      "outputs": []
    },
    {
      "cell_type": "code",
      "source": [
        "!mypy contravariant_demo.py"
      ],
      "metadata": {
        "colab": {
          "base_uri": "https://localhost:8080/"
        },
        "id": "33iWXmxbg_dt",
        "outputId": "efc432d4-6475-42ca-bd0e-f48e62770df2"
      },
      "execution_count": 4,
      "outputs": [
        {
          "output_type": "stream",
          "name": "stdout",
          "text": [
            "contravariant_demo.py:10: \u001b[1m\u001b[31merror:\u001b[m Argument 1 to \u001b[m\u001b[1m\"deploy\"\u001b[m has incompatible type \u001b[m\u001b[1m\"TrashCan[Compostable]\"\u001b[m; expected \u001b[m\u001b[1m\"TrashCan[Biodegradable]\"\u001b[m  \u001b[m\u001b[33m[arg-type]\u001b[m\n",
            "\u001b[1m\u001b[31mFound 1 error in 1 file (checked 1 source file)\u001b[m\n"
          ]
        }
      ]
    },
    {
      "cell_type": "markdown",
      "source": [
        "### Variance Review\n",
        " - A generic type `L` is invariant when there is no supertype or subtype relationship between two parametrized types, regardless of the relationship that may exist between the actual parameters.\n",
        "\n",
        " i.e., if `L` is invariant, then `L[A]` is not a supertype or a subtype of `L[B]`.\n",
        "\n",
        " As mentioned, Python's mutable collections are invariant by default. `list[int]` is not consistent with `list[flaot]`\n",
        "\n",
        " - __Covariant__: Consider two types `A` and `B`, where `B` is consistent-with `A`, and neither of them is `Any`. Some authors use the `<:` and `:>` symbols to denote type relationships.\n",
        " `A :> B`: A is a supertype-of or the same as B\n",
        "\n",
        " Given A :> B, a generic type `C` is covariant when C[A] :> C[B]\n",
        "\n",
        " > Immutable containers can be covariant. (e.g. `typing.FrozenSet`)\n",
        "\n",
        " - __Contravariant__: Given `A :> B`, a generic type `K` is contravariant when `K[A] <: K[B]`\n",
        "\n",
        " > write-only data structure, also known as a \"sink\"\n",
        "\n",
        " > `Callable[[ParamType, ...], ReturnType]` is contravariant on the parameter types, but covariant on the ReturnType"
      ],
      "metadata": {
        "id": "4bu1yvKThT13"
      }
    },
    {
      "cell_type": "markdown",
      "source": [
        "## Implementing a Generic Static Protocol"
      ],
      "metadata": {
        "id": "egaAhs0ykbvz"
      }
    },
    {
      "cell_type": "code",
      "source": [
        "# abs_demo.py\n",
        "\n",
        "import math\n",
        "from typing import NamedTuple, SupportsAbs\n",
        "\n",
        "class Vector2d(NamedTuple):\n",
        "  x: float\n",
        "  y: float\n",
        "\n",
        "  def __abs__(self) -> float: # defining __abs__ makes Vector2d consistent-with SupportsAbs\n",
        "    return math.hypot(self.x, self.y)\n",
        "\n",
        "def is_unit(v: SupportsAbs[float]) -> bool:\n",
        "  return math.isclose(abs(v), 1.0)\n",
        "\n",
        "assert issubclass(Vector2d, SupportsAbs)\n",
        "\n",
        "v0 = Vector2d(0, 1)\n",
        "sqrt2 = math.sqrt(2)\n",
        "v1 = Vector2d(sqrt2 / 2, sqrt2 / 2)\n",
        "v2 = Vector2d(1, 1)\n",
        "v3 = complex(.5, math.sqrt(3) / 2)\n",
        "v4 = 1 # int type is also consistent-with SupportsAbs\n",
        "\n",
        "assert is_unit(v0)\n",
        "assert is_unit(v1)\n",
        "assert not is_unit(v2)\n",
        "assert is_unit(v3)\n",
        "assert is_unit(v4)\n"
      ],
      "metadata": {
        "id": "fqNDBfEThDfc"
      },
      "execution_count": null,
      "outputs": []
    },
    {
      "cell_type": "code",
      "source": [
        "!mypy abs_demo.py"
      ],
      "metadata": {
        "colab": {
          "base_uri": "https://localhost:8080/"
        },
        "id": "CzgOccQpl6s0",
        "outputId": "f0e0360e-330e-4d40-a5a1-62783f7dcfa3"
      },
      "execution_count": 5,
      "outputs": [
        {
          "output_type": "stream",
          "name": "stdout",
          "text": [
            "\u001b[1m\u001b[32mSuccess: no issues found in 1 source file\u001b[m\n"
          ]
        }
      ]
    },
    {
      "cell_type": "code",
      "source": [
        "from typing import Protocol, runtime_checkable, TypeVar\n",
        "\n",
        "T_co = TypeVar('T_co', covariant=True)\n",
        "\n",
        "@runtime_checkable\n",
        "class RandomPicker(Protocol[T_co]):\n",
        "  def pick(self) -> T_co: ..."
      ],
      "metadata": {
        "id": "jvNGuyIRl7kW"
      },
      "execution_count": null,
      "outputs": []
    }
  ]
}