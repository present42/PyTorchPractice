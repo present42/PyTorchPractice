{
  "nbformat": 4,
  "nbformat_minor": 0,
  "metadata": {
    "colab": {
      "provenance": [],
      "authorship_tag": "ABX9TyOMxAs9aolrnFM7dzvPfHCz",
      "include_colab_link": true
    },
    "kernelspec": {
      "name": "python3",
      "display_name": "Python 3"
    },
    "language_info": {
      "name": "python"
    }
  },
  "cells": [
    {
      "cell_type": "markdown",
      "metadata": {
        "id": "view-in-github",
        "colab_type": "text"
      },
      "source": [
        "<a href=\"https://colab.research.google.com/github/present42/PyTorchPractice/blob/main/Fluent_Python_ch6.ipynb\" target=\"_parent\"><img src=\"https://colab.research.google.com/assets/colab-badge.svg\" alt=\"Open In Colab\"/></a>"
      ]
    },
    {
      "cell_type": "markdown",
      "source": [
        "# Chapter 6. Object References, Mutability, and Recycling\n",
        "\n",
        "A name tis not the object; a name is a separate thing."
      ],
      "metadata": {
        "id": "7wxny3bmfi78"
      }
    },
    {
      "cell_type": "markdown",
      "source": [
        "## Varialbes are not boxes"
      ],
      "metadata": {
        "id": "yKkNigNCgQ-B"
      }
    },
    {
      "cell_type": "markdown",
      "source": [
        "Python variables are like reference variables in JAVA."
      ],
      "metadata": {
        "id": "R3bpuxuPggbH"
      }
    },
    {
      "cell_type": "code",
      "execution_count": null,
      "metadata": {
        "colab": {
          "base_uri": "https://localhost:8080/"
        },
        "id": "FtmTXvHmffih",
        "outputId": "2ed48687-c16a-42fb-82d1-402a7468dc87"
      },
      "outputs": [
        {
          "output_type": "execute_result",
          "data": {
            "text/plain": [
              "[1, 2, 3, 4]"
            ]
          },
          "metadata": {},
          "execution_count": 1
        }
      ],
      "source": [
        "a = [1, 2, 3]\n",
        "b = a\n",
        "a.append(4)\n",
        "b"
      ]
    },
    {
      "cell_type": "markdown",
      "source": [
        "It would be better to say a variable is assigned to the object, not the other way around. Object is created before the assignment, after all."
      ],
      "metadata": {
        "id": "EPJkn7ong5G2"
      }
    },
    {
      "cell_type": "code",
      "source": [
        "class Gizmo:\n",
        "  def __init__(self):\n",
        "    print(f\"Gizmo id: {id(self)}\")\n",
        "\n",
        "x = Gizmo()"
      ],
      "metadata": {
        "colab": {
          "base_uri": "https://localhost:8080/"
        },
        "id": "WBBgJEfCgexy",
        "outputId": "78ae1ec2-dc30-4e19-a1a6-b663e853a99f"
      },
      "execution_count": null,
      "outputs": [
        {
          "output_type": "stream",
          "name": "stdout",
          "text": [
            "Gizmo id: 133687668849872\n"
          ]
        }
      ]
    },
    {
      "cell_type": "code",
      "source": [
        "y = Gizmo() * 10"
      ],
      "metadata": {
        "colab": {
          "base_uri": "https://localhost:8080/",
          "height": 168
        },
        "id": "_lJ4Ca6BhKs0",
        "outputId": "30f03335-04e6-43fb-a009-c8d4bcf4cb78"
      },
      "execution_count": null,
      "outputs": [
        {
          "output_type": "stream",
          "name": "stdout",
          "text": [
            "Gizmo id: 133687668845408\n"
          ]
        },
        {
          "output_type": "error",
          "ename": "TypeError",
          "evalue": "unsupported operand type(s) for *: 'Gizmo' and 'int'",
          "traceback": [
            "\u001b[0;31m---------------------------------------------------------------------------\u001b[0m",
            "\u001b[0;31mTypeError\u001b[0m                                 Traceback (most recent call last)",
            "\u001b[0;32m<ipython-input-3-2beac7b9470d>\u001b[0m in \u001b[0;36m<cell line: 1>\u001b[0;34m()\u001b[0m\n\u001b[0;32m----> 1\u001b[0;31m \u001b[0my\u001b[0m \u001b[0;34m=\u001b[0m \u001b[0mGizmo\u001b[0m\u001b[0;34m(\u001b[0m\u001b[0;34m)\u001b[0m \u001b[0;34m*\u001b[0m \u001b[0;36m10\u001b[0m\u001b[0;34m\u001b[0m\u001b[0;34m\u001b[0m\u001b[0m\n\u001b[0m",
            "\u001b[0;31mTypeError\u001b[0m: unsupported operand type(s) for *: 'Gizmo' and 'int'"
          ]
        }
      ]
    },
    {
      "cell_type": "code",
      "source": [
        "dir()"
      ],
      "metadata": {
        "colab": {
          "base_uri": "https://localhost:8080/"
        },
        "id": "Uz9rnOIOhNUz",
        "outputId": "58b183e0-afd8-4054-a6fa-25c279c0da63"
      },
      "execution_count": null,
      "outputs": [
        {
          "output_type": "execute_result",
          "data": {
            "text/plain": [
              "['Gizmo',\n",
              " 'In',\n",
              " 'Out',\n",
              " '_',\n",
              " '_1',\n",
              " '__',\n",
              " '___',\n",
              " '__builtin__',\n",
              " '__builtins__',\n",
              " '__doc__',\n",
              " '__loader__',\n",
              " '__name__',\n",
              " '__package__',\n",
              " '__spec__',\n",
              " '_dh',\n",
              " '_i',\n",
              " '_i1',\n",
              " '_i2',\n",
              " '_i3',\n",
              " '_i4',\n",
              " '_ih',\n",
              " '_ii',\n",
              " '_iii',\n",
              " '_oh',\n",
              " 'a',\n",
              " 'b',\n",
              " 'exit',\n",
              " 'get_ipython',\n",
              " 'quit',\n",
              " 'x']"
            ]
          },
          "metadata": {},
          "execution_count": 4
        }
      ]
    },
    {
      "cell_type": "markdown",
      "source": [
        "## Identity, Equality, and Aliases"
      ],
      "metadata": {
        "id": "oRG1TN1ChllV"
      }
    },
    {
      "cell_type": "code",
      "source": [
        "charles = {'name': 'Charles L. Dodgson', 'born': 1832}\n",
        "lewis = charles\n",
        "lewis is charles"
      ],
      "metadata": {
        "colab": {
          "base_uri": "https://localhost:8080/"
        },
        "id": "CY_sastVhQWT",
        "outputId": "70d9ef2c-878a-4000-dca4-113dd261c2e1"
      },
      "execution_count": null,
      "outputs": [
        {
          "output_type": "execute_result",
          "data": {
            "text/plain": [
              "True"
            ]
          },
          "metadata": {},
          "execution_count": 5
        }
      ]
    },
    {
      "cell_type": "code",
      "source": [
        "id(charles), id(lewis)"
      ],
      "metadata": {
        "colab": {
          "base_uri": "https://localhost:8080/"
        },
        "id": "zOCTTkEMhzur",
        "outputId": "9ea3e4a4-24d2-47e7-d1f9-ebdfeb660514"
      },
      "execution_count": null,
      "outputs": [
        {
          "output_type": "execute_result",
          "data": {
            "text/plain": [
              "(133687666433216, 133687666433216)"
            ]
          },
          "metadata": {},
          "execution_count": 6
        }
      ]
    },
    {
      "cell_type": "markdown",
      "source": [
        "`lewis` and `charles` are aliases (two variables are bounded to the same objet)"
      ],
      "metadata": {
        "id": "dIkLzxU2iU9y"
      }
    },
    {
      "cell_type": "code",
      "source": [
        "lewis['balance'] = 950\n",
        "charles"
      ],
      "metadata": {
        "colab": {
          "base_uri": "https://localhost:8080/"
        },
        "id": "OCdiA-X7h1fK",
        "outputId": "6396775f-6067-4088-a0ea-724068424b3a"
      },
      "execution_count": null,
      "outputs": [
        {
          "output_type": "execute_result",
          "data": {
            "text/plain": [
              "{'name': 'Charles L. Dodgson', 'born': 1832, 'balance': 950}"
            ]
          },
          "metadata": {},
          "execution_count": 7
        }
      ]
    },
    {
      "cell_type": "code",
      "source": [
        "alex = {'name': \"Charles L. Dodgson\", 'born': 1832, 'balance': 950}\n",
        "# __eq__ implementation in the dict class\n",
        "alex == charles"
      ],
      "metadata": {
        "colab": {
          "base_uri": "https://localhost:8080/"
        },
        "id": "1Ux_qtyRh49i",
        "outputId": "ed8acd2b-575e-4856-ff43-a218df1ecbde"
      },
      "execution_count": null,
      "outputs": [
        {
          "output_type": "execute_result",
          "data": {
            "text/plain": [
              "True"
            ]
          },
          "metadata": {},
          "execution_count": 8
        }
      ]
    },
    {
      "cell_type": "code",
      "source": [
        "# identity comparision\n",
        "alex is not charles"
      ],
      "metadata": {
        "colab": {
          "base_uri": "https://localhost:8080/"
        },
        "id": "ysAd6E28iIaR",
        "outputId": "e6283797-698a-447a-efc6-472300a3f994"
      },
      "execution_count": null,
      "outputs": [
        {
          "output_type": "execute_result",
          "data": {
            "text/plain": [
              "True"
            ]
          },
          "metadata": {},
          "execution_count": 9
        }
      ]
    },
    {
      "cell_type": "markdown",
      "source": [
        "Choosing between `==` and `is`\n",
        " - `==` compares the values of objects\n",
        " - `is` compares their identities\n",
        "  * cannot be overloaded\n",
        "  * ex. singleton\n",
        "  * `x is None`"
      ],
      "metadata": {
        "id": "9MdShpucizeX"
      }
    },
    {
      "cell_type": "markdown",
      "source": [
        "## Relative Immutability of Tuples"
      ],
      "metadata": {
        "id": "w4eqHzIwjYYF"
      }
    },
    {
      "cell_type": "code",
      "source": [
        "t1 = (1, 2, [30, 40])\n",
        "t2 = (1, 2, [30, 40])\n",
        "t1 == t2"
      ],
      "metadata": {
        "colab": {
          "base_uri": "https://localhost:8080/"
        },
        "id": "ueFkzkH5iKKj",
        "outputId": "3e445897-64ca-4e55-cbe9-3d9dcc2a5136"
      },
      "execution_count": null,
      "outputs": [
        {
          "output_type": "execute_result",
          "data": {
            "text/plain": [
              "True"
            ]
          },
          "metadata": {},
          "execution_count": 10
        }
      ]
    },
    {
      "cell_type": "code",
      "source": [
        "id(t1[-1])"
      ],
      "metadata": {
        "colab": {
          "base_uri": "https://localhost:8080/"
        },
        "id": "zYpZjhFejhT6",
        "outputId": "a66d4461-7313-4231-dd45-d5001862c22b"
      },
      "execution_count": null,
      "outputs": [
        {
          "output_type": "execute_result",
          "data": {
            "text/plain": [
              "133687666556352"
            ]
          },
          "metadata": {},
          "execution_count": 11
        }
      ]
    },
    {
      "cell_type": "code",
      "source": [
        "t1[-1].append(99)"
      ],
      "metadata": {
        "id": "kIsqhXbHjkDx"
      },
      "execution_count": null,
      "outputs": []
    },
    {
      "cell_type": "code",
      "source": [
        "t1"
      ],
      "metadata": {
        "colab": {
          "base_uri": "https://localhost:8080/"
        },
        "id": "gDTVZgqpjlir",
        "outputId": "d339c758-7a0c-481c-c265-3e6c68256ac5"
      },
      "execution_count": null,
      "outputs": [
        {
          "output_type": "execute_result",
          "data": {
            "text/plain": [
              "(1, 2, [30, 40, 99])"
            ]
          },
          "metadata": {},
          "execution_count": 13
        }
      ]
    },
    {
      "cell_type": "code",
      "source": [
        "id(t1[-1])"
      ],
      "metadata": {
        "colab": {
          "base_uri": "https://localhost:8080/"
        },
        "id": "hzTfYDHujm0x",
        "outputId": "a16c0589-911e-48fd-a87e-e5e4793391b3"
      },
      "execution_count": null,
      "outputs": [
        {
          "output_type": "execute_result",
          "data": {
            "text/plain": [
              "133687666556352"
            ]
          },
          "metadata": {},
          "execution_count": 14
        }
      ]
    },
    {
      "cell_type": "code",
      "source": [
        "t1 == t2"
      ],
      "metadata": {
        "colab": {
          "base_uri": "https://localhost:8080/"
        },
        "id": "kmbOQru9jn97",
        "outputId": "45daa9fe-0568-4bdf-bc28-e08749121302"
      },
      "execution_count": null,
      "outputs": [
        {
          "output_type": "execute_result",
          "data": {
            "text/plain": [
              "False"
            ]
          },
          "metadata": {},
          "execution_count": 15
        }
      ]
    },
    {
      "cell_type": "markdown",
      "source": [
        "## Copies are shallow by default"
      ],
      "metadata": {
        "id": "xoDsU5j8j0kq"
      }
    },
    {
      "cell_type": "code",
      "source": [
        "l1 = [3, [55, 44], (7, 8, 9)]\n",
        "l2 = list(l1)\n",
        "l2"
      ],
      "metadata": {
        "colab": {
          "base_uri": "https://localhost:8080/"
        },
        "id": "_tCQiLHijpjj",
        "outputId": "a1ff4fd5-2afd-4052-9947-b0ddee8cd562"
      },
      "execution_count": null,
      "outputs": [
        {
          "output_type": "execute_result",
          "data": {
            "text/plain": [
              "[3, [55, 44], (7, 8, 9)]"
            ]
          },
          "metadata": {},
          "execution_count": 26
        }
      ]
    },
    {
      "cell_type": "markdown",
      "source": [
        "Or, equivalently,"
      ],
      "metadata": {
        "id": "KQyiEG51kSFZ"
      }
    },
    {
      "cell_type": "code",
      "source": [
        "l2 = l1[:]"
      ],
      "metadata": {
        "id": "TkaEXQzzkVeS"
      },
      "execution_count": null,
      "outputs": []
    },
    {
      "cell_type": "code",
      "source": [
        "l2 == l1"
      ],
      "metadata": {
        "colab": {
          "base_uri": "https://localhost:8080/"
        },
        "id": "GDlZcI3Dj7uq",
        "outputId": "220d6cb6-8819-441d-da02-b748cdd0fa9c"
      },
      "execution_count": null,
      "outputs": [
        {
          "output_type": "execute_result",
          "data": {
            "text/plain": [
              "True"
            ]
          },
          "metadata": {},
          "execution_count": 27
        }
      ]
    },
    {
      "cell_type": "code",
      "source": [
        "l2 is l1"
      ],
      "metadata": {
        "colab": {
          "base_uri": "https://localhost:8080/"
        },
        "id": "gL597O-Nj8qJ",
        "outputId": "6cf6957c-9016-4a92-869c-5dfa71e34547"
      },
      "execution_count": null,
      "outputs": [
        {
          "output_type": "execute_result",
          "data": {
            "text/plain": [
              "False"
            ]
          },
          "metadata": {},
          "execution_count": 28
        }
      ]
    },
    {
      "cell_type": "code",
      "source": [
        "id(l1[1]) == id(l2[1])\n",
        "id(l1[2]) == id(l2[2])"
      ],
      "metadata": {
        "colab": {
          "base_uri": "https://localhost:8080/"
        },
        "id": "JgjTBQoLj9UB",
        "outputId": "f1d06aec-ac47-4172-f538-fc68071cb735"
      },
      "execution_count": null,
      "outputs": [
        {
          "output_type": "execute_result",
          "data": {
            "text/plain": [
              "True"
            ]
          },
          "metadata": {},
          "execution_count": 31
        }
      ]
    },
    {
      "cell_type": "code",
      "source": [
        "l1[1].append(33)"
      ],
      "metadata": {
        "id": "UwC_rvnekGVJ"
      },
      "execution_count": null,
      "outputs": []
    },
    {
      "cell_type": "code",
      "source": [
        "l2"
      ],
      "metadata": {
        "colab": {
          "base_uri": "https://localhost:8080/"
        },
        "id": "tC9vj8PNkJxJ",
        "outputId": "9111e5bb-c1c5-4405-dcd6-c1078c0791f7"
      },
      "execution_count": null,
      "outputs": [
        {
          "output_type": "execute_result",
          "data": {
            "text/plain": [
              "[3, [55, 44, 33], (7, 8, 9)]"
            ]
          },
          "metadata": {},
          "execution_count": 21
        }
      ]
    },
    {
      "cell_type": "code",
      "source": [
        "l1 = [3, [66, 55, 44], (7, 8, 9)]\n",
        "l2 = list(l1)\n",
        "l1.append(100)\n",
        "l1[1].remove(55)\n",
        "print('l1:', l1) # [3, [66, 44], (7, 8, 9), 100]\n",
        "print('l2:', l2) # [3, [66, 44], (7, 8, 9)]"
      ],
      "metadata": {
        "colab": {
          "base_uri": "https://localhost:8080/"
        },
        "id": "gR_tJjALkKDK",
        "outputId": "1d9d799b-b59d-4a4d-82aa-714912db7a61"
      },
      "execution_count": null,
      "outputs": [
        {
          "output_type": "stream",
          "name": "stdout",
          "text": [
            "l1: [3, [66, 44], (7, 8, 9), 100]\n",
            "l2: [3, [66, 44], (7, 8, 9)]\n"
          ]
        }
      ]
    },
    {
      "cell_type": "code",
      "source": [
        "l2[1] += [33, 22] # += changes the list in place\n",
        "l2[2] += (10, 11) # OH...! += on a tuple creates a new tuple and rebinds the variable l2[2] here\n",
        "print('l1:', l1) # [3, [66, 44, 33, 22], (7, 8, 9), 100]\n",
        "print('l2:', l2) # [3, [66, 44, 33, 22], (7, 8, 9, 10, 11)]"
      ],
      "metadata": {
        "colab": {
          "base_uri": "https://localhost:8080/"
        },
        "id": "VrUUAiMkk2GK",
        "outputId": "060f09a5-74a4-47e0-ba52-d98da74b4bd8"
      },
      "execution_count": null,
      "outputs": [
        {
          "output_type": "stream",
          "name": "stdout",
          "text": [
            "l1: [3, [66, 44, 33, 22], (7, 8, 9), 100]\n",
            "l2: [3, [66, 44, 33, 22], (7, 8, 9, 10, 11)]\n"
          ]
        }
      ]
    },
    {
      "cell_type": "markdown",
      "source": [
        "## How to do deepcopy"
      ],
      "metadata": {
        "id": "VRfRuid_lvbD"
      }
    },
    {
      "cell_type": "code",
      "source": [
        "class Bus:\n",
        "  def __init__(self, passengers=None):\n",
        "    if passengers is None:\n",
        "      self.passengers = []\n",
        "    else:\n",
        "      self.passengers = list(passengers)\n",
        "\n",
        "  def pick(self, name):\n",
        "    self.passengers.append(name)\n",
        "\n",
        "  def drop(self, name):\n",
        "    self.passengers.remove(name)"
      ],
      "metadata": {
        "id": "CvbmApmklEBq"
      },
      "execution_count": null,
      "outputs": []
    },
    {
      "cell_type": "code",
      "source": [
        "import copy\n",
        "\n",
        "bus1 = Bus(['Alice', 'Bill', 'Claire', 'David'])\n",
        "bus2 = copy.copy(bus1)\n",
        "bus3 = copy.deepcopy(bus1)\n",
        "id(bus1), id(bus2), id(bus3)"
      ],
      "metadata": {
        "colab": {
          "base_uri": "https://localhost:8080/"
        },
        "id": "yPfJNCRkmEWR",
        "outputId": "3e7667f0-a006-40a5-c8e5-aa4d9c93e1f3"
      },
      "execution_count": null,
      "outputs": [
        {
          "output_type": "execute_result",
          "data": {
            "text/plain": [
              "(133687667265872, 133687667268176, 133687667276768)"
            ]
          },
          "metadata": {},
          "execution_count": 34
        }
      ]
    },
    {
      "cell_type": "code",
      "source": [
        "bus1.drop('Bill')\n",
        "bus2.passengers"
      ],
      "metadata": {
        "colab": {
          "base_uri": "https://localhost:8080/"
        },
        "id": "Tv7iUpDumQZa",
        "outputId": "e10e7f77-2ab1-48bb-f3e0-8325e160f6ba"
      },
      "execution_count": null,
      "outputs": [
        {
          "output_type": "execute_result",
          "data": {
            "text/plain": [
              "['Alice', 'Claire', 'David']"
            ]
          },
          "metadata": {},
          "execution_count": 35
        }
      ]
    },
    {
      "cell_type": "code",
      "source": [
        "bus3.passengers"
      ],
      "metadata": {
        "colab": {
          "base_uri": "https://localhost:8080/"
        },
        "id": "zF_zSpjsmUxh",
        "outputId": "c378ed5b-774a-4ab6-cec1-4e1d65bdd438"
      },
      "execution_count": null,
      "outputs": [
        {
          "output_type": "execute_result",
          "data": {
            "text/plain": [
              "['Alice', 'Bill', 'Claire', 'David']"
            ]
          },
          "metadata": {},
          "execution_count": 36
        }
      ]
    },
    {
      "cell_type": "code",
      "source": [
        "id(bus1.passengers), id(bus2.passengers), id(bus3.passengers)"
      ],
      "metadata": {
        "colab": {
          "base_uri": "https://localhost:8080/"
        },
        "id": "82elHQKumVwx",
        "outputId": "d0d81a4a-3b9f-48ee-d89e-1e07460abb14"
      },
      "execution_count": null,
      "outputs": [
        {
          "output_type": "execute_result",
          "data": {
            "text/plain": [
              "(133687664859328, 133687664859328, 133687666582592)"
            ]
          },
          "metadata": {},
          "execution_count": 37
        }
      ]
    },
    {
      "cell_type": "markdown",
      "source": [
        "### Cyclic References"
      ],
      "metadata": {
        "id": "vDgN5vjgmhq_"
      }
    },
    {
      "cell_type": "code",
      "source": [
        "a = [10, 20]\n",
        "b = [a, 30]\n",
        "a.append(b)"
      ],
      "metadata": {
        "id": "ZkP-ZDt9mahw"
      },
      "execution_count": null,
      "outputs": []
    },
    {
      "cell_type": "code",
      "source": [
        "a"
      ],
      "metadata": {
        "colab": {
          "base_uri": "https://localhost:8080/"
        },
        "id": "JMDhf_oGmvUJ",
        "outputId": "b71e0f99-d86c-405e-81f8-611014c58d4e"
      },
      "execution_count": null,
      "outputs": [
        {
          "output_type": "execute_result",
          "data": {
            "text/plain": [
              "[10, 20, [[...], 30]]"
            ]
          },
          "metadata": {},
          "execution_count": 39
        }
      ]
    },
    {
      "cell_type": "code",
      "source": [
        "from copy import deepcopy\n",
        "c = deepcopy(a)"
      ],
      "metadata": {
        "id": "52Rc5X93mxq5"
      },
      "execution_count": null,
      "outputs": []
    },
    {
      "cell_type": "code",
      "source": [
        "c"
      ],
      "metadata": {
        "colab": {
          "base_uri": "https://localhost:8080/"
        },
        "id": "ji-8rDyom2LZ",
        "outputId": "6f2cec48-f497-4645-f24c-4db7a571fe8c"
      },
      "execution_count": null,
      "outputs": [
        {
          "output_type": "execute_result",
          "data": {
            "text/plain": [
              "[10, 20, [[...], 30]]"
            ]
          },
          "metadata": {},
          "execution_count": 41
        }
      ]
    },
    {
      "cell_type": "markdown",
      "source": [
        "## Function Parameters as Reference"
      ],
      "metadata": {
        "id": "FUztcdyUm_jF"
      }
    },
    {
      "cell_type": "code",
      "source": [
        "def f(a, b):\n",
        "  a += b\n",
        "  return a"
      ],
      "metadata": {
        "id": "S_wd_fOQm2iR"
      },
      "execution_count": null,
      "outputs": []
    },
    {
      "cell_type": "code",
      "source": [
        "x = 1\n",
        "y = 2\n",
        "f(x, y)"
      ],
      "metadata": {
        "colab": {
          "base_uri": "https://localhost:8080/"
        },
        "id": "83QKQe64nLkR",
        "outputId": "98fce9bb-29c1-4df8-c7dd-050df48a91a3"
      },
      "execution_count": null,
      "outputs": [
        {
          "output_type": "execute_result",
          "data": {
            "text/plain": [
              "3"
            ]
          },
          "metadata": {},
          "execution_count": 43
        }
      ]
    },
    {
      "cell_type": "code",
      "source": [
        "x, y"
      ],
      "metadata": {
        "colab": {
          "base_uri": "https://localhost:8080/"
        },
        "id": "d1lRw_0ZnNIh",
        "outputId": "73a96ec8-61dc-4802-8497-2d4f210e44dc"
      },
      "execution_count": null,
      "outputs": [
        {
          "output_type": "execute_result",
          "data": {
            "text/plain": [
              "(1, 2)"
            ]
          },
          "metadata": {},
          "execution_count": 44
        }
      ]
    },
    {
      "cell_type": "code",
      "source": [
        "a = [1, 2]\n",
        "b = [3, 4]\n",
        "f(a, b)"
      ],
      "metadata": {
        "colab": {
          "base_uri": "https://localhost:8080/"
        },
        "id": "9YpGTfdinQiR",
        "outputId": "4161b47f-f53c-4566-88bf-b74796338dca"
      },
      "execution_count": null,
      "outputs": [
        {
          "output_type": "execute_result",
          "data": {
            "text/plain": [
              "[1, 2, 3, 4]"
            ]
          },
          "metadata": {},
          "execution_count": 47
        }
      ]
    },
    {
      "cell_type": "code",
      "source": [
        "a, b"
      ],
      "metadata": {
        "colab": {
          "base_uri": "https://localhost:8080/"
        },
        "id": "qAxILCXenWTx",
        "outputId": "6c2d15a6-dddc-4b80-df7b-ee3b4437c6cf"
      },
      "execution_count": null,
      "outputs": [
        {
          "output_type": "execute_result",
          "data": {
            "text/plain": [
              "([1, 2, 3, 4], [3, 4])"
            ]
          },
          "metadata": {},
          "execution_count": 48
        }
      ]
    },
    {
      "cell_type": "code",
      "source": [
        "t = (10, 20)\n",
        "u = (30, 40)\n",
        "f(t, u)"
      ],
      "metadata": {
        "colab": {
          "base_uri": "https://localhost:8080/"
        },
        "id": "n9lSyGMBnXsZ",
        "outputId": "55b5b817-a2f2-48b4-99b5-81b3b4906447"
      },
      "execution_count": null,
      "outputs": [
        {
          "output_type": "execute_result",
          "data": {
            "text/plain": [
              "(10, 20, 30, 40)"
            ]
          },
          "metadata": {},
          "execution_count": 49
        }
      ]
    },
    {
      "cell_type": "code",
      "source": [
        "t, u"
      ],
      "metadata": {
        "id": "5jAhlKFXnel3",
        "outputId": "7d5eaef5-ed17-48de-bb37-7a04dbebad16",
        "colab": {
          "base_uri": "https://localhost:8080/"
        }
      },
      "execution_count": null,
      "outputs": [
        {
          "output_type": "execute_result",
          "data": {
            "text/plain": [
              "((10, 20), (30, 40))"
            ]
          },
          "metadata": {},
          "execution_count": 50
        }
      ]
    },
    {
      "cell_type": "markdown",
      "source": [
        "15:26 -"
      ],
      "metadata": {
        "id": "MlVS5lrygDXz"
      }
    },
    {
      "cell_type": "markdown",
      "source": [
        "## Mutable Types as Parameter Default: Bad Idea"
      ],
      "metadata": {
        "id": "ZdL8xpavgKh2"
      }
    },
    {
      "cell_type": "code",
      "source": [
        "class HauntedBus:\n",
        "  def __init__(self, passengers=[]):\n",
        "    self.passengers = passengers\n",
        "\n",
        "  def pick(self, name):\n",
        "    self.passengers.append(name)\n",
        "\n",
        "  def drop(self, name):\n",
        "    self.passengers.remove(name)"
      ],
      "metadata": {
        "id": "uBC_nbIWne45"
      },
      "execution_count": 1,
      "outputs": []
    },
    {
      "cell_type": "code",
      "source": [
        "bus1 = HauntedBus([\"Alice\", \"Bob\"])"
      ],
      "metadata": {
        "id": "gkWND6hUguD5"
      },
      "execution_count": 2,
      "outputs": []
    },
    {
      "cell_type": "code",
      "source": [
        "bus1.passengers"
      ],
      "metadata": {
        "colab": {
          "base_uri": "https://localhost:8080/"
        },
        "id": "HzDXidUTg8Ne",
        "outputId": "ac749585-120f-4170-f26b-4ae696d5172d"
      },
      "execution_count": 3,
      "outputs": [
        {
          "output_type": "execute_result",
          "data": {
            "text/plain": [
              "['Alice', 'Bob']"
            ]
          },
          "metadata": {},
          "execution_count": 3
        }
      ]
    },
    {
      "cell_type": "code",
      "source": [
        "bus1.pick(\"Charlie\")\n",
        "bus1.drop(\"Alice\")"
      ],
      "metadata": {
        "id": "h52kuC5-g-kk"
      },
      "execution_count": 4,
      "outputs": []
    },
    {
      "cell_type": "code",
      "source": [
        "bus1.passengers"
      ],
      "metadata": {
        "colab": {
          "base_uri": "https://localhost:8080/"
        },
        "id": "vjihIZWhhFxI",
        "outputId": "6faad662-e53e-4909-cbb0-7c11eeacdb65"
      },
      "execution_count": 5,
      "outputs": [
        {
          "output_type": "execute_result",
          "data": {
            "text/plain": [
              "['Bob', 'Charlie']"
            ]
          },
          "metadata": {},
          "execution_count": 5
        }
      ]
    },
    {
      "cell_type": "code",
      "source": [
        "bus2 = HauntedBus()"
      ],
      "metadata": {
        "id": "BfQ4uIMHhGlP"
      },
      "execution_count": 6,
      "outputs": []
    },
    {
      "cell_type": "code",
      "source": [
        "bus2.pick('Carrie')\n",
        "bus2.passengers"
      ],
      "metadata": {
        "colab": {
          "base_uri": "https://localhost:8080/"
        },
        "id": "yuFNyy5UhMRS",
        "outputId": "f488c57b-43bc-4443-924f-d2399599ed14"
      },
      "execution_count": 7,
      "outputs": [
        {
          "output_type": "execute_result",
          "data": {
            "text/plain": [
              "['Carrie']"
            ]
          },
          "metadata": {},
          "execution_count": 7
        }
      ]
    },
    {
      "cell_type": "code",
      "source": [
        "bus3 = HauntedBus()"
      ],
      "metadata": {
        "id": "B9ak8m9xhRcE"
      },
      "execution_count": 8,
      "outputs": []
    },
    {
      "cell_type": "code",
      "source": [
        "bus3.passengers"
      ],
      "metadata": {
        "colab": {
          "base_uri": "https://localhost:8080/"
        },
        "id": "eOKtV2sXhT7t",
        "outputId": "a541b305-58d0-4568-ccc7-a0a79195fb81"
      },
      "execution_count": 10,
      "outputs": [
        {
          "output_type": "execute_result",
          "data": {
            "text/plain": [
              "['Carrie']"
            ]
          },
          "metadata": {},
          "execution_count": 10
        }
      ]
    },
    {
      "cell_type": "code",
      "source": [
        "bus3.pick('Dave')"
      ],
      "metadata": {
        "id": "3rHEO0RShU7t"
      },
      "execution_count": 11,
      "outputs": []
    },
    {
      "cell_type": "code",
      "source": [
        "bus2.passengers"
      ],
      "metadata": {
        "colab": {
          "base_uri": "https://localhost:8080/"
        },
        "id": "fvwqkazThYxp",
        "outputId": "86827898-7837-40b4-8970-f98f38768c36"
      },
      "execution_count": 12,
      "outputs": [
        {
          "output_type": "execute_result",
          "data": {
            "text/plain": [
              "['Carrie', 'Dave']"
            ]
          },
          "metadata": {},
          "execution_count": 12
        }
      ]
    },
    {
      "cell_type": "code",
      "source": [
        "bus2.passengers is bus3.passengers"
      ],
      "metadata": {
        "colab": {
          "base_uri": "https://localhost:8080/"
        },
        "id": "Yg7pYC9fhZfo",
        "outputId": "dfb25f9f-bba8-454b-8f6d-9919900ad313"
      },
      "execution_count": 13,
      "outputs": [
        {
          "output_type": "execute_result",
          "data": {
            "text/plain": [
              "True"
            ]
          },
          "metadata": {},
          "execution_count": 13
        }
      ]
    },
    {
      "cell_type": "markdown",
      "source": [
        "The problem is that each default value is evaluated when the function is defined."
      ],
      "metadata": {
        "id": "8cf4Kl_QhlrZ"
      }
    },
    {
      "cell_type": "code",
      "source": [
        "dir(HauntedBus.__init__)\n",
        "HauntedBus.__init__.__defaults__"
      ],
      "metadata": {
        "colab": {
          "base_uri": "https://localhost:8080/"
        },
        "id": "_YPP0-SMhbre",
        "outputId": "14817daf-1d00-436d-fbd2-711edbecf918"
      },
      "execution_count": 16,
      "outputs": [
        {
          "output_type": "execute_result",
          "data": {
            "text/plain": [
              "(['Carrie', 'Dave'],)"
            ]
          },
          "metadata": {},
          "execution_count": 16
        }
      ]
    },
    {
      "cell_type": "markdown",
      "source": [
        "## Defensive Programming with Mutable Parameters"
      ],
      "metadata": {
        "id": "nvmS1a0hiNML"
      }
    },
    {
      "cell_type": "code",
      "source": [
        "class TwighlightBus:\n",
        "  def __init__(self, passengers=None):\n",
        "    if passengers is None:\n",
        "      self.passengers = []\n",
        "    else:\n",
        "      # self.passengers = passengers # shallow copy; self.passengers and passengers refer to the same list obj\n",
        "      self.passengers = list(passengers)\n",
        "  def pick(self, name):\n",
        "    self.passengers.append(name)\n",
        "\n",
        "  def drop(self, name):\n",
        "    self.passengers.remove(name)"
      ],
      "metadata": {
        "id": "9GO5GF_Jh8t5"
      },
      "execution_count": 19,
      "outputs": []
    },
    {
      "cell_type": "code",
      "source": [
        "team = ['Sue', 'Tina', 'Maya', 'Diana', 'Pat']\n",
        "bus = TwighlightBus(team)\n",
        "bus.drop('Sue')\n",
        "bus.drop('Tina')\n",
        "team"
      ],
      "metadata": {
        "colab": {
          "base_uri": "https://localhost:8080/"
        },
        "id": "4zKqFRlvi5QA",
        "outputId": "7a6d41ec-87c8-4bee-bb2a-f27c797ffe22"
      },
      "execution_count": 20,
      "outputs": [
        {
          "output_type": "execute_result",
          "data": {
            "text/plain": [
              "['Sue', 'Tina', 'Maya', 'Diana', 'Pat']"
            ]
          },
          "metadata": {},
          "execution_count": 20
        }
      ]
    },
    {
      "cell_type": "markdown",
      "source": [
        "## `del` and Garbage Collection\n",
        "\n",
        "`del` is not a function; it's a statement\n",
        "`del` destroyes the reference, not the object"
      ],
      "metadata": {
        "id": "VGWZ5b_MjtCB"
      }
    },
    {
      "cell_type": "code",
      "source": [
        "a = [1, 2]\n",
        "b = a\n",
        "del b\n",
        "a"
      ],
      "metadata": {
        "colab": {
          "base_uri": "https://localhost:8080/"
        },
        "id": "EUC-9QOnjC4f",
        "outputId": "d736dc68-e977-4be3-a1c3-8de0cc3377fc"
      },
      "execution_count": 21,
      "outputs": [
        {
          "output_type": "execute_result",
          "data": {
            "text/plain": [
              "[1, 2]"
            ]
          },
          "metadata": {},
          "execution_count": 21
        }
      ]
    },
    {
      "cell_type": "code",
      "source": [
        "b = [3]"
      ],
      "metadata": {
        "id": "9XVQqqHnkBz9"
      },
      "execution_count": 22,
      "outputs": []
    },
    {
      "cell_type": "code",
      "source": [
        "import weakref\n",
        "\n",
        "s1 = {1, 2, 3}\n",
        "s2 = s1\n",
        "\n",
        "def bye():\n",
        "  print(\"...like tears in the rain\")\n",
        "\n",
        "ender = weakref.finalize(s1, bye)\n",
        "ender.alive"
      ],
      "metadata": {
        "colab": {
          "base_uri": "https://localhost:8080/"
        },
        "id": "bOxgvhuekCwz",
        "outputId": "2b3bd72e-dbc0-46d6-8435-eace8f066393"
      },
      "execution_count": 27,
      "outputs": [
        {
          "output_type": "execute_result",
          "data": {
            "text/plain": [
              "True"
            ]
          },
          "metadata": {},
          "execution_count": 27
        }
      ]
    },
    {
      "cell_type": "code",
      "source": [
        "ender.alive"
      ],
      "metadata": {
        "colab": {
          "base_uri": "https://localhost:8080/"
        },
        "id": "NzIzxj7hlT6Z",
        "outputId": "6c4a893a-1d75-42da-b328-4facd42d31c5"
      },
      "execution_count": 28,
      "outputs": [
        {
          "output_type": "execute_result",
          "data": {
            "text/plain": [
              "True"
            ]
          },
          "metadata": {},
          "execution_count": 28
        }
      ]
    },
    {
      "cell_type": "code",
      "source": [
        "del s1"
      ],
      "metadata": {
        "id": "mp5CZThulNbJ"
      },
      "execution_count": 29,
      "outputs": []
    },
    {
      "cell_type": "code",
      "source": [
        "s2 = 'abc'"
      ],
      "metadata": {
        "id": "aueGCPaPlOkT"
      },
      "execution_count": 30,
      "outputs": []
    },
    {
      "cell_type": "code",
      "source": [
        "ender.alive"
      ],
      "metadata": {
        "colab": {
          "base_uri": "https://localhost:8080/"
        },
        "id": "D5cRcFuAlPVv",
        "outputId": "69e3df16-8761-4d14-9fa4-06c24678d798"
      },
      "execution_count": 31,
      "outputs": [
        {
          "output_type": "execute_result",
          "data": {
            "text/plain": [
              "False"
            ]
          },
          "metadata": {},
          "execution_count": 31
        }
      ]
    },
    {
      "cell_type": "markdown",
      "source": [
        "## Tricks Python Plays with Immutables"
      ],
      "metadata": {
        "id": "xmsHxt5IlfdO"
      }
    },
    {
      "cell_type": "markdown",
      "source": [
        "For a tuple `t`, `t[:]` does not make a copy, but returns a reference to the same object"
      ],
      "metadata": {
        "id": "hpxI5EZxljvL"
      }
    },
    {
      "cell_type": "code",
      "source": [
        "t1 = (1, 2, 3)\n",
        "t2 = tuple(t1)\n",
        "t2 is t1"
      ],
      "metadata": {
        "colab": {
          "base_uri": "https://localhost:8080/"
        },
        "id": "Dbev-zoSlRFK",
        "outputId": "e0e97f05-a641-4459-9ad1-72dad28f04c1"
      },
      "execution_count": 32,
      "outputs": [
        {
          "output_type": "execute_result",
          "data": {
            "text/plain": [
              "True"
            ]
          },
          "metadata": {},
          "execution_count": 32
        }
      ]
    },
    {
      "cell_type": "code",
      "source": [
        "t3 = t1[:]\n",
        "t3 is t1"
      ],
      "metadata": {
        "colab": {
          "base_uri": "https://localhost:8080/"
        },
        "id": "2QJ_oKhTlsyh",
        "outputId": "9074b112-4635-4126-b523-b06b9b8a12e5"
      },
      "execution_count": 33,
      "outputs": [
        {
          "output_type": "execute_result",
          "data": {
            "text/plain": [
              "True"
            ]
          },
          "metadata": {},
          "execution_count": 33
        }
      ]
    },
    {
      "cell_type": "code",
      "source": [
        "t4 = t1[:1]\n",
        "t4"
      ],
      "metadata": {
        "colab": {
          "base_uri": "https://localhost:8080/"
        },
        "id": "SYkf3DSalurj",
        "outputId": "a563650e-4568-4a4e-910c-fab314901584"
      },
      "execution_count": 34,
      "outputs": [
        {
          "output_type": "execute_result",
          "data": {
            "text/plain": [
              "(1,)"
            ]
          },
          "metadata": {},
          "execution_count": 34
        }
      ]
    },
    {
      "cell_type": "code",
      "source": [
        "t1 = (1, 2, 3)\n",
        "t2 = (1, 2, 3)\n",
        "t2 is t1"
      ],
      "metadata": {
        "colab": {
          "base_uri": "https://localhost:8080/"
        },
        "id": "kb8g1R40lyP4",
        "outputId": "39ff2785-c534-4e91-f234-75050ed08d25"
      },
      "execution_count": 35,
      "outputs": [
        {
          "output_type": "execute_result",
          "data": {
            "text/plain": [
              "False"
            ]
          },
          "metadata": {},
          "execution_count": 35
        }
      ]
    },
    {
      "cell_type": "code",
      "source": [
        "s1 = 'abc'\n",
        "s2 = 'abc'\n",
        "s1 is s2"
      ],
      "metadata": {
        "colab": {
          "base_uri": "https://localhost:8080/"
        },
        "id": "YGFUzbE9l6Wc",
        "outputId": "de73d97f-a899-4b2a-9908-d96cb6197ad0"
      },
      "execution_count": 36,
      "outputs": [
        {
          "output_type": "execute_result",
          "data": {
            "text/plain": [
              "True"
            ]
          },
          "metadata": {},
          "execution_count": 36
        }
      ]
    },
    {
      "cell_type": "code",
      "source": [],
      "metadata": {
        "id": "armOPvYcl-Kk"
      },
      "execution_count": null,
      "outputs": []
    }
  ]
}