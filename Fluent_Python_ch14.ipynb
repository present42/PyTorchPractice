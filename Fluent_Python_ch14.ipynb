{
  "nbformat": 4,
  "nbformat_minor": 0,
  "metadata": {
    "colab": {
      "provenance": [],
      "authorship_tag": "ABX9TyN0muqcC7NiE2Vo0pf9LoGv"
    },
    "kernelspec": {
      "name": "python3",
      "display_name": "Python 3"
    },
    "language_info": {
      "name": "python"
    }
  },
  "cells": [
    {
      "cell_type": "markdown",
      "source": [
        "# Chapter 14. Inheritance: For Better or For Worse"
      ],
      "metadata": {
        "id": "xhCgCyEphxhm"
      }
    },
    {
      "cell_type": "markdown",
      "source": [
        "## The Super() Function\n",
        "\n",
        "consistent use of the `super()` built-in function is essential for maintainable object-oriented Python programs."
      ],
      "metadata": {
        "id": "_OTwXW6Oiy3X"
      }
    },
    {
      "cell_type": "code",
      "source": [
        "from collections import OrderedDict"
      ],
      "metadata": {
        "id": "eHaS1dXijyys"
      },
      "execution_count": 2,
      "outputs": []
    },
    {
      "cell_type": "code",
      "execution_count": 3,
      "metadata": {
        "id": "vi6QsgaShoHr"
      },
      "outputs": [],
      "source": [
        "class LastUpdatedOrderedDict(OrderedDict):\n",
        "\n",
        "  def __setitem__(self, key, value):\n",
        "    super().__setitem__(key, value)\n",
        "    self.move_to_end(key)"
      ]
    },
    {
      "cell_type": "code",
      "source": [
        "a = LastUpdatedOrderedDict()"
      ],
      "metadata": {
        "id": "SL-DGXj4jviO"
      },
      "execution_count": 4,
      "outputs": []
    },
    {
      "cell_type": "code",
      "source": [
        "a['a'] = 1"
      ],
      "metadata": {
        "id": "xa4JGlI4j4bT"
      },
      "execution_count": 5,
      "outputs": []
    },
    {
      "cell_type": "code",
      "source": [
        "a['b'] = 2"
      ],
      "metadata": {
        "id": "Z75jDOTmj5XA"
      },
      "execution_count": 6,
      "outputs": []
    },
    {
      "cell_type": "code",
      "source": [
        "a"
      ],
      "metadata": {
        "colab": {
          "base_uri": "https://localhost:8080/"
        },
        "id": "cuvPbzX8j6FW",
        "outputId": "127dff7f-b37f-4cdd-b4f4-5e71f6f89bee"
      },
      "execution_count": 7,
      "outputs": [
        {
          "output_type": "execute_result",
          "data": {
            "text/plain": [
              "LastUpdatedOrderedDict([('a', 1), ('b', 2)])"
            ]
          },
          "metadata": {},
          "execution_count": 7
        }
      ]
    },
    {
      "cell_type": "code",
      "source": [
        "a['a'] = 3"
      ],
      "metadata": {
        "id": "mTzezYxAj6Pb"
      },
      "execution_count": 8,
      "outputs": []
    },
    {
      "cell_type": "code",
      "source": [
        "a"
      ],
      "metadata": {
        "colab": {
          "base_uri": "https://localhost:8080/"
        },
        "id": "VZ3n4hx0j7Jb",
        "outputId": "0604e9a4-25b2-453f-ec4b-0f4eb33592ce"
      },
      "execution_count": 9,
      "outputs": [
        {
          "output_type": "execute_result",
          "data": {
            "text/plain": [
              "LastUpdatedOrderedDict([('b', 2), ('a', 3)])"
            ]
          },
          "metadata": {},
          "execution_count": 9
        }
      ]
    },
    {
      "cell_type": "markdown",
      "source": [
        "super() call returns a dynamic proxy object that finds a method (such as `__setitem__` in the example) in a superclass of the `type` parameter."
      ],
      "metadata": {
        "id": "h83ma0IJkhp6"
      }
    },
    {
      "cell_type": "markdown",
      "source": [
        "## Subclassing Built-In Types is Tricky\n",
        "\n",
        "The code of the built-ins (written in C) usually does not call methods overridden by user-defined classes."
      ],
      "metadata": {
        "id": "sYpuiV28lO1o"
      }
    },
    {
      "cell_type": "code",
      "source": [
        "class DoppelDict(dict):\n",
        "  def __setitem__(self, key, value):\n",
        "    super().__setitem__(key, [value] * 2)"
      ],
      "metadata": {
        "id": "w2eNp7b9j7qO"
      },
      "execution_count": 10,
      "outputs": []
    },
    {
      "cell_type": "code",
      "source": [
        "# the __init__ emthod inherited from dict\n",
        "# clearly ignored that __setitem__ was overridden\n",
        "dd = DoppelDict(one=1)"
      ],
      "metadata": {
        "id": "HBl2FOpyltia"
      },
      "execution_count": 16,
      "outputs": []
    },
    {
      "cell_type": "code",
      "source": [
        "dd"
      ],
      "metadata": {
        "colab": {
          "base_uri": "https://localhost:8080/"
        },
        "id": "_WGp1Cp4lvPI",
        "outputId": "96b83b2a-4081-433b-aa96-2892d8fcee25"
      },
      "execution_count": 12,
      "outputs": [
        {
          "output_type": "execute_result",
          "data": {
            "text/plain": [
              "{'one': 1}"
            ]
          },
          "metadata": {},
          "execution_count": 12
        }
      ]
    },
    {
      "cell_type": "code",
      "source": [
        "# [] operator calls our __setitem__\n",
        "dd['two'] = 2"
      ],
      "metadata": {
        "id": "3zUfgcVklv1o"
      },
      "execution_count": 13,
      "outputs": []
    },
    {
      "cell_type": "code",
      "source": [
        "dd"
      ],
      "metadata": {
        "colab": {
          "base_uri": "https://localhost:8080/"
        },
        "id": "C85Whj9GlxQM",
        "outputId": "a23d4109-38e0-451c-c3c1-17c5b7bcfb21"
      },
      "execution_count": 14,
      "outputs": [
        {
          "output_type": "execute_result",
          "data": {
            "text/plain": [
              "{'one': 1, 'two': [2, 2]}"
            ]
          },
          "metadata": {},
          "execution_count": 14
        }
      ]
    },
    {
      "cell_type": "code",
      "source": [
        "# update method from dict does not use our version\n",
        "# of __setitem__ either\n",
        "dd.update(three=3)"
      ],
      "metadata": {
        "id": "_5Ynw5sQlxwj"
      },
      "execution_count": 15,
      "outputs": []
    },
    {
      "cell_type": "markdown",
      "source": [
        "Late Binding:\n",
        "\n",
        "> Late Binding: In any call of the form `x.method()`, the exact method to be called must be determined at runtime, based on the class of the receiver `x`.\n",
        "\n"
      ],
      "metadata": {
        "id": "4JIECZRdmO08"
      }
    },
    {
      "cell_type": "code",
      "source": [
        "class AnswerDict(dict):\n",
        "  def __getitem__(self, key):\n",
        "    return 42"
      ],
      "metadata": {
        "id": "J9dL_QKmlzU3"
      },
      "execution_count": 17,
      "outputs": []
    },
    {
      "cell_type": "code",
      "source": [
        "ad = AnswerDict(a='foo')"
      ],
      "metadata": {
        "id": "bRi6RvwFmu4_"
      },
      "execution_count": 18,
      "outputs": []
    },
    {
      "cell_type": "code",
      "source": [
        "ad['a']"
      ],
      "metadata": {
        "colab": {
          "base_uri": "https://localhost:8080/"
        },
        "id": "CBOSOvTcmweB",
        "outputId": "7db2b9e3-0498-42ac-c04d-7926747e8f1e"
      },
      "execution_count": 19,
      "outputs": [
        {
          "output_type": "execute_result",
          "data": {
            "text/plain": [
              "42"
            ]
          },
          "metadata": {},
          "execution_count": 19
        }
      ]
    },
    {
      "cell_type": "code",
      "source": [
        "d = {}\n",
        "# dict.update method ignored our AnswerDict.__getitem__\n",
        "d.update(ad)"
      ],
      "metadata": {
        "id": "ilWZ86L0mw2l"
      },
      "execution_count": 20,
      "outputs": []
    },
    {
      "cell_type": "code",
      "source": [
        "d['a']"
      ],
      "metadata": {
        "colab": {
          "base_uri": "https://localhost:8080/",
          "height": 36
        },
        "id": "X-hmOdt7myT2",
        "outputId": "1b3ec743-1c9e-452c-da9d-1f61351ce73e"
      },
      "execution_count": 21,
      "outputs": [
        {
          "output_type": "execute_result",
          "data": {
            "text/plain": [
              "'foo'"
            ],
            "application/vnd.google.colaboratory.intrinsic+json": {
              "type": "string"
            }
          },
          "metadata": {},
          "execution_count": 21
        }
      ]
    },
    {
      "cell_type": "code",
      "source": [
        "d"
      ],
      "metadata": {
        "colab": {
          "base_uri": "https://localhost:8080/"
        },
        "id": "r7FUDRf0my0m",
        "outputId": "cff6278b-7891-41f7-c608-5a09a60d69df"
      },
      "execution_count": 22,
      "outputs": [
        {
          "output_type": "execute_result",
          "data": {
            "text/plain": [
              "{'a': 'foo'}"
            ]
          },
          "metadata": {},
          "execution_count": 22
        }
      ]
    },
    {
      "cell_type": "markdown",
      "source": [
        "Warning: Instead of subclassing the built-ins, derive your classes from the `collections` module using `UserDict`, `UserList`, and `UserString`"
      ],
      "metadata": {
        "id": "bu9xAPkam-MX"
      }
    },
    {
      "cell_type": "code",
      "source": [
        "import collections\n",
        "\n",
        "class DoppelDict2(collections.UserDict):\n",
        "  def __setitem__(self, key, value):\n",
        "    super().__setitem__(key, [value] * 2)"
      ],
      "metadata": {
        "id": "CQqEFANzm0HP"
      },
      "execution_count": 26,
      "outputs": []
    },
    {
      "cell_type": "code",
      "source": [
        "dd = DoppelDict2(one=1)"
      ],
      "metadata": {
        "id": "gjhqmtZhnSCS"
      },
      "execution_count": 29,
      "outputs": []
    },
    {
      "cell_type": "code",
      "source": [
        "dd"
      ],
      "metadata": {
        "colab": {
          "base_uri": "https://localhost:8080/"
        },
        "id": "FMyYFnk3nTt1",
        "outputId": "7d2bd565-6324-4f55-e2b7-2368575e57b4"
      },
      "execution_count": 30,
      "outputs": [
        {
          "output_type": "execute_result",
          "data": {
            "text/plain": [
              "{'one': [1, 1]}"
            ]
          },
          "metadata": {},
          "execution_count": 30
        }
      ]
    },
    {
      "cell_type": "code",
      "source": [
        "dd['two'] = 2"
      ],
      "metadata": {
        "id": "MTWgMsZ4nT9L"
      },
      "execution_count": 31,
      "outputs": []
    },
    {
      "cell_type": "code",
      "source": [
        "dd"
      ],
      "metadata": {
        "colab": {
          "base_uri": "https://localhost:8080/"
        },
        "id": "TbDosrSMnaO7",
        "outputId": "bfc21e65-41bb-40a3-fa5f-cdc05e9979fa"
      },
      "execution_count": 32,
      "outputs": [
        {
          "output_type": "execute_result",
          "data": {
            "text/plain": [
              "{'one': [1, 1], 'two': [2, 2]}"
            ]
          },
          "metadata": {},
          "execution_count": 32
        }
      ]
    },
    {
      "cell_type": "code",
      "source": [
        "dd.update(three=3)"
      ],
      "metadata": {
        "id": "_3ClU_HBna76"
      },
      "execution_count": 34,
      "outputs": []
    },
    {
      "cell_type": "code",
      "source": [
        "dd"
      ],
      "metadata": {
        "colab": {
          "base_uri": "https://localhost:8080/"
        },
        "id": "cpPE7aRVnbhz",
        "outputId": "3fbfbf52-bc0f-42ad-f280-68a30a166e33"
      },
      "execution_count": 35,
      "outputs": [
        {
          "output_type": "execute_result",
          "data": {
            "text/plain": [
              "{'one': [1, 1], 'two': [2, 2], 'three': [3, 3]}"
            ]
          },
          "metadata": {},
          "execution_count": 35
        }
      ]
    },
    {
      "cell_type": "code",
      "source": [],
      "metadata": {
        "id": "hsRzcG29neAe"
      },
      "execution_count": null,
      "outputs": []
    }
  ]
}