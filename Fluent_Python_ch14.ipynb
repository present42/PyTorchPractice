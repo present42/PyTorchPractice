{
  "nbformat": 4,
  "nbformat_minor": 0,
  "metadata": {
    "colab": {
      "provenance": [],
      "authorship_tag": "ABX9TyN4I8aZqzuaY3J++3fuzWCI"
    },
    "kernelspec": {
      "name": "python3",
      "display_name": "Python 3"
    },
    "language_info": {
      "name": "python"
    }
  },
  "cells": [
    {
      "cell_type": "markdown",
      "source": [
        "# Chapter 14. Inheritance: For Better or For Worse"
      ],
      "metadata": {
        "id": "xhCgCyEphxhm"
      }
    },
    {
      "cell_type": "markdown",
      "source": [
        "## The Super() Function\n",
        "\n",
        "consistent use of the `super()` built-in function is essential for maintainable object-oriented Python programs."
      ],
      "metadata": {
        "id": "_OTwXW6Oiy3X"
      }
    },
    {
      "cell_type": "code",
      "source": [
        "from collections import OrderedDict"
      ],
      "metadata": {
        "id": "eHaS1dXijyys"
      },
      "execution_count": null,
      "outputs": []
    },
    {
      "cell_type": "code",
      "execution_count": null,
      "metadata": {
        "id": "vi6QsgaShoHr"
      },
      "outputs": [],
      "source": [
        "class LastUpdatedOrderedDict(OrderedDict):\n",
        "\n",
        "  def __setitem__(self, key, value):\n",
        "    super().__setitem__(key, value)\n",
        "    self.move_to_end(key)"
      ]
    },
    {
      "cell_type": "code",
      "source": [
        "a = LastUpdatedOrderedDict()"
      ],
      "metadata": {
        "id": "SL-DGXj4jviO"
      },
      "execution_count": null,
      "outputs": []
    },
    {
      "cell_type": "code",
      "source": [
        "a['a'] = 1"
      ],
      "metadata": {
        "id": "xa4JGlI4j4bT"
      },
      "execution_count": null,
      "outputs": []
    },
    {
      "cell_type": "code",
      "source": [
        "a['b'] = 2"
      ],
      "metadata": {
        "id": "Z75jDOTmj5XA"
      },
      "execution_count": null,
      "outputs": []
    },
    {
      "cell_type": "code",
      "source": [
        "a"
      ],
      "metadata": {
        "colab": {
          "base_uri": "https://localhost:8080/"
        },
        "id": "cuvPbzX8j6FW",
        "outputId": "127dff7f-b37f-4cdd-b4f4-5e71f6f89bee"
      },
      "execution_count": null,
      "outputs": [
        {
          "output_type": "execute_result",
          "data": {
            "text/plain": [
              "LastUpdatedOrderedDict([('a', 1), ('b', 2)])"
            ]
          },
          "metadata": {},
          "execution_count": 7
        }
      ]
    },
    {
      "cell_type": "code",
      "source": [
        "a['a'] = 3"
      ],
      "metadata": {
        "id": "mTzezYxAj6Pb"
      },
      "execution_count": null,
      "outputs": []
    },
    {
      "cell_type": "code",
      "source": [
        "a"
      ],
      "metadata": {
        "colab": {
          "base_uri": "https://localhost:8080/"
        },
        "id": "VZ3n4hx0j7Jb",
        "outputId": "0604e9a4-25b2-453f-ec4b-0f4eb33592ce"
      },
      "execution_count": null,
      "outputs": [
        {
          "output_type": "execute_result",
          "data": {
            "text/plain": [
              "LastUpdatedOrderedDict([('b', 2), ('a', 3)])"
            ]
          },
          "metadata": {},
          "execution_count": 9
        }
      ]
    },
    {
      "cell_type": "markdown",
      "source": [
        "super() call returns a dynamic proxy object that finds a method (such as `__setitem__` in the example) in a superclass of the `type` parameter."
      ],
      "metadata": {
        "id": "h83ma0IJkhp6"
      }
    },
    {
      "cell_type": "markdown",
      "source": [
        "## Subclassing Built-In Types is Tricky\n",
        "\n",
        "The code of the built-ins (written in C) usually does not call methods overridden by user-defined classes."
      ],
      "metadata": {
        "id": "sYpuiV28lO1o"
      }
    },
    {
      "cell_type": "code",
      "source": [
        "class DoppelDict(dict):\n",
        "  def __setitem__(self, key, value):\n",
        "    super().__setitem__(key, [value] * 2)"
      ],
      "metadata": {
        "id": "w2eNp7b9j7qO"
      },
      "execution_count": null,
      "outputs": []
    },
    {
      "cell_type": "code",
      "source": [
        "# the __init__ emthod inherited from dict\n",
        "# clearly ignored that __setitem__ was overridden\n",
        "dd = DoppelDict(one=1)"
      ],
      "metadata": {
        "id": "HBl2FOpyltia"
      },
      "execution_count": null,
      "outputs": []
    },
    {
      "cell_type": "code",
      "source": [
        "dd"
      ],
      "metadata": {
        "colab": {
          "base_uri": "https://localhost:8080/"
        },
        "id": "_WGp1Cp4lvPI",
        "outputId": "96b83b2a-4081-433b-aa96-2892d8fcee25"
      },
      "execution_count": null,
      "outputs": [
        {
          "output_type": "execute_result",
          "data": {
            "text/plain": [
              "{'one': 1}"
            ]
          },
          "metadata": {},
          "execution_count": 12
        }
      ]
    },
    {
      "cell_type": "code",
      "source": [
        "# [] operator calls our __setitem__\n",
        "dd['two'] = 2"
      ],
      "metadata": {
        "id": "3zUfgcVklv1o"
      },
      "execution_count": null,
      "outputs": []
    },
    {
      "cell_type": "code",
      "source": [
        "dd"
      ],
      "metadata": {
        "colab": {
          "base_uri": "https://localhost:8080/"
        },
        "id": "C85Whj9GlxQM",
        "outputId": "a23d4109-38e0-451c-c3c1-17c5b7bcfb21"
      },
      "execution_count": null,
      "outputs": [
        {
          "output_type": "execute_result",
          "data": {
            "text/plain": [
              "{'one': 1, 'two': [2, 2]}"
            ]
          },
          "metadata": {},
          "execution_count": 14
        }
      ]
    },
    {
      "cell_type": "code",
      "source": [
        "# update method from dict does not use our version\n",
        "# of __setitem__ either\n",
        "dd.update(three=3)"
      ],
      "metadata": {
        "id": "_5Ynw5sQlxwj"
      },
      "execution_count": null,
      "outputs": []
    },
    {
      "cell_type": "markdown",
      "source": [
        "Late Binding:\n",
        "\n",
        "> Late Binding: In any call of the form `x.method()`, the exact method to be called must be determined at runtime, based on the class of the receiver `x`.\n",
        "\n"
      ],
      "metadata": {
        "id": "4JIECZRdmO08"
      }
    },
    {
      "cell_type": "code",
      "source": [
        "class AnswerDict(dict):\n",
        "  def __getitem__(self, key):\n",
        "    return 42"
      ],
      "metadata": {
        "id": "J9dL_QKmlzU3"
      },
      "execution_count": null,
      "outputs": []
    },
    {
      "cell_type": "code",
      "source": [
        "ad = AnswerDict(a='foo')"
      ],
      "metadata": {
        "id": "bRi6RvwFmu4_"
      },
      "execution_count": null,
      "outputs": []
    },
    {
      "cell_type": "code",
      "source": [
        "ad['a']"
      ],
      "metadata": {
        "colab": {
          "base_uri": "https://localhost:8080/"
        },
        "id": "CBOSOvTcmweB",
        "outputId": "7db2b9e3-0498-42ac-c04d-7926747e8f1e"
      },
      "execution_count": null,
      "outputs": [
        {
          "output_type": "execute_result",
          "data": {
            "text/plain": [
              "42"
            ]
          },
          "metadata": {},
          "execution_count": 19
        }
      ]
    },
    {
      "cell_type": "code",
      "source": [
        "d = {}\n",
        "# dict.update method ignored our AnswerDict.__getitem__\n",
        "d.update(ad)"
      ],
      "metadata": {
        "id": "ilWZ86L0mw2l"
      },
      "execution_count": null,
      "outputs": []
    },
    {
      "cell_type": "code",
      "source": [
        "d['a']"
      ],
      "metadata": {
        "colab": {
          "base_uri": "https://localhost:8080/",
          "height": 36
        },
        "id": "X-hmOdt7myT2",
        "outputId": "1b3ec743-1c9e-452c-da9d-1f61351ce73e"
      },
      "execution_count": null,
      "outputs": [
        {
          "output_type": "execute_result",
          "data": {
            "text/plain": [
              "'foo'"
            ],
            "application/vnd.google.colaboratory.intrinsic+json": {
              "type": "string"
            }
          },
          "metadata": {},
          "execution_count": 21
        }
      ]
    },
    {
      "cell_type": "code",
      "source": [
        "d"
      ],
      "metadata": {
        "colab": {
          "base_uri": "https://localhost:8080/"
        },
        "id": "r7FUDRf0my0m",
        "outputId": "cff6278b-7891-41f7-c608-5a09a60d69df"
      },
      "execution_count": null,
      "outputs": [
        {
          "output_type": "execute_result",
          "data": {
            "text/plain": [
              "{'a': 'foo'}"
            ]
          },
          "metadata": {},
          "execution_count": 22
        }
      ]
    },
    {
      "cell_type": "markdown",
      "source": [
        "Warning: Instead of subclassing the built-ins, derive your classes from the `collections` module using `UserDict`, `UserList`, and `UserString`"
      ],
      "metadata": {
        "id": "bu9xAPkam-MX"
      }
    },
    {
      "cell_type": "code",
      "source": [
        "import collections\n",
        "\n",
        "class DoppelDict2(collections.UserDict):\n",
        "  def __setitem__(self, key, value):\n",
        "    super().__setitem__(key, [value] * 2)"
      ],
      "metadata": {
        "id": "CQqEFANzm0HP"
      },
      "execution_count": null,
      "outputs": []
    },
    {
      "cell_type": "code",
      "source": [
        "dd = DoppelDict2(one=1)"
      ],
      "metadata": {
        "id": "gjhqmtZhnSCS"
      },
      "execution_count": null,
      "outputs": []
    },
    {
      "cell_type": "code",
      "source": [
        "dd"
      ],
      "metadata": {
        "colab": {
          "base_uri": "https://localhost:8080/"
        },
        "id": "FMyYFnk3nTt1",
        "outputId": "7d2bd565-6324-4f55-e2b7-2368575e57b4"
      },
      "execution_count": null,
      "outputs": [
        {
          "output_type": "execute_result",
          "data": {
            "text/plain": [
              "{'one': [1, 1]}"
            ]
          },
          "metadata": {},
          "execution_count": 30
        }
      ]
    },
    {
      "cell_type": "code",
      "source": [
        "dd['two'] = 2"
      ],
      "metadata": {
        "id": "MTWgMsZ4nT9L"
      },
      "execution_count": null,
      "outputs": []
    },
    {
      "cell_type": "code",
      "source": [
        "dd"
      ],
      "metadata": {
        "colab": {
          "base_uri": "https://localhost:8080/"
        },
        "id": "TbDosrSMnaO7",
        "outputId": "bfc21e65-41bb-40a3-fa5f-cdc05e9979fa"
      },
      "execution_count": null,
      "outputs": [
        {
          "output_type": "execute_result",
          "data": {
            "text/plain": [
              "{'one': [1, 1], 'two': [2, 2]}"
            ]
          },
          "metadata": {},
          "execution_count": 32
        }
      ]
    },
    {
      "cell_type": "code",
      "source": [
        "dd.update(three=3)"
      ],
      "metadata": {
        "id": "_3ClU_HBna76"
      },
      "execution_count": null,
      "outputs": []
    },
    {
      "cell_type": "code",
      "source": [
        "dd"
      ],
      "metadata": {
        "colab": {
          "base_uri": "https://localhost:8080/"
        },
        "id": "cpPE7aRVnbhz",
        "outputId": "3fbfbf52-bc0f-42ad-f280-68a30a166e33"
      },
      "execution_count": null,
      "outputs": [
        {
          "output_type": "execute_result",
          "data": {
            "text/plain": [
              "{'one': [1, 1], 'two': [2, 2], 'three': [3, 3]}"
            ]
          },
          "metadata": {},
          "execution_count": 35
        }
      ]
    },
    {
      "cell_type": "code",
      "source": [
        "import collections\n",
        "\n",
        "class AnswerDict2(collections.UserDict):\n",
        "  def __getitem__(self, key):\n",
        "    return 42"
      ],
      "metadata": {
        "id": "hsRzcG29neAe"
      },
      "execution_count": 1,
      "outputs": []
    },
    {
      "cell_type": "code",
      "source": [
        "ad = AnswerDict2(a='foo')\n",
        "ad['a']"
      ],
      "metadata": {
        "colab": {
          "base_uri": "https://localhost:8080/"
        },
        "id": "tk_IDsbV84yM",
        "outputId": "bdeee182-6f10-4204-8d2e-67df0030c022"
      },
      "execution_count": 2,
      "outputs": [
        {
          "output_type": "execute_result",
          "data": {
            "text/plain": [
              "42"
            ]
          },
          "metadata": {},
          "execution_count": 2
        }
      ]
    },
    {
      "cell_type": "code",
      "source": [
        "d = {}\n",
        "d.update(ad)"
      ],
      "metadata": {
        "id": "nqBJdwx586wC"
      },
      "execution_count": 3,
      "outputs": []
    },
    {
      "cell_type": "code",
      "source": [
        "d['a']"
      ],
      "metadata": {
        "colab": {
          "base_uri": "https://localhost:8080/"
        },
        "id": "7pyQudWI88n6",
        "outputId": "008a1801-bfe9-40f7-ae9d-95b06eac3729"
      },
      "execution_count": 4,
      "outputs": [
        {
          "output_type": "execute_result",
          "data": {
            "text/plain": [
              "42"
            ]
          },
          "metadata": {},
          "execution_count": 4
        }
      ]
    },
    {
      "cell_type": "code",
      "source": [
        "d"
      ],
      "metadata": {
        "colab": {
          "base_uri": "https://localhost:8080/"
        },
        "id": "74hF0lUk8_U0",
        "outputId": "3ed12bea-d11a-4c77-bde4-4b63fb71ac95"
      },
      "execution_count": 5,
      "outputs": [
        {
          "output_type": "execute_result",
          "data": {
            "text/plain": [
              "{'a': 42}"
            ]
          },
          "metadata": {},
          "execution_count": 5
        }
      ]
    },
    {
      "cell_type": "markdown",
      "source": [
        "12:31 -"
      ],
      "metadata": {
        "id": "eg_i0nGaBaCd"
      }
    },
    {
      "cell_type": "code",
      "source": [
        "# diamond.py\n",
        "class Root:\n",
        "  def ping(self):\n",
        "    print(f\"{self}.ping() in Root\")\n",
        "\n",
        "  def pong(self):\n",
        "    print(f\"{self}.pong() in Root\")\n",
        "\n",
        "  def __repr__(self):\n",
        "    cls_name = type(self).__name__\n",
        "    return f'<instance of {cls_name}>'"
      ],
      "metadata": {
        "id": "jMPWOthH9BIf"
      },
      "execution_count": 6,
      "outputs": []
    },
    {
      "cell_type": "code",
      "source": [
        "class A(Root):\n",
        "  def ping(self):\n",
        "    print(f\"{self}.ping() in A\")\n",
        "    super().ping()\n",
        "\n",
        "  def pong(self):\n",
        "    print(f\"{self}.pong() in A\")\n",
        "    super().pong()\n",
        "\n",
        "class B(Root):\n",
        "  def ping(self):\n",
        "    print(f'{self}.ping() in B')\n",
        "    super().ping()\n",
        "\n",
        "  def pong(self):\n",
        "    print(f'{self}.pong() in B')\n",
        "\n",
        "class Leaf(A, B):\n",
        "  def ping(self):\n",
        "    print(f'{self}.ping() in Leaf')\n",
        "    super().ping()"
      ],
      "metadata": {
        "id": "jW6_TFiICEKl"
      },
      "execution_count": 12,
      "outputs": []
    },
    {
      "cell_type": "code",
      "source": [
        "leaf1 = Leaf()\n",
        "leaf1.pong()"
      ],
      "metadata": {
        "colab": {
          "base_uri": "https://localhost:8080/"
        },
        "id": "EgCoBhvaCtck",
        "outputId": "1ef964dc-766a-4021-a8aa-1c62dc8cd9d3"
      },
      "execution_count": 13,
      "outputs": [
        {
          "output_type": "stream",
          "name": "stdout",
          "text": [
            "<instance of Leaf>.pong() in B\n"
          ]
        }
      ]
    },
    {
      "cell_type": "code",
      "source": [
        "leaf1.pong()"
      ],
      "metadata": {
        "colab": {
          "base_uri": "https://localhost:8080/"
        },
        "id": "-YpdjcLkD8TD",
        "outputId": "392bbdc8-f777-493f-be93-4144a8d8dba7"
      },
      "execution_count": 11,
      "outputs": [
        {
          "output_type": "stream",
          "name": "stdout",
          "text": [
            "<instance of Leaf>.pong() in A\n",
            "<instance of Leaf>.pong() in B\n"
          ]
        }
      ]
    },
    {
      "cell_type": "code",
      "source": [],
      "metadata": {
        "id": "BpDH03NGGh-X"
      },
      "execution_count": null,
      "outputs": []
    },
    {
      "cell_type": "markdown",
      "source": [
        "In a real program, a class like `U` could be a *mixin* class: a class intended to be used together with other classes in multiple inheritance, to provide additional functionality."
      ],
      "metadata": {
        "id": "GnXL-UrgGiaa"
      }
    },
    {
      "cell_type": "code",
      "source": [
        "from diamond import A\n",
        "\n",
        "class U():\n",
        "  def ping(self):\n",
        "    print(f'{self}.ping() in U')\n",
        "    super().ping()\n",
        "\n",
        "class LeafUA(U, A):\n",
        "  def ping(self):\n",
        "    print(f'{self}.ping() in LeafUA')\n",
        "    super().ping()"
      ],
      "metadata": {
        "id": "wT0Nnjt6C_qq"
      },
      "execution_count": 14,
      "outputs": []
    },
    {
      "cell_type": "code",
      "source": [
        "test = LeafUA()\n",
        "LeafUA.__mro__"
      ],
      "metadata": {
        "colab": {
          "base_uri": "https://localhost:8080/"
        },
        "id": "_Igo2PxKF-FL",
        "outputId": "8d670f58-836b-436c-b369-d50482d213bd"
      },
      "execution_count": 18,
      "outputs": [
        {
          "output_type": "execute_result",
          "data": {
            "text/plain": [
              "(__main__.LeafUA, __main__.U, diamond.A, diamond.Root, object)"
            ]
          },
          "metadata": {},
          "execution_count": 18
        }
      ]
    },
    {
      "cell_type": "code",
      "source": [
        "test.ping()"
      ],
      "metadata": {
        "colab": {
          "base_uri": "https://localhost:8080/"
        },
        "id": "TjJtlnoEGCyk",
        "outputId": "dcc3946a-c689-4e6a-fa6e-cc733bf1234b"
      },
      "execution_count": 19,
      "outputs": [
        {
          "output_type": "stream",
          "name": "stdout",
          "text": [
            "<instance of LeafUA>.ping() in LeafUA\n",
            "<instance of LeafUA>.ping() in U\n",
            "<instance of LeafUA>.ping() in A\n",
            "<instance of LeafUA>.ping() in Root\n"
          ]
        }
      ]
    },
    {
      "cell_type": "markdown",
      "source": [
        "## Mixin Classes\n",
        " - example: Case-Insensitive Mappings"
      ],
      "metadata": {
        "id": "5cnKJtQDG6Wp"
      }
    },
    {
      "cell_type": "code",
      "source": [
        "import collections\n",
        "\n",
        "def _upper(key):\n",
        "  try:\n",
        "    return key.upper()\n",
        "  except AttributeError:\n",
        "    return key\n",
        "\n",
        "class UpperCaseMixin:\n",
        "  def __setitem__(self, key, item):\n",
        "    super().__setitem__(_upper(key), item)\n",
        "\n",
        "  def __getitem__(self, key):\n",
        "    return super().__getitem__(_upper(key))\n",
        "\n",
        "  def get(self, key, default=None):\n",
        "    return super().get(_upper(key), default)\n",
        "\n",
        "  def __contains__(self, key):\n",
        "    return super().__contains__(_upper(key))"
      ],
      "metadata": {
        "id": "RA1vSX7iGWtu"
      },
      "execution_count": 20,
      "outputs": []
    },
    {
      "cell_type": "markdown",
      "source": [
        "Since every method calls `super()`, this mixin depends on a sibling class that implements or inherits methods with the same signature."
      ],
      "metadata": {
        "id": "fRxLNw9tHzO0"
      }
    },
    {
      "cell_type": "code",
      "source": [
        "class UpperDict(UpperCaseMixin, collections.UserDict):\n",
        "  pass\n",
        "\n",
        "class UpperCounter(UpperCaseMixin, collections.Counter):\n",
        "  pass"
      ],
      "metadata": {
        "id": "y37hXzGkHulO"
      },
      "execution_count": 21,
      "outputs": []
    },
    {
      "cell_type": "code",
      "source": [
        "d = UpperDict([('a', 'letter A'), (2, 'digit two')])"
      ],
      "metadata": {
        "id": "iXZVjeJFIMbF"
      },
      "execution_count": 22,
      "outputs": []
    },
    {
      "cell_type": "code",
      "source": [
        "list(d.keys())"
      ],
      "metadata": {
        "colab": {
          "base_uri": "https://localhost:8080/"
        },
        "id": "-YrKcJGhIUiU",
        "outputId": "762906a9-918e-4182-8b09-733228f8ad80"
      },
      "execution_count": 23,
      "outputs": [
        {
          "output_type": "execute_result",
          "data": {
            "text/plain": [
              "['A', 2]"
            ]
          },
          "metadata": {},
          "execution_count": 23
        }
      ]
    },
    {
      "cell_type": "code",
      "source": [
        "d['b'] = 'letter B'"
      ],
      "metadata": {
        "id": "xDOSdHzeIVgh"
      },
      "execution_count": 24,
      "outputs": []
    },
    {
      "cell_type": "code",
      "source": [
        "d"
      ],
      "metadata": {
        "colab": {
          "base_uri": "https://localhost:8080/"
        },
        "id": "pxJ40JoxIXMd",
        "outputId": "f1ee01cc-3e46-4aae-e2af-c1fb0e98064c"
      },
      "execution_count": 25,
      "outputs": [
        {
          "output_type": "execute_result",
          "data": {
            "text/plain": [
              "{'A': 'letter A', 2: 'digit two', 'B': 'letter B'}"
            ]
          },
          "metadata": {},
          "execution_count": 25
        }
      ]
    },
    {
      "cell_type": "code",
      "source": [
        "'b' in d"
      ],
      "metadata": {
        "colab": {
          "base_uri": "https://localhost:8080/"
        },
        "id": "u87LdoQMIXjd",
        "outputId": "1bef744d-c790-42e4-9099-90d3ca63f5d7"
      },
      "execution_count": 26,
      "outputs": [
        {
          "output_type": "execute_result",
          "data": {
            "text/plain": [
              "True"
            ]
          },
          "metadata": {},
          "execution_count": 26
        }
      ]
    },
    {
      "cell_type": "code",
      "source": [
        "d['a'], d.get('B')"
      ],
      "metadata": {
        "colab": {
          "base_uri": "https://localhost:8080/"
        },
        "id": "Lr6UYWxqIZDE",
        "outputId": "0c8d623c-ebf3-4ee6-dd03-c5354f8bfd4b"
      },
      "execution_count": 27,
      "outputs": [
        {
          "output_type": "execute_result",
          "data": {
            "text/plain": [
              "('letter A', 'letter B')"
            ]
          },
          "metadata": {},
          "execution_count": 27
        }
      ]
    },
    {
      "cell_type": "code",
      "source": [
        "list(d.keys())"
      ],
      "metadata": {
        "colab": {
          "base_uri": "https://localhost:8080/"
        },
        "id": "hprLMl8RIa6l",
        "outputId": "5e7b11b4-fd43-40dd-8afd-5dee0d8bc455"
      },
      "execution_count": 28,
      "outputs": [
        {
          "output_type": "execute_result",
          "data": {
            "text/plain": [
              "['A', 2, 'B']"
            ]
          },
          "metadata": {},
          "execution_count": 28
        }
      ]
    },
    {
      "cell_type": "code",
      "source": [
        "c = UpperCounter('BaNanA')"
      ],
      "metadata": {
        "id": "KbPpi5bFIcUG"
      },
      "execution_count": 29,
      "outputs": []
    },
    {
      "cell_type": "code",
      "source": [
        "c.most_common()"
      ],
      "metadata": {
        "colab": {
          "base_uri": "https://localhost:8080/"
        },
        "id": "n2SeD1g8Ie-S",
        "outputId": "b5bdbccd-635c-4489-f815-bcfaba9e0f31"
      },
      "execution_count": 30,
      "outputs": [
        {
          "output_type": "execute_result",
          "data": {
            "text/plain": [
              "[('A', 3), ('N', 2), ('B', 1)]"
            ]
          },
          "metadata": {},
          "execution_count": 30
        }
      ]
    },
    {
      "cell_type": "markdown",
      "source": [
        "# Multiple Inheritance in the Real World"
      ],
      "metadata": {
        "id": "SVcrEhZxJJn_"
      }
    },
    {
      "cell_type": "markdown",
      "source": [
        "### ABCs are mixins too"
      ],
      "metadata": {
        "id": "ZFUlTZ9QJRhK"
      }
    },
    {
      "cell_type": "code",
      "source": [],
      "metadata": {
        "id": "E3dFWU4WIf7T"
      },
      "execution_count": null,
      "outputs": []
    }
  ]
}