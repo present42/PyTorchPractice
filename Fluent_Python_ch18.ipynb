{
  "nbformat": 4,
  "nbformat_minor": 0,
  "metadata": {
    "colab": {
      "provenance": [],
      "authorship_tag": "ABX9TyOb3P8xP8I15k1OzstzpYfF"
    },
    "kernelspec": {
      "name": "python3",
      "display_name": "Python 3"
    },
    "language_info": {
      "name": "python"
    }
  },
  "cells": [
    {
      "cell_type": "markdown",
      "source": [
        "# Chapter 18. with, match, and else Blocks"
      ],
      "metadata": {
        "id": "t-RsR6gDD4__"
      }
    },
    {
      "cell_type": "markdown",
      "source": [
        "`with` statement sets up a temporary context and reliably tears it down, under the control of a context manager object.\n",
        "\n",
        "Context manager object is the result of evaluating expression after `with`, but the value bound to the target variable (in `as` clause) is the result returned by `__enter__` method of the context manager object."
      ],
      "metadata": {
        "id": "JMF23GZxEP41"
      }
    },
    {
      "cell_type": "code",
      "execution_count": null,
      "metadata": {
        "id": "p2ZLgh-QDzZl"
      },
      "outputs": [],
      "source": [
        "# open('mirror.py') returns in instance of `TextIOWrapper`\n",
        "# whose __enter__ method returns self\n",
        "\n",
        "# some context manager's __enter__ returns None i.e. `as` is optional\n",
        "with open('mirror.py') as fp:\n",
        "  src = fp.read(60)\n",
        "  # when control flow exist the with block, the __exit__ method is invoked on the context manager object (not )"
      ]
    },
    {
      "cell_type": "code",
      "source": [
        "len(src)"
      ],
      "metadata": {
        "colab": {
          "base_uri": "https://localhost:8080/"
        },
        "id": "pBifBL7pF-ca",
        "outputId": "1dd0135e-3af1-49cd-80a7-1384ca1968c8"
      },
      "execution_count": null,
      "outputs": [
        {
          "output_type": "execute_result",
          "data": {
            "text/plain": [
              "60"
            ]
          },
          "metadata": {},
          "execution_count": 2
        }
      ]
    },
    {
      "cell_type": "code",
      "source": [
        "src"
      ],
      "metadata": {
        "colab": {
          "base_uri": "https://localhost:8080/",
          "height": 36
        },
        "id": "tGz5wI40F_YC",
        "outputId": "01e0dc4d-30ad-47c5-8724-fddd8abad7cb"
      },
      "execution_count": null,
      "outputs": [
        {
          "output_type": "execute_result",
          "data": {
            "text/plain": [
              "'def just_random_text(str):\\n  return f\"{str} hahaha! Hello!\"\\n'"
            ],
            "application/vnd.google.colaboratory.intrinsic+json": {
              "type": "string"
            }
          },
          "metadata": {},
          "execution_count": 3
        }
      ]
    },
    {
      "cell_type": "code",
      "source": [
        "fp"
      ],
      "metadata": {
        "colab": {
          "base_uri": "https://localhost:8080/"
        },
        "id": "KtbbRejuGEsn",
        "outputId": "45d9b13a-b2fb-483b-cdb6-d268587ed21e"
      },
      "execution_count": null,
      "outputs": [
        {
          "output_type": "execute_result",
          "data": {
            "text/plain": [
              "<_io.TextIOWrapper name='mirror.py' mode='r' encoding='UTF-8'>"
            ]
          },
          "metadata": {},
          "execution_count": 4
        }
      ]
    },
    {
      "cell_type": "code",
      "source": [
        "fp.closed, fp.encoding"
      ],
      "metadata": {
        "colab": {
          "base_uri": "https://localhost:8080/"
        },
        "id": "zDMRXk1BGAcp",
        "outputId": "fbf3bcc8-f654-4d3f-9b46-ef56e3697c84"
      },
      "execution_count": null,
      "outputs": [
        {
          "output_type": "execute_result",
          "data": {
            "text/plain": [
              "(True, 'UTF-8')"
            ]
          },
          "metadata": {},
          "execution_count": 5
        }
      ]
    },
    {
      "cell_type": "code",
      "source": [
        "fp.read(60)"
      ],
      "metadata": {
        "colab": {
          "base_uri": "https://localhost:8080/",
          "height": 149
        },
        "id": "QZRaTTvYGJfS",
        "outputId": "2688c0f9-1b97-4fc1-e8e7-3d53586dae3b"
      },
      "execution_count": null,
      "outputs": [
        {
          "output_type": "error",
          "ename": "ValueError",
          "evalue": "I/O operation on closed file.",
          "traceback": [
            "\u001b[0;31m---------------------------------------------------------------------------\u001b[0m",
            "\u001b[0;31mValueError\u001b[0m                                Traceback (most recent call last)",
            "\u001b[0;32m<ipython-input-6-132011e948ad>\u001b[0m in \u001b[0;36m<cell line: 1>\u001b[0;34m()\u001b[0m\n\u001b[0;32m----> 1\u001b[0;31m \u001b[0mfp\u001b[0m\u001b[0;34m.\u001b[0m\u001b[0mread\u001b[0m\u001b[0;34m(\u001b[0m\u001b[0;36m60\u001b[0m\u001b[0;34m)\u001b[0m\u001b[0;34m\u001b[0m\u001b[0;34m\u001b[0m\u001b[0m\n\u001b[0m",
            "\u001b[0;31mValueError\u001b[0m: I/O operation on closed file."
          ]
        }
      ]
    },
    {
      "cell_type": "code",
      "source": [
        "# mirror.py\n",
        "import sys\n",
        "\n",
        "class LookingGlass:\n",
        "  def __enter__(self): # Python invokes __enter__ with no arguments other than self\n",
        "    self.original_write = sys.stdout.write # hold the original `sys.stdout.write`\n",
        "    sys.stdout.write = self.reverse_write\n",
        "    return 'JABBERWOCKY'\n",
        "\n",
        "  def reverse_write(self, text):\n",
        "    self.original_write(text[::-1])\n",
        "\n",
        "  # If all went well, python calls it with None, None, None\n",
        "  # Otherwise, it'll hold information about exception\n",
        "  def __exit__(self, exc_type, exc_value, traceback):\n",
        "    sys.stdout.write = self.original_write\n",
        "    if exc_type is ZeroDivisionError:\n",
        "      print(\"Please DO NOT divide by zero!\")\n",
        "      return True # tell interpreter that everything is handled\n",
        "                  # Otherwise, any exception raised in with block will be propagated\n"
      ],
      "metadata": {
        "id": "jUsa0JCgGLyi"
      },
      "execution_count": null,
      "outputs": []
    },
    {
      "cell_type": "code",
      "source": [
        "with LookingGlass() as what:\n",
        "  print('Alice, Kitty and Snowdrop')\n",
        "  print(what)"
      ],
      "metadata": {
        "colab": {
          "base_uri": "https://localhost:8080/"
        },
        "id": "dvvbO20wKL0K",
        "outputId": "27e9fd48-4372-40ef-d8cb-7fad03ec90a0"
      },
      "execution_count": null,
      "outputs": [
        {
          "output_type": "stream",
          "name": "stdout",
          "text": [
            "pordwonS dna yttiK ,ecilA\n",
            "YKCOWREBBAJ\n"
          ]
        }
      ]
    },
    {
      "cell_type": "code",
      "source": [
        "what"
      ],
      "metadata": {
        "colab": {
          "base_uri": "https://localhost:8080/",
          "height": 36
        },
        "id": "FYIMdS8aLAEg",
        "outputId": "f581d228-4c72-43ba-895c-ba73b3b7b95e"
      },
      "execution_count": null,
      "outputs": [
        {
          "output_type": "execute_result",
          "data": {
            "text/plain": [
              "'JABBERWOCKY'"
            ],
            "application/vnd.google.colaboratory.intrinsic+json": {
              "type": "string"
            }
          },
          "metadata": {},
          "execution_count": 10
        }
      ]
    },
    {
      "cell_type": "code",
      "source": [
        "print('Back to normal')"
      ],
      "metadata": {
        "colab": {
          "base_uri": "https://localhost:8080/"
        },
        "id": "SndVVaOfLA3h",
        "outputId": "21c68aba-7ca7-4086-9900-d57fd120004c"
      },
      "execution_count": null,
      "outputs": [
        {
          "output_type": "stream",
          "name": "stdout",
          "text": [
            "Back to normal\n"
          ]
        }
      ]
    },
    {
      "cell_type": "code",
      "source": [
        "manager = LookingGlass()\n",
        "manager"
      ],
      "metadata": {
        "colab": {
          "base_uri": "https://localhost:8080/"
        },
        "id": "YDlIVepoLCOI",
        "outputId": "cf8c2011-c7c8-4b43-9ae4-5f8c727a9397"
      },
      "execution_count": null,
      "outputs": [
        {
          "output_type": "execute_result",
          "data": {
            "text/plain": [
              "<__main__.LookingGlass at 0x7881427780d0>"
            ]
          },
          "metadata": {},
          "execution_count": 10
        }
      ]
    },
    {
      "cell_type": "code",
      "source": [
        "monster = manager.__enter__()"
      ],
      "metadata": {
        "id": "DS8IzDfCLekY"
      },
      "execution_count": null,
      "outputs": []
    },
    {
      "cell_type": "code",
      "source": [
        "monster == \"JABBERWOCKY\""
      ],
      "metadata": {
        "colab": {
          "base_uri": "https://localhost:8080/"
        },
        "id": "z5VF8W5tLmUA",
        "outputId": "e1dd6e2e-7ad2-415b-a366-e33395bd52a3"
      },
      "execution_count": null,
      "outputs": [
        {
          "output_type": "execute_result",
          "data": {
            "text/plain": [
              "True"
            ]
          },
          "metadata": {},
          "execution_count": 12
        }
      ]
    },
    {
      "cell_type": "code",
      "source": [
        "monster"
      ],
      "metadata": {
        "colab": {
          "base_uri": "https://localhost:8080/",
          "height": 36
        },
        "id": "uCq6PuAKLoJo",
        "outputId": "1674f7a8-4bf5-4826-f58d-e1b66ea455a1"
      },
      "execution_count": null,
      "outputs": [
        {
          "output_type": "execute_result",
          "data": {
            "text/plain": [
              "'JABBERWOCKY'"
            ],
            "application/vnd.google.colaboratory.intrinsic+json": {
              "type": "string"
            }
          },
          "metadata": {},
          "execution_count": 13
        }
      ]
    },
    {
      "cell_type": "code",
      "source": [
        "manager"
      ],
      "metadata": {
        "colab": {
          "base_uri": "https://localhost:8080/"
        },
        "id": "9OE2KTxQLqro",
        "outputId": "2cec2b78-30ec-4361-ca47-e9409eee6143"
      },
      "execution_count": null,
      "outputs": [
        {
          "output_type": "execute_result",
          "data": {
            "text/plain": [
              "<__main__.LookingGlass at 0x7881427780d0>"
            ]
          },
          "metadata": {},
          "execution_count": 14
        }
      ]
    },
    {
      "cell_type": "code",
      "source": [
        "manager.__exit__(None, None, None)"
      ],
      "metadata": {
        "id": "0ZRlbL4uLvGQ"
      },
      "execution_count": null,
      "outputs": []
    },
    {
      "cell_type": "code",
      "source": [
        "monster"
      ],
      "metadata": {
        "colab": {
          "base_uri": "https://localhost:8080/",
          "height": 36
        },
        "id": "Fj3r3VkiLxH_",
        "outputId": "675dd92d-f687-4aec-9079-b393d6a815e3"
      },
      "execution_count": null,
      "outputs": [
        {
          "output_type": "execute_result",
          "data": {
            "text/plain": [
              "'JABBERWOCKY'"
            ],
            "application/vnd.google.colaboratory.intrinsic+json": {
              "type": "string"
            }
          },
          "metadata": {},
          "execution_count": 16
        }
      ]
    },
    {
      "cell_type": "code",
      "source": [
        "sys.stdout.write(\"hi\"[::-1])"
      ],
      "metadata": {
        "colab": {
          "base_uri": "https://localhost:8080/"
        },
        "id": "YN1bC0tfLyC3",
        "outputId": "48558d76-0bd1-44b6-97a3-ebf054beba16"
      },
      "execution_count": null,
      "outputs": [
        {
          "output_type": "stream",
          "name": "stdout",
          "text": [
            "ih"
          ]
        }
      ]
    },
    {
      "cell_type": "code",
      "source": [
        "import sys\n",
        "\n",
        "original_write = None\n",
        "\n",
        "def reverse_write(text):\n",
        "  original_write(text[::-1])\n",
        "\n",
        "def enter(): # Python invokes __enter__ with no arguments other than self\n",
        "  original_write = sys.stdout.write # hold the original `sys.stdout.write`\n",
        "  sys.stdout.write = reverse_write\n",
        "  return original_write\n",
        "\n"
      ],
      "metadata": {
        "id": "Ihs4DbueL3Af"
      },
      "execution_count": null,
      "outputs": []
    },
    {
      "cell_type": "code",
      "source": [
        "original_write = enter()"
      ],
      "metadata": {
        "id": "ipoxMTlnMPAw"
      },
      "execution_count": null,
      "outputs": []
    },
    {
      "cell_type": "code",
      "source": [
        "print(\"hi\")"
      ],
      "metadata": {
        "colab": {
          "base_uri": "https://localhost:8080/"
        },
        "id": "QFweoT1gMpno",
        "outputId": "f50bbed6-89ac-4093-b9a8-96eda07bbb69"
      },
      "execution_count": null,
      "outputs": [
        {
          "output_type": "stream",
          "name": "stdout",
          "text": [
            "ih\n"
          ]
        }
      ]
    },
    {
      "cell_type": "code",
      "source": [
        "print(\"yeah\")"
      ],
      "metadata": {
        "colab": {
          "base_uri": "https://localhost:8080/"
        },
        "id": "ynOrxV31M9tv",
        "outputId": "976d132d-fd99-44f1-c4d7-6919594640d1"
      },
      "execution_count": null,
      "outputs": [
        {
          "output_type": "stream",
          "name": "stdout",
          "text": [
            "haey\n"
          ]
        }
      ]
    },
    {
      "cell_type": "code",
      "source": [
        "sys.stdout.write = original_write"
      ],
      "metadata": {
        "id": "WgleohE2NRfP"
      },
      "execution_count": null,
      "outputs": []
    },
    {
      "cell_type": "code",
      "source": [
        "print(\"oh\")"
      ],
      "metadata": {
        "colab": {
          "base_uri": "https://localhost:8080/"
        },
        "id": "3O3r3GvINUB3",
        "outputId": "112caca2-657c-4b12-ccd2-0502a503cec1"
      },
      "execution_count": null,
      "outputs": [
        {
          "output_type": "stream",
          "name": "stdout",
          "text": [
            "oh\n"
          ]
        }
      ]
    },
    {
      "cell_type": "markdown",
      "source": [
        "### The contextlib Utilities\n",
        "\n",
        "Most widely used of these utilities is the `@contextmanager` decorator. This is also intersting because it shows a use for the `yield` statement unrelated to iteration."
      ],
      "metadata": {
        "id": "jzCGlywsNveh"
      }
    },
    {
      "cell_type": "markdown",
      "source": [
        "### Using `@contextmanager`\n",
        " - brings three distinctive Python features: a function decorator, a generator, and the `with` statement\n",
        " - instead of writing `__enter__` and `__exit__`, you just implement a generator with a single `yield` that should produce whatever you want the `__enter__` method to return."
      ],
      "metadata": {
        "id": "8q3ux4e_OvDM"
      }
    },
    {
      "cell_type": "code",
      "source": [
        "# mirror_gen.py\n",
        "\n",
        "import contextlib\n",
        "import sys\n",
        "\n",
        "@contextlib.contextmanager\n",
        "def looking_glass():\n",
        "  original_write = sys.stdout.write\n",
        "\n",
        "  def reverse_write(text):\n",
        "    original_write(text[::-1])\n",
        "\n",
        "  sys.stdout.write = reverse_write # everything before yield will be executed\n",
        "                                  #  at the beinning of the with block\n",
        "\n",
        "  msg = ''\n",
        "  try:\n",
        "    yield 'JABBERWOCKY'\n",
        "  except ZeroDivisionError:\n",
        "    msg = \"Please DO NOT divide by zero!\"\n",
        "  finally:\n",
        "    sys.stdout.write = original_write\n",
        "    if msg:\n",
        "      print(msg)"
      ],
      "metadata": {
        "id": "MPPYbmJmNUxf"
      },
      "execution_count": null,
      "outputs": []
    },
    {
      "cell_type": "code",
      "source": [
        "with looking_glass() as what:\n",
        "  a = 1.0\n",
        "  b = 0.0\n",
        "  a / b\n",
        "  print(\"Alice, Kitty and Snowdrop\")\n",
        "  print(what)"
      ],
      "metadata": {
        "colab": {
          "base_uri": "https://localhost:8080/"
        },
        "id": "73psPNl3PnWR",
        "outputId": "867f2eba-960b-4b80-d7cd-926a14be5ba9"
      },
      "execution_count": null,
      "outputs": [
        {
          "output_type": "stream",
          "name": "stdout",
          "text": [
            "Please DO NOT divide by zero!\n"
          ]
        }
      ]
    },
    {
      "cell_type": "code",
      "source": [
        "print(\"hi\")"
      ],
      "metadata": {
        "colab": {
          "base_uri": "https://localhost:8080/"
        },
        "id": "CXvo_XbgQSHv",
        "outputId": "5a3db2d5-bad3-42b3-c2f4-93e6a8c8d860"
      },
      "execution_count": null,
      "outputs": [
        {
          "output_type": "stream",
          "name": "stdout",
          "text": [
            "hi\n"
          ]
        }
      ]
    },
    {
      "cell_type": "code",
      "source": [
        "@looking_glass()\n",
        "def verse():\n",
        "  print(\"The time has come\")"
      ],
      "metadata": {
        "id": "x3PO6kmFR0yO"
      },
      "execution_count": null,
      "outputs": []
    },
    {
      "cell_type": "code",
      "source": [
        "verse()"
      ],
      "metadata": {
        "id": "ot4EovZUUO1N",
        "outputId": "225dfbad-8c39-4146-b77e-33cd25bd1d1c",
        "colab": {
          "base_uri": "https://localhost:8080/"
        }
      },
      "execution_count": null,
      "outputs": [
        {
          "output_type": "stream",
          "name": "stdout",
          "text": [
            "emoc sah emit ehT\n"
          ]
        }
      ]
    },
    {
      "cell_type": "code",
      "source": [
        "print('back to the normal')"
      ],
      "metadata": {
        "id": "LeG38FJ0UPXF",
        "outputId": "00b75f30-8477-4522-f933-1d3caa357c23",
        "colab": {
          "base_uri": "https://localhost:8080/"
        }
      },
      "execution_count": null,
      "outputs": [
        {
          "output_type": "stream",
          "name": "stdout",
          "text": [
            "back to the normal\n"
          ]
        }
      ]
    },
    {
      "cell_type": "markdown",
      "source": [
        "The problem with the following code:\n",
        " 1. The `fileinput` has an API that heavily relies on glbals"
      ],
      "metadata": {
        "id": "F_OMuRant79Z"
      }
    },
    {
      "cell_type": "code",
      "source": [
        "# Bad example\n",
        "import fileinput\n",
        "\n",
        "for line in fileinput.input(\"randomtext.txt\", inplace=True):\n",
        "  line = 'additional information ' + line.rstrip('\\n')\n",
        "  print(line)"
      ],
      "metadata": {
        "id": "y78u7B6YUQxN"
      },
      "execution_count": 2,
      "outputs": []
    },
    {
      "cell_type": "code",
      "source": [
        "import os\n",
        "os.extsep"
      ],
      "metadata": {
        "colab": {
          "base_uri": "https://localhost:8080/",
          "height": 36
        },
        "id": "SrJnh9zMvVMP",
        "outputId": "5ff482e7-fc9f-49cf-9540-13c9b2366f9a"
      },
      "execution_count": 4,
      "outputs": [
        {
          "output_type": "execute_result",
          "data": {
            "text/plain": [
              "'.'"
            ],
            "application/vnd.google.colaboratory.intrinsic+json": {
              "type": "string"
            }
          },
          "metadata": {},
          "execution_count": 4
        }
      ]
    },
    {
      "cell_type": "code",
      "source": [
        "# using @contextlib.contextmanager\n",
        "# it focuses on just one file / ignores sys.stdin\n",
        "from contextlib import contextmanager\n",
        "import io\n",
        "import os\n",
        "\n",
        "@contextmanager\n",
        "def inplace(filename, mode='r', buffering=-1, encoding=None, errors=None,\n",
        "            newline=None, backup_extension=None):\n",
        "  \"\"\"\n",
        "  Allow for a file to be replaced with new content\n",
        "  \"\"\"\n",
        "  if set(mode).intersection('wa+'):\n",
        "    raise ValueError('Only read-only file modes can be used')\n",
        "\n",
        "  backupfilename = filename + (backup_extension or os.extsep + 'bak')\n",
        "  try:\n",
        "    os.unlink(backupfilename) # delete the existing backup file\n",
        "  except os.error:\n",
        "    pass\n",
        "\n",
        "  os.rename(filename, backupfilename)\n",
        "  readable = io.open(backupfilename, mode, buffering=buffering,\n",
        "                     encoding=encoding, errors=errors, newline=newline)\n",
        "\n",
        "  try:\n",
        "    perm = os.fstat(readable.fileno()).st_mode\n",
        "  except OSError:\n",
        "    writable = open(filename, 'w' + mode.replace('r', ''),\n",
        "                    buffering=buffering, encoding=encoding, errors=errors,\n",
        "                    newline=newline)\n",
        "  else:\n",
        "    os_mode = os.O_CREAT | os.O_WRONLY | os.O_TRUNC\n",
        "    if hasattr(os, 'O_BINARY'):\n",
        "      os_mode |= os.O_BINARY\n",
        "    fd = os.open(filename, os_mode, perm)\n",
        "    writable = io.open(fd, 'w' + mode.replace('r', ''), buffering=buffering,\n",
        "                       encoding=encoding, errors=errors, newline=newline)\n",
        "\n",
        "    try:\n",
        "      if hasattr(os, 'chmod'):\n",
        "        os.chmod(filename, perm)\n",
        "    except OSError:\n",
        "      pass\n",
        "  # Everything before `yield` deals with\n",
        "  # setting up the context, which entails\n",
        "  # creating a backup file,\n",
        "  # then opening and yielding references to the readable\n",
        "  # and writable file handles that will be returned by the\n",
        "  # __enter__ call\n",
        "  try:\n",
        "    yield readable, writable\n",
        "  except Exception:\n",
        "    # move backupback\n",
        "    try:\n",
        "      os.unlink(filename)\n",
        "    except os.error:\n",
        "      pass\n",
        "    os.rename(backupfilename, filename)\n",
        "    raise\n",
        "  finally:\n",
        "    readable.close()\n",
        "    writable.close()\n",
        "    try:\n",
        "      os.unlink(backupfilename)\n",
        "    except os.error:\n",
        "      pass\n",
        ""
      ],
      "metadata": {
        "id": "Hrg-_lDItu0d"
      },
      "execution_count": 7,
      "outputs": []
    },
    {
      "cell_type": "code",
      "source": [
        "import csv\n",
        "csvfilename = \"random.csv\"\n",
        "\n",
        "with inplace(csvfilename, 'r', newline='') as (infh, outfh):\n",
        "  reader = csv.reader(infh)\n",
        "  writer = csv.writer(outfh)\n",
        "\n",
        "  for row in reader:\n",
        "    row += ['new', 'columns']\n",
        "    writer.writerow(row)"
      ],
      "metadata": {
        "id": "b6xrvFmpx2hB"
      },
      "execution_count": 8,
      "outputs": []
    },
    {
      "cell_type": "markdown",
      "source": [
        "## Pattern Matching in lis.py: A Case Study"
      ],
      "metadata": {
        "id": "izL7ThwZ0D6J"
      }
    },
    {
      "cell_type": "markdown",
      "source": [
        "Why Norvig's `lis.py`?\n",
        " 1. It's a beautiful example of idiomatic Python code\n",
        " 2. simplicity of Scheme is a master class of language design\n",
        " 3. learning how an interpreter works can give us a deeper understanding of Python and prog languages"
      ],
      "metadata": {
        "id": "4jvb9AAS05YK"
      }
    },
    {
      "cell_type": "code",
      "source": [
        "import math\n",
        "import operator as op\n",
        "from collections import ChainMap\n",
        "from itertools import chain\n",
        "from typing import Any, TypeAlias, NoReturn\n",
        "\n",
        "Symbol: TypeAlias = str # just an alias for str\n",
        "                        # In this codoe, it's used for identifiers\n",
        "Atom: TypeAlias = float | int | Symbol # a simple syntatic elem\n",
        "                                       # number or str\n",
        "Expression: TypeAlias = Atom | list # building block of scheme programs"
      ],
      "metadata": {
        "id": "HUmxWvE3yqEw"
      },
      "execution_count": 9,
      "outputs": []
    },
    {
      "cell_type": "code",
      "source": [
        "def parse(program: str) -> Expression:\n",
        "  \"Read a Scheme expression from a string\"\n",
        "  return read_from_tokens(tokenize(program))\n",
        "\n",
        "def tokenize(s: str) -> list[str]:\n",
        "  # convert a string into a list of tokens\n",
        "  return s.replace('(', ' ( ').replace(')', ' ) ').split()\n",
        "\n",
        "\n",
        "def read_from_tokens(tokens: list[str]) -> Expression:\n",
        "  \"read an expression from a sequence of tokens.\"\n",
        "  if len(tokens) == 0:\n",
        "    raise SyntaxError('unexpected EOF while reading')\n",
        "  token = tokens.pop(0)\n",
        "  if '(' == token:\n",
        "    exp = []\n",
        "    while tokens[0] != ')':\n",
        "      exp.append(read_from_tokens(tokens))\n",
        "    tokens.pop(0) # discard ')'\n",
        "    return exp\n",
        "  elif ')' == token:\n",
        "    raise SyntaxError('unexpected )')\n",
        "  else:\n",
        "    return parse_atom(token)\n",
        "\n",
        "def parse_atom(token: str) -> Atom:\n",
        "  try:\n",
        "    return int(token)\n",
        "  except ValueError:\n",
        "    try:\n",
        "      return float(token)\n",
        "    except ValueError:\n",
        "      return Symbol(token)"
      ],
      "metadata": {
        "id": "PhuLYmaE2rlk"
      },
      "execution_count": 17,
      "outputs": []
    },
    {
      "cell_type": "code",
      "source": [
        "parse('(mod m n)')"
      ],
      "metadata": {
        "colab": {
          "base_uri": "https://localhost:8080/"
        },
        "id": "ImmHWI7l3ubt",
        "outputId": "9cddc73e-b6a5-4cb2-fd92-23a3eba725fc"
      },
      "execution_count": 19,
      "outputs": [
        {
          "output_type": "execute_result",
          "data": {
            "text/plain": [
              "['mod', 'm', 'n']"
            ]
          },
          "metadata": {},
          "execution_count": 19
        }
      ]
    },
    {
      "cell_type": "code",
      "source": [
        "parse('1.5')"
      ],
      "metadata": {
        "colab": {
          "base_uri": "https://localhost:8080/"
        },
        "id": "SCQ-2VzR3we4",
        "outputId": "3a348f38-4db6-4364-c053-d0f762fbe506"
      },
      "execution_count": 20,
      "outputs": [
        {
          "output_type": "execute_result",
          "data": {
            "text/plain": [
              "1.5"
            ]
          },
          "metadata": {},
          "execution_count": 20
        }
      ]
    },
    {
      "cell_type": "code",
      "source": [
        "parse('ni!')"
      ],
      "metadata": {
        "colab": {
          "base_uri": "https://localhost:8080/",
          "height": 36
        },
        "id": "KZiNgXjo5jTT",
        "outputId": "38732648-fd90-4bec-dc05-9afebb21cd0c"
      },
      "execution_count": 21,
      "outputs": [
        {
          "output_type": "execute_result",
          "data": {
            "text/plain": [
              "'ni!'"
            ],
            "application/vnd.google.colaboratory.intrinsic+json": {
              "type": "string"
            }
          },
          "metadata": {},
          "execution_count": 21
        }
      ]
    },
    {
      "cell_type": "code",
      "source": [
        "parse('(gcd 18 45)')"
      ],
      "metadata": {
        "colab": {
          "base_uri": "https://localhost:8080/"
        },
        "id": "1LBJIM6j5k1n",
        "outputId": "a4533575-ae1c-4976-91b7-bd5f116de1d4"
      },
      "execution_count": 22,
      "outputs": [
        {
          "output_type": "execute_result",
          "data": {
            "text/plain": [
              "['gcd', 18, 45]"
            ]
          },
          "metadata": {},
          "execution_count": 22
        }
      ]
    },
    {
      "cell_type": "code",
      "source": [
        "parse('''\n",
        "(define double\n",
        "  (lambda (n)\n",
        "    (* n 2)))\n",
        "''')"
      ],
      "metadata": {
        "colab": {
          "base_uri": "https://localhost:8080/"
        },
        "id": "6Hf31Bko5mpl",
        "outputId": "b736bfc7-4565-4d1c-9728-abc6687adf60"
      },
      "execution_count": 23,
      "outputs": [
        {
          "output_type": "execute_result",
          "data": {
            "text/plain": [
              "['define', 'double', ['lambda', ['n'], ['*', 'n', 2]]]"
            ]
          },
          "metadata": {},
          "execution_count": 23
        }
      ]
    },
    {
      "cell_type": "markdown",
      "source": [
        "Using the terminology of the Python interpreter, the output of `parse` is an AST (Abstract Syntax Tree): a convenient representation of the Scheme program as nested lists forming a tree-like structure, where the outermost list is the trunk, inner lists are the branches, and atoms are the leaves"
      ],
      "metadata": {
        "id": "mWunjl6U55QT"
      }
    },
    {
      "cell_type": "code",
      "source": [
        "parse('(lambda (a b) (* (/ a b) 100))')"
      ],
      "metadata": {
        "colab": {
          "base_uri": "https://localhost:8080/"
        },
        "id": "3mX_Ghgw5tN-",
        "outputId": "60a8d69b-c0c8-4617-fee1-fa99efaaad88"
      },
      "execution_count": 24,
      "outputs": [
        {
          "output_type": "execute_result",
          "data": {
            "text/plain": [
              "['lambda', ['a', 'b'], ['*', ['/', 'a', 'b'], 100]]"
            ]
          },
          "metadata": {},
          "execution_count": 24
        }
      ]
    },
    {
      "cell_type": "markdown",
      "source": [
        "### The Environment"
      ],
      "metadata": {
        "id": "-ou4sYfM6YMa"
      }
    },
    {
      "cell_type": "code",
      "source": [
        "class Environment(ChainMap[Symbol, Any]):\n",
        "  \"A ChainMap that allows changing an item in-place\"\n",
        "\n",
        "  def change(self, key: Symbol, value: Any) -> None:\n",
        "    \"Find where key is defined and change the value\"\n",
        "    for map in self.maps:\n",
        "      if key in map:\n",
        "        map[key] = value # type: ignore[index]\n",
        "        return\n",
        "    raise KeyError(key)"
      ],
      "metadata": {
        "id": "8ZoEa9ME6T_u"
      },
      "execution_count": 25,
      "outputs": []
    },
    {
      "cell_type": "code",
      "source": [
        "inner_env = {'a': 2}\n",
        "outer_env = {'a': 0 , 'b': 1}\n",
        "env = Environment(inner_env, outer_env)"
      ],
      "metadata": {
        "id": "ZbIoX1jv6_uN"
      },
      "execution_count": 26,
      "outputs": []
    },
    {
      "cell_type": "code",
      "source": [
        "env['a']"
      ],
      "metadata": {
        "colab": {
          "base_uri": "https://localhost:8080/"
        },
        "id": "e7aMmYEn7FhG",
        "outputId": "02625f80-405f-4cb0-8310-055f63478bbb"
      },
      "execution_count": 27,
      "outputs": [
        {
          "output_type": "execute_result",
          "data": {
            "text/plain": [
              "2"
            ]
          },
          "metadata": {},
          "execution_count": 27
        }
      ]
    },
    {
      "cell_type": "code",
      "source": [
        "env['b']"
      ],
      "metadata": {
        "colab": {
          "base_uri": "https://localhost:8080/"
        },
        "id": "lPzVoScX7Go_",
        "outputId": "b8f615fa-9fb3-4154-edb2-c565139fc54e"
      },
      "execution_count": 28,
      "outputs": [
        {
          "output_type": "execute_result",
          "data": {
            "text/plain": [
              "1"
            ]
          },
          "metadata": {},
          "execution_count": 28
        }
      ]
    },
    {
      "cell_type": "code",
      "source": [
        "env['a'] = 111"
      ],
      "metadata": {
        "id": "DrOPHTKI7HUx"
      },
      "execution_count": 29,
      "outputs": []
    },
    {
      "cell_type": "code",
      "source": [
        "env['c'] = 222"
      ],
      "metadata": {
        "id": "JN4KxEdJ7IoQ"
      },
      "execution_count": 31,
      "outputs": []
    },
    {
      "cell_type": "code",
      "source": [
        "env"
      ],
      "metadata": {
        "colab": {
          "base_uri": "https://localhost:8080/"
        },
        "id": "xVVAXlye7Jeb",
        "outputId": "d51021f4-5861-4c1e-ac92-42c7a068df0a"
      },
      "execution_count": 32,
      "outputs": [
        {
          "output_type": "execute_result",
          "data": {
            "text/plain": [
              "Environment({'a': 111, 'c': 222}, {'a': 0, 'b': 1})"
            ]
          },
          "metadata": {},
          "execution_count": 32
        }
      ]
    },
    {
      "cell_type": "code",
      "source": [
        "env.change('b', 333)"
      ],
      "metadata": {
        "id": "JPGTQMr-7T5n"
      },
      "execution_count": 33,
      "outputs": []
    },
    {
      "cell_type": "code",
      "source": [
        "env"
      ],
      "metadata": {
        "colab": {
          "base_uri": "https://localhost:8080/"
        },
        "id": "BfdSc7tb7Vz3",
        "outputId": "badb159b-b785-4669-ed0d-6e49b7f262c0"
      },
      "execution_count": 34,
      "outputs": [
        {
          "output_type": "execute_result",
          "data": {
            "text/plain": [
              "Environment({'a': 111, 'c': 222}, {'a': 0, 'b': 333})"
            ]
          },
          "metadata": {},
          "execution_count": 34
        }
      ]
    },
    {
      "cell_type": "code",
      "source": [
        "def standard_env() -> Environment:\n",
        "  \"it builds and returns teh global environment\"\n",
        "  env = Environment()\n",
        "  env.update(vars(math)) # sin, cos, sqrt, pi, ..\n",
        "  env.update({\n",
        "      '+': op.add,\n",
        "      '-': op.sub,\n",
        "      '*': op.mul,\n",
        "      '/': op.truediv,\n",
        "      'quotient': op.floordiv,\n",
        "      '>': op.gt,\n",
        "      '<': op.lt,\n",
        "      '>=': op.ge,\n",
        "      '<=': op.le,\n",
        "      '=': op.eq,\n",
        "      'abs': abs,\n",
        "      'append': lambda *args: list(chain(*args)),\n",
        "      'apply': lambda proc, args: proc(*args),\n",
        "      'begin': lambda *x: x[-1],\n",
        "      'car': lambda x: x[0],\n",
        "      'cdr': lambda x: x[1:],\n",
        "      'cons': lambda x, y: [x] + y,\n",
        "      'display': lambda x: print(lispstr(x)),\n",
        "      'eq?': op.is_,\n",
        "      'equal?': op.eq,\n",
        "      'filter': lambda *args: list(filter(*args)),\n",
        "      'length': len,\n",
        "      'list': lambda *x: list(x),\n",
        "      'list?': lambda x: isinstance(x, list),\n",
        "      'map': lambda *args: list(map(*args)),\n",
        "      'max': max,\n",
        "      'min': min,\n",
        "      'not': op.not_,\n",
        "      'null?': lambda x: x == [],\n",
        "      'number?': lambda x: isinstance(x, (int, float)),\n",
        "      'procedure?': callable,\n",
        "      'round': round,\n",
        "      'symbol?': lambda x: isinstance(x, Symbol),\n",
        "  })\n",
        "  return env"
      ],
      "metadata": {
        "id": "tmjgrhjK7WPw"
      },
      "execution_count": 36,
      "outputs": []
    },
    {
      "cell_type": "markdown",
      "source": [
        "To summarize, the `env` mapping is loaded with:\n",
        " - All fcns from Python's `math` module\n",
        " - Selected operators from Python's `op` module\n",
        " - Simple but powerful fcns built with Python's `lambda`\n",
        " - Python built-ins renamed, like `callable` as `procedue?`"
      ],
      "metadata": {
        "id": "r0p_kB1H8Fsr"
      }
    },
    {
      "cell_type": "markdown",
      "source": [
        "### The REPL\n",
        "REPL (Read-Eval-Print-Loop) is easy to understand but not user-friendly."
      ],
      "metadata": {
        "id": "4FfDs_wp8m1r"
      }
    },
    {
      "cell_type": "code",
      "source": [
        "def repl(prompt: str = 'lis.py> ') -> NoReturn:\n",
        "  \"A prompt-read-eval-prit loop\"\n",
        "  global_env = Environment({}, standard_env())\n",
        "  while True:\n",
        "    ast = parse(input(prompt))\n",
        "    val = evaluate(ast, global_env)\n",
        "    if val is not None:\n",
        "      print(lispstr(val))\n",
        "\n",
        "def lispstr(exp: object) -> str:\n",
        "  \"Convert a Python obj back into a Lisp-readable string\"\n",
        "  if isinstance(exp, list):\n",
        "    return '(' + ' '.join(map(lispstr, exp)) + ')'\n",
        "  else:\n",
        "    return str(exp)"
      ],
      "metadata": {
        "id": "0AH4eQd68g1w"
      },
      "execution_count": null,
      "outputs": []
    }
  ]
}