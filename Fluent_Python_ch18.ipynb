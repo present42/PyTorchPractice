{
  "nbformat": 4,
  "nbformat_minor": 0,
  "metadata": {
    "colab": {
      "provenance": [],
      "authorship_tag": "ABX9TyMrkX2crOGQoNgY6NDx+AuJ"
    },
    "kernelspec": {
      "name": "python3",
      "display_name": "Python 3"
    },
    "language_info": {
      "name": "python"
    }
  },
  "cells": [
    {
      "cell_type": "markdown",
      "source": [
        "# Chapter 18. with, match, and else Blocks"
      ],
      "metadata": {
        "id": "t-RsR6gDD4__"
      }
    },
    {
      "cell_type": "markdown",
      "source": [
        "`with` statement sets up a temporary context and reliably tears it down, under the control of a context manager object.\n",
        "\n",
        "Context manager object is the result of evaluating expression after `with`, but the value bound to the target variable (in `as` clause) is the result returned by `__enter__` method of the context manager object."
      ],
      "metadata": {
        "id": "JMF23GZxEP41"
      }
    },
    {
      "cell_type": "code",
      "execution_count": null,
      "metadata": {
        "id": "p2ZLgh-QDzZl"
      },
      "outputs": [],
      "source": [
        "# open('mirror.py') returns in instance of `TextIOWrapper`\n",
        "# whose __enter__ method returns self\n",
        "\n",
        "# some context manager's __enter__ returns None i.e. `as` is optional\n",
        "with open('mirror.py') as fp:\n",
        "  src = fp.read(60)\n",
        "  # when control flow exist the with block, the __exit__ method is invoked on the context manager object (not )"
      ]
    },
    {
      "cell_type": "code",
      "source": [
        "len(src)"
      ],
      "metadata": {
        "colab": {
          "base_uri": "https://localhost:8080/"
        },
        "id": "pBifBL7pF-ca",
        "outputId": "1dd0135e-3af1-49cd-80a7-1384ca1968c8"
      },
      "execution_count": null,
      "outputs": [
        {
          "output_type": "execute_result",
          "data": {
            "text/plain": [
              "60"
            ]
          },
          "metadata": {},
          "execution_count": 2
        }
      ]
    },
    {
      "cell_type": "code",
      "source": [
        "src"
      ],
      "metadata": {
        "colab": {
          "base_uri": "https://localhost:8080/",
          "height": 36
        },
        "id": "tGz5wI40F_YC",
        "outputId": "01e0dc4d-30ad-47c5-8724-fddd8abad7cb"
      },
      "execution_count": null,
      "outputs": [
        {
          "output_type": "execute_result",
          "data": {
            "text/plain": [
              "'def just_random_text(str):\\n  return f\"{str} hahaha! Hello!\"\\n'"
            ],
            "application/vnd.google.colaboratory.intrinsic+json": {
              "type": "string"
            }
          },
          "metadata": {},
          "execution_count": 3
        }
      ]
    },
    {
      "cell_type": "code",
      "source": [
        "fp"
      ],
      "metadata": {
        "colab": {
          "base_uri": "https://localhost:8080/"
        },
        "id": "KtbbRejuGEsn",
        "outputId": "45d9b13a-b2fb-483b-cdb6-d268587ed21e"
      },
      "execution_count": null,
      "outputs": [
        {
          "output_type": "execute_result",
          "data": {
            "text/plain": [
              "<_io.TextIOWrapper name='mirror.py' mode='r' encoding='UTF-8'>"
            ]
          },
          "metadata": {},
          "execution_count": 4
        }
      ]
    },
    {
      "cell_type": "code",
      "source": [
        "fp.closed, fp.encoding"
      ],
      "metadata": {
        "colab": {
          "base_uri": "https://localhost:8080/"
        },
        "id": "zDMRXk1BGAcp",
        "outputId": "fbf3bcc8-f654-4d3f-9b46-ef56e3697c84"
      },
      "execution_count": null,
      "outputs": [
        {
          "output_type": "execute_result",
          "data": {
            "text/plain": [
              "(True, 'UTF-8')"
            ]
          },
          "metadata": {},
          "execution_count": 5
        }
      ]
    },
    {
      "cell_type": "code",
      "source": [
        "fp.read(60)"
      ],
      "metadata": {
        "colab": {
          "base_uri": "https://localhost:8080/",
          "height": 149
        },
        "id": "QZRaTTvYGJfS",
        "outputId": "2688c0f9-1b97-4fc1-e8e7-3d53586dae3b"
      },
      "execution_count": null,
      "outputs": [
        {
          "output_type": "error",
          "ename": "ValueError",
          "evalue": "I/O operation on closed file.",
          "traceback": [
            "\u001b[0;31m---------------------------------------------------------------------------\u001b[0m",
            "\u001b[0;31mValueError\u001b[0m                                Traceback (most recent call last)",
            "\u001b[0;32m<ipython-input-6-132011e948ad>\u001b[0m in \u001b[0;36m<cell line: 1>\u001b[0;34m()\u001b[0m\n\u001b[0;32m----> 1\u001b[0;31m \u001b[0mfp\u001b[0m\u001b[0;34m.\u001b[0m\u001b[0mread\u001b[0m\u001b[0;34m(\u001b[0m\u001b[0;36m60\u001b[0m\u001b[0;34m)\u001b[0m\u001b[0;34m\u001b[0m\u001b[0;34m\u001b[0m\u001b[0m\n\u001b[0m",
            "\u001b[0;31mValueError\u001b[0m: I/O operation on closed file."
          ]
        }
      ]
    },
    {
      "cell_type": "code",
      "source": [
        "# mirror.py\n",
        "import sys\n",
        "\n",
        "class LookingGlass:\n",
        "  def __enter__(self): # Python invokes __enter__ with no arguments other than self\n",
        "    self.original_write = sys.stdout.write # hold the original `sys.stdout.write`\n",
        "    sys.stdout.write = self.reverse_write\n",
        "    return 'JABBERWOCKY'\n",
        "\n",
        "  def reverse_write(self, text):\n",
        "    self.original_write(text[::-1])\n",
        "\n",
        "  # If all went well, python calls it with None, None, None\n",
        "  # Otherwise, it'll hold information about exception\n",
        "  def __exit__(self, exc_type, exc_value, traceback):\n",
        "    sys.stdout.write = self.original_write\n",
        "    if exc_type is ZeroDivisionError:\n",
        "      print(\"Please DO NOT divide by zero!\")\n",
        "      return True # tell interpreter that everything is handled\n",
        "                  # Otherwise, any exception raised in with block will be propagated\n"
      ],
      "metadata": {
        "id": "jUsa0JCgGLyi"
      },
      "execution_count": null,
      "outputs": []
    },
    {
      "cell_type": "code",
      "source": [
        "with LookingGlass() as what:\n",
        "  print('Alice, Kitty and Snowdrop')\n",
        "  print(what)"
      ],
      "metadata": {
        "colab": {
          "base_uri": "https://localhost:8080/"
        },
        "id": "dvvbO20wKL0K",
        "outputId": "27e9fd48-4372-40ef-d8cb-7fad03ec90a0"
      },
      "execution_count": null,
      "outputs": [
        {
          "output_type": "stream",
          "name": "stdout",
          "text": [
            "pordwonS dna yttiK ,ecilA\n",
            "YKCOWREBBAJ\n"
          ]
        }
      ]
    },
    {
      "cell_type": "code",
      "source": [
        "what"
      ],
      "metadata": {
        "colab": {
          "base_uri": "https://localhost:8080/",
          "height": 36
        },
        "id": "FYIMdS8aLAEg",
        "outputId": "f581d228-4c72-43ba-895c-ba73b3b7b95e"
      },
      "execution_count": null,
      "outputs": [
        {
          "output_type": "execute_result",
          "data": {
            "text/plain": [
              "'JABBERWOCKY'"
            ],
            "application/vnd.google.colaboratory.intrinsic+json": {
              "type": "string"
            }
          },
          "metadata": {},
          "execution_count": 10
        }
      ]
    },
    {
      "cell_type": "code",
      "source": [
        "print('Back to normal')"
      ],
      "metadata": {
        "colab": {
          "base_uri": "https://localhost:8080/"
        },
        "id": "SndVVaOfLA3h",
        "outputId": "21c68aba-7ca7-4086-9900-d57fd120004c"
      },
      "execution_count": null,
      "outputs": [
        {
          "output_type": "stream",
          "name": "stdout",
          "text": [
            "Back to normal\n"
          ]
        }
      ]
    },
    {
      "cell_type": "code",
      "source": [
        "manager = LookingGlass()\n",
        "manager"
      ],
      "metadata": {
        "colab": {
          "base_uri": "https://localhost:8080/"
        },
        "id": "YDlIVepoLCOI",
        "outputId": "cf8c2011-c7c8-4b43-9ae4-5f8c727a9397"
      },
      "execution_count": null,
      "outputs": [
        {
          "output_type": "execute_result",
          "data": {
            "text/plain": [
              "<__main__.LookingGlass at 0x7881427780d0>"
            ]
          },
          "metadata": {},
          "execution_count": 10
        }
      ]
    },
    {
      "cell_type": "code",
      "source": [
        "monster = manager.__enter__()"
      ],
      "metadata": {
        "id": "DS8IzDfCLekY"
      },
      "execution_count": null,
      "outputs": []
    },
    {
      "cell_type": "code",
      "source": [
        "monster == \"JABBERWOCKY\""
      ],
      "metadata": {
        "colab": {
          "base_uri": "https://localhost:8080/"
        },
        "id": "z5VF8W5tLmUA",
        "outputId": "e1dd6e2e-7ad2-415b-a366-e33395bd52a3"
      },
      "execution_count": null,
      "outputs": [
        {
          "output_type": "execute_result",
          "data": {
            "text/plain": [
              "True"
            ]
          },
          "metadata": {},
          "execution_count": 12
        }
      ]
    },
    {
      "cell_type": "code",
      "source": [
        "monster"
      ],
      "metadata": {
        "colab": {
          "base_uri": "https://localhost:8080/",
          "height": 36
        },
        "id": "uCq6PuAKLoJo",
        "outputId": "1674f7a8-4bf5-4826-f58d-e1b66ea455a1"
      },
      "execution_count": null,
      "outputs": [
        {
          "output_type": "execute_result",
          "data": {
            "text/plain": [
              "'JABBERWOCKY'"
            ],
            "application/vnd.google.colaboratory.intrinsic+json": {
              "type": "string"
            }
          },
          "metadata": {},
          "execution_count": 13
        }
      ]
    },
    {
      "cell_type": "code",
      "source": [
        "manager"
      ],
      "metadata": {
        "colab": {
          "base_uri": "https://localhost:8080/"
        },
        "id": "9OE2KTxQLqro",
        "outputId": "2cec2b78-30ec-4361-ca47-e9409eee6143"
      },
      "execution_count": null,
      "outputs": [
        {
          "output_type": "execute_result",
          "data": {
            "text/plain": [
              "<__main__.LookingGlass at 0x7881427780d0>"
            ]
          },
          "metadata": {},
          "execution_count": 14
        }
      ]
    },
    {
      "cell_type": "code",
      "source": [
        "manager.__exit__(None, None, None)"
      ],
      "metadata": {
        "id": "0ZRlbL4uLvGQ"
      },
      "execution_count": null,
      "outputs": []
    },
    {
      "cell_type": "code",
      "source": [
        "monster"
      ],
      "metadata": {
        "colab": {
          "base_uri": "https://localhost:8080/",
          "height": 36
        },
        "id": "Fj3r3VkiLxH_",
        "outputId": "675dd92d-f687-4aec-9079-b393d6a815e3"
      },
      "execution_count": null,
      "outputs": [
        {
          "output_type": "execute_result",
          "data": {
            "text/plain": [
              "'JABBERWOCKY'"
            ],
            "application/vnd.google.colaboratory.intrinsic+json": {
              "type": "string"
            }
          },
          "metadata": {},
          "execution_count": 16
        }
      ]
    },
    {
      "cell_type": "code",
      "source": [
        "sys.stdout.write(\"hi\"[::-1])"
      ],
      "metadata": {
        "colab": {
          "base_uri": "https://localhost:8080/"
        },
        "id": "YN1bC0tfLyC3",
        "outputId": "48558d76-0bd1-44b6-97a3-ebf054beba16"
      },
      "execution_count": null,
      "outputs": [
        {
          "output_type": "stream",
          "name": "stdout",
          "text": [
            "ih"
          ]
        }
      ]
    },
    {
      "cell_type": "code",
      "source": [
        "import sys\n",
        "\n",
        "original_write = None\n",
        "\n",
        "def reverse_write(text):\n",
        "  original_write(text[::-1])\n",
        "\n",
        "def enter(): # Python invokes __enter__ with no arguments other than self\n",
        "  original_write = sys.stdout.write # hold the original `sys.stdout.write`\n",
        "  sys.stdout.write = reverse_write\n",
        "  return original_write\n",
        "\n"
      ],
      "metadata": {
        "id": "Ihs4DbueL3Af"
      },
      "execution_count": null,
      "outputs": []
    },
    {
      "cell_type": "code",
      "source": [
        "original_write = enter()"
      ],
      "metadata": {
        "id": "ipoxMTlnMPAw"
      },
      "execution_count": null,
      "outputs": []
    },
    {
      "cell_type": "code",
      "source": [
        "print(\"hi\")"
      ],
      "metadata": {
        "colab": {
          "base_uri": "https://localhost:8080/"
        },
        "id": "QFweoT1gMpno",
        "outputId": "f50bbed6-89ac-4093-b9a8-96eda07bbb69"
      },
      "execution_count": null,
      "outputs": [
        {
          "output_type": "stream",
          "name": "stdout",
          "text": [
            "ih\n"
          ]
        }
      ]
    },
    {
      "cell_type": "code",
      "source": [
        "print(\"yeah\")"
      ],
      "metadata": {
        "colab": {
          "base_uri": "https://localhost:8080/"
        },
        "id": "ynOrxV31M9tv",
        "outputId": "976d132d-fd99-44f1-c4d7-6919594640d1"
      },
      "execution_count": null,
      "outputs": [
        {
          "output_type": "stream",
          "name": "stdout",
          "text": [
            "haey\n"
          ]
        }
      ]
    },
    {
      "cell_type": "code",
      "source": [
        "sys.stdout.write = original_write"
      ],
      "metadata": {
        "id": "WgleohE2NRfP"
      },
      "execution_count": null,
      "outputs": []
    },
    {
      "cell_type": "code",
      "source": [
        "print(\"oh\")"
      ],
      "metadata": {
        "colab": {
          "base_uri": "https://localhost:8080/"
        },
        "id": "3O3r3GvINUB3",
        "outputId": "112caca2-657c-4b12-ccd2-0502a503cec1"
      },
      "execution_count": null,
      "outputs": [
        {
          "output_type": "stream",
          "name": "stdout",
          "text": [
            "oh\n"
          ]
        }
      ]
    },
    {
      "cell_type": "markdown",
      "source": [
        "### The contextlib Utilities\n",
        "\n",
        "Most widely used of these utilities is the `@contextmanager` decorator. This is also intersting because it shows a use for the `yield` statement unrelated to iteration."
      ],
      "metadata": {
        "id": "jzCGlywsNveh"
      }
    },
    {
      "cell_type": "markdown",
      "source": [
        "### Using `@contextmanager`\n",
        " - brings three distinctive Python features: a function decorator, a generator, and the `with` statement\n",
        " - instead of writing `__enter__` and `__exit__`, you just implement a generator with a single `yield` that should produce whatever you want the `__enter__` method to return."
      ],
      "metadata": {
        "id": "8q3ux4e_OvDM"
      }
    },
    {
      "cell_type": "code",
      "source": [
        "# mirror_gen.py\n",
        "\n",
        "import contextlib\n",
        "import sys\n",
        "\n",
        "@contextlib.contextmanager\n",
        "def looking_glass():\n",
        "  original_write = sys.stdout.write\n",
        "\n",
        "  def reverse_write(text):\n",
        "    original_write(text[::-1])\n",
        "\n",
        "  sys.stdout.write = reverse_write # everything before yield will be executed\n",
        "                                  #  at the beinning of the with block\n",
        "\n",
        "  msg = ''\n",
        "  try:\n",
        "    yield 'JABBERWOCKY'\n",
        "  except ZeroDivisionError:\n",
        "    msg = \"Please DO NOT divide by zero!\"\n",
        "  finally:\n",
        "    sys.stdout.write = original_write\n",
        "    if msg:\n",
        "      print(msg)"
      ],
      "metadata": {
        "id": "MPPYbmJmNUxf"
      },
      "execution_count": null,
      "outputs": []
    },
    {
      "cell_type": "code",
      "source": [
        "with looking_glass() as what:\n",
        "  a = 1.0\n",
        "  b = 0.0\n",
        "  a / b\n",
        "  print(\"Alice, Kitty and Snowdrop\")\n",
        "  print(what)"
      ],
      "metadata": {
        "colab": {
          "base_uri": "https://localhost:8080/"
        },
        "id": "73psPNl3PnWR",
        "outputId": "867f2eba-960b-4b80-d7cd-926a14be5ba9"
      },
      "execution_count": null,
      "outputs": [
        {
          "output_type": "stream",
          "name": "stdout",
          "text": [
            "Please DO NOT divide by zero!\n"
          ]
        }
      ]
    },
    {
      "cell_type": "code",
      "source": [
        "print(\"hi\")"
      ],
      "metadata": {
        "colab": {
          "base_uri": "https://localhost:8080/"
        },
        "id": "CXvo_XbgQSHv",
        "outputId": "5a3db2d5-bad3-42b3-c2f4-93e6a8c8d860"
      },
      "execution_count": null,
      "outputs": [
        {
          "output_type": "stream",
          "name": "stdout",
          "text": [
            "hi\n"
          ]
        }
      ]
    },
    {
      "cell_type": "code",
      "source": [
        "@looking_glass()\n",
        "def verse():\n",
        "  print(\"The time has come\")"
      ],
      "metadata": {
        "id": "x3PO6kmFR0yO"
      },
      "execution_count": null,
      "outputs": []
    },
    {
      "cell_type": "code",
      "source": [
        "verse()"
      ],
      "metadata": {
        "id": "ot4EovZUUO1N",
        "outputId": "225dfbad-8c39-4146-b77e-33cd25bd1d1c",
        "colab": {
          "base_uri": "https://localhost:8080/"
        }
      },
      "execution_count": null,
      "outputs": [
        {
          "output_type": "stream",
          "name": "stdout",
          "text": [
            "emoc sah emit ehT\n"
          ]
        }
      ]
    },
    {
      "cell_type": "code",
      "source": [
        "print('back to the normal')"
      ],
      "metadata": {
        "id": "LeG38FJ0UPXF",
        "outputId": "00b75f30-8477-4522-f933-1d3caa357c23",
        "colab": {
          "base_uri": "https://localhost:8080/"
        }
      },
      "execution_count": null,
      "outputs": [
        {
          "output_type": "stream",
          "name": "stdout",
          "text": [
            "back to the normal\n"
          ]
        }
      ]
    },
    {
      "cell_type": "code",
      "source": [],
      "metadata": {
        "id": "y78u7B6YUQxN"
      },
      "execution_count": null,
      "outputs": []
    }
  ]
}