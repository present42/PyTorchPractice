{
  "nbformat": 4,
  "nbformat_minor": 0,
  "metadata": {
    "colab": {
      "provenance": [],
      "authorship_tag": "ABX9TyO9f+mvC4xwtqJTpso30yR8",
      "include_colab_link": true
    },
    "kernelspec": {
      "name": "python3",
      "display_name": "Python 3"
    },
    "language_info": {
      "name": "python"
    }
  },
  "cells": [
    {
      "cell_type": "markdown",
      "metadata": {
        "id": "view-in-github",
        "colab_type": "text"
      },
      "source": [
        "<a href=\"https://colab.research.google.com/github/present42/PythonExercise/blob/main/Fluent_Python_ch17.ipynb\" target=\"_parent\"><img src=\"https://colab.research.google.com/assets/colab-badge.svg\" alt=\"Open In Colab\"/></a>"
      ]
    },
    {
      "cell_type": "markdown",
      "source": [
        "# Chapter 17. Iterators, Generators, and Classic Coroutines"
      ],
      "metadata": {
        "id": "53IDSe7rh6Zn"
      }
    },
    {
      "cell_type": "markdown",
      "source": [
        "## A Sequence of Words\n",
        "\n",
        "You give its constructor a string with some text, and then you can iterate word by word."
      ],
      "metadata": {
        "id": "bcUsoaedioCY"
      }
    },
    {
      "cell_type": "code",
      "source": [
        "# sentence.py\n",
        "\n",
        "import re\n",
        "import reprlib\n",
        "\n",
        "RE_WORD = re.compile(r'\\w+')\n",
        "\n",
        "class Sentence:\n",
        "\n",
        "  def __init__(self, text):\n",
        "    self.text = text\n",
        "    self.words = RE_WORD.findall(text)\n",
        "\n",
        "  def __getitem__(self, index):\n",
        "    return self.words[index]\n",
        "\n",
        "  def __len__(self):\n",
        "    return len(self.words)\n",
        "\n",
        "  def __repr__(self):\n",
        "    return 'Sentence(%s)' % reprlib.repr(self.text)\n",
        "\n"
      ],
      "metadata": {
        "id": "6_aoQqh6injY"
      },
      "execution_count": null,
      "outputs": []
    },
    {
      "cell_type": "code",
      "execution_count": null,
      "metadata": {
        "colab": {
          "base_uri": "https://localhost:8080/"
        },
        "id": "gLMhOgYbgdtX",
        "outputId": "2d7dff1f-6193-4ddd-c730-4e673a76e239"
      },
      "outputs": [
        {
          "output_type": "execute_result",
          "data": {
            "text/plain": [
              "Sentence('\"The time ha... Walrus said,')"
            ]
          },
          "metadata": {},
          "execution_count": 2
        }
      ],
      "source": [
        "s = Sentence('\"The time has come,\" the Walrus said,')\n",
        "s"
      ]
    },
    {
      "cell_type": "code",
      "source": [
        "for word in s:\n",
        "  print(word)"
      ],
      "metadata": {
        "colab": {
          "base_uri": "https://localhost:8080/"
        },
        "id": "ygTact3sjeNC",
        "outputId": "2554d6da-9d07-4f6d-d805-771083a99022"
      },
      "execution_count": null,
      "outputs": [
        {
          "output_type": "stream",
          "name": "stdout",
          "text": [
            "The\n",
            "time\n",
            "has\n",
            "come\n",
            "the\n",
            "Walrus\n",
            "said\n"
          ]
        }
      ]
    },
    {
      "cell_type": "code",
      "source": [
        "list(s)"
      ],
      "metadata": {
        "colab": {
          "base_uri": "https://localhost:8080/"
        },
        "id": "XEu9XoaojgXf",
        "outputId": "ac4d89c6-f5a3-4826-f79d-32e52c1e6c79"
      },
      "execution_count": null,
      "outputs": [
        {
          "output_type": "execute_result",
          "data": {
            "text/plain": [
              "['The', 'time', 'has', 'come', 'the', 'Walrus', 'said']"
            ]
          },
          "metadata": {},
          "execution_count": 4
        }
      ]
    },
    {
      "cell_type": "markdown",
      "source": [
        "In the following sections, we'll develop other `Sentence` classes that pass the tests in above example."
      ],
      "metadata": {
        "id": "iZ2_5GvMju4c"
      }
    },
    {
      "cell_type": "code",
      "source": [
        "s[0]"
      ],
      "metadata": {
        "colab": {
          "base_uri": "https://localhost:8080/",
          "height": 36
        },
        "id": "XBKszIh-ji9g",
        "outputId": "ae2aecad-5a3e-4b53-bd5b-50b650c0291e"
      },
      "execution_count": null,
      "outputs": [
        {
          "output_type": "execute_result",
          "data": {
            "text/plain": [
              "'The'"
            ],
            "application/vnd.google.colaboratory.intrinsic+json": {
              "type": "string"
            }
          },
          "metadata": {},
          "execution_count": 5
        }
      ]
    },
    {
      "cell_type": "code",
      "source": [
        "s[5]"
      ],
      "metadata": {
        "colab": {
          "base_uri": "https://localhost:8080/",
          "height": 36
        },
        "id": "YOcCs0m8j3Do",
        "outputId": "85395e1b-bb8a-47b1-d06c-4c73f32511e1"
      },
      "execution_count": null,
      "outputs": [
        {
          "output_type": "execute_result",
          "data": {
            "text/plain": [
              "'Walrus'"
            ],
            "application/vnd.google.colaboratory.intrinsic+json": {
              "type": "string"
            }
          },
          "metadata": {},
          "execution_count": 6
        }
      ]
    },
    {
      "cell_type": "code",
      "source": [
        "s[-1]"
      ],
      "metadata": {
        "colab": {
          "base_uri": "https://localhost:8080/",
          "height": 36
        },
        "id": "uJR-ID_kj3Vo",
        "outputId": "794d1263-62f0-4073-b6aa-87ba7d0efe5b"
      },
      "execution_count": null,
      "outputs": [
        {
          "output_type": "execute_result",
          "data": {
            "text/plain": [
              "'said'"
            ],
            "application/vnd.google.colaboratory.intrinsic+json": {
              "type": "string"
            }
          },
          "metadata": {},
          "execution_count": 7
        }
      ]
    },
    {
      "cell_type": "markdown",
      "source": [
        "## Why Sequences Are Iterable: The `iter` function\n",
        "\n",
        "Whenever Python needs to iterate over an object `x`, it automatically calls `iter(x)`\n",
        "\n",
        "The `iter` built-in fcn:\n",
        " 1. Checks whether the object implements `__iter__` and calls that to obtain an iterator\n",
        " 2. Otherwise, but if `__getitem__` is implemented, then `iter()` creates an iterator that tries to fetch items by index, starting from 0.\n",
        " 3. If that fails, Python raises `TypeError`, usually saying 'C' object is not iterable, where C is the class of the target obj."
      ],
      "metadata": {
        "id": "OwIVraeKj6yH"
      }
    },
    {
      "cell_type": "code",
      "source": [
        "class Spam:\n",
        "  def __getitem__(self, i):\n",
        "    print('->', i)\n",
        "    raise IndexError()"
      ],
      "metadata": {
        "id": "WNdE9vwZj3ux"
      },
      "execution_count": null,
      "outputs": []
    },
    {
      "cell_type": "code",
      "source": [
        "spam_can = Spam()\n",
        "iter(spam_can)"
      ],
      "metadata": {
        "colab": {
          "base_uri": "https://localhost:8080/"
        },
        "id": "0mABXtvykqET",
        "outputId": "928699f7-2b55-4361-f34d-7d612b68b8e5"
      },
      "execution_count": null,
      "outputs": [
        {
          "output_type": "execute_result",
          "data": {
            "text/plain": [
              "<iterator at 0x7efb25334850>"
            ]
          },
          "metadata": {},
          "execution_count": 9
        }
      ]
    },
    {
      "cell_type": "code",
      "source": [
        "list(spam_can)"
      ],
      "metadata": {
        "colab": {
          "base_uri": "https://localhost:8080/"
        },
        "id": "ZgeaqmFNkscI",
        "outputId": "00f1a4e7-535e-471f-e564-0c235dfc0bd4"
      },
      "execution_count": null,
      "outputs": [
        {
          "output_type": "stream",
          "name": "stdout",
          "text": [
            "-> 0\n"
          ]
        },
        {
          "output_type": "execute_result",
          "data": {
            "text/plain": [
              "[]"
            ]
          },
          "metadata": {},
          "execution_count": 10
        }
      ]
    },
    {
      "cell_type": "markdown",
      "source": [
        "In goose typing approach, the defintion for an iterable is simpler but not as flexible: an obj is considered iterable if it implements the `__iter__` method."
      ],
      "metadata": {
        "id": "vTWymdZFlSfe"
      }
    },
    {
      "cell_type": "code",
      "source": [
        "from collections import abc\n",
        "isinstance(spam_can, abc.Iterable)"
      ],
      "metadata": {
        "colab": {
          "base_uri": "https://localhost:8080/"
        },
        "id": "X4YIKZfBkt7K",
        "outputId": "7b89ad71-780c-4091-c902-74c78ab5052a"
      },
      "execution_count": null,
      "outputs": [
        {
          "output_type": "execute_result",
          "data": {
            "text/plain": [
              "False"
            ]
          },
          "metadata": {},
          "execution_count": 11
        }
      ]
    },
    {
      "cell_type": "markdown",
      "source": [
        "### Using `iter` with Callable\n",
        "\n",
        "We can call `iter` with two arguments to create an iterator from a fcn or any callable obj. In this usage, the first argument must be a callable to be invoked repeatedly to produce values, and the second argument is a `sentinel`"
      ],
      "metadata": {
        "id": "WaF-qlHRlxbu"
      }
    },
    {
      "cell_type": "code",
      "source": [
        "from random import randint\n",
        "\n",
        "def d6():\n",
        "  return randint(1, 6)"
      ],
      "metadata": {
        "id": "Zpf4tGTjk4PJ"
      },
      "execution_count": null,
      "outputs": []
    },
    {
      "cell_type": "code",
      "source": [
        "d6_iter = iter(d6, 1) #"
      ],
      "metadata": {
        "id": "gU-z5ezyl31q"
      },
      "execution_count": null,
      "outputs": []
    },
    {
      "cell_type": "code",
      "source": [
        "d6_iter"
      ],
      "metadata": {
        "colab": {
          "base_uri": "https://localhost:8080/"
        },
        "id": "h78qJWM-mLqp",
        "outputId": "f89b06e1-f47d-463d-9ad7-93f1a0a70d4f"
      },
      "execution_count": null,
      "outputs": [
        {
          "output_type": "execute_result",
          "data": {
            "text/plain": [
              "<callable_iterator at 0x7efb25334160>"
            ]
          },
          "metadata": {},
          "execution_count": 24
        }
      ]
    },
    {
      "cell_type": "code",
      "source": [
        "for roll in d6_iter:\n",
        "  print(roll)"
      ],
      "metadata": {
        "colab": {
          "base_uri": "https://localhost:8080/"
        },
        "id": "uyV5JCM6mMG5",
        "outputId": "b7dd9029-2299-4177-e872-93af050ace83"
      },
      "execution_count": null,
      "outputs": [
        {
          "output_type": "stream",
          "name": "stdout",
          "text": [
            "3\n",
            "2\n",
            "2\n",
            "2\n",
            "2\n",
            "2\n",
            "2\n",
            "5\n",
            "3\n",
            "6\n",
            "5\n",
            "4\n",
            "4\n"
          ]
        }
      ]
    },
    {
      "cell_type": "markdown",
      "source": [
        "Note that the `iter` function here returns a `callable_iterator`. As usual with iterators, the `d6_iter` object becomes useless once exhausted."
      ],
      "metadata": {
        "id": "cM0L0svVmYcl"
      }
    },
    {
      "cell_type": "code",
      "source": [
        "from functools import partial\n",
        "\n",
        "with open('mydata.db', 'rb') as f:\n",
        "  read64 = partial(f.read, 64)\n",
        "  for block in iter(read64, b''):\n",
        "    process_block(block)"
      ],
      "metadata": {
        "id": "Cd_XEPcpmPCA"
      },
      "execution_count": null,
      "outputs": []
    },
    {
      "cell_type": "markdown",
      "source": [
        "## Iterables Verses Iterators\n",
        "\n",
        "> *iterable* \\\n",
        "Any object from which the `iter` built-in fcn can obtain an iterator. Objects implementing an `__iter__` method returning an iterator are iterable. Sequences are always iterable, as are objects implementing a `__getitem__` method that accepts 0-based indexes\n",
        "\n",
        "\n",
        "Python obtains iterator from iterables."
      ],
      "metadata": {
        "id": "-DaYx_ekm4RT"
      }
    },
    {
      "cell_type": "code",
      "source": [
        "s = 'ABC' # iterable\n",
        "for char in s: # iterator behind the scene\n",
        "  print(char)"
      ],
      "metadata": {
        "colab": {
          "base_uri": "https://localhost:8080/"
        },
        "id": "i4Va7nFym3sy",
        "outputId": "af68e132-2649-474b-9e2d-478be85a42aa"
      },
      "execution_count": null,
      "outputs": [
        {
          "output_type": "stream",
          "name": "stdout",
          "text": [
            "A\n",
            "B\n",
            "C\n"
          ]
        }
      ]
    },
    {
      "cell_type": "code",
      "source": [
        "s = 'ABC'\n",
        "it = iter(s)\n",
        "while True:\n",
        "  try:\n",
        "    print(next(it))\n",
        "  except StopIteration:\n",
        "    del it # release ref to `it`\n",
        "    break"
      ],
      "metadata": {
        "colab": {
          "base_uri": "https://localhost:8080/"
        },
        "id": "8KfSHl2YnaWp",
        "outputId": "8656fe25-16da-4182-a630-bddeb3604a16"
      },
      "execution_count": null,
      "outputs": [
        {
          "output_type": "stream",
          "name": "stdout",
          "text": [
            "A\n",
            "B\n",
            "C\n"
          ]
        }
      ]
    },
    {
      "cell_type": "markdown",
      "source": [
        "Python's standard interface for an iterator has two methods:\n",
        " -`__next__` return the next item in the series, raising `StopIteration` if there are no more.\n",
        " -`__iter__` return self; this allows iterators to be used where an iterable is expected, for example in a `for` loop"
      ],
      "metadata": {
        "id": "wCemCfYAnn1N"
      }
    },
    {
      "cell_type": "code",
      "source": [
        "s = \"ABC\"\n",
        "for char in s:\n",
        "  print(char)"
      ],
      "metadata": {
        "colab": {
          "base_uri": "https://localhost:8080/"
        },
        "id": "f5keDBz2oMHw",
        "outputId": "31b435bd-e2f7-4a75-9587-e3c979f0faf7"
      },
      "execution_count": null,
      "outputs": [
        {
          "output_type": "stream",
          "name": "stdout",
          "text": [
            "A\n",
            "B\n",
            "C\n"
          ]
        }
      ]
    },
    {
      "cell_type": "code",
      "source": [
        "s = iter(\"ABC\")\n",
        "for char in s: # iter(s) == s\n",
        "  print(char)"
      ],
      "metadata": {
        "colab": {
          "base_uri": "https://localhost:8080/"
        },
        "id": "m2y_mqn3nXSS",
        "outputId": "afcc9f5d-136d-4bb1-b442-a92a9138be9c"
      },
      "execution_count": null,
      "outputs": [
        {
          "output_type": "stream",
          "name": "stdout",
          "text": [
            "A\n",
            "B\n",
            "C\n"
          ]
        }
      ]
    },
    {
      "cell_type": "code",
      "source": [
        "iter(s) is s"
      ],
      "metadata": {
        "colab": {
          "base_uri": "https://localhost:8080/"
        },
        "id": "O-ReYhsxoKwB",
        "outputId": "99bfd859-0a1b-40a4-96dc-626a51a5e5ee"
      },
      "execution_count": null,
      "outputs": [
        {
          "output_type": "execute_result",
          "data": {
            "text/plain": [
              "True"
            ]
          },
          "metadata": {},
          "execution_count": 33
        }
      ]
    },
    {
      "cell_type": "code",
      "source": [
        "s3 = Sentence('Life of Brain')\n",
        "it = iter(s3)"
      ],
      "metadata": {
        "id": "FeS5Q_7xoWA5"
      },
      "execution_count": null,
      "outputs": []
    },
    {
      "cell_type": "code",
      "source": [
        "it"
      ],
      "metadata": {
        "colab": {
          "base_uri": "https://localhost:8080/"
        },
        "id": "cmuDN-vQo4wa",
        "outputId": "89938ea6-9c2e-48e3-ff0e-34580da04961"
      },
      "execution_count": null,
      "outputs": [
        {
          "output_type": "execute_result",
          "data": {
            "text/plain": [
              "<iterator at 0x7efb53f98ee0>"
            ]
          },
          "metadata": {},
          "execution_count": 36
        }
      ]
    },
    {
      "cell_type": "code",
      "source": [
        "next(it)"
      ],
      "metadata": {
        "colab": {
          "base_uri": "https://localhost:8080/",
          "height": 36
        },
        "id": "Z2BVkLSIo45D",
        "outputId": "93fa1a4a-1fd7-4f84-958d-3a1ddc82d943"
      },
      "execution_count": null,
      "outputs": [
        {
          "output_type": "execute_result",
          "data": {
            "text/plain": [
              "'Life'"
            ],
            "application/vnd.google.colaboratory.intrinsic+json": {
              "type": "string"
            }
          },
          "metadata": {},
          "execution_count": 37
        }
      ]
    },
    {
      "cell_type": "code",
      "source": [
        "next(it)"
      ],
      "metadata": {
        "colab": {
          "base_uri": "https://localhost:8080/",
          "height": 36
        },
        "id": "Q6AAaCz0o7ex",
        "outputId": "8b6dcf6c-ad75-4d7d-bde3-a85d3d717a2c"
      },
      "execution_count": null,
      "outputs": [
        {
          "output_type": "execute_result",
          "data": {
            "text/plain": [
              "'of'"
            ],
            "application/vnd.google.colaboratory.intrinsic+json": {
              "type": "string"
            }
          },
          "metadata": {},
          "execution_count": 38
        }
      ]
    },
    {
      "cell_type": "code",
      "source": [
        "next(it)"
      ],
      "metadata": {
        "colab": {
          "base_uri": "https://localhost:8080/",
          "height": 36
        },
        "id": "Clttxb_bo73w",
        "outputId": "03871859-41ec-4cec-a399-5def7a809df3"
      },
      "execution_count": null,
      "outputs": [
        {
          "output_type": "execute_result",
          "data": {
            "text/plain": [
              "'Brain'"
            ],
            "application/vnd.google.colaboratory.intrinsic+json": {
              "type": "string"
            }
          },
          "metadata": {},
          "execution_count": 39
        }
      ]
    },
    {
      "cell_type": "code",
      "source": [
        "next(it)"
      ],
      "metadata": {
        "colab": {
          "base_uri": "https://localhost:8080/",
          "height": 149
        },
        "id": "3NQjrD6To8W6",
        "outputId": "6c5004fb-ee7c-408f-d412-f31afa892bc9"
      },
      "execution_count": null,
      "outputs": [
        {
          "output_type": "error",
          "ename": "StopIteration",
          "evalue": "",
          "traceback": [
            "\u001b[0;31m---------------------------------------------------------------------------\u001b[0m",
            "\u001b[0;31mStopIteration\u001b[0m                             Traceback (most recent call last)",
            "\u001b[0;32m<ipython-input-40-bc1ab118995a>\u001b[0m in \u001b[0;36m<cell line: 1>\u001b[0;34m()\u001b[0m\n\u001b[0;32m----> 1\u001b[0;31m \u001b[0mnext\u001b[0m\u001b[0;34m(\u001b[0m\u001b[0mit\u001b[0m\u001b[0;34m)\u001b[0m\u001b[0;34m\u001b[0m\u001b[0;34m\u001b[0m\u001b[0m\n\u001b[0m",
            "\u001b[0;31mStopIteration\u001b[0m: "
          ]
        }
      ]
    },
    {
      "cell_type": "code",
      "source": [
        "list(it) # Once exhausted, an iterable will always raise `StopIteration`"
      ],
      "metadata": {
        "colab": {
          "base_uri": "https://localhost:8080/"
        },
        "id": "oYQtLWgqo835",
        "outputId": "9af00ad7-d363-40ef-ad01-f09f991a9b67"
      },
      "execution_count": null,
      "outputs": [
        {
          "output_type": "execute_result",
          "data": {
            "text/plain": [
              "[]"
            ]
          },
          "metadata": {},
          "execution_count": 41
        }
      ]
    },
    {
      "cell_type": "code",
      "source": [
        "list(iter(s3))"
      ],
      "metadata": {
        "colab": {
          "base_uri": "https://localhost:8080/"
        },
        "id": "GR5Yhfaoo96p",
        "outputId": "0024e2a2-4324-4771-e133-5133b10c919b"
      },
      "execution_count": null,
      "outputs": [
        {
          "output_type": "execute_result",
          "data": {
            "text/plain": [
              "['Life', 'of', 'Brain']"
            ]
          },
          "metadata": {},
          "execution_count": 42
        }
      ]
    },
    {
      "cell_type": "markdown",
      "source": [
        "`Sentence` implemented using the Iterator pattern"
      ],
      "metadata": {
        "id": "gV_OziAAphmP"
      }
    },
    {
      "cell_type": "code",
      "source": [
        "# sentence_iter.py\n",
        "\n",
        "\n",
        "import re\n",
        "import reprlib\n",
        "\n",
        "RE_WORD = re.compile(r'\\w+')\n",
        "\n",
        "class Sentence:\n",
        "\n",
        "  def __init__(self, text):\n",
        "    self.text = text\n",
        "    self.words = RE_WORD.findall(text)\n",
        "\n",
        "  def __repr__(self):\n",
        "    return 'Sentence(%s)' % reprlib.repr(self.text)\n",
        "\n",
        "  def __iter__(self):\n",
        "    return SentenceIterator(self.words)\n",
        "\n",
        "class SentenceIterator:\n",
        "\n",
        "  def __init__(self, words):\n",
        "    self.words = words\n",
        "    self.index = 0\n",
        "\n",
        "  def __next__(self):\n",
        "    try:\n",
        "      word = self.words[self.index]\n",
        "    except IndexError:\n",
        "      raise StopIteration()\n",
        "    self.index += 1\n",
        "    return word\n",
        "\n",
        "  def __iter__(self):\n",
        "    return self"
      ],
      "metadata": {
        "id": "1D8VP02qo-0x"
      },
      "execution_count": null,
      "outputs": []
    },
    {
      "cell_type": "code",
      "source": [
        "s = Sentence('\"The time has come,\" the Walrus said,')"
      ],
      "metadata": {
        "id": "k4P3J6jxqJPy"
      },
      "execution_count": null,
      "outputs": []
    },
    {
      "cell_type": "code",
      "source": [
        "s"
      ],
      "metadata": {
        "colab": {
          "base_uri": "https://localhost:8080/"
        },
        "id": "CVs11l-uqQTy",
        "outputId": "b71e7b8c-4d1e-48f8-ded7-25eb02c5f2fa"
      },
      "execution_count": null,
      "outputs": [
        {
          "output_type": "execute_result",
          "data": {
            "text/plain": [
              "Sentence('\"The time ha... Walrus said,')"
            ]
          },
          "metadata": {},
          "execution_count": 45
        }
      ]
    },
    {
      "cell_type": "code",
      "source": [
        "for word in s:\n",
        "  print(word)"
      ],
      "metadata": {
        "colab": {
          "base_uri": "https://localhost:8080/"
        },
        "id": "4GUZRYGlqRSA",
        "outputId": "887983dd-0444-4b86-a1fc-0e15e971b31b"
      },
      "execution_count": null,
      "outputs": [
        {
          "output_type": "stream",
          "name": "stdout",
          "text": [
            "The\n",
            "time\n",
            "has\n",
            "come\n",
            "the\n",
            "Walrus\n",
            "said\n"
          ]
        }
      ]
    },
    {
      "cell_type": "code",
      "source": [
        "list(s)"
      ],
      "metadata": {
        "colab": {
          "base_uri": "https://localhost:8080/"
        },
        "id": "dvgGS8T4qSM4",
        "outputId": "8d518b3a-4f4d-4c6c-fbda-b2bfdd5dd6db"
      },
      "execution_count": null,
      "outputs": [
        {
          "output_type": "execute_result",
          "data": {
            "text/plain": [
              "['The', 'time', 'has', 'come', 'the', 'Walrus', 'said']"
            ]
          },
          "metadata": {},
          "execution_count": 47
        }
      ]
    },
    {
      "cell_type": "code",
      "source": [
        "isinstance(s, abc.Iterable)"
      ],
      "metadata": {
        "colab": {
          "base_uri": "https://localhost:8080/"
        },
        "id": "BpPIWtqWqT6Y",
        "outputId": "4db1b536-366d-497c-ad9a-c124ddcf908f"
      },
      "execution_count": null,
      "outputs": [
        {
          "output_type": "execute_result",
          "data": {
            "text/plain": [
              "True"
            ]
          },
          "metadata": {},
          "execution_count": 49
        }
      ]
    },
    {
      "cell_type": "markdown",
      "source": [
        "### **Don't Make the Iterable an Iterator for Itself**"
      ],
      "metadata": {
        "id": "UKBRU5Lsql7s"
      }
    },
    {
      "cell_type": "markdown",
      "source": [
        "i.e., Don't implement `__next__` in addition to `__iter__` in the `Sentence` class."
      ],
      "metadata": {
        "id": "1dVC1oD0q6ny"
      }
    },
    {
      "cell_type": "markdown",
      "source": [
        "Use the Iterator pattern\n",
        " - to access an aggregate obj's contents w/o exposing its internal repr.\n",
        " - to support multiple traversals of aggregated objs.\n",
        " - to provide a uniform interface for traversing different aggregate structures\n",
        "\n",
        "To \"support multiple traversals\" it must be possible to obtain multiple indep. iterators form teh same iterable instance."
      ],
      "metadata": {
        "id": "hOT0Ik3KrMIJ"
      }
    },
    {
      "cell_type": "code",
      "source": [
        "# sentence_gen.py\n",
        "\n",
        "\n",
        "import re\n",
        "import reprlib\n",
        "\n",
        "RE_WORD = re.compile(r'\\w+')\n",
        "\n",
        "class Sentence:\n",
        "\n",
        "  def __init__(self, text):\n",
        "    self.text = text\n",
        "    self.words = RE_WORD.findall(text)\n",
        "\n",
        "  def __repr__(self):\n",
        "    return 'Sentence(%s)' % reprlib.repr(self.text)\n",
        "\n",
        "  def __iter__(self):\n",
        "    for word in self.words:\n",
        "      yield word\n",
        "    # explicit return is not necessary"
      ],
      "metadata": {
        "id": "iM2mUbZcq51K"
      },
      "execution_count": null,
      "outputs": []
    },
    {
      "cell_type": "markdown",
      "source": [
        "Now the iterator in the above example is in fact a generator object, built automatically when the `__iter__` method is called, because `__iter__` here is a generator function."
      ],
      "metadata": {
        "id": "FsUkqJ79sJl1"
      }
    },
    {
      "cell_type": "markdown",
      "source": [
        "## How a Generator Works\n",
        "\n",
        "Any Python fcn that has the `yield` keyword in its body is a generator function: a function which, when called, returns a generator obj (i.e. generator factory)"
      ],
      "metadata": {
        "id": "4lX20jkLsc2U"
      }
    },
    {
      "cell_type": "code",
      "source": [
        "def gen_123():\n",
        "  yield 1\n",
        "  yield 2\n",
        "  yield 3"
      ],
      "metadata": {
        "id": "1EjRh9OSqXfB"
      },
      "execution_count": null,
      "outputs": []
    },
    {
      "cell_type": "code",
      "source": [
        "gen_123"
      ],
      "metadata": {
        "colab": {
          "base_uri": "https://localhost:8080/",
          "height": 103
        },
        "id": "J3ybph7hsw04",
        "outputId": "f940e331-2cba-4a15-b623-08f50958013e"
      },
      "execution_count": null,
      "outputs": [
        {
          "output_type": "execute_result",
          "data": {
            "text/plain": [
              "<function __main__.gen_123()>"
            ],
            "text/html": [
              "<div style=\"max-width:800px; border: 1px solid var(--colab-border-color);\"><style>\n",
              "      pre.function-repr-contents {\n",
              "        overflow-x: auto;\n",
              "        padding: 8px 12px;\n",
              "        max-height: 500px;\n",
              "      }\n",
              "\n",
              "      pre.function-repr-contents.function-repr-contents-collapsed {\n",
              "        cursor: pointer;\n",
              "        max-height: 100px;\n",
              "      }\n",
              "    </style>\n",
              "    <pre style=\"white-space: initial; background:\n",
              "         var(--colab-secondary-surface-color); padding: 8px 12px;\n",
              "         border-bottom: 1px solid var(--colab-border-color);\"><b>gen_123</b><br/>def gen_123()</pre><pre class=\"function-repr-contents function-repr-contents-collapsed\" style=\"\"><a class=\"filepath\" style=\"display:none\" href=\"#\">/content/&lt;ipython-input-50-ece716d6c0d8&gt;</a>&lt;no docstring&gt;</pre></div>"
            ]
          },
          "metadata": {},
          "execution_count": 51
        }
      ]
    },
    {
      "cell_type": "markdown",
      "source": [
        "Generator objects implement the `Iterator` interface, so they are also iterable."
      ],
      "metadata": {
        "id": "Gt4-z8rwtAXi"
      }
    },
    {
      "cell_type": "code",
      "source": [
        "gen_123()"
      ],
      "metadata": {
        "colab": {
          "base_uri": "https://localhost:8080/"
        },
        "id": "Te8vbj7YsxRB",
        "outputId": "933797f0-722d-4726-ce2f-93e6c71a94dd"
      },
      "execution_count": null,
      "outputs": [
        {
          "output_type": "execute_result",
          "data": {
            "text/plain": [
              "<generator object gen_123 at 0x7efb25289c40>"
            ]
          },
          "metadata": {},
          "execution_count": 52
        }
      ]
    },
    {
      "cell_type": "code",
      "source": [
        "for i in gen_123():\n",
        "  print(i)"
      ],
      "metadata": {
        "colab": {
          "base_uri": "https://localhost:8080/"
        },
        "id": "ilRp01sUszXD",
        "outputId": "2b579132-985a-4137-bae1-08a8d7d861f0"
      },
      "execution_count": null,
      "outputs": [
        {
          "output_type": "stream",
          "name": "stdout",
          "text": [
            "1\n",
            "2\n",
            "3\n"
          ]
        }
      ]
    },
    {
      "cell_type": "code",
      "source": [
        "isinstance(g, abc.Iterator)"
      ],
      "metadata": {
        "colab": {
          "base_uri": "https://localhost:8080/"
        },
        "id": "w8INNmBOtIDZ",
        "outputId": "be8435d3-312d-4ccb-ad15-4084f6e5ce24"
      },
      "execution_count": null,
      "outputs": [
        {
          "output_type": "execute_result",
          "data": {
            "text/plain": [
              "True"
            ]
          },
          "metadata": {},
          "execution_count": 58
        }
      ]
    },
    {
      "cell_type": "code",
      "source": [
        "g = gen_123()\n",
        "next(g)"
      ],
      "metadata": {
        "colab": {
          "base_uri": "https://localhost:8080/"
        },
        "id": "tayMim12s1mR",
        "outputId": "ba5c420d-ee0c-42c9-d522-a0c2d1ac0898"
      },
      "execution_count": null,
      "outputs": [
        {
          "output_type": "execute_result",
          "data": {
            "text/plain": [
              "1"
            ]
          },
          "metadata": {},
          "execution_count": 54
        }
      ]
    },
    {
      "cell_type": "code",
      "source": [
        "next(g)"
      ],
      "metadata": {
        "colab": {
          "base_uri": "https://localhost:8080/"
        },
        "id": "XfxBqNKKs4cR",
        "outputId": "d2d93cb4-bd0e-4197-eef7-3a33a771d047"
      },
      "execution_count": null,
      "outputs": [
        {
          "output_type": "execute_result",
          "data": {
            "text/plain": [
              "2"
            ]
          },
          "metadata": {},
          "execution_count": 55
        }
      ]
    },
    {
      "cell_type": "code",
      "source": [
        "next(g)"
      ],
      "metadata": {
        "colab": {
          "base_uri": "https://localhost:8080/"
        },
        "id": "BS9r7QKqs5eJ",
        "outputId": "4263a441-a1a5-47ca-9197-c2168bf285c4"
      },
      "execution_count": null,
      "outputs": [
        {
          "output_type": "execute_result",
          "data": {
            "text/plain": [
              "3"
            ]
          },
          "metadata": {},
          "execution_count": 56
        }
      ]
    },
    {
      "cell_type": "code",
      "source": [
        "next(g)"
      ],
      "metadata": {
        "colab": {
          "base_uri": "https://localhost:8080/",
          "height": 149
        },
        "id": "mumo6KtWs5xQ",
        "outputId": "d70c064f-62fd-488f-971b-d33f3e818006"
      },
      "execution_count": null,
      "outputs": [
        {
          "output_type": "error",
          "ename": "StopIteration",
          "evalue": "",
          "traceback": [
            "\u001b[0;31m---------------------------------------------------------------------------\u001b[0m",
            "\u001b[0;31mStopIteration\u001b[0m                             Traceback (most recent call last)",
            "\u001b[0;32m<ipython-input-57-e734f8aca5ac>\u001b[0m in \u001b[0;36m<cell line: 1>\u001b[0;34m()\u001b[0m\n\u001b[0;32m----> 1\u001b[0;31m \u001b[0mnext\u001b[0m\u001b[0;34m(\u001b[0m\u001b[0mg\u001b[0m\u001b[0;34m)\u001b[0m\u001b[0;34m\u001b[0m\u001b[0;34m\u001b[0m\u001b[0m\n\u001b[0m",
            "\u001b[0;31mStopIteration\u001b[0m: "
          ]
        }
      ]
    },
    {
      "cell_type": "code",
      "source": [
        "def gen_AB():\n",
        "  print('start')\n",
        "  yield 'A'\n",
        "  print('continue')\n",
        "  yield 'B'\n",
        "  print('end.')\n"
      ],
      "metadata": {
        "id": "-iWTj_4ss68h"
      },
      "execution_count": null,
      "outputs": []
    },
    {
      "cell_type": "markdown",
      "source": [
        "To iterate, `for` machinery does the equivalent of `g = iter(gen_AB())` to get a generator object, and then `next(g)` at each iteration"
      ],
      "metadata": {
        "id": "SeHq7ojmuFc_"
      }
    },
    {
      "cell_type": "code",
      "source": [
        "for c in gen_AB():\n",
        "  print('-->', c)\n",
        "\n",
        "# expected:\n",
        "# start\n",
        "# --> A\n",
        "# continue\n",
        "# --> B\n",
        "# end\n"
      ],
      "metadata": {
        "colab": {
          "base_uri": "https://localhost:8080/"
        },
        "id": "neVRtD7Gtj-Z",
        "outputId": "e6836094-9da8-46a7-e4f9-330e848175b2"
      },
      "execution_count": null,
      "outputs": [
        {
          "output_type": "stream",
          "name": "stdout",
          "text": [
            "start\n",
            "--> A\n",
            "continue\n",
            "--> B\n",
            "end.\n"
          ]
        }
      ]
    },
    {
      "cell_type": "markdown",
      "source": [
        "## Lazy Sentences"
      ],
      "metadata": {
        "id": "m19d6YkD3JWY"
      }
    },
    {
      "cell_type": "markdown",
      "source": [
        "`Iterator` interface is designed to be lazy: `next(my_iterator)` yields one item at a time. The opposite of lazy is eager.\n",
        "\n",
        "Our `Sentence` implementation has not been lazy because the `__init__` eagerly builds a list of all words in the text, binding it to the `self.words` attributes."
      ],
      "metadata": {
        "id": "9gqXNYug3LXz"
      }
    },
    {
      "cell_type": "code",
      "source": [
        "# sentence_gen2.py\n",
        "\n",
        "\n",
        "import re\n",
        "import reprlib\n",
        "\n",
        "RE_WORD = re.compile(r'\\w+')\n",
        "\n",
        "class Sentence:\n",
        "\n",
        "  def __init__(self, text):\n",
        "    self.text = text\n",
        "    # self.words = RE_WORD.findall(text) - need to process all words\n",
        "\n",
        "\n",
        "  def __repr__(self):\n",
        "    return 'Sentence(%s)' % reprlib.repr(self.text)\n",
        "\n",
        "  def __iter__(self):\n",
        "    # finditer builds an iterator over the matches of\n",
        "    # RE_WORD on self.text, yielding MatchObject instances\n",
        "    for matched in RE_WORD.finditer(self.text):\n",
        "      # match.group() extracts the matched text from\n",
        "      # the MatchObject instance\n",
        "      yield matched.group()"
      ],
      "metadata": {
        "id": "NKLWkTHvtm8y"
      },
      "execution_count": 2,
      "outputs": []
    },
    {
      "cell_type": "markdown",
      "source": [
        "### Lazy Generator Expression"
      ],
      "metadata": {
        "id": "h6QyltTT54d3"
      }
    },
    {
      "cell_type": "code",
      "source": [
        "# generator function\n",
        "def gen_AB():\n",
        "  print('start')\n",
        "  yield 'A'\n",
        "  print(\"continue\")\n",
        "  yield 'B'\n",
        "  print('end')"
      ],
      "metadata": {
        "id": "lyCasKpX4gnd"
      },
      "execution_count": 8,
      "outputs": []
    },
    {
      "cell_type": "code",
      "source": [
        "res1 = [x * 3 for x in gen_AB()]"
      ],
      "metadata": {
        "colab": {
          "base_uri": "https://localhost:8080/"
        },
        "id": "l9Teg3a65Ub5",
        "outputId": "10fe6c76-5121-4086-96a9-5c4061cc65d7"
      },
      "execution_count": 9,
      "outputs": [
        {
          "output_type": "stream",
          "name": "stdout",
          "text": [
            "start\n",
            "continue\n",
            "end\n"
          ]
        }
      ]
    },
    {
      "cell_type": "code",
      "source": [
        "for i in res1:\n",
        "  print('-->', i)"
      ],
      "metadata": {
        "colab": {
          "base_uri": "https://localhost:8080/"
        },
        "id": "GOQCqwvQ6K1t",
        "outputId": "21bb32bb-866f-43c5-dcf9-5d4365100357"
      },
      "execution_count": 10,
      "outputs": [
        {
          "output_type": "stream",
          "name": "stdout",
          "text": [
            "--> AAA\n",
            "--> BBB\n"
          ]
        }
      ]
    },
    {
      "cell_type": "code",
      "source": [
        "res2 = (x*3 for x in gen_AB())\n",
        "res2"
      ],
      "metadata": {
        "colab": {
          "base_uri": "https://localhost:8080/"
        },
        "id": "rq7qnOU06QXS",
        "outputId": "7ce973b2-a83c-48d4-a19f-4ea2466414ae"
      },
      "execution_count": 11,
      "outputs": [
        {
          "output_type": "execute_result",
          "data": {
            "text/plain": [
              "<generator object <genexpr> at 0x78fb866f3680>"
            ]
          },
          "metadata": {},
          "execution_count": 11
        }
      ]
    },
    {
      "cell_type": "code",
      "source": [
        "res2"
      ],
      "metadata": {
        "colab": {
          "base_uri": "https://localhost:8080/"
        },
        "id": "KJYHSTrM6a85",
        "outputId": "d3032d31-6f19-4180-8040-2028aae99466"
      },
      "execution_count": 12,
      "outputs": [
        {
          "output_type": "execute_result",
          "data": {
            "text/plain": [
              "<generator object <genexpr> at 0x78fb866f3680>"
            ]
          },
          "metadata": {},
          "execution_count": 12
        }
      ]
    },
    {
      "cell_type": "code",
      "source": [
        "for i in res2:\n",
        "  print('-->', i)"
      ],
      "metadata": {
        "colab": {
          "base_uri": "https://localhost:8080/"
        },
        "id": "yEYeY0Nv6dsH",
        "outputId": "9d76f8fe-083a-4158-84d6-a6fbb3628dc5"
      },
      "execution_count": 13,
      "outputs": [
        {
          "output_type": "stream",
          "name": "stdout",
          "text": [
            "start\n",
            "--> AAA\n",
            "continue\n",
            "--> BBB\n",
            "end\n"
          ]
        }
      ]
    },
    {
      "cell_type": "code",
      "source": [
        "# sentence_genexp.py\n",
        "\n",
        "import re\n",
        "import reprlib\n",
        "\n",
        "RE_WORD = re.compile(r'\\w+')\n",
        "\n",
        "class Sentence:\n",
        "\n",
        "  def __init__(self, text):\n",
        "    self.text = text\n",
        "    # self.words = RE_WORD.findall(text) - need to process all words\n",
        "\n",
        "\n",
        "  def __repr__(self):\n",
        "    return 'Sentence(%s)' % reprlib.repr(self.text)\n",
        "\n",
        "  def __iter__(self):\n",
        "    # finditer builds an iterator over the matches of\n",
        "    # RE_WORD on self.text, yielding MatchObject instances\n",
        "    return (matched.group() for matched in RE_WORD.finditer(self.text))"
      ],
      "metadata": {
        "id": "8jSKYLBn63oP"
      },
      "execution_count": 14,
      "outputs": []
    },
    {
      "cell_type": "markdown",
      "source": [
        "# When to Use Generator Expressions"
      ],
      "metadata": {
        "id": "wSRHVVSe8fVr"
      }
    },
    {
      "cell_type": "markdown",
      "source": [
        "*iterator*\n",
        " - General term for any object that implements `__next__` method. Iterators are designed to prodcue data that is consumed by the client code, i.e., the code that drives the iterator via a `for` loop or other iterative feature, or by explicitly calling `next(it)` on the iterator. In practice, most iterators we use in Python are *generators*.\n",
        "\n",
        "*generator*\n",
        " - An iterator built by the Python compiler. To create a generator, we don't implement `__next__` method. instead, we use the `yield` keyword to make a *generator* function, which is a factory of *generator objects*. A *generator expression* is another way to build a generator object. Generator objects provide *__next__*, so they are iterators."
      ],
      "metadata": {
        "id": "e-MNAh_V-bA-"
      }
    },
    {
      "cell_type": "code",
      "source": [
        "def g(): # generator fcn\n",
        "  yield 0"
      ],
      "metadata": {
        "id": "qzinno047vKd"
      },
      "execution_count": 16,
      "outputs": []
    },
    {
      "cell_type": "code",
      "source": [
        "g() # generator obj (iterator) created by generator fcn"
      ],
      "metadata": {
        "colab": {
          "base_uri": "https://localhost:8080/"
        },
        "id": "dQDKQsdq_e74",
        "outputId": "054bcc56-2b82-4a02-da22-4d766c543620"
      },
      "execution_count": 19,
      "outputs": [
        {
          "output_type": "execute_result",
          "data": {
            "text/plain": [
              "<generator object g at 0x78fb865a5770>"
            ]
          },
          "metadata": {},
          "execution_count": 19
        }
      ]
    },
    {
      "cell_type": "code",
      "source": [
        "ge = (c for c in 'XYZ') # generator exp builds a generator obj"
      ],
      "metadata": {
        "id": "VNrmuKN1_fjg"
      },
      "execution_count": 20,
      "outputs": []
    },
    {
      "cell_type": "code",
      "source": [
        "ge"
      ],
      "metadata": {
        "colab": {
          "base_uri": "https://localhost:8080/"
        },
        "id": "BD1I4eNc_spT",
        "outputId": "1d643210-3999-4593-eba3-a5d8bc29eedc"
      },
      "execution_count": 21,
      "outputs": [
        {
          "output_type": "execute_result",
          "data": {
            "text/plain": [
              "<generator object <genexpr> at 0x78fb865a6ea0>"
            ]
          },
          "metadata": {},
          "execution_count": 21
        }
      ]
    },
    {
      "cell_type": "code",
      "source": [
        "type(g()), type(ge)"
      ],
      "metadata": {
        "colab": {
          "base_uri": "https://localhost:8080/"
        },
        "id": "_i4-gOPj_tay",
        "outputId": "a27197c1-f7c0-46e7-debe-d76c9ffb3bf1"
      },
      "execution_count": 23,
      "outputs": [
        {
          "output_type": "execute_result",
          "data": {
            "text/plain": [
              "(generator, generator)"
            ]
          },
          "metadata": {},
          "execution_count": 23
        }
      ]
    },
    {
      "cell_type": "markdown",
      "source": [
        "## An Arithmetic Progrssion Generator"
      ],
      "metadata": {
        "id": "bSjj6PILAKRA"
      }
    },
    {
      "cell_type": "code",
      "source": [
        "class ArithmeticProgression:\n",
        "  def __init__(self, begin, step, end=None):\n",
        "    self.begin = begin\n",
        "    self.step = step\n",
        "    self.end = end # None -> infinite series\n",
        "\n",
        "  def __iter__(self):\n",
        "    result_type = type(self.begin + self.step)\n",
        "    result = result_type(self.begin)\n",
        "    forever = self.end is None\n",
        "\n",
        "    index = 0\n",
        "\n",
        "    while forever or result < self.end:\n",
        "      yield result\n",
        "      index += 1\n",
        "      # Why not adding cumulatively? numerical stability\n",
        "      result = self.begin + self.step * index"
      ],
      "metadata": {
        "id": "ahOGKTf5_xxq"
      },
      "execution_count": 24,
      "outputs": []
    },
    {
      "cell_type": "code",
      "source": [
        "ap = ArithmeticProgression(0, 1, 3)"
      ],
      "metadata": {
        "id": "lFbVY7PuB4gu"
      },
      "execution_count": 25,
      "outputs": []
    },
    {
      "cell_type": "code",
      "source": [
        "list(ap)"
      ],
      "metadata": {
        "colab": {
          "base_uri": "https://localhost:8080/"
        },
        "id": "ALxNllDnB6xA",
        "outputId": "d7d410cf-9241-4549-85da-dd8ff3413303"
      },
      "execution_count": 26,
      "outputs": [
        {
          "output_type": "execute_result",
          "data": {
            "text/plain": [
              "[0, 1, 2]"
            ]
          },
          "metadata": {},
          "execution_count": 26
        }
      ]
    },
    {
      "cell_type": "code",
      "source": [
        "ap = ArithmeticProgression(0, 0.5, 3)\n",
        "list(ap)"
      ],
      "metadata": {
        "colab": {
          "base_uri": "https://localhost:8080/"
        },
        "id": "cM8mGAorB7U5",
        "outputId": "701b7919-8142-4d49-cf2f-3a6cdd8bead1"
      },
      "execution_count": 27,
      "outputs": [
        {
          "output_type": "execute_result",
          "data": {
            "text/plain": [
              "[0.0, 0.5, 1.0, 1.5, 2.0, 2.5]"
            ]
          },
          "metadata": {},
          "execution_count": 27
        }
      ]
    },
    {
      "cell_type": "code",
      "source": [
        "ap = ArithmeticProgression(0, 1/3, 1)\n",
        "list(ap)"
      ],
      "metadata": {
        "colab": {
          "base_uri": "https://localhost:8080/"
        },
        "id": "x-RW3JcMB-98",
        "outputId": "7a415f4d-8c18-4c15-a9f4-736f15d90d2a"
      },
      "execution_count": 28,
      "outputs": [
        {
          "output_type": "execute_result",
          "data": {
            "text/plain": [
              "[0.0, 0.3333333333333333, 0.6666666666666666]"
            ]
          },
          "metadata": {},
          "execution_count": 28
        }
      ]
    },
    {
      "cell_type": "code",
      "source": [
        "from fractions import Fraction\n",
        "ap = ArithmeticProgression(0, Fraction(1,3), 1)\n",
        "list(ap)"
      ],
      "metadata": {
        "colab": {
          "base_uri": "https://localhost:8080/"
        },
        "id": "A6b5SzQmCBIW",
        "outputId": "6226ef65-b8cc-4510-9971-d2c36e78cc69"
      },
      "execution_count": 29,
      "outputs": [
        {
          "output_type": "execute_result",
          "data": {
            "text/plain": [
              "[Fraction(0, 1), Fraction(1, 3), Fraction(2, 3)]"
            ]
          },
          "metadata": {},
          "execution_count": 29
        }
      ]
    },
    {
      "cell_type": "code",
      "source": [
        "from decimal import Decimal\n",
        "ap = ArithmeticProgression(0, Decimal('.1'), .3)\n",
        "list(ap)"
      ],
      "metadata": {
        "colab": {
          "base_uri": "https://localhost:8080/"
        },
        "id": "sxkSzcvMCHW-",
        "outputId": "b62841f0-4082-4c75-8699-00aaf4c6b20f"
      },
      "execution_count": 30,
      "outputs": [
        {
          "output_type": "execute_result",
          "data": {
            "text/plain": [
              "[Decimal('0'), Decimal('0.1'), Decimal('0.2')]"
            ]
          },
          "metadata": {},
          "execution_count": 30
        }
      ]
    },
    {
      "cell_type": "code",
      "source": [
        "100 * 1.1"
      ],
      "metadata": {
        "colab": {
          "base_uri": "https://localhost:8080/"
        },
        "id": "ZqzY_2SICNxt",
        "outputId": "20c66315-e9d1-47ca-8e4e-4e8e2c093f2d"
      },
      "execution_count": 31,
      "outputs": [
        {
          "output_type": "execute_result",
          "data": {
            "text/plain": [
              "110.00000000000001"
            ]
          },
          "metadata": {},
          "execution_count": 31
        }
      ]
    },
    {
      "cell_type": "code",
      "source": [
        "sum(1.1 for _ in range(100))"
      ],
      "metadata": {
        "colab": {
          "base_uri": "https://localhost:8080/"
        },
        "id": "sYM6upuOCj6w",
        "outputId": "eb775fa7-d9c2-40d2-b06c-8eb7dabdb78c"
      },
      "execution_count": 32,
      "outputs": [
        {
          "output_type": "execute_result",
          "data": {
            "text/plain": [
              "109.99999999999982"
            ]
          },
          "metadata": {},
          "execution_count": 32
        }
      ]
    },
    {
      "cell_type": "code",
      "source": [
        "1000 * 1.1"
      ],
      "metadata": {
        "colab": {
          "base_uri": "https://localhost:8080/"
        },
        "id": "gwSX0TSLCmU2",
        "outputId": "80032594-c409-4508-829b-797352e3e53e"
      },
      "execution_count": 33,
      "outputs": [
        {
          "output_type": "execute_result",
          "data": {
            "text/plain": [
              "1100.0"
            ]
          },
          "metadata": {},
          "execution_count": 33
        }
      ]
    },
    {
      "cell_type": "code",
      "source": [
        "sum(1.1 for _ in range(1000))"
      ],
      "metadata": {
        "colab": {
          "base_uri": "https://localhost:8080/"
        },
        "id": "rv8LvuLuCoWu",
        "outputId": "5e3900d1-3723-4b74-9931-82bc06815a7f"
      },
      "execution_count": 34,
      "outputs": [
        {
          "output_type": "execute_result",
          "data": {
            "text/plain": [
              "1100.0000000000086"
            ]
          },
          "metadata": {},
          "execution_count": 34
        }
      ]
    },
    {
      "cell_type": "markdown",
      "source": [
        "If the whole point of a class is to build a generator by implementing `__iter__`, we can replace the class with a generator function. A generator function is, after all, a generator factory."
      ],
      "metadata": {
        "id": "hnyWuw66CzBF"
      }
    },
    {
      "cell_type": "code",
      "source": [
        "def aritporg_gen(begin, step, end=None):\n",
        "  result_type = type(begin + step)\n",
        "  result = result_type(begin)\n",
        "  forever = end is None\n",
        "\n",
        "  index = 0\n",
        "\n",
        "  while forever or result < end:\n",
        "    yield result\n",
        "    index += 1\n",
        "    # Why not adding cumulatively? numerical stability\n",
        "    result = begin + step * index"
      ],
      "metadata": {
        "id": "AdrrdAeXCqFq"
      },
      "execution_count": 35,
      "outputs": []
    },
    {
      "cell_type": "markdown",
      "source": [
        "But remember! There are plenty of ready-to-uses generators in the standard library\n",
        "\n",
        "### Arithemetic Progression with itertools"
      ],
      "metadata": {
        "id": "-6xQuC_6Dmxe"
      }
    },
    {
      "cell_type": "code",
      "source": [
        "import itertools\n",
        "\n",
        "gen = itertools.count(1, .5) # return a generater that yields numbers"
      ],
      "metadata": {
        "id": "PVXp9-VwDGS0"
      },
      "execution_count": 38,
      "outputs": []
    },
    {
      "cell_type": "code",
      "source": [
        "next(gen)"
      ],
      "metadata": {
        "colab": {
          "base_uri": "https://localhost:8080/"
        },
        "id": "7_vhTsvTD-lS",
        "outputId": "4a6a0e5d-fba8-45f7-c929-cf507be510c7"
      },
      "execution_count": 39,
      "outputs": [
        {
          "output_type": "execute_result",
          "data": {
            "text/plain": [
              "1"
            ]
          },
          "metadata": {},
          "execution_count": 39
        }
      ]
    },
    {
      "cell_type": "code",
      "source": [
        "next(gen)"
      ],
      "metadata": {
        "colab": {
          "base_uri": "https://localhost:8080/"
        },
        "id": "0F4d4iFdEA8V",
        "outputId": "572e493c-3b78-431c-8b82-9a108d14a435"
      },
      "execution_count": 40,
      "outputs": [
        {
          "output_type": "execute_result",
          "data": {
            "text/plain": [
              "1.5"
            ]
          },
          "metadata": {},
          "execution_count": 40
        }
      ]
    },
    {
      "cell_type": "markdown",
      "source": [
        "`itertools.takewhile` returns a generator that consumes another generator and stops when a given predicate evalutates to `False`"
      ],
      "metadata": {
        "id": "If1NlzMTEM3s"
      }
    },
    {
      "cell_type": "code",
      "source": [
        "gen = itertools.takewhile(lambda n: n < 3, itertools.count(1, .5))"
      ],
      "metadata": {
        "id": "caiqbrD_EBXE"
      },
      "execution_count": 41,
      "outputs": []
    },
    {
      "cell_type": "code",
      "source": [
        "list(gen)"
      ],
      "metadata": {
        "colab": {
          "base_uri": "https://localhost:8080/"
        },
        "id": "vhI31YajEX61",
        "outputId": "0ab95467-8a19-4447-e0e3-a6c75159cc0d"
      },
      "execution_count": 42,
      "outputs": [
        {
          "output_type": "execute_result",
          "data": {
            "text/plain": [
              "[1, 1.5, 2.0, 2.5]"
            ]
          },
          "metadata": {},
          "execution_count": 42
        }
      ]
    },
    {
      "cell_type": "code",
      "source": [
        "import itertools\n",
        "\n",
        "def aritprog_gen(begin, step, end=None):\n",
        "  first = type(begin + step)(begin)\n",
        "  ap_gen = itertools.count(first, step)\n",
        "  if end is None:\n",
        "    return ap_gen\n",
        "  return itertools.takewhile(lambda n: n < end, ap_gen)"
      ],
      "metadata": {
        "id": "fMegEBteEZSq"
      },
      "execution_count": 43,
      "outputs": []
    },
    {
      "cell_type": "markdown",
      "source": [
        "Note that aritprog_gen is not a generator function: it has no `yield` in its body. But it returns a generator, just as a generator function does."
      ],
      "metadata": {
        "id": "FCSAWApJEvia"
      }
    },
    {
      "cell_type": "markdown",
      "source": [
        "## Generator Functions in the Standard Library\n",
        "\n",
        "### 1. Filtering Generator Functions\n",
        "They yield a subset of items produced by the input iterable, without changing the items themselves."
      ],
      "metadata": {
        "id": "5R-m2GujFKRi"
      }
    },
    {
      "cell_type": "code",
      "source": [
        "def vowel(c):\n",
        "  return c.lower() in 'aeiou'"
      ],
      "metadata": {
        "id": "-g29-zEsEuNs"
      },
      "execution_count": 46,
      "outputs": []
    },
    {
      "cell_type": "code",
      "source": [
        "list(filter(vowel, 'Suwon'))"
      ],
      "metadata": {
        "colab": {
          "base_uri": "https://localhost:8080/"
        },
        "id": "80U9XTmsGRtB",
        "outputId": "40fcacbd-ee79-49a2-e882-b01558ec1a10"
      },
      "execution_count": 47,
      "outputs": [
        {
          "output_type": "execute_result",
          "data": {
            "text/plain": [
              "['u', 'o']"
            ]
          },
          "metadata": {},
          "execution_count": 47
        }
      ]
    },
    {
      "cell_type": "code",
      "source": [
        "import itertools\n",
        "list(itertools.filterfalse(vowel, 'Suwon'))"
      ],
      "metadata": {
        "colab": {
          "base_uri": "https://localhost:8080/"
        },
        "id": "kIYG3_DJGgLM",
        "outputId": "fe37ee90-a01b-49fa-d185-3f9c73526029"
      },
      "execution_count": 48,
      "outputs": [
        {
          "output_type": "execute_result",
          "data": {
            "text/plain": [
              "['S', 'w', 'n']"
            ]
          },
          "metadata": {},
          "execution_count": 48
        }
      ]
    },
    {
      "cell_type": "code",
      "source": [
        "list(itertools.dropwhile(vowel, 'Suwon'))"
      ],
      "metadata": {
        "colab": {
          "base_uri": "https://localhost:8080/"
        },
        "id": "RSQA4ULiGj9i",
        "outputId": "95afceb4-d7de-4ca3-87b3-74dbff9f9657"
      },
      "execution_count": 50,
      "outputs": [
        {
          "output_type": "execute_result",
          "data": {
            "text/plain": [
              "['S', 'u', 'w', 'o', 'n']"
            ]
          },
          "metadata": {},
          "execution_count": 50
        }
      ]
    },
    {
      "cell_type": "code",
      "source": [
        "list(itertools.takewhile(vowel, 'Suwon'))"
      ],
      "metadata": {
        "colab": {
          "base_uri": "https://localhost:8080/"
        },
        "id": "Bvz6E-9QGppF",
        "outputId": "d0f890de-8b04-4573-a674-b0c868e02423"
      },
      "execution_count": 51,
      "outputs": [
        {
          "output_type": "execute_result",
          "data": {
            "text/plain": [
              "[]"
            ]
          },
          "metadata": {},
          "execution_count": 51
        }
      ]
    },
    {
      "cell_type": "code",
      "source": [],
      "metadata": {
        "id": "spcUN-BWG7iJ"
      },
      "execution_count": null,
      "outputs": []
    }
  ]
}