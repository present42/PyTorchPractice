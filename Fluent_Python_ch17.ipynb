{
  "nbformat": 4,
  "nbformat_minor": 0,
  "metadata": {
    "colab": {
      "provenance": [],
      "authorship_tag": "ABX9TyOSLGMNquIqzxAPgi1syV2F"
    },
    "kernelspec": {
      "name": "python3",
      "display_name": "Python 3"
    },
    "language_info": {
      "name": "python"
    }
  },
  "cells": [
    {
      "cell_type": "markdown",
      "source": [
        "# Chapter 17. Iterators, Generators, and Classic Coroutines"
      ],
      "metadata": {
        "id": "53IDSe7rh6Zn"
      }
    },
    {
      "cell_type": "markdown",
      "source": [
        "## A Sequence of Words\n",
        "\n",
        "You give its constructor a string with some text, and then you can iterate word by word."
      ],
      "metadata": {
        "id": "bcUsoaedioCY"
      }
    },
    {
      "cell_type": "code",
      "source": [
        "# sentence.py\n",
        "\n",
        "import re\n",
        "import reprlib\n",
        "\n",
        "RE_WORD = re.compile(r'\\w+')\n",
        "\n",
        "class Sentence:\n",
        "\n",
        "  def __init__(self, text):\n",
        "    self.text = text\n",
        "    self.words = RE_WORD.findall(text)\n",
        "\n",
        "  def __getitem__(self, index):\n",
        "    return self.words[index]\n",
        "\n",
        "  def __len__(self):\n",
        "    return len(self.words)\n",
        "\n",
        "  def __repr__(self):\n",
        "    return 'Sentence(%s)' % reprlib.repr(self.text)\n",
        "\n"
      ],
      "metadata": {
        "id": "6_aoQqh6injY"
      },
      "execution_count": null,
      "outputs": []
    },
    {
      "cell_type": "code",
      "execution_count": null,
      "metadata": {
        "colab": {
          "base_uri": "https://localhost:8080/"
        },
        "id": "gLMhOgYbgdtX",
        "outputId": "2d7dff1f-6193-4ddd-c730-4e673a76e239"
      },
      "outputs": [
        {
          "output_type": "execute_result",
          "data": {
            "text/plain": [
              "Sentence('\"The time ha... Walrus said,')"
            ]
          },
          "metadata": {},
          "execution_count": 2
        }
      ],
      "source": [
        "s = Sentence('\"The time has come,\" the Walrus said,')\n",
        "s"
      ]
    },
    {
      "cell_type": "code",
      "source": [
        "for word in s:\n",
        "  print(word)"
      ],
      "metadata": {
        "colab": {
          "base_uri": "https://localhost:8080/"
        },
        "id": "ygTact3sjeNC",
        "outputId": "2554d6da-9d07-4f6d-d805-771083a99022"
      },
      "execution_count": null,
      "outputs": [
        {
          "output_type": "stream",
          "name": "stdout",
          "text": [
            "The\n",
            "time\n",
            "has\n",
            "come\n",
            "the\n",
            "Walrus\n",
            "said\n"
          ]
        }
      ]
    },
    {
      "cell_type": "code",
      "source": [
        "list(s)"
      ],
      "metadata": {
        "colab": {
          "base_uri": "https://localhost:8080/"
        },
        "id": "XEu9XoaojgXf",
        "outputId": "ac4d89c6-f5a3-4826-f79d-32e52c1e6c79"
      },
      "execution_count": null,
      "outputs": [
        {
          "output_type": "execute_result",
          "data": {
            "text/plain": [
              "['The', 'time', 'has', 'come', 'the', 'Walrus', 'said']"
            ]
          },
          "metadata": {},
          "execution_count": 4
        }
      ]
    },
    {
      "cell_type": "markdown",
      "source": [
        "In the following sections, we'll develop other `Sentence` classes that pass the tests in above example."
      ],
      "metadata": {
        "id": "iZ2_5GvMju4c"
      }
    },
    {
      "cell_type": "code",
      "source": [
        "s[0]"
      ],
      "metadata": {
        "colab": {
          "base_uri": "https://localhost:8080/",
          "height": 36
        },
        "id": "XBKszIh-ji9g",
        "outputId": "ae2aecad-5a3e-4b53-bd5b-50b650c0291e"
      },
      "execution_count": null,
      "outputs": [
        {
          "output_type": "execute_result",
          "data": {
            "text/plain": [
              "'The'"
            ],
            "application/vnd.google.colaboratory.intrinsic+json": {
              "type": "string"
            }
          },
          "metadata": {},
          "execution_count": 5
        }
      ]
    },
    {
      "cell_type": "code",
      "source": [
        "s[5]"
      ],
      "metadata": {
        "colab": {
          "base_uri": "https://localhost:8080/",
          "height": 36
        },
        "id": "YOcCs0m8j3Do",
        "outputId": "85395e1b-bb8a-47b1-d06c-4c73f32511e1"
      },
      "execution_count": null,
      "outputs": [
        {
          "output_type": "execute_result",
          "data": {
            "text/plain": [
              "'Walrus'"
            ],
            "application/vnd.google.colaboratory.intrinsic+json": {
              "type": "string"
            }
          },
          "metadata": {},
          "execution_count": 6
        }
      ]
    },
    {
      "cell_type": "code",
      "source": [
        "s[-1]"
      ],
      "metadata": {
        "colab": {
          "base_uri": "https://localhost:8080/",
          "height": 36
        },
        "id": "uJR-ID_kj3Vo",
        "outputId": "794d1263-62f0-4073-b6aa-87ba7d0efe5b"
      },
      "execution_count": null,
      "outputs": [
        {
          "output_type": "execute_result",
          "data": {
            "text/plain": [
              "'said'"
            ],
            "application/vnd.google.colaboratory.intrinsic+json": {
              "type": "string"
            }
          },
          "metadata": {},
          "execution_count": 7
        }
      ]
    },
    {
      "cell_type": "markdown",
      "source": [
        "## Why Sequences Are Iterable: The `iter` function\n",
        "\n",
        "Whenever Python needs to iterate over an object `x`, it automatically calls `iter(x)`\n",
        "\n",
        "The `iter` built-in fcn:\n",
        " 1. Checks whether the object implements `__iter__` and calls that to obtain an iterator\n",
        " 2. Otherwise, but if `__getitem__` is implemented, then `iter()` creates an iterator that tries to fetch items by index, starting from 0.\n",
        " 3. If that fails, Python raises `TypeError`, usually saying 'C' object is not iterable, where C is the class of the target obj."
      ],
      "metadata": {
        "id": "OwIVraeKj6yH"
      }
    },
    {
      "cell_type": "code",
      "source": [
        "class Spam:\n",
        "  def __getitem__(self, i):\n",
        "    print('->', i)\n",
        "    raise IndexError()"
      ],
      "metadata": {
        "id": "WNdE9vwZj3ux"
      },
      "execution_count": null,
      "outputs": []
    },
    {
      "cell_type": "code",
      "source": [
        "spam_can = Spam()\n",
        "iter(spam_can)"
      ],
      "metadata": {
        "colab": {
          "base_uri": "https://localhost:8080/"
        },
        "id": "0mABXtvykqET",
        "outputId": "928699f7-2b55-4361-f34d-7d612b68b8e5"
      },
      "execution_count": null,
      "outputs": [
        {
          "output_type": "execute_result",
          "data": {
            "text/plain": [
              "<iterator at 0x7efb25334850>"
            ]
          },
          "metadata": {},
          "execution_count": 9
        }
      ]
    },
    {
      "cell_type": "code",
      "source": [
        "list(spam_can)"
      ],
      "metadata": {
        "colab": {
          "base_uri": "https://localhost:8080/"
        },
        "id": "ZgeaqmFNkscI",
        "outputId": "00f1a4e7-535e-471f-e564-0c235dfc0bd4"
      },
      "execution_count": null,
      "outputs": [
        {
          "output_type": "stream",
          "name": "stdout",
          "text": [
            "-> 0\n"
          ]
        },
        {
          "output_type": "execute_result",
          "data": {
            "text/plain": [
              "[]"
            ]
          },
          "metadata": {},
          "execution_count": 10
        }
      ]
    },
    {
      "cell_type": "markdown",
      "source": [
        "In goose typing approach, the defintion for an iterable is simpler but not as flexible: an obj is considered iterable if it implements the `__iter__` method."
      ],
      "metadata": {
        "id": "vTWymdZFlSfe"
      }
    },
    {
      "cell_type": "code",
      "source": [
        "from collections import abc\n",
        "isinstance(spam_can, abc.Iterable)"
      ],
      "metadata": {
        "colab": {
          "base_uri": "https://localhost:8080/"
        },
        "id": "X4YIKZfBkt7K",
        "outputId": "7b89ad71-780c-4091-c902-74c78ab5052a"
      },
      "execution_count": null,
      "outputs": [
        {
          "output_type": "execute_result",
          "data": {
            "text/plain": [
              "False"
            ]
          },
          "metadata": {},
          "execution_count": 11
        }
      ]
    },
    {
      "cell_type": "markdown",
      "source": [
        "### Using `iter` with Callable\n",
        "\n",
        "We can call `iter` with two arguments to create an iterator from a fcn or any callable obj. In this usage, the first argument must be a callable to be invoked repeatedly to produce values, and the second argument is a `sentinel`"
      ],
      "metadata": {
        "id": "WaF-qlHRlxbu"
      }
    },
    {
      "cell_type": "code",
      "source": [
        "from random import randint\n",
        "\n",
        "def d6():\n",
        "  return randint(1, 6)"
      ],
      "metadata": {
        "id": "Zpf4tGTjk4PJ"
      },
      "execution_count": null,
      "outputs": []
    },
    {
      "cell_type": "code",
      "source": [
        "d6_iter = iter(d6, 1) #"
      ],
      "metadata": {
        "id": "gU-z5ezyl31q"
      },
      "execution_count": null,
      "outputs": []
    },
    {
      "cell_type": "code",
      "source": [
        "d6_iter"
      ],
      "metadata": {
        "colab": {
          "base_uri": "https://localhost:8080/"
        },
        "id": "h78qJWM-mLqp",
        "outputId": "f89b06e1-f47d-463d-9ad7-93f1a0a70d4f"
      },
      "execution_count": null,
      "outputs": [
        {
          "output_type": "execute_result",
          "data": {
            "text/plain": [
              "<callable_iterator at 0x7efb25334160>"
            ]
          },
          "metadata": {},
          "execution_count": 24
        }
      ]
    },
    {
      "cell_type": "code",
      "source": [
        "for roll in d6_iter:\n",
        "  print(roll)"
      ],
      "metadata": {
        "colab": {
          "base_uri": "https://localhost:8080/"
        },
        "id": "uyV5JCM6mMG5",
        "outputId": "b7dd9029-2299-4177-e872-93af050ace83"
      },
      "execution_count": null,
      "outputs": [
        {
          "output_type": "stream",
          "name": "stdout",
          "text": [
            "3\n",
            "2\n",
            "2\n",
            "2\n",
            "2\n",
            "2\n",
            "2\n",
            "5\n",
            "3\n",
            "6\n",
            "5\n",
            "4\n",
            "4\n"
          ]
        }
      ]
    },
    {
      "cell_type": "markdown",
      "source": [
        "Note that the `iter` function here returns a `callable_iterator`. As usual with iterators, the `d6_iter` object becomes useless once exhausted."
      ],
      "metadata": {
        "id": "cM0L0svVmYcl"
      }
    },
    {
      "cell_type": "code",
      "source": [
        "from functools import partial\n",
        "\n",
        "with open('mydata.db', 'rb') as f:\n",
        "  read64 = partial(f.read, 64)\n",
        "  for block in iter(read64, b''):\n",
        "    process_block(block)"
      ],
      "metadata": {
        "id": "Cd_XEPcpmPCA"
      },
      "execution_count": null,
      "outputs": []
    },
    {
      "cell_type": "markdown",
      "source": [
        "## Iterables Verses Iterators\n",
        "\n",
        "> *iterable* \\\n",
        "Any object from which the `iter` built-in fcn can obtain an iterator. Objects implementing an `__iter__` method returning an iterator are iterable. Sequences are always iterable, as are objects implementing a `__getitem__` method that accepts 0-based indexes\n",
        "\n",
        "\n",
        "Python obtains iterator from iterables."
      ],
      "metadata": {
        "id": "-DaYx_ekm4RT"
      }
    },
    {
      "cell_type": "code",
      "source": [
        "s = 'ABC' # iterable\n",
        "for char in s: # iterator behind the scene\n",
        "  print(char)"
      ],
      "metadata": {
        "colab": {
          "base_uri": "https://localhost:8080/"
        },
        "id": "i4Va7nFym3sy",
        "outputId": "af68e132-2649-474b-9e2d-478be85a42aa"
      },
      "execution_count": null,
      "outputs": [
        {
          "output_type": "stream",
          "name": "stdout",
          "text": [
            "A\n",
            "B\n",
            "C\n"
          ]
        }
      ]
    },
    {
      "cell_type": "code",
      "source": [
        "s = 'ABC'\n",
        "it = iter(s)\n",
        "while True:\n",
        "  try:\n",
        "    print(next(it))\n",
        "  except StopIteration:\n",
        "    del it # release ref to `it`\n",
        "    break"
      ],
      "metadata": {
        "colab": {
          "base_uri": "https://localhost:8080/"
        },
        "id": "8KfSHl2YnaWp",
        "outputId": "8656fe25-16da-4182-a630-bddeb3604a16"
      },
      "execution_count": null,
      "outputs": [
        {
          "output_type": "stream",
          "name": "stdout",
          "text": [
            "A\n",
            "B\n",
            "C\n"
          ]
        }
      ]
    },
    {
      "cell_type": "markdown",
      "source": [
        "Python's standard interface for an iterator has two methods:\n",
        " -`__next__` return the next item in the series, raising `StopIteration` if there are no more.\n",
        " -`__iter__` return self; this allows iterators to be used where an iterable is expected, for example in a `for` loop"
      ],
      "metadata": {
        "id": "wCemCfYAnn1N"
      }
    },
    {
      "cell_type": "code",
      "source": [
        "s = \"ABC\"\n",
        "for char in s:\n",
        "  print(char)"
      ],
      "metadata": {
        "colab": {
          "base_uri": "https://localhost:8080/"
        },
        "id": "f5keDBz2oMHw",
        "outputId": "31b435bd-e2f7-4a75-9587-e3c979f0faf7"
      },
      "execution_count": null,
      "outputs": [
        {
          "output_type": "stream",
          "name": "stdout",
          "text": [
            "A\n",
            "B\n",
            "C\n"
          ]
        }
      ]
    },
    {
      "cell_type": "code",
      "source": [
        "s = iter(\"ABC\")\n",
        "for char in s: # iter(s) == s\n",
        "  print(char)"
      ],
      "metadata": {
        "colab": {
          "base_uri": "https://localhost:8080/"
        },
        "id": "m2y_mqn3nXSS",
        "outputId": "afcc9f5d-136d-4bb1-b442-a92a9138be9c"
      },
      "execution_count": null,
      "outputs": [
        {
          "output_type": "stream",
          "name": "stdout",
          "text": [
            "A\n",
            "B\n",
            "C\n"
          ]
        }
      ]
    },
    {
      "cell_type": "code",
      "source": [
        "iter(s) is s"
      ],
      "metadata": {
        "colab": {
          "base_uri": "https://localhost:8080/"
        },
        "id": "O-ReYhsxoKwB",
        "outputId": "99bfd859-0a1b-40a4-96dc-626a51a5e5ee"
      },
      "execution_count": null,
      "outputs": [
        {
          "output_type": "execute_result",
          "data": {
            "text/plain": [
              "True"
            ]
          },
          "metadata": {},
          "execution_count": 33
        }
      ]
    },
    {
      "cell_type": "code",
      "source": [
        "s3 = Sentence('Life of Brain')\n",
        "it = iter(s3)"
      ],
      "metadata": {
        "id": "FeS5Q_7xoWA5"
      },
      "execution_count": null,
      "outputs": []
    },
    {
      "cell_type": "code",
      "source": [
        "it"
      ],
      "metadata": {
        "colab": {
          "base_uri": "https://localhost:8080/"
        },
        "id": "cmuDN-vQo4wa",
        "outputId": "89938ea6-9c2e-48e3-ff0e-34580da04961"
      },
      "execution_count": null,
      "outputs": [
        {
          "output_type": "execute_result",
          "data": {
            "text/plain": [
              "<iterator at 0x7efb53f98ee0>"
            ]
          },
          "metadata": {},
          "execution_count": 36
        }
      ]
    },
    {
      "cell_type": "code",
      "source": [
        "next(it)"
      ],
      "metadata": {
        "colab": {
          "base_uri": "https://localhost:8080/",
          "height": 36
        },
        "id": "Z2BVkLSIo45D",
        "outputId": "93fa1a4a-1fd7-4f84-958d-3a1ddc82d943"
      },
      "execution_count": null,
      "outputs": [
        {
          "output_type": "execute_result",
          "data": {
            "text/plain": [
              "'Life'"
            ],
            "application/vnd.google.colaboratory.intrinsic+json": {
              "type": "string"
            }
          },
          "metadata": {},
          "execution_count": 37
        }
      ]
    },
    {
      "cell_type": "code",
      "source": [
        "next(it)"
      ],
      "metadata": {
        "colab": {
          "base_uri": "https://localhost:8080/",
          "height": 36
        },
        "id": "Q6AAaCz0o7ex",
        "outputId": "8b6dcf6c-ad75-4d7d-bde3-a85d3d717a2c"
      },
      "execution_count": null,
      "outputs": [
        {
          "output_type": "execute_result",
          "data": {
            "text/plain": [
              "'of'"
            ],
            "application/vnd.google.colaboratory.intrinsic+json": {
              "type": "string"
            }
          },
          "metadata": {},
          "execution_count": 38
        }
      ]
    },
    {
      "cell_type": "code",
      "source": [
        "next(it)"
      ],
      "metadata": {
        "colab": {
          "base_uri": "https://localhost:8080/",
          "height": 36
        },
        "id": "Clttxb_bo73w",
        "outputId": "03871859-41ec-4cec-a399-5def7a809df3"
      },
      "execution_count": null,
      "outputs": [
        {
          "output_type": "execute_result",
          "data": {
            "text/plain": [
              "'Brain'"
            ],
            "application/vnd.google.colaboratory.intrinsic+json": {
              "type": "string"
            }
          },
          "metadata": {},
          "execution_count": 39
        }
      ]
    },
    {
      "cell_type": "code",
      "source": [
        "next(it)"
      ],
      "metadata": {
        "colab": {
          "base_uri": "https://localhost:8080/",
          "height": 149
        },
        "id": "3NQjrD6To8W6",
        "outputId": "6c5004fb-ee7c-408f-d412-f31afa892bc9"
      },
      "execution_count": null,
      "outputs": [
        {
          "output_type": "error",
          "ename": "StopIteration",
          "evalue": "",
          "traceback": [
            "\u001b[0;31m---------------------------------------------------------------------------\u001b[0m",
            "\u001b[0;31mStopIteration\u001b[0m                             Traceback (most recent call last)",
            "\u001b[0;32m<ipython-input-40-bc1ab118995a>\u001b[0m in \u001b[0;36m<cell line: 1>\u001b[0;34m()\u001b[0m\n\u001b[0;32m----> 1\u001b[0;31m \u001b[0mnext\u001b[0m\u001b[0;34m(\u001b[0m\u001b[0mit\u001b[0m\u001b[0;34m)\u001b[0m\u001b[0;34m\u001b[0m\u001b[0;34m\u001b[0m\u001b[0m\n\u001b[0m",
            "\u001b[0;31mStopIteration\u001b[0m: "
          ]
        }
      ]
    },
    {
      "cell_type": "code",
      "source": [
        "list(it) # Once exhausted, an iterable will always raise `StopIteration`"
      ],
      "metadata": {
        "colab": {
          "base_uri": "https://localhost:8080/"
        },
        "id": "oYQtLWgqo835",
        "outputId": "9af00ad7-d363-40ef-ad01-f09f991a9b67"
      },
      "execution_count": null,
      "outputs": [
        {
          "output_type": "execute_result",
          "data": {
            "text/plain": [
              "[]"
            ]
          },
          "metadata": {},
          "execution_count": 41
        }
      ]
    },
    {
      "cell_type": "code",
      "source": [
        "list(iter(s3))"
      ],
      "metadata": {
        "colab": {
          "base_uri": "https://localhost:8080/"
        },
        "id": "GR5Yhfaoo96p",
        "outputId": "0024e2a2-4324-4771-e133-5133b10c919b"
      },
      "execution_count": null,
      "outputs": [
        {
          "output_type": "execute_result",
          "data": {
            "text/plain": [
              "['Life', 'of', 'Brain']"
            ]
          },
          "metadata": {},
          "execution_count": 42
        }
      ]
    },
    {
      "cell_type": "markdown",
      "source": [
        "`Sentence` implemented using the Iterator pattern"
      ],
      "metadata": {
        "id": "gV_OziAAphmP"
      }
    },
    {
      "cell_type": "code",
      "source": [
        "# sentence_iter.py\n",
        "\n",
        "\n",
        "import re\n",
        "import reprlib\n",
        "\n",
        "RE_WORD = re.compile(r'\\w+')\n",
        "\n",
        "class Sentence:\n",
        "\n",
        "  def __init__(self, text):\n",
        "    self.text = text\n",
        "    self.words = RE_WORD.findall(text)\n",
        "\n",
        "  def __repr__(self):\n",
        "    return 'Sentence(%s)' % reprlib.repr(self.text)\n",
        "\n",
        "  def __iter__(self):\n",
        "    return SentenceIterator(self.words)\n",
        "\n",
        "class SentenceIterator:\n",
        "\n",
        "  def __init__(self, words):\n",
        "    self.words = words\n",
        "    self.index = 0\n",
        "\n",
        "  def __next__(self):\n",
        "    try:\n",
        "      word = self.words[self.index]\n",
        "    except IndexError:\n",
        "      raise StopIteration()\n",
        "    self.index += 1\n",
        "    return word\n",
        "\n",
        "  def __iter__(self):\n",
        "    return self"
      ],
      "metadata": {
        "id": "1D8VP02qo-0x"
      },
      "execution_count": null,
      "outputs": []
    },
    {
      "cell_type": "code",
      "source": [
        "s = Sentence('\"The time has come,\" the Walrus said,')"
      ],
      "metadata": {
        "id": "k4P3J6jxqJPy"
      },
      "execution_count": null,
      "outputs": []
    },
    {
      "cell_type": "code",
      "source": [
        "s"
      ],
      "metadata": {
        "colab": {
          "base_uri": "https://localhost:8080/"
        },
        "id": "CVs11l-uqQTy",
        "outputId": "b71e7b8c-4d1e-48f8-ded7-25eb02c5f2fa"
      },
      "execution_count": null,
      "outputs": [
        {
          "output_type": "execute_result",
          "data": {
            "text/plain": [
              "Sentence('\"The time ha... Walrus said,')"
            ]
          },
          "metadata": {},
          "execution_count": 45
        }
      ]
    },
    {
      "cell_type": "code",
      "source": [
        "for word in s:\n",
        "  print(word)"
      ],
      "metadata": {
        "colab": {
          "base_uri": "https://localhost:8080/"
        },
        "id": "4GUZRYGlqRSA",
        "outputId": "887983dd-0444-4b86-a1fc-0e15e971b31b"
      },
      "execution_count": null,
      "outputs": [
        {
          "output_type": "stream",
          "name": "stdout",
          "text": [
            "The\n",
            "time\n",
            "has\n",
            "come\n",
            "the\n",
            "Walrus\n",
            "said\n"
          ]
        }
      ]
    },
    {
      "cell_type": "code",
      "source": [
        "list(s)"
      ],
      "metadata": {
        "colab": {
          "base_uri": "https://localhost:8080/"
        },
        "id": "dvgGS8T4qSM4",
        "outputId": "8d518b3a-4f4d-4c6c-fbda-b2bfdd5dd6db"
      },
      "execution_count": null,
      "outputs": [
        {
          "output_type": "execute_result",
          "data": {
            "text/plain": [
              "['The', 'time', 'has', 'come', 'the', 'Walrus', 'said']"
            ]
          },
          "metadata": {},
          "execution_count": 47
        }
      ]
    },
    {
      "cell_type": "code",
      "source": [
        "isinstance(s, abc.Iterable)"
      ],
      "metadata": {
        "colab": {
          "base_uri": "https://localhost:8080/"
        },
        "id": "BpPIWtqWqT6Y",
        "outputId": "4db1b536-366d-497c-ad9a-c124ddcf908f"
      },
      "execution_count": null,
      "outputs": [
        {
          "output_type": "execute_result",
          "data": {
            "text/plain": [
              "True"
            ]
          },
          "metadata": {},
          "execution_count": 49
        }
      ]
    },
    {
      "cell_type": "markdown",
      "source": [
        "### **Don't Make the Iterable an Iterator for Itself**"
      ],
      "metadata": {
        "id": "UKBRU5Lsql7s"
      }
    },
    {
      "cell_type": "markdown",
      "source": [
        "i.e., Don't implement `__next__` in addition to `__iter__` in the `Sentence` class."
      ],
      "metadata": {
        "id": "1dVC1oD0q6ny"
      }
    },
    {
      "cell_type": "markdown",
      "source": [
        "Use the Iterator pattern\n",
        " - to access an aggregate obj's contents w/o exposing its internal repr.\n",
        " - to support multiple traversals of aggregated objs.\n",
        " - to provide a uniform interface for traversing different aggregate structures\n",
        "\n",
        "To \"support multiple traversals\" it must be possible to obtain multiple indep. iterators form teh same iterable instance."
      ],
      "metadata": {
        "id": "hOT0Ik3KrMIJ"
      }
    },
    {
      "cell_type": "code",
      "source": [
        "# sentence_gen.py\n",
        "\n",
        "\n",
        "import re\n",
        "import reprlib\n",
        "\n",
        "RE_WORD = re.compile(r'\\w+')\n",
        "\n",
        "class Sentence:\n",
        "\n",
        "  def __init__(self, text):\n",
        "    self.text = text\n",
        "    self.words = RE_WORD.findall(text)\n",
        "\n",
        "  def __repr__(self):\n",
        "    return 'Sentence(%s)' % reprlib.repr(self.text)\n",
        "\n",
        "  def __iter__(self):\n",
        "    for word in self.words:\n",
        "      yield word\n",
        "    # explicit return is not necessary"
      ],
      "metadata": {
        "id": "iM2mUbZcq51K"
      },
      "execution_count": null,
      "outputs": []
    },
    {
      "cell_type": "markdown",
      "source": [
        "Now the iterator in the above example is in fact a generator object, built automatically when the `__iter__` method is called, because `__iter__` here is a generator function."
      ],
      "metadata": {
        "id": "FsUkqJ79sJl1"
      }
    },
    {
      "cell_type": "markdown",
      "source": [
        "## How a Generator Works\n",
        "\n",
        "Any Python fcn that has the `yield` keyword in its body is a generator function: a function which, when called, returns a generator obj (i.e. generator factory)"
      ],
      "metadata": {
        "id": "4lX20jkLsc2U"
      }
    },
    {
      "cell_type": "code",
      "source": [
        "def gen_123():\n",
        "  yield 1\n",
        "  yield 2\n",
        "  yield 3"
      ],
      "metadata": {
        "id": "1EjRh9OSqXfB"
      },
      "execution_count": null,
      "outputs": []
    },
    {
      "cell_type": "code",
      "source": [
        "gen_123"
      ],
      "metadata": {
        "colab": {
          "base_uri": "https://localhost:8080/",
          "height": 103
        },
        "id": "J3ybph7hsw04",
        "outputId": "f940e331-2cba-4a15-b623-08f50958013e"
      },
      "execution_count": null,
      "outputs": [
        {
          "output_type": "execute_result",
          "data": {
            "text/plain": [
              "<function __main__.gen_123()>"
            ],
            "text/html": [
              "<div style=\"max-width:800px; border: 1px solid var(--colab-border-color);\"><style>\n",
              "      pre.function-repr-contents {\n",
              "        overflow-x: auto;\n",
              "        padding: 8px 12px;\n",
              "        max-height: 500px;\n",
              "      }\n",
              "\n",
              "      pre.function-repr-contents.function-repr-contents-collapsed {\n",
              "        cursor: pointer;\n",
              "        max-height: 100px;\n",
              "      }\n",
              "    </style>\n",
              "    <pre style=\"white-space: initial; background:\n",
              "         var(--colab-secondary-surface-color); padding: 8px 12px;\n",
              "         border-bottom: 1px solid var(--colab-border-color);\"><b>gen_123</b><br/>def gen_123()</pre><pre class=\"function-repr-contents function-repr-contents-collapsed\" style=\"\"><a class=\"filepath\" style=\"display:none\" href=\"#\">/content/&lt;ipython-input-50-ece716d6c0d8&gt;</a>&lt;no docstring&gt;</pre></div>"
            ]
          },
          "metadata": {},
          "execution_count": 51
        }
      ]
    },
    {
      "cell_type": "markdown",
      "source": [
        "Generator objects implement the `Iterator` interface, so they are also iterable."
      ],
      "metadata": {
        "id": "Gt4-z8rwtAXi"
      }
    },
    {
      "cell_type": "code",
      "source": [
        "gen_123()"
      ],
      "metadata": {
        "colab": {
          "base_uri": "https://localhost:8080/"
        },
        "id": "Te8vbj7YsxRB",
        "outputId": "933797f0-722d-4726-ce2f-93e6c71a94dd"
      },
      "execution_count": null,
      "outputs": [
        {
          "output_type": "execute_result",
          "data": {
            "text/plain": [
              "<generator object gen_123 at 0x7efb25289c40>"
            ]
          },
          "metadata": {},
          "execution_count": 52
        }
      ]
    },
    {
      "cell_type": "code",
      "source": [
        "for i in gen_123():\n",
        "  print(i)"
      ],
      "metadata": {
        "colab": {
          "base_uri": "https://localhost:8080/"
        },
        "id": "ilRp01sUszXD",
        "outputId": "2b579132-985a-4137-bae1-08a8d7d861f0"
      },
      "execution_count": null,
      "outputs": [
        {
          "output_type": "stream",
          "name": "stdout",
          "text": [
            "1\n",
            "2\n",
            "3\n"
          ]
        }
      ]
    },
    {
      "cell_type": "code",
      "source": [
        "isinstance(g, abc.Iterator)"
      ],
      "metadata": {
        "colab": {
          "base_uri": "https://localhost:8080/"
        },
        "id": "w8INNmBOtIDZ",
        "outputId": "be8435d3-312d-4ccb-ad15-4084f6e5ce24"
      },
      "execution_count": null,
      "outputs": [
        {
          "output_type": "execute_result",
          "data": {
            "text/plain": [
              "True"
            ]
          },
          "metadata": {},
          "execution_count": 58
        }
      ]
    },
    {
      "cell_type": "code",
      "source": [
        "g = gen_123()\n",
        "next(g)"
      ],
      "metadata": {
        "colab": {
          "base_uri": "https://localhost:8080/"
        },
        "id": "tayMim12s1mR",
        "outputId": "ba5c420d-ee0c-42c9-d522-a0c2d1ac0898"
      },
      "execution_count": null,
      "outputs": [
        {
          "output_type": "execute_result",
          "data": {
            "text/plain": [
              "1"
            ]
          },
          "metadata": {},
          "execution_count": 54
        }
      ]
    },
    {
      "cell_type": "code",
      "source": [
        "next(g)"
      ],
      "metadata": {
        "colab": {
          "base_uri": "https://localhost:8080/"
        },
        "id": "XfxBqNKKs4cR",
        "outputId": "d2d93cb4-bd0e-4197-eef7-3a33a771d047"
      },
      "execution_count": null,
      "outputs": [
        {
          "output_type": "execute_result",
          "data": {
            "text/plain": [
              "2"
            ]
          },
          "metadata": {},
          "execution_count": 55
        }
      ]
    },
    {
      "cell_type": "code",
      "source": [
        "next(g)"
      ],
      "metadata": {
        "colab": {
          "base_uri": "https://localhost:8080/"
        },
        "id": "BS9r7QKqs5eJ",
        "outputId": "4263a441-a1a5-47ca-9197-c2168bf285c4"
      },
      "execution_count": null,
      "outputs": [
        {
          "output_type": "execute_result",
          "data": {
            "text/plain": [
              "3"
            ]
          },
          "metadata": {},
          "execution_count": 56
        }
      ]
    },
    {
      "cell_type": "code",
      "source": [
        "next(g)"
      ],
      "metadata": {
        "colab": {
          "base_uri": "https://localhost:8080/",
          "height": 149
        },
        "id": "mumo6KtWs5xQ",
        "outputId": "d70c064f-62fd-488f-971b-d33f3e818006"
      },
      "execution_count": null,
      "outputs": [
        {
          "output_type": "error",
          "ename": "StopIteration",
          "evalue": "",
          "traceback": [
            "\u001b[0;31m---------------------------------------------------------------------------\u001b[0m",
            "\u001b[0;31mStopIteration\u001b[0m                             Traceback (most recent call last)",
            "\u001b[0;32m<ipython-input-57-e734f8aca5ac>\u001b[0m in \u001b[0;36m<cell line: 1>\u001b[0;34m()\u001b[0m\n\u001b[0;32m----> 1\u001b[0;31m \u001b[0mnext\u001b[0m\u001b[0;34m(\u001b[0m\u001b[0mg\u001b[0m\u001b[0;34m)\u001b[0m\u001b[0;34m\u001b[0m\u001b[0;34m\u001b[0m\u001b[0m\n\u001b[0m",
            "\u001b[0;31mStopIteration\u001b[0m: "
          ]
        }
      ]
    },
    {
      "cell_type": "code",
      "source": [
        "def gen_AB():\n",
        "  print('start')\n",
        "  yield 'A'\n",
        "  print('continue')\n",
        "  yield 'B'\n",
        "  print('end.')\n"
      ],
      "metadata": {
        "id": "-iWTj_4ss68h"
      },
      "execution_count": null,
      "outputs": []
    },
    {
      "cell_type": "markdown",
      "source": [
        "To iterate, `for` machinery does the equivalent of `g = iter(gen_AB())` to get a generator object, and then `next(g)` at each iteration"
      ],
      "metadata": {
        "id": "SeHq7ojmuFc_"
      }
    },
    {
      "cell_type": "code",
      "source": [
        "for c in gen_AB():\n",
        "  print('-->', c)\n",
        "\n",
        "# expected:\n",
        "# start\n",
        "# --> A\n",
        "# continue\n",
        "# --> B\n",
        "# end\n"
      ],
      "metadata": {
        "colab": {
          "base_uri": "https://localhost:8080/"
        },
        "id": "neVRtD7Gtj-Z",
        "outputId": "e6836094-9da8-46a7-e4f9-330e848175b2"
      },
      "execution_count": null,
      "outputs": [
        {
          "output_type": "stream",
          "name": "stdout",
          "text": [
            "start\n",
            "--> A\n",
            "continue\n",
            "--> B\n",
            "end.\n"
          ]
        }
      ]
    },
    {
      "cell_type": "markdown",
      "source": [
        "## Lazy Sentences"
      ],
      "metadata": {
        "id": "m19d6YkD3JWY"
      }
    },
    {
      "cell_type": "markdown",
      "source": [
        "`Iterator` interface is designed to be lazy: `next(my_iterator)` yields one item at a time. The opposite of lazy is eager.\n",
        "\n",
        "Our `Sentence` implementation has not been lazy because the `__init__` eagerly builds a list of all words in the text, binding it to the `self.words` attributes."
      ],
      "metadata": {
        "id": "9gqXNYug3LXz"
      }
    },
    {
      "cell_type": "code",
      "source": [
        "# sentence_gen2.py\n",
        "\n",
        "\n",
        "import re\n",
        "import reprlib\n",
        "\n",
        "RE_WORD = re.compile(r'\\w+')\n",
        "\n",
        "class Sentence:\n",
        "\n",
        "  def __init__(self, text):\n",
        "    self.text = text\n",
        "    # self.words = RE_WORD.findall(text) - need to process all words\n",
        "\n",
        "\n",
        "  def __repr__(self):\n",
        "    return 'Sentence(%s)' % reprlib.repr(self.text)\n",
        "\n",
        "  def __iter__(self):\n",
        "    # finditer builds an iterator over the matches of\n",
        "    # RE_WORD on self.text, yielding MatchObject instances\n",
        "    for matched in RE_WORD.finditer(self.text):\n",
        "      # match.group() extracts the matched text from\n",
        "      # the MatchObject instance\n",
        "      yield matched.group()"
      ],
      "metadata": {
        "id": "NKLWkTHvtm8y"
      },
      "execution_count": null,
      "outputs": []
    },
    {
      "cell_type": "markdown",
      "source": [
        "### Lazy Generator Expression"
      ],
      "metadata": {
        "id": "h6QyltTT54d3"
      }
    },
    {
      "cell_type": "code",
      "source": [
        "# generator function\n",
        "def gen_AB():\n",
        "  print('start')\n",
        "  yield 'A'\n",
        "  print(\"continue\")\n",
        "  yield 'B'\n",
        "  print('end')"
      ],
      "metadata": {
        "id": "lyCasKpX4gnd"
      },
      "execution_count": null,
      "outputs": []
    },
    {
      "cell_type": "code",
      "source": [
        "res1 = [x * 3 for x in gen_AB()]"
      ],
      "metadata": {
        "colab": {
          "base_uri": "https://localhost:8080/"
        },
        "id": "l9Teg3a65Ub5",
        "outputId": "10fe6c76-5121-4086-96a9-5c4061cc65d7"
      },
      "execution_count": null,
      "outputs": [
        {
          "output_type": "stream",
          "name": "stdout",
          "text": [
            "start\n",
            "continue\n",
            "end\n"
          ]
        }
      ]
    },
    {
      "cell_type": "code",
      "source": [
        "for i in res1:\n",
        "  print('-->', i)"
      ],
      "metadata": {
        "colab": {
          "base_uri": "https://localhost:8080/"
        },
        "id": "GOQCqwvQ6K1t",
        "outputId": "21bb32bb-866f-43c5-dcf9-5d4365100357"
      },
      "execution_count": null,
      "outputs": [
        {
          "output_type": "stream",
          "name": "stdout",
          "text": [
            "--> AAA\n",
            "--> BBB\n"
          ]
        }
      ]
    },
    {
      "cell_type": "code",
      "source": [
        "res2 = (x*3 for x in gen_AB())\n",
        "res2"
      ],
      "metadata": {
        "colab": {
          "base_uri": "https://localhost:8080/"
        },
        "id": "rq7qnOU06QXS",
        "outputId": "7ce973b2-a83c-48d4-a19f-4ea2466414ae"
      },
      "execution_count": null,
      "outputs": [
        {
          "output_type": "execute_result",
          "data": {
            "text/plain": [
              "<generator object <genexpr> at 0x78fb866f3680>"
            ]
          },
          "metadata": {},
          "execution_count": 11
        }
      ]
    },
    {
      "cell_type": "code",
      "source": [
        "res2"
      ],
      "metadata": {
        "colab": {
          "base_uri": "https://localhost:8080/"
        },
        "id": "KJYHSTrM6a85",
        "outputId": "d3032d31-6f19-4180-8040-2028aae99466"
      },
      "execution_count": null,
      "outputs": [
        {
          "output_type": "execute_result",
          "data": {
            "text/plain": [
              "<generator object <genexpr> at 0x78fb866f3680>"
            ]
          },
          "metadata": {},
          "execution_count": 12
        }
      ]
    },
    {
      "cell_type": "code",
      "source": [
        "for i in res2:\n",
        "  print('-->', i)"
      ],
      "metadata": {
        "colab": {
          "base_uri": "https://localhost:8080/"
        },
        "id": "yEYeY0Nv6dsH",
        "outputId": "9d76f8fe-083a-4158-84d6-a6fbb3628dc5"
      },
      "execution_count": null,
      "outputs": [
        {
          "output_type": "stream",
          "name": "stdout",
          "text": [
            "start\n",
            "--> AAA\n",
            "continue\n",
            "--> BBB\n",
            "end\n"
          ]
        }
      ]
    },
    {
      "cell_type": "code",
      "source": [
        "# sentence_genexp.py\n",
        "\n",
        "import re\n",
        "import reprlib\n",
        "\n",
        "RE_WORD = re.compile(r'\\w+')\n",
        "\n",
        "class Sentence:\n",
        "\n",
        "  def __init__(self, text):\n",
        "    self.text = text\n",
        "    # self.words = RE_WORD.findall(text) - need to process all words\n",
        "\n",
        "\n",
        "  def __repr__(self):\n",
        "    return 'Sentence(%s)' % reprlib.repr(self.text)\n",
        "\n",
        "  def __iter__(self):\n",
        "    # finditer builds an iterator over the matches of\n",
        "    # RE_WORD on self.text, yielding MatchObject instances\n",
        "    return (matched.group() for matched in RE_WORD.finditer(self.text))"
      ],
      "metadata": {
        "id": "8jSKYLBn63oP"
      },
      "execution_count": null,
      "outputs": []
    },
    {
      "cell_type": "markdown",
      "source": [
        "# When to Use Generator Expressions"
      ],
      "metadata": {
        "id": "wSRHVVSe8fVr"
      }
    },
    {
      "cell_type": "markdown",
      "source": [
        "*iterator*\n",
        " - General term for any object that implements `__next__` method. Iterators are designed to prodcue data that is consumed by the client code, i.e., the code that drives the iterator via a `for` loop or other iterative feature, or by explicitly calling `next(it)` on the iterator. In practice, most iterators we use in Python are *generators*.\n",
        "\n",
        "*generator*\n",
        " - An iterator built by the Python compiler. To create a generator, we don't implement `__next__` method. instead, we use the `yield` keyword to make a *generator* function, which is a factory of *generator objects*. A *generator expression* is another way to build a generator object. Generator objects provide *__next__*, so they are iterators."
      ],
      "metadata": {
        "id": "e-MNAh_V-bA-"
      }
    },
    {
      "cell_type": "code",
      "source": [
        "def g(): # generator fcn\n",
        "  yield 0"
      ],
      "metadata": {
        "id": "qzinno047vKd"
      },
      "execution_count": null,
      "outputs": []
    },
    {
      "cell_type": "code",
      "source": [
        "g() # generator obj (iterator) created by generator fcn"
      ],
      "metadata": {
        "colab": {
          "base_uri": "https://localhost:8080/"
        },
        "id": "dQDKQsdq_e74",
        "outputId": "054bcc56-2b82-4a02-da22-4d766c543620"
      },
      "execution_count": null,
      "outputs": [
        {
          "output_type": "execute_result",
          "data": {
            "text/plain": [
              "<generator object g at 0x78fb865a5770>"
            ]
          },
          "metadata": {},
          "execution_count": 19
        }
      ]
    },
    {
      "cell_type": "code",
      "source": [
        "ge = (c for c in 'XYZ') # generator exp builds a generator obj"
      ],
      "metadata": {
        "id": "VNrmuKN1_fjg"
      },
      "execution_count": null,
      "outputs": []
    },
    {
      "cell_type": "code",
      "source": [
        "ge"
      ],
      "metadata": {
        "colab": {
          "base_uri": "https://localhost:8080/"
        },
        "id": "BD1I4eNc_spT",
        "outputId": "1d643210-3999-4593-eba3-a5d8bc29eedc"
      },
      "execution_count": null,
      "outputs": [
        {
          "output_type": "execute_result",
          "data": {
            "text/plain": [
              "<generator object <genexpr> at 0x78fb865a6ea0>"
            ]
          },
          "metadata": {},
          "execution_count": 21
        }
      ]
    },
    {
      "cell_type": "code",
      "source": [
        "type(g()), type(ge)"
      ],
      "metadata": {
        "colab": {
          "base_uri": "https://localhost:8080/"
        },
        "id": "_i4-gOPj_tay",
        "outputId": "a27197c1-f7c0-46e7-debe-d76c9ffb3bf1"
      },
      "execution_count": null,
      "outputs": [
        {
          "output_type": "execute_result",
          "data": {
            "text/plain": [
              "(generator, generator)"
            ]
          },
          "metadata": {},
          "execution_count": 23
        }
      ]
    },
    {
      "cell_type": "markdown",
      "source": [
        "## An Arithmetic Progrssion Generator"
      ],
      "metadata": {
        "id": "bSjj6PILAKRA"
      }
    },
    {
      "cell_type": "code",
      "source": [
        "class ArithmeticProgression:\n",
        "  def __init__(self, begin, step, end=None):\n",
        "    self.begin = begin\n",
        "    self.step = step\n",
        "    self.end = end # None -> infinite series\n",
        "\n",
        "  def __iter__(self):\n",
        "    result_type = type(self.begin + self.step)\n",
        "    result = result_type(self.begin)\n",
        "    forever = self.end is None\n",
        "\n",
        "    index = 0\n",
        "\n",
        "    while forever or result < self.end:\n",
        "      yield result\n",
        "      index += 1\n",
        "      # Why not adding cumulatively? numerical stability\n",
        "      result = self.begin + self.step * index"
      ],
      "metadata": {
        "id": "ahOGKTf5_xxq"
      },
      "execution_count": null,
      "outputs": []
    },
    {
      "cell_type": "code",
      "source": [
        "ap = ArithmeticProgression(0, 1, 3)"
      ],
      "metadata": {
        "id": "lFbVY7PuB4gu"
      },
      "execution_count": null,
      "outputs": []
    },
    {
      "cell_type": "code",
      "source": [
        "list(ap)"
      ],
      "metadata": {
        "colab": {
          "base_uri": "https://localhost:8080/"
        },
        "id": "ALxNllDnB6xA",
        "outputId": "d7d410cf-9241-4549-85da-dd8ff3413303"
      },
      "execution_count": null,
      "outputs": [
        {
          "output_type": "execute_result",
          "data": {
            "text/plain": [
              "[0, 1, 2]"
            ]
          },
          "metadata": {},
          "execution_count": 26
        }
      ]
    },
    {
      "cell_type": "code",
      "source": [
        "ap = ArithmeticProgression(0, 0.5, 3)\n",
        "list(ap)"
      ],
      "metadata": {
        "colab": {
          "base_uri": "https://localhost:8080/"
        },
        "id": "cM8mGAorB7U5",
        "outputId": "701b7919-8142-4d49-cf2f-3a6cdd8bead1"
      },
      "execution_count": null,
      "outputs": [
        {
          "output_type": "execute_result",
          "data": {
            "text/plain": [
              "[0.0, 0.5, 1.0, 1.5, 2.0, 2.5]"
            ]
          },
          "metadata": {},
          "execution_count": 27
        }
      ]
    },
    {
      "cell_type": "code",
      "source": [
        "ap = ArithmeticProgression(0, 1/3, 1)\n",
        "list(ap)"
      ],
      "metadata": {
        "colab": {
          "base_uri": "https://localhost:8080/"
        },
        "id": "x-RW3JcMB-98",
        "outputId": "7a415f4d-8c18-4c15-a9f4-736f15d90d2a"
      },
      "execution_count": null,
      "outputs": [
        {
          "output_type": "execute_result",
          "data": {
            "text/plain": [
              "[0.0, 0.3333333333333333, 0.6666666666666666]"
            ]
          },
          "metadata": {},
          "execution_count": 28
        }
      ]
    },
    {
      "cell_type": "code",
      "source": [
        "from fractions import Fraction\n",
        "ap = ArithmeticProgression(0, Fraction(1,3), 1)\n",
        "list(ap)"
      ],
      "metadata": {
        "colab": {
          "base_uri": "https://localhost:8080/"
        },
        "id": "A6b5SzQmCBIW",
        "outputId": "6226ef65-b8cc-4510-9971-d2c36e78cc69"
      },
      "execution_count": null,
      "outputs": [
        {
          "output_type": "execute_result",
          "data": {
            "text/plain": [
              "[Fraction(0, 1), Fraction(1, 3), Fraction(2, 3)]"
            ]
          },
          "metadata": {},
          "execution_count": 29
        }
      ]
    },
    {
      "cell_type": "code",
      "source": [
        "from decimal import Decimal\n",
        "ap = ArithmeticProgression(0, Decimal('.1'), .3)\n",
        "list(ap)"
      ],
      "metadata": {
        "colab": {
          "base_uri": "https://localhost:8080/"
        },
        "id": "sxkSzcvMCHW-",
        "outputId": "b62841f0-4082-4c75-8699-00aaf4c6b20f"
      },
      "execution_count": null,
      "outputs": [
        {
          "output_type": "execute_result",
          "data": {
            "text/plain": [
              "[Decimal('0'), Decimal('0.1'), Decimal('0.2')]"
            ]
          },
          "metadata": {},
          "execution_count": 30
        }
      ]
    },
    {
      "cell_type": "code",
      "source": [
        "100 * 1.1"
      ],
      "metadata": {
        "colab": {
          "base_uri": "https://localhost:8080/"
        },
        "id": "ZqzY_2SICNxt",
        "outputId": "20c66315-e9d1-47ca-8e4e-4e8e2c093f2d"
      },
      "execution_count": null,
      "outputs": [
        {
          "output_type": "execute_result",
          "data": {
            "text/plain": [
              "110.00000000000001"
            ]
          },
          "metadata": {},
          "execution_count": 31
        }
      ]
    },
    {
      "cell_type": "code",
      "source": [
        "sum(1.1 for _ in range(100))"
      ],
      "metadata": {
        "colab": {
          "base_uri": "https://localhost:8080/"
        },
        "id": "sYM6upuOCj6w",
        "outputId": "eb775fa7-d9c2-40d2-b06c-8eb7dabdb78c"
      },
      "execution_count": null,
      "outputs": [
        {
          "output_type": "execute_result",
          "data": {
            "text/plain": [
              "109.99999999999982"
            ]
          },
          "metadata": {},
          "execution_count": 32
        }
      ]
    },
    {
      "cell_type": "code",
      "source": [
        "1000 * 1.1"
      ],
      "metadata": {
        "colab": {
          "base_uri": "https://localhost:8080/"
        },
        "id": "gwSX0TSLCmU2",
        "outputId": "80032594-c409-4508-829b-797352e3e53e"
      },
      "execution_count": null,
      "outputs": [
        {
          "output_type": "execute_result",
          "data": {
            "text/plain": [
              "1100.0"
            ]
          },
          "metadata": {},
          "execution_count": 33
        }
      ]
    },
    {
      "cell_type": "code",
      "source": [
        "sum(1.1 for _ in range(1000))"
      ],
      "metadata": {
        "colab": {
          "base_uri": "https://localhost:8080/"
        },
        "id": "rv8LvuLuCoWu",
        "outputId": "5e3900d1-3723-4b74-9931-82bc06815a7f"
      },
      "execution_count": null,
      "outputs": [
        {
          "output_type": "execute_result",
          "data": {
            "text/plain": [
              "1100.0000000000086"
            ]
          },
          "metadata": {},
          "execution_count": 34
        }
      ]
    },
    {
      "cell_type": "markdown",
      "source": [
        "If the whole point of a class is to build a generator by implementing `__iter__`, we can replace the class with a generator function. A generator function is, after all, a generator factory."
      ],
      "metadata": {
        "id": "hnyWuw66CzBF"
      }
    },
    {
      "cell_type": "code",
      "source": [
        "def aritporg_gen(begin, step, end=None):\n",
        "  result_type = type(begin + step)\n",
        "  result = result_type(begin)\n",
        "  forever = end is None\n",
        "\n",
        "  index = 0\n",
        "\n",
        "  while forever or result < end:\n",
        "    yield result\n",
        "    index += 1\n",
        "    # Why not adding cumulatively? numerical stability\n",
        "    result = begin + step * index"
      ],
      "metadata": {
        "id": "AdrrdAeXCqFq"
      },
      "execution_count": null,
      "outputs": []
    },
    {
      "cell_type": "markdown",
      "source": [
        "But remember! There are plenty of ready-to-uses generators in the standard library\n",
        "\n",
        "### Arithemetic Progression with itertools"
      ],
      "metadata": {
        "id": "-6xQuC_6Dmxe"
      }
    },
    {
      "cell_type": "code",
      "source": [
        "import itertools\n",
        "\n",
        "gen = itertools.count(1, .5) # return a generater that yields numbers"
      ],
      "metadata": {
        "id": "PVXp9-VwDGS0"
      },
      "execution_count": null,
      "outputs": []
    },
    {
      "cell_type": "code",
      "source": [
        "next(gen)"
      ],
      "metadata": {
        "colab": {
          "base_uri": "https://localhost:8080/"
        },
        "id": "7_vhTsvTD-lS",
        "outputId": "4a6a0e5d-fba8-45f7-c929-cf507be510c7"
      },
      "execution_count": null,
      "outputs": [
        {
          "output_type": "execute_result",
          "data": {
            "text/plain": [
              "1"
            ]
          },
          "metadata": {},
          "execution_count": 39
        }
      ]
    },
    {
      "cell_type": "code",
      "source": [
        "next(gen)"
      ],
      "metadata": {
        "colab": {
          "base_uri": "https://localhost:8080/"
        },
        "id": "0F4d4iFdEA8V",
        "outputId": "572e493c-3b78-431c-8b82-9a108d14a435"
      },
      "execution_count": null,
      "outputs": [
        {
          "output_type": "execute_result",
          "data": {
            "text/plain": [
              "1.5"
            ]
          },
          "metadata": {},
          "execution_count": 40
        }
      ]
    },
    {
      "cell_type": "markdown",
      "source": [
        "`itertools.takewhile` returns a generator that consumes another generator and stops when a given predicate evalutates to `False`"
      ],
      "metadata": {
        "id": "If1NlzMTEM3s"
      }
    },
    {
      "cell_type": "code",
      "source": [
        "gen = itertools.takewhile(lambda n: n < 3, itertools.count(1, .5))"
      ],
      "metadata": {
        "id": "caiqbrD_EBXE"
      },
      "execution_count": null,
      "outputs": []
    },
    {
      "cell_type": "code",
      "source": [
        "list(gen)"
      ],
      "metadata": {
        "colab": {
          "base_uri": "https://localhost:8080/"
        },
        "id": "vhI31YajEX61",
        "outputId": "0ab95467-8a19-4447-e0e3-a6c75159cc0d"
      },
      "execution_count": null,
      "outputs": [
        {
          "output_type": "execute_result",
          "data": {
            "text/plain": [
              "[1, 1.5, 2.0, 2.5]"
            ]
          },
          "metadata": {},
          "execution_count": 42
        }
      ]
    },
    {
      "cell_type": "code",
      "source": [
        "import itertools\n",
        "\n",
        "def aritprog_gen(begin, step, end=None):\n",
        "  first = type(begin + step)(begin)\n",
        "  ap_gen = itertools.count(first, step)\n",
        "  if end is None:\n",
        "    return ap_gen\n",
        "  return itertools.takewhile(lambda n: n < end, ap_gen)"
      ],
      "metadata": {
        "id": "fMegEBteEZSq"
      },
      "execution_count": null,
      "outputs": []
    },
    {
      "cell_type": "markdown",
      "source": [
        "Note that aritprog_gen is not a generator function: it has no `yield` in its body. But it returns a generator, just as a generator function does."
      ],
      "metadata": {
        "id": "FCSAWApJEvia"
      }
    },
    {
      "cell_type": "markdown",
      "source": [
        "## Generator Functions in the Standard Library\n",
        "\n",
        "### 1. Filtering Generator Functions\n",
        "They yield a subset of items produced by the input iterable, without changing the items themselves."
      ],
      "metadata": {
        "id": "5R-m2GujFKRi"
      }
    },
    {
      "cell_type": "code",
      "source": [
        "def vowel(c):\n",
        "  return c.lower() in 'aeiou'"
      ],
      "metadata": {
        "id": "-g29-zEsEuNs"
      },
      "execution_count": null,
      "outputs": []
    },
    {
      "cell_type": "code",
      "source": [
        "list(filter(vowel, 'Suwon'))"
      ],
      "metadata": {
        "colab": {
          "base_uri": "https://localhost:8080/"
        },
        "id": "80U9XTmsGRtB",
        "outputId": "40fcacbd-ee79-49a2-e882-b01558ec1a10"
      },
      "execution_count": null,
      "outputs": [
        {
          "output_type": "execute_result",
          "data": {
            "text/plain": [
              "['u', 'o']"
            ]
          },
          "metadata": {},
          "execution_count": 47
        }
      ]
    },
    {
      "cell_type": "code",
      "source": [
        "import itertools\n",
        "list(itertools.filterfalse(vowel, 'Suwon'))"
      ],
      "metadata": {
        "colab": {
          "base_uri": "https://localhost:8080/"
        },
        "id": "kIYG3_DJGgLM",
        "outputId": "fe37ee90-a01b-49fa-d185-3f9c73526029"
      },
      "execution_count": null,
      "outputs": [
        {
          "output_type": "execute_result",
          "data": {
            "text/plain": [
              "['S', 'w', 'n']"
            ]
          },
          "metadata": {},
          "execution_count": 48
        }
      ]
    },
    {
      "cell_type": "code",
      "source": [
        "# 'A' successful\n",
        "# 'a' successful\n",
        "# 'r' fails -> so yields starting from 'r'\n",
        "list(itertools.dropwhile(vowel, 'Aardvark'))"
      ],
      "metadata": {
        "colab": {
          "base_uri": "https://localhost:8080/"
        },
        "id": "RSQA4ULiGj9i",
        "outputId": "e66927c1-fc54-484e-fa58-d89602c1e1cf"
      },
      "execution_count": null,
      "outputs": [
        {
          "output_type": "execute_result",
          "data": {
            "text/plain": [
              "['r', 'd', 'v', 'a', 'r', 'k']"
            ]
          },
          "metadata": {},
          "execution_count": 10
        }
      ]
    },
    {
      "cell_type": "code",
      "source": [
        "# 'A' successful -> yield\n",
        "# 'a' successful -> yield\n",
        "# 'r' fails -> terminated\n",
        "list(itertools.takewhile(vowel, 'Aardvark'))"
      ],
      "metadata": {
        "colab": {
          "base_uri": "https://localhost:8080/"
        },
        "id": "Bvz6E-9QGppF",
        "outputId": "068cca8e-3384-4bee-a36c-8080f6aa815e"
      },
      "execution_count": null,
      "outputs": [
        {
          "output_type": "execute_result",
          "data": {
            "text/plain": [
              "['A', 'a']"
            ]
          },
          "metadata": {},
          "execution_count": 11
        }
      ]
    },
    {
      "cell_type": "code",
      "source": [
        "# Expected: Arda\n",
        "list(itertools.compress('Aardvark', (1, 0, 1, 1, 0, 1)))"
      ],
      "metadata": {
        "colab": {
          "base_uri": "https://localhost:8080/"
        },
        "id": "3Oeobpb9aPQg",
        "outputId": "ff15700a-4a09-4eb3-a895-35b1469624d8"
      },
      "execution_count": null,
      "outputs": [
        {
          "output_type": "execute_result",
          "data": {
            "text/plain": [
              "['A', 'r', 'd', 'a']"
            ]
          },
          "metadata": {},
          "execution_count": 15
        }
      ]
    },
    {
      "cell_type": "code",
      "source": [
        "list(itertools.islice('Aardvark', 4))"
      ],
      "metadata": {
        "colab": {
          "base_uri": "https://localhost:8080/"
        },
        "id": "L0QkoAYabyWb",
        "outputId": "3e22ee3c-8670-4bcc-997c-0cc36d77c17f"
      },
      "execution_count": null,
      "outputs": [
        {
          "output_type": "execute_result",
          "data": {
            "text/plain": [
              "['A', 'a', 'r', 'd']"
            ]
          },
          "metadata": {},
          "execution_count": 16
        }
      ]
    },
    {
      "cell_type": "code",
      "source": [
        "list(itertools.islice('Aardvark', 4, 7))"
      ],
      "metadata": {
        "colab": {
          "base_uri": "https://localhost:8080/"
        },
        "id": "H-TCYQYKb2oI",
        "outputId": "c8405536-4adc-4590-b949-d42e60afbd8d"
      },
      "execution_count": null,
      "outputs": [
        {
          "output_type": "execute_result",
          "data": {
            "text/plain": [
              "['v', 'a', 'r']"
            ]
          },
          "metadata": {},
          "execution_count": 17
        }
      ]
    },
    {
      "cell_type": "code",
      "source": [
        "list(itertools.islice('Aardvark', 1, 7, 2))"
      ],
      "metadata": {
        "colab": {
          "base_uri": "https://localhost:8080/"
        },
        "id": "miTs0TVIb8l6",
        "outputId": "13abacc3-e4dd-4bb6-c5ee-2694cd2225b2"
      },
      "execution_count": null,
      "outputs": [
        {
          "output_type": "execute_result",
          "data": {
            "text/plain": [
              "['a', 'd', 'a']"
            ]
          },
          "metadata": {},
          "execution_count": 18
        }
      ]
    },
    {
      "cell_type": "markdown",
      "source": [
        "### 2. Mapping Generators\n",
        "\n",
        "They yield items computed from each individual item in the input iterable in the case of `map` and `starmap`."
      ],
      "metadata": {
        "id": "vE-CWGNMcGIk"
      }
    },
    {
      "cell_type": "code",
      "source": [
        "# itertools.accumulate\n",
        "sample = [5, 4, 2, 8, 7, 6, 3, 0, 9, 1]\n",
        "import itertools\n",
        "\n",
        "list(itertools.accumulate(sample))"
      ],
      "metadata": {
        "colab": {
          "base_uri": "https://localhost:8080/"
        },
        "id": "omvGT8WxdmZb",
        "outputId": "7c3fc45a-c864-47bd-c314-a05d6716f90a"
      },
      "execution_count": null,
      "outputs": [
        {
          "output_type": "execute_result",
          "data": {
            "text/plain": [
              "[5, 9, 11, 19, 26, 32, 35, 35, 44, 45]"
            ]
          },
          "metadata": {},
          "execution_count": 19
        }
      ]
    },
    {
      "cell_type": "code",
      "source": [
        "list(itertools.accumulate(sample, min))"
      ],
      "metadata": {
        "colab": {
          "base_uri": "https://localhost:8080/"
        },
        "id": "jroTrGQpefTR",
        "outputId": "c61c9532-0b44-4a11-f6d3-9931befbd7ad"
      },
      "execution_count": null,
      "outputs": [
        {
          "output_type": "execute_result",
          "data": {
            "text/plain": [
              "[5, 4, 2, 2, 2, 2, 2, 0, 0, 0]"
            ]
          },
          "metadata": {},
          "execution_count": 20
        }
      ]
    },
    {
      "cell_type": "code",
      "source": [
        "list(itertools.accumulate(sample, max))"
      ],
      "metadata": {
        "colab": {
          "base_uri": "https://localhost:8080/"
        },
        "id": "JGjHYUUJeigV",
        "outputId": "3e0b68ad-8add-4b68-c547-7c265f323d40"
      },
      "execution_count": null,
      "outputs": [
        {
          "output_type": "execute_result",
          "data": {
            "text/plain": [
              "[5, 5, 5, 8, 8, 8, 8, 8, 9, 9]"
            ]
          },
          "metadata": {},
          "execution_count": 21
        }
      ]
    },
    {
      "cell_type": "code",
      "source": [
        "import operator"
      ],
      "metadata": {
        "id": "0b44BFIkeoRO"
      },
      "execution_count": null,
      "outputs": []
    },
    {
      "cell_type": "code",
      "source": [
        "list(itertools.accumulate(sample, operator.mul))"
      ],
      "metadata": {
        "colab": {
          "base_uri": "https://localhost:8080/"
        },
        "id": "wBYQ2oRmeqhf",
        "outputId": "34b21cbd-3b9e-4357-ab35-6743c79349d0"
      },
      "execution_count": null,
      "outputs": [
        {
          "output_type": "execute_result",
          "data": {
            "text/plain": [
              "[5, 20, 40, 320, 2240, 13440, 40320, 0, 0, 0]"
            ]
          },
          "metadata": {},
          "execution_count": 23
        }
      ]
    },
    {
      "cell_type": "code",
      "source": [
        "list(itertools.accumulate(range(1, 11), operator.mul))"
      ],
      "metadata": {
        "colab": {
          "base_uri": "https://localhost:8080/"
        },
        "id": "IKasJoK_esvr",
        "outputId": "fb1217a2-b4a1-445b-ade6-19cad739ddc7"
      },
      "execution_count": null,
      "outputs": [
        {
          "output_type": "execute_result",
          "data": {
            "text/plain": [
              "[1, 2, 6, 24, 120, 720, 5040, 40320, 362880, 3628800]"
            ]
          },
          "metadata": {},
          "execution_count": 24
        }
      ]
    },
    {
      "cell_type": "code",
      "source": [
        "# mapping generator fcn examples\n",
        "\n",
        "list(enumerate('albatroz', 1))"
      ],
      "metadata": {
        "colab": {
          "base_uri": "https://localhost:8080/"
        },
        "id": "ePiCZIXIew47",
        "outputId": "5ea17f5b-d946-433d-d421-fab06f5cd27d"
      },
      "execution_count": null,
      "outputs": [
        {
          "output_type": "execute_result",
          "data": {
            "text/plain": [
              "[(1, 'a'),\n",
              " (2, 'l'),\n",
              " (3, 'b'),\n",
              " (4, 'a'),\n",
              " (5, 't'),\n",
              " (6, 'r'),\n",
              " (7, 'o'),\n",
              " (8, 'z')]"
            ]
          },
          "metadata": {},
          "execution_count": 25
        }
      ]
    },
    {
      "cell_type": "code",
      "source": [
        "import operator\n",
        "list(map(operator.mul, range(11), range(11)))"
      ],
      "metadata": {
        "colab": {
          "base_uri": "https://localhost:8080/"
        },
        "id": "KDgUB6aIe2bA",
        "outputId": "0444aba1-29bc-487a-b332-21b1e033ed39"
      },
      "execution_count": null,
      "outputs": [
        {
          "output_type": "execute_result",
          "data": {
            "text/plain": [
              "[0, 1, 4, 9, 16, 25, 36, 49, 64, 81, 100]"
            ]
          },
          "metadata": {},
          "execution_count": 26
        }
      ]
    },
    {
      "cell_type": "code",
      "source": [
        "list(map(operator.mul, range(11), [2, 4, 8]))"
      ],
      "metadata": {
        "colab": {
          "base_uri": "https://localhost:8080/"
        },
        "id": "KJ0o3xfWe63P",
        "outputId": "44ccaf8c-00a1-4756-b8a9-37d322e3a945"
      },
      "execution_count": null,
      "outputs": [
        {
          "output_type": "execute_result",
          "data": {
            "text/plain": [
              "[0, 4, 16]"
            ]
          },
          "metadata": {},
          "execution_count": 27
        }
      ]
    },
    {
      "cell_type": "code",
      "source": [
        "list(map(lambda a, b: (a, b), range(11), [2, 4, 8]))"
      ],
      "metadata": {
        "colab": {
          "base_uri": "https://localhost:8080/"
        },
        "id": "5rkkhygze-y5",
        "outputId": "7f05b49b-104f-4779-a4f5-92cab86eaf1b"
      },
      "execution_count": null,
      "outputs": [
        {
          "output_type": "execute_result",
          "data": {
            "text/plain": [
              "[(0, 2), (1, 4), (2, 8)]"
            ]
          },
          "metadata": {},
          "execution_count": 28
        }
      ]
    },
    {
      "cell_type": "code",
      "source": [
        "import itertools"
      ],
      "metadata": {
        "id": "Fo2BnAWhfFm-"
      },
      "execution_count": null,
      "outputs": []
    },
    {
      "cell_type": "code",
      "source": [
        "\n",
        "list(itertools.starmap(operator.mul, enumerate('albatroz', 1)))"
      ],
      "metadata": {
        "colab": {
          "base_uri": "https://localhost:8080/"
        },
        "id": "HQknDeMafJBG",
        "outputId": "cb44977e-6d8e-46a5-b0f2-95ef514ba29d"
      },
      "execution_count": null,
      "outputs": [
        {
          "output_type": "execute_result",
          "data": {
            "text/plain": [
              "['a', 'll', 'bbb', 'aaaa', 'ttttt', 'rrrrrr', 'ooooooo', 'zzzzzzzz']"
            ]
          },
          "metadata": {},
          "execution_count": 30
        }
      ]
    },
    {
      "cell_type": "code",
      "source": [
        "sample = [5, 4, 2, 8, 7, 6, 3, 0, 9, 1]\n",
        "# 5 / 1, 9 / 2, 11 / 3, ...\n",
        "# Running averages - nice trick\n",
        "list(itertools.starmap(lambda a, b: b / a,\n",
        "                       enumerate(itertools.accumulate(sample), 1)))"
      ],
      "metadata": {
        "colab": {
          "base_uri": "https://localhost:8080/"
        },
        "id": "ck-vBFfFfXbC",
        "outputId": "440c64ac-ee5e-4373-a4bc-7b2ef350f82b"
      },
      "execution_count": null,
      "outputs": [
        {
          "output_type": "execute_result",
          "data": {
            "text/plain": [
              "[5.0,\n",
              " 4.5,\n",
              " 3.6666666666666665,\n",
              " 4.75,\n",
              " 5.2,\n",
              " 5.333333333333333,\n",
              " 5.0,\n",
              " 4.375,\n",
              " 4.888888888888889,\n",
              " 4.5]"
            ]
          },
          "metadata": {},
          "execution_count": 32
        }
      ]
    },
    {
      "cell_type": "markdown",
      "source": [
        "### 3. Merging Generators\n",
        "\n",
        "All of these yield items from multiple input iterables. `chain` and `chain.from_iterable` consume the input iterables sequntially, while `produce`, `zip`, and `zip_longest` consume the input iterables in parallel"
      ],
      "metadata": {
        "id": "AiW05yATf3be"
      }
    },
    {
      "cell_type": "code",
      "source": [
        "list(itertools.chain('ABC', range(2)))"
      ],
      "metadata": {
        "colab": {
          "base_uri": "https://localhost:8080/"
        },
        "id": "8Pwu2IZcfogD",
        "outputId": "3caf346d-8ee2-4643-8bfa-9a17ccfa8027"
      },
      "execution_count": null,
      "outputs": [
        {
          "output_type": "execute_result",
          "data": {
            "text/plain": [
              "['A', 'B', 'C', 0, 1]"
            ]
          },
          "metadata": {},
          "execution_count": 33
        }
      ]
    },
    {
      "cell_type": "code",
      "source": [
        "# `chain` does nothing useful when called with a single iterable\n",
        "list(itertools.chain(enumerate('ABC')))"
      ],
      "metadata": {
        "colab": {
          "base_uri": "https://localhost:8080/"
        },
        "id": "d9yTtBPZgZX1",
        "outputId": "09069169-0087-4cbd-bd2c-05b29369439c"
      },
      "execution_count": null,
      "outputs": [
        {
          "output_type": "execute_result",
          "data": {
            "text/plain": [
              "[(0, 'A'), (1, 'B'), (2, 'C')]"
            ]
          },
          "metadata": {},
          "execution_count": 35
        }
      ]
    },
    {
      "cell_type": "code",
      "source": [
        "list(itertools.chain.from_iterable(enumerate('ABC')))"
      ],
      "metadata": {
        "colab": {
          "base_uri": "https://localhost:8080/"
        },
        "id": "br0tt300geMV",
        "outputId": "56e450bd-2e82-40a7-f60c-a503178fe561"
      },
      "execution_count": null,
      "outputs": [
        {
          "output_type": "execute_result",
          "data": {
            "text/plain": [
              "[0, 'A', 1, 'B', 2, 'C']"
            ]
          },
          "metadata": {},
          "execution_count": 37
        }
      ]
    },
    {
      "cell_type": "code",
      "source": [
        "list(zip('ABC', range(5), [10, 20, 30, 40]))"
      ],
      "metadata": {
        "colab": {
          "base_uri": "https://localhost:8080/"
        },
        "id": "cVorKpIngpPy",
        "outputId": "ff3b910e-b837-4426-f2a8-1439794b4707"
      },
      "execution_count": null,
      "outputs": [
        {
          "output_type": "execute_result",
          "data": {
            "text/plain": [
              "[('A', 0, 10), ('B', 1, 20), ('C', 2, 30)]"
            ]
          },
          "metadata": {},
          "execution_count": 38
        }
      ]
    },
    {
      "cell_type": "code",
      "source": [
        "list(itertools.zip_longest('ABC', range(5)))"
      ],
      "metadata": {
        "colab": {
          "base_uri": "https://localhost:8080/"
        },
        "id": "pPOSaB89g3dN",
        "outputId": "c64798ba-0682-4f64-81c2-f08451c1e663"
      },
      "execution_count": null,
      "outputs": [
        {
          "output_type": "execute_result",
          "data": {
            "text/plain": [
              "[('A', 0), ('B', 1), ('C', 2), (None, 3), (None, 4)]"
            ]
          },
          "metadata": {},
          "execution_count": 39
        }
      ]
    },
    {
      "cell_type": "code",
      "source": [
        "list(itertools.zip_longest('ABC', range(5), fillvalue='?'))"
      ],
      "metadata": {
        "colab": {
          "base_uri": "https://localhost:8080/"
        },
        "id": "fsGKrQANg7xj",
        "outputId": "8eba9bfe-6c71-4e00-8797-4ac9fd054065"
      },
      "execution_count": null,
      "outputs": [
        {
          "output_type": "execute_result",
          "data": {
            "text/plain": [
              "[('A', 0), ('B', 1), ('C', 2), ('?', 3), ('?', 4)]"
            ]
          },
          "metadata": {},
          "execution_count": 40
        }
      ]
    },
    {
      "cell_type": "markdown",
      "source": [
        "The `itertools.product` generator is a lazy way of computing Cartesian products, which we built using list comprehensions with more than one `for` clause in \"Cartesian Products\""
      ],
      "metadata": {
        "id": "IM86DxWphImo"
      }
    },
    {
      "cell_type": "code",
      "source": [
        "list(itertools.product('ABC', range(2)))"
      ],
      "metadata": {
        "colab": {
          "base_uri": "https://localhost:8080/"
        },
        "id": "_rRU8Dr9g_YP",
        "outputId": "474fb26e-3f87-43c1-c5a5-352aadf3d554"
      },
      "execution_count": null,
      "outputs": [
        {
          "output_type": "execute_result",
          "data": {
            "text/plain": [
              "[('A', 0), ('A', 1), ('B', 0), ('B', 1), ('C', 0), ('C', 1)]"
            ]
          },
          "metadata": {},
          "execution_count": 41
        }
      ]
    },
    {
      "cell_type": "code",
      "source": [
        "suits = 'spades hearts diamonds clubs'.split()\n",
        "list(itertools.product('AK', suits))"
      ],
      "metadata": {
        "colab": {
          "base_uri": "https://localhost:8080/"
        },
        "id": "3gpdq2FJhHre",
        "outputId": "cd193d87-5f47-46e1-ae39-405934d2a4ff"
      },
      "execution_count": null,
      "outputs": [
        {
          "output_type": "execute_result",
          "data": {
            "text/plain": [
              "[('A', 'spades'),\n",
              " ('A', 'hearts'),\n",
              " ('A', 'diamonds'),\n",
              " ('A', 'clubs'),\n",
              " ('K', 'spades'),\n",
              " ('K', 'hearts'),\n",
              " ('K', 'diamonds'),\n",
              " ('K', 'clubs')]"
            ]
          },
          "metadata": {},
          "execution_count": 42
        }
      ]
    },
    {
      "cell_type": "code",
      "source": [
        "list(itertools.product('ABC', repeat=2))"
      ],
      "metadata": {
        "colab": {
          "base_uri": "https://localhost:8080/"
        },
        "id": "ZyyN1u-khZ3w",
        "outputId": "7b8f4849-025f-407f-c60d-24862273fea9"
      },
      "execution_count": null,
      "outputs": [
        {
          "output_type": "execute_result",
          "data": {
            "text/plain": [
              "[('A', 'A'),\n",
              " ('A', 'B'),\n",
              " ('A', 'C'),\n",
              " ('B', 'A'),\n",
              " ('B', 'B'),\n",
              " ('B', 'C'),\n",
              " ('C', 'A'),\n",
              " ('C', 'B'),\n",
              " ('C', 'C')]"
            ]
          },
          "metadata": {},
          "execution_count": 43
        }
      ]
    },
    {
      "cell_type": "code",
      "source": [
        "list(itertools.product(range(2), repeat=3))"
      ],
      "metadata": {
        "colab": {
          "base_uri": "https://localhost:8080/"
        },
        "id": "r7704yqOhlVZ",
        "outputId": "dd2fb5cd-882b-4816-de92-b9d33fc9debe"
      },
      "execution_count": null,
      "outputs": [
        {
          "output_type": "execute_result",
          "data": {
            "text/plain": [
              "[(0, 0, 0),\n",
              " (0, 0, 1),\n",
              " (0, 1, 0),\n",
              " (0, 1, 1),\n",
              " (1, 0, 0),\n",
              " (1, 0, 1),\n",
              " (1, 1, 0),\n",
              " (1, 1, 1)]"
            ]
          },
          "metadata": {},
          "execution_count": 44
        }
      ]
    },
    {
      "cell_type": "code",
      "source": [
        "rows = itertools.product('AB', range(2), repeat=2)"
      ],
      "metadata": {
        "id": "XyslQYzOhpYa"
      },
      "execution_count": null,
      "outputs": []
    },
    {
      "cell_type": "code",
      "source": [
        "for row in rows: print(row)"
      ],
      "metadata": {
        "id": "5XfC5V7WhtmF"
      },
      "execution_count": null,
      "outputs": []
    },
    {
      "cell_type": "markdown",
      "source": [
        "### 4. Expanding the input by yielding more than one value per input item"
      ],
      "metadata": {
        "id": "yBLbtX9_iUJM"
      }
    },
    {
      "cell_type": "code",
      "source": [
        "ct = itertools.count()"
      ],
      "metadata": {
        "id": "kLxxSRzwh9UZ"
      },
      "execution_count": null,
      "outputs": []
    },
    {
      "cell_type": "code",
      "source": [
        "next(ct)"
      ],
      "metadata": {
        "colab": {
          "base_uri": "https://localhost:8080/"
        },
        "id": "2-bDcDLZkBxN",
        "outputId": "61a4378f-1276-409b-d36a-4c462af657a4"
      },
      "execution_count": null,
      "outputs": [
        {
          "output_type": "execute_result",
          "data": {
            "text/plain": [
              "0"
            ]
          },
          "metadata": {},
          "execution_count": 54
        }
      ]
    },
    {
      "cell_type": "code",
      "source": [
        "next(ct), next(ct), next(ct)"
      ],
      "metadata": {
        "colab": {
          "base_uri": "https://localhost:8080/"
        },
        "id": "xGpsraLhkCUR",
        "outputId": "5ae1f9e8-9661-4a70-ce67-0afbae81c5ba"
      },
      "execution_count": null,
      "outputs": [
        {
          "output_type": "execute_result",
          "data": {
            "text/plain": [
              "(1, 2, 3)"
            ]
          },
          "metadata": {},
          "execution_count": 55
        }
      ]
    },
    {
      "cell_type": "code",
      "source": [
        "list(itertools.islice(itertools.count(1, .3), 3))"
      ],
      "metadata": {
        "colab": {
          "base_uri": "https://localhost:8080/"
        },
        "id": "KxkxrrJskELV",
        "outputId": "27416d7a-3d4e-4316-a8b9-abca12554b29"
      },
      "execution_count": null,
      "outputs": [
        {
          "output_type": "execute_result",
          "data": {
            "text/plain": [
              "[1, 1.3, 1.6]"
            ]
          },
          "metadata": {},
          "execution_count": 56
        }
      ]
    },
    {
      "cell_type": "code",
      "source": [
        "cy = itertools.cycle('ABC')\n",
        "next(cy)"
      ],
      "metadata": {
        "colab": {
          "base_uri": "https://localhost:8080/",
          "height": 36
        },
        "id": "JTN28jv_kK6v",
        "outputId": "2f2c9585-2190-4fc6-e6ff-25e6ccf3b7bd"
      },
      "execution_count": null,
      "outputs": [
        {
          "output_type": "execute_result",
          "data": {
            "text/plain": [
              "'A'"
            ],
            "application/vnd.google.colaboratory.intrinsic+json": {
              "type": "string"
            }
          },
          "metadata": {},
          "execution_count": 57
        }
      ]
    },
    {
      "cell_type": "code",
      "source": [
        "list(itertools.islice(cy, 7))"
      ],
      "metadata": {
        "colab": {
          "base_uri": "https://localhost:8080/"
        },
        "id": "lm1ndszMkO8s",
        "outputId": "5eaa6888-5996-4b04-9542-78126d924389"
      },
      "execution_count": null,
      "outputs": [
        {
          "output_type": "execute_result",
          "data": {
            "text/plain": [
              "['B', 'C', 'A', 'B', 'C', 'A', 'B']"
            ]
          },
          "metadata": {},
          "execution_count": 58
        }
      ]
    },
    {
      "cell_type": "code",
      "source": [
        "list(itertools.pairwise(range(7)))"
      ],
      "metadata": {
        "colab": {
          "base_uri": "https://localhost:8080/"
        },
        "id": "FzJIwHwwkSE2",
        "outputId": "4bb7d117-deea-4f69-f607-dcd3c48c0fbb"
      },
      "execution_count": null,
      "outputs": [
        {
          "output_type": "execute_result",
          "data": {
            "text/plain": [
              "[(0, 1), (1, 2), (2, 3), (3, 4), (4, 5), (5, 6)]"
            ]
          },
          "metadata": {},
          "execution_count": 59
        }
      ]
    },
    {
      "cell_type": "code",
      "source": [
        "rp = itertools.repeat(7)\n",
        "next(rp), next(rp)"
      ],
      "metadata": {
        "colab": {
          "base_uri": "https://localhost:8080/"
        },
        "id": "92qo_SMwkZgB",
        "outputId": "a55a4b7f-9894-48d2-a351-07ff11738d61"
      },
      "execution_count": null,
      "outputs": [
        {
          "output_type": "execute_result",
          "data": {
            "text/plain": [
              "(7, 7)"
            ]
          },
          "metadata": {},
          "execution_count": 60
        }
      ]
    },
    {
      "cell_type": "code",
      "source": [
        "list(itertools.repeat(8, 4))"
      ],
      "metadata": {
        "colab": {
          "base_uri": "https://localhost:8080/"
        },
        "id": "WryqEOzXkdjP",
        "outputId": "6d754efc-6e2a-42e3-ca10-1e120a7937cd"
      },
      "execution_count": null,
      "outputs": [
        {
          "output_type": "execute_result",
          "data": {
            "text/plain": [
              "[8, 8, 8, 8]"
            ]
          },
          "metadata": {},
          "execution_count": 61
        }
      ]
    },
    {
      "cell_type": "code",
      "source": [
        "list(map(operator.mul, range(11), itertools.repeat(5)))"
      ],
      "metadata": {
        "colab": {
          "base_uri": "https://localhost:8080/"
        },
        "id": "KTZ4iiZNkjGB",
        "outputId": "c497e2d8-ac5f-4b43-e92b-236b9d3e7bba"
      },
      "execution_count": null,
      "outputs": [
        {
          "output_type": "execute_result",
          "data": {
            "text/plain": [
              "[0, 5, 10, 15, 20, 25, 30, 35, 40, 45, 50]"
            ]
          },
          "metadata": {},
          "execution_count": 62
        }
      ]
    },
    {
      "cell_type": "markdown",
      "source": [
        "The `combinations`, `combinations_with_replacement` and `permutations` generator functions are called the combinatroics generators in the `itertools` documentation page."
      ],
      "metadata": {
        "id": "Jma9ZaOVko-6"
      }
    },
    {
      "cell_type": "code",
      "source": [
        "list(itertools.combinations('ABC', 2))"
      ],
      "metadata": {
        "colab": {
          "base_uri": "https://localhost:8080/"
        },
        "id": "fgikLIJokmcx",
        "outputId": "12ac6342-a314-4bcd-c3a7-f569dc0ccb6c"
      },
      "execution_count": null,
      "outputs": [
        {
          "output_type": "execute_result",
          "data": {
            "text/plain": [
              "[('A', 'B'), ('A', 'C'), ('B', 'C')]"
            ]
          },
          "metadata": {},
          "execution_count": 63
        }
      ]
    },
    {
      "cell_type": "code",
      "source": [
        "list(itertools.combinations_with_replacement('ABC', 2))"
      ],
      "metadata": {
        "colab": {
          "base_uri": "https://localhost:8080/"
        },
        "id": "crDrIPgEk1Wc",
        "outputId": "d87ffd6d-e01d-450c-fa05-1c39a3fab0d6"
      },
      "execution_count": null,
      "outputs": [
        {
          "output_type": "execute_result",
          "data": {
            "text/plain": [
              "[('A', 'A'), ('A', 'B'), ('A', 'C'), ('B', 'B'), ('B', 'C'), ('C', 'C')]"
            ]
          },
          "metadata": {},
          "execution_count": 64
        }
      ]
    },
    {
      "cell_type": "code",
      "source": [
        "list(itertools.permutations('ABC', 2))"
      ],
      "metadata": {
        "colab": {
          "base_uri": "https://localhost:8080/"
        },
        "id": "dkIRNBEtk4Fw",
        "outputId": "6ad076e8-eb4b-4f60-9377-4ea3f8a22371"
      },
      "execution_count": null,
      "outputs": [
        {
          "output_type": "execute_result",
          "data": {
            "text/plain": [
              "[('A', 'B'), ('A', 'C'), ('B', 'A'), ('B', 'C'), ('C', 'A'), ('C', 'B')]"
            ]
          },
          "metadata": {},
          "execution_count": 65
        }
      ]
    },
    {
      "cell_type": "code",
      "source": [
        "list(itertools.product('ABC', repeat=2))"
      ],
      "metadata": {
        "colab": {
          "base_uri": "https://localhost:8080/"
        },
        "id": "NFJplRkZk8hQ",
        "outputId": "5f4faaf7-d0fa-4505-d245-b2cc4f8f73b5"
      },
      "execution_count": null,
      "outputs": [
        {
          "output_type": "execute_result",
          "data": {
            "text/plain": [
              "[('A', 'A'),\n",
              " ('A', 'B'),\n",
              " ('A', 'C'),\n",
              " ('B', 'A'),\n",
              " ('B', 'B'),\n",
              " ('B', 'C'),\n",
              " ('C', 'A'),\n",
              " ('C', 'B'),\n",
              " ('C', 'C')]"
            ]
          },
          "metadata": {},
          "execution_count": 67
        }
      ]
    },
    {
      "cell_type": "markdown",
      "source": [
        "## 5. Generator Functions designed to yiled all items in the input iterables but rearranged in some way\n",
        "\n",
        " 1. `itertools.groupby`\n",
        " 2. `itertools.tee`"
      ],
      "metadata": {
        "id": "sdcgmt8VlGSO"
      }
    },
    {
      "cell_type": "code",
      "source": [
        "# itertools.groupby\n",
        "list(itertools.groupby('LLLAAGGG'))"
      ],
      "metadata": {
        "colab": {
          "base_uri": "https://localhost:8080/"
        },
        "id": "6IOzbPqclBLB",
        "outputId": "608b81e8-82e2-471d-8199-507a3c5c45d8"
      },
      "execution_count": null,
      "outputs": [
        {
          "output_type": "execute_result",
          "data": {
            "text/plain": [
              "[('L', <itertools._grouper at 0x78ed8b799e70>),\n",
              " ('A', <itertools._grouper at 0x78ed8b79ac80>),\n",
              " ('G', <itertools._grouper at 0x78ed8b79be80>)]"
            ]
          },
          "metadata": {},
          "execution_count": 68
        }
      ]
    },
    {
      "cell_type": "code",
      "source": [
        "for char, group in itertools.groupby('LLLLAAAGG'):\n",
        "  print(char, '->', list(group))"
      ],
      "metadata": {
        "colab": {
          "base_uri": "https://localhost:8080/"
        },
        "id": "zQ983TMllovP",
        "outputId": "13fe5217-9cab-4ae3-96ac-a129ec0e31b3"
      },
      "execution_count": null,
      "outputs": [
        {
          "output_type": "stream",
          "name": "stdout",
          "text": [
            "L -> ['L', 'L', 'L', 'L']\n",
            "A -> ['A', 'A', 'A']\n",
            "G -> ['G', 'G']\n"
          ]
        }
      ]
    },
    {
      "cell_type": "code",
      "source": [
        "animals = ['duck', 'eagle', 'rat', 'giraffe', 'bear',\n",
        "           'bat', 'dolphin', 'shark', 'lion']\n",
        "animals.sort(key=len)"
      ],
      "metadata": {
        "id": "c6BGbr1sl6Ng"
      },
      "execution_count": null,
      "outputs": []
    },
    {
      "cell_type": "code",
      "source": [
        "animals"
      ],
      "metadata": {
        "colab": {
          "base_uri": "https://localhost:8080/"
        },
        "id": "elk-5KXemDJ_",
        "outputId": "7a3216b7-a87c-47f2-e254-184e6095ed60"
      },
      "execution_count": null,
      "outputs": [
        {
          "output_type": "execute_result",
          "data": {
            "text/plain": [
              "['rat', 'bat', 'duck', 'bear', 'lion', 'eagle', 'shark', 'giraffe', 'dolphin']"
            ]
          },
          "metadata": {},
          "execution_count": 71
        }
      ]
    },
    {
      "cell_type": "code",
      "source": [
        "for length, group in itertools.groupby(animals, len):\n",
        "  print(length, '->', list(group))"
      ],
      "metadata": {
        "colab": {
          "base_uri": "https://localhost:8080/"
        },
        "id": "OgS_urpkmI4f",
        "outputId": "fb2af538-5b20-4221-c31a-95cdbae2f604"
      },
      "execution_count": null,
      "outputs": [
        {
          "output_type": "stream",
          "name": "stdout",
          "text": [
            "3 -> ['rat', 'bat']\n",
            "4 -> ['duck', 'bear', 'lion']\n",
            "5 -> ['eagle', 'shark']\n",
            "7 -> ['giraffe', 'dolphin']\n"
          ]
        }
      ]
    },
    {
      "cell_type": "code",
      "source": [
        "for l, group in itertools.groupby(reversed(animals), len):\n",
        "  print(l, '->', list(group))"
      ],
      "metadata": {
        "colab": {
          "base_uri": "https://localhost:8080/"
        },
        "id": "BYDMD9rJmPqT",
        "outputId": "daeb35e3-2fe9-4ea7-cebd-006f9d7e31a9"
      },
      "execution_count": null,
      "outputs": [
        {
          "output_type": "stream",
          "name": "stdout",
          "text": [
            "7 -> ['dolphin', 'giraffe']\n",
            "5 -> ['shark', 'eagle']\n",
            "4 -> ['lion', 'bear', 'duck']\n",
            "3 -> ['bat', 'rat']\n"
          ]
        }
      ]
    },
    {
      "cell_type": "markdown",
      "source": [
        "`iterator.tee` - unique behavior: it yields multiple generators from a single input iterable, each yielding every item from the input"
      ],
      "metadata": {
        "id": "3iy0utnOmimJ"
      }
    },
    {
      "cell_type": "markdown",
      "source": [
        "## Iterable Reducing Functions"
      ],
      "metadata": {
        "id": "9-Xrj26Zm8db"
      }
    },
    {
      "cell_type": "code",
      "source": [
        "all([1, 2, 3])"
      ],
      "metadata": {
        "colab": {
          "base_uri": "https://localhost:8080/"
        },
        "id": "IJRG7F_dmacv",
        "outputId": "e584682c-ebb9-4615-a161-d555492024df"
      },
      "execution_count": null,
      "outputs": [
        {
          "output_type": "execute_result",
          "data": {
            "text/plain": [
              "True"
            ]
          },
          "metadata": {},
          "execution_count": 75
        }
      ]
    },
    {
      "cell_type": "code",
      "source": [
        "all([1, 0, 3])"
      ],
      "metadata": {
        "colab": {
          "base_uri": "https://localhost:8080/"
        },
        "id": "lIZxAiyNnQ1s",
        "outputId": "d351d2e5-3a1f-42cb-9147-8290625d8c62"
      },
      "execution_count": null,
      "outputs": [
        {
          "output_type": "execute_result",
          "data": {
            "text/plain": [
              "False"
            ]
          },
          "metadata": {},
          "execution_count": 76
        }
      ]
    },
    {
      "cell_type": "code",
      "source": [
        "all([])"
      ],
      "metadata": {
        "colab": {
          "base_uri": "https://localhost:8080/"
        },
        "id": "UUWFR9KsnRkG",
        "outputId": "de0c7248-0a14-42ce-c954-9cec6cfc803c"
      },
      "execution_count": null,
      "outputs": [
        {
          "output_type": "execute_result",
          "data": {
            "text/plain": [
              "True"
            ]
          },
          "metadata": {},
          "execution_count": 77
        }
      ]
    },
    {
      "cell_type": "code",
      "source": [
        "any([1, 2, 3])"
      ],
      "metadata": {
        "colab": {
          "base_uri": "https://localhost:8080/"
        },
        "id": "GTeP9r4hnSRV",
        "outputId": "e01d2fe9-0123-4b87-cab5-6d420da5e99e"
      },
      "execution_count": null,
      "outputs": [
        {
          "output_type": "execute_result",
          "data": {
            "text/plain": [
              "True"
            ]
          },
          "metadata": {},
          "execution_count": 78
        }
      ]
    },
    {
      "cell_type": "code",
      "source": [
        "any([1, 0, 3])"
      ],
      "metadata": {
        "colab": {
          "base_uri": "https://localhost:8080/"
        },
        "id": "YgL0QXnSnTLm",
        "outputId": "ac4c58d7-96e4-4431-ef36-6bfe031a6377"
      },
      "execution_count": null,
      "outputs": [
        {
          "output_type": "execute_result",
          "data": {
            "text/plain": [
              "True"
            ]
          },
          "metadata": {},
          "execution_count": 79
        }
      ]
    },
    {
      "cell_type": "code",
      "source": [
        "any([0, 0, 0])"
      ],
      "metadata": {
        "colab": {
          "base_uri": "https://localhost:8080/"
        },
        "id": "lSEgRw5-nT9d",
        "outputId": "53cdacfc-2bca-4e0c-f7f7-0e3d741197c4"
      },
      "execution_count": null,
      "outputs": [
        {
          "output_type": "execute_result",
          "data": {
            "text/plain": [
              "False"
            ]
          },
          "metadata": {},
          "execution_count": 80
        }
      ]
    },
    {
      "cell_type": "code",
      "source": [
        "any([])"
      ],
      "metadata": {
        "colab": {
          "base_uri": "https://localhost:8080/"
        },
        "id": "g-dSj4BonVLY",
        "outputId": "8500cb78-a15c-4cac-aa21-ae3afca58dbc"
      },
      "execution_count": null,
      "outputs": [
        {
          "output_type": "execute_result",
          "data": {
            "text/plain": [
              "False"
            ]
          },
          "metadata": {},
          "execution_count": 81
        }
      ]
    },
    {
      "cell_type": "code",
      "source": [
        "g = (n for n in [0, 0.0, 7, 8]) # generator exp\n",
        "any(g) # any iterated over g until g yielded 7"
      ],
      "metadata": {
        "colab": {
          "base_uri": "https://localhost:8080/"
        },
        "id": "sFV1-KlpnVrY",
        "outputId": "8a5a3428-a57a-4856-adea-8b4de483113b"
      },
      "execution_count": null,
      "outputs": [
        {
          "output_type": "execute_result",
          "data": {
            "text/plain": [
              "True"
            ]
          },
          "metadata": {},
          "execution_count": 85
        }
      ]
    },
    {
      "cell_type": "code",
      "source": [
        "next(g) # That's why 8 was still remaining"
      ],
      "metadata": {
        "colab": {
          "base_uri": "https://localhost:8080/"
        },
        "id": "T7BFEm8Tnabf",
        "outputId": "354e8754-79ea-42be-d5cb-f6e27a9017de"
      },
      "execution_count": null,
      "outputs": [
        {
          "output_type": "execute_result",
          "data": {
            "text/plain": [
              "8"
            ]
          },
          "metadata": {},
          "execution_count": 86
        }
      ]
    },
    {
      "cell_type": "markdown",
      "source": [
        "Another built-in that takes an iterable and returns something else is `sorted`. Unlike `reversed`, which is a generator function, `sorted` builds and returns a new `list`."
      ],
      "metadata": {
        "id": "pCyqrRTznzSz"
      }
    },
    {
      "cell_type": "markdown",
      "source": [
        "## Subgenerators with yield from\n",
        "\n",
        "The `yield from` expression syntax was introduced to allow a generator to delegate work to a subgenerator.\n",
        "\n",
        "Before `yield from` was introduced, we used a `for` loop when a generator needed to yield values produced from another generator"
      ],
      "metadata": {
        "id": "U9roxhBroSs_"
      }
    },
    {
      "cell_type": "code",
      "source": [
        "def sub_gen(): # subgenerator\n",
        "  yield 1.1\n",
        "  yield 1.2\n",
        "\n",
        "def gen(): # delegating generator\n",
        "  yield 1\n",
        "  for i in sub_gen(): # client code\n",
        "    yield i\n",
        "  yield 2\n",
        "\n",
        "for x in gen():\n",
        "  print(x)"
      ],
      "metadata": {
        "colab": {
          "base_uri": "https://localhost:8080/"
        },
        "id": "iGWyZcH7ncNu",
        "outputId": "5f229baf-3b03-4b66-9157-acb9a09a267a"
      },
      "execution_count": null,
      "outputs": [
        {
          "output_type": "stream",
          "name": "stdout",
          "text": [
            "1\n",
            "1.1\n",
            "1.2\n",
            "2\n"
          ]
        }
      ]
    },
    {
      "cell_type": "code",
      "source": [
        "def sub_gen():\n",
        "  yield 1.1\n",
        "  yield 1.2\n",
        "\n",
        "def gen():\n",
        "  yield 1\n",
        "  yield from sub_gen()\n",
        "  yield 2"
      ],
      "metadata": {
        "id": "Q-gJ47ajorQ_"
      },
      "execution_count": null,
      "outputs": []
    },
    {
      "cell_type": "code",
      "source": [
        "for x in gen():\n",
        "  print(x)"
      ],
      "metadata": {
        "colab": {
          "base_uri": "https://localhost:8080/"
        },
        "id": "VYufaN9LoyKR",
        "outputId": "451dd5d6-a5e3-4b96-fdc1-ca3063414624"
      },
      "execution_count": null,
      "outputs": [
        {
          "output_type": "stream",
          "name": "stdout",
          "text": [
            "1\n",
            "1.1\n",
            "1.2\n",
            "2\n"
          ]
        }
      ]
    },
    {
      "cell_type": "code",
      "source": [
        "def sub_gen():\n",
        "  yield 1.1\n",
        "  yield 1.2\n",
        "  return 'Done!'\n",
        "\n",
        "def gen():\n",
        "  yield 1\n",
        "  result = yield from sub_gen()\n",
        "  print('<--', result)\n",
        "  yield 2"
      ],
      "metadata": {
        "id": "WaU57Vlgo0EZ"
      },
      "execution_count": null,
      "outputs": []
    },
    {
      "cell_type": "code",
      "source": [
        "for x in gen():\n",
        "  print(x)"
      ],
      "metadata": {
        "colab": {
          "base_uri": "https://localhost:8080/"
        },
        "id": "DdPwXAaSpHSR",
        "outputId": "fe226dd5-99ee-4bc2-f365-057f05b58905"
      },
      "execution_count": null,
      "outputs": [
        {
          "output_type": "stream",
          "name": "stdout",
          "text": [
            "1\n",
            "1.1\n",
            "1.2\n",
            "<-- Done!\n",
            "2\n"
          ]
        }
      ]
    },
    {
      "cell_type": "markdown",
      "source": [
        "### Reinventing chian: A simple but practical examples of `yield from`\n",
        "\n"
      ],
      "metadata": {
        "id": "QjXNJmK5pMkb"
      }
    },
    {
      "cell_type": "code",
      "source": [
        "def chain(*iterables):\n",
        "  for it in iterables:\n",
        "    for i in it:\n",
        "      yield i\n",
        "\n",
        "s = 'ABC'\n",
        "r = range(3)\n",
        "list(chain(s, r))"
      ],
      "metadata": {
        "colab": {
          "base_uri": "https://localhost:8080/"
        },
        "id": "kCMDDmwXpJ63",
        "outputId": "a39872ff-642c-4659-ca8e-1b3e5d4a32d8"
      },
      "execution_count": null,
      "outputs": [
        {
          "output_type": "execute_result",
          "data": {
            "text/plain": [
              "['A', 'B', 'C', 0, 1, 2]"
            ]
          },
          "metadata": {},
          "execution_count": 92
        }
      ]
    },
    {
      "cell_type": "code",
      "source": [
        "def chain(*iterables):\n",
        "  for it in iterables:\n",
        "    yield from it\n",
        "\n",
        "s = 'ABC'\n",
        "r = range(3)\n",
        "list(chain(s, r))"
      ],
      "metadata": {
        "colab": {
          "base_uri": "https://localhost:8080/"
        },
        "id": "pXkCt7IEpeOZ",
        "outputId": "7e391132-0f30-488c-f146-71070c352d22"
      },
      "execution_count": null,
      "outputs": [
        {
          "output_type": "execute_result",
          "data": {
            "text/plain": [
              "['A', 'B', 'C', 0, 1, 2]"
            ]
          },
          "metadata": {},
          "execution_count": 93
        }
      ]
    },
    {
      "cell_type": "markdown",
      "source": [
        "### Traversing a Tree\n",
        "\n",
        "a script to traverse a tree structure\n"
      ],
      "metadata": {
        "id": "rkhizvwppomG"
      }
    },
    {
      "cell_type": "code",
      "source": [
        "def tree(cls):\n",
        "  yield cls.__name__\n",
        "\n",
        "def display(cls):\n",
        "  for cls_name in tree(cls):\n",
        "    print(cls_name)\n",
        "\n",
        "if __name__ == '__main__':\n",
        "  display(BaseException)"
      ],
      "metadata": {
        "colab": {
          "base_uri": "https://localhost:8080/"
        },
        "id": "dZjZqUZ5pkI_",
        "outputId": "1b18c4f8-4aee-480c-fc32-ab4418a091b5"
      },
      "execution_count": null,
      "outputs": [
        {
          "output_type": "stream",
          "name": "stdout",
          "text": [
            "BaseException\n"
          ]
        }
      ]
    },
    {
      "cell_type": "code",
      "source": [
        "# tree/step1/tree.py\n",
        "def tree(cls, level=0):\n",
        "  yield cls.__name__, level\n",
        "  for subcls in cls.__subclasses__():\n",
        "    yield from tree(subcls, level + 1)\n",
        "    # yield sub_cls.__name__, 1\n",
        "\n",
        "def display(cls):\n",
        "  for cls_name, level in tree(cls):\n",
        "    indent = ' ' * 4 * level\n",
        "    print(f\"{indent}{cls_name}\")\n",
        "\n",
        "if __name__ == '__main__':\n",
        "  display(BaseException)"
      ],
      "metadata": {
        "colab": {
          "base_uri": "https://localhost:8080/"
        },
        "id": "SCp68FEbqGuJ",
        "outputId": "c5373872-55fe-4a62-b67a-b2fde4f70d4c"
      },
      "execution_count": null,
      "outputs": [
        {
          "output_type": "stream",
          "name": "stdout",
          "text": [
            "BaseException\n",
            "    Exception\n",
            "        TypeError\n",
            "            MultipartConversionError\n",
            "            FloatOperation\n",
            "            DTypePromotionError\n",
            "            UFuncTypeError\n",
            "                UFuncTypeError\n",
            "                    UFuncTypeError\n",
            "                UFuncTypeError\n",
            "                    UFuncTypeError\n",
            "                    UFuncTypeError\n",
            "            ConversionError\n",
            "            StreamConsumedError\n",
            "            InvalidType\n",
            "            ApplyTypeError\n",
            "            ArrowTypeError\n",
            "            TqdmTypeError\n",
            "        StopAsyncIteration\n",
            "        StopIteration\n",
            "        ImportError\n",
            "            ModuleNotFoundError\n",
            "                PackageNotFoundError\n",
            "            ZipImportError\n",
            "        OSError\n",
            "            ConnectionError\n",
            "                BrokenPipeError\n",
            "                ConnectionAbortedError\n",
            "                ConnectionRefusedError\n",
            "                ConnectionResetError\n",
            "                    RemoteDisconnected\n",
            "            BlockingIOError\n",
            "            ChildProcessError\n",
            "            FileExistsError\n",
            "            FileNotFoundError\n",
            "                ExecutableNotFoundError\n",
            "            IsADirectoryError\n",
            "            NotADirectoryError\n",
            "            InterruptedError\n",
            "                InterruptedSystemCall\n",
            "            PermissionError\n",
            "            ProcessLookupError\n",
            "            TimeoutError\n",
            "            UnsupportedOperation\n",
            "            itimer_error\n",
            "            Error\n",
            "                SameFileError\n",
            "            SpecialFileError\n",
            "            ExecError\n",
            "            ReadError\n",
            "            herror\n",
            "            gaierror\n",
            "            SSLError\n",
            "                SSLCertVerificationError\n",
            "                SSLZeroReturnError\n",
            "                SSLWantWriteError\n",
            "                SSLWantReadError\n",
            "                SSLSyscallError\n",
            "                SSLEOFError\n",
            "            URLError\n",
            "                HTTPError\n",
            "                ContentTooShortError\n",
            "            UnidentifiedImageError\n",
            "            BadGzipFile\n",
            "            ProxyError\n",
            "                GeneralProxyError\n",
            "                ProxyConnectionError\n",
            "                SOCKS5AuthError\n",
            "                SOCKS5Error\n",
            "                SOCKS4Error\n",
            "                HTTPError\n",
            "            LoadError\n",
            "            RequestException\n",
            "                InvalidJSONError\n",
            "                    JSONDecodeError\n",
            "                HTTPError\n",
            "                ConnectionError\n",
            "                    ProxyError\n",
            "                    SSLError\n",
            "                    ConnectTimeout\n",
            "                Timeout\n",
            "                    ConnectTimeout\n",
            "                    ReadTimeout\n",
            "                URLRequired\n",
            "                TooManyRedirects\n",
            "                MissingSchema\n",
            "                InvalidSchema\n",
            "                InvalidURL\n",
            "                    InvalidProxyURL\n",
            "                InvalidHeader\n",
            "                ChunkedEncodingError\n",
            "                ContentDecodingError\n",
            "                StreamConsumedError\n",
            "                RetryError\n",
            "                UnrewindableBodyError\n",
            "            OSError\n",
            "            DatabaseError\n",
            "        EOFError\n",
            "            IncompleteReadError\n",
            "        RuntimeError\n",
            "            RecursionError\n",
            "            NotImplementedError\n",
            "                StdinNotImplementedError\n",
            "                ZMQVersionError\n",
            "                AbstractMethodError\n",
            "                ArrowNotImplementedError\n",
            "            _DeadlockError\n",
            "            BrokenBarrierError\n",
            "            BrokenExecutor\n",
            "                BrokenThreadPool\n",
            "            SendfileNotAvailableError\n",
            "            RemovedCommandError\n",
            "            PackageDiscoveryError\n",
            "            TooHardError\n",
            "            ExtractionError\n",
            "            VariableError\n",
            "            CookieConflictError\n",
            "            PyperclipException\n",
            "                PyperclipWindowsException\n",
            "            ProjError\n",
            "                CRSError\n",
            "            GeodError\n",
            "            DataDirError\n",
            "        NameError\n",
            "            UnboundLocalError\n",
            "            NumExprClobberingError\n",
            "            UndefinedVariableError\n",
            "        AttributeError\n",
            "            FrozenInstanceError\n",
            "            OptionError\n",
            "        SyntaxError\n",
            "            IndentationError\n",
            "                TabError\n",
            "            ParseError\n",
            "        LookupError\n",
            "            IndexError\n",
            "                AxisError\n",
            "                OutOfBounds\n",
            "                ArrowIndexError\n",
            "            KeyError\n",
            "                UnknownBackend\n",
            "                NoSuchKernel\n",
            "                UnknownTimeZoneError\n",
            "                ZoneInfoNotFoundError\n",
            "                OptionError\n",
            "                UnsortedIndexError\n",
            "                ArrowKeyError\n",
            "                TqdmKeyError\n",
            "            CodecRegistryError\n",
            "        ValueError\n",
            "            UnicodeError\n",
            "                UnicodeEncodeError\n",
            "                UnicodeDecodeError\n",
            "                UnicodeTranslateError\n",
            "                IDNAError\n",
            "                    IDNABidiError\n",
            "                    InvalidCodepoint\n",
            "                    InvalidCodepointContext\n",
            "            UnsupportedOperation\n",
            "            JSONDecodeError\n",
            "                JSONDecodeError\n",
            "            UnsupportedDigestmodError\n",
            "            Error\n",
            "            ClassNotFound\n",
            "            SSLCertVerificationError\n",
            "            ClipboardEmpty\n",
            "            MessageDefect\n",
            "                NoBoundaryInMultipartDefect\n",
            "                StartBoundaryNotFoundDefect\n",
            "                CloseBoundaryNotFoundDefect\n",
            "                FirstHeaderLineIsContinuationDefect\n",
            "                MisplacedEnvelopeHeaderDefect\n",
            "                MissingHeaderBodySeparatorDefect\n",
            "                MultipartInvariantViolationDefect\n",
            "                InvalidMultipartContentTransferEncodingDefect\n",
            "                UndecodableBytesDefect\n",
            "                InvalidBase64PaddingDefect\n",
            "                InvalidBase64CharactersDefect\n",
            "                InvalidBase64LengthDefect\n",
            "                HeaderDefect\n",
            "                    InvalidHeaderDefect\n",
            "                    HeaderMissingRequiredValue\n",
            "                    NonPrintableDefect\n",
            "                    ObsoleteHeaderDefect\n",
            "                    NonASCIILocalPartDefect\n",
            "                    InvalidDateDefect\n",
            "            IllegalMonthError\n",
            "            IllegalWeekdayError\n",
            "            MacroToEdit\n",
            "            ParserError\n",
            "            UnequalIterablesError\n",
            "            ELFInvalid\n",
            "            InvalidVersion\n",
            "            InvalidWheelFilename\n",
            "            InvalidSdistFilename\n",
            "            InvalidSpecifier\n",
            "            InvalidMarker\n",
            "            UndefinedComparison\n",
            "            UndefinedEnvironmentName\n",
            "            InvalidRequirement\n",
            "            DisabledFunctionError\n",
            "            InvalidVersion\n",
            "            AxisError\n",
            "            LinAlgError\n",
            "            DefusedXmlException\n",
            "                DTDForbidden\n",
            "                EntitiesForbidden\n",
            "                ExternalReferenceForbidden\n",
            "                NotSupportedError\n",
            "            NonIntersectingPathException\n",
            "            InvalidFileException\n",
            "            UnequalIterablesError\n",
            "            InvalidVersion\n",
            "            ELFInvalid\n",
            "            InvalidWheelFilename\n",
            "            InvalidSdistFilename\n",
            "            InvalidSpecifier\n",
            "            InvalidMarker\n",
            "            UndefinedComparison\n",
            "            UndefinedEnvironmentName\n",
            "            InvalidRequirement\n",
            "                RequirementParseError\n",
            "            LocationValueError\n",
            "                LocationParseError\n",
            "                URLSchemeUnknown\n",
            "                    ProxySchemeUnknown\n",
            "            ResponseNotChunked\n",
            "            ProxySchemeUnsupported\n",
            "            AddressValueError\n",
            "            NetmaskValueError\n",
            "            CertificateError\n",
            "            MissingSchema\n",
            "            InvalidSchema\n",
            "            InvalidURL\n",
            "                InvalidProxyURL\n",
            "            InvalidHeader\n",
            "            MalformedError\n",
            "            InvalidResource\n",
            "            InvalidOperation\n",
            "            InvalidValue\n",
            "            OutOfBoundsDatetime\n",
            "            OutOfBoundsTimedelta\n",
            "            InvalidVersion\n",
            "            DateParseError\n",
            "            IncompatibleFrequency\n",
            "            IntCastingNaNError\n",
            "            NullFrequencyError\n",
            "            UnsupportedFunctionCall\n",
            "            ParserError\n",
            "            EmptyDataError\n",
            "            MergeError\n",
            "            DuplicateLabelError\n",
            "            SettingWithCopyError\n",
            "            ArrowInvalid\n",
            "            StatisticsError\n",
            "        AssertionError\n",
            "            ProxySchemeUnknown\n",
            "        ArithmeticError\n",
            "            FloatingPointError\n",
            "            OverflowError\n",
            "            ZeroDivisionError\n",
            "                DivisionByZero\n",
            "                DivisionUndefined\n",
            "            DecimalException\n",
            "                Clamped\n",
            "                Rounded\n",
            "                    Underflow\n",
            "                    Overflow\n",
            "                Inexact\n",
            "                    Underflow\n",
            "                    Overflow\n",
            "                Subnormal\n",
            "                    Underflow\n",
            "                DivisionByZero\n",
            "                FloatOperation\n",
            "                InvalidOperation\n",
            "                    ConversionSyntax\n",
            "                    DivisionImpossible\n",
            "                    DivisionUndefined\n",
            "                    InvalidContext\n",
            "        SystemError\n",
            "            CodecRegistryError\n",
            "        ReferenceError\n",
            "        MemoryError\n",
            "            MemoryError\n",
            "            ArrowMemoryError\n",
            "        BufferError\n",
            "        Warning\n",
            "            UserWarning\n",
            "                GetPassWarning\n",
            "                FormatterWarning\n",
            "                SetuptoolsWarning\n",
            "                    InformationOnly\n",
            "                    SetuptoolsDeprecationWarning\n",
            "                        _AmbiguousMarker\n",
            "                        _DeprecatedConfig\n",
            "                        _WouldIgnoreField\n",
            "                        DistDeprecationWarning\n",
            "                    _BetaConfiguration\n",
            "                    _InvalidFile\n",
            "                VisibleDeprecationWarning\n",
            "                RankWarning\n",
            "                ConversionWarning\n",
            "                RankWarning\n",
            "                CryptographyDeprecationWarning\n",
            "                CSSWarning\n",
            "            EncodingWarning\n",
            "            DeprecationWarning\n",
            "                ProvisionalWarning\n",
            "                ModuleDeprecationWarning\n",
            "                MatplotlibDeprecationWarning\n",
            "                FileModeWarning\n",
            "                Python37DeprecationWarning\n",
            "                Python37DeprecationWarning\n",
            "                TqdmDeprecationWarning\n",
            "            PendingDeprecationWarning\n",
            "            SyntaxWarning\n",
            "            RuntimeWarning\n",
            "                ProactorSelectorThreadWarning\n",
            "                UnknownTimezoneWarning\n",
            "                ComplexWarning\n",
            "                DecompressionBombWarning\n",
            "                PEP440Warning\n",
            "                InvalidTZPathWarning\n",
            "                TqdmSynchronisationWarning\n",
            "                TqdmMonitorWarning\n",
            "            FutureWarning\n",
            "                ProvisionalCompleterWarning\n",
            "                MaskedArrayFutureWarning\n",
            "                ShapelyDeprecationWarning\n",
            "                TqdmExperimentalWarning\n",
            "            ImportWarning\n",
            "            UnicodeWarning\n",
            "            BytesWarning\n",
            "            ResourceWarning\n",
            "            DeprecatedTzFormatWarning\n",
            "            MathTextWarning\n",
            "            PkgResourcesDeprecationWarning\n",
            "            HTTPWarning\n",
            "                SecurityWarning\n",
            "                    InsecureRequestWarning\n",
            "                    NotOpenSSLWarning\n",
            "                    SystemTimeWarning\n",
            "                    InsecurePlatformWarning\n",
            "                DependencyWarning\n",
            "            RequestsWarning\n",
            "                FileModeWarning\n",
            "                RequestsDependencyWarning\n",
            "            ExperimentalApiWarning\n",
            "            PerformanceWarning\n",
            "            DtypeWarning\n",
            "            ParserWarning\n",
            "            AccessorRegistrationWarning\n",
            "            SettingWithCopyWarning\n",
            "            ChainedAssignmentError\n",
            "            IncompatibilityWarning\n",
            "            AttributeConflictWarning\n",
            "            PossiblePrecisionLoss\n",
            "            ValueLabelTypeMismatch\n",
            "            InvalidColumnName\n",
            "            CategoricalConversionWarning\n",
            "            TqdmWarning\n",
            "                TqdmExperimentalWarning\n",
            "                TqdmDeprecationWarning\n",
            "                TqdmMonitorWarning\n",
            "        _OptionError\n",
            "        error\n",
            "        Verbose\n",
            "        Error\n",
            "        _Error\n",
            "        SubprocessError\n",
            "            CalledProcessError\n",
            "            TimeoutExpired\n",
            "        Error\n",
            "        TokenError\n",
            "        StopTokenizing\n",
            "        error\n",
            "        LZMAError\n",
            "        RegistryError\n",
            "        _GiveupOnFastCopy\n",
            "        ClassFoundException\n",
            "        EndOfBlock\n",
            "        TraitError\n",
            "        _GiveupOnSendfile\n",
            "        error\n",
            "        PickleError\n",
            "            PicklingError\n",
            "            UnpicklingError\n",
            "        _Stop\n",
            "        Empty\n",
            "        Full\n",
            "        ArgumentError\n",
            "        ArgumentTypeError\n",
            "        ConfigError\n",
            "            ConfigLoaderError\n",
            "                ArgumentError\n",
            "            ConfigFileNotFound\n",
            "        ConfigurableError\n",
            "            MultipleInstanceError\n",
            "        ApplicationError\n",
            "        ErrorDuringImport\n",
            "        BdbQuit\n",
            "        Restart\n",
            "        ExceptionPexpect\n",
            "            EOF\n",
            "            TIMEOUT\n",
            "        error\n",
            "        PtyProcessError\n",
            "        FindCmdError\n",
            "        HomeDirError\n",
            "        ProfileDirError\n",
            "        IPythonCoreError\n",
            "            TryNext\n",
            "            UsageError\n",
            "            StdinNotImplementedError\n",
            "        InputRejected\n",
            "        GetoptError\n",
            "        Incomplete\n",
            "        OptionError\n",
            "        ErrorToken\n",
            "        PrefilterError\n",
            "        AliasError\n",
            "            InvalidAliasError\n",
            "        Error\n",
            "            InterfaceError\n",
            "            DatabaseError\n",
            "                InternalError\n",
            "                OperationalError\n",
            "                ProgrammingError\n",
            "                IntegrityError\n",
            "                DataError\n",
            "                NotSupportedError\n",
            "        Warning\n",
            "        Error\n",
            "            CancelledError\n",
            "            TimeoutError\n",
            "            InvalidStateError\n",
            "        TimeoutError\n",
            "        InvalidStateError\n",
            "        LimitOverrunError\n",
            "        QueueEmpty\n",
            "        QueueFull\n",
            "        SpaceInInput\n",
            "        DOMException\n",
            "            IndexSizeErr\n",
            "            DomstringSizeErr\n",
            "            HierarchyRequestErr\n",
            "            WrongDocumentErr\n",
            "            InvalidCharacterErr\n",
            "            NoDataAllowedErr\n",
            "            NoModificationAllowedErr\n",
            "            NotFoundErr\n",
            "            NotSupportedErr\n",
            "            InuseAttributeErr\n",
            "            InvalidStateErr\n",
            "            SyntaxErr\n",
            "            InvalidModificationErr\n",
            "            NamespaceErr\n",
            "            InvalidAccessErr\n",
            "            ValidationErr\n",
            "        ValidationError\n",
            "        EditReadOnlyBuffer\n",
            "        _Retry\n",
            "        InvalidLayoutError\n",
            "        HeightIsUnknownError\n",
            "        MessageError\n",
            "            MessageParseError\n",
            "                HeaderParseError\n",
            "                    _InvalidEwError\n",
            "                BoundaryError\n",
            "            MultipartConversionError\n",
            "            CharsetError\n",
            "        Error\n",
            "        HTTPException\n",
            "            NotConnected\n",
            "            InvalidURL\n",
            "            UnknownProtocol\n",
            "            UnknownTransferEncoding\n",
            "            UnimplementedFileMode\n",
            "            IncompleteRead\n",
            "                IncompleteRead\n",
            "                InvalidChunkLength\n",
            "            ImproperConnectionState\n",
            "                CannotSendRequest\n",
            "                CannotSendHeader\n",
            "                ResponseNotReady\n",
            "            BadStatusLine\n",
            "                RemoteDisconnected\n",
            "            LineTooLong\n",
            "        InteractivelyDefined\n",
            "        KillEmbedded\n",
            "        ArgumentError\n",
            "        ZMQBaseError\n",
            "            ZMQError\n",
            "                ContextTerminated\n",
            "                Again\n",
            "                InterruptedSystemCall\n",
            "            ZMQBindError\n",
            "            NotDone\n",
            "        NoIPAddresses\n",
            "        Error\n",
            "            NoSectionError\n",
            "            DuplicateSectionError\n",
            "            DuplicateOptionError\n",
            "            NoOptionError\n",
            "            InterpolationError\n",
            "                InterpolationMissingOptionError\n",
            "                InterpolationSyntaxError\n",
            "                InterpolationDepthError\n",
            "            ParsingError\n",
            "                MissingSectionHeaderError\n",
            "        InvalidPortNumber\n",
            "        DuplicateKernelError\n",
            "        error\n",
            "        ReturnValueIgnoredError\n",
            "        KeyReuseError\n",
            "        UnknownKeyError\n",
            "        LeakedCallbackError\n",
            "        BadYieldError\n",
            "        ReturnValueIgnoredError\n",
            "        Return\n",
            "        QueueEmpty\n",
            "        QueueFull\n",
            "        DistutilsError\n",
            "            DistutilsModuleError\n",
            "            DistutilsClassError\n",
            "            DistutilsGetoptError\n",
            "            DistutilsArgError\n",
            "            DistutilsFileError\n",
            "            DistutilsOptionError\n",
            "            DistutilsSetupError\n",
            "            DistutilsPlatformError\n",
            "            DistutilsExecError\n",
            "            DistutilsInternalError\n",
            "            DistutilsTemplateError\n",
            "            DistutilsByteCompileError\n",
            "            RemovedCommandError\n",
            "            PackageDiscoveryError\n",
            "        CCompilerError\n",
            "            PreprocessError\n",
            "            CompileError\n",
            "            LibError\n",
            "            LinkError\n",
            "            UnknownFileError\n",
            "        BadZipFile\n",
            "        LargeZipFile\n",
            "        Error\n",
            "        ParserSyntaxError\n",
            "        Error\n",
            "            AuthorizationError\n",
            "            RuntimeManagementError\n",
            "            MessageError\n",
            "        WidgetException\n",
            "        JsException\n",
            "        ConverterError\n",
            "            ConverterLockError\n",
            "        MAError\n",
            "            MaskError\n",
            "        FormattedTracebackError\n",
            "        Error\n",
            "            NoSuchProcess\n",
            "                ZombieProcess\n",
            "            AccessDenied\n",
            "            TimeoutExpired\n",
            "        _Ipv6UnsupportedError\n",
            "        ParseBaseException\n",
            "            ParseException\n",
            "            ParseFatalException\n",
            "                ParseSyntaxException\n",
            "        RecursiveGrammarException\n",
            "        HttpLib2Error\n",
            "            HttpLib2ErrorWithResponse\n",
            "                RedirectMissingLocation\n",
            "                RedirectLimit\n",
            "                FailedToDecompressContent\n",
            "                UnimplementedDigestAuthOptionError\n",
            "                UnimplementedHmacDigestAuthOptionError\n",
            "            MalformedHeader\n",
            "            RelativeURIError\n",
            "            ServerNotFoundError\n",
            "            ProxiesUnavailableError\n",
            "        ExpatError\n",
            "        DecompressionBombError\n",
            "        FFIError\n",
            "        CDefError\n",
            "        VerificationError\n",
            "        VerificationMissing\n",
            "        PkgConfigError\n",
            "        BadRequiredStrength\n",
            "        DuplicateConstraint\n",
            "        DuplicateEditVariable\n",
            "        UnknownConstraint\n",
            "        UnknownEditVariable\n",
            "        UnsatisfiableConstraint\n",
            "        NonGuiException\n",
            "        InvalidIndexError\n",
            "        TerminateTrajectory\n",
            "        NoFreePortFoundError\n",
            "        DebuggerInitializationError\n",
            "        Error\n",
            "            ProtocolError\n",
            "            ResponseError\n",
            "            Fault\n",
            "        ParserSyntaxError\n",
            "        ResolutionError\n",
            "            VersionConflict\n",
            "                ContextualVersionConflict\n",
            "            DistributionNotFound\n",
            "            UnknownExtra\n",
            "        _Error\n",
            "        UnableToResolveVariableException\n",
            "        InvalidTypeInArgsException\n",
            "        InvalidResponse\n",
            "        DataCorruption\n",
            "        HTTPError\n",
            "            PoolError\n",
            "                RequestError\n",
            "                    MaxRetryError\n",
            "                    HostChangedError\n",
            "                    ReadTimeoutError\n",
            "                EmptyPoolError\n",
            "                FullPoolError\n",
            "                ClosedPoolError\n",
            "            SSLError\n",
            "            ProxyError\n",
            "            DecodeError\n",
            "            ProtocolError\n",
            "                ResponseNotChunked\n",
            "            TimeoutStateError\n",
            "            TimeoutError\n",
            "                ReadTimeoutError\n",
            "                ConnectTimeoutError\n",
            "                    NewConnectionError\n",
            "                        NameResolutionError\n",
            "            NewConnectionError\n",
            "                NameResolutionError\n",
            "            LocationValueError\n",
            "                LocationParseError\n",
            "                URLSchemeUnknown\n",
            "                    ProxySchemeUnknown\n",
            "            ResponseError\n",
            "            BodyNotHttplibCompatible\n",
            "            IncompleteRead\n",
            "            InvalidChunkLength\n",
            "            InvalidHeader\n",
            "            HeaderParsingError\n",
            "            UnrewindableBodyError\n",
            "            ContentDecodingError\n",
            "        CookieError\n",
            "        Error\n",
            "            DecodeError\n",
            "            EncodeError\n",
            "        Error\n",
            "            TypeTransformationError\n",
            "        Error\n",
            "            DescriptorDatabaseConflictingDefinitionError\n",
            "        AioRpcStatus\n",
            "        BaseError\n",
            "            UsageError\n",
            "            AbortError\n",
            "            InternalError\n",
            "                ExecuteBatchError\n",
            "            _ServerStoppedError\n",
            "        _WatchConnectivityFailed\n",
            "        _RequestCallError\n",
            "        FutureTimeoutError\n",
            "        FutureCancelledError\n",
            "        RpcError\n",
            "            AioRpcError\n",
            "            _InactiveRpcError\n",
            "            _Rendezvous\n",
            "                _SingleThreadedRendezvous\n",
            "                _MultiThreadedRendezvous\n",
            "        UsageError\n",
            "        GoogleAPIError\n",
            "            DuplicateCredentialArgs\n",
            "            RetryError\n",
            "            GoogleAPICallError\n",
            "                Redirection\n",
            "                    MovedPermanently\n",
            "                    NotModified\n",
            "                    TemporaryRedirect\n",
            "                    ResumeIncomplete\n",
            "                ClientError\n",
            "                    BadRequest\n",
            "                        InvalidArgument\n",
            "                        FailedPrecondition\n",
            "                        OutOfRange\n",
            "                    Unauthorized\n",
            "                        Unauthenticated\n",
            "                    Forbidden\n",
            "                        PermissionDenied\n",
            "                    NotFound\n",
            "                    MethodNotAllowed\n",
            "                    Conflict\n",
            "                        AlreadyExists\n",
            "                        Aborted\n",
            "                    LengthRequired\n",
            "                    PreconditionFailed\n",
            "                    RequestRangeNotSatisfiable\n",
            "                    TooManyRequests\n",
            "                        ResourceExhausted\n",
            "                    Cancelled\n",
            "                ServerError\n",
            "                    InternalServerError\n",
            "                    Unknown\n",
            "                    DataLoss\n",
            "                    MethodNotImplemented\n",
            "                    BadGateway\n",
            "                    ServiceUnavailable\n",
            "                    GatewayTimeout\n",
            "                        DeadlineExceeded\n",
            "        InvalidOperationException\n",
            "        GoogleAuthError\n",
            "            TransportError\n",
            "            RefreshError\n",
            "                ReauthFailError\n",
            "                    ReauthSamlChallengeFailError\n",
            "            UserAccessTokenError\n",
            "            DefaultCredentialsError\n",
            "                MalformedError\n",
            "                InvalidResource\n",
            "                InvalidOperation\n",
            "                InvalidValue\n",
            "                InvalidType\n",
            "                OSError\n",
            "            MutualTLSChannelError\n",
            "            ClientCertError\n",
            "            OAuthError\n",
            "        VerificationError\n",
            "        error\n",
            "        UnsupportedAlgorithm\n",
            "        AlreadyFinalized\n",
            "        AlreadyUpdated\n",
            "        NotYetFinalized\n",
            "        InvalidTag\n",
            "        InvalidSignature\n",
            "        InternalError\n",
            "        InvalidKey\n",
            "        InterfaceNotImplemented\n",
            "        UnsupportedGeneralNameType\n",
            "        DuplicateExtension\n",
            "        ExtensionNotFound\n",
            "        AttributeNotFound\n",
            "        InvalidVersion\n",
            "        Error\n",
            "            UnknownTimeZoneError\n",
            "            InvalidTimeError\n",
            "                AmbiguousTimeError\n",
            "                NonExistentTimeError\n",
            "        NumbaUtilError\n",
            "        InvalidIndexError\n",
            "        DataError\n",
            "        SpecificationError\n",
            "        IndexingError\n",
            "        PossibleDataLossError\n",
            "        ClosedFileError\n",
            "        LossySetitemError\n",
            "        NoBufferPresent\n",
            "        InvalidComparison\n",
            "        ArrowException\n",
            "            ArrowInvalid\n",
            "            ArrowMemoryError\n",
            "            ArrowKeyError\n",
            "            ArrowTypeError\n",
            "            ArrowNotImplementedError\n",
            "            ArrowCapacityError\n",
            "            ArrowIndexError\n",
            "            ArrowSerializationError\n",
            "            ArrowCancelled\n",
            "        ParseError\n",
            "        TarError\n",
            "            ExtractError\n",
            "            ReadError\n",
            "            CompressionError\n",
            "            StreamError\n",
            "            HeaderError\n",
            "                EmptyHeaderError\n",
            "                TruncatedHeaderError\n",
            "                EOFHeaderError\n",
            "                InvalidHeaderError\n",
            "                SubsequentHeaderError\n",
            "            FilterError\n",
            "                AbsolutePathError\n",
            "                OutsideDestinationError\n",
            "                SpecialFileError\n",
            "                AbsoluteLinkError\n",
            "                LinkOutsideDestinationError\n",
            "        Error\n",
            "            SerializeToJsonError\n",
            "            ParseError\n",
            "        _OperationNotComplete\n",
            "        ShapelyError\n",
            "            GEOSException\n",
            "            UnsupportedGEOSVersionError\n",
            "            DimensionError\n",
            "            TopologicalError\n",
            "            EmptyPartError\n",
            "            GeometryTypeError\n",
            "        BigQueryError\n",
            "            LegacyBigQueryStorageError\n",
            "            LegacyPyarrowError\n",
            "            BigQueryStorageNotFoundError\n",
            "            LegacyPandasError\n",
            "        StreamClosedError\n",
            "        Warning\n",
            "        Error\n",
            "            InterfaceError\n",
            "            DatabaseError\n",
            "                DataError\n",
            "                OperationalError\n",
            "                IntegrityError\n",
            "                InternalError\n",
            "                ProgrammingError\n",
            "                NotSupportedError\n",
            "        ParseError\n",
            "            QueryParamsParseError\n",
            "            DuplicateQueryParamsError\n",
            "    GeneratorExit\n",
            "    SystemExit\n",
            "    KeyboardInterrupt\n",
            "    CancelledError\n",
            "    AbortThread\n",
            "    AbortThread\n",
            "    PanicException\n"
          ]
        }
      ]
    },
    {
      "cell_type": "markdown",
      "source": [
        "## Generic Iterable Types"
      ],
      "metadata": {
        "id": "pnr-fnFivQKf"
      }
    },
    {
      "cell_type": "code",
      "source": [
        "# replacer.py returns an iterator of tuples of strings\n",
        "\n",
        "from collections.abc import Iterable\n",
        "from typing import TypeAlias\n",
        "\n",
        "FromTo : TypeAlias = tuple[str, str] # define type alias\n",
        "\n",
        "def zip_replace(text: str, changes: Iterable[FromTo]) -> str:\n",
        "  for from_, to in changes:\n",
        "    text = text.replace(from_, to)\n",
        "  return text"
      ],
      "metadata": {
        "id": "WeoPWMpoqpbE"
      },
      "execution_count": 1,
      "outputs": []
    },
    {
      "cell_type": "markdown",
      "source": [
        "`Iterator` types don't appear as often as `Iterable` types, but they are also simple to write."
      ],
      "metadata": {
        "id": "n6N2PehQwjrh"
      }
    },
    {
      "cell_type": "code",
      "source": [
        "# fibo_gen.py\n",
        "\n",
        "from collections.abc import Iterator\n",
        "\n",
        "def fibonacci() -> Iterator[int]:\n",
        "  a, b = 0, 1\n",
        "  while True:\n",
        "    yield a + b\n",
        "    a, b = b, a + b"
      ],
      "metadata": {
        "id": "qApKQVtMwhW6"
      },
      "execution_count": 2,
      "outputs": []
    },
    {
      "cell_type": "code",
      "source": [
        "# itergentype.py\n",
        "\n",
        "from collections.abc import Iterator\n",
        "from keyword import kwlist\n",
        "from typing import TYPE_CHECKING\n",
        "\n",
        "short_kw = (k for k in kwlist if len(k) < 5)\n",
        "\n",
        "if TYPE_CHECKING:\n",
        "  reveal_type(short_kw)\n",
        "\n",
        "long_kw: Iterator[str] = (k for k in kwlist if len(k) >= 4)\n",
        "\n",
        "if TYPE_CHECKING:\n",
        "  reveal_type(long_kw)\n"
      ],
      "metadata": {
        "id": "T25Lhyj-w1mp"
      },
      "execution_count": null,
      "outputs": []
    },
    {
      "cell_type": "code",
      "source": [
        "!pip install mypy"
      ],
      "metadata": {
        "colab": {
          "base_uri": "https://localhost:8080/"
        },
        "id": "CAWYg8lNxdkQ",
        "outputId": "edb4c068-8cea-4087-8ffb-b08c5612d37a"
      },
      "execution_count": 3,
      "outputs": [
        {
          "output_type": "stream",
          "name": "stdout",
          "text": [
            "Collecting mypy\n",
            "  Downloading mypy-1.10.0-cp310-cp310-manylinux_2_17_x86_64.manylinux2014_x86_64.whl (12.7 MB)\n",
            "\u001b[2K     \u001b[90m━━━━━━━━━━━━━━━━━━━━━━━━━━━━━━━━━━━━━━━━\u001b[0m \u001b[32m12.7/12.7 MB\u001b[0m \u001b[31m47.4 MB/s\u001b[0m eta \u001b[36m0:00:00\u001b[0m\n",
            "\u001b[?25hRequirement already satisfied: typing-extensions>=4.1.0 in /usr/local/lib/python3.10/dist-packages (from mypy) (4.11.0)\n",
            "Collecting mypy-extensions>=1.0.0 (from mypy)\n",
            "  Downloading mypy_extensions-1.0.0-py3-none-any.whl (4.7 kB)\n",
            "Requirement already satisfied: tomli>=1.1.0 in /usr/local/lib/python3.10/dist-packages (from mypy) (2.0.1)\n",
            "Installing collected packages: mypy-extensions, mypy\n",
            "Successfully installed mypy-1.10.0 mypy-extensions-1.0.0\n"
          ]
        }
      ]
    },
    {
      "cell_type": "code",
      "source": [
        "!mypy itergentype.py"
      ],
      "metadata": {
        "colab": {
          "base_uri": "https://localhost:8080/"
        },
        "id": "8dBc39Xoxk45",
        "outputId": "a4035895-550a-45fd-9e57-5f3ed3024a35"
      },
      "execution_count": 4,
      "outputs": [
        {
          "output_type": "stream",
          "name": "stdout",
          "text": [
            "itergentype.py:10: \u001b[34mnote:\u001b[m Revealed type is \u001b[m\u001b[1m\"typing.Generator[builtins.str, None, None]\"\u001b[m\u001b[m\n",
            "itergentype.py:15: \u001b[34mnote:\u001b[m Revealed type is \u001b[m\u001b[1m\"typing.Iterator[builtins.str]\"\u001b[m\u001b[m\n",
            "\u001b[1m\u001b[32mSuccess: no issues found in 1 source file\u001b[m\n"
          ]
        }
      ]
    },
    {
      "cell_type": "markdown",
      "source": [
        "`Iterator[T]` is a shortcut for `Generator[str, None, None]`. Both annotations mean \"a generator that yields items of type `T`, but that does not consume or return values\""
      ],
      "metadata": {
        "id": "521sl-Arx9BD"
      }
    },
    {
      "cell_type": "markdown",
      "source": [
        "## Classic Coroutines"
      ],
      "metadata": {
        "id": "pL_kSGaLyIqS"
      }
    },
    {
      "cell_type": "markdown",
      "source": [
        "Generators are commonly used as iterators, but they can be also used as coroutines. A coroutine is really a generator function, created with the `yield` keyword in its body. And a coroutine object is physically a generator object.\n",
        "\n",
        "`Generator[YieldType, SendType, ReturnType]`\n",
        " - `SendType` is only relevant when the generator is used as a coroutine. That type param is the type of `x` in the call `gen.send(x)`\n",
        " - Likewise, `ReturnType` is only meaningful to annotate a coroutine.\n",
        "\n",
        "Note. Classic Coroutine vs Native Coroutine\n",
        " - `Generator` for Classic Coroutine\n",
        " - `Coroutine` for Native Coroutine\n",
        "\n",
        "David Beaxzley - Pycon 2009 course hand out\n",
        " - Generators produce data for iteration\n",
        " - Coroutines are consumers of Data\n",
        " - To keep your brain from exploding, don't mix the two concepts together\n",
        " - Coroutines are not related to iteration"
      ],
      "metadata": {
        "id": "2IXkvooAyrmY"
      }
    },
    {
      "cell_type": "markdown",
      "source": [
        "### Example: Coroutine to Compute a Running Average"
      ],
      "metadata": {
        "id": "tSkW8nKT0FVD"
      }
    },
    {
      "cell_type": "code",
      "source": [
        "from collections.abc import Generator\n",
        "\n",
        "# This fcn returns a generator that yields `float` values\n",
        "# accepts `float` values via `.send()` and does not return\n",
        "# a useful value\n",
        "def averager() -> Generator[float, float, None]:\n",
        "  total = 0.0\n",
        "  count = 0\n",
        "  average = 0.0\n",
        "  # This infinite loop means that coroutine will\n",
        "  # keep on yielding as long as the client sends value\n",
        "  while True:\n",
        "    # yield statement here suspends the coroutine,\n",
        "    # yields a result to the client, and later\n",
        "    # gets a value sent by the caller to the coroutine\n",
        "    term = yield average\n",
        "    total += term\n",
        "    count += 1\n",
        "    average = total / count"
      ],
      "metadata": {
        "id": "V4MsZkmNxvWC"
      },
      "execution_count": 5,
      "outputs": []
    },
    {
      "cell_type": "code",
      "source": [
        "coro_avg = averager()\n",
        "next(coro_avg) # start the coroutine"
      ],
      "metadata": {
        "colab": {
          "base_uri": "https://localhost:8080/"
        },
        "id": "L3dxqCxD1L4Z",
        "outputId": "eb9bf6fe-7495-4b21-ea15-ed0c9e6890bb"
      },
      "execution_count": 6,
      "outputs": [
        {
          "output_type": "execute_result",
          "data": {
            "text/plain": [
              "0.0"
            ]
          },
          "metadata": {},
          "execution_count": 6
        }
      ]
    },
    {
      "cell_type": "code",
      "source": [
        "coro_avg.send(10)"
      ],
      "metadata": {
        "colab": {
          "base_uri": "https://localhost:8080/"
        },
        "id": "ruxnDtNs1Pk4",
        "outputId": "3f74367d-16c4-412b-887f-641e3bc1c8c9"
      },
      "execution_count": 7,
      "outputs": [
        {
          "output_type": "execute_result",
          "data": {
            "text/plain": [
              "10.0"
            ]
          },
          "metadata": {},
          "execution_count": 7
        }
      ]
    },
    {
      "cell_type": "code",
      "source": [
        "coro_avg.send(30)"
      ],
      "metadata": {
        "colab": {
          "base_uri": "https://localhost:8080/"
        },
        "id": "h2eJacGB1YSg",
        "outputId": "cc3b7c05-fd9a-4593-a3ca-49b976d3a3fa"
      },
      "execution_count": 8,
      "outputs": [
        {
          "output_type": "execute_result",
          "data": {
            "text/plain": [
              "20.0"
            ]
          },
          "metadata": {},
          "execution_count": 8
        }
      ]
    },
    {
      "cell_type": "code",
      "source": [
        "coro_avg.send(5)"
      ],
      "metadata": {
        "colab": {
          "base_uri": "https://localhost:8080/"
        },
        "id": "kJVXlC3J1ZhH",
        "outputId": "a369c3fe-e482-4e8f-b181-4576afb64dab"
      },
      "execution_count": 9,
      "outputs": [
        {
          "output_type": "execute_result",
          "data": {
            "text/plain": [
              "15.0"
            ]
          },
          "metadata": {},
          "execution_count": 9
        }
      ]
    },
    {
      "cell_type": "code",
      "source": [
        "coro_avg.close()"
      ],
      "metadata": {
        "id": "MLyGOmvW1aXI"
      },
      "execution_count": 10,
      "outputs": []
    },
    {
      "cell_type": "code",
      "source": [
        "coro_avg.close()"
      ],
      "metadata": {
        "id": "Xmmp-qVi15sP"
      },
      "execution_count": 11,
      "outputs": []
    },
    {
      "cell_type": "code",
      "source": [
        "coro_avg.send(5)"
      ],
      "metadata": {
        "colab": {
          "base_uri": "https://localhost:8080/",
          "height": 149
        },
        "id": "2neamGaM17aH",
        "outputId": "572d6c72-01ec-473d-e33f-633beee8b847"
      },
      "execution_count": 12,
      "outputs": [
        {
          "output_type": "error",
          "ename": "StopIteration",
          "evalue": "",
          "traceback": [
            "\u001b[0;31m---------------------------------------------------------------------------\u001b[0m",
            "\u001b[0;31mStopIteration\u001b[0m                             Traceback (most recent call last)",
            "\u001b[0;32m<ipython-input-12-7579ececbff4>\u001b[0m in \u001b[0;36m<cell line: 1>\u001b[0;34m()\u001b[0m\n\u001b[0;32m----> 1\u001b[0;31m \u001b[0mcoro_avg\u001b[0m\u001b[0;34m.\u001b[0m\u001b[0msend\u001b[0m\u001b[0;34m(\u001b[0m\u001b[0;36m5\u001b[0m\u001b[0;34m)\u001b[0m\u001b[0;34m\u001b[0m\u001b[0;34m\u001b[0m\u001b[0m\n\u001b[0m",
            "\u001b[0;31mStopIteration\u001b[0m: "
          ]
        }
      ]
    },
    {
      "cell_type": "markdown",
      "source": [
        "### Returning a Value from a Coroutine"
      ],
      "metadata": {
        "id": "YvaolR6Y2GXL"
      }
    },
    {
      "cell_type": "code",
      "source": [
        "# coroaverager2.py\n",
        "\n",
        "from collections.abc import Generator\n",
        "from typing import Union, NamedTuple, TypeAlias\n",
        "\n",
        "# averager2 coroutine will return an instance of Result\n",
        "class Result(NamedTuple):\n",
        "  count: int # type: ignore\n",
        "  averager: float\n",
        "\n",
        "# class to make a sentinel value with a readable __repr__\n",
        "class Sentinel:\n",
        "  def __repr__(self):\n",
        "    return f'<Sentinel>'\n",
        "\n",
        "STOP = Sentinel()\n",
        "\n",
        "SendType: TypeAlias = Union[float, Sentinel]"
      ],
      "metadata": {
        "id": "SwwLCWmM18Vh"
      },
      "execution_count": 15,
      "outputs": []
    },
    {
      "cell_type": "code",
      "source": [
        "def averager2(verbose: bool = False) -> Generator[None, SendType, Result]:\n",
        "  total = 0.0\n",
        "  count = 0\n",
        "  average = 0.0\n",
        "  while True:\n",
        "    term = yield # Using yield like this only makes sense in coroutines\n",
        "                 # which are designed to consume data\n",
        "    if verbose:\n",
        "      print('received: ', term)\n",
        "    if isinstance(term, Sentinel):\n",
        "      break\n",
        "    total += term\n",
        "    count += 1\n",
        "    average = total / count\n",
        "  return Result(count, average)"
      ],
      "metadata": {
        "id": "KzEr0ilh3i44"
      },
      "execution_count": 17,
      "outputs": []
    },
    {
      "cell_type": "code",
      "source": [
        "coro_avg = averager2()"
      ],
      "metadata": {
        "id": "ecBUVU1F4NSP"
      },
      "execution_count": 30,
      "outputs": []
    },
    {
      "cell_type": "code",
      "source": [
        "next(coro_avg)"
      ],
      "metadata": {
        "id": "SvM9rkCZ4oPX"
      },
      "execution_count": 31,
      "outputs": []
    },
    {
      "cell_type": "code",
      "source": [
        "coro_avg.send(10)"
      ],
      "metadata": {
        "id": "l-40odAn4o_H"
      },
      "execution_count": 32,
      "outputs": []
    },
    {
      "cell_type": "code",
      "source": [
        "coro_avg.send(30)"
      ],
      "metadata": {
        "id": "wZbHrYh54qHn"
      },
      "execution_count": 33,
      "outputs": []
    },
    {
      "cell_type": "code",
      "source": [
        "coro_avg.send(6.5)"
      ],
      "metadata": {
        "id": "qmWQX7QZ4rW3"
      },
      "execution_count": 34,
      "outputs": []
    },
    {
      "cell_type": "code",
      "source": [
        "try:\n",
        "  coro_avg.send(STOP)\n",
        "except StopIteration as exc:\n",
        "  result = exc.value"
      ],
      "metadata": {
        "id": "fCXxajQF4sPe"
      },
      "execution_count": 35,
      "outputs": []
    },
    {
      "cell_type": "code",
      "source": [
        "result"
      ],
      "metadata": {
        "colab": {
          "base_uri": "https://localhost:8080/"
        },
        "id": "Vyvq-Jq44tOv",
        "outputId": "ada95e73-0c6c-4d96-dd00-ec516ca5490a"
      },
      "execution_count": 36,
      "outputs": [
        {
          "output_type": "execute_result",
          "data": {
            "text/plain": [
              "Result(count=3, averager=15.5)"
            ]
          },
          "metadata": {},
          "execution_count": 36
        }
      ]
    },
    {
      "cell_type": "code",
      "source": [
        "def compute():\n",
        "  res = yield from averager2(True)\n",
        "  print('computed:', res)\n",
        "  return res"
      ],
      "metadata": {
        "id": "kAXUQaQD5Avf"
      },
      "execution_count": 37,
      "outputs": []
    },
    {
      "cell_type": "code",
      "source": [
        "comp = compute()"
      ],
      "metadata": {
        "id": "02QociCb5UIe"
      },
      "execution_count": 38,
      "outputs": []
    },
    {
      "cell_type": "code",
      "source": [
        "for v in [None, 10, 20, 30, STOP]:\n",
        "  try:\n",
        "    comp.send(v)\n",
        "  except StopIteration as exc:\n",
        "    result = exc.value"
      ],
      "metadata": {
        "colab": {
          "base_uri": "https://localhost:8080/"
        },
        "id": "RVak65aE5U6G",
        "outputId": "81b477e3-d566-4415-e858-1186fca9128b"
      },
      "execution_count": 39,
      "outputs": [
        {
          "output_type": "stream",
          "name": "stdout",
          "text": [
            "received:  10\n",
            "received:  20\n",
            "received:  30\n",
            "received:  <Sentinel>\n",
            "computed: Result(count=3, averager=20.0)\n"
          ]
        }
      ]
    },
    {
      "cell_type": "code",
      "source": [
        "result"
      ],
      "metadata": {
        "colab": {
          "base_uri": "https://localhost:8080/"
        },
        "id": "MvzjEMEj5ff1",
        "outputId": "da64f63b-3a0e-43d8-d921-88ca40c4f510"
      },
      "execution_count": 40,
      "outputs": [
        {
          "output_type": "execute_result",
          "data": {
            "text/plain": [
              "Result(count=3, averager=20.0)"
            ]
          },
          "metadata": {},
          "execution_count": 40
        }
      ]
    },
    {
      "cell_type": "markdown",
      "source": [
        "### Generic Type Hints for Classic Coroutines\n",
        "\n",
        "`typing.Generator` is one of the few standard library types with a contravariant type parameter."
      ],
      "metadata": {
        "id": "yjBIYmWY6gjZ"
      }
    },
    {
      "cell_type": "code",
      "source": [
        "from typing import TypeVar, Generic, Iterator\n",
        "T_co = TypeVar('T_co', covariant=True)\n",
        "V_co = TypeVar('V_co', covariant=True)\n",
        "T_contra = TypeVar('T_contra', contravariant=True)\n",
        "\n",
        "class Generator(Iterator[T_co], Generic[T_co, T_contra, V_co],\n",
        "                extra=_G_base):\n",
        "\n"
      ],
      "metadata": {
        "id": "qLewj6n75jhX"
      },
      "execution_count": null,
      "outputs": []
    }
  ]
}