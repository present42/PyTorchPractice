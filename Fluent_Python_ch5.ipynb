{
  "nbformat": 4,
  "nbformat_minor": 0,
  "metadata": {
    "colab": {
      "provenance": [],
      "authorship_tag": "ABX9TyMHa/f44vvG3X0VlOB9u0TC",
      "include_colab_link": true
    },
    "kernelspec": {
      "name": "python3",
      "display_name": "Python 3"
    },
    "language_info": {
      "name": "python"
    }
  },
  "cells": [
    {
      "cell_type": "markdown",
      "metadata": {
        "id": "view-in-github",
        "colab_type": "text"
      },
      "source": [
        "<a href=\"https://colab.research.google.com/github/present42/PyTorchPractice/blob/main/Fluent_Python_ch5.ipynb\" target=\"_parent\"><img src=\"https://colab.research.google.com/assets/colab-badge.svg\" alt=\"Open In Colab\"/></a>"
      ]
    },
    {
      "cell_type": "markdown",
      "source": [
        "# Chapter 5 Data Class Builders\n",
        " - `collections.namedtuple`\n",
        " - `typing.NamedTuple`\n",
        " - `@dataclasses.dataclass`\n",
        "\n",
        "Note. `typing.TypedDict` does not build concrete classes that you can instantiate."
      ],
      "metadata": {
        "id": "di_f_mOb1DOP"
      }
    },
    {
      "cell_type": "code",
      "execution_count": 1,
      "metadata": {
        "id": "RvkPkpp00-0k"
      },
      "outputs": [],
      "source": [
        "class Coordinate:\n",
        "  def __init__(self, lat, lon):\n",
        "    self.lat = lat\n",
        "    self.lon = lon"
      ]
    },
    {
      "cell_type": "code",
      "source": [
        "moscow = Coordinate(55.76, 37.62)\n",
        "moscow"
      ],
      "metadata": {
        "colab": {
          "base_uri": "https://localhost:8080/"
        },
        "id": "Vwdorrj1Iz5C",
        "outputId": "e2ad13b3-8217-4740-8f3d-ef817d2a27f4"
      },
      "execution_count": 2,
      "outputs": [
        {
          "output_type": "execute_result",
          "data": {
            "text/plain": [
              "<__main__.Coordinate at 0x7fdf9bd0b250>"
            ]
          },
          "metadata": {},
          "execution_count": 2
        }
      ]
    },
    {
      "cell_type": "code",
      "source": [
        "location = Coordinate(55.76, 37.62)\n",
        "location == moscow"
      ],
      "metadata": {
        "colab": {
          "base_uri": "https://localhost:8080/"
        },
        "id": "K2kvJUpOI6uK",
        "outputId": "2dc68708-27f3-4dd8-ae0f-f4e69a63cc65"
      },
      "execution_count": 3,
      "outputs": [
        {
          "output_type": "execute_result",
          "data": {
            "text/plain": [
              "False"
            ]
          },
          "metadata": {},
          "execution_count": 3
        }
      ]
    },
    {
      "cell_type": "markdown",
      "source": [
        "The data class builders provide the necessary `__init__`, `__repr__` and `__eq__` methods automatically."
      ],
      "metadata": {
        "id": "HK7aMn9hJCwy"
      }
    },
    {
      "cell_type": "code",
      "source": [
        "from collections import namedtuple\n",
        "\n",
        "Coordinate = namedtuple('Coordinate', 'lat lon')\n",
        "issubclass(Coordinate, tuple)"
      ],
      "metadata": {
        "colab": {
          "base_uri": "https://localhost:8080/"
        },
        "id": "6VLKt5PPI-hU",
        "outputId": "450c8224-cf2a-4333-f6c0-02fb4a202920"
      },
      "execution_count": 4,
      "outputs": [
        {
          "output_type": "execute_result",
          "data": {
            "text/plain": [
              "True"
            ]
          },
          "metadata": {},
          "execution_count": 4
        }
      ]
    },
    {
      "cell_type": "code",
      "source": [
        "moscow = Coordinate(55.756, 37.617)\n",
        "moscow # Useful __repr__"
      ],
      "metadata": {
        "colab": {
          "base_uri": "https://localhost:8080/"
        },
        "id": "UYwN0TyGJVuD",
        "outputId": "d6e5b030-52f7-4d45-a6aa-4ef502ad973c"
      },
      "execution_count": 5,
      "outputs": [
        {
          "output_type": "execute_result",
          "data": {
            "text/plain": [
              "Coordinate(lat=55.756, lon=37.617)"
            ]
          },
          "metadata": {},
          "execution_count": 5
        }
      ]
    },
    {
      "cell_type": "code",
      "source": [
        "moscow == Coordinate(lat=55.756, lon=37.617) # meaningful __eq__"
      ],
      "metadata": {
        "colab": {
          "base_uri": "https://localhost:8080/"
        },
        "id": "rN58JfMrJZxq",
        "outputId": "22bb4956-7189-4a94-f8ef-67775b04bcb8"
      },
      "execution_count": 6,
      "outputs": [
        {
          "output_type": "execute_result",
          "data": {
            "text/plain": [
              "True"
            ]
          },
          "metadata": {},
          "execution_count": 6
        }
      ]
    },
    {
      "cell_type": "markdown",
      "source": [
        "Newer NamedTuple provides the same functionality, adding a type annotation to each field"
      ],
      "metadata": {
        "id": "gE3sfNQlJvSr"
      }
    },
    {
      "cell_type": "code",
      "source": [
        "import typing\n",
        "\n",
        "Coordinate = typing.NamedTuple('Coordinate', [('lat', float), ('lon', float)])"
      ],
      "metadata": {
        "id": "0w7raWbUJflT"
      },
      "execution_count": 7,
      "outputs": []
    },
    {
      "cell_type": "code",
      "source": [
        "issubclass(Coordinate, tuple)"
      ],
      "metadata": {
        "colab": {
          "base_uri": "https://localhost:8080/"
        },
        "id": "9ZIpigRdJ0u6",
        "outputId": "3886c5d0-3b02-4abb-e737-c06c46aa4824"
      },
      "execution_count": 8,
      "outputs": [
        {
          "output_type": "execute_result",
          "data": {
            "text/plain": [
              "True"
            ]
          },
          "metadata": {},
          "execution_count": 8
        }
      ]
    },
    {
      "cell_type": "code",
      "source": [
        "typing.get_type_hints(Coordinate)"
      ],
      "metadata": {
        "colab": {
          "base_uri": "https://localhost:8080/"
        },
        "id": "lCDHIscyJ2oi",
        "outputId": "a9eb7f35-f6ac-4f61-e92c-c07ed5840971"
      },
      "execution_count": 9,
      "outputs": [
        {
          "output_type": "execute_result",
          "data": {
            "text/plain": [
              "{'lat': float, 'lon': float}"
            ]
          },
          "metadata": {},
          "execution_count": 9
        }
      ]
    },
    {
      "cell_type": "code",
      "source": [
        "Coordinate = typing.NamedTuple('Coordinate', lat=float, lon=float)"
      ],
      "metadata": {
        "id": "nLjZYV9TJ43q"
      },
      "execution_count": 10,
      "outputs": []
    },
    {
      "cell_type": "markdown",
      "source": [
        "**Warning**\n",
        "Although `NamedTuple` appears in the `class` statement as a superclass, it's actually not. It uses the advanced functionality of a metaclass to customize the creation of the user's class."
      ],
      "metadata": {
        "id": "SWAID7TEKmJf"
      }
    },
    {
      "cell_type": "code",
      "source": [
        "from typing import NamedTuple\n",
        "\n",
        "class Coordinate(NamedTuple):\n",
        "  lat: float\n",
        "  lon: float\n",
        "\n",
        "  def __str__(self):\n",
        "    ns = 'N' if self.lat >= 0 else 'S'\n",
        "    we = 'E' if self.lon >= 0 else 'W'\n",
        "    return f'{abs(self.lat):1.f}°{ns}, {abs(self.lon):1.f}°{we}'"
      ],
      "metadata": {
        "id": "XjHQh8XsJ90L"
      },
      "execution_count": 12,
      "outputs": []
    },
    {
      "cell_type": "code",
      "source": [
        "issubclass(Coordinate, typing.NamedTuple)"
      ],
      "metadata": {
        "colab": {
          "base_uri": "https://localhost:8080/",
          "height": 149
        },
        "id": "FW4NTzz3Ki97",
        "outputId": "2e92d0cb-e67d-4713-f1e3-f87b039395c9"
      },
      "execution_count": 17,
      "outputs": [
        {
          "output_type": "error",
          "ename": "TypeError",
          "evalue": "issubclass() arg 2 must be a class, a tuple of classes, or a union",
          "traceback": [
            "\u001b[0;31m---------------------------------------------------------------------------\u001b[0m",
            "\u001b[0;31mTypeError\u001b[0m                                 Traceback (most recent call last)",
            "\u001b[0;32m<ipython-input-17-c24c741cc893>\u001b[0m in \u001b[0;36m<cell line: 1>\u001b[0;34m()\u001b[0m\n\u001b[0;32m----> 1\u001b[0;31m \u001b[0missubclass\u001b[0m\u001b[0;34m(\u001b[0m\u001b[0mCoordinate\u001b[0m\u001b[0;34m,\u001b[0m \u001b[0mtyping\u001b[0m\u001b[0;34m.\u001b[0m\u001b[0mNamedTuple\u001b[0m\u001b[0;34m)\u001b[0m\u001b[0;34m\u001b[0m\u001b[0;34m\u001b[0m\u001b[0m\n\u001b[0m",
            "\u001b[0;31mTypeError\u001b[0m: issubclass() arg 2 must be a class, a tuple of classes, or a union"
          ]
        }
      ]
    },
    {
      "cell_type": "code",
      "source": [
        "issubclass(Coordinate, tuple)"
      ],
      "metadata": {
        "colab": {
          "base_uri": "https://localhost:8080/"
        },
        "id": "673BQ7iZK0O7",
        "outputId": "e8337396-3a75-48da-d8c6-054c5cb4f3b6"
      },
      "execution_count": 14,
      "outputs": [
        {
          "output_type": "execute_result",
          "data": {
            "text/plain": [
              "True"
            ]
          },
          "metadata": {},
          "execution_count": 14
        }
      ]
    },
    {
      "cell_type": "code",
      "source": [
        "from dataclasses import dataclass\n",
        "\n",
        "@dataclass(frozen=True)\n",
        "class Coordinate:\n",
        "  lat: float\n",
        "  lon: float = 10\n",
        "\n",
        "  def __str__(self):\n",
        "    ns = 'N' if self.lat >= 0 else 'S'\n",
        "    we = 'E' if self.lon >= 0 else 'W'\n",
        "    return f'{abs(self.lat):1.f}°{ns}, {abs(self.lon):1.f}°{we}'"
      ],
      "metadata": {
        "id": "w66Kq1DwK6qT"
      },
      "execution_count": 25,
      "outputs": []
    },
    {
      "cell_type": "markdown",
      "source": [
        "The difference is in the `class` statement itslef. The `@dataclass` decorator does not depend on inheritance or a metaclass."
      ],
      "metadata": {
        "id": "mZQEFLiOLgiT"
      }
    },
    {
      "cell_type": "markdown",
      "source": [
        "### Mutable instances\n",
        "\n",
        "By default, `@dataclass` produces mutable classes. But the decorator accepts a keyword argument `frozen`. When `frozen=True`, the class will raise an exception if you try to assign a value to a field after the instance is initialized."
      ],
      "metadata": {
        "id": "UBVfLNqDL-mo"
      }
    },
    {
      "cell_type": "markdown",
      "source": [
        "### Class statement syntax\n",
        "Only `typing.NamedTuple` and `dataclass` support the regular `class` statement syntax."
      ],
      "metadata": {
        "id": "eCI42XbmMRmI"
      }
    },
    {
      "cell_type": "markdown",
      "source": [
        "### Construct dict"
      ],
      "metadata": {
        "id": "caGBD4onMdEy"
      }
    },
    {
      "cell_type": "code",
      "source": [
        "import dataclasses\n",
        "\n",
        "dataclasses.asdict(Coordinate(37.28, 127.0))"
      ],
      "metadata": {
        "colab": {
          "base_uri": "https://localhost:8080/"
        },
        "id": "8sLLPsqCLeg6",
        "outputId": "2d7d63c3-f3bb-4d18-d535-7b012dcb22d5"
      },
      "execution_count": 26,
      "outputs": [
        {
          "output_type": "execute_result",
          "data": {
            "text/plain": [
              "{'lat': 37.28, 'lon': 127.0}"
            ]
          },
          "metadata": {},
          "execution_count": 26
        }
      ]
    },
    {
      "cell_type": "markdown",
      "source": [
        "### Get field names and default values"
      ],
      "metadata": {
        "id": "QSLYbFNjMzLf"
      }
    },
    {
      "cell_type": "code",
      "source": [
        "[f.default for f in dataclasses.fields(Coordinate(37.28, 127.0))]"
      ],
      "metadata": {
        "colab": {
          "base_uri": "https://localhost:8080/"
        },
        "id": "H_EDmpUUMtB6",
        "outputId": "f6b4987e-82e9-47dd-c1b7-8710a88e3157"
      },
      "execution_count": 29,
      "outputs": [
        {
          "output_type": "execute_result",
          "data": {
            "text/plain": [
              "[<dataclasses._MISSING_TYPE at 0x7fdfb9293dc0>, 10]"
            ]
          },
          "metadata": {},
          "execution_count": 29
        }
      ]
    },
    {
      "cell_type": "code",
      "source": [
        "typing.get_type_hints(Coordinate)"
      ],
      "metadata": {
        "colab": {
          "base_uri": "https://localhost:8080/"
        },
        "id": "bsGCQgQrNEzK",
        "outputId": "b0e93197-9a91-46bc-afce-169f2cd663a9"
      },
      "execution_count": 31,
      "outputs": [
        {
          "output_type": "execute_result",
          "data": {
            "text/plain": [
              "{'lat': float, 'lon': float}"
            ]
          },
          "metadata": {},
          "execution_count": 31
        }
      ]
    },
    {
      "cell_type": "code",
      "source": [
        "# namedtuple._replace returns a new instance with some attribute values repalced\n",
        "moscow._replace(lon=38)"
      ],
      "metadata": {
        "colab": {
          "base_uri": "https://localhost:8080/"
        },
        "id": "DMzVT_JQNvap",
        "outputId": "789ae0d3-6c76-44e9-dccc-83dcba0ecb3a"
      },
      "execution_count": 34,
      "outputs": [
        {
          "output_type": "execute_result",
          "data": {
            "text/plain": [
              "Coordinate(lat=55.756, lon=37.617)"
            ]
          },
          "metadata": {},
          "execution_count": 34
        }
      ]
    },
    {
      "cell_type": "code",
      "source": [
        "suwon = Coordinate(37.28, 127.0)\n",
        "dataclasses.replace(suwon, lat=37.29)"
      ],
      "metadata": {
        "colab": {
          "base_uri": "https://localhost:8080/"
        },
        "id": "W4Gnx6PZOAIZ",
        "outputId": "a4aa8da1-1df6-4343-f84a-0a3b7def4101"
      },
      "execution_count": 38,
      "outputs": [
        {
          "output_type": "execute_result",
          "data": {
            "text/plain": [
              "Coordinate(lat=37.29, lon=127.0)"
            ]
          },
          "metadata": {},
          "execution_count": 38
        }
      ]
    },
    {
      "cell_type": "markdown",
      "source": [
        "## Classic Named Tuples"
      ],
      "metadata": {
        "id": "EWl6T47UOjvQ"
      }
    },
    {
      "cell_type": "code",
      "source": [
        "from collections import namedtuple\n",
        "# arguments: classname and iterables of string (or a single space-delimited string)\n",
        "City = namedtuple('City', 'name country population coordinates')\n",
        "tokyo = City('Tokyo', 'JP', '36.933', (35.689722, 139.691667))\n",
        "tokyo"
      ],
      "metadata": {
        "colab": {
          "base_uri": "https://localhost:8080/"
        },
        "id": "BWI4PffWOWjg",
        "outputId": "4f6c1cb9-a798-4651-a93b-052400a2604e"
      },
      "execution_count": 39,
      "outputs": [
        {
          "output_type": "execute_result",
          "data": {
            "text/plain": [
              "City(name='Tokyo', country='JP', population='36.933', coordinates=(35.689722, 139.691667))"
            ]
          },
          "metadata": {},
          "execution_count": 39
        }
      ]
    },
    {
      "cell_type": "code",
      "source": [
        "tokyo.population"
      ],
      "metadata": {
        "colab": {
          "base_uri": "https://localhost:8080/",
          "height": 36
        },
        "id": "8Z0NtHp8O7Dp",
        "outputId": "328d9e37-5932-48a1-ab31-40e307d99d24"
      },
      "execution_count": 40,
      "outputs": [
        {
          "output_type": "execute_result",
          "data": {
            "text/plain": [
              "'36.933'"
            ],
            "application/vnd.google.colaboratory.intrinsic+json": {
              "type": "string"
            }
          },
          "metadata": {},
          "execution_count": 40
        }
      ]
    },
    {
      "cell_type": "code",
      "source": [
        "tokyo[1]"
      ],
      "metadata": {
        "colab": {
          "base_uri": "https://localhost:8080/",
          "height": 36
        },
        "id": "jfV3VdAlO9c5",
        "outputId": "ed1aec04-aa9a-434f-a336-67909d6d1626"
      },
      "execution_count": 41,
      "outputs": [
        {
          "output_type": "execute_result",
          "data": {
            "text/plain": [
              "'JP'"
            ],
            "application/vnd.google.colaboratory.intrinsic+json": {
              "type": "string"
            }
          },
          "metadata": {},
          "execution_count": 41
        }
      ]
    },
    {
      "cell_type": "markdown",
      "source": [
        "A named tuple offers a few attributes and methods in addition to those inherited from tuples.\n",
        "\n",
        "Ex. `_fields` class attribute, `_make(iterable)` class method, `_asdict()` instance method"
      ],
      "metadata": {
        "id": "bHkcYDrlPNNN"
      }
    },
    {
      "cell_type": "code",
      "source": [
        "City._fields"
      ],
      "metadata": {
        "colab": {
          "base_uri": "https://localhost:8080/"
        },
        "id": "-Xx-2m_8O-3J",
        "outputId": "5558301b-2f1d-4269-8213-9447dcdbe1bc"
      },
      "execution_count": 42,
      "outputs": [
        {
          "output_type": "execute_result",
          "data": {
            "text/plain": [
              "('name', 'country', 'population', 'coordinates')"
            ]
          },
          "metadata": {},
          "execution_count": 42
        }
      ]
    },
    {
      "cell_type": "code",
      "source": [
        "Coordinate = namedtuple('Coordinate', 'lat lon')"
      ],
      "metadata": {
        "id": "7YMloiivPaLw"
      },
      "execution_count": 43,
      "outputs": []
    },
    {
      "cell_type": "code",
      "source": [
        "delhi_data = ('Delhi NCR', 'IN', 21.935, Coordinate(28.613889, 77.208889))"
      ],
      "metadata": {
        "id": "SmiB_wcMPfo5"
      },
      "execution_count": 44,
      "outputs": []
    },
    {
      "cell_type": "code",
      "source": [
        "delhi = City._make(delhi_data) # _make buildes City from an iterable"
      ],
      "metadata": {
        "id": "i_q_MXVhPobI"
      },
      "execution_count": 45,
      "outputs": []
    },
    {
      "cell_type": "code",
      "source": [
        "delhi._asdict()"
      ],
      "metadata": {
        "colab": {
          "base_uri": "https://localhost:8080/"
        },
        "id": "nAauIqiaPxy6",
        "outputId": "144cb25a-ab22-4f74-bbc1-cba4b81c8769"
      },
      "execution_count": 46,
      "outputs": [
        {
          "output_type": "execute_result",
          "data": {
            "text/plain": [
              "{'name': 'Delhi NCR',\n",
              " 'country': 'IN',\n",
              " 'population': 21.935,\n",
              " 'coordinates': Coordinate(lat=28.613889, lon=77.208889)}"
            ]
          },
          "metadata": {},
          "execution_count": 46
        }
      ]
    },
    {
      "cell_type": "markdown",
      "source": [
        "`._asdict()` is useful to serialize the data in JSON format"
      ],
      "metadata": {
        "id": "i7mXNcmdP7Rh"
      }
    },
    {
      "cell_type": "code",
      "source": [
        "import json\n",
        "\n",
        "json.dumps(delhi._asdict())"
      ],
      "metadata": {
        "colab": {
          "base_uri": "https://localhost:8080/",
          "height": 36
        },
        "id": "HVU6gdArP0Wa",
        "outputId": "ea8d8312-70a3-4f93-cacf-4ebb32950f51"
      },
      "execution_count": 47,
      "outputs": [
        {
          "output_type": "execute_result",
          "data": {
            "text/plain": [
              "'{\"name\": \"Delhi NCR\", \"country\": \"IN\", \"population\": 21.935, \"coordinates\": [28.613889, 77.208889]}'"
            ],
            "application/vnd.google.colaboratory.intrinsic+json": {
              "type": "string"
            }
          },
          "metadata": {},
          "execution_count": 47
        }
      ]
    },
    {
      "cell_type": "markdown",
      "source": [
        "Since Python 3.7, `namedtuple` accepts the `defaults` keyword-only argument providing an iterable of N default values for each of the N rightmost fields of the class."
      ],
      "metadata": {
        "id": "9GE3QrI6QCXR"
      }
    },
    {
      "cell_type": "code",
      "source": [
        "Coordinate = namedtuple('Coordinate', 'lat lon reference', defaults=['WGS84'])\n",
        "Coordinate(0, 0)"
      ],
      "metadata": {
        "colab": {
          "base_uri": "https://localhost:8080/"
        },
        "id": "ou1LlR-oP4sA",
        "outputId": "e1ab055e-3abf-448f-fcda-801f336de59b"
      },
      "execution_count": 48,
      "outputs": [
        {
          "output_type": "execute_result",
          "data": {
            "text/plain": [
              "Coordinate(lat=0, lon=0, reference='WGS84')"
            ]
          },
          "metadata": {},
          "execution_count": 48
        }
      ]
    },
    {
      "cell_type": "code",
      "source": [
        "Coordinate._field_defaults"
      ],
      "metadata": {
        "colab": {
          "base_uri": "https://localhost:8080/"
        },
        "id": "P9G83IUdQTUZ",
        "outputId": "7f934a30-d3b8-407e-cc49-76d465ea0f8c"
      },
      "execution_count": 49,
      "outputs": [
        {
          "output_type": "execute_result",
          "data": {
            "text/plain": [
              "{'reference': 'WGS84'}"
            ]
          },
          "metadata": {},
          "execution_count": 49
        }
      ]
    },
    {
      "cell_type": "markdown",
      "source": [
        "#### Hacking a namedtuple to inject a method"
      ],
      "metadata": {
        "id": "tWEAtqTbQlkn"
      }
    },
    {
      "cell_type": "code",
      "source": [
        "Card = namedtuple('Card', ['rank', 'suit'])"
      ],
      "metadata": {
        "id": "RrozF8bGQV6R"
      },
      "execution_count": 50,
      "outputs": []
    },
    {
      "cell_type": "code",
      "source": [
        "class FrenchDeck:\n",
        "    ranks = [str(n) for n in range(2, 11)] + list('JQKA')\n",
        "    suits = 'spades diamonds clubs hearts'.split()\n",
        "\n",
        "    def __init__(self):\n",
        "        self._cards = [Card(rank, suit) for suit in self.suits\n",
        "                                        for rank in self.ranks]\n",
        "\n",
        "    def __len__(self):\n",
        "        return len(self._cards)\n",
        "\n",
        "    def __getitem__(self, position):\n",
        "        return self._cards[position]"
      ],
      "metadata": {
        "id": "JDP0GVxIRO3E"
      },
      "execution_count": 51,
      "outputs": []
    },
    {
      "cell_type": "code",
      "source": [
        "Card.suit_values = dict(spades=3, hearts=2, diamonds=1, clubs=0)\n",
        "def spades_high(card):\n",
        "  rank_value = FrenchDeck.ranks.index(card.rank)\n",
        "  suit_value = card.suit_values[card.suit]\n",
        "  return rank_value * len(card.suit_values) + suit_value\n",
        "\n",
        "Card.overall_rank = spades_high"
      ],
      "metadata": {
        "id": "_ntar_DdQy_g"
      },
      "execution_count": 55,
      "outputs": []
    },
    {
      "cell_type": "code",
      "source": [
        "lowest_card = Card('2', 'clubs')\n",
        "highest_card = Card('A', 'spades')"
      ],
      "metadata": {
        "id": "JtO0KhcbReXg"
      },
      "execution_count": 53,
      "outputs": []
    },
    {
      "cell_type": "code",
      "source": [
        "lowest_card.overall_rank()"
      ],
      "metadata": {
        "colab": {
          "base_uri": "https://localhost:8080/"
        },
        "id": "SG2-L1ULRiF5",
        "outputId": "b41fa89b-2f95-45e1-c75b-fb726c29e21d"
      },
      "execution_count": 56,
      "outputs": [
        {
          "output_type": "execute_result",
          "data": {
            "text/plain": [
              "0"
            ]
          },
          "metadata": {},
          "execution_count": 56
        }
      ]
    },
    {
      "cell_type": "code",
      "source": [
        "highest_card.overall_rank()"
      ],
      "metadata": {
        "colab": {
          "base_uri": "https://localhost:8080/"
        },
        "id": "PGgLu-q9RkR5",
        "outputId": "e3cbbea7-c418-4962-94e1-f82bea6ab6b3"
      },
      "execution_count": 57,
      "outputs": [
        {
          "output_type": "execute_result",
          "data": {
            "text/plain": [
              "51"
            ]
          },
          "metadata": {},
          "execution_count": 57
        }
      ]
    },
    {
      "cell_type": "code",
      "source": [],
      "metadata": {
        "id": "BUinZTYGRo6w"
      },
      "execution_count": null,
      "outputs": []
    }
  ]
}