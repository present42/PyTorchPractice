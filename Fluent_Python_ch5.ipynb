{
  "nbformat": 4,
  "nbformat_minor": 0,
  "metadata": {
    "colab": {
      "provenance": [],
      "authorship_tag": "ABX9TyMkGtAo1T3CASuNBdR+wIbN",
      "include_colab_link": true
    },
    "kernelspec": {
      "name": "python3",
      "display_name": "Python 3"
    },
    "language_info": {
      "name": "python"
    }
  },
  "cells": [
    {
      "cell_type": "markdown",
      "metadata": {
        "id": "view-in-github",
        "colab_type": "text"
      },
      "source": [
        "<a href=\"https://colab.research.google.com/github/present42/PyTorchPractice/blob/main/Fluent_Python_ch5.ipynb\" target=\"_parent\"><img src=\"https://colab.research.google.com/assets/colab-badge.svg\" alt=\"Open In Colab\"/></a>"
      ]
    },
    {
      "cell_type": "markdown",
      "source": [
        "# Chapter 5 Data Class Builders\n",
        " - `collections.namedtuple`\n",
        " - `typing.NamedTuple`\n",
        " - `@dataclasses.dataclass`\n",
        "\n",
        "Note. `typing.TypedDict` does not build concrete classes that you can instantiate."
      ],
      "metadata": {
        "id": "di_f_mOb1DOP"
      }
    },
    {
      "cell_type": "code",
      "execution_count": null,
      "metadata": {
        "id": "RvkPkpp00-0k"
      },
      "outputs": [],
      "source": [
        "class Coordinate:\n",
        "  def __init__(self, lat, lon):\n",
        "    self.lat = lat\n",
        "    self.lon = lon"
      ]
    },
    {
      "cell_type": "code",
      "source": [
        "moscow = Coordinate(55.76, 37.62)\n",
        "moscow"
      ],
      "metadata": {
        "colab": {
          "base_uri": "https://localhost:8080/"
        },
        "id": "Vwdorrj1Iz5C",
        "outputId": "e2ad13b3-8217-4740-8f3d-ef817d2a27f4"
      },
      "execution_count": null,
      "outputs": [
        {
          "output_type": "execute_result",
          "data": {
            "text/plain": [
              "<__main__.Coordinate at 0x7fdf9bd0b250>"
            ]
          },
          "metadata": {},
          "execution_count": 2
        }
      ]
    },
    {
      "cell_type": "code",
      "source": [
        "location = Coordinate(55.76, 37.62)\n",
        "location == moscow"
      ],
      "metadata": {
        "colab": {
          "base_uri": "https://localhost:8080/"
        },
        "id": "K2kvJUpOI6uK",
        "outputId": "2dc68708-27f3-4dd8-ae0f-f4e69a63cc65"
      },
      "execution_count": null,
      "outputs": [
        {
          "output_type": "execute_result",
          "data": {
            "text/plain": [
              "False"
            ]
          },
          "metadata": {},
          "execution_count": 3
        }
      ]
    },
    {
      "cell_type": "markdown",
      "source": [
        "The data class builders provide the necessary `__init__`, `__repr__` and `__eq__` methods automatically."
      ],
      "metadata": {
        "id": "HK7aMn9hJCwy"
      }
    },
    {
      "cell_type": "code",
      "source": [
        "from collections import namedtuple\n",
        "\n",
        "Coordinate = namedtuple('Coordinate', 'lat lon')\n",
        "issubclass(Coordinate, tuple)"
      ],
      "metadata": {
        "colab": {
          "base_uri": "https://localhost:8080/"
        },
        "id": "6VLKt5PPI-hU",
        "outputId": "450c8224-cf2a-4333-f6c0-02fb4a202920"
      },
      "execution_count": null,
      "outputs": [
        {
          "output_type": "execute_result",
          "data": {
            "text/plain": [
              "True"
            ]
          },
          "metadata": {},
          "execution_count": 4
        }
      ]
    },
    {
      "cell_type": "code",
      "source": [
        "moscow = Coordinate(55.756, 37.617)\n",
        "moscow # Useful __repr__"
      ],
      "metadata": {
        "colab": {
          "base_uri": "https://localhost:8080/"
        },
        "id": "UYwN0TyGJVuD",
        "outputId": "d6e5b030-52f7-4d45-a6aa-4ef502ad973c"
      },
      "execution_count": null,
      "outputs": [
        {
          "output_type": "execute_result",
          "data": {
            "text/plain": [
              "Coordinate(lat=55.756, lon=37.617)"
            ]
          },
          "metadata": {},
          "execution_count": 5
        }
      ]
    },
    {
      "cell_type": "code",
      "source": [
        "moscow == Coordinate(lat=55.756, lon=37.617) # meaningful __eq__"
      ],
      "metadata": {
        "colab": {
          "base_uri": "https://localhost:8080/"
        },
        "id": "rN58JfMrJZxq",
        "outputId": "22bb4956-7189-4a94-f8ef-67775b04bcb8"
      },
      "execution_count": null,
      "outputs": [
        {
          "output_type": "execute_result",
          "data": {
            "text/plain": [
              "True"
            ]
          },
          "metadata": {},
          "execution_count": 6
        }
      ]
    },
    {
      "cell_type": "markdown",
      "source": [
        "Newer NamedTuple provides the same functionality, adding a type annotation to each field"
      ],
      "metadata": {
        "id": "gE3sfNQlJvSr"
      }
    },
    {
      "cell_type": "code",
      "source": [
        "import typing\n",
        "\n",
        "Coordinate = typing.NamedTuple('Coordinate', [('lat', float), ('lon', float)])"
      ],
      "metadata": {
        "id": "0w7raWbUJflT"
      },
      "execution_count": null,
      "outputs": []
    },
    {
      "cell_type": "code",
      "source": [
        "issubclass(Coordinate, tuple)"
      ],
      "metadata": {
        "colab": {
          "base_uri": "https://localhost:8080/"
        },
        "id": "9ZIpigRdJ0u6",
        "outputId": "3886c5d0-3b02-4abb-e737-c06c46aa4824"
      },
      "execution_count": null,
      "outputs": [
        {
          "output_type": "execute_result",
          "data": {
            "text/plain": [
              "True"
            ]
          },
          "metadata": {},
          "execution_count": 8
        }
      ]
    },
    {
      "cell_type": "code",
      "source": [
        "typing.get_type_hints(Coordinate)"
      ],
      "metadata": {
        "colab": {
          "base_uri": "https://localhost:8080/"
        },
        "id": "lCDHIscyJ2oi",
        "outputId": "a9eb7f35-f6ac-4f61-e92c-c07ed5840971"
      },
      "execution_count": null,
      "outputs": [
        {
          "output_type": "execute_result",
          "data": {
            "text/plain": [
              "{'lat': float, 'lon': float}"
            ]
          },
          "metadata": {},
          "execution_count": 9
        }
      ]
    },
    {
      "cell_type": "code",
      "source": [
        "Coordinate = typing.NamedTuple('Coordinate', lat=float, lon=float)"
      ],
      "metadata": {
        "id": "nLjZYV9TJ43q"
      },
      "execution_count": null,
      "outputs": []
    },
    {
      "cell_type": "markdown",
      "source": [
        "**Warning**\n",
        "Although `NamedTuple` appears in the `class` statement as a superclass, it's actually not. It uses the advanced functionality of a metaclass to customize the creation of the user's class."
      ],
      "metadata": {
        "id": "SWAID7TEKmJf"
      }
    },
    {
      "cell_type": "code",
      "source": [
        "from typing import NamedTuple\n",
        "\n",
        "class Coordinate(NamedTuple):\n",
        "  lat: float\n",
        "  lon: float\n",
        "\n",
        "  def __str__(self):\n",
        "    ns = 'N' if self.lat >= 0 else 'S'\n",
        "    we = 'E' if self.lon >= 0 else 'W'\n",
        "    return f'{abs(self.lat):1.f}°{ns}, {abs(self.lon):1.f}°{we}'"
      ],
      "metadata": {
        "id": "XjHQh8XsJ90L"
      },
      "execution_count": null,
      "outputs": []
    },
    {
      "cell_type": "code",
      "source": [
        "issubclass(Coordinate, typing.NamedTuple)"
      ],
      "metadata": {
        "colab": {
          "base_uri": "https://localhost:8080/",
          "height": 149
        },
        "id": "FW4NTzz3Ki97",
        "outputId": "2e92d0cb-e67d-4713-f1e3-f87b039395c9"
      },
      "execution_count": null,
      "outputs": [
        {
          "output_type": "error",
          "ename": "TypeError",
          "evalue": "issubclass() arg 2 must be a class, a tuple of classes, or a union",
          "traceback": [
            "\u001b[0;31m---------------------------------------------------------------------------\u001b[0m",
            "\u001b[0;31mTypeError\u001b[0m                                 Traceback (most recent call last)",
            "\u001b[0;32m<ipython-input-17-c24c741cc893>\u001b[0m in \u001b[0;36m<cell line: 1>\u001b[0;34m()\u001b[0m\n\u001b[0;32m----> 1\u001b[0;31m \u001b[0missubclass\u001b[0m\u001b[0;34m(\u001b[0m\u001b[0mCoordinate\u001b[0m\u001b[0;34m,\u001b[0m \u001b[0mtyping\u001b[0m\u001b[0;34m.\u001b[0m\u001b[0mNamedTuple\u001b[0m\u001b[0;34m)\u001b[0m\u001b[0;34m\u001b[0m\u001b[0;34m\u001b[0m\u001b[0m\n\u001b[0m",
            "\u001b[0;31mTypeError\u001b[0m: issubclass() arg 2 must be a class, a tuple of classes, or a union"
          ]
        }
      ]
    },
    {
      "cell_type": "code",
      "source": [
        "issubclass(Coordinate, tuple)"
      ],
      "metadata": {
        "colab": {
          "base_uri": "https://localhost:8080/"
        },
        "id": "673BQ7iZK0O7",
        "outputId": "e8337396-3a75-48da-d8c6-054c5cb4f3b6"
      },
      "execution_count": null,
      "outputs": [
        {
          "output_type": "execute_result",
          "data": {
            "text/plain": [
              "True"
            ]
          },
          "metadata": {},
          "execution_count": 14
        }
      ]
    },
    {
      "cell_type": "code",
      "source": [
        "from dataclasses import dataclass\n",
        "\n",
        "@dataclass(frozen=True)\n",
        "class Coordinate:\n",
        "  lat: float\n",
        "  lon: float = 10\n",
        "\n",
        "  def __str__(self):\n",
        "    ns = 'N' if self.lat >= 0 else 'S'\n",
        "    we = 'E' if self.lon >= 0 else 'W'\n",
        "    return f'{abs(self.lat):1.f}°{ns}, {abs(self.lon):1.f}°{we}'"
      ],
      "metadata": {
        "id": "w66Kq1DwK6qT"
      },
      "execution_count": null,
      "outputs": []
    },
    {
      "cell_type": "markdown",
      "source": [
        "The difference is in the `class` statement itslef. The `@dataclass` decorator does not depend on inheritance or a metaclass."
      ],
      "metadata": {
        "id": "mZQEFLiOLgiT"
      }
    },
    {
      "cell_type": "markdown",
      "source": [
        "### Mutable instances\n",
        "\n",
        "By default, `@dataclass` produces mutable classes. But the decorator accepts a keyword argument `frozen`. When `frozen=True`, the class will raise an exception if you try to assign a value to a field after the instance is initialized."
      ],
      "metadata": {
        "id": "UBVfLNqDL-mo"
      }
    },
    {
      "cell_type": "markdown",
      "source": [
        "### Class statement syntax\n",
        "Only `typing.NamedTuple` and `dataclass` support the regular `class` statement syntax."
      ],
      "metadata": {
        "id": "eCI42XbmMRmI"
      }
    },
    {
      "cell_type": "markdown",
      "source": [
        "### Construct dict"
      ],
      "metadata": {
        "id": "caGBD4onMdEy"
      }
    },
    {
      "cell_type": "code",
      "source": [
        "import dataclasses\n",
        "\n",
        "dataclasses.asdict(Coordinate(37.28, 127.0))"
      ],
      "metadata": {
        "colab": {
          "base_uri": "https://localhost:8080/"
        },
        "id": "8sLLPsqCLeg6",
        "outputId": "2d7d63c3-f3bb-4d18-d535-7b012dcb22d5"
      },
      "execution_count": null,
      "outputs": [
        {
          "output_type": "execute_result",
          "data": {
            "text/plain": [
              "{'lat': 37.28, 'lon': 127.0}"
            ]
          },
          "metadata": {},
          "execution_count": 26
        }
      ]
    },
    {
      "cell_type": "markdown",
      "source": [
        "### Get field names and default values"
      ],
      "metadata": {
        "id": "QSLYbFNjMzLf"
      }
    },
    {
      "cell_type": "code",
      "source": [
        "[f.default for f in dataclasses.fields(Coordinate(37.28, 127.0))]"
      ],
      "metadata": {
        "colab": {
          "base_uri": "https://localhost:8080/"
        },
        "id": "H_EDmpUUMtB6",
        "outputId": "f6b4987e-82e9-47dd-c1b7-8710a88e3157"
      },
      "execution_count": null,
      "outputs": [
        {
          "output_type": "execute_result",
          "data": {
            "text/plain": [
              "[<dataclasses._MISSING_TYPE at 0x7fdfb9293dc0>, 10]"
            ]
          },
          "metadata": {},
          "execution_count": 29
        }
      ]
    },
    {
      "cell_type": "code",
      "source": [
        "typing.get_type_hints(Coordinate)"
      ],
      "metadata": {
        "colab": {
          "base_uri": "https://localhost:8080/"
        },
        "id": "bsGCQgQrNEzK",
        "outputId": "b0e93197-9a91-46bc-afce-169f2cd663a9"
      },
      "execution_count": null,
      "outputs": [
        {
          "output_type": "execute_result",
          "data": {
            "text/plain": [
              "{'lat': float, 'lon': float}"
            ]
          },
          "metadata": {},
          "execution_count": 31
        }
      ]
    },
    {
      "cell_type": "code",
      "source": [
        "# namedtuple._replace returns a new instance with some attribute values repalced\n",
        "moscow._replace(lon=38)"
      ],
      "metadata": {
        "colab": {
          "base_uri": "https://localhost:8080/"
        },
        "id": "DMzVT_JQNvap",
        "outputId": "789ae0d3-6c76-44e9-dccc-83dcba0ecb3a"
      },
      "execution_count": null,
      "outputs": [
        {
          "output_type": "execute_result",
          "data": {
            "text/plain": [
              "Coordinate(lat=55.756, lon=37.617)"
            ]
          },
          "metadata": {},
          "execution_count": 34
        }
      ]
    },
    {
      "cell_type": "code",
      "source": [
        "suwon = Coordinate(37.28, 127.0)\n",
        "dataclasses.replace(suwon, lat=37.29)"
      ],
      "metadata": {
        "colab": {
          "base_uri": "https://localhost:8080/"
        },
        "id": "W4Gnx6PZOAIZ",
        "outputId": "a4aa8da1-1df6-4343-f84a-0a3b7def4101"
      },
      "execution_count": null,
      "outputs": [
        {
          "output_type": "execute_result",
          "data": {
            "text/plain": [
              "Coordinate(lat=37.29, lon=127.0)"
            ]
          },
          "metadata": {},
          "execution_count": 38
        }
      ]
    },
    {
      "cell_type": "markdown",
      "source": [
        "## Classic Named Tuples"
      ],
      "metadata": {
        "id": "EWl6T47UOjvQ"
      }
    },
    {
      "cell_type": "code",
      "source": [
        "from collections import namedtuple\n",
        "# arguments: classname and iterables of string (or a single space-delimited string)\n",
        "City = namedtuple('City', 'name country population coordinates')\n",
        "tokyo = City('Tokyo', 'JP', '36.933', (35.689722, 139.691667))\n",
        "tokyo"
      ],
      "metadata": {
        "colab": {
          "base_uri": "https://localhost:8080/"
        },
        "id": "BWI4PffWOWjg",
        "outputId": "4f6c1cb9-a798-4651-a93b-052400a2604e"
      },
      "execution_count": null,
      "outputs": [
        {
          "output_type": "execute_result",
          "data": {
            "text/plain": [
              "City(name='Tokyo', country='JP', population='36.933', coordinates=(35.689722, 139.691667))"
            ]
          },
          "metadata": {},
          "execution_count": 39
        }
      ]
    },
    {
      "cell_type": "code",
      "source": [
        "tokyo.population"
      ],
      "metadata": {
        "colab": {
          "base_uri": "https://localhost:8080/",
          "height": 36
        },
        "id": "8Z0NtHp8O7Dp",
        "outputId": "328d9e37-5932-48a1-ab31-40e307d99d24"
      },
      "execution_count": null,
      "outputs": [
        {
          "output_type": "execute_result",
          "data": {
            "text/plain": [
              "'36.933'"
            ],
            "application/vnd.google.colaboratory.intrinsic+json": {
              "type": "string"
            }
          },
          "metadata": {},
          "execution_count": 40
        }
      ]
    },
    {
      "cell_type": "code",
      "source": [
        "tokyo[1]"
      ],
      "metadata": {
        "colab": {
          "base_uri": "https://localhost:8080/",
          "height": 36
        },
        "id": "jfV3VdAlO9c5",
        "outputId": "ed1aec04-aa9a-434f-a336-67909d6d1626"
      },
      "execution_count": null,
      "outputs": [
        {
          "output_type": "execute_result",
          "data": {
            "text/plain": [
              "'JP'"
            ],
            "application/vnd.google.colaboratory.intrinsic+json": {
              "type": "string"
            }
          },
          "metadata": {},
          "execution_count": 41
        }
      ]
    },
    {
      "cell_type": "markdown",
      "source": [
        "A named tuple offers a few attributes and methods in addition to those inherited from tuples.\n",
        "\n",
        "Ex. `_fields` class attribute, `_make(iterable)` class method, `_asdict()` instance method"
      ],
      "metadata": {
        "id": "bHkcYDrlPNNN"
      }
    },
    {
      "cell_type": "code",
      "source": [
        "City._fields"
      ],
      "metadata": {
        "colab": {
          "base_uri": "https://localhost:8080/"
        },
        "id": "-Xx-2m_8O-3J",
        "outputId": "5558301b-2f1d-4269-8213-9447dcdbe1bc"
      },
      "execution_count": null,
      "outputs": [
        {
          "output_type": "execute_result",
          "data": {
            "text/plain": [
              "('name', 'country', 'population', 'coordinates')"
            ]
          },
          "metadata": {},
          "execution_count": 42
        }
      ]
    },
    {
      "cell_type": "code",
      "source": [
        "Coordinate = namedtuple('Coordinate', 'lat lon')"
      ],
      "metadata": {
        "id": "7YMloiivPaLw"
      },
      "execution_count": null,
      "outputs": []
    },
    {
      "cell_type": "code",
      "source": [
        "delhi_data = ('Delhi NCR', 'IN', 21.935, Coordinate(28.613889, 77.208889))"
      ],
      "metadata": {
        "id": "SmiB_wcMPfo5"
      },
      "execution_count": null,
      "outputs": []
    },
    {
      "cell_type": "code",
      "source": [
        "delhi = City._make(delhi_data) # _make buildes City from an iterable"
      ],
      "metadata": {
        "id": "i_q_MXVhPobI"
      },
      "execution_count": null,
      "outputs": []
    },
    {
      "cell_type": "code",
      "source": [
        "delhi._asdict()"
      ],
      "metadata": {
        "colab": {
          "base_uri": "https://localhost:8080/"
        },
        "id": "nAauIqiaPxy6",
        "outputId": "144cb25a-ab22-4f74-bbc1-cba4b81c8769"
      },
      "execution_count": null,
      "outputs": [
        {
          "output_type": "execute_result",
          "data": {
            "text/plain": [
              "{'name': 'Delhi NCR',\n",
              " 'country': 'IN',\n",
              " 'population': 21.935,\n",
              " 'coordinates': Coordinate(lat=28.613889, lon=77.208889)}"
            ]
          },
          "metadata": {},
          "execution_count": 46
        }
      ]
    },
    {
      "cell_type": "markdown",
      "source": [
        "`._asdict()` is useful to serialize the data in JSON format"
      ],
      "metadata": {
        "id": "i7mXNcmdP7Rh"
      }
    },
    {
      "cell_type": "code",
      "source": [
        "import json\n",
        "\n",
        "json.dumps(delhi._asdict())"
      ],
      "metadata": {
        "colab": {
          "base_uri": "https://localhost:8080/",
          "height": 36
        },
        "id": "HVU6gdArP0Wa",
        "outputId": "ea8d8312-70a3-4f93-cacf-4ebb32950f51"
      },
      "execution_count": null,
      "outputs": [
        {
          "output_type": "execute_result",
          "data": {
            "text/plain": [
              "'{\"name\": \"Delhi NCR\", \"country\": \"IN\", \"population\": 21.935, \"coordinates\": [28.613889, 77.208889]}'"
            ],
            "application/vnd.google.colaboratory.intrinsic+json": {
              "type": "string"
            }
          },
          "metadata": {},
          "execution_count": 47
        }
      ]
    },
    {
      "cell_type": "markdown",
      "source": [
        "Since Python 3.7, `namedtuple` accepts the `defaults` keyword-only argument providing an iterable of N default values for each of the N rightmost fields of the class."
      ],
      "metadata": {
        "id": "9GE3QrI6QCXR"
      }
    },
    {
      "cell_type": "code",
      "source": [
        "Coordinate = namedtuple('Coordinate', 'lat lon reference', defaults=['WGS84'])\n",
        "Coordinate(0, 0)"
      ],
      "metadata": {
        "colab": {
          "base_uri": "https://localhost:8080/"
        },
        "id": "ou1LlR-oP4sA",
        "outputId": "e1ab055e-3abf-448f-fcda-801f336de59b"
      },
      "execution_count": null,
      "outputs": [
        {
          "output_type": "execute_result",
          "data": {
            "text/plain": [
              "Coordinate(lat=0, lon=0, reference='WGS84')"
            ]
          },
          "metadata": {},
          "execution_count": 48
        }
      ]
    },
    {
      "cell_type": "code",
      "source": [
        "Coordinate._field_defaults"
      ],
      "metadata": {
        "colab": {
          "base_uri": "https://localhost:8080/"
        },
        "id": "P9G83IUdQTUZ",
        "outputId": "7f934a30-d3b8-407e-cc49-76d465ea0f8c"
      },
      "execution_count": null,
      "outputs": [
        {
          "output_type": "execute_result",
          "data": {
            "text/plain": [
              "{'reference': 'WGS84'}"
            ]
          },
          "metadata": {},
          "execution_count": 49
        }
      ]
    },
    {
      "cell_type": "markdown",
      "source": [
        "#### Hacking a namedtuple to inject a method"
      ],
      "metadata": {
        "id": "tWEAtqTbQlkn"
      }
    },
    {
      "cell_type": "code",
      "source": [
        "Card = namedtuple('Card', ['rank', 'suit'])"
      ],
      "metadata": {
        "id": "RrozF8bGQV6R"
      },
      "execution_count": null,
      "outputs": []
    },
    {
      "cell_type": "code",
      "source": [
        "class FrenchDeck:\n",
        "    ranks = [str(n) for n in range(2, 11)] + list('JQKA')\n",
        "    suits = 'spades diamonds clubs hearts'.split()\n",
        "\n",
        "    def __init__(self):\n",
        "        self._cards = [Card(rank, suit) for suit in self.suits\n",
        "                                        for rank in self.ranks]\n",
        "\n",
        "    def __len__(self):\n",
        "        return len(self._cards)\n",
        "\n",
        "    def __getitem__(self, position):\n",
        "        return self._cards[position]"
      ],
      "metadata": {
        "id": "JDP0GVxIRO3E"
      },
      "execution_count": null,
      "outputs": []
    },
    {
      "cell_type": "code",
      "source": [
        "Card.suit_values = dict(spades=3, hearts=2, diamonds=1, clubs=0)\n",
        "def spades_high(card):\n",
        "  rank_value = FrenchDeck.ranks.index(card.rank)\n",
        "  suit_value = card.suit_values[card.suit]\n",
        "  return rank_value * len(card.suit_values) + suit_value\n",
        "\n",
        "Card.overall_rank = spades_high"
      ],
      "metadata": {
        "id": "_ntar_DdQy_g"
      },
      "execution_count": null,
      "outputs": []
    },
    {
      "cell_type": "code",
      "source": [
        "lowest_card = Card('2', 'clubs')\n",
        "highest_card = Card('A', 'spades')"
      ],
      "metadata": {
        "id": "JtO0KhcbReXg"
      },
      "execution_count": null,
      "outputs": []
    },
    {
      "cell_type": "code",
      "source": [
        "lowest_card.overall_rank()"
      ],
      "metadata": {
        "colab": {
          "base_uri": "https://localhost:8080/"
        },
        "id": "SG2-L1ULRiF5",
        "outputId": "b41fa89b-2f95-45e1-c75b-fb726c29e21d"
      },
      "execution_count": null,
      "outputs": [
        {
          "output_type": "execute_result",
          "data": {
            "text/plain": [
              "0"
            ]
          },
          "metadata": {},
          "execution_count": 56
        }
      ]
    },
    {
      "cell_type": "code",
      "source": [
        "highest_card.overall_rank()"
      ],
      "metadata": {
        "colab": {
          "base_uri": "https://localhost:8080/"
        },
        "id": "PGgLu-q9RkR5",
        "outputId": "e3cbbea7-c418-4962-94e1-f82bea6ab6b3"
      },
      "execution_count": null,
      "outputs": [
        {
          "output_type": "execute_result",
          "data": {
            "text/plain": [
              "51"
            ]
          },
          "metadata": {},
          "execution_count": 57
        }
      ]
    },
    {
      "cell_type": "markdown",
      "source": [
        "## Typed Named Tuples"
      ],
      "metadata": {
        "id": "hdTnd9JNeWA_"
      }
    },
    {
      "cell_type": "code",
      "source": [
        "from typing import NamedTuple\n",
        "\n",
        "# every instnace must be annotated with a type\n",
        "class Coordinate(NamedTuple):\n",
        "  lat: float\n",
        "  lon: float\n",
        "  reference: str = 'WGS84'"
      ],
      "metadata": {
        "id": "BUinZTYGRo6w"
      },
      "execution_count": null,
      "outputs": []
    },
    {
      "cell_type": "markdown",
      "source": [
        "### No Runtime Effect"
      ],
      "metadata": {
        "id": "EXKzfHnWfTvd"
      }
    },
    {
      "cell_type": "code",
      "source": [
        "trash = Coordinate('Ni!', None)"
      ],
      "metadata": {
        "id": "VFAqOxrDe7iy"
      },
      "execution_count": null,
      "outputs": []
    },
    {
      "cell_type": "code",
      "source": [
        "print(trash)"
      ],
      "metadata": {
        "colab": {
          "base_uri": "https://localhost:8080/"
        },
        "id": "mHEIhcxmfQF6",
        "outputId": "4ac9b998-bf77-44fd-bba7-6d0d674ab809"
      },
      "execution_count": null,
      "outputs": [
        {
          "output_type": "stream",
          "name": "stdout",
          "text": [
            "Coordinate(lat='Ni!', lon=None, reference='WGS84')\n"
          ]
        }
      ]
    },
    {
      "cell_type": "code",
      "source": [
        "!pip install mypy"
      ],
      "metadata": {
        "colab": {
          "base_uri": "https://localhost:8080/"
        },
        "id": "gaLRSr7ffRi6",
        "outputId": "ad1eb41b-bb9e-48e3-829f-b1d0539897ba"
      },
      "execution_count": null,
      "outputs": [
        {
          "output_type": "stream",
          "name": "stdout",
          "text": [
            "Collecting mypy\n",
            "  Downloading mypy-1.9.0-cp310-cp310-manylinux_2_17_x86_64.manylinux2014_x86_64.whl (12.5 MB)\n",
            "\u001b[2K     \u001b[90m━━━━━━━━━━━━━━━━━━━━━━━━━━━━━━━━━━━━━━━━\u001b[0m \u001b[32m12.5/12.5 MB\u001b[0m \u001b[31m23.0 MB/s\u001b[0m eta \u001b[36m0:00:00\u001b[0m\n",
            "\u001b[?25hRequirement already satisfied: typing-extensions>=4.1.0 in /usr/local/lib/python3.10/dist-packages (from mypy) (4.10.0)\n",
            "Collecting mypy-extensions>=1.0.0 (from mypy)\n",
            "  Downloading mypy_extensions-1.0.0-py3-none-any.whl (4.7 kB)\n",
            "Requirement already satisfied: tomli>=1.1.0 in /usr/local/lib/python3.10/dist-packages (from mypy) (2.0.1)\n",
            "Installing collected packages: mypy-extensions, mypy\n",
            "Successfully installed mypy-1.9.0 mypy-extensions-1.0.0\n"
          ]
        }
      ]
    },
    {
      "cell_type": "code",
      "source": [
        "!mypy test.py"
      ],
      "metadata": {
        "colab": {
          "base_uri": "https://localhost:8080/"
        },
        "id": "_IRPfSkAfcgi",
        "outputId": "f32e4b9f-acdb-4aa1-8899-d20a81584f32"
      },
      "execution_count": null,
      "outputs": [
        {
          "output_type": "stream",
          "name": "stdout",
          "text": [
            "test.py:9: \u001b[1m\u001b[31merror:\u001b[m Argument 1 to \u001b[m\u001b[1m\"Coordinate\"\u001b[m has incompatible type \u001b[m\u001b[1m\"str\"\u001b[m; expected \u001b[m\u001b[1m\"float\"\u001b[m  \u001b[m\u001b[33m[arg-type]\u001b[m\n",
            "test.py:9: \u001b[1m\u001b[31merror:\u001b[m Argument 2 to \u001b[m\u001b[1m\"Coordinate\"\u001b[m has incompatible type \u001b[m\u001b[1m\"None\"\u001b[m; expected \u001b[m\u001b[1m\"float\"\u001b[m  \u001b[m\u001b[33m[arg-type]\u001b[m\n",
            "\u001b[1m\u001b[31mFound 2 errors in 1 file (checked 1 source file)\u001b[m\n"
          ]
        }
      ]
    },
    {
      "cell_type": "markdown",
      "source": [
        "## Meaning of Variable Annotations\n",
        "\n",
        "At import time--when a module is loaded--Python does read them to build the `__annotations__` dictionary that `typing.NamedTuple` and `@dataclass` then use to enhance the class."
      ],
      "metadata": {
        "id": "AqRJfqttf3_y"
      }
    },
    {
      "cell_type": "code",
      "source": [
        "class DemoPlainClass:\n",
        "  a: int\n",
        "  b: float = 1.1\n",
        "  c = 'spam'"
      ],
      "metadata": {
        "id": "dFtT38YWfl2p"
      },
      "execution_count": null,
      "outputs": []
    },
    {
      "cell_type": "code",
      "source": [
        "from demo_plain import DemoPlainClass\n",
        "\n",
        "DemoPlainClass.__annotations__"
      ],
      "metadata": {
        "colab": {
          "base_uri": "https://localhost:8080/"
        },
        "id": "4s15ECoXgg6N",
        "outputId": "700440a9-11fd-434a-fb08-53de8022e902"
      },
      "execution_count": null,
      "outputs": [
        {
          "output_type": "execute_result",
          "data": {
            "text/plain": [
              "{'a': int, 'b': float}"
            ]
          },
          "metadata": {},
          "execution_count": 6
        }
      ]
    },
    {
      "cell_type": "code",
      "source": [
        "DemoPlainClass.a"
      ],
      "metadata": {
        "colab": {
          "base_uri": "https://localhost:8080/",
          "height": 149
        },
        "id": "7b3ztjQ6gkra",
        "outputId": "d9c263c2-da9e-4f7a-fc85-993f32c8cd35"
      },
      "execution_count": null,
      "outputs": [
        {
          "output_type": "error",
          "ename": "AttributeError",
          "evalue": "type object 'DemoPlainClass' has no attribute 'a'",
          "traceback": [
            "\u001b[0;31m---------------------------------------------------------------------------\u001b[0m",
            "\u001b[0;31mAttributeError\u001b[0m                            Traceback (most recent call last)",
            "\u001b[0;32m<ipython-input-7-d9b4e0756add>\u001b[0m in \u001b[0;36m<cell line: 1>\u001b[0;34m()\u001b[0m\n\u001b[0;32m----> 1\u001b[0;31m \u001b[0mDemoPlainClass\u001b[0m\u001b[0;34m.\u001b[0m\u001b[0ma\u001b[0m\u001b[0;34m\u001b[0m\u001b[0;34m\u001b[0m\u001b[0m\n\u001b[0m",
            "\u001b[0;31mAttributeError\u001b[0m: type object 'DemoPlainClass' has no attribute 'a'"
          ]
        }
      ]
    },
    {
      "cell_type": "code",
      "source": [
        "DemoPlainClass.b"
      ],
      "metadata": {
        "colab": {
          "base_uri": "https://localhost:8080/"
        },
        "id": "koGA1ngkgmpp",
        "outputId": "da7f9399-e324-490d-e891-029683c0a224"
      },
      "execution_count": null,
      "outputs": [
        {
          "output_type": "execute_result",
          "data": {
            "text/plain": [
              "1.1"
            ]
          },
          "metadata": {},
          "execution_count": 8
        }
      ]
    },
    {
      "cell_type": "code",
      "source": [
        "DemoPlainClass.c"
      ],
      "metadata": {
        "colab": {
          "base_uri": "https://localhost:8080/",
          "height": 36
        },
        "id": "_y_fopyUgn-h",
        "outputId": "02940eec-ac6c-414b-9ac1-b1ae1d02d907"
      },
      "execution_count": null,
      "outputs": [
        {
          "output_type": "execute_result",
          "data": {
            "text/plain": [
              "'spam'"
            ],
            "application/vnd.google.colaboratory.intrinsic+json": {
              "type": "string"
            }
          },
          "metadata": {},
          "execution_count": 9
        }
      ]
    },
    {
      "cell_type": "code",
      "source": [
        "import typing\n",
        "\n",
        "class DemoNTClass(typing.NamedTuple):\n",
        "  a: int\n",
        "  b: float = 1.1\n",
        "  c = 'spam'"
      ],
      "metadata": {
        "id": "_1pQ2vNsgpCa"
      },
      "execution_count": null,
      "outputs": []
    },
    {
      "cell_type": "code",
      "source": [
        "from demo_nt import DemoNTClass\n",
        "\n",
        "DemoNTClass.__annotations__"
      ],
      "metadata": {
        "colab": {
          "base_uri": "https://localhost:8080/"
        },
        "id": "46rzMcYCg8_F",
        "outputId": "053163f2-d6c1-4fb4-ea5d-67a12c9311a7"
      },
      "execution_count": null,
      "outputs": [
        {
          "output_type": "execute_result",
          "data": {
            "text/plain": [
              "{'a': int, 'b': float}"
            ]
          },
          "metadata": {},
          "execution_count": 10
        }
      ]
    },
    {
      "cell_type": "markdown",
      "source": [
        "`a` and `b` class attributes are descriptors. For now, think of them as similar to property getters: methods that don't require teh explicit call operator `()` to retrieve an instance attribute."
      ],
      "metadata": {
        "id": "_Tsp3jZQhNXU"
      }
    },
    {
      "cell_type": "code",
      "source": [
        "DemoNTClass.a"
      ],
      "metadata": {
        "colab": {
          "base_uri": "https://localhost:8080/"
        },
        "id": "aTdBvvFRhDOi",
        "outputId": "6cb7caa5-dcda-4862-a78a-33b842ffe2d9"
      },
      "execution_count": null,
      "outputs": [
        {
          "output_type": "execute_result",
          "data": {
            "text/plain": [
              "_tuplegetter(0, 'Alias for field number 0')"
            ]
          },
          "metadata": {},
          "execution_count": 11
        }
      ]
    },
    {
      "cell_type": "code",
      "source": [
        "DemoNTClass.b"
      ],
      "metadata": {
        "colab": {
          "base_uri": "https://localhost:8080/"
        },
        "id": "u2js__oxhELy",
        "outputId": "84f69110-0b83-4e9c-8507-7f3544736190"
      },
      "execution_count": null,
      "outputs": [
        {
          "output_type": "execute_result",
          "data": {
            "text/plain": [
              "_tuplegetter(1, 'Alias for field number 1')"
            ]
          },
          "metadata": {},
          "execution_count": 12
        }
      ]
    },
    {
      "cell_type": "code",
      "source": [
        "DemoNTClass.c"
      ],
      "metadata": {
        "colab": {
          "base_uri": "https://localhost:8080/",
          "height": 36
        },
        "id": "1MfykP8ChFfh",
        "outputId": "0a1f122e-3292-4205-c4c8-ce0494ebd30b"
      },
      "execution_count": null,
      "outputs": [
        {
          "output_type": "execute_result",
          "data": {
            "text/plain": [
              "'spam'"
            ],
            "application/vnd.google.colaboratory.intrinsic+json": {
              "type": "string"
            }
          },
          "metadata": {},
          "execution_count": 13
        }
      ]
    },
    {
      "cell_type": "code",
      "source": [
        "DemoNTClass.__doc__"
      ],
      "metadata": {
        "colab": {
          "base_uri": "https://localhost:8080/",
          "height": 36
        },
        "id": "U7es7C8FhGoB",
        "outputId": "bc1cfe3e-da89-4b8f-fa60-a96d63194f88"
      },
      "execution_count": null,
      "outputs": [
        {
          "output_type": "execute_result",
          "data": {
            "text/plain": [
              "'DemoNTClass(a, b)'"
            ],
            "application/vnd.google.colaboratory.intrinsic+json": {
              "type": "string"
            }
          },
          "metadata": {},
          "execution_count": 14
        }
      ]
    },
    {
      "cell_type": "code",
      "source": [
        "nt = DemoNTClass(8)\n",
        "nt.a"
      ],
      "metadata": {
        "colab": {
          "base_uri": "https://localhost:8080/"
        },
        "id": "iOC85yDUhb35",
        "outputId": "b93d2075-5053-4486-fd52-f4d19b965ed7"
      },
      "execution_count": null,
      "outputs": [
        {
          "output_type": "execute_result",
          "data": {
            "text/plain": [
              "8"
            ]
          },
          "metadata": {},
          "execution_count": 15
        }
      ]
    },
    {
      "cell_type": "code",
      "source": [
        "nt.b"
      ],
      "metadata": {
        "colab": {
          "base_uri": "https://localhost:8080/"
        },
        "id": "6wFnLI-mhfiq",
        "outputId": "3b411a95-7e95-45fc-8aba-88dc9fd98ed0"
      },
      "execution_count": null,
      "outputs": [
        {
          "output_type": "execute_result",
          "data": {
            "text/plain": [
              "1.1"
            ]
          },
          "metadata": {},
          "execution_count": 16
        }
      ]
    },
    {
      "cell_type": "code",
      "source": [
        "nt.c"
      ],
      "metadata": {
        "colab": {
          "base_uri": "https://localhost:8080/",
          "height": 36
        },
        "id": "Eyki02P4hf8y",
        "outputId": "a55eb38e-ffac-44e2-b6c8-b1e7342cc6b2"
      },
      "execution_count": null,
      "outputs": [
        {
          "output_type": "execute_result",
          "data": {
            "text/plain": [
              "'spam'"
            ],
            "application/vnd.google.colaboratory.intrinsic+json": {
              "type": "string"
            }
          },
          "metadata": {},
          "execution_count": 17
        }
      ]
    },
    {
      "cell_type": "code",
      "source": [
        "nt.a = 'hi'"
      ],
      "metadata": {
        "colab": {
          "base_uri": "https://localhost:8080/",
          "height": 149
        },
        "id": "jaLYTYnthgNR",
        "outputId": "360a0417-8457-4eb9-95e8-2da80fc923c0"
      },
      "execution_count": null,
      "outputs": [
        {
          "output_type": "error",
          "ename": "AttributeError",
          "evalue": "can't set attribute",
          "traceback": [
            "\u001b[0;31m---------------------------------------------------------------------------\u001b[0m",
            "\u001b[0;31mAttributeError\u001b[0m                            Traceback (most recent call last)",
            "\u001b[0;32m<ipython-input-19-d77bcadd0097>\u001b[0m in \u001b[0;36m<cell line: 1>\u001b[0;34m()\u001b[0m\n\u001b[0;32m----> 1\u001b[0;31m \u001b[0mnt\u001b[0m\u001b[0;34m.\u001b[0m\u001b[0ma\u001b[0m \u001b[0;34m=\u001b[0m \u001b[0;34m'hi'\u001b[0m\u001b[0;34m\u001b[0m\u001b[0;34m\u001b[0m\u001b[0m\n\u001b[0m",
            "\u001b[0;31mAttributeError\u001b[0m: can't set attribute"
          ]
        }
      ]
    },
    {
      "cell_type": "code",
      "source": [
        "from dataclasses import dataclass\n",
        "\n",
        "@dataclass\n",
        "class DemoDataClass:\n",
        "  a: int\n",
        "  b: float = 1.1\n",
        "  c = 'spam'"
      ],
      "metadata": {
        "id": "g52zqqfNhmIZ"
      },
      "execution_count": null,
      "outputs": []
    },
    {
      "cell_type": "code",
      "source": [
        "from demo_dc import DemoDataClass\n",
        "\n",
        "DemoDataClass.__annotations__"
      ],
      "metadata": {
        "colab": {
          "base_uri": "https://localhost:8080/"
        },
        "id": "8jcuSz6qh0T7",
        "outputId": "648b25af-8e9f-42f8-b495-8ce82369b223"
      },
      "execution_count": null,
      "outputs": [
        {
          "output_type": "execute_result",
          "data": {
            "text/plain": [
              "{'a': int, 'b': float}"
            ]
          },
          "metadata": {},
          "execution_count": 20
        }
      ]
    },
    {
      "cell_type": "code",
      "source": [
        "DemoDataClass.__doc__"
      ],
      "metadata": {
        "colab": {
          "base_uri": "https://localhost:8080/",
          "height": 36
        },
        "id": "5TfEesIJh735",
        "outputId": "42903c75-2aab-43cc-8fcf-7fed69d105b7"
      },
      "execution_count": null,
      "outputs": [
        {
          "output_type": "execute_result",
          "data": {
            "text/plain": [
              "'DemoDataClass(a: int, b: float = 1.1)'"
            ],
            "application/vnd.google.colaboratory.intrinsic+json": {
              "type": "string"
            }
          },
          "metadata": {},
          "execution_count": 22
        }
      ]
    },
    {
      "cell_type": "code",
      "source": [
        "DemoDataClass.a"
      ],
      "metadata": {
        "colab": {
          "base_uri": "https://localhost:8080/",
          "height": 149
        },
        "id": "Sf02kc7th9CJ",
        "outputId": "5cd5e2c0-513f-426b-90f4-6bde5ff510ac"
      },
      "execution_count": null,
      "outputs": [
        {
          "output_type": "error",
          "ename": "AttributeError",
          "evalue": "type object 'DemoDataClass' has no attribute 'a'",
          "traceback": [
            "\u001b[0;31m---------------------------------------------------------------------------\u001b[0m",
            "\u001b[0;31mAttributeError\u001b[0m                            Traceback (most recent call last)",
            "\u001b[0;32m<ipython-input-23-2e710c466646>\u001b[0m in \u001b[0;36m<cell line: 1>\u001b[0;34m()\u001b[0m\n\u001b[0;32m----> 1\u001b[0;31m \u001b[0mDemoDataClass\u001b[0m\u001b[0;34m.\u001b[0m\u001b[0ma\u001b[0m\u001b[0;34m\u001b[0m\u001b[0;34m\u001b[0m\u001b[0m\n\u001b[0m",
            "\u001b[0;31mAttributeError\u001b[0m: type object 'DemoDataClass' has no attribute 'a'"
          ]
        }
      ]
    },
    {
      "cell_type": "code",
      "source": [
        "DemoDataClass.b"
      ],
      "metadata": {
        "colab": {
          "base_uri": "https://localhost:8080/"
        },
        "id": "IHXfUCnJh_Rw",
        "outputId": "5667be8b-a780-4a2a-a62c-2551e28e8adc"
      },
      "execution_count": null,
      "outputs": [
        {
          "output_type": "execute_result",
          "data": {
            "text/plain": [
              "1.1"
            ]
          },
          "metadata": {},
          "execution_count": 24
        }
      ]
    },
    {
      "cell_type": "code",
      "source": [
        "DemoDataClass.c"
      ],
      "metadata": {
        "colab": {
          "base_uri": "https://localhost:8080/",
          "height": 36
        },
        "id": "x4DSf9y7iBww",
        "outputId": "c7a72879-1581-496c-b19f-9dc7179f6763"
      },
      "execution_count": null,
      "outputs": [
        {
          "output_type": "execute_result",
          "data": {
            "text/plain": [
              "'spam'"
            ],
            "application/vnd.google.colaboratory.intrinsic+json": {
              "type": "string"
            }
          },
          "metadata": {},
          "execution_count": 25
        }
      ]
    },
    {
      "cell_type": "code",
      "source": [
        "dc = DemoDataClass(9)"
      ],
      "metadata": {
        "id": "JVRFpMq2iCpZ"
      },
      "execution_count": null,
      "outputs": []
    },
    {
      "cell_type": "code",
      "source": [
        "dc.a"
      ],
      "metadata": {
        "colab": {
          "base_uri": "https://localhost:8080/"
        },
        "id": "dpedjNEBiNfh",
        "outputId": "70bff86a-7bf3-44e3-d516-8bece57b3a8d"
      },
      "execution_count": null,
      "outputs": [
        {
          "output_type": "execute_result",
          "data": {
            "text/plain": [
              "9"
            ]
          },
          "metadata": {},
          "execution_count": 27
        }
      ]
    },
    {
      "cell_type": "code",
      "source": [
        "dc.b"
      ],
      "metadata": {
        "colab": {
          "base_uri": "https://localhost:8080/"
        },
        "id": "4pmpCg5RiN5B",
        "outputId": "55e79c51-f36f-4bfb-d64b-30343896b4f1"
      },
      "execution_count": null,
      "outputs": [
        {
          "output_type": "execute_result",
          "data": {
            "text/plain": [
              "1.1"
            ]
          },
          "metadata": {},
          "execution_count": 28
        }
      ]
    },
    {
      "cell_type": "code",
      "source": [
        "dc.c"
      ],
      "metadata": {
        "colab": {
          "base_uri": "https://localhost:8080/",
          "height": 36
        },
        "id": "3Z4FvVReiOG5",
        "outputId": "e248a190-a8be-4c1c-d6a3-b4b7ac604e42"
      },
      "execution_count": null,
      "outputs": [
        {
          "output_type": "execute_result",
          "data": {
            "text/plain": [
              "'spam'"
            ],
            "application/vnd.google.colaboratory.intrinsic+json": {
              "type": "string"
            }
          },
          "metadata": {},
          "execution_count": 29
        }
      ]
    },
    {
      "cell_type": "markdown",
      "source": [
        "As mentioned, `DemoDataClass` instances are mutable--and no type checking is done at runtime."
      ],
      "metadata": {
        "id": "SOiuCAqGiQgP"
      }
    },
    {
      "cell_type": "code",
      "source": [
        "dc.a = 10"
      ],
      "metadata": {
        "id": "VhfdrgE-iOcQ"
      },
      "execution_count": null,
      "outputs": []
    },
    {
      "cell_type": "code",
      "source": [
        "dc.b = 'oops'"
      ],
      "metadata": {
        "id": "wzgVKLEeiXKZ"
      },
      "execution_count": null,
      "outputs": []
    },
    {
      "cell_type": "code",
      "source": [
        "dc.c = 'whatever'"
      ],
      "metadata": {
        "id": "Lq82yu6DiX_5"
      },
      "execution_count": null,
      "outputs": []
    },
    {
      "cell_type": "code",
      "source": [
        "dc.d = 'secret_stash'"
      ],
      "metadata": {
        "id": "N8P2fzipiZM5"
      },
      "execution_count": null,
      "outputs": []
    },
    {
      "cell_type": "code",
      "source": [
        "dc"
      ],
      "metadata": {
        "colab": {
          "base_uri": "https://localhost:8080/"
        },
        "id": "f1T3uQlEia8i",
        "outputId": "2011537c-a023-427a-f652-198b32f821cd"
      },
      "execution_count": null,
      "outputs": [
        {
          "output_type": "execute_result",
          "data": {
            "text/plain": [
              "DemoDataClass(a=10, b='oops')"
            ]
          },
          "metadata": {},
          "execution_count": 34
        }
      ]
    },
    {
      "cell_type": "markdown",
      "source": [
        "## More about `@dataclass`\n",
        "\n",
        "Its signature:\n",
        "`@dataclass(*, init=True, repr=True, eq=True, order=False, unsafe_hash=False, frozen=False)`"
      ],
      "metadata": {
        "id": "hg1_ciD7ihif"
      }
    },
    {
      "cell_type": "markdown",
      "source": [
        "Mutable default values are a common source of bugs for beginning Python developers."
      ],
      "metadata": {
        "id": "FIHFPIihkaQt"
      }
    },
    {
      "cell_type": "code",
      "source": [
        "from club_wrong import ClubMember"
      ],
      "metadata": {
        "id": "l2wEH8g9icFh"
      },
      "execution_count": null,
      "outputs": []
    },
    {
      "cell_type": "code",
      "source": [
        "from dataclasses import dataclass, field\n",
        "\n",
        "@dataclass\n",
        "class ClubMember:\n",
        "  name: str\n",
        "  guests: list[str] = field(default_factory=list)\n",
        "  athelete: bool = field(default=False, repr=False)"
      ],
      "metadata": {
        "id": "CSybYC_NkJ__"
      },
      "execution_count": null,
      "outputs": []
    },
    {
      "cell_type": "code",
      "source": [
        "%load_ext autoreload\n",
        "%autoreload 2"
      ],
      "metadata": {
        "id": "wFTeYjTfl5pQ",
        "colab": {
          "base_uri": "https://localhost:8080/"
        },
        "outputId": "9e2879e0-8289-481d-85f1-689f44debb78"
      },
      "execution_count": null,
      "outputs": [
        {
          "output_type": "stream",
          "name": "stdout",
          "text": [
            "The autoreload extension is already loaded. To reload it, use:\n",
            "  %reload_ext autoreload\n"
          ]
        }
      ]
    },
    {
      "cell_type": "code",
      "source": [
        "from club_generic import ClubMember\n",
        "\n",
        "ClubMember(\"George\", ['a', 'b', 'c'], False)"
      ],
      "metadata": {
        "colab": {
          "base_uri": "https://localhost:8080/"
        },
        "id": "bVLqXZ1bkJ66",
        "outputId": "8de7db8f-61ab-4640-a0e7-e20b6a6efcf2"
      },
      "execution_count": null,
      "outputs": [
        {
          "output_type": "execute_result",
          "data": {
            "text/plain": [
              "ClubMember(name='George', guests=['a', 'b', 'c'])"
            ]
          },
          "metadata": {},
          "execution_count": 48
        }
      ]
    },
    {
      "cell_type": "code",
      "source": [
        "!pip install mypy"
      ],
      "metadata": {
        "colab": {
          "base_uri": "https://localhost:8080/"
        },
        "id": "-h-0nLryQbuX",
        "outputId": "55036d4a-791c-4165-a4d2-3d9eac329f75"
      },
      "execution_count": null,
      "outputs": [
        {
          "output_type": "stream",
          "name": "stdout",
          "text": [
            "Installing collected packages: mypy-extensions, mypy\n",
            "Successfully installed mypy-1.9.0 mypy-extensions-1.0.0\n"
          ]
        }
      ]
    },
    {
      "cell_type": "code",
      "source": [
        "!mypy hackerclub.py"
      ],
      "metadata": {
        "id": "tQkQLolzltqQ",
        "colab": {
          "base_uri": "https://localhost:8080/"
        },
        "outputId": "2f490f83-d0e1-44ef-b422-6e731361910b"
      },
      "execution_count": null,
      "outputs": [
        {
          "output_type": "stream",
          "name": "stdout",
          "text": [
            "\u001b[1m\u001b[32mSuccess: no issues found in 1 source file\u001b[m\n"
          ]
        }
      ]
    },
    {
      "cell_type": "code",
      "source": [
        "%load_ext autoreload\n",
        "%autoreload 2"
      ],
      "metadata": {
        "id": "wTkudQYZSrY8"
      },
      "execution_count": null,
      "outputs": []
    },
    {
      "cell_type": "code",
      "source": [
        "!python resource.py"
      ],
      "metadata": {
        "colab": {
          "base_uri": "https://localhost:8080/"
        },
        "id": "G_QWNAEXQbDA",
        "outputId": "8c8802dd-7421-406a-d007-9b8416de604b"
      },
      "execution_count": null,
      "outputs": [
        {
          "output_type": "stream",
          "name": "stdout",
          "text": [
            "Resource(\n",
            "    identifier = '978-0-13-475759-9',\n",
            "    title = 'Refactoring, 2nd Edition',\n",
            "    creators = datetime.date(2018, 11, 19),\n",
            "    date = <ResourceType.BOOK: 1>,\n",
            "    type = 'improving teh design of existing code',\n",
            "    description = 'EN',\n",
            "    language = ['computer programming', 'OOP'],\n",
            "    subjects = [],\n",
            ")\n"
          ]
        }
      ]
    },
    {
      "cell_type": "markdown",
      "source": [
        "## Pattern Matching Class Instances\n",
        " 1. simple\n",
        " 2. keyword\n",
        " 3. positional"
      ],
      "metadata": {
        "id": "PfjnZGB6V_Vg"
      }
    },
    {
      "cell_type": "markdown",
      "source": [
        "### Keyword Class Patterns"
      ],
      "metadata": {
        "id": "t9ug-fS_WeUG"
      }
    },
    {
      "cell_type": "code",
      "source": [
        "import typing\n",
        "\n",
        "class City(typing.NamedTuple):\n",
        "  continent: str\n",
        "  name: str\n",
        "  country: str\n",
        "\n",
        "cities = [\n",
        "    City('Asia', 'Tokyo', 'JP'),\n",
        "    City('Asia', 'Delhi', 'IN'),\n",
        "    City('North America', 'Mexico City', 'MX'),\n",
        "    City('North America', 'New York', 'US'),\n",
        "    City('South America', 'Sao Paulo', 'BR'),\n",
        "]"
      ],
      "metadata": {
        "id": "ON-xKGPfTRyv"
      },
      "execution_count": 30,
      "outputs": []
    },
    {
      "cell_type": "code",
      "source": [
        "def match_asian_cities():\n",
        "  results = []\n",
        "  for city in cities:\n",
        "    match city:\n",
        "      case City(continent='Asia', country=cc):\n",
        "        results.append(cc)\n",
        "  return results"
      ],
      "metadata": {
        "id": "UFOQtbdPW0Gs"
      },
      "execution_count": 33,
      "outputs": []
    },
    {
      "cell_type": "code",
      "source": [
        "match_asian_cities()"
      ],
      "metadata": {
        "colab": {
          "base_uri": "https://localhost:8080/"
        },
        "id": "G7yhs5UtW9H-",
        "outputId": "0fe4da31-529e-4f48-c6a9-ad9a7c8f3067"
      },
      "execution_count": 34,
      "outputs": [
        {
          "output_type": "execute_result",
          "data": {
            "text/plain": [
              "['JP', 'IN']"
            ]
          },
          "metadata": {},
          "execution_count": 34
        }
      ]
    },
    {
      "cell_type": "markdown",
      "source": [
        "### Positional Class Patterns"
      ],
      "metadata": {
        "id": "-2_vlIdSXL76"
      }
    },
    {
      "cell_type": "code",
      "source": [
        "def match_asian_cities_pos():\n",
        "  results = []\n",
        "  for city in cities:\n",
        "    match city:\n",
        "      case City('Asia'):\n",
        "        results.append(city)\n",
        "  return results"
      ],
      "metadata": {
        "id": "7J-vGPIvW-KF"
      },
      "execution_count": 35,
      "outputs": []
    },
    {
      "cell_type": "code",
      "source": [
        "match_asian_cities_pos()"
      ],
      "metadata": {
        "colab": {
          "base_uri": "https://localhost:8080/"
        },
        "id": "tW6zuYWkXWEE",
        "outputId": "50b7f332-16f6-48c0-be43-acbd3c3ea94f"
      },
      "execution_count": 36,
      "outputs": [
        {
          "output_type": "execute_result",
          "data": {
            "text/plain": [
              "[City(continent='Asia', name='Tokyo', country='JP'),\n",
              " City(continent='Asia', name='Delhi', country='IN')]"
            ]
          },
          "metadata": {},
          "execution_count": 36
        }
      ]
    },
    {
      "cell_type": "code",
      "source": [
        "def match_asian_countries_pos():\n",
        "  results = []\n",
        "  for city in cities:\n",
        "    match city:\n",
        "      case City('Asia', _, country):\n",
        "        results.append(country)\n",
        "  return results"
      ],
      "metadata": {
        "id": "qa23zut3XXfU"
      },
      "execution_count": 37,
      "outputs": []
    },
    {
      "cell_type": "markdown",
      "source": [
        "As you can see, `__match_args` declares the names of the attributes in the order they will be used in positional patterns"
      ],
      "metadata": {
        "id": "bHUuHa6bXozo"
      }
    },
    {
      "cell_type": "code",
      "source": [
        "City.__match_args__"
      ],
      "metadata": {
        "colab": {
          "base_uri": "https://localhost:8080/"
        },
        "id": "0hHGXl-UXeDV",
        "outputId": "c2d82c97-f609-4814-d429-314e9ff19454"
      },
      "execution_count": 38,
      "outputs": [
        {
          "output_type": "execute_result",
          "data": {
            "text/plain": [
              "('continent', 'name', 'country')"
            ]
          },
          "metadata": {},
          "execution_count": 38
        }
      ]
    },
    {
      "cell_type": "code",
      "source": [],
      "metadata": {
        "id": "xl3N15BoXlON"
      },
      "execution_count": null,
      "outputs": []
    }
  ]
}