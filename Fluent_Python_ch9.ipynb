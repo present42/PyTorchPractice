{
  "nbformat": 4,
  "nbformat_minor": 0,
  "metadata": {
    "colab": {
      "provenance": [],
      "authorship_tag": "ABX9TyPQisHzreFQS9wXO3Ce6qiz",
      "include_colab_link": true
    },
    "kernelspec": {
      "name": "python3",
      "display_name": "Python 3"
    },
    "language_info": {
      "name": "python"
    }
  },
  "cells": [
    {
      "cell_type": "markdown",
      "metadata": {
        "id": "view-in-github",
        "colab_type": "text"
      },
      "source": [
        "<a href=\"https://colab.research.google.com/github/present42/PyTorchPractice/blob/main/Fluent_Python_ch9.ipynb\" target=\"_parent\"><img src=\"https://colab.research.google.com/assets/colab-badge.svg\" alt=\"Open In Colab\"/></a>"
      ]
    },
    {
      "cell_type": "markdown",
      "source": [
        "# Chapter 9. Decorators and Closures\n",
        "\n",
        "16:06 - 17:06"
      ],
      "metadata": {
        "id": "DWP84dNurFF9"
      }
    },
    {
      "cell_type": "markdown",
      "source": [
        "A decorator is a callable that takes another function as an argument.\n",
        "\n",
        "A decorator may perform some processing with the decorated function, and returns it or replaces it with another function or callable object."
      ],
      "metadata": {
        "id": "pqQFGwCeroqG"
      }
    },
    {
      "cell_type": "code",
      "execution_count": null,
      "metadata": {
        "id": "cNHNp1T9rCuH"
      },
      "outputs": [],
      "source": [
        "@decorate\n",
        "def target():\n",
        "  print('running target()')"
      ]
    },
    {
      "cell_type": "markdown",
      "source": [
        "is the same as:"
      ],
      "metadata": {
        "id": "2dTA8lDCsDQW"
      }
    },
    {
      "cell_type": "code",
      "source": [
        "def target():\n",
        "  print('running target()')\n",
        "\n",
        "target = decorate(target)"
      ],
      "metadata": {
        "id": "ZJNQD41Pr2Id"
      },
      "execution_count": null,
      "outputs": []
    },
    {
      "cell_type": "code",
      "source": [
        "def deco(func):\n",
        "  def inner():\n",
        "    print('running inner()')\n",
        "  return inner # replace incoming func with inner function"
      ],
      "metadata": {
        "id": "z8tWPlV8sFPm"
      },
      "execution_count": 2,
      "outputs": []
    },
    {
      "cell_type": "code",
      "source": [
        "@deco\n",
        "def target():\n",
        "  print('running target()')\n",
        "\n",
        "target()"
      ],
      "metadata": {
        "colab": {
          "base_uri": "https://localhost:8080/"
        },
        "id": "LsILBADfsMgu",
        "outputId": "8b2d1a5a-992a-46f9-f6da-907835def865"
      },
      "execution_count": 3,
      "outputs": [
        {
          "output_type": "stream",
          "name": "stdout",
          "text": [
            "running inner()\n"
          ]
        }
      ]
    },
    {
      "cell_type": "code",
      "source": [
        "target"
      ],
      "metadata": {
        "colab": {
          "base_uri": "https://localhost:8080/",
          "height": 103
        },
        "id": "1DGSpwUmsQcH",
        "outputId": "d4fbdf7a-00a3-4fad-8291-64a6da0fcaf3"
      },
      "execution_count": 4,
      "outputs": [
        {
          "output_type": "execute_result",
          "data": {
            "text/plain": [
              "<function __main__.deco.<locals>.inner()>"
            ],
            "text/html": [
              "<div style=\"max-width:800px; border: 1px solid var(--colab-border-color);\"><style>\n",
              "      pre.function-repr-contents {\n",
              "        overflow-x: auto;\n",
              "        padding: 8px 12px;\n",
              "        max-height: 500px;\n",
              "      }\n",
              "\n",
              "      pre.function-repr-contents.function-repr-contents-collapsed {\n",
              "        cursor: pointer;\n",
              "        max-height: 100px;\n",
              "      }\n",
              "    </style>\n",
              "    <pre style=\"white-space: initial; background:\n",
              "         var(--colab-secondary-surface-color); padding: 8px 12px;\n",
              "         border-bottom: 1px solid var(--colab-border-color);\"><b>deco.&lt;locals&gt;.inner</b><br/>def inner()</pre><pre class=\"function-repr-contents function-repr-contents-collapsed\" style=\"\"><a class=\"filepath\" style=\"display:none\" href=\"#\">/content/&lt;ipython-input-2-ddc5af24d741&gt;</a>&lt;no docstring&gt;</pre></div>"
            ]
          },
          "metadata": {},
          "execution_count": 4
        }
      ]
    },
    {
      "cell_type": "markdown",
      "source": [
        "Strictly speaking, decorators are just syntactic sugar. Sometime that is actually convenient, especially when doing metaprogramming-changing program behavior at runtime."
      ],
      "metadata": {
        "id": "MyXwcmI4sfWP"
      }
    },
    {
      "cell_type": "markdown",
      "source": [
        "* Decorators are executed immediately when a module is loaded"
      ],
      "metadata": {
        "id": "14VJI0-tsu4q"
      }
    },
    {
      "cell_type": "code",
      "source": [
        "# registry.py\n",
        "\n",
        "registry = [] # registry will hold references to functions\n",
        "              # decorated by @register\n",
        "\n",
        "def register(func): # register takes a function as an argument\n",
        "  print(f\"running register({func})\") # display what function is decorated\n",
        "  registry.append(func)\n",
        "  return func\n",
        "\n",
        "@register\n",
        "def f1():\n",
        "  print('running f1()')\n",
        "\n",
        "@register\n",
        "def f2():\n",
        "  print('running f2()')\n",
        "\n",
        "def f3():\n",
        "  print('running f3()')\n",
        "\n",
        "def main():\n",
        "  print('running main()')\n",
        "  print('registry ->', registry)\n",
        "  f1()\n",
        "  f2()\n",
        "  f3()\n",
        "\n",
        "if __name__ == '__main__':\n",
        "  main()"
      ],
      "metadata": {
        "id": "zPFfvzctsR4t"
      },
      "execution_count": null,
      "outputs": []
    },
    {
      "cell_type": "code",
      "source": [
        "!python registry.py"
      ],
      "metadata": {
        "colab": {
          "base_uri": "https://localhost:8080/"
        },
        "id": "Azs7bT80u1E6",
        "outputId": "c189bc27-cdec-40e1-88fe-aaed5cf8ebb5"
      },
      "execution_count": 6,
      "outputs": [
        {
          "output_type": "stream",
          "name": "stdout",
          "text": [
            "running register(<function f1 at 0x7b5621466050>)\n",
            "running register(<function f2 at 0x7b56214660e0>)\n",
            "running main()\n",
            "registry -> [<function f1 at 0x7b5621466050>, <function f2 at 0x7b56214660e0>]\n",
            "running f1()\n",
            "running f2()\n",
            "running f3()\n"
          ]
        }
      ]
    },
    {
      "cell_type": "code",
      "source": [
        "import registry"
      ],
      "metadata": {
        "colab": {
          "base_uri": "https://localhost:8080/"
        },
        "id": "Yz_Zdihru1-D",
        "outputId": "5a8e2b1a-1428-458b-99fe-fcfbc33cf030"
      },
      "execution_count": 7,
      "outputs": [
        {
          "output_type": "stream",
          "name": "stdout",
          "text": [
            "running register(<function f1 at 0x7afae6dd7e20>)\n",
            "running register(<function f2 at 0x7afae6dd4a60>)\n"
          ]
        }
      ]
    },
    {
      "cell_type": "code",
      "source": [
        "registry.registry"
      ],
      "metadata": {
        "colab": {
          "base_uri": "https://localhost:8080/"
        },
        "id": "-2pKqjhkvYoQ",
        "outputId": "fe71c903-c408-4194-c0e5-5140aab6cff2"
      },
      "execution_count": 8,
      "outputs": [
        {
          "output_type": "execute_result",
          "data": {
            "text/plain": [
              "[<function registry.f1()>, <function registry.f2()>]"
            ]
          },
          "metadata": {},
          "execution_count": 8
        }
      ]
    },
    {
      "cell_type": "markdown",
      "source": [
        "* The main point of the above example is to emphasize that function decorators are executed as soon as the module is imported, but the decorated functions only run when they are explicitly invoked."
      ],
      "metadata": {
        "id": "508AdmkSve1G"
      }
    },
    {
      "cell_type": "markdown",
      "source": [
        "## Registration Decorators"
      ],
      "metadata": {
        "id": "j3HpI8Ksvdoj"
      }
    },
    {
      "cell_type": "markdown",
      "source": [
        "Two ununsual things of the above example:\n",
        " * The decorator function is defined in the same module as the decorated functions. A real decorator is usually defined in one module and applied to functions in other modules\n",
        " * The `register` decorator returns the same function passed as an argument. In practice, most decorators define an inner function and return it."
      ],
      "metadata": {
        "id": "jz1998-hvwzk"
      }
    },
    {
      "cell_type": "markdown",
      "source": [
        "## Variable Scope Rules in Python"
      ],
      "metadata": {
        "id": "L2Tng436wU02"
      }
    },
    {
      "cell_type": "code",
      "source": [
        "def f1(a):\n",
        "  print(a) # local variable (defined as fcn param)\n",
        "  print(b) # variable b that is not defined anywhere\n",
        "\n",
        "f1(3)"
      ],
      "metadata": {
        "colab": {
          "base_uri": "https://localhost:8080/",
          "height": 336
        },
        "id": "QyMZsUxRvbXH",
        "outputId": "9a8a15a5-2438-40ec-df36-53e759a71440"
      },
      "execution_count": 10,
      "outputs": [
        {
          "output_type": "stream",
          "name": "stdout",
          "text": [
            "3\n"
          ]
        },
        {
          "output_type": "error",
          "ename": "NameError",
          "evalue": "name 'b' is not defined",
          "traceback": [
            "\u001b[0;31m---------------------------------------------------------------------------\u001b[0m",
            "\u001b[0;31mNameError\u001b[0m                                 Traceback (most recent call last)",
            "\u001b[0;32m<ipython-input-10-d91d6586b140>\u001b[0m in \u001b[0;36m<cell line: 5>\u001b[0;34m()\u001b[0m\n\u001b[1;32m      3\u001b[0m   \u001b[0mprint\u001b[0m\u001b[0;34m(\u001b[0m\u001b[0mb\u001b[0m\u001b[0;34m)\u001b[0m\u001b[0;34m\u001b[0m\u001b[0;34m\u001b[0m\u001b[0m\n\u001b[1;32m      4\u001b[0m \u001b[0;34m\u001b[0m\u001b[0m\n\u001b[0;32m----> 5\u001b[0;31m \u001b[0mf1\u001b[0m\u001b[0;34m(\u001b[0m\u001b[0;36m3\u001b[0m\u001b[0;34m)\u001b[0m\u001b[0;34m\u001b[0m\u001b[0;34m\u001b[0m\u001b[0m\n\u001b[0m",
            "\u001b[0;32m<ipython-input-10-d91d6586b140>\u001b[0m in \u001b[0;36mf1\u001b[0;34m(a)\u001b[0m\n\u001b[1;32m      1\u001b[0m \u001b[0;32mdef\u001b[0m \u001b[0mf1\u001b[0m\u001b[0;34m(\u001b[0m\u001b[0ma\u001b[0m\u001b[0;34m)\u001b[0m\u001b[0;34m:\u001b[0m\u001b[0;34m\u001b[0m\u001b[0;34m\u001b[0m\u001b[0m\n\u001b[1;32m      2\u001b[0m   \u001b[0mprint\u001b[0m\u001b[0;34m(\u001b[0m\u001b[0ma\u001b[0m\u001b[0;34m)\u001b[0m\u001b[0;34m\u001b[0m\u001b[0;34m\u001b[0m\u001b[0m\n\u001b[0;32m----> 3\u001b[0;31m   \u001b[0mprint\u001b[0m\u001b[0;34m(\u001b[0m\u001b[0mb\u001b[0m\u001b[0;34m)\u001b[0m\u001b[0;34m\u001b[0m\u001b[0;34m\u001b[0m\u001b[0m\n\u001b[0m\u001b[1;32m      4\u001b[0m \u001b[0;34m\u001b[0m\u001b[0m\n\u001b[1;32m      5\u001b[0m \u001b[0mf1\u001b[0m\u001b[0;34m(\u001b[0m\u001b[0;36m3\u001b[0m\u001b[0;34m)\u001b[0m\u001b[0;34m\u001b[0m\u001b[0;34m\u001b[0m\u001b[0m\n",
            "\u001b[0;31mNameError\u001b[0m: name 'b' is not defined"
          ]
        }
      ]
    },
    {
      "cell_type": "code",
      "source": [
        "b = 6"
      ],
      "metadata": {
        "id": "RITDOIRKwoJP"
      },
      "execution_count": 11,
      "outputs": []
    },
    {
      "cell_type": "code",
      "source": [
        "f1(3)"
      ],
      "metadata": {
        "colab": {
          "base_uri": "https://localhost:8080/"
        },
        "id": "vjxnBk6OwblB",
        "outputId": "3eb2cf54-4136-4d16-c0fa-822ef69e4f6a"
      },
      "execution_count": 12,
      "outputs": [
        {
          "output_type": "stream",
          "name": "stdout",
          "text": [
            "3\n",
            "6\n"
          ]
        }
      ]
    },
    {
      "cell_type": "code",
      "source": [
        "def f2(a):\n",
        "  print(a)\n",
        "  print(b)\n",
        "  b = 9"
      ],
      "metadata": {
        "id": "pFFW-siewpys"
      },
      "execution_count": 13,
      "outputs": []
    },
    {
      "cell_type": "code",
      "source": [
        "f2(3)"
      ],
      "metadata": {
        "colab": {
          "base_uri": "https://localhost:8080/",
          "height": 280
        },
        "id": "jZtsJL7cwuEL",
        "outputId": "76e23915-fb1f-4e50-f990-b7abbb3e9721"
      },
      "execution_count": 14,
      "outputs": [
        {
          "output_type": "stream",
          "name": "stdout",
          "text": [
            "3\n"
          ]
        },
        {
          "output_type": "error",
          "ename": "UnboundLocalError",
          "evalue": "local variable 'b' referenced before assignment",
          "traceback": [
            "\u001b[0;31m---------------------------------------------------------------------------\u001b[0m",
            "\u001b[0;31mUnboundLocalError\u001b[0m                         Traceback (most recent call last)",
            "\u001b[0;32m<ipython-input-14-ddde86392cb4>\u001b[0m in \u001b[0;36m<cell line: 1>\u001b[0;34m()\u001b[0m\n\u001b[0;32m----> 1\u001b[0;31m \u001b[0mf2\u001b[0m\u001b[0;34m(\u001b[0m\u001b[0;36m3\u001b[0m\u001b[0;34m)\u001b[0m\u001b[0;34m\u001b[0m\u001b[0;34m\u001b[0m\u001b[0m\n\u001b[0m",
            "\u001b[0;32m<ipython-input-13-ffd18c813892>\u001b[0m in \u001b[0;36mf2\u001b[0;34m(a)\u001b[0m\n\u001b[1;32m      1\u001b[0m \u001b[0;32mdef\u001b[0m \u001b[0mf2\u001b[0m\u001b[0;34m(\u001b[0m\u001b[0ma\u001b[0m\u001b[0;34m)\u001b[0m\u001b[0;34m:\u001b[0m\u001b[0;34m\u001b[0m\u001b[0;34m\u001b[0m\u001b[0m\n\u001b[1;32m      2\u001b[0m   \u001b[0mprint\u001b[0m\u001b[0;34m(\u001b[0m\u001b[0ma\u001b[0m\u001b[0;34m)\u001b[0m\u001b[0;34m\u001b[0m\u001b[0;34m\u001b[0m\u001b[0m\n\u001b[0;32m----> 3\u001b[0;31m   \u001b[0mprint\u001b[0m\u001b[0;34m(\u001b[0m\u001b[0mb\u001b[0m\u001b[0;34m)\u001b[0m\u001b[0;34m\u001b[0m\u001b[0;34m\u001b[0m\u001b[0m\n\u001b[0m\u001b[1;32m      4\u001b[0m   \u001b[0mb\u001b[0m \u001b[0;34m=\u001b[0m \u001b[0;36m9\u001b[0m\u001b[0;34m\u001b[0m\u001b[0;34m\u001b[0m\u001b[0m\n",
            "\u001b[0;31mUnboundLocalError\u001b[0m: local variable 'b' referenced before assignment"
          ]
        }
      ]
    },
    {
      "cell_type": "markdown",
      "source": [
        "Why error? When Python compiles the body of the function, it decides that `b` is a local variable because it is assigned within the function. The generated bytecode reflects this decision and will try to fetch `b` from local scope."
      ],
      "metadata": {
        "id": "E4Hfpab0w54W"
      }
    },
    {
      "cell_type": "code",
      "source": [
        "b = 6\n",
        "def f3(a):\n",
        "  global b\n",
        "  print(a)\n",
        "  print(b)\n",
        "  b = 9"
      ],
      "metadata": {
        "id": "DbnKqQTpwyTV"
      },
      "execution_count": 15,
      "outputs": []
    },
    {
      "cell_type": "code",
      "source": [
        "f3(3)"
      ],
      "metadata": {
        "colab": {
          "base_uri": "https://localhost:8080/"
        },
        "id": "McH9BbCgxlGG",
        "outputId": "78d1c1ee-0fb5-4fef-9d17-5ed7ba8fab61"
      },
      "execution_count": 16,
      "outputs": [
        {
          "output_type": "stream",
          "name": "stdout",
          "text": [
            "3\n",
            "6\n"
          ]
        }
      ]
    },
    {
      "cell_type": "code",
      "source": [
        "b"
      ],
      "metadata": {
        "colab": {
          "base_uri": "https://localhost:8080/"
        },
        "id": "ucBK8fowxm3G",
        "outputId": "645138d7-853d-420a-9001-9411b36c0b2e"
      },
      "execution_count": 17,
      "outputs": [
        {
          "output_type": "execute_result",
          "data": {
            "text/plain": [
              "9"
            ]
          },
          "metadata": {},
          "execution_count": 17
        }
      ]
    },
    {
      "cell_type": "code",
      "source": [
        "from dis import dis"
      ],
      "metadata": {
        "id": "NAxDmmQnxnfu"
      },
      "execution_count": 18,
      "outputs": []
    },
    {
      "cell_type": "code",
      "source": [
        "dis(f1)"
      ],
      "metadata": {
        "colab": {
          "base_uri": "https://localhost:8080/"
        },
        "id": "JfGR2WpPx0P6",
        "outputId": "3f44d365-2697-49b1-b245-e0458d7ff499"
      },
      "execution_count": 19,
      "outputs": [
        {
          "output_type": "stream",
          "name": "stdout",
          "text": [
            "  2           0 LOAD_GLOBAL              0 (print)\n",
            "              2 LOAD_FAST                0 (a)\n",
            "              4 CALL_FUNCTION            1\n",
            "              6 POP_TOP\n",
            "\n",
            "  3           8 LOAD_GLOBAL              0 (print)\n",
            "             10 LOAD_GLOBAL              1 (b)\n",
            "             12 CALL_FUNCTION            1\n",
            "             14 POP_TOP\n",
            "             16 LOAD_CONST               0 (None)\n",
            "             18 RETURN_VALUE\n"
          ]
        }
      ]
    },
    {
      "cell_type": "code",
      "source": [
        "dis(f2)"
      ],
      "metadata": {
        "colab": {
          "base_uri": "https://localhost:8080/"
        },
        "id": "d_XDuYhxx1ZO",
        "outputId": "885ef00b-e0cc-49b5-e269-3552c4b6b94a"
      },
      "execution_count": 20,
      "outputs": [
        {
          "output_type": "stream",
          "name": "stdout",
          "text": [
            "  2           0 LOAD_GLOBAL              0 (print)\n",
            "              2 LOAD_FAST                0 (a)\n",
            "              4 CALL_FUNCTION            1\n",
            "              6 POP_TOP\n",
            "\n",
            "  3           8 LOAD_GLOBAL              0 (print)\n",
            "             10 LOAD_FAST                1 (b)\n",
            "             12 CALL_FUNCTION            1\n",
            "             14 POP_TOP\n",
            "\n",
            "  4          16 LOAD_CONST               1 (9)\n",
            "             18 STORE_FAST               1 (b)\n",
            "             20 LOAD_CONST               0 (None)\n",
            "             22 RETURN_VALUE\n"
          ]
        }
      ]
    },
    {
      "cell_type": "markdown",
      "source": [
        "## Closures"
      ],
      "metadata": {
        "id": "cANBXg6cyKv_"
      }
    },
    {
      "cell_type": "markdown",
      "source": [
        "Closures are not the same as anonymous functions. Many confuse them because of the parallel history of those features: defining functions inside functions is not so common or convenient, until you have anonymous functions. And closure only matter when you have nested functions."
      ],
      "metadata": {
        "id": "oQEBSFG3yNa4"
      }
    },
    {
      "cell_type": "markdown",
      "source": [
        "Actually, a closure is a function (let's call if `f`) with an extended scope that encompasses variables referenced in the body of `f` that are not global variables or local variables of `f`. Such variables must come from the local scopoe of an outer function that encompasses `f`."
      ],
      "metadata": {
        "id": "0Wb5qUm3yb93"
      }
    },
    {
      "cell_type": "markdown",
      "source": [
        "It does not matter whether the function is anonymous or not; what matters is that it can access nonglobal variables that are defined outside of its body."
      ],
      "metadata": {
        "id": "4NGKjt1tzAEM"
      }
    },
    {
      "cell_type": "markdown",
      "source": [],
      "metadata": {
        "id": "eIfQmHaAzfBz"
      }
    },
    {
      "cell_type": "code",
      "source": [
        "# average_oo.py\n",
        "class Averager():\n",
        "  def __init__(self):\n",
        "    self.series = []\n",
        "\n",
        "  def __call__(self, new_value):\n",
        "    self.series.append(new_value)\n",
        "    total = sum(self.series)\n",
        "    return total / len(self.series)"
      ],
      "metadata": {
        "id": "_2WtkJz7x_co"
      },
      "execution_count": 23,
      "outputs": []
    },
    {
      "cell_type": "code",
      "source": [
        "avg = Averager()\n",
        "avg(10)"
      ],
      "metadata": {
        "colab": {
          "base_uri": "https://localhost:8080/"
        },
        "id": "FMwhjiQrzeQT",
        "outputId": "f3148bed-b068-4c15-d348-033afae4cd26"
      },
      "execution_count": 25,
      "outputs": [
        {
          "output_type": "execute_result",
          "data": {
            "text/plain": [
              "10.0"
            ]
          },
          "metadata": {},
          "execution_count": 25
        }
      ]
    },
    {
      "cell_type": "code",
      "source": [
        "avg(11)"
      ],
      "metadata": {
        "colab": {
          "base_uri": "https://localhost:8080/"
        },
        "id": "RlciDHB-zlT2",
        "outputId": "a80c5ac0-ca35-4216-d965-86ddb2d4c840"
      },
      "execution_count": 26,
      "outputs": [
        {
          "output_type": "execute_result",
          "data": {
            "text/plain": [
              "10.5"
            ]
          },
          "metadata": {},
          "execution_count": 26
        }
      ]
    },
    {
      "cell_type": "code",
      "source": [
        "avg(12)"
      ],
      "metadata": {
        "colab": {
          "base_uri": "https://localhost:8080/"
        },
        "id": "c0kEdR34znH_",
        "outputId": "889600d7-67c0-422d-9247-daf628f96504"
      },
      "execution_count": 27,
      "outputs": [
        {
          "output_type": "execute_result",
          "data": {
            "text/plain": [
              "11.0"
            ]
          },
          "metadata": {},
          "execution_count": 27
        }
      ]
    },
    {
      "cell_type": "code",
      "source": [
        "def make_averager():\n",
        "  series = []\n",
        "\n",
        "  def averager(new_value):\n",
        "    series.append(new_value)\n",
        "    total = sum(series)\n",
        "    return total / len(series)\n",
        "\n",
        "  return averager"
      ],
      "metadata": {
        "id": "_mNm4Z5Zzn2P"
      },
      "execution_count": 28,
      "outputs": []
    },
    {
      "cell_type": "markdown",
      "source": [
        "Within `averager`, `series` is a free variable. This is a technical term meaning a variable that is not bound in the local scope."
      ],
      "metadata": {
        "id": "A1edbyTV0om1"
      }
    },
    {
      "cell_type": "code",
      "source": [
        "avg = make_averager() # inner function of make_averager"
      ],
      "metadata": {
        "id": "AuCQDVmu0H43"
      },
      "execution_count": 29,
      "outputs": []
    },
    {
      "cell_type": "code",
      "source": [
        "avg(10)"
      ],
      "metadata": {
        "colab": {
          "base_uri": "https://localhost:8080/"
        },
        "id": "PQ3ujLuh0MTM",
        "outputId": "6cf2186d-8f90-48d9-cc0d-c7f6b6ed4c46"
      },
      "execution_count": 30,
      "outputs": [
        {
          "output_type": "execute_result",
          "data": {
            "text/plain": [
              "10.0"
            ]
          },
          "metadata": {},
          "execution_count": 30
        }
      ]
    },
    {
      "cell_type": "code",
      "source": [
        "avg(11)"
      ],
      "metadata": {
        "colab": {
          "base_uri": "https://localhost:8080/"
        },
        "id": "pI7QmcTB0NIE",
        "outputId": "b5670fa0-05a1-4d41-c96a-076188585bef"
      },
      "execution_count": 31,
      "outputs": [
        {
          "output_type": "execute_result",
          "data": {
            "text/plain": [
              "10.5"
            ]
          },
          "metadata": {},
          "execution_count": 31
        }
      ]
    },
    {
      "cell_type": "code",
      "source": [
        "avg(12)"
      ],
      "metadata": {
        "colab": {
          "base_uri": "https://localhost:8080/"
        },
        "id": "Xb5Hx_180Nh-",
        "outputId": "c569cfbf-d5bf-4e74-eb65-41f2c331ce80"
      },
      "execution_count": 32,
      "outputs": [
        {
          "output_type": "execute_result",
          "data": {
            "text/plain": [
              "11.0"
            ]
          },
          "metadata": {},
          "execution_count": 32
        }
      ]
    },
    {
      "cell_type": "code",
      "source": [
        "avg.__code__ # attr that represents the compiled body of func"
      ],
      "metadata": {
        "colab": {
          "base_uri": "https://localhost:8080/"
        },
        "id": "DQzZOziz0OB4",
        "outputId": "5e966ac5-a45a-403f-c2fe-66568b99eae8"
      },
      "execution_count": 33,
      "outputs": [
        {
          "output_type": "execute_result",
          "data": {
            "text/plain": [
              "<code object averager at 0x7afadd244870, file \"<ipython-input-28-5ed7c9c25689>\", line 4>"
            ]
          },
          "metadata": {},
          "execution_count": 33
        }
      ]
    },
    {
      "cell_type": "code",
      "source": [
        "avg.__code__.co_varnames"
      ],
      "metadata": {
        "colab": {
          "base_uri": "https://localhost:8080/"
        },
        "id": "iQHOAFdV07IB",
        "outputId": "1091aecc-cea2-4f88-c836-0dca4490c30f"
      },
      "execution_count": 34,
      "outputs": [
        {
          "output_type": "execute_result",
          "data": {
            "text/plain": [
              "('new_value', 'total')"
            ]
          },
          "metadata": {},
          "execution_count": 34
        }
      ]
    },
    {
      "cell_type": "code",
      "source": [
        "avg.__code__.co_freevars"
      ],
      "metadata": {
        "colab": {
          "base_uri": "https://localhost:8080/"
        },
        "id": "bY03umta1AzC",
        "outputId": "def311b8-dcdf-4e99-a70c-e315d6d96747"
      },
      "execution_count": 35,
      "outputs": [
        {
          "output_type": "execute_result",
          "data": {
            "text/plain": [
              "('series',)"
            ]
          },
          "metadata": {},
          "execution_count": 35
        }
      ]
    },
    {
      "cell_type": "code",
      "source": [
        "avg.__code__.co_freevars"
      ],
      "metadata": {
        "colab": {
          "base_uri": "https://localhost:8080/"
        },
        "id": "4F5W3G9C1EMm",
        "outputId": "b7128d4e-6d95-476b-b725-30a48b78ae90"
      },
      "execution_count": 36,
      "outputs": [
        {
          "output_type": "execute_result",
          "data": {
            "text/plain": [
              "('series',)"
            ]
          },
          "metadata": {},
          "execution_count": 36
        }
      ]
    },
    {
      "cell_type": "code",
      "source": [
        "avg.__closure__"
      ],
      "metadata": {
        "colab": {
          "base_uri": "https://localhost:8080/"
        },
        "id": "yJH4DGID1MZD",
        "outputId": "f520f909-a5a5-4cec-a4c4-18dc1dadc349"
      },
      "execution_count": 37,
      "outputs": [
        {
          "output_type": "execute_result",
          "data": {
            "text/plain": [
              "(<cell at 0x7afadd24b640: list object at 0x7afadd0e90c0>,)"
            ]
          },
          "metadata": {},
          "execution_count": 37
        }
      ]
    },
    {
      "cell_type": "code",
      "source": [
        "avg.__closure__[0]"
      ],
      "metadata": {
        "colab": {
          "base_uri": "https://localhost:8080/"
        },
        "id": "sQ30YhCr1N2-",
        "outputId": "a3981082-7471-449a-b401-03eaee083393"
      },
      "execution_count": 40,
      "outputs": [
        {
          "output_type": "execute_result",
          "data": {
            "text/plain": [
              "<cell at 0x7afadd24b640: list object at 0x7afadd0e90c0>"
            ]
          },
          "metadata": {},
          "execution_count": 40
        }
      ]
    },
    {
      "cell_type": "markdown",
      "source": [
        "To summarize: a closure is a function that retains the bindings of the free variables that exist when the function is defined, so that they can be used later when the function is invoked and the defining scope is no longer available."
      ],
      "metadata": {
        "id": "Bj5Lns_j1YuR"
      }
    },
    {
      "cell_type": "markdown",
      "source": [
        "## The nonlocal Declaration"
      ],
      "metadata": {
        "id": "FYcgoWQj1r0J"
      }
    },
    {
      "cell_type": "code",
      "source": [
        "def make_averager():\n",
        "  count = 0\n",
        "  total = 0\n",
        "\n",
        "  def averager(new_value):\n",
        "    count += 1\n",
        "    total += new_value\n",
        "    return total / count\n",
        "\n",
        "  return averager"
      ],
      "metadata": {
        "id": "wyOHFmN01QaP"
      },
      "execution_count": 41,
      "outputs": []
    },
    {
      "cell_type": "code",
      "source": [
        "avg = make_averager()\n",
        "avg(10)"
      ],
      "metadata": {
        "colab": {
          "base_uri": "https://localhost:8080/",
          "height": 299
        },
        "id": "U0gk1fkq17hK",
        "outputId": "25905eae-5113-498c-ff50-f6cd93a5cdf0"
      },
      "execution_count": 42,
      "outputs": [
        {
          "output_type": "error",
          "ename": "UnboundLocalError",
          "evalue": "local variable 'count' referenced before assignment",
          "traceback": [
            "\u001b[0;31m---------------------------------------------------------------------------\u001b[0m",
            "\u001b[0;31mUnboundLocalError\u001b[0m                         Traceback (most recent call last)",
            "\u001b[0;32m<ipython-input-42-b5a6bb6dc4cd>\u001b[0m in \u001b[0;36m<cell line: 2>\u001b[0;34m()\u001b[0m\n\u001b[1;32m      1\u001b[0m \u001b[0mavg\u001b[0m \u001b[0;34m=\u001b[0m \u001b[0mmake_averager\u001b[0m\u001b[0;34m(\u001b[0m\u001b[0;34m)\u001b[0m\u001b[0;34m\u001b[0m\u001b[0;34m\u001b[0m\u001b[0m\n\u001b[0;32m----> 2\u001b[0;31m \u001b[0mavg\u001b[0m\u001b[0;34m(\u001b[0m\u001b[0;36m10\u001b[0m\u001b[0;34m)\u001b[0m\u001b[0;34m\u001b[0m\u001b[0;34m\u001b[0m\u001b[0m\n\u001b[0m",
            "\u001b[0;32m<ipython-input-41-1b14eb651e1f>\u001b[0m in \u001b[0;36maverager\u001b[0;34m(new_value)\u001b[0m\n\u001b[1;32m      4\u001b[0m \u001b[0;34m\u001b[0m\u001b[0m\n\u001b[1;32m      5\u001b[0m   \u001b[0;32mdef\u001b[0m \u001b[0maverager\u001b[0m\u001b[0;34m(\u001b[0m\u001b[0mnew_value\u001b[0m\u001b[0;34m)\u001b[0m\u001b[0;34m:\u001b[0m\u001b[0;34m\u001b[0m\u001b[0;34m\u001b[0m\u001b[0m\n\u001b[0;32m----> 6\u001b[0;31m     \u001b[0mcount\u001b[0m \u001b[0;34m+=\u001b[0m \u001b[0;36m1\u001b[0m\u001b[0;34m\u001b[0m\u001b[0;34m\u001b[0m\u001b[0m\n\u001b[0m\u001b[1;32m      7\u001b[0m     \u001b[0mtotal\u001b[0m \u001b[0;34m+=\u001b[0m \u001b[0mnew_value\u001b[0m\u001b[0;34m\u001b[0m\u001b[0;34m\u001b[0m\u001b[0m\n\u001b[1;32m      8\u001b[0m     \u001b[0;32mreturn\u001b[0m \u001b[0mtotal\u001b[0m \u001b[0;34m/\u001b[0m \u001b[0mcount\u001b[0m\u001b[0;34m\u001b[0m\u001b[0;34m\u001b[0m\u001b[0m\n",
            "\u001b[0;31mUnboundLocalError\u001b[0m: local variable 'count' referenced before assignment"
          ]
        }
      ]
    },
    {
      "cell_type": "markdown",
      "source": [
        "With immutable types like numbers, strings, tuples, etc., all you can do is read, never update. If you try to rebind them, as in count = count + 1, then you are implicitly creating a local variable `count`. It is no longer a free variable, and therefore it is not saved in the closure."
      ],
      "metadata": {
        "id": "6eExeznC2i4Y"
      }
    },
    {
      "cell_type": "markdown",
      "source": [
        "To work around this, the `nonlocal` keyword was introduced in Python 3. If a new value is assigned to a `nonlocal` varaible, the binding stored in the closure is changed."
      ],
      "metadata": {
        "id": "AbM33sHY231u"
      }
    },
    {
      "cell_type": "code",
      "source": [
        "def make_averager():\n",
        "  count = 0\n",
        "  total = 0\n",
        "\n",
        "  def averager(new_value):\n",
        "    nonlocal count, total\n",
        "    count += 1\n",
        "    total += new_value\n",
        "    return total / count\n",
        "\n",
        "  return averager"
      ],
      "metadata": {
        "id": "iUl8rS2h1_Xs"
      },
      "execution_count": 43,
      "outputs": []
    },
    {
      "cell_type": "code",
      "source": [
        "avg = make_averager()"
      ],
      "metadata": {
        "id": "WnQFRtu23OdV"
      },
      "execution_count": 44,
      "outputs": []
    },
    {
      "cell_type": "code",
      "source": [
        "avg(3)"
      ],
      "metadata": {
        "colab": {
          "base_uri": "https://localhost:8080/"
        },
        "id": "2R0EWlhW3RRf",
        "outputId": "d3213efd-1c2f-48cb-ebd9-c0c8f64aec66"
      },
      "execution_count": 45,
      "outputs": [
        {
          "output_type": "execute_result",
          "data": {
            "text/plain": [
              "3.0"
            ]
          },
          "metadata": {},
          "execution_count": 45
        }
      ]
    },
    {
      "cell_type": "code",
      "source": [
        "avg(4)"
      ],
      "metadata": {
        "colab": {
          "base_uri": "https://localhost:8080/"
        },
        "id": "8BpYBX7X3Rtx",
        "outputId": "11538e6e-6995-4902-af8b-846a68ad5ac8"
      },
      "execution_count": 46,
      "outputs": [
        {
          "output_type": "execute_result",
          "data": {
            "text/plain": [
              "3.5"
            ]
          },
          "metadata": {},
          "execution_count": 46
        }
      ]
    },
    {
      "cell_type": "code",
      "source": [
        "avg(5)"
      ],
      "metadata": {
        "colab": {
          "base_uri": "https://localhost:8080/"
        },
        "id": "ZKy-qdz13SGU",
        "outputId": "8ac12754-3da1-4878-ef85-e8680dc10013"
      },
      "execution_count": 47,
      "outputs": [
        {
          "output_type": "execute_result",
          "data": {
            "text/plain": [
              "4.0"
            ]
          },
          "metadata": {},
          "execution_count": 47
        }
      ]
    },
    {
      "cell_type": "markdown",
      "source": [
        "### Variable Lookup Logic"
      ],
      "metadata": {
        "id": "Dt7weFJl3VAc"
      }
    },
    {
      "cell_type": "markdown",
      "source": [
        "When a function is defined, the Python bytecode compiler determines how to fetch a variable `x` that appears in it, based on three rules:\n",
        "* If there is a `global x` declaration, `x` comes from and is assigned to the `x` global variable module.\n",
        "* If there is a `nonlocal x` declaration, `x` comes from and is assigned to the `x` local variable of teh nearest surrounding function where x is defined."
      ],
      "metadata": {
        "id": "Y3j-kuYw3Zlr"
      }
    },
    {
      "cell_type": "markdown",
      "source": [
        "## Implementing a Simple Decorator"
      ],
      "metadata": {
        "id": "u7T9Jb0X32IP"
      }
    },
    {
      "cell_type": "code",
      "source": [
        "# clockdeco0.py\n",
        "import time\n",
        "\n",
        "def clock(func):\n",
        "  def clocked(*args): # define inner clocked to accept any # of pos args\n",
        "    t0 = time.perf_counter()\n",
        "    result = func(*args) # this line only works because the closure for\n",
        "                         # clocked encompasses the func free variable\n",
        "    elapsed = time.perf_counter() - t0\n",
        "    name = func.__name__\n",
        "    arg_str = ', '.join(repr(arg) for arg in args)\n",
        "    print(f'[{elapsed:0.8f}s] {name}({arg_str}) -> {result!r}')\n",
        "    return result\n",
        "  return clocked\n"
      ],
      "metadata": {
        "id": "5bPhNobM3SaK"
      },
      "execution_count": 49,
      "outputs": []
    },
    {
      "cell_type": "code",
      "source": [
        "import time\n",
        "from clockdeco0 import clock\n",
        "\n",
        "@clock\n",
        "def snooze(seconds):\n",
        "  time.sleep(seconds)\n",
        "\n",
        "@clock\n",
        "def factorial(n):\n",
        "  return 1 if n < 2 else n * factorial(n - 1)\n",
        "\n",
        "if __name__ == '__main__':\n",
        "  print('*' * 40, 'Calling snooze(.123)')\n",
        "  snooze(0.123)\n",
        "  print('*' * 40, 'Calling factorial(6)')\n",
        "  print('6! = ', factorial(6))"
      ],
      "metadata": {
        "colab": {
          "base_uri": "https://localhost:8080/"
        },
        "id": "Mg8UzLYp4Vv0",
        "outputId": "4ddd0c35-30ab-40c9-8d07-46c6d969ef88"
      },
      "execution_count": 50,
      "outputs": [
        {
          "output_type": "stream",
          "name": "stdout",
          "text": [
            "**************************************** Calling snooze(.123)\n",
            "[0.12326532s] snooze(0.123) -> None\n",
            "**************************************** Calling factorial(6)\n",
            "[0.00000064s] factorial(1) -> 1\n",
            "[0.00003146s] factorial(2) -> 2\n",
            "[0.00005524s] factorial(3) -> 6\n",
            "[0.00007822s] factorial(4) -> 24\n",
            "[0.00010040s] factorial(5) -> 120\n",
            "[0.00012609s] factorial(6) -> 720\n",
            "6! =  720\n"
          ]
        }
      ]
    },
    {
      "cell_type": "markdown",
      "source": [
        "### How it works"
      ],
      "metadata": {
        "id": "rfF6BQ3e5c6P"
      }
    },
    {
      "cell_type": "code",
      "source": [
        "@clock\n",
        "def factorial(n):\n",
        "  return 1 if n < 2 else n * factorial(n - 1)\n",
        "\n",
        "# is actually equivalent to\n",
        "\n",
        "def factorial(n):\n",
        "  return 1 if n < 2 else n * factorial(n - 1)\n",
        "\n",
        "factorial = clock(factorial)"
      ],
      "metadata": {
        "id": "nqd-1AzN5PUb"
      },
      "execution_count": null,
      "outputs": []
    },
    {
      "cell_type": "markdown",
      "source": [
        "17:24 - 17:40"
      ],
      "metadata": {
        "id": "1kZwv0wq-EY4"
      }
    },
    {
      "cell_type": "code",
      "source": [
        "import clockdeco_demo"
      ],
      "metadata": {
        "id": "wKlEPMTS-FOZ"
      },
      "execution_count": 51,
      "outputs": []
    },
    {
      "cell_type": "code",
      "source": [
        "clockdeco_demo.factorial.__name__"
      ],
      "metadata": {
        "colab": {
          "base_uri": "https://localhost:8080/",
          "height": 36
        },
        "id": "rWZF-kjZ_CGK",
        "outputId": "0722b4c5-5f35-4863-87c2-14e77702ebbe"
      },
      "execution_count": 52,
      "outputs": [
        {
          "output_type": "execute_result",
          "data": {
            "text/plain": [
              "'clocked'"
            ],
            "application/vnd.google.colaboratory.intrinsic+json": {
              "type": "string"
            }
          },
          "metadata": {},
          "execution_count": 52
        }
      ]
    },
    {
      "cell_type": "code",
      "source": [
        "# clockdeco.py\n",
        "import time\n",
        "import functools\n",
        "\n",
        "def clock(func):\n",
        "  @functools.wraps(func)\n",
        "  def clocked(*args, **kwargs):\n",
        "    t0 = time.perf_counter()\n",
        "    result = func(*args, **kwargs)\n",
        "    elapsed = time.perf_counter() - t0\n",
        "    name = func.__name__\n",
        "\n",
        "    arg_lst = [repr(arg) for arg in args]\n",
        "    arg_lst.extend(f'{k}={v!r}' for k, v in kwargs.items())\n",
        "    arg_str = ', '.join(arg_lst)\n",
        "    print(f\"[{elapsed:0.8f}s] {name}({arg_str}) -> {result!r}\")\n",
        "    return result\n",
        "  return clocked()\n"
      ],
      "metadata": {
        "id": "DcCGfBaR_ESx"
      },
      "execution_count": null,
      "outputs": []
    },
    {
      "cell_type": "code",
      "source": [
        "%load_ext autoreload\n",
        "%autoreload 2\n"
      ],
      "metadata": {
        "id": "qfERQWLxAxQy"
      },
      "execution_count": 54,
      "outputs": []
    },
    {
      "cell_type": "markdown",
      "source": [],
      "metadata": {
        "id": "yw99L6BMAw8E"
      }
    },
    {
      "cell_type": "code",
      "source": [
        "!python clockdeco_demo.py"
      ],
      "metadata": {
        "colab": {
          "base_uri": "https://localhost:8080/"
        },
        "id": "cogqHXuFAOzw",
        "outputId": "d86c3e48-3e12-40e7-84df-28d391853028"
      },
      "execution_count": 58,
      "outputs": [
        {
          "output_type": "stream",
          "name": "stdout",
          "text": [
            "**************************************** Calling snooze(.123)\n",
            "args (0.123,)\n",
            "kwargs {}\n",
            "[0.12321354s] snooze(0.123) -> None\n",
            "**************************************** Calling factorial(6)\n",
            "args (6,)\n",
            "kwargs {}\n",
            "args (5,)\n",
            "kwargs {}\n",
            "args (4,)\n",
            "kwargs {}\n",
            "args (3,)\n",
            "kwargs {}\n",
            "args (2,)\n",
            "kwargs {}\n",
            "args (1,)\n",
            "kwargs {}\n",
            "[0.00000092s] factorial(1) -> 1\n",
            "[0.00003536s] factorial(2) -> 2\n",
            "[0.00005322s] factorial(3) -> 6\n",
            "[0.00007781s] factorial(4) -> 24\n",
            "[0.00010145s] factorial(5) -> 120\n",
            "[0.00012157s] factorial(6) -> 720\n",
            "6! =  720\n"
          ]
        }
      ]
    },
    {
      "cell_type": "code",
      "source": [
        "import clockdeco_demo"
      ],
      "metadata": {
        "id": "a7vu9oGTAb3R"
      },
      "execution_count": 59,
      "outputs": []
    },
    {
      "cell_type": "code",
      "source": [
        "clockdeco_demo.factorial.__name__"
      ],
      "metadata": {
        "colab": {
          "base_uri": "https://localhost:8080/",
          "height": 36
        },
        "id": "GsFI6oxwBiq_",
        "outputId": "4278ee1d-7916-452a-a7af-d2e8123e720c"
      },
      "execution_count": 60,
      "outputs": [
        {
          "output_type": "execute_result",
          "data": {
            "text/plain": [
              "'clocked'"
            ],
            "application/vnd.google.colaboratory.intrinsic+json": {
              "type": "string"
            }
          },
          "metadata": {},
          "execution_count": 60
        }
      ]
    },
    {
      "cell_type": "code",
      "source": [],
      "metadata": {
        "id": "ZT7z-m0EBlKa"
      },
      "execution_count": null,
      "outputs": []
    }
  ]
}