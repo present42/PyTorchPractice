{
  "nbformat": 4,
  "nbformat_minor": 0,
  "metadata": {
    "colab": {
      "provenance": [],
      "authorship_tag": "ABX9TyOHkxuwgk6YNu0/U66LzHMI",
      "include_colab_link": true
    },
    "kernelspec": {
      "name": "python3",
      "display_name": "Python 3"
    },
    "language_info": {
      "name": "python"
    }
  },
  "cells": [
    {
      "cell_type": "markdown",
      "metadata": {
        "id": "view-in-github",
        "colab_type": "text"
      },
      "source": [
        "<a href=\"https://colab.research.google.com/github/present42/PyTorchPractice/blob/main/Following_Jax_tutorial_(4)_Advanced_Automatic_Differentiation_in_JAX.ipynb\" target=\"_parent\"><img src=\"https://colab.research.google.com/assets/colab-badge.svg\" alt=\"Open In Colab\"/></a>"
      ]
    },
    {
      "cell_type": "code",
      "execution_count": 1,
      "metadata": {
        "id": "HwZ33FlCFyH3"
      },
      "outputs": [],
      "source": [
        "import jax\n",
        "\n",
        "f = lambda x: x**3 + 2*x**2 - 3*x + 1\n",
        "\n",
        "dfdx = jax.grad(f)"
      ]
    },
    {
      "cell_type": "code",
      "source": [
        "d2fdx = jax.grad(dfdx)\n",
        "d3fdx = jax.grad(d2fdx)\n",
        "d4fdx = jax.grad(d3fdx)"
      ],
      "metadata": {
        "id": "Asu-HompGf76"
      },
      "execution_count": 3,
      "outputs": []
    },
    {
      "cell_type": "code",
      "source": [
        "dfdx(1.)"
      ],
      "metadata": {
        "colab": {
          "base_uri": "https://localhost:8080/"
        },
        "id": "Ww_2pSbsGlDp",
        "outputId": "952a8bc3-c3ad-4bfa-eba2-f8ea332113e0"
      },
      "execution_count": 5,
      "outputs": [
        {
          "output_type": "execute_result",
          "data": {
            "text/plain": [
              "Array(4., dtype=float32, weak_type=True)"
            ]
          },
          "metadata": {},
          "execution_count": 5
        }
      ]
    },
    {
      "cell_type": "code",
      "source": [
        "print(d2fdx(1.))\n",
        "print(d3fdx(1.))\n",
        "print(d4fdx(1.))"
      ],
      "metadata": {
        "colab": {
          "base_uri": "https://localhost:8080/"
        },
        "id": "J-qYHCraGsxw",
        "outputId": "8131cdc6-8b72-48fd-a126-90afd3567235"
      },
      "execution_count": 6,
      "outputs": [
        {
          "output_type": "stream",
          "name": "stdout",
          "text": [
            "10.0\n",
            "6.0\n",
            "0.0\n"
          ]
        }
      ]
    },
    {
      "cell_type": "markdown",
      "source": [
        "### Multivariate Case\n",
        " - Hessian of a real-valued function of several variables can be identified with the jacobian of its gradient"
      ],
      "metadata": {
        "id": "xsXQIRSwHD-2"
      }
    },
    {
      "cell_type": "code",
      "source": [
        "def hessian(f):\n",
        "  return jax.jacfwd(jax.grad(f))"
      ],
      "metadata": {
        "id": "_E2PlDb2G4bx"
      },
      "execution_count": 7,
      "outputs": []
    },
    {
      "cell_type": "code",
      "source": [
        "import jax.numpy as jnp\n",
        "\n",
        "def f(x):\n",
        "  return jnp.dot(x, x)\n",
        "\n",
        "hessian(f)(jnp.array([1., 2., 3.]))"
      ],
      "metadata": {
        "colab": {
          "base_uri": "https://localhost:8080/"
        },
        "id": "YNW9fTzMHQXI",
        "outputId": "d4e00729-0a50-434e-ce38-59af3d92f4a6"
      },
      "execution_count": 8,
      "outputs": [
        {
          "output_type": "execute_result",
          "data": {
            "text/plain": [
              "Array([[2., 0., 0.],\n",
              "       [0., 2., 0.],\n",
              "       [0., 0., 2.]], dtype=float32)"
            ]
          },
          "metadata": {},
          "execution_count": 8
        }
      ]
    },
    {
      "cell_type": "markdown",
      "source": [
        "Often, we aren't interested in computing the full hessian itself. We use trick such as Hessian-vector product."
      ],
      "metadata": {
        "id": "PMdq_ZStHk3z"
      }
    },
    {
      "cell_type": "markdown",
      "source": [
        "### Stopping Gradients"
      ],
      "metadata": {
        "id": "0wfcbkG1H6s6"
      }
    },
    {
      "cell_type": "code",
      "source": [
        "value_fn = lambda theta, state: jnp.dot(theta, state) # assume the value estimate is linear fcn of a state\n",
        "theta = jnp.array([0.1, -0.1, 0.])"
      ],
      "metadata": {
        "id": "_X13OqReHg2h"
      },
      "execution_count": 9,
      "outputs": []
    },
    {
      "cell_type": "markdown",
      "source": [
        "Consider a transition from a state $s_{t-1}$ to a state $s_t$ during which we observed the reward $r_t$"
      ],
      "metadata": {
        "id": "kEQFUy-fIMY4"
      }
    },
    {
      "cell_type": "code",
      "source": [
        "s_tm1 = jnp.array([1., 2., -1.])\n",
        "r_t = jnp.array(1.)\n",
        "s_t = jnp.array([2., 1., 0.])"
      ],
      "metadata": {
        "id": "PAH2JL2VILJP"
      },
      "execution_count": 10,
      "outputs": []
    },
    {
      "cell_type": "code",
      "source": [
        "def td_loss(theta, s_tm1, r_t, s_t):\n",
        "  v_tm1 = value_fn(theta, s_tm1)\n",
        "  target = r_t + value_fn(theta, s_t)\n",
        "  return -0.5 * ((jax.lax.stop_gradient(target) - v_tm1) ** 2)\n",
        "\n",
        "td_update = jax.grad(td_loss)\n",
        "delta_update = td_update(theta, s_tm1, r_t, s_t)\n",
        "\n",
        "delta_update"
      ],
      "metadata": {
        "colab": {
          "base_uri": "https://localhost:8080/"
        },
        "id": "-Z-wSE7FIewH",
        "outputId": "57f5e1ab-a151-47bc-fbd3-4d0c9b362d2b"
      },
      "execution_count": 12,
      "outputs": [
        {
          "output_type": "execute_result",
          "data": {
            "text/plain": [
              "Array([ 1.2,  2.4, -1.2], dtype=float32)"
            ]
          },
          "metadata": {},
          "execution_count": 12
        }
      ]
    },
    {
      "cell_type": "markdown",
      "source": [
        "### Straight-through estimator using `stop_gradient`\n",
        "\n",
        "straight-through estimator is a trick for defining a gradient of a function that is otherwise non-differentiable."
      ],
      "metadata": {
        "id": "N-e6IM80KG4j"
      }
    },
    {
      "cell_type": "code",
      "source": [
        "def f(x):\n",
        "  return jnp.round(x) # non-differentiable\n",
        "\n",
        "def straight_through_f(x):\n",
        "  # create an exactly-zero expression with Sterbenz lemma that has\n",
        "  # an exactly-one gradient\n",
        "  zero = x - jax.lax.stop_gradient(x)\n",
        "  return zero + jax.lax.stop_gradient(f(x))\n",
        "\n",
        "print(\"f(x): \", f(3.2))\n",
        "print(\"straight_through_f(x)\", straight_through_f(3.2))\n",
        "\n",
        "print(\"grad(f)(x): \", jax.grad(f)(3.2))\n",
        "print(\"grad(straight_through_f)(x)\", jax.grad(straight_through_f)(3.2))"
      ],
      "metadata": {
        "colab": {
          "base_uri": "https://localhost:8080/"
        },
        "id": "GYwFibRtJCmf",
        "outputId": "9322a627-ebc4-4e48-91d6-1a592de2df52"
      },
      "execution_count": 14,
      "outputs": [
        {
          "output_type": "stream",
          "name": "stdout",
          "text": [
            "f(x):  3.0\n",
            "straight_through_f(x) 3.0\n",
            "grad(f)(x):  0.0\n",
            "grad(straight_through_f)(x) 1.0\n"
          ]
        }
      ]
    },
    {
      "cell_type": "markdown",
      "source": [
        "Jax's way to compute the gradient per-sample in an easy but efficient way"
      ],
      "metadata": {
        "id": "ZELjfdR4Kd-Y"
      }
    },
    {
      "cell_type": "code",
      "source": [
        "perex_grads = jax.jit(jax.vmap(jax.grad(td_loss), in_axes=(None, 0, 0, 0)))\n",
        "\n",
        "batched_s_tm1 = jnp.stack([s_tm1, s_tm1])\n",
        "batched_r_t = jnp.stack([r_t, r_t])\n",
        "batched_s_t = jnp.stack([s_t, s_t])\n",
        "\n",
        "perex_grads(theta, batched_s_tm1, batched_r_t, batched_s_t)"
      ],
      "metadata": {
        "colab": {
          "base_uri": "https://localhost:8080/"
        },
        "id": "JR--We_FJ75H",
        "outputId": "8a21b9f9-f57d-4ad5-a24e-560e5372b70b"
      },
      "execution_count": 15,
      "outputs": [
        {
          "output_type": "execute_result",
          "data": {
            "text/plain": [
              "Array([[ 1.2,  2.4, -1.2],\n",
              "       [ 1.2,  2.4, -1.2]], dtype=float32)"
            ]
          },
          "metadata": {},
          "execution_count": 15
        }
      ]
    },
    {
      "cell_type": "code",
      "source": [
        "dtdloss_dtheta = jax.grad(td_loss) # fcn that computes the gradient of loss w.r.t theta (on single input)\n",
        "dtdloss_dtheta(theta, s_tm1, r_t, s_t)"
      ],
      "metadata": {
        "colab": {
          "base_uri": "https://localhost:8080/"
        },
        "id": "fXHY9e2wK0hO",
        "outputId": "8e1a2895-0d1e-4268-c7a1-5a80f9a0c261"
      },
      "execution_count": 16,
      "outputs": [
        {
          "output_type": "execute_result",
          "data": {
            "text/plain": [
              "Array([ 1.2,  2.4, -1.2], dtype=float32)"
            ]
          },
          "metadata": {},
          "execution_count": 16
        }
      ]
    },
    {
      "cell_type": "code",
      "source": [
        "almost_perex_grads = jax.vmap(dtdloss_dtheta) # vectorize input / output\n",
        "\n",
        "batched_theta = jnp.stack([theta, theta])\n",
        "almost_perex_grads(batched_theta, batched_s_tm1, batched_r_t, batched_s_t)"
      ],
      "metadata": {
        "colab": {
          "base_uri": "https://localhost:8080/"
        },
        "id": "SnOCypOwLNYP",
        "outputId": "fa738cfb-e9e6-4368-9c3d-f373d15ce08d"
      },
      "execution_count": 17,
      "outputs": [
        {
          "output_type": "execute_result",
          "data": {
            "text/plain": [
              "Array([[ 1.2,  2.4, -1.2],\n",
              "       [ 1.2,  2.4, -1.2]], dtype=float32)"
            ]
          },
          "metadata": {},
          "execution_count": 17
        }
      ]
    },
    {
      "cell_type": "code",
      "source": [
        "# But we want to use single theta\n",
        "\n",
        "inefficient_perex_grads = jax.vmap(dtdloss_dtheta, in_axes=(None, 0, 0, 0)) # vectorize input / output\n",
        "\n",
        "inefficient_perex_grads(theta, batched_s_tm1, batched_r_t, batched_s_t)"
      ],
      "metadata": {
        "colab": {
          "base_uri": "https://localhost:8080/"
        },
        "id": "hg0xkOVCLedg",
        "outputId": "993794c4-03d9-4f1b-9201-ab7bcc609f2d"
      },
      "execution_count": 19,
      "outputs": [
        {
          "output_type": "execute_result",
          "data": {
            "text/plain": [
              "Array([[ 1.2,  2.4, -1.2],\n",
              "       [ 1.2,  2.4, -1.2]], dtype=float32)"
            ]
          },
          "metadata": {},
          "execution_count": 19
        }
      ]
    },
    {
      "cell_type": "code",
      "source": [
        "perex_grads = jax.jit(inefficient_perex_grads)"
      ],
      "metadata": {
        "id": "w6J9BAXALs9_"
      },
      "execution_count": 20,
      "outputs": []
    },
    {
      "cell_type": "code",
      "source": [
        "perex_grads(theta, batched_s_tm1, batched_r_t, batched_s_t)"
      ],
      "metadata": {
        "colab": {
          "base_uri": "https://localhost:8080/"
        },
        "id": "mBbtzBZrL1mf",
        "outputId": "ab0bedec-eb63-42dd-b7a6-526ca68d1150"
      },
      "execution_count": 21,
      "outputs": [
        {
          "output_type": "execute_result",
          "data": {
            "text/plain": [
              "Array([[ 1.2,  2.4, -1.2],\n",
              "       [ 1.2,  2.4, -1.2]], dtype=float32)"
            ]
          },
          "metadata": {},
          "execution_count": 21
        }
      ]
    },
    {
      "cell_type": "code",
      "source": [
        "%timeit inefficient_perex_grads(theta, batched_s_tm1, batched_r_t, batched_s_t).block_until_ready()\n",
        "%timeit perex_grads(theta, batched_s_tm1, batched_r_t, batched_s_t).block_until_ready()"
      ],
      "metadata": {
        "colab": {
          "base_uri": "https://localhost:8080/"
        },
        "id": "9TFGaIMNL6I3",
        "outputId": "9871f268-323a-40dc-d0bb-06b9a329648e"
      },
      "execution_count": 23,
      "outputs": [
        {
          "output_type": "stream",
          "name": "stdout",
          "text": [
            "12.3 ms ± 1.87 ms per loop (mean ± std. dev. of 7 runs, 100 loops each)\n",
            "10.2 µs ± 2.09 µs per loop (mean ± std. dev. of 7 runs, 100000 loops each)\n"
          ]
        }
      ]
    },
    {
      "cell_type": "code",
      "source": [],
      "metadata": {
        "id": "hSjdXaZWL_nX"
      },
      "execution_count": null,
      "outputs": []
    }
  ]
}