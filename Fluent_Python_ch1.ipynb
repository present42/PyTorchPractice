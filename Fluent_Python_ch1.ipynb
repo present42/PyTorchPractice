{
  "nbformat": 4,
  "nbformat_minor": 0,
  "metadata": {
    "colab": {
      "provenance": [],
      "authorship_tag": "ABX9TyMVPYqc7mmNo47wfW5mOHMt",
      "include_colab_link": true
    },
    "kernelspec": {
      "name": "python3",
      "display_name": "Python 3"
    },
    "language_info": {
      "name": "python"
    }
  },
  "cells": [
    {
      "cell_type": "markdown",
      "metadata": {
        "id": "view-in-github",
        "colab_type": "text"
      },
      "source": [
        "<a href=\"https://colab.research.google.com/github/present42/PyTorchPractice/blob/main/Fluent_Python_ch_1.ipynb\" target=\"_parent\"><img src=\"https://colab.research.google.com/assets/colab-badge.svg\" alt=\"Open In Colab\"/></a>"
      ]
    },
    {
      "cell_type": "code",
      "execution_count": 1,
      "metadata": {
        "id": "k9cHPq2nYsc3"
      },
      "outputs": [],
      "source": [
        "import collections\n",
        "\n",
        "Card = collections.namedtuple('Card', ['rank', 'suit'])\n",
        "\n",
        "class FrenchDeck:\n",
        "  ranks = [str(n) for n in range(2, 11)] + list('JQKA')\n",
        "  suits = 'spades diamond clubs hearts'.split()\n",
        "\n",
        "  def __init__(self):\n",
        "    self._cards = [Card(rank, suit) for suit in self.suits for rank in self.ranks]\n",
        "\n",
        "  def __len__(self):\n",
        "    return len(self._cards)\n",
        "\n",
        "  def __getitem__(self, position):\n",
        "    return self._cards[position]"
      ]
    },
    {
      "cell_type": "code",
      "source": [
        "beer_card = Card('7', 'diamonds')"
      ],
      "metadata": {
        "id": "Z2Irc6rbZnPM"
      },
      "execution_count": 2,
      "outputs": []
    },
    {
      "cell_type": "code",
      "source": [
        "beer_card"
      ],
      "metadata": {
        "colab": {
          "base_uri": "https://localhost:8080/"
        },
        "id": "T6sNtk7BZvqN",
        "outputId": "8ef9ef16-2b81-46ad-f1c5-f9841ffae346"
      },
      "execution_count": 3,
      "outputs": [
        {
          "output_type": "execute_result",
          "data": {
            "text/plain": [
              "Card(rank='7', suit='diamonds')"
            ]
          },
          "metadata": {},
          "execution_count": 3
        }
      ]
    },
    {
      "cell_type": "code",
      "source": [
        "deck = FrenchDeck()\n",
        "deck[1]"
      ],
      "metadata": {
        "colab": {
          "base_uri": "https://localhost:8080/"
        },
        "id": "5KkpAaXTZwkM",
        "outputId": "98fb2129-0d48-4387-9cf2-591179c4757a"
      },
      "execution_count": 7,
      "outputs": [
        {
          "output_type": "execute_result",
          "data": {
            "text/plain": [
              "Card(rank='3', suit='spades')"
            ]
          },
          "metadata": {},
          "execution_count": 7
        }
      ]
    },
    {
      "cell_type": "code",
      "source": [
        "from random import choice\n",
        "choice(deck)"
      ],
      "metadata": {
        "colab": {
          "base_uri": "https://localhost:8080/"
        },
        "id": "c_0B28BAZ3-c",
        "outputId": "bdf7c265-7127-45f9-bd3e-603eb9062b0f"
      },
      "execution_count": 8,
      "outputs": [
        {
          "output_type": "execute_result",
          "data": {
            "text/plain": [
              "Card(rank='A', suit='spades')"
            ]
          },
          "metadata": {},
          "execution_count": 8
        }
      ]
    },
    {
      "cell_type": "code",
      "source": [
        "choice(deck)"
      ],
      "metadata": {
        "colab": {
          "base_uri": "https://localhost:8080/"
        },
        "id": "SFTQv_XnaELU",
        "outputId": "4e22602c-5e48-471c-febb-beac9783e12f"
      },
      "execution_count": 9,
      "outputs": [
        {
          "output_type": "execute_result",
          "data": {
            "text/plain": [
              "Card(rank='A', suit='spades')"
            ]
          },
          "metadata": {},
          "execution_count": 9
        }
      ]
    },
    {
      "cell_type": "code",
      "source": [
        "choice(deck)"
      ],
      "metadata": {
        "colab": {
          "base_uri": "https://localhost:8080/"
        },
        "id": "lIboZ-b7aFZl",
        "outputId": "c9994fbb-353f-43e8-ea46-8968a059eea4"
      },
      "execution_count": 14,
      "outputs": [
        {
          "output_type": "execute_result",
          "data": {
            "text/plain": [
              "Card(rank='5', suit='clubs')"
            ]
          },
          "metadata": {},
          "execution_count": 14
        }
      ]
    },
    {
      "cell_type": "code",
      "source": [
        "deck[12::13]"
      ],
      "metadata": {
        "colab": {
          "base_uri": "https://localhost:8080/"
        },
        "id": "L8O9RnkEaILG",
        "outputId": "6be77ab0-de8e-49f1-e919-551f0df3a8c1"
      },
      "execution_count": 16,
      "outputs": [
        {
          "output_type": "execute_result",
          "data": {
            "text/plain": [
              "[Card(rank='A', suit='spades'),\n",
              " Card(rank='A', suit='diamond'),\n",
              " Card(rank='A', suit='clubs'),\n",
              " Card(rank='A', suit='hearts')]"
            ]
          },
          "metadata": {},
          "execution_count": 16
        }
      ]
    },
    {
      "cell_type": "code",
      "source": [
        "suit_values = dict(spades=3, hearts=2, diamond=1, clubs=0)\n",
        "\n",
        "def spades_high(card):\n",
        "  rank_value = FrenchDeck.ranks.index(card.rank)\n",
        "  return rank_value * len(suit_values) + suit_values[card.suit]"
      ],
      "metadata": {
        "id": "lHLZGqwZaXIv"
      },
      "execution_count": 24,
      "outputs": []
    },
    {
      "cell_type": "code",
      "source": [
        "for card in sorted(deck, key=spades_high):\n",
        "    print(card)"
      ],
      "metadata": {
        "colab": {
          "base_uri": "https://localhost:8080/"
        },
        "id": "puA2MJMmagO7",
        "outputId": "a1428154-da4e-4d17-b8f1-ed690723d73e"
      },
      "execution_count": 25,
      "outputs": [
        {
          "output_type": "stream",
          "name": "stdout",
          "text": [
            "Card(rank='2', suit='clubs')\n",
            "Card(rank='2', suit='diamond')\n",
            "Card(rank='2', suit='hearts')\n",
            "Card(rank='2', suit='spades')\n",
            "Card(rank='3', suit='clubs')\n",
            "Card(rank='3', suit='diamond')\n",
            "Card(rank='3', suit='hearts')\n",
            "Card(rank='3', suit='spades')\n",
            "Card(rank='4', suit='clubs')\n",
            "Card(rank='4', suit='diamond')\n",
            "Card(rank='4', suit='hearts')\n",
            "Card(rank='4', suit='spades')\n",
            "Card(rank='5', suit='clubs')\n",
            "Card(rank='5', suit='diamond')\n",
            "Card(rank='5', suit='hearts')\n",
            "Card(rank='5', suit='spades')\n",
            "Card(rank='6', suit='clubs')\n",
            "Card(rank='6', suit='diamond')\n",
            "Card(rank='6', suit='hearts')\n",
            "Card(rank='6', suit='spades')\n",
            "Card(rank='7', suit='clubs')\n",
            "Card(rank='7', suit='diamond')\n",
            "Card(rank='7', suit='hearts')\n",
            "Card(rank='7', suit='spades')\n",
            "Card(rank='8', suit='clubs')\n",
            "Card(rank='8', suit='diamond')\n",
            "Card(rank='8', suit='hearts')\n",
            "Card(rank='8', suit='spades')\n",
            "Card(rank='9', suit='clubs')\n",
            "Card(rank='9', suit='diamond')\n",
            "Card(rank='9', suit='hearts')\n",
            "Card(rank='9', suit='spades')\n",
            "Card(rank='10', suit='clubs')\n",
            "Card(rank='10', suit='diamond')\n",
            "Card(rank='10', suit='hearts')\n",
            "Card(rank='10', suit='spades')\n",
            "Card(rank='J', suit='clubs')\n",
            "Card(rank='J', suit='diamond')\n",
            "Card(rank='J', suit='hearts')\n",
            "Card(rank='J', suit='spades')\n",
            "Card(rank='Q', suit='clubs')\n",
            "Card(rank='Q', suit='diamond')\n",
            "Card(rank='Q', suit='hearts')\n",
            "Card(rank='Q', suit='spades')\n",
            "Card(rank='K', suit='clubs')\n",
            "Card(rank='K', suit='diamond')\n",
            "Card(rank='K', suit='hearts')\n",
            "Card(rank='K', suit='spades')\n",
            "Card(rank='A', suit='clubs')\n",
            "Card(rank='A', suit='diamond')\n",
            "Card(rank='A', suit='hearts')\n",
            "Card(rank='A', suit='spades')\n"
          ]
        }
      ]
    },
    {
      "cell_type": "code",
      "source": [
        "import math\n",
        "\n",
        "class Vector:\n",
        "  def __init__(self, a, b):\n",
        "    self.x = a\n",
        "    self.y = b\n",
        "\n",
        "  def __repr__(self):\n",
        "    return f\"Vector({self.x!r}, {self.y!r})\" # repr(object).__format__() is used instead\n",
        "\n",
        "  def __abs__(self):\n",
        "    return math.hypot(self.x, self.y)\n",
        "\n",
        "  def __add__(self, v1):\n",
        "    return Vector(self.x + v1.x, self.y + v1.y)\n",
        "\n",
        "  def __mul__(self, scalar):\n",
        "    return Vector(self.x * scalar, self.y * scalar)\n"
      ],
      "metadata": {
        "id": "4z023VbMbLtz"
      },
      "execution_count": 29,
      "outputs": []
    },
    {
      "cell_type": "code",
      "source": [
        "v1 = Vector(2, 4)\n",
        "v2 = Vector(2, 1)\n",
        "v1 + v2"
      ],
      "metadata": {
        "colab": {
          "base_uri": "https://localhost:8080/"
        },
        "id": "-Tw24ARvdnR7",
        "outputId": "d91d0940-90ce-42ab-9a33-2dacf4e58f50"
      },
      "execution_count": 30,
      "outputs": [
        {
          "output_type": "execute_result",
          "data": {
            "text/plain": [
              "Vector(4, 5)"
            ]
          },
          "metadata": {},
          "execution_count": 30
        }
      ]
    },
    {
      "cell_type": "code",
      "source": [
        "v = Vector(3, 4)\n",
        "abs(v)"
      ],
      "metadata": {
        "colab": {
          "base_uri": "https://localhost:8080/"
        },
        "id": "bwJ9pjmSfxUr",
        "outputId": "9e333130-33db-49ad-ea24-78e488aa2523"
      },
      "execution_count": 31,
      "outputs": [
        {
          "output_type": "execute_result",
          "data": {
            "text/plain": [
              "5.0"
            ]
          },
          "metadata": {},
          "execution_count": 31
        }
      ]
    },
    {
      "cell_type": "code",
      "source": [
        "v * 3"
      ],
      "metadata": {
        "colab": {
          "base_uri": "https://localhost:8080/"
        },
        "id": "ldmfcvxrf-jL",
        "outputId": "995d18b0-2c71-4cbd-e872-05140f44ed78"
      },
      "execution_count": 32,
      "outputs": [
        {
          "output_type": "execute_result",
          "data": {
            "text/plain": [
              "Vector(9, 12)"
            ]
          },
          "metadata": {},
          "execution_count": 32
        }
      ]
    },
    {
      "cell_type": "code",
      "source": [
        "abs(v * 3)"
      ],
      "metadata": {
        "colab": {
          "base_uri": "https://localhost:8080/"
        },
        "id": "IsagA9uGf_hJ",
        "outputId": "d43c8c1e-f05d-4f3b-e341-5f9e76a443ef"
      },
      "execution_count": 33,
      "outputs": [
        {
          "output_type": "execute_result",
          "data": {
            "text/plain": [
              "15.0"
            ]
          },
          "metadata": {},
          "execution_count": 33
        }
      ]
    },
    {
      "cell_type": "code",
      "source": [],
      "metadata": {
        "id": "YpXJR4QNgBRT"
      },
      "execution_count": null,
      "outputs": []
    },
    {
      "cell_type": "code",
      "source": [],
      "metadata": {
        "id": "CCwZ9Aifhbix"
      },
      "execution_count": null,
      "outputs": []
    }
  ]
}
