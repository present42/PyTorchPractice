{
  "nbformat": 4,
  "nbformat_minor": 0,
  "metadata": {
    "colab": {
      "provenance": [],
      "authorship_tag": "ABX9TyP9IIFFBpLWrQQ4X5/iMVlo",
      "include_colab_link": true
    },
    "kernelspec": {
      "name": "python3",
      "display_name": "Python 3"
    },
    "language_info": {
      "name": "python"
    }
  },
  "cells": [
    {
      "cell_type": "markdown",
      "metadata": {
        "id": "view-in-github",
        "colab_type": "text"
      },
      "source": [
        "<a href=\"https://colab.research.google.com/github/present42/PyTorchPractice/blob/main/Following_Jax_tutorial_(6)_Working_With_Pytrees.ipynb\" target=\"_parent\"><img src=\"https://colab.research.google.com/assets/colab-badge.svg\" alt=\"Open In Colab\"/></a>"
      ]
    },
    {
      "cell_type": "markdown",
      "source": [
        "# Working with PyTrees"
      ],
      "metadata": {
        "id": "ODI8XXxLIM62"
      }
    },
    {
      "cell_type": "code",
      "execution_count": 1,
      "metadata": {
        "colab": {
          "base_uri": "https://localhost:8080/"
        },
        "id": "tmCJh9ytIE0X",
        "outputId": "f2b2ffce-c90b-46c2-8ecb-8f79700b00c4"
      },
      "outputs": [
        {
          "output_type": "stream",
          "name": "stdout",
          "text": [
            "[1, 'a', <object object at 0x785142f9a210>]   has 3 leaves: [1, 'a', <object object at 0x785142f9a210>]\n",
            "(1, (2, 3), ())                               has 3 leaves: [1, 2, 3]\n",
            "[1, {'k1': 2, 'k2': (3, 4)}, 5]               has 5 leaves: [1, 2, 3, 4, 5]\n",
            "{'a': 2, 'b': (2, 3)}                         has 3 leaves: [2, 2, 3]\n",
            "Array([1, 2, 3], dtype=int32)                 has 1 leaves: [Array([1, 2, 3], dtype=int32)]\n"
          ]
        }
      ],
      "source": [
        "import jax\n",
        "import jax.numpy as jnp\n",
        "\n",
        "example_trees = [\n",
        "    [1, 'a', object()],\n",
        "    (1, (2, 3), ()),\n",
        "    [1, {'k1': 2, 'k2': (3, 4)}, 5],\n",
        "    {'a': 2, 'b': (2, 3)},\n",
        "    jnp.array([1, 2, 3])\n",
        "]\n",
        "\n",
        "for pytree in example_trees:\n",
        "  leaves = jax.tree_util.tree_leaves(pytree)\n",
        "  print(f\"{repr(pytree):<45} has {len(leaves)} leaves: {leaves}\")"
      ]
    },
    {
      "cell_type": "markdown",
      "source": [
        "## Why Pytrees?\n",
        "\n",
        "In ML, some places where you commonly find pytrees are:\n",
        "- model parameters\n",
        "- dataset entries\n",
        "- RL agent observation\n",
        "\n"
      ],
      "metadata": {
        "id": "50CJNjXSJBMT"
      }
    },
    {
      "cell_type": "markdown",
      "source": [
        "## Common pytree functions\n",
        "`jax.tree_map`"
      ],
      "metadata": {
        "id": "mSlaS1JFJMNE"
      }
    },
    {
      "cell_type": "code",
      "source": [
        "list_of_lists = [\n",
        "    [1, 2, 3],\n",
        "    [1, 2],\n",
        "    [1, 2, 3, 4]\n",
        "]\n",
        "\n",
        "jax.tree.map(lambda x: x * 2, list_of_lists)"
      ],
      "metadata": {
        "colab": {
          "base_uri": "https://localhost:8080/"
        },
        "id": "z7liuWjOI0Bn",
        "outputId": "89aa2351-450c-4532-c9d9-ae40e15b9984"
      },
      "execution_count": 2,
      "outputs": [
        {
          "output_type": "execute_result",
          "data": {
            "text/plain": [
              "[[2, 4, 6], [2, 4], [2, 4, 6, 8]]"
            ]
          },
          "metadata": {},
          "execution_count": 2
        }
      ]
    },
    {
      "cell_type": "code",
      "source": [
        "another_list_of_lists = list_of_lists\n",
        "jax.tree.map(lambda x, y: x+y, list_of_lists, another_list_of_lists)"
      ],
      "metadata": {
        "colab": {
          "base_uri": "https://localhost:8080/"
        },
        "id": "2zR2ARXNJXS_",
        "outputId": "e314fbb6-5f99-406e-f4be-e18de2d74ead"
      },
      "execution_count": 3,
      "outputs": [
        {
          "output_type": "execute_result",
          "data": {
            "text/plain": [
              "[[2, 4, 6], [2, 4], [2, 4, 6, 8]]"
            ]
          },
          "metadata": {},
          "execution_count": 3
        }
      ]
    },
    {
      "cell_type": "markdown",
      "source": [
        "## Ex: ML model params"
      ],
      "metadata": {
        "id": "sFmPw-aqJrm6"
      }
    },
    {
      "cell_type": "code",
      "source": [
        "import numpy as np\n",
        "\n",
        "def init_mlp_params(layer_widths):\n",
        "  params = []\n",
        "  for n_in, n_out in zip(layer_widths[:-1], layer_widths[1:]):\n",
        "    params.append(\n",
        "        dict(weights=np.random.normal(size=(n_in, n_out)) * np.sqrt(2/n_in),\n",
        "             biases=np.ones(shape=(n_out,)))\n",
        "    )\n",
        "  return params\n",
        "\n",
        "params = init_mlp_params([1, 128, 128, 1])"
      ],
      "metadata": {
        "id": "fZBdTZKEJjwn"
      },
      "execution_count": 4,
      "outputs": []
    },
    {
      "cell_type": "code",
      "source": [
        "jax.tree_map(lambda x: x.shape, params)"
      ],
      "metadata": {
        "colab": {
          "base_uri": "https://localhost:8080/"
        },
        "id": "fIpeXmLeKK5u",
        "outputId": "fbed0d48-214b-45f1-9b07-35ab731cd91a"
      },
      "execution_count": 5,
      "outputs": [
        {
          "output_type": "stream",
          "name": "stderr",
          "text": [
            "<ipython-input-5-8ef643eb55c2>:1: DeprecationWarning: jax.tree_map is deprecated: use jax.tree.map (jax v0.4.25 or newer) or jax.tree_util.tree_map (any JAX version).\n",
            "  jax.tree_map(lambda x: x.shape, params)\n"
          ]
        },
        {
          "output_type": "execute_result",
          "data": {
            "text/plain": [
              "[{'biases': (128,), 'weights': (1, 128)},\n",
              " {'biases': (128,), 'weights': (128, 128)},\n",
              " {'biases': (1,), 'weights': (128, 1)}]"
            ]
          },
          "metadata": {},
          "execution_count": 5
        }
      ]
    },
    {
      "cell_type": "code",
      "source": [
        "def forward(params, x):\n",
        "  *hidden, last = params\n",
        "  for layer in hidden:\n",
        "    x = jax.nn.relu(x @ layer['weights'] + layer['biases'])\n",
        "  return x @ last['weights'] + last['biases']\n",
        "\n",
        "def loss_fn(params, x, y):\n",
        "  return jnp.mean((forward(params, x) - y) ** 2)\n",
        "\n",
        "LEARNING_RATE = 0.0001\n",
        "\n",
        "@jax.jit\n",
        "def update(params, x, y):\n",
        "  grads = jax.grad(loss_fn)(params, x, y)\n",
        "  # Note that grads is a pytree with the same structure as params\n",
        "  return jax.tree.map(\n",
        "      lambda p, g: p - LEARNING_RATE * g, params, grads\n",
        "  )"
      ],
      "metadata": {
        "id": "XmLjtgmSKPqf"
      },
      "execution_count": 6,
      "outputs": []
    },
    {
      "cell_type": "code",
      "source": [
        "import matplotlib.pyplot as plt\n",
        "\n",
        "xs = np.random.normal(size=(128, 1))\n",
        "ys = xs ** 2\n",
        "\n",
        "for _ in range(1000):\n",
        "  params = update(params, xs, ys)\n",
        "\n",
        "plt.scatter(xs, ys)\n",
        "plt.scatter(xs, forward(params, xs), label='Model Prediction')\n",
        "plt.legend();"
      ],
      "metadata": {
        "colab": {
          "base_uri": "https://localhost:8080/",
          "height": 431
        },
        "id": "-K1qDMMyaIaM",
        "outputId": "e790cc8d-3fdf-4585-f180-ee8bafc3ece1"
      },
      "execution_count": 7,
      "outputs": [
        {
          "output_type": "display_data",
          "data": {
            "text/plain": [
              "<Figure size 640x480 with 1 Axes>"
            ],
            "image/png": "[encoded data removed]"
          },
          "metadata": {}
        }
      ]
    },
    {
      "cell_type": "markdown",
      "source": [
        "## Key paths"
      ],
      "metadata": {
        "id": "bjg44T-Gb2hQ"
      }
    },
    {
      "cell_type": "code",
      "source": [
        "import collections\n",
        "ATuple = collections.namedtuple('ATuple', ('name'))\n",
        "\n",
        "tree = [1, {'k1': 2, 'k2': (3, 4)}, ATuple('foo')]\n",
        "flattened, _ = jax.tree_util.tree_flatten_with_path(tree)\n",
        "for key_path, value in flattened:\n",
        "  print(f\"Value of tree{jax.tree_util.keystr(key_path)}: {value}\")"
      ],
      "metadata": {
        "colab": {
          "base_uri": "https://localhost:8080/"
        },
        "id": "dpk5jmA6ayRL",
        "outputId": "0bea7254-6fbd-4d42-e140-51f0afcbf627"
      },
      "execution_count": 8,
      "outputs": [
        {
          "output_type": "stream",
          "name": "stdout",
          "text": [
            "Value of tree[0]: 1\n",
            "Value of tree[1]['k1']: 2\n",
            "Value of tree[1]['k2'][0]: 3\n",
            "Value of tree[1]['k2'][1]: 4\n",
            "Value of tree[2].name: foo\n"
          ]
        }
      ]
    },
    {
      "cell_type": "markdown",
      "source": [
        "To express key paths, JAX provides a few default key types for the built-in pytree node types:\n",
        " - SequenceKey(idx: int): for lists and tuples\n",
        " - DictKey(key: Hashable): for dictionaries\n",
        " - GetAttrKey(name: str): for namedtuples and preferably custom pytree nodes"
      ],
      "metadata": {
        "id": "_kD3xfBlgNb4"
      }
    },
    {
      "cell_type": "code",
      "source": [
        "for key_path, _ in flattened:\n",
        "  print(f\"Key path of tree{jax.tree_util.keystr(key_path)}: {repr(key_path)}\")\n"
      ],
      "metadata": {
        "colab": {
          "base_uri": "https://localhost:8080/"
        },
        "id": "L-Bg3V_OeBXe",
        "outputId": "82ee6861-8c21-4a59-ad11-aebd35d989b3"
      },
      "execution_count": 9,
      "outputs": [
        {
          "output_type": "stream",
          "name": "stdout",
          "text": [
            "Key path of tree[0]: (SequenceKey(idx=0),)\n",
            "Key path of tree[1]['k1']: (SequenceKey(idx=1), DictKey(key='k1'))\n",
            "Key path of tree[1]['k2'][0]: (SequenceKey(idx=1), DictKey(key='k2'), SequenceKey(idx=0))\n",
            "Key path of tree[1]['k2'][1]: (SequenceKey(idx=1), DictKey(key='k2'), SequenceKey(idx=1))\n",
            "Key path of tree[2].name: (SequenceKey(idx=2), GetAttrKey(name='name'))\n"
          ]
        }
      ]
    },
    {
      "cell_type": "markdown",
      "source": [
        "## Custom pytree nodes"
      ],
      "metadata": {
        "id": "AImNqBCfg6EN"
      }
    },
    {
      "cell_type": "code",
      "source": [
        "class MyContainer:\n",
        "  def __init__(self, name: str, a: int, b: int, c: int):\n",
        "    self.name = name\n",
        "    self.a = a\n",
        "    self.b = b\n",
        "    self.c = c"
      ],
      "metadata": {
        "id": "iqFPy-7ygk4_"
      },
      "execution_count": 10,
      "outputs": []
    },
    {
      "cell_type": "code",
      "source": [
        "jax.tree_util.tree_leaves([\n",
        "    MyContainer('Alice', 1, 2, 3),\n",
        "    MyContainer('Bob', 4, 5, 6),\n",
        "])"
      ],
      "metadata": {
        "colab": {
          "base_uri": "https://localhost:8080/"
        },
        "id": "BcJsjno2hHCZ",
        "outputId": "0d9d3e0b-b84f-47b8-95c1-431928d82d15"
      },
      "execution_count": 11,
      "outputs": [
        {
          "output_type": "execute_result",
          "data": {
            "text/plain": [
              "[<__main__.MyContainer at 0x785136647940>,\n",
              " <__main__.MyContainer at 0x785136645c90>]"
            ]
          },
          "metadata": {},
          "execution_count": 11
        }
      ]
    },
    {
      "cell_type": "code",
      "source": [
        "try:\n",
        "  jax.tree_map(lambda x: x + 1, [\n",
        "    MyContainer('Alice', 1, 2, 3),\n",
        "    MyContainer('Bob', 4, 5, 6),\n",
        "  ])\n",
        "except TypeError as e:\n",
        "  print(f\"TypeError: {e}\")"
      ],
      "metadata": {
        "colab": {
          "base_uri": "https://localhost:8080/"
        },
        "id": "ySnSt7fehPHz",
        "outputId": "712df598-fdec-4268-9022-c03de8dc2725"
      },
      "execution_count": 12,
      "outputs": [
        {
          "output_type": "stream",
          "name": "stdout",
          "text": [
            "TypeError: unsupported operand type(s) for +: 'MyContainer' and 'int'\n"
          ]
        },
        {
          "output_type": "stream",
          "name": "stderr",
          "text": [
            "<ipython-input-12-888c6308ae65>:2: DeprecationWarning: jax.tree_map is deprecated: use jax.tree.map (jax v0.4.25 or newer) or jax.tree_util.tree_map (any JAX version).\n",
            "  jax.tree_map(lambda x: x + 1, [\n"
          ]
        }
      ]
    },
    {
      "cell_type": "markdown",
      "source": [
        "To solve this, we need to register our container with JAX by telling it how to flatten and unflatten it:"
      ],
      "metadata": {
        "id": "r8lW8dGJhrJD"
      }
    },
    {
      "cell_type": "code",
      "source": [
        "from typing import Iterable\n",
        "\n",
        "def flatten_MyContainer(container) -> tuple[Iterable[int], str]:\n",
        "  flat_contents = [container.a, container.b, container.c]\n",
        "\n",
        "  aux_data = container.name\n",
        "  return flat_contents, aux_data\n",
        "\n",
        "def unflatten_MyContainer(\n",
        "    aux_data: str, flat_contents: Iterable[int]\n",
        ") -> MyContainer:\n",
        "  return MyContainer(aux_data, *flat_contents)\n",
        "\n",
        "jax.tree_util.register_pytree_node(\n",
        "    MyContainer, flatten_MyContainer, unflatten_MyContainer\n",
        ")\n",
        "\n",
        "jax.tree_util.tree_leaves([\n",
        "    MyContainer('Alice', 1, 2, 3),\n",
        "    MyContainer('Bob', 4, 5, 6)\n",
        "])"
      ],
      "metadata": {
        "colab": {
          "base_uri": "https://localhost:8080/"
        },
        "id": "8Kx5_Eq6hhYN",
        "outputId": "23b0aab0-6d51-4992-817f-d15bc49927ec"
      },
      "execution_count": 14,
      "outputs": [
        {
          "output_type": "execute_result",
          "data": {
            "text/plain": [
              "[1, 2, 3, 4, 5, 6]"
            ]
          },
          "metadata": {},
          "execution_count": 14
        }
      ]
    },
    {
      "cell_type": "code",
      "source": [
        "class MyKeyPathContainer(MyContainer):\n",
        "  pass\n",
        "\n",
        "def flatten_with_keys_MyKeyPathContainer(container) -> tuple[Iterable[int], str]:\n",
        "  flat_contents = [(jax.tree_util.GetAttrKey('a'), container.a),\n",
        "                   (jax.tree_util.GetAttrKey('b'), container.b),\n",
        "                   (jax.tree_util.GetAttrKey('c'), container.c)\n",
        "                   ]\n",
        "\n",
        "  aux_data = container.name\n",
        "  return flat_contents, aux_data\n",
        "\n",
        "def unflatten_MyKeyPathContainer(\n",
        "    aux_data: str, flat_contents: Iterable[str]\n",
        ") -> MyKeyPathContainer:\n",
        "  return MyKeyPathContainer(aux_data, *flat_contents)\n",
        "\n",
        "jax.tree_util.register_pytree_with_keys(\n",
        "    MyKeyPathContainer, flatten_with_keys_MyKeyPathContainer, unflatten_MyKeyPathContainer\n",
        ")\n",
        "\n",
        "jax.tree_util.tree_leaves([\n",
        "    MyKeyPathContainer('Alice', 1, 2, 3),\n",
        "    MyKeyPathContainer('Bob', 4, 5, 6),\n",
        "])"
      ],
      "metadata": {
        "colab": {
          "base_uri": "https://localhost:8080/"
        },
        "id": "CpLDA4zm1zL2",
        "outputId": "c1036eb4-bd2a-4408-f12b-f4dd52bd4ed8"
      },
      "execution_count": 17,
      "outputs": [
        {
          "output_type": "execute_result",
          "data": {
            "text/plain": [
              "[1, 2, 3, 4, 5, 6]"
            ]
          },
          "metadata": {},
          "execution_count": 17
        }
      ]
    },
    {
      "cell_type": "markdown",
      "source": [
        "When a container registered with `register_pytree_node` uses `.*_with_path` APIs, the keys being returned will be a series of \"flat index\" fallbacks:"
      ],
      "metadata": {
        "id": "wbjkunjr4Dg6"
      }
    },
    {
      "cell_type": "code",
      "source": [
        "flattened, _ = jax.tree_util.tree_flatten_with_path(MyContainer('Alice', 1, 2, 3))\n"
      ],
      "metadata": {
        "id": "EXsavCyk3rU9"
      },
      "execution_count": 18,
      "outputs": []
    },
    {
      "cell_type": "code",
      "source": [
        "for key_path, value in flattened:\n",
        "  print(f\"MyContainer container{jax.tree_util.keystr(key_path)}: {value}\")"
      ],
      "metadata": {
        "colab": {
          "base_uri": "https://localhost:8080/"
        },
        "id": "Q3yf0ZSO4RU1",
        "outputId": "f3023436-bcfd-49da-9e03-8e140ec70a5f"
      },
      "execution_count": 20,
      "outputs": [
        {
          "output_type": "stream",
          "name": "stdout",
          "text": [
            "MyContainer container[<flat index 0>]: 1\n",
            "MyContainer container[<flat index 1>]: 2\n",
            "MyContainer container[<flat index 2>]: 3\n"
          ]
        }
      ]
    },
    {
      "cell_type": "code",
      "source": [
        "flattened, _ = jax.tree_util.tree_flatten_with_path(MyKeyPathContainer('Alice', 1, 2, 3))"
      ],
      "metadata": {
        "id": "Hgp_ydLm4TYu"
      },
      "execution_count": 24,
      "outputs": []
    },
    {
      "cell_type": "code",
      "source": [
        "for key_path, value in flattened:\n",
        "  print(f\"MyKeyPathContainer container{jax.tree_util.keystr(key_path)}: {value}\")"
      ],
      "metadata": {
        "colab": {
          "base_uri": "https://localhost:8080/"
        },
        "id": "mVerV32z4n-k",
        "outputId": "64e34206-ac42-4185-c945-4f5fedf11030"
      },
      "execution_count": 25,
      "outputs": [
        {
          "output_type": "stream",
          "name": "stdout",
          "text": [
            "MyKeyPathContainer container.a: 1\n",
            "MyKeyPathContainer container.b: 2\n",
            "MyKeyPathContainer container.c: 3\n"
          ]
        }
      ]
    },
    {
      "cell_type": "code",
      "source": [
        "from typing import NamedTuple, Any\n",
        "\n",
        "class MyOtherContainer(NamedTuple):\n",
        "  name: str\n",
        "  a: Any\n",
        "  b: Any\n",
        "  c: Any\n",
        "\n",
        "jax.tree_util.tree_leaves([\n",
        "    MyOtherContainer('Alice', 1, 2, 3),\n",
        "    MyOtherContainer('Bob', 4, 5, 6),\n",
        "])"
      ],
      "metadata": {
        "colab": {
          "base_uri": "https://localhost:8080/"
        },
        "id": "th3wAPQJ4oWG",
        "outputId": "569eff19-bfdb-4138-89a5-2b9e882e11c3"
      },
      "execution_count": 26,
      "outputs": [
        {
          "output_type": "execute_result",
          "data": {
            "text/plain": [
              "['Alice', 1, 2, 3, 'Bob', 4, 5, 6]"
            ]
          },
          "metadata": {},
          "execution_count": 26
        }
      ]
    },
    {
      "cell_type": "markdown",
      "source": [
        "One shortcut is to use `jax.tree_util.register_static` to register a type as being a node without children:"
      ],
      "metadata": {
        "id": "dHV3_gCA5g8h"
      }
    },
    {
      "cell_type": "code",
      "source": [
        "from typing import NamedTuple, Any\n",
        "\n",
        "@jax.tree_util.register_static\n",
        "class StaticStr(str):\n",
        "  pass\n",
        "\n",
        "class YetAnotherContainer(NamedTuple):\n",
        "  name: StaticStr\n",
        "  a: Any\n",
        "  b: Any\n",
        "  c: Any\n",
        "\n",
        "jax.tree_util.tree_leaves([\n",
        "    YetAnotherContainer(StaticStr('Alice'), 1, 2, 3),\n",
        "    YetAnotherContainer(StaticStr('Bob'), 4, 5, 6),\n",
        "])"
      ],
      "metadata": {
        "colab": {
          "base_uri": "https://localhost:8080/"
        },
        "id": "g2T3lMf55btO",
        "outputId": "d6f90dd8-6526-460e-a87e-b943b2db6839"
      },
      "execution_count": 28,
      "outputs": [
        {
          "output_type": "execute_result",
          "data": {
            "text/plain": [
              "[1, 2, 3, 4, 5, 6]"
            ]
          },
          "metadata": {},
          "execution_count": 28
        }
      ]
    },
    {
      "cell_type": "markdown",
      "source": [
        "# Common pytree gotchas and patterns\n",
        "\n",
        "## Mistaking nodes for leaves\n",
        "\n",
        "A common problem to look out for is accidentally introducing tree nodes instead of leaves"
      ],
      "metadata": {
        "id": "ESxz8fNM6KK3"
      }
    },
    {
      "cell_type": "code",
      "source": [
        "a_tree = [jnp.zeros((2, 3)), jnp.zeros((3, 4))]\n",
        "\n",
        "# Try to make another tree with ones instead of zeros\n",
        "shapes = jax.tree_map(lambda x: x.shape, a_tree)\n",
        "jax.tree_map(jnp.ones, shapes)"
      ],
      "metadata": {
        "colab": {
          "base_uri": "https://localhost:8080/"
        },
        "id": "cmbF6Sti56cM",
        "outputId": "ec6ff0e7-e76a-43b8-8e08-d1260e3b93fe"
      },
      "execution_count": 32,
      "outputs": [
        {
          "output_type": "stream",
          "name": "stderr",
          "text": [
            "<ipython-input-32-6e0653ed084d>:4: DeprecationWarning: jax.tree_map is deprecated: use jax.tree.map (jax v0.4.25 or newer) or jax.tree_util.tree_map (any JAX version).\n",
            "  shapes = jax.tree_map(lambda x: x.shape, a_tree)\n",
            "<ipython-input-32-6e0653ed084d>:5: DeprecationWarning: jax.tree_map is deprecated: use jax.tree.map (jax v0.4.25 or newer) or jax.tree_util.tree_map (any JAX version).\n",
            "  jax.tree_map(jnp.ones, shapes)\n"
          ]
        },
        {
          "output_type": "execute_result",
          "data": {
            "text/plain": [
              "[(Array([1., 1.], dtype=float32), Array([1., 1., 1.], dtype=float32)),\n",
              " (Array([1., 1., 1.], dtype=float32), Array([1., 1., 1., 1.], dtype=float32))]"
            ]
          },
          "metadata": {},
          "execution_count": 32
        }
      ]
    },
    {
      "cell_type": "markdown",
      "source": [
        "Two broadly applicable solutions:\n",
        " - Rewrite the code to avoid the intermediate `tree_map`\n",
        " - convert the tuple into an `np.array` or `jnp.array` which makes the entire sequence a leaf"
      ],
      "metadata": {
        "id": "RwA_RIXm7RKz"
      }
    },
    {
      "cell_type": "code",
      "source": [
        "a_tree = [jnp.zeros((2, 3)), jnp.zeros((3, 4))]\n",
        "\n",
        "jax.tree.map(lambda x: jnp.ones(x.shape), a_tree)"
      ],
      "metadata": {
        "colab": {
          "base_uri": "https://localhost:8080/"
        },
        "id": "CL8m_BAd7mcb",
        "outputId": "2b930deb-0e8e-4a9d-9c6d-19731b955528"
      },
      "execution_count": 36,
      "outputs": [
        {
          "output_type": "execute_result",
          "data": {
            "text/plain": [
              "[Array([[1., 1., 1.],\n",
              "        [1., 1., 1.]], dtype=float32),\n",
              " Array([[1., 1., 1., 1.],\n",
              "        [1., 1., 1., 1.],\n",
              "        [1., 1., 1., 1.]], dtype=float32)]"
            ]
          },
          "metadata": {},
          "execution_count": 36
        }
      ]
    },
    {
      "cell_type": "code",
      "source": [
        "a_tree = [jnp.zeros((2, 3)), jnp.zeros((3, 4))]\n",
        "\n",
        "shapes = jax.tree.map(lambda x: jnp.array(x.shape), a_tree)\n",
        "jax.tree.map(jnp.ones, shapes)"
      ],
      "metadata": {
        "colab": {
          "base_uri": "https://localhost:8080/"
        },
        "id": "uqTc-BNX69l0",
        "outputId": "e39653f8-9d44-4d84-e46a-cd4795f53196"
      },
      "execution_count": 34,
      "outputs": [
        {
          "output_type": "execute_result",
          "data": {
            "text/plain": [
              "[Array([[1., 1., 1.],\n",
              "        [1., 1., 1.]], dtype=float32),\n",
              " Array([[1., 1., 1., 1.],\n",
              "        [1., 1., 1., 1.],\n",
              "        [1., 1., 1., 1.]], dtype=float32)]"
            ]
          },
          "metadata": {},
          "execution_count": 34
        }
      ]
    },
    {
      "cell_type": "markdown",
      "source": [
        "## Handling of None\n",
        "\n",
        "`jax.tree_utils` treats `None` as a node without children, not as a leaf:"
      ],
      "metadata": {
        "id": "R_ATYkmw7v3h"
      }
    },
    {
      "cell_type": "code",
      "source": [
        "jax.tree_util.tree_leaves([None, None, None])"
      ],
      "metadata": {
        "colab": {
          "base_uri": "https://localhost:8080/"
        },
        "id": "eUzRp6A37hSU",
        "outputId": "78ab1a8e-0222-4e87-ca21-4e51e601b48f"
      },
      "execution_count": 37,
      "outputs": [
        {
          "output_type": "execute_result",
          "data": {
            "text/plain": [
              "[]"
            ]
          },
          "metadata": {},
          "execution_count": 37
        }
      ]
    },
    {
      "cell_type": "markdown",
      "source": [
        "# Patterns\n",
        "\n",
        "## Transposing trees\n",
        " : turn a list of trees to a tree of lists"
      ],
      "metadata": {
        "id": "vVoe0qff78mZ"
      }
    },
    {
      "cell_type": "code",
      "source": [
        "def tree_transpose(list_of_trees):\n",
        "  return jax.tree.map(lambda *xs: list(xs), *list_of_trees)\n",
        "\n",
        "# Convert a dataset from row-major to column-major\n",
        "episode_steps = [dict(t=1, obs=3), dict(t=2, obs=4)]\n",
        "tree_transpose(episode_steps)\n"
      ],
      "metadata": {
        "colab": {
          "base_uri": "https://localhost:8080/"
        },
        "id": "pznw3P5V74HE",
        "outputId": "923b9480-307d-4ef1-fe02-e72b308c1112"
      },
      "execution_count": 38,
      "outputs": [
        {
          "output_type": "execute_result",
          "data": {
            "text/plain": [
              "{'obs': [3, 4], 't': [1, 2]}"
            ]
          },
          "metadata": {},
          "execution_count": 38
        }
      ]
    },
    {
      "cell_type": "markdown",
      "source": [
        "For more complicated transposes, JAX provides `jax.tree_transpose`, which is more verbose, but allows you specify the structure of the inner and outer Pytree for more flexibility"
      ],
      "metadata": {
        "id": "TmTz-Nue828d"
      }
    },
    {
      "cell_type": "code",
      "source": [
        "jax.tree_transpose(\n",
        "    outer_treedef = jax.tree_structure([0 for e in episode_steps]),\n",
        "    inner_treedef = jax.tree_structure(episode_steps[0]),\n",
        "    pytree_to_transpose = episode_steps\n",
        ")"
      ],
      "metadata": {
        "colab": {
          "base_uri": "https://localhost:8080/"
        },
        "id": "a4j9sC8-8vmF",
        "outputId": "70a6b56d-4270-41ac-cf0d-19d97a6bc59c"
      },
      "execution_count": 40,
      "outputs": [
        {
          "output_type": "stream",
          "name": "stderr",
          "text": [
            "<ipython-input-40-911dc382b376>:1: DeprecationWarning: jax.tree_transpose is deprecated: use jax.tree.transpose (jax v0.4.25 or newer) or jax.tree_util.tree_transpose (any JAX version).\n",
            "  jax.tree_transpose(\n",
            "<ipython-input-40-911dc382b376>:2: DeprecationWarning: jax.tree_structure is deprecated: use jax.tree.structure (jax v0.4.25 or newer) or jax.tree_util.tree_structure (any JAX version).\n",
            "  outer_treedef = jax.tree_structure([0 for e in episode_steps]),\n",
            "<ipython-input-40-911dc382b376>:3: DeprecationWarning: jax.tree_structure is deprecated: use jax.tree.structure (jax v0.4.25 or newer) or jax.tree_util.tree_structure (any JAX version).\n",
            "  inner_treedef = jax.tree_structure(episode_steps[0]),\n"
          ]
        },
        {
          "output_type": "execute_result",
          "data": {
            "text/plain": [
              "{'obs': [3, 4], 't': [1, 2]}"
            ]
          },
          "metadata": {},
          "execution_count": 40
        }
      ]
    },
    {
      "cell_type": "code",
      "source": [],
      "metadata": {
        "id": "c8n_wE5p9M9M"
      },
      "execution_count": null,
      "outputs": []
    }
  ]
}