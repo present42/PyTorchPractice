{
  "nbformat": 4,
  "nbformat_minor": 0,
  "metadata": {
    "colab": {
      "provenance": [],
      "authorship_tag": "ABX9TyNyqDZFLePVMSJdbRikvlez",
      "include_colab_link": true
    },
    "kernelspec": {
      "name": "python3",
      "display_name": "Python 3"
    },
    "language_info": {
      "name": "python"
    }
  },
  "cells": [
    {
      "cell_type": "markdown",
      "metadata": {
        "id": "view-in-github",
        "colab_type": "text"
      },
      "source": [
        "<a href=\"https://colab.research.google.com/github/present42/PyTorchPractice/blob/main/Fluent_Python_ch13.ipynb\" target=\"_parent\"><img src=\"https://colab.research.google.com/assets/colab-badge.svg\" alt=\"Open In Colab\"/></a>"
      ]
    },
    {
      "cell_type": "markdown",
      "source": [
        "# Chapter 13. Interfaces, Protocols, and ABCs"
      ],
      "metadata": {
        "id": "fyvMn80AhEfZ"
      }
    },
    {
      "cell_type": "markdown",
      "source": [
        "Program to an interface, not an implementation"
      ],
      "metadata": {
        "id": "Xzs2SYywhL2K"
      }
    },
    {
      "cell_type": "markdown",
      "source": [
        "Since python 3.8, we have four ways to define an interfaces:\n",
        " - Duck typing: Python's default approach\n",
        " - Goose typing: supported by abstract base classes (ABCs) which rely on runtime checks of objects against ABCs.\n",
        " - Static typing: traditional approach of statically-typed langauges like C and Java\n",
        " - Static duck typing: Go langauge approach; supported by subclasses of `typing.Protocol`"
      ],
      "metadata": {
        "id": "SblhdlIRhbYW"
      }
    },
    {
      "cell_type": "markdown",
      "source": [
        "## Two Kinds of Protocols\n",
        "\n",
        "An object protocol specifies methods which an object must provide to fulfill a role."
      ],
      "metadata": {
        "id": "J3GSi_fZiaFl"
      }
    },
    {
      "cell_type": "code",
      "execution_count": null,
      "metadata": {
        "id": "zIblnTERhBlh"
      },
      "outputs": [],
      "source": [
        "class Vowels:\n",
        "  def __getitem__(self, i):\n",
        "    return 'AEIOU'[i]"
      ]
    },
    {
      "cell_type": "code",
      "source": [
        "v = Vowels()\n",
        "v[0]"
      ],
      "metadata": {
        "colab": {
          "base_uri": "https://localhost:8080/",
          "height": 36
        },
        "id": "EWeimWQimMSL",
        "outputId": "842b6530-8ea9-47c3-84a2-6524067954f7"
      },
      "execution_count": null,
      "outputs": [
        {
          "output_type": "execute_result",
          "data": {
            "text/plain": [
              "'A'"
            ],
            "application/vnd.google.colaboratory.intrinsic+json": {
              "type": "string"
            }
          },
          "metadata": {},
          "execution_count": 2
        }
      ]
    },
    {
      "cell_type": "code",
      "source": [
        "v[-1]"
      ],
      "metadata": {
        "colab": {
          "base_uri": "https://localhost:8080/",
          "height": 36
        },
        "id": "3Af7GNWLmPnB",
        "outputId": "295c2c53-8edd-4bed-84c4-b5ed47659593"
      },
      "execution_count": null,
      "outputs": [
        {
          "output_type": "execute_result",
          "data": {
            "text/plain": [
              "'U'"
            ],
            "application/vnd.google.colaboratory.intrinsic+json": {
              "type": "string"
            }
          },
          "metadata": {},
          "execution_count": 3
        }
      ]
    },
    {
      "cell_type": "code",
      "source": [
        "for c in v:\n",
        "  print(c)"
      ],
      "metadata": {
        "colab": {
          "base_uri": "https://localhost:8080/"
        },
        "id": "qKu05N1GmQ8p",
        "outputId": "e6c820e7-29dc-4671-84f1-d3462cf85361"
      },
      "execution_count": null,
      "outputs": [
        {
          "output_type": "stream",
          "name": "stdout",
          "text": [
            "A\n",
            "E\n",
            "I\n",
            "O\n",
            "U\n"
          ]
        }
      ]
    },
    {
      "cell_type": "code",
      "source": [
        "'E' in v"
      ],
      "metadata": {
        "colab": {
          "base_uri": "https://localhost:8080/"
        },
        "id": "Fhpij_DgmSRa",
        "outputId": "d18cfb9e-c7ca-4922-c1bb-efb599d5ceb4"
      },
      "execution_count": null,
      "outputs": [
        {
          "output_type": "execute_result",
          "data": {
            "text/plain": [
              "True"
            ]
          },
          "metadata": {},
          "execution_count": 5
        }
      ]
    },
    {
      "cell_type": "code",
      "source": [
        "'Z' in v"
      ],
      "metadata": {
        "colab": {
          "base_uri": "https://localhost:8080/"
        },
        "id": "GNBlKOZxmT3S",
        "outputId": "50050551-2b96-4542-f7e7-467b27574636"
      },
      "execution_count": null,
      "outputs": [
        {
          "output_type": "execute_result",
          "data": {
            "text/plain": [
              "False"
            ]
          },
          "metadata": {},
          "execution_count": 6
        }
      ]
    },
    {
      "cell_type": "markdown",
      "source": [
        "Implementing `__getitem__` is enough to allow retrieving items by index, and also to support iteration and the `in` operator."
      ],
      "metadata": {
        "id": "vrIZVvXEmW2s"
      }
    },
    {
      "cell_type": "markdown",
      "source": [
        "## Programming Ducks"
      ],
      "metadata": {
        "id": "vwcg5kCjnPqO"
      }
    },
    {
      "cell_type": "markdown",
      "source": [
        "Sequence and iterable protocols"
      ],
      "metadata": {
        "id": "3y3pVjZAnSl9"
      }
    },
    {
      "cell_type": "markdown",
      "source": [
        "In summary, given the importance of sequence-like data structures, Python manages to make iteration and the `in` operator work by invoking `__getitem__` when `__iter__` and `__contains` are unavailable"
      ],
      "metadata": {
        "id": "Sc7DtgoBn-vI"
      }
    },
    {
      "cell_type": "code",
      "source": [
        "import collections\n",
        "\n",
        "Card = collections.namedtuple('Card', ['rank', 'suit'])\n",
        "\n",
        "class FrenchDeck:\n",
        "  ranks = [str(n) for n in range(2, 11)] + list('JQKA')\n",
        "  suits = 'spades diamonds clubs hearts'.split()\n",
        "\n",
        "  def __init__(self):\n",
        "    self._cards = [Card(rank, suit) for suit in self.suits for rank in self.ranks]\n",
        "\n",
        "  def __len__(self):\n",
        "    return len(self._cards)\n",
        "\n",
        "  def __getitem__(self, position):\n",
        "    return self._cards[position]"
      ],
      "metadata": {
        "id": "n-AZY58UmvG5"
      },
      "execution_count": null,
      "outputs": []
    },
    {
      "cell_type": "markdown",
      "source": [
        "The original `FrenchDeck` does not subclass `abc.Sequence` either, but it does implement both methods of the sequence protocol: `__getitem__` and `__len__`"
      ],
      "metadata": {
        "id": "anH7dyIWop9b"
      }
    },
    {
      "cell_type": "markdown",
      "source": [
        "### Why static type checkers have no chance of dealing with them?"
      ],
      "metadata": {
        "id": "O13qr7q5pOvV"
      }
    },
    {
      "cell_type": "markdown",
      "source": [
        "## Monkey Patching: Implementing a Protocol at Runtime"
      ],
      "metadata": {
        "id": "0TrWHt3YpSw3"
      }
    },
    {
      "cell_type": "code",
      "source": [
        "from random import shuffle\n",
        "\n",
        "l = list(range(10))\n",
        "shuffle(l)"
      ],
      "metadata": {
        "id": "eACgIFG9oo-U"
      },
      "execution_count": null,
      "outputs": []
    },
    {
      "cell_type": "code",
      "source": [
        "l"
      ],
      "metadata": {
        "colab": {
          "base_uri": "https://localhost:8080/"
        },
        "id": "ybP_PTm6pn3h",
        "outputId": "8d0e6425-d2f6-4318-b196-0cecca4a17a9"
      },
      "execution_count": null,
      "outputs": [
        {
          "output_type": "execute_result",
          "data": {
            "text/plain": [
              "[7, 5, 9, 0, 1, 4, 2, 8, 3, 6]"
            ]
          },
          "metadata": {},
          "execution_count": 10
        }
      ]
    },
    {
      "cell_type": "code",
      "source": [
        "deck = FrenchDeck()"
      ],
      "metadata": {
        "id": "61I_IvQLpof2"
      },
      "execution_count": null,
      "outputs": []
    },
    {
      "cell_type": "code",
      "source": [
        "shuffle(deck)"
      ],
      "metadata": {
        "id": "xd0kagtipxfZ"
      },
      "execution_count": null,
      "outputs": []
    },
    {
      "cell_type": "code",
      "source": [
        "def set_card(deck, position, card):\n",
        "  deck._cards[position] = card"
      ],
      "metadata": {
        "id": "yaxLcqXqpyCG"
      },
      "execution_count": null,
      "outputs": []
    },
    {
      "cell_type": "code",
      "source": [
        "FrenchDeck.__setitem__ = set_card"
      ],
      "metadata": {
        "id": "wydbpP0Tp_yx"
      },
      "execution_count": null,
      "outputs": []
    },
    {
      "cell_type": "code",
      "source": [
        "shuffle(deck)"
      ],
      "metadata": {
        "id": "CldOzJaTqC8w"
      },
      "execution_count": null,
      "outputs": []
    },
    {
      "cell_type": "code",
      "source": [
        "deck[:5]"
      ],
      "metadata": {
        "colab": {
          "base_uri": "https://localhost:8080/"
        },
        "id": "sO0_mCaSqDi-",
        "outputId": "d53f6f12-ad5f-4850-d0da-8697bde3908f"
      },
      "execution_count": null,
      "outputs": [
        {
          "output_type": "execute_result",
          "data": {
            "text/plain": [
              "[Card(rank='2', suit='hearts'),\n",
              " Card(rank='6', suit='hearts'),\n",
              " Card(rank='Q', suit='diamonds'),\n",
              " Card(rank='J', suit='clubs'),\n",
              " Card(rank='A', suit='hearts')]"
            ]
          },
          "metadata": {},
          "execution_count": 19
        }
      ]
    },
    {
      "cell_type": "markdown",
      "source": [
        "## Defensive Programming and \"Fail Fast\""
      ],
      "metadata": {
        "id": "-suRGHxhsDWT"
      }
    },
    {
      "cell_type": "code",
      "source": [
        "def __init__(self, iterable):\n",
        "  # don't type check iterable is iterable\n",
        "  # just use list to see whether iterable is iterable\n",
        "  self._balls = list(iterable)\n"
      ],
      "metadata": {
        "id": "3j4OxiJ-qHc9"
      },
      "execution_count": null,
      "outputs": []
    },
    {
      "cell_type": "markdown",
      "source": [
        "## Goose Typing"
      ],
      "metadata": {
        "id": "ImT-v4pwwha4"
      }
    },
    {
      "cell_type": "markdown",
      "source": [
        "`isinstance(obj, cls)` is now just fine as long as `cls` is an abstract base class--in other words, `cls`'s metaclass is `abc.ABCMeta`"
      ],
      "metadata": {
        "id": "XiiExaWP7PXs"
      }
    },
    {
      "cell_type": "code",
      "source": [
        "class Struggle:\n",
        "  def __len__(self): return 23"
      ],
      "metadata": {
        "id": "7JS0Bpf0wiN3"
      },
      "execution_count": null,
      "outputs": []
    },
    {
      "cell_type": "code",
      "source": [
        "from collections import abc\n",
        "isinstance(Struggle(), abc.Sized)"
      ],
      "metadata": {
        "colab": {
          "base_uri": "https://localhost:8080/"
        },
        "id": "1dSMp6hU6UR1",
        "outputId": "f6bca368-67f0-4e0a-ac9d-1a96d36a7a6d"
      },
      "execution_count": null,
      "outputs": [
        {
          "output_type": "execute_result",
          "data": {
            "text/plain": [
              "True"
            ]
          },
          "metadata": {},
          "execution_count": 21
        }
      ]
    },
    {
      "cell_type": "code",
      "source": [
        "from collections import namedtuple, abc\n",
        "\n",
        "Card = namedtuple('Card', ['rank', 'suit'])\n",
        "\n",
        "# not check for the implementation of the abstract methods at import time\n",
        "# but only at runtime when we actually try to instantiate FrenchDeck2\n",
        "class FrenchDeck2(abc.MutableSequence):\n",
        "  ranks = [str(n) for n in range(2, 11)] + list('JQKA')\n",
        "  suits = 'spades diamonds clubs hearts'.split()\n",
        "\n",
        "  def __init__(self):\n",
        "    self._cards = [Card(rank, suit) for suit in self.suits for rank in self.ranks]\n",
        "\n",
        "  def __len__(self):\n",
        "    return len(self._cards)\n",
        "\n",
        "  def __getitem__(self, position):\n",
        "    return self._cards[position]\n",
        "\n",
        "  def __setitem__(self, position, value): # all we need for enabling shuffling\n",
        "    self._cards[position] = value\n",
        "\n",
        "  def __delitem__(self, position): # but subclassing MutableSequence forces us to implment __delitem__\n",
        "    del self._cards[position]\n",
        "\n",
        "  def insert(self, position, value):\n",
        "    self._cards.insert(position, value)"
      ],
      "metadata": {
        "id": "67yK_mKo6X6D"
      },
      "execution_count": 5,
      "outputs": []
    },
    {
      "cell_type": "markdown",
      "source": [
        "#"
      ],
      "metadata": {
        "id": "XcL5sC1n7OCh"
      }
    },
    {
      "cell_type": "markdown",
      "source": [
        "The use of `isinstance` and `issubclass` becomes more acceptable if you are checking agains ABCs instead of concrete classes. If used with concrete classes, type checks limit polymorphism."
      ],
      "metadata": {
        "id": "0_IEqMGw8cDu"
      }
    },
    {
      "cell_type": "code",
      "source": [
        "from collections.abc import Sequence\n",
        "issubclass(FrenchDeck2, Sequence)"
      ],
      "metadata": {
        "id": "jYGnjSpT8hb4",
        "colab": {
          "base_uri": "https://localhost:8080/"
        },
        "outputId": "eddaa3a4-e5d7-4341-8a16-94da1753cf93"
      },
      "execution_count": 2,
      "outputs": [
        {
          "output_type": "execute_result",
          "data": {
            "text/plain": [
              "True"
            ]
          },
          "metadata": {},
          "execution_count": 2
        }
      ]
    },
    {
      "cell_type": "code",
      "source": [
        "deck = FrenchDeck2()"
      ],
      "metadata": {
        "id": "e8XluISe8ZAR"
      },
      "execution_count": 7,
      "outputs": []
    },
    {
      "cell_type": "code",
      "source": [
        "for i in reversed(deck):\n",
        "  print(i)"
      ],
      "metadata": {
        "colab": {
          "base_uri": "https://localhost:8080/"
        },
        "id": "DcJDU2Ax_5Gp",
        "outputId": "c5eacce9-9d22-4d89-8559-cc831a82cf6f"
      },
      "execution_count": 10,
      "outputs": [
        {
          "output_type": "stream",
          "name": "stdout",
          "text": [
            "Card(rank='A', suit='hearts')\n",
            "Card(rank='K', suit='hearts')\n",
            "Card(rank='Q', suit='hearts')\n",
            "Card(rank='J', suit='hearts')\n",
            "Card(rank='10', suit='hearts')\n",
            "Card(rank='9', suit='hearts')\n",
            "Card(rank='8', suit='hearts')\n",
            "Card(rank='7', suit='hearts')\n",
            "Card(rank='6', suit='hearts')\n",
            "Card(rank='5', suit='hearts')\n",
            "Card(rank='4', suit='hearts')\n",
            "Card(rank='3', suit='hearts')\n",
            "Card(rank='2', suit='hearts')\n",
            "Card(rank='A', suit='clubs')\n",
            "Card(rank='K', suit='clubs')\n",
            "Card(rank='Q', suit='clubs')\n",
            "Card(rank='J', suit='clubs')\n",
            "Card(rank='10', suit='clubs')\n",
            "Card(rank='9', suit='clubs')\n",
            "Card(rank='8', suit='clubs')\n",
            "Card(rank='7', suit='clubs')\n",
            "Card(rank='6', suit='clubs')\n",
            "Card(rank='5', suit='clubs')\n",
            "Card(rank='4', suit='clubs')\n",
            "Card(rank='3', suit='clubs')\n",
            "Card(rank='2', suit='clubs')\n",
            "Card(rank='A', suit='diamonds')\n",
            "Card(rank='K', suit='diamonds')\n",
            "Card(rank='Q', suit='diamonds')\n",
            "Card(rank='J', suit='diamonds')\n",
            "Card(rank='10', suit='diamonds')\n",
            "Card(rank='9', suit='diamonds')\n",
            "Card(rank='8', suit='diamonds')\n",
            "Card(rank='7', suit='diamonds')\n",
            "Card(rank='6', suit='diamonds')\n",
            "Card(rank='5', suit='diamonds')\n",
            "Card(rank='4', suit='diamonds')\n",
            "Card(rank='3', suit='diamonds')\n",
            "Card(rank='2', suit='diamonds')\n",
            "Card(rank='A', suit='spades')\n",
            "Card(rank='K', suit='spades')\n",
            "Card(rank='Q', suit='spades')\n",
            "Card(rank='J', suit='spades')\n",
            "Card(rank='10', suit='spades')\n",
            "Card(rank='9', suit='spades')\n",
            "Card(rank='8', suit='spades')\n",
            "Card(rank='7', suit='spades')\n",
            "Card(rank='6', suit='spades')\n",
            "Card(rank='5', suit='spades')\n",
            "Card(rank='4', suit='spades')\n",
            "Card(rank='3', suit='spades')\n",
            "Card(rank='2', suit='spades')\n"
          ]
        }
      ]
    },
    {
      "cell_type": "markdown",
      "source": [
        "To use ABCs well, you need to know what's available. We'll review the `collections` ABCs next.\n",
        "\n",
        "## ABCs in the Standard Library"
      ],
      "metadata": {
        "id": "7zIeUHszAVtl"
      }
    },
    {
      "cell_type": "markdown",
      "source": [
        "The only reliable way to determine whether an object is iterable is to call `iter(obj)`. Same as `hash(obj)`."
      ],
      "metadata": {
        "id": "-Gh6R1axBZuJ"
      }
    },
    {
      "cell_type": "markdown",
      "source": [
        "Defining and Using an ABC"
      ],
      "metadata": {
        "id": "FErhTeZRBjB5"
      }
    },
    {
      "cell_type": "code",
      "source": [
        "# tombola.py\n",
        "\n",
        "import abc\n",
        "\n",
        "class Tombola(abc.ABC):\n",
        "\n",
        "  @abc.abstractmethod\n",
        "  def load(self, iterable):\n",
        "    \"\"\"Add items from an iterable\"\"\"\n",
        "\n",
        "  @abc.abstractmethod\n",
        "  def pick(self):\n",
        "    \"\"\" Remove item at random, returning it\n",
        "\n",
        "    This method should raise `LookupError` when the instance is empty\n",
        "    \"\"\"\n",
        "\n",
        "  def loaded(self):\n",
        "    return bool(self.inspect())\n",
        "\n",
        "  def inspect(self):\n",
        "    items = []\n",
        "    while True:\n",
        "      try:\n",
        "        items.append(self.pick())\n",
        "      except LookupError:\n",
        "        break\n",
        "    self.load(items)\n",
        "    return tuple(items)\n",
        "\n"
      ],
      "metadata": {
        "id": "IgaUFmvDAD77"
      },
      "execution_count": 11,
      "outputs": []
    },
    {
      "cell_type": "code",
      "source": [
        "class Fake(Tombola):\n",
        "  def pick(self):\n",
        "    return 13"
      ],
      "metadata": {
        "id": "cTGSoTcbDjmb"
      },
      "execution_count": 12,
      "outputs": []
    },
    {
      "cell_type": "code",
      "source": [
        "Fake"
      ],
      "metadata": {
        "colab": {
          "base_uri": "https://localhost:8080/"
        },
        "id": "oFj9fclTDoQC",
        "outputId": "0efe5501-1b51-4a63-d1ce-7e8425ebf873"
      },
      "execution_count": 13,
      "outputs": [
        {
          "output_type": "execute_result",
          "data": {
            "text/plain": [
              "__main__.Fake"
            ]
          },
          "metadata": {},
          "execution_count": 13
        }
      ]
    },
    {
      "cell_type": "code",
      "source": [
        "f = Fake()"
      ],
      "metadata": {
        "colab": {
          "base_uri": "https://localhost:8080/",
          "height": 149
        },
        "id": "0hYkP_9lDoiJ",
        "outputId": "8daa25b7-d056-47f0-c4c1-5ca9fb928f0e"
      },
      "execution_count": 14,
      "outputs": [
        {
          "output_type": "error",
          "ename": "TypeError",
          "evalue": "Can't instantiate abstract class Fake with abstract method load",
          "traceback": [
            "\u001b[0;31m---------------------------------------------------------------------------\u001b[0m",
            "\u001b[0;31mTypeError\u001b[0m                                 Traceback (most recent call last)",
            "\u001b[0;32m<ipython-input-14-a646eb69a2f6>\u001b[0m in \u001b[0;36m<cell line: 1>\u001b[0;34m()\u001b[0m\n\u001b[0;32m----> 1\u001b[0;31m \u001b[0mf\u001b[0m \u001b[0;34m=\u001b[0m \u001b[0mFake\u001b[0m\u001b[0;34m(\u001b[0m\u001b[0;34m)\u001b[0m\u001b[0;34m\u001b[0m\u001b[0;34m\u001b[0m\u001b[0m\n\u001b[0m",
            "\u001b[0;31mTypeError\u001b[0m: Can't instantiate abstract class Fake with abstract method load"
          ]
        }
      ]
    },
    {
      "cell_type": "markdown",
      "source": [
        "# Subclassing an ABC"
      ],
      "metadata": {
        "id": "hIlZosOBELcG"
      }
    },
    {
      "cell_type": "code",
      "source": [
        "import random\n",
        "\n",
        "class BingoCage(Tombola):\n",
        "  def __init__(self, items):\n",
        "    self._randomizer = random.SystemRandom()\n",
        "    self._items = []\n",
        "    self.load(items)\n",
        "\n",
        "  def load(self, items):\n",
        "    self._items.extend(items)\n",
        "    self._randomizer.shuffle(self._items)\n",
        "\n",
        "  def pick(self):\n",
        "    try:\n",
        "      return self._items.pop()\n",
        "    except IndexError:\n",
        "      raise LookupError('pick from empty BingoCage')\n",
        "\n",
        "  def __call__(self):\n",
        "    self.pick()"
      ],
      "metadata": {
        "id": "lTvtcquNDpry"
      },
      "execution_count": 15,
      "outputs": []
    },
    {
      "cell_type": "code",
      "source": [
        "import random\n",
        "\n",
        "class LottoBlower(Tombola):\n",
        "  def __init__(self, iterable):\n",
        "    self._balls = list(iterable)\n",
        "\n",
        "  def load(self, iterable):\n",
        "    self._balls.extend(iterable)\n",
        "\n",
        "  def pick(self):\n",
        "    try:\n",
        "      position = random.randrange(len(self._balls))\n",
        "    except ValueError:\n",
        "      raise LookupError('pick from empty LottoBlower')\n",
        "\n",
        "    return self._balls.pop(position)\n",
        "\n",
        "  def loaded(self):\n",
        "    return bool(self._balls)\n",
        "\n",
        "  def inspect(self):\n",
        "    return tuple(self._balls)"
      ],
      "metadata": {
        "id": "846VyYyOGL_6"
      },
      "execution_count": null,
      "outputs": []
    },
    {
      "cell_type": "markdown",
      "source": [
        "We now come to the crucial dynamic feature of goose typing: declaring virtual subclasses with the `register` method.\n",
        "\n",
        "## A virtual subclass of an ABC"
      ],
      "metadata": {
        "id": "MJ6rEUv1HNed"
      }
    },
    {
      "cell_type": "markdown",
      "source": [
        "The registered class becomes a virtual subclass of ABC, and will be recognized as such by `issubclass` but it does not inherit any methods or attributes from the ABC."
      ],
      "metadata": {
        "id": "9jagzOJYHsnj"
      }
    },
    {
      "cell_type": "code",
      "source": [
        "from random import randrange\n",
        "\n",
        "@Tombola.register # Tombolist is registered as a virtual subclass of Tombola\n",
        "class TomboList(list):\n",
        "  def pick(self):\n",
        "    if self:\n",
        "      position = randrange(len(self))\n",
        "      return self.pop(position)\n",
        "    else:\n",
        "      raise LookupError('pop from empty TomboList')\n",
        "\n",
        "  load = list.extend\n",
        "\n",
        "  def loaded(self):\n",
        "    return bool(self)\n",
        "\n",
        "  def inspect(self):\n",
        "    return tuple(self)\n"
      ],
      "metadata": {
        "id": "l5AnJhlzGlxx"
      },
      "execution_count": 18,
      "outputs": []
    },
    {
      "cell_type": "code",
      "source": [
        "issubclass(TomboList, Tombola)"
      ],
      "metadata": {
        "colab": {
          "base_uri": "https://localhost:8080/"
        },
        "id": "5RxMnd92Ij-Z",
        "outputId": "1524b6b2-0212-4bd6-be1d-79f38b123c47"
      },
      "execution_count": 19,
      "outputs": [
        {
          "output_type": "execute_result",
          "data": {
            "text/plain": [
              "True"
            ]
          },
          "metadata": {},
          "execution_count": 19
        }
      ]
    },
    {
      "cell_type": "code",
      "source": [
        "t = TomboList(range(100))\n",
        "isinstance(t, Tombola)"
      ],
      "metadata": {
        "colab": {
          "base_uri": "https://localhost:8080/"
        },
        "id": "mEAbNAiXIysc",
        "outputId": "db8e910d-f6f1-4dd0-b0d0-6dfebc5c92c1"
      },
      "execution_count": 20,
      "outputs": [
        {
          "output_type": "execute_result",
          "data": {
            "text/plain": [
              "True"
            ]
          },
          "metadata": {},
          "execution_count": 20
        }
      ]
    },
    {
      "cell_type": "code",
      "source": [
        "TomboList.__mro__"
      ],
      "metadata": {
        "colab": {
          "base_uri": "https://localhost:8080/"
        },
        "id": "_z2klr3DI2eC",
        "outputId": "bdd11201-2607-4d09-cf67-3c89c84c6de5"
      },
      "execution_count": 22,
      "outputs": [
        {
          "output_type": "execute_result",
          "data": {
            "text/plain": [
              "(__main__.TomboList, list, object)"
            ]
          },
          "metadata": {},
          "execution_count": 22
        }
      ]
    },
    {
      "cell_type": "code",
      "source": [],
      "metadata": {
        "id": "70efSBKbI27L"
      },
      "execution_count": null,
      "outputs": []
    }
  ]
}