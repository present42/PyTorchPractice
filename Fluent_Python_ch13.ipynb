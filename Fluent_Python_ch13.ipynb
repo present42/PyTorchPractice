{
  "nbformat": 4,
  "nbformat_minor": 0,
  "metadata": {
    "colab": {
      "provenance": [],
      "authorship_tag": "ABX9TyPYxqPULpwcz1X+8FpTI8Pi",
      "include_colab_link": true
    },
    "kernelspec": {
      "name": "python3",
      "display_name": "Python 3"
    },
    "language_info": {
      "name": "python"
    }
  },
  "cells": [
    {
      "cell_type": "markdown",
      "metadata": {
        "id": "view-in-github",
        "colab_type": "text"
      },
      "source": [
        "<a href=\"https://colab.research.google.com/github/present42/PyTorchPractice/blob/main/Fluent_Python_ch13.ipynb\" target=\"_parent\"><img src=\"https://colab.research.google.com/assets/colab-badge.svg\" alt=\"Open In Colab\"/></a>"
      ]
    },
    {
      "cell_type": "markdown",
      "source": [
        "# Chapter 13. Interfaces, Protocols, and ABCs"
      ],
      "metadata": {
        "id": "fyvMn80AhEfZ"
      }
    },
    {
      "cell_type": "markdown",
      "source": [
        "Program to an interface, not an implementation"
      ],
      "metadata": {
        "id": "Xzs2SYywhL2K"
      }
    },
    {
      "cell_type": "markdown",
      "source": [
        "Since python 3.8, we have four ways to define an interfaces:\n",
        " - Duck typing: Python's default approach\n",
        " - Goose typing: supported by abstract base classes (ABCs) which rely on runtime checks of objects against ABCs.\n",
        " - Static typing: traditional approach of statically-typed langauges like C and Java\n",
        " - Static duck typing: Go langauge approach; supported by subclasses of `typing.Protocol`"
      ],
      "metadata": {
        "id": "SblhdlIRhbYW"
      }
    },
    {
      "cell_type": "markdown",
      "source": [
        "## Two Kinds of Protocols\n",
        "\n",
        "An object protocol specifies methods which an object must provide to fulfill a role."
      ],
      "metadata": {
        "id": "J3GSi_fZiaFl"
      }
    },
    {
      "cell_type": "code",
      "execution_count": 1,
      "metadata": {
        "id": "zIblnTERhBlh"
      },
      "outputs": [],
      "source": [
        "class Vowels:\n",
        "  def __getitem__(self, i):\n",
        "    return 'AEIOU'[i]"
      ]
    },
    {
      "cell_type": "code",
      "source": [
        "v = Vowels()\n",
        "v[0]"
      ],
      "metadata": {
        "colab": {
          "base_uri": "https://localhost:8080/",
          "height": 36
        },
        "id": "EWeimWQimMSL",
        "outputId": "842b6530-8ea9-47c3-84a2-6524067954f7"
      },
      "execution_count": 2,
      "outputs": [
        {
          "output_type": "execute_result",
          "data": {
            "text/plain": [
              "'A'"
            ],
            "application/vnd.google.colaboratory.intrinsic+json": {
              "type": "string"
            }
          },
          "metadata": {},
          "execution_count": 2
        }
      ]
    },
    {
      "cell_type": "code",
      "source": [
        "v[-1]"
      ],
      "metadata": {
        "colab": {
          "base_uri": "https://localhost:8080/",
          "height": 36
        },
        "id": "3Af7GNWLmPnB",
        "outputId": "295c2c53-8edd-4bed-84c4-b5ed47659593"
      },
      "execution_count": 3,
      "outputs": [
        {
          "output_type": "execute_result",
          "data": {
            "text/plain": [
              "'U'"
            ],
            "application/vnd.google.colaboratory.intrinsic+json": {
              "type": "string"
            }
          },
          "metadata": {},
          "execution_count": 3
        }
      ]
    },
    {
      "cell_type": "code",
      "source": [
        "for c in v:\n",
        "  print(c)"
      ],
      "metadata": {
        "colab": {
          "base_uri": "https://localhost:8080/"
        },
        "id": "qKu05N1GmQ8p",
        "outputId": "e6c820e7-29dc-4671-84f1-d3462cf85361"
      },
      "execution_count": 4,
      "outputs": [
        {
          "output_type": "stream",
          "name": "stdout",
          "text": [
            "A\n",
            "E\n",
            "I\n",
            "O\n",
            "U\n"
          ]
        }
      ]
    },
    {
      "cell_type": "code",
      "source": [
        "'E' in v"
      ],
      "metadata": {
        "colab": {
          "base_uri": "https://localhost:8080/"
        },
        "id": "Fhpij_DgmSRa",
        "outputId": "d18cfb9e-c7ca-4922-c1bb-efb599d5ceb4"
      },
      "execution_count": 5,
      "outputs": [
        {
          "output_type": "execute_result",
          "data": {
            "text/plain": [
              "True"
            ]
          },
          "metadata": {},
          "execution_count": 5
        }
      ]
    },
    {
      "cell_type": "code",
      "source": [
        "'Z' in v"
      ],
      "metadata": {
        "colab": {
          "base_uri": "https://localhost:8080/"
        },
        "id": "GNBlKOZxmT3S",
        "outputId": "50050551-2b96-4542-f7e7-467b27574636"
      },
      "execution_count": 6,
      "outputs": [
        {
          "output_type": "execute_result",
          "data": {
            "text/plain": [
              "False"
            ]
          },
          "metadata": {},
          "execution_count": 6
        }
      ]
    },
    {
      "cell_type": "markdown",
      "source": [
        "Implementing `__getitem__` is enough to allow retrieving items by index, and also to support iteration and the `in` operator."
      ],
      "metadata": {
        "id": "vrIZVvXEmW2s"
      }
    },
    {
      "cell_type": "markdown",
      "source": [
        "## Programming Ducks"
      ],
      "metadata": {
        "id": "vwcg5kCjnPqO"
      }
    },
    {
      "cell_type": "markdown",
      "source": [
        "Sequence and iterable protocols"
      ],
      "metadata": {
        "id": "3y3pVjZAnSl9"
      }
    },
    {
      "cell_type": "markdown",
      "source": [
        "In summary, given the importance of sequence-like data structures, Python manages to make iteration and the `in` operator work by invoking `__getitem__` when `__iter__` and `__contains` are unavailable"
      ],
      "metadata": {
        "id": "Sc7DtgoBn-vI"
      }
    },
    {
      "cell_type": "code",
      "source": [
        "import collections\n",
        "\n",
        "Card = collections.namedtuple('Card', ['rank', 'suit'])\n",
        "\n",
        "class FrenchDeck:\n",
        "  ranks = [str(n) for n in range(2, 11)] + list('JQKA')\n",
        "  suits = 'spades diamonds clubs hearts'.split()\n",
        "\n",
        "  def __init__(self):\n",
        "    self._cards = [Card(rank, suit) for suit in self.suits for rank in self.ranks]\n",
        "\n",
        "  def __len__(self):\n",
        "    return len(self._cards)\n",
        "\n",
        "  def __getitem__(self, position):\n",
        "    return self._cards[position]"
      ],
      "metadata": {
        "id": "n-AZY58UmvG5"
      },
      "execution_count": 8,
      "outputs": []
    },
    {
      "cell_type": "markdown",
      "source": [
        "The original `FrenchDeck` does not subclass `abc.Sequence` either, but it does implement both methods of the sequence protocol: `__getitem__` and `__len__`"
      ],
      "metadata": {
        "id": "anH7dyIWop9b"
      }
    },
    {
      "cell_type": "markdown",
      "source": [
        "### Why static type checkers have no chance of dealing with them?"
      ],
      "metadata": {
        "id": "O13qr7q5pOvV"
      }
    },
    {
      "cell_type": "markdown",
      "source": [
        "## Monkey Patching: Implementing a Protocol at Runtime"
      ],
      "metadata": {
        "id": "0TrWHt3YpSw3"
      }
    },
    {
      "cell_type": "code",
      "source": [
        "from random import shuffle\n",
        "\n",
        "l = list(range(10))\n",
        "shuffle(l)"
      ],
      "metadata": {
        "id": "eACgIFG9oo-U"
      },
      "execution_count": 9,
      "outputs": []
    },
    {
      "cell_type": "code",
      "source": [
        "l"
      ],
      "metadata": {
        "colab": {
          "base_uri": "https://localhost:8080/"
        },
        "id": "ybP_PTm6pn3h",
        "outputId": "8d0e6425-d2f6-4318-b196-0cecca4a17a9"
      },
      "execution_count": 10,
      "outputs": [
        {
          "output_type": "execute_result",
          "data": {
            "text/plain": [
              "[7, 5, 9, 0, 1, 4, 2, 8, 3, 6]"
            ]
          },
          "metadata": {},
          "execution_count": 10
        }
      ]
    },
    {
      "cell_type": "code",
      "source": [
        "deck = FrenchDeck()"
      ],
      "metadata": {
        "id": "61I_IvQLpof2"
      },
      "execution_count": 16,
      "outputs": []
    },
    {
      "cell_type": "code",
      "source": [
        "shuffle(deck)"
      ],
      "metadata": {
        "id": "xd0kagtipxfZ"
      },
      "execution_count": 17,
      "outputs": []
    },
    {
      "cell_type": "code",
      "source": [
        "def set_card(deck, position, card):\n",
        "  deck._cards[position] = card"
      ],
      "metadata": {
        "id": "yaxLcqXqpyCG"
      },
      "execution_count": 13,
      "outputs": []
    },
    {
      "cell_type": "code",
      "source": [
        "FrenchDeck.__setitem__ = set_card"
      ],
      "metadata": {
        "id": "wydbpP0Tp_yx"
      },
      "execution_count": 14,
      "outputs": []
    },
    {
      "cell_type": "code",
      "source": [
        "shuffle(deck)"
      ],
      "metadata": {
        "id": "CldOzJaTqC8w"
      },
      "execution_count": 18,
      "outputs": []
    },
    {
      "cell_type": "code",
      "source": [
        "deck[:5]"
      ],
      "metadata": {
        "colab": {
          "base_uri": "https://localhost:8080/"
        },
        "id": "sO0_mCaSqDi-",
        "outputId": "d53f6f12-ad5f-4850-d0da-8697bde3908f"
      },
      "execution_count": 19,
      "outputs": [
        {
          "output_type": "execute_result",
          "data": {
            "text/plain": [
              "[Card(rank='2', suit='hearts'),\n",
              " Card(rank='6', suit='hearts'),\n",
              " Card(rank='Q', suit='diamonds'),\n",
              " Card(rank='J', suit='clubs'),\n",
              " Card(rank='A', suit='hearts')]"
            ]
          },
          "metadata": {},
          "execution_count": 19
        }
      ]
    },
    {
      "cell_type": "markdown",
      "source": [
        "## Defensive Programming and \"Fail Fast\""
      ],
      "metadata": {
        "id": "-suRGHxhsDWT"
      }
    },
    {
      "cell_type": "code",
      "source": [
        "def __init__(self, iterable):\n",
        "  # don't type check iterable is iterable\n",
        "  # just use list to see whether iterable is iterable\n",
        "  self._balls = list(iterable)\n"
      ],
      "metadata": {
        "id": "3j4OxiJ-qHc9"
      },
      "execution_count": null,
      "outputs": []
    },
    {
      "cell_type": "markdown",
      "source": [
        "## Goose Typing"
      ],
      "metadata": {
        "id": "ImT-v4pwwha4"
      }
    },
    {
      "cell_type": "code",
      "source": [
        "class Struggle:\n",
        "  def __len__(self): return 23"
      ],
      "metadata": {
        "id": "7JS0Bpf0wiN3"
      },
      "execution_count": 20,
      "outputs": []
    },
    {
      "cell_type": "code",
      "source": [
        "from collections import abc\n",
        "isinstance(Struggle(), abc.Sized)"
      ],
      "metadata": {
        "colab": {
          "base_uri": "https://localhost:8080/"
        },
        "id": "1dSMp6hU6UR1",
        "outputId": "f6bca368-67f0-4e0a-ac9d-1a96d36a7a6d"
      },
      "execution_count": 21,
      "outputs": [
        {
          "output_type": "execute_result",
          "data": {
            "text/plain": [
              "True"
            ]
          },
          "metadata": {},
          "execution_count": 21
        }
      ]
    },
    {
      "cell_type": "code",
      "source": [
        "from collections import namedtuple, abc\n",
        "\n",
        "Card = namedtuple('Card', ['rank', 'suit'])\n",
        "\n",
        "# not check for the implementation of the abstract methods at import time\n",
        "# but only at runtime when we actually try to instantiate FrenchDeck2\n",
        "class FrenchDeck2(abc.MutableSequence):\n",
        "  ranks = [str(n) for n in range(2, 11)] + list('JQKA')\n",
        "  suits = 'spades diamonds clubs hearts'.split()\n",
        "\n",
        "  def __init__(self):\n",
        "    self._cards = [Card(rank, suit) for suit in self.suits for rank in self.ranks]\n",
        "\n",
        "  def __len__(self):\n",
        "    return len(self._cards)\n",
        "\n",
        "  def __getitem__(self, position):\n",
        "    return self._cards[position]\n",
        "\n",
        "  def __setitem__(self, position, value):\n",
        "    self._cards[position] = value\n",
        "\n",
        "  def __delitem__(self, position):\n",
        "    del self._cards[position]\n",
        "\n",
        "  def insert(self, position, value):\n",
        "    self._cards.insert(position, value)"
      ],
      "metadata": {
        "id": "67yK_mKo6X6D"
      },
      "execution_count": 22,
      "outputs": []
    },
    {
      "cell_type": "code",
      "source": [],
      "metadata": {
        "id": "jYGnjSpT8hb4"
      },
      "execution_count": null,
      "outputs": []
    }
  ]
}