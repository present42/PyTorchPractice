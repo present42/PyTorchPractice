{
  "nbformat": 4,
  "nbformat_minor": 0,
  "metadata": {
    "colab": {
      "provenance": [],
      "authorship_tag": "ABX9TyN2UMSRygrruFl/KC3t8yMy"
    },
    "kernelspec": {
      "name": "python3",
      "display_name": "Python 3"
    },
    "language_info": {
      "name": "python"
    }
  },
  "cells": [
    {
      "cell_type": "markdown",
      "source": [
        "# Chapter 20. Concurrent Execution"
      ],
      "metadata": {
        "id": "jI5LFWi-8mZb"
      }
    },
    {
      "cell_type": "markdown",
      "source": [
        "This chapter focuses on `concurrent.futures.Executor` classes that encapuslate the pattern of \"spawning a bunch of independent threads and collecting the results in a queue\"\n",
        "\n",
        "Here the author introduces the concept of \"futures\"--objects representing the asynchronous execution of an operation, similar to JS promises.\n",
        "\n",
        "Executors are the most important high-level feature while futures are low-level objects."
      ],
      "metadata": {
        "id": "bekz_MFm84sx"
      }
    },
    {
      "cell_type": "markdown",
      "source": [
        "## Concurrent Web Downloads\n",
        "\n",
        "Concurrency is essential for efficient network I/O: instead of idly waiting for remote machines, the application should do sth else until a response comes back.\n",
        "\n",
        "Three simples programs to download images of 20 country flags from the web\n",
        " - `flags.py`: runs sequentially\n",
        " - `flags_threadpool.py` uses the `concurrent.futures` pacakge\n",
        " - `flags_asyncio.py` uses the `asyncio`"
      ],
      "metadata": {
        "id": "vqVcUlOI9czu"
      }
    },
    {
      "cell_type": "markdown",
      "source": [
        "### A Sequential Download Script"
      ],
      "metadata": {
        "id": "IoDIWaO--W4C"
      }
    },
    {
      "cell_type": "code",
      "source": [
        "!pip install httpx"
      ],
      "metadata": {
        "collapsed": true,
        "colab": {
          "base_uri": "https://localhost:8080/"
        },
        "id": "c35kvnyfA9sH",
        "outputId": "284cf98e-771e-41c9-b409-3644c017ea49"
      },
      "execution_count": 2,
      "outputs": [
        {
          "output_type": "stream",
          "name": "stdout",
          "text": [
            "Collecting httpx\n",
            "  Downloading httpx-0.27.0-py3-none-any.whl (75 kB)\n",
            "\u001b[?25l     \u001b[90m━━━━━━━━━━━━━━━━━━━━━━━━━━━━━━━━━━━━━━━━\u001b[0m \u001b[32m0.0/75.6 kB\u001b[0m \u001b[31m?\u001b[0m eta \u001b[36m-:--:--\u001b[0m\r\u001b[2K     \u001b[90m━━━━━━━━━━━━━━━━━━━━━━━━━━━━━━━━━━━━━━━━\u001b[0m \u001b[32m75.6/75.6 kB\u001b[0m \u001b[31m2.3 MB/s\u001b[0m eta \u001b[36m0:00:00\u001b[0m\n",
            "\u001b[?25hRequirement already satisfied: anyio in /usr/local/lib/python3.10/dist-packages (from httpx) (3.7.1)\n",
            "Requirement already satisfied: certifi in /usr/local/lib/python3.10/dist-packages (from httpx) (2024.2.2)\n",
            "Collecting httpcore==1.* (from httpx)\n",
            "  Downloading httpcore-1.0.5-py3-none-any.whl (77 kB)\n",
            "\u001b[2K     \u001b[90m━━━━━━━━━━━━━━━━━━━━━━━━━━━━━━━━━━━━━━━━\u001b[0m \u001b[32m77.9/77.9 kB\u001b[0m \u001b[31m4.7 MB/s\u001b[0m eta \u001b[36m0:00:00\u001b[0m\n",
            "\u001b[?25hRequirement already satisfied: idna in /usr/local/lib/python3.10/dist-packages (from httpx) (3.7)\n",
            "Requirement already satisfied: sniffio in /usr/local/lib/python3.10/dist-packages (from httpx) (1.3.1)\n",
            "Collecting h11<0.15,>=0.13 (from httpcore==1.*->httpx)\n",
            "  Downloading h11-0.14.0-py3-none-any.whl (58 kB)\n",
            "\u001b[2K     \u001b[90m━━━━━━━━━━━━━━━━━━━━━━━━━━━━━━━━━━━━━━━━\u001b[0m \u001b[32m58.3/58.3 kB\u001b[0m \u001b[31m5.1 MB/s\u001b[0m eta \u001b[36m0:00:00\u001b[0m\n",
            "\u001b[?25hRequirement already satisfied: exceptiongroup in /usr/local/lib/python3.10/dist-packages (from anyio->httpx) (1.2.1)\n",
            "Installing collected packages: h11, httpcore, httpx\n",
            "Successfully installed h11-0.14.0 httpcore-1.0.5 httpx-0.27.0\n"
          ]
        }
      ]
    },
    {
      "cell_type": "code",
      "source": [
        "import time\n",
        "from pathlib import Path\n",
        "from typing import Callable\n",
        "\n",
        "import httpx\n",
        "\n",
        "POP20_CC = ('CN IN US ID BR PK NG BD RU KR '\n",
        "            'MX PH VN ET EG DE IR TR CD FR').split()\n",
        "\n",
        "BASE_URL = 'https://www.fluentpython.com/data/flags'\n",
        "DEST_DIR = Path('downloaded')\n",
        "\n",
        "# save the img bytes to filename in the DEST_DIR\n",
        "def save_flag(img: bytes, filenames: str) -> None:\n",
        "  (DEST_DIR / filename).write_bytes(img)\n",
        "\n",
        "def get_flag(cc: str) -> bytes:\n",
        "  url = f'{BASE_URL}/{cc}/{cc}.gif'.lower()\n",
        "  resp = httpx.get(url, timeout=6.1, # it's a good practice to add a sensible timeout\n",
        "                   follow_redirects=True) # By default, HTTPX does not follow redirects\n",
        "  resp.raise_for_status()\n",
        "  return resp.content\n",
        "\n",
        "# key function to compare with the concurrent implementations\n",
        "def download_many(cc_list: list[str]) -> int:\n",
        "  for cc in sorted(cc_list):\n",
        "    image = get_flag(cc)\n",
        "    save_flag(image, f'{cc}.gif')\n",
        "    print(cc, end=\" \", flush=True) # display one country code at a time in the same line\n",
        "                                   # flush=True is needed because by default Python output is line buffered\n",
        "  return len(cc_list)\n",
        "\n",
        "def main(downloader: Callable[[list[str]], int]) -> None:\n",
        "  DEST_DIR.mkdir(exist_ok=True)\n",
        "  t0 = time.perf_counter()\n",
        "  count = downloader(POP20_CC)\n",
        "  elapsed = time.perf_counter() - t0\n",
        "  print(f\"\\n{count} downloads in {elapsed:.2f}s\")\n",
        "\n",
        "if __name__ == \"__main__\":\n",
        "  main(download_many)\n"
      ],
      "metadata": {
        "id": "A9JAwPWQ-WsZ"
      },
      "execution_count": null,
      "outputs": []
    },
    {
      "cell_type": "code",
      "execution_count": 4,
      "metadata": {
        "colab": {
          "base_uri": "https://localhost:8080/"
        },
        "id": "fuEwg8zw8kL4",
        "outputId": "18a17f53-2bcf-4526-e112-c139a0010934"
      },
      "outputs": [
        {
          "output_type": "stream",
          "name": "stdout",
          "text": [
            "BD BR CD CN DE EG ET FR ID IN IR KR MX NG PH PK RU TR US VN \n",
            "20 downloads in 6.43s\n"
          ]
        }
      ],
      "source": [
        "!python flags.py"
      ]
    },
    {
      "cell_type": "markdown",
      "source": [
        "### Downloading with concurrent.futures"
      ],
      "metadata": {
        "id": "NZENI7MNBVjg"
      }
    },
    {
      "cell_type": "markdown",
      "source": [
        "Main Features: `ThreadPoolExecutor` and `ProcessPoolExectuor` classes, which implement an API to submit cllables for execution in different threads or processes. The classes transparently manage a pool of worker threads or processes, and queues to distribute jobs and collect results."
      ],
      "metadata": {
        "id": "GDYjWHmrBYPQ"
      }
    },
    {
      "cell_type": "code",
      "source": [
        "# flags_threadpool.py\n",
        "from concurrent import futures\n",
        "\n",
        "from flags import save_flag, get_flag, main\n",
        "\n",
        "def download_one(cc: str):\n",
        "  image = get_flag(cc)\n",
        "  save_flag(image, f'{cc}.gif')\n",
        "  print(cc, end=\" \", flush=True)\n",
        "  return cc\n",
        "\n",
        "def download_many(cc_list: list[str]) -> int:\n",
        "  # instantiate the thread pool executor as a context manager\n",
        "  # exectuor.__exit__ will call executor.shutdown(wait=True) which will block until all threads are done\n",
        "  with futures.ThreadPoolExecutor() as executor:\n",
        "    res = executor.map(download_one, sorted(cc_list))\n",
        "\n",
        "  return len(list(res))\n",
        "\n",
        "if __name__ == \"__main__\":\n",
        "  main(download_many)\n",
        "\n"
      ],
      "metadata": {
        "id": "IOEmKlPTA70y"
      },
      "execution_count": null,
      "outputs": []
    },
    {
      "cell_type": "code",
      "source": [
        "!python flags_threadpool.py"
      ],
      "metadata": {
        "colab": {
          "base_uri": "https://localhost:8080/"
        },
        "id": "yt_hc9R0C5HQ",
        "outputId": "dd97d199-65b7-49c2-9c80-3dd6e1274df4"
      },
      "execution_count": 8,
      "outputs": [
        {
          "output_type": "stream",
          "name": "stdout",
          "text": [
            "BD CN DE BR EG CD ET ID FR KR IN IR MX NG PH RU PK TR US VN \n",
            "20 downloads in 1.29s\n"
          ]
        }
      ]
    },
    {
      "cell_type": "code",
      "source": [
        "import os\n",
        "os.cpu_count() + 4"
      ],
      "metadata": {
        "colab": {
          "base_uri": "https://localhost:8080/"
        },
        "id": "DxdiwF5EC_xi",
        "outputId": "d8bb7d9d-122a-429e-91df-bb50d351208e"
      },
      "execution_count": 9,
      "outputs": [
        {
          "output_type": "execute_result",
          "data": {
            "text/plain": [
              "6"
            ]
          },
          "metadata": {},
          "execution_count": 9
        }
      ]
    },
    {
      "cell_type": "code",
      "source": [],
      "metadata": {
        "id": "4jSjKgBPDQ9g"
      },
      "execution_count": null,
      "outputs": []
    }
  ]
}