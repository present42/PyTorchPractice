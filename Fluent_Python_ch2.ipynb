{
  "nbformat": 4,
  "nbformat_minor": 0,
  "metadata": {
    "colab": {
      "provenance": [],
      "authorship_tag": "ABX9TyM5+BITCA3C3DrX/dQVIRY2",
      "include_colab_link": true
    },
    "kernelspec": {
      "name": "python3",
      "display_name": "Python 3"
    },
    "language_info": {
      "name": "python"
    }
  },
  "cells": [
    {
      "cell_type": "markdown",
      "metadata": {
        "id": "view-in-github",
        "colab_type": "text"
      },
      "source": [
        "<a href=\"https://colab.research.google.com/github/present42/PyTorchPractice/blob/main/Fluent_Python_ch2.ipynb\" target=\"_parent\"><img src=\"https://colab.research.google.com/assets/colab-badge.svg\" alt=\"Open In Colab\"/></a>"
      ]
    },
    {
      "cell_type": "markdown",
      "source": [
        "## First way of grouping sequence types\n",
        "* Container Sequences\n",
        " - e.g. `list`, `tuple`, `collections.deque`\n",
        " - can hold heterogenous items\n",
        "\n",
        "* Flat Sequences\n",
        " - e.g. `str`, `bytes`, `array.array`\n",
        " - hold items of one simple type\n",
        "\n",
        "## Second way of grouping sequence types\n",
        "* Mutable Sequences\n",
        " - e.g. `list`, `bytearray`, `array.array`, `collections.deque`\n",
        "* Immutable Sequences\n",
        " - e.g. `tuple`, `str`, `bytes`"
      ],
      "metadata": {
        "id": "kyiX4PfjN7vV"
      }
    },
    {
      "cell_type": "code",
      "execution_count": 1,
      "metadata": {
        "id": "VMOMbbvjN5cT"
      },
      "outputs": [],
      "source": [
        "from collections import abc"
      ]
    },
    {
      "cell_type": "markdown",
      "source": [
        "built-in concrete sequence types are *virtual subclasses* of `MutableSequence`, `Sequence`"
      ],
      "metadata": {
        "id": "Y-GPe_fuO0ep"
      }
    },
    {
      "cell_type": "code",
      "source": [
        "issubclass(tuple, abc.Sequence)\n",
        "# issubclass(list, abc.Sequence)"
      ],
      "metadata": {
        "colab": {
          "base_uri": "https://localhost:8080/"
        },
        "id": "lRwPDaYZOxy3",
        "outputId": "24b31018-d5c9-41ad-f314-0b21902f448c"
      },
      "execution_count": 6,
      "outputs": [
        {
          "output_type": "execute_result",
          "data": {
            "text/plain": [
              "True"
            ]
          },
          "metadata": {},
          "execution_count": 6
        }
      ]
    },
    {
      "cell_type": "code",
      "source": [],
      "metadata": {
        "id": "4UrCJUYzQvbY"
      },
      "execution_count": null,
      "outputs": []
    }
  ]
}