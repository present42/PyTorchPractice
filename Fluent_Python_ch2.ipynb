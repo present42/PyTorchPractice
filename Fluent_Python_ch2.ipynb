{
  "nbformat": 4,
  "nbformat_minor": 0,
  "metadata": {
    "colab": {
      "provenance": [],
      "authorship_tag": "ABX9TyOoC448KbJp4bs0A43SqxGy",
      "include_colab_link": true
    },
    "kernelspec": {
      "name": "python3",
      "display_name": "Python 3"
    },
    "language_info": {
      "name": "python"
    }
  },
  "cells": [
    {
      "cell_type": "markdown",
      "metadata": {
        "id": "view-in-github",
        "colab_type": "text"
      },
      "source": [
        "<a href=\"https://colab.research.google.com/github/present42/PyTorchPractice/blob/main/Fluent_Python_ch2.ipynb\" target=\"_parent\"><img src=\"https://colab.research.google.com/assets/colab-badge.svg\" alt=\"Open In Colab\"/></a>"
      ]
    },
    {
      "cell_type": "markdown",
      "source": [
        "## First way of grouping sequence types\n",
        "* Container Sequences\n",
        " - e.g. `list`, `tuple`, `collections.deque`\n",
        " - can hold heterogenous items\n",
        "\n",
        "* Flat Sequences\n",
        " - e.g. `str`, `bytes`, `array.array`\n",
        " - hold items of one simple type\n",
        "\n",
        "## Second way of grouping sequence types\n",
        "* Mutable Sequences\n",
        " - e.g. `list`, `bytearray`, `array.array`, `collections.deque`\n",
        "* Immutable Sequences\n",
        " - e.g. `tuple`, `str`, `bytes`"
      ],
      "metadata": {
        "id": "kyiX4PfjN7vV"
      }
    },
    {
      "cell_type": "code",
      "execution_count": null,
      "metadata": {
        "id": "VMOMbbvjN5cT"
      },
      "outputs": [],
      "source": [
        "from collections import abc"
      ]
    },
    {
      "cell_type": "markdown",
      "source": [
        "built-in concrete sequence types are *virtual subclasses* of `MutableSequence`, `Sequence`"
      ],
      "metadata": {
        "id": "Y-GPe_fuO0ep"
      }
    },
    {
      "cell_type": "code",
      "source": [
        "issubclass(tuple, abc.Sequence)\n",
        "# issubclass(list, abc.Sequence)"
      ],
      "metadata": {
        "colab": {
          "base_uri": "https://localhost:8080/"
        },
        "id": "lRwPDaYZOxy3",
        "outputId": "24b31018-d5c9-41ad-f314-0b21902f448c"
      },
      "execution_count": null,
      "outputs": [
        {
          "output_type": "execute_result",
          "data": {
            "text/plain": [
              "True"
            ]
          },
          "metadata": {},
          "execution_count": 6
        }
      ]
    },
    {
      "cell_type": "code",
      "source": [
        "x = 'ABC'\n",
        "codes = [ord(x) for x in x]"
      ],
      "metadata": {
        "id": "4UrCJUYzQvbY"
      },
      "execution_count": 1,
      "outputs": []
    },
    {
      "cell_type": "code",
      "source": [
        "codes = [last := ord(c) for c in x]"
      ],
      "metadata": {
        "id": "S7sTWEI3irij"
      },
      "execution_count": 4,
      "outputs": []
    },
    {
      "cell_type": "code",
      "source": [
        "last"
      ],
      "metadata": {
        "colab": {
          "base_uri": "https://localhost:8080/"
        },
        "id": "Z_8iU6acisla",
        "outputId": "892ea908-295d-401e-b049-1019aca5f2e4"
      },
      "execution_count": 5,
      "outputs": [
        {
          "output_type": "execute_result",
          "data": {
            "text/plain": [
              "67"
            ]
          },
          "metadata": {},
          "execution_count": 5
        }
      ]
    },
    {
      "cell_type": "code",
      "source": [
        "codes"
      ],
      "metadata": {
        "colab": {
          "base_uri": "https://localhost:8080/"
        },
        "id": "g5qndYXXivdx",
        "outputId": "246c6cbf-397e-43b7-c6de-ad7d0d5acd51"
      },
      "execution_count": 6,
      "outputs": [
        {
          "output_type": "execute_result",
          "data": {
            "text/plain": [
              "[65, 66, 67]"
            ]
          },
          "metadata": {},
          "execution_count": 6
        }
      ]
    },
    {
      "cell_type": "code",
      "source": [
        "symbols = \"$¢£¤¥¦§\"\n",
        "beyond_ascii = [ord(s) for s in symbols if ord(s) > 127]\n",
        "beyond_ascii"
      ],
      "metadata": {
        "colab": {
          "base_uri": "https://localhost:8080/"
        },
        "id": "zpZQXIHOjFtB",
        "outputId": "ca4d40df-c26b-45b5-cee4-0537cb0d246f"
      },
      "execution_count": 10,
      "outputs": [
        {
          "output_type": "execute_result",
          "data": {
            "text/plain": [
              "[162, 163, 164, 165, 166, 167]"
            ]
          },
          "metadata": {},
          "execution_count": 10
        }
      ]
    },
    {
      "cell_type": "code",
      "source": [
        "beyond_ascii = list(filter(lambda c: c > 127, map(ord, symbols)))"
      ],
      "metadata": {
        "id": "qoYzrU_Mjn_p"
      },
      "execution_count": 12,
      "outputs": []
    },
    {
      "cell_type": "code",
      "source": [
        "beyond_ascii"
      ],
      "metadata": {
        "colab": {
          "base_uri": "https://localhost:8080/"
        },
        "id": "aXBiBCfskABl",
        "outputId": "9b645d7a-6bb1-4a9f-9b0a-b87bd8fabf74"
      },
      "execution_count": 13,
      "outputs": [
        {
          "output_type": "execute_result",
          "data": {
            "text/plain": [
              "[162, 163, 164, 165, 166, 167]"
            ]
          },
          "metadata": {},
          "execution_count": 13
        }
      ]
    },
    {
      "cell_type": "code",
      "source": [
        "%%timeit\n",
        "beyond_ascii = [ord(s) for s in symbols if ord(s) > 127]"
      ],
      "metadata": {
        "colab": {
          "base_uri": "https://localhost:8080/"
        },
        "id": "aEneWEvbkGZR",
        "outputId": "9084db2f-4ff5-45d4-a90b-75d3b09c85ba"
      },
      "execution_count": 14,
      "outputs": [
        {
          "output_type": "stream",
          "name": "stdout",
          "text": [
            "1.14 µs ± 105 ns per loop (mean ± std. dev. of 7 runs, 1000000 loops each)\n"
          ]
        }
      ]
    },
    {
      "cell_type": "code",
      "source": [
        "%%timeit\n",
        "beyond_ascii = list(filter(lambda c: c > 127, map(ord, symbols)))"
      ],
      "metadata": {
        "colab": {
          "base_uri": "https://localhost:8080/"
        },
        "id": "bEa6mZFikMRo",
        "outputId": "c72337d0-e939-4a5a-8139-cb2ca1050aa2"
      },
      "execution_count": 15,
      "outputs": [
        {
          "output_type": "stream",
          "name": "stdout",
          "text": [
            "1.37 µs ± 312 ns per loop (mean ± std. dev. of 7 runs, 1000000 loops each)\n"
          ]
        }
      ]
    },
    {
      "cell_type": "code",
      "source": [
        "colors = ['black', 'white']\n",
        "sizes = ['S', 'M', 'L']\n",
        "tshirts = [(color, size) for color in colors for size in sizes]"
      ],
      "metadata": {
        "id": "yS_r3IBFkOhA"
      },
      "execution_count": 16,
      "outputs": []
    },
    {
      "cell_type": "code",
      "source": [
        "tshirts"
      ],
      "metadata": {
        "colab": {
          "base_uri": "https://localhost:8080/"
        },
        "id": "vjcfZ8-gkjiA",
        "outputId": "9fc8d473-c9cd-493b-b048-9598cd2b1f74"
      },
      "execution_count": 17,
      "outputs": [
        {
          "output_type": "execute_result",
          "data": {
            "text/plain": [
              "[('black', 'S'),\n",
              " ('black', 'M'),\n",
              " ('black', 'L'),\n",
              " ('white', 'S'),\n",
              " ('white', 'M'),\n",
              " ('white', 'L')]"
            ]
          },
          "metadata": {},
          "execution_count": 17
        }
      ]
    },
    {
      "cell_type": "code",
      "source": [
        "tshirts = [(color, size) for size in sizes\n",
        "                          for color in colors]"
      ],
      "metadata": {
        "id": "Wc9q9D3xkkOw"
      },
      "execution_count": 18,
      "outputs": []
    },
    {
      "cell_type": "code",
      "source": [
        "tshirts"
      ],
      "metadata": {
        "colab": {
          "base_uri": "https://localhost:8080/"
        },
        "id": "xBHl5vLEkxyf",
        "outputId": "5992d02d-396d-4d89-828a-0728b6d521d1"
      },
      "execution_count": 19,
      "outputs": [
        {
          "output_type": "execute_result",
          "data": {
            "text/plain": [
              "[('black', 'S'),\n",
              " ('white', 'S'),\n",
              " ('black', 'M'),\n",
              " ('white', 'M'),\n",
              " ('black', 'L'),\n",
              " ('white', 'L')]"
            ]
          },
          "metadata": {},
          "execution_count": 19
        }
      ]
    },
    {
      "cell_type": "markdown",
      "source": [
        "## Generator Expressions\n",
        " - It saves memory because it yields items one by one using the iterator protocol instead of building a whole list just to feed another constructor"
      ],
      "metadata": {
        "id": "ST8zcoVuk63m"
      }
    },
    {
      "cell_type": "code",
      "source": [
        "symbols = \"$¢£¤¥¦§\"\n",
        "tuple(ord(symbol) for symbol in symbols)\n",
        "\n",
        "import array\n",
        "array.array('I', (ord(symbol) for symbol in symbols))"
      ],
      "metadata": {
        "colab": {
          "base_uri": "https://localhost:8080/"
        },
        "id": "dqWmp11ykycn",
        "outputId": "c92a5dd7-df20-4a4a-c983-1d86cb029693"
      },
      "execution_count": 22,
      "outputs": [
        {
          "output_type": "execute_result",
          "data": {
            "text/plain": [
              "array('I', [36, 162, 163, 164, 165, 166, 167])"
            ]
          },
          "metadata": {},
          "execution_count": 22
        }
      ]
    },
    {
      "cell_type": "code",
      "source": [
        "for tshirt in (f'{c} {s}' for c in colors for s in sizes):\n",
        "  print(tshirt)"
      ],
      "metadata": {
        "colab": {
          "base_uri": "https://localhost:8080/"
        },
        "id": "3d1tbXi7lQCI",
        "outputId": "c31390e6-a203-4b34-e543-da6b90b74a44"
      },
      "execution_count": 23,
      "outputs": [
        {
          "output_type": "stream",
          "name": "stdout",
          "text": [
            "black S\n",
            "black M\n",
            "black L\n",
            "white S\n",
            "white M\n",
            "white L\n"
          ]
        }
      ]
    },
    {
      "cell_type": "code",
      "source": [
        "type(f'{c} {s}' for c in colors for s in sizes)"
      ],
      "metadata": {
        "colab": {
          "base_uri": "https://localhost:8080/"
        },
        "id": "3SJWNgjdlva4",
        "outputId": "169f92d1-ac4b-4948-f821-6036875ce68b"
      },
      "execution_count": 24,
      "outputs": [
        {
          "output_type": "execute_result",
          "data": {
            "text/plain": [
              "generator"
            ]
          },
          "metadata": {},
          "execution_count": 24
        }
      ]
    },
    {
      "cell_type": "markdown",
      "source": [
        "## Tuples Are Not Just Immutable Lists\n",
        " - also used as records with no field names"
      ],
      "metadata": {
        "id": "b8ETr-hLl62R"
      }
    },
    {
      "cell_type": "code",
      "source": [
        "lax_coordinates = (33.9425, -118.408056)\n",
        "city, year, pop, chg, area = ('Tokyo', 2003, 32_450, 0.66, 8014)\n",
        "traveler_ids = [('USA', '3192319'), ('BRA', 'CE230124'), ('ESP', 'XDA12031')]\n",
        "for passport in sorted(traveler_ids):\n",
        "  print('%s/%s' % passport)"
      ],
      "metadata": {
        "colab": {
          "base_uri": "https://localhost:8080/"
        },
        "id": "P33Vt9Fely1J",
        "outputId": "f1ea6fb3-1307-488a-9418-2c0553f78639"
      },
      "execution_count": 26,
      "outputs": [
        {
          "output_type": "stream",
          "name": "stdout",
          "text": [
            "BRA/CE230124\n",
            "ESP/XDA12031\n",
            "USA/3192319\n"
          ]
        }
      ]
    },
    {
      "cell_type": "code",
      "source": [
        "for country, _ in traveler_ids: # unpacking\n",
        "  print(country)"
      ],
      "metadata": {
        "colab": {
          "base_uri": "https://localhost:8080/"
        },
        "id": "ThckGzdimiTg",
        "outputId": "6c10d7dc-05db-4af4-d9cf-d610dee97ff0"
      },
      "execution_count": 29,
      "outputs": [
        {
          "output_type": "stream",
          "name": "stdout",
          "text": [
            "USA\n",
            "BRA\n",
            "ESP\n"
          ]
        }
      ]
    },
    {
      "cell_type": "markdown",
      "source": [
        "### Tuples as Immutable Lists\n",
        " - Clarity\n",
        " - Performance: uses less memory than a list of the same length, allows Python to do some optimization"
      ],
      "metadata": {
        "id": "BAtrFx_5naqT"
      }
    },
    {
      "cell_type": "code",
      "source": [
        "a = (10, 'alpha', [1, 2])\n",
        "b = (10, 'alpha', [1, 2])"
      ],
      "metadata": {
        "id": "MsHE8Hh2my5R"
      },
      "execution_count": 32,
      "outputs": []
    },
    {
      "cell_type": "code",
      "source": [
        "a == b"
      ],
      "metadata": {
        "colab": {
          "base_uri": "https://localhost:8080/"
        },
        "id": "i3E4OSFCm8eo",
        "outputId": "7b15fa0c-df96-4ff3-b757-499c3bd0cfc2"
      },
      "execution_count": 33,
      "outputs": [
        {
          "output_type": "execute_result",
          "data": {
            "text/plain": [
              "True"
            ]
          },
          "metadata": {},
          "execution_count": 33
        }
      ]
    },
    {
      "cell_type": "markdown",
      "source": [
        "### Caveat\n",
        "- Tuples with mutable items can be a source of bugs!!!"
      ],
      "metadata": {
        "id": "MEixbS3NoG1f"
      }
    },
    {
      "cell_type": "code",
      "source": [
        "b[-1].append(99)"
      ],
      "metadata": {
        "id": "FGhxpWaGn_g_"
      },
      "execution_count": 34,
      "outputs": []
    },
    {
      "cell_type": "code",
      "source": [
        "a == b"
      ],
      "metadata": {
        "colab": {
          "base_uri": "https://localhost:8080/"
        },
        "id": "HfN8HRhUoBg_",
        "outputId": "3fcb5837-45a7-44b1-f16d-40847c415441"
      },
      "execution_count": 35,
      "outputs": [
        {
          "output_type": "execute_result",
          "data": {
            "text/plain": [
              "False"
            ]
          },
          "metadata": {},
          "execution_count": 35
        }
      ]
    },
    {
      "cell_type": "code",
      "source": [
        "b"
      ],
      "metadata": {
        "colab": {
          "base_uri": "https://localhost:8080/"
        },
        "id": "rYy4SzlToB_P",
        "outputId": "35de7730-baf4-4960-e494-395ca3b2ada9"
      },
      "execution_count": 36,
      "outputs": [
        {
          "output_type": "execute_result",
          "data": {
            "text/plain": [
              "(10, 'alpha', [1, 2, 99])"
            ]
          },
          "metadata": {},
          "execution_count": 36
        }
      ]
    },
    {
      "cell_type": "code",
      "source": [
        "def fixed(o):\n",
        "  try:\n",
        "    hash(o)\n",
        "  except TypeError:\n",
        "    return False\n",
        "  return True"
      ],
      "metadata": {
        "id": "rA6YimvgoDmg"
      },
      "execution_count": 37,
      "outputs": []
    },
    {
      "cell_type": "markdown",
      "source": [
        "#### `hash()`\n",
        " - An object is only hashable if its value cannot ever change"
      ],
      "metadata": {
        "id": "eF_6yZZnohyt"
      }
    },
    {
      "cell_type": "code",
      "source": [
        "tf = (10, 'alpha', (1, 2))\n",
        "tm = (10, 'alpha', [1, 2])"
      ],
      "metadata": {
        "id": "JrjopaLeoUSI"
      },
      "execution_count": 38,
      "outputs": []
    },
    {
      "cell_type": "code",
      "source": [
        "fixed(tf)"
      ],
      "metadata": {
        "colab": {
          "base_uri": "https://localhost:8080/"
        },
        "id": "7ZU-FwFVoYZv",
        "outputId": "2f7b22f1-5546-4426-b84f-7d8637e194f3"
      },
      "execution_count": 39,
      "outputs": [
        {
          "output_type": "execute_result",
          "data": {
            "text/plain": [
              "True"
            ]
          },
          "metadata": {},
          "execution_count": 39
        }
      ]
    },
    {
      "cell_type": "code",
      "source": [
        "fixed(tm)"
      ],
      "metadata": {
        "colab": {
          "base_uri": "https://localhost:8080/"
        },
        "id": "z6waKVSPob9f",
        "outputId": "d512bda3-8782-46c8-ad56-f8bb21063ea5"
      },
      "execution_count": 40,
      "outputs": [
        {
          "output_type": "execute_result",
          "data": {
            "text/plain": [
              "False"
            ]
          },
          "metadata": {},
          "execution_count": 40
        }
      ]
    },
    {
      "cell_type": "code",
      "source": [
        "lax_coordinates = (33.9425, -118.408056)"
      ],
      "metadata": {
        "id": "nMMgY77Wocw4"
      },
      "execution_count": 1,
      "outputs": []
    },
    {
      "cell_type": "code",
      "source": [
        "latitude, longitude = lax_coordinates"
      ],
      "metadata": {
        "id": "AoUbjFfQHKOb"
      },
      "execution_count": 3,
      "outputs": []
    },
    {
      "cell_type": "code",
      "source": [
        "a = 3\n",
        "b = 5\n",
        "b, a = a, b\n",
        "print(a, b)"
      ],
      "metadata": {
        "colab": {
          "base_uri": "https://localhost:8080/"
        },
        "id": "xJBcq7nCHNzz",
        "outputId": "db45cf89-0390-4c2a-a36c-5599ab72209a"
      },
      "execution_count": 5,
      "outputs": [
        {
          "output_type": "stream",
          "name": "stdout",
          "text": [
            "5 3\n"
          ]
        }
      ]
    },
    {
      "cell_type": "code",
      "source": [
        "divmod(20, 8)"
      ],
      "metadata": {
        "colab": {
          "base_uri": "https://localhost:8080/"
        },
        "id": "9BjvJY6eHQuj",
        "outputId": "1cb04735-3cd1-41ac-b221-1258db887e93"
      },
      "execution_count": 6,
      "outputs": [
        {
          "output_type": "execute_result",
          "data": {
            "text/plain": [
              "(2, 4)"
            ]
          },
          "metadata": {},
          "execution_count": 6
        }
      ]
    },
    {
      "cell_type": "code",
      "source": [
        "t = (20, 8)"
      ],
      "metadata": {
        "id": "RsNoK-n7HZNb"
      },
      "execution_count": 7,
      "outputs": []
    },
    {
      "cell_type": "code",
      "source": [
        "divmod(*t)"
      ],
      "metadata": {
        "colab": {
          "base_uri": "https://localhost:8080/"
        },
        "id": "F-CNHXgRHb4c",
        "outputId": "94b3542b-a990-4b32-c00a-e5964f513a55"
      },
      "execution_count": 8,
      "outputs": [
        {
          "output_type": "execute_result",
          "data": {
            "text/plain": [
              "(2, 4)"
            ]
          },
          "metadata": {},
          "execution_count": 8
        }
      ]
    },
    {
      "cell_type": "code",
      "source": [
        "quotient, remainder = divmod(*t)"
      ],
      "metadata": {
        "id": "IGjUCJWpHdCD"
      },
      "execution_count": 9,
      "outputs": []
    },
    {
      "cell_type": "code",
      "source": [
        "quotient, remainder"
      ],
      "metadata": {
        "colab": {
          "base_uri": "https://localhost:8080/"
        },
        "id": "x8CalfcvHg_k",
        "outputId": "2723cf36-a6d2-444b-9097-71805c2490d1"
      },
      "execution_count": 10,
      "outputs": [
        {
          "output_type": "execute_result",
          "data": {
            "text/plain": [
              "(2, 4)"
            ]
          },
          "metadata": {},
          "execution_count": 10
        }
      ]
    },
    {
      "cell_type": "code",
      "source": [
        "import os"
      ],
      "metadata": {
        "id": "ZXD_d1qYHibL"
      },
      "execution_count": 11,
      "outputs": []
    },
    {
      "cell_type": "code",
      "source": [
        "_, filename = os.path.split('/home/george/.ssh/id_rsa.pub')\n",
        "filename"
      ],
      "metadata": {
        "colab": {
          "base_uri": "https://localhost:8080/",
          "height": 36
        },
        "id": "YJNaJRcHHntU",
        "outputId": "6af2b5ce-5d6f-4dce-92ad-5d405e44c5d0"
      },
      "execution_count": 12,
      "outputs": [
        {
          "output_type": "execute_result",
          "data": {
            "text/plain": [
              "'id_rsa.pub'"
            ],
            "application/vnd.google.colaboratory.intrinsic+json": {
              "type": "string"
            }
          },
          "metadata": {},
          "execution_count": 12
        }
      ]
    },
    {
      "cell_type": "code",
      "source": [
        "a, b, *rest = range(5)"
      ],
      "metadata": {
        "id": "TYWjzgdfHs77"
      },
      "execution_count": 18,
      "outputs": []
    },
    {
      "cell_type": "code",
      "source": [
        "a, b, *rest = range(3)\n",
        "a, b, rest"
      ],
      "metadata": {
        "colab": {
          "base_uri": "https://localhost:8080/"
        },
        "id": "KQiYeM8aH08D",
        "outputId": "3a19ee9c-4ee8-41ae-bcee-f0c3678cd7e7"
      },
      "execution_count": 21,
      "outputs": [
        {
          "output_type": "execute_result",
          "data": {
            "text/plain": [
              "(0, 1, [2])"
            ]
          },
          "metadata": {},
          "execution_count": 21
        }
      ]
    },
    {
      "cell_type": "code",
      "source": [
        "a, b, *c = range(2)"
      ],
      "metadata": {
        "id": "umtKZ7TuH2Cs"
      },
      "execution_count": 26,
      "outputs": []
    },
    {
      "cell_type": "code",
      "source": [
        "a, *b, c = range(2)"
      ],
      "metadata": {
        "id": "AGDjwokNH_i9"
      },
      "execution_count": 27,
      "outputs": []
    },
    {
      "cell_type": "code",
      "source": [
        "*head, b, c, d = range(5)"
      ],
      "metadata": {
        "id": "JKR8K7TEIOrD"
      },
      "execution_count": 29,
      "outputs": []
    },
    {
      "cell_type": "code",
      "source": [
        "def fun(a, b, c, d, *rest):\n",
        "  return a, b, c, d, rest"
      ],
      "metadata": {
        "id": "6c7OvMftIP_s"
      },
      "execution_count": 41,
      "outputs": []
    },
    {
      "cell_type": "code",
      "source": [
        "fun(*[1, 2], 3, *range(4, 7)) # expect (1, 2, 3, 4, (5, 6))"
      ],
      "metadata": {
        "colab": {
          "base_uri": "https://localhost:8080/"
        },
        "id": "4wCsSpLsIUOE",
        "outputId": "1c73355c-7a95-4601-e25e-195e56154f2c"
      },
      "execution_count": 42,
      "outputs": [
        {
          "output_type": "execute_result",
          "data": {
            "text/plain": [
              "(1, 2, 3, 4, (5, 6))"
            ]
          },
          "metadata": {},
          "execution_count": 42
        }
      ]
    },
    {
      "cell_type": "code",
      "source": [
        "*range(4), 4"
      ],
      "metadata": {
        "colab": {
          "base_uri": "https://localhost:8080/"
        },
        "id": "WEhoTAIaIjUj",
        "outputId": "a24ee4a9-ecf4-4f96-a46c-aa49e2d5a012"
      },
      "execution_count": 44,
      "outputs": [
        {
          "output_type": "execute_result",
          "data": {
            "text/plain": [
              "(0, 1, 2, 3, 4)"
            ]
          },
          "metadata": {},
          "execution_count": 44
        }
      ]
    },
    {
      "cell_type": "code",
      "source": [
        "[*range(4), 4]"
      ],
      "metadata": {
        "colab": {
          "base_uri": "https://localhost:8080/"
        },
        "id": "dhQuyaTgI5pr",
        "outputId": "a333b54e-05d9-489f-af58-f74e82ae5a84"
      },
      "execution_count": 45,
      "outputs": [
        {
          "output_type": "execute_result",
          "data": {
            "text/plain": [
              "[0, 1, 2, 3, 4]"
            ]
          },
          "metadata": {},
          "execution_count": 45
        }
      ]
    },
    {
      "cell_type": "code",
      "source": [
        "{*range(4), 4, *(5, 6, 7)}"
      ],
      "metadata": {
        "colab": {
          "base_uri": "https://localhost:8080/"
        },
        "id": "BlRrCB3UI9na",
        "outputId": "d2053056-a83e-4cf3-a1f6-7386a8c9056f"
      },
      "execution_count": 47,
      "outputs": [
        {
          "output_type": "execute_result",
          "data": {
            "text/plain": [
              "{0, 1, 2, 3, 4, 5, 6, 7}"
            ]
          },
          "metadata": {},
          "execution_count": 47
        }
      ]
    },
    {
      "cell_type": "markdown",
      "source": [
        "### Nested Unpacking"
      ],
      "metadata": {
        "id": "dVDDeW9sJFvF"
      }
    },
    {
      "cell_type": "code",
      "source": [
        "metro_areas = [\n",
        "    ('Tokyo', 'JP', 36.933, (35.689722, 139.4214)),\n",
        "    ('Delhi NCR', 'IN', 21.942, (28.613412, 77.2130)),\n",
        "    ('Mexico City', 'MX', 20.942, (19.4342, -99.13333)),\n",
        "    ('New York-Newark', 'US', 20.104, (40.805325, -74.020386)),\n",
        "    ('Sao Paulo', 'BR', 19.649, (-23.529, -46.1421)),\n",
        "]\n",
        "\n",
        "print(f'{\"\":15} | {\"latitude\":>9} | {\"longitude\":>9}')\n",
        "for name, _, _, (lat, lon) in metro_areas:\n",
        "  if lon <= 0:\n",
        "    print(f'{name:15} | {lat:>9} | {lon:>9}')"
      ],
      "metadata": {
        "colab": {
          "base_uri": "https://localhost:8080/"
        },
        "id": "9t0_jg2rI_Bj",
        "outputId": "b84f9760-4bbd-49b9-a547-bb5614f2c567"
      },
      "execution_count": 49,
      "outputs": [
        {
          "output_type": "stream",
          "name": "stdout",
          "text": [
            "                |  latitude | longitude\n",
            "Mexico City     |   19.4342 | -99.13333\n",
            "New York-Newark | 40.805325 | -74.020386\n",
            "Sao Paulo       |   -23.529 |  -46.1421\n"
          ]
        }
      ]
    },
    {
      "cell_type": "markdown",
      "source": [
        "#### Caveat\n",
        "- single element tuple must be written with a trailing comma"
      ],
      "metadata": {
        "id": "bfcbPxdQKdsg"
      }
    },
    {
      "cell_type": "code",
      "source": [
        "(record, ) = (3, )"
      ],
      "metadata": {
        "id": "-j2HeHnsJ0As"
      },
      "execution_count": 52,
      "outputs": []
    },
    {
      "cell_type": "markdown",
      "source": [
        "#### Note\n",
        "- Sequence pattern can match instances of most actual or virtual subclasses of `collections.abc.Sequence`, with the exception of `str`, `bytes`, and `bytearray`\n",
        "- `str(name)`, `float(name)` look like constructor calls But! in the context of a pattern,that syntax performs a runtime type check"
      ],
      "metadata": {
        "id": "NpwP8c-jMFJk"
      }
    },
    {
      "cell_type": "code",
      "source": [
        "metro_areas = [\n",
        "    ('Tokyo', 'JP', 36.933, (35.689722, 139.4214)),\n",
        "    ('Delhi NCR', 'IN', 21.942, (28.613412, 77.2130)),\n",
        "    ('Mexico City', 'MX', 20.942, (19.4342, -99.13333)),\n",
        "    ('New York-Newark', 'US', 20.104, (40.805325, -74.020386)),\n",
        "    ('Sao Paulo', 'BR', 19.649, (-23.529, -46.1421)),\n",
        "]\n",
        "\n",
        "print(f'{\"\":15} | {\"latitude\":>9} | {\"longitude\":>9}')\n",
        "for record in metro_areas:\n",
        "  match record:\n",
        "    # optinal guard starting with \"if\" is evaluated only if the pattern matches\n",
        "    case [str(name), *extra, (float(lat), float(lon)) as coord] if lon <= 0:\n",
        "      print(f'{name:15} | {lat:>9} | {lon:>9}')"
      ],
      "metadata": {
        "colab": {
          "base_uri": "https://localhost:8080/"
        },
        "id": "Qy5LD72LKa9b",
        "outputId": "9f0a821a-316c-4553-b923-9e9725130d72"
      },
      "execution_count": 68,
      "outputs": [
        {
          "output_type": "stream",
          "name": "stdout",
          "text": [
            "                |  latitude | longitude\n",
            "Mexico City     |   19.4342 | -99.13333\n",
            "New York-Newark | 40.805325 | -74.020386\n",
            "Sao Paulo       |   -23.529 |  -46.1421\n"
          ]
        }
      ]
    },
    {
      "cell_type": "markdown",
      "source": [
        "#### Note\n",
        "- If you wanna treat an obj of `str`, `bytes`, `bytearray` as a sequence subject, convert it in the `match` clause"
      ],
      "metadata": {
        "id": "wX62rvbeMyWe"
      }
    },
    {
      "cell_type": "code",
      "source": [
        "phone = '42345'\n",
        "\n",
        "match tuple(phone):\n",
        "  case ['1', *rest]:\n",
        "    print(\"North America and Carribean\")\n",
        "  case ['2', *rest]:\n",
        "    print(\"Africa and some territories\")\n",
        "  case ['3' | '4', *rest]:\n",
        "    print(\"Europe\")\n",
        "  case _:\n",
        "    print(\"IDK\")"
      ],
      "metadata": {
        "colab": {
          "base_uri": "https://localhost:8080/"
        },
        "id": "3wiSZFVBLlhK",
        "outputId": "cb6763cf-afee-4309-d818-a0eb3975ef92"
      },
      "execution_count": 59,
      "outputs": [
        {
          "output_type": "stream",
          "name": "stdout",
          "text": [
            "Europe\n"
          ]
        }
      ]
    },
    {
      "cell_type": "code",
      "source": [],
      "metadata": {
        "id": "tsCyk-FhMtpl"
      },
      "execution_count": null,
      "outputs": []
    }
  ]
}