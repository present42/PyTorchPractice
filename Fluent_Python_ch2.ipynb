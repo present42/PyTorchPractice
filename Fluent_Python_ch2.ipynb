{
  "nbformat": 4,
  "nbformat_minor": 0,
  "metadata": {
    "colab": {
      "provenance": [],
      "authorship_tag": "ABX9TyOzft20AdBTlwPBjrSfsq9H",
      "include_colab_link": true
    },
    "kernelspec": {
      "name": "python3",
      "display_name": "Python 3"
    },
    "language_info": {
      "name": "python"
    }
  },
  "cells": [
    {
      "cell_type": "markdown",
      "metadata": {
        "id": "view-in-github",
        "colab_type": "text"
      },
      "source": [
        "<a href=\"https://colab.research.google.com/github/present42/PyTorchPractice/blob/main/Fluent_Python_ch2.ipynb\" target=\"_parent\"><img src=\"https://colab.research.google.com/assets/colab-badge.svg\" alt=\"Open In Colab\"/></a>"
      ]
    },
    {
      "cell_type": "markdown",
      "source": [
        "## First way of grouping sequence types\n",
        "* Container Sequences\n",
        " - e.g. `list`, `tuple`, `collections.deque`\n",
        " - can hold heterogenous items\n",
        "\n",
        "* Flat Sequences\n",
        " - e.g. `str`, `bytes`, `array.array`\n",
        " - hold items of one simple type\n",
        "\n",
        "## Second way of grouping sequence types\n",
        "* Mutable Sequences\n",
        " - e.g. `list`, `bytearray`, `array.array`, `collections.deque`\n",
        "* Immutable Sequences\n",
        " - e.g. `tuple`, `str`, `bytes`"
      ],
      "metadata": {
        "id": "kyiX4PfjN7vV"
      }
    },
    {
      "cell_type": "code",
      "execution_count": null,
      "metadata": {
        "id": "VMOMbbvjN5cT"
      },
      "outputs": [],
      "source": [
        "from collections import abc"
      ]
    },
    {
      "cell_type": "markdown",
      "source": [
        "built-in concrete sequence types are *virtual subclasses* of `MutableSequence`, `Sequence`"
      ],
      "metadata": {
        "id": "Y-GPe_fuO0ep"
      }
    },
    {
      "cell_type": "code",
      "source": [
        "issubclass(tuple, abc.Sequence)\n",
        "# issubclass(list, abc.Sequence)"
      ],
      "metadata": {
        "colab": {
          "base_uri": "https://localhost:8080/"
        },
        "id": "lRwPDaYZOxy3",
        "outputId": "24b31018-d5c9-41ad-f314-0b21902f448c"
      },
      "execution_count": null,
      "outputs": [
        {
          "output_type": "execute_result",
          "data": {
            "text/plain": [
              "True"
            ]
          },
          "metadata": {},
          "execution_count": 6
        }
      ]
    },
    {
      "cell_type": "code",
      "source": [
        "x = 'ABC'\n",
        "codes = [ord(x) for x in x]"
      ],
      "metadata": {
        "id": "4UrCJUYzQvbY"
      },
      "execution_count": null,
      "outputs": []
    },
    {
      "cell_type": "code",
      "source": [
        "codes = [last := ord(c) for c in x]"
      ],
      "metadata": {
        "id": "S7sTWEI3irij"
      },
      "execution_count": null,
      "outputs": []
    },
    {
      "cell_type": "code",
      "source": [
        "last"
      ],
      "metadata": {
        "colab": {
          "base_uri": "https://localhost:8080/"
        },
        "id": "Z_8iU6acisla",
        "outputId": "892ea908-295d-401e-b049-1019aca5f2e4"
      },
      "execution_count": null,
      "outputs": [
        {
          "output_type": "execute_result",
          "data": {
            "text/plain": [
              "67"
            ]
          },
          "metadata": {},
          "execution_count": 5
        }
      ]
    },
    {
      "cell_type": "code",
      "source": [
        "codes"
      ],
      "metadata": {
        "colab": {
          "base_uri": "https://localhost:8080/"
        },
        "id": "g5qndYXXivdx",
        "outputId": "246c6cbf-397e-43b7-c6de-ad7d0d5acd51"
      },
      "execution_count": null,
      "outputs": [
        {
          "output_type": "execute_result",
          "data": {
            "text/plain": [
              "[65, 66, 67]"
            ]
          },
          "metadata": {},
          "execution_count": 6
        }
      ]
    },
    {
      "cell_type": "code",
      "source": [
        "symbols = \"$¢£¤¥¦§\"\n",
        "beyond_ascii = [ord(s) for s in symbols if ord(s) > 127]\n",
        "beyond_ascii"
      ],
      "metadata": {
        "colab": {
          "base_uri": "https://localhost:8080/"
        },
        "id": "zpZQXIHOjFtB",
        "outputId": "ca4d40df-c26b-45b5-cee4-0537cb0d246f"
      },
      "execution_count": null,
      "outputs": [
        {
          "output_type": "execute_result",
          "data": {
            "text/plain": [
              "[162, 163, 164, 165, 166, 167]"
            ]
          },
          "metadata": {},
          "execution_count": 10
        }
      ]
    },
    {
      "cell_type": "code",
      "source": [
        "beyond_ascii = list(filter(lambda c: c > 127, map(ord, symbols)))"
      ],
      "metadata": {
        "id": "qoYzrU_Mjn_p"
      },
      "execution_count": null,
      "outputs": []
    },
    {
      "cell_type": "code",
      "source": [
        "beyond_ascii"
      ],
      "metadata": {
        "colab": {
          "base_uri": "https://localhost:8080/"
        },
        "id": "aXBiBCfskABl",
        "outputId": "9b645d7a-6bb1-4a9f-9b0a-b87bd8fabf74"
      },
      "execution_count": null,
      "outputs": [
        {
          "output_type": "execute_result",
          "data": {
            "text/plain": [
              "[162, 163, 164, 165, 166, 167]"
            ]
          },
          "metadata": {},
          "execution_count": 13
        }
      ]
    },
    {
      "cell_type": "code",
      "source": [
        "%%timeit\n",
        "beyond_ascii = [ord(s) for s in symbols if ord(s) > 127]"
      ],
      "metadata": {
        "colab": {
          "base_uri": "https://localhost:8080/"
        },
        "id": "aEneWEvbkGZR",
        "outputId": "9084db2f-4ff5-45d4-a90b-75d3b09c85ba"
      },
      "execution_count": null,
      "outputs": [
        {
          "output_type": "stream",
          "name": "stdout",
          "text": [
            "1.14 µs ± 105 ns per loop (mean ± std. dev. of 7 runs, 1000000 loops each)\n"
          ]
        }
      ]
    },
    {
      "cell_type": "code",
      "source": [
        "%%timeit\n",
        "beyond_ascii = list(filter(lambda c: c > 127, map(ord, symbols)))"
      ],
      "metadata": {
        "colab": {
          "base_uri": "https://localhost:8080/"
        },
        "id": "bEa6mZFikMRo",
        "outputId": "c72337d0-e939-4a5a-8139-cb2ca1050aa2"
      },
      "execution_count": null,
      "outputs": [
        {
          "output_type": "stream",
          "name": "stdout",
          "text": [
            "1.37 µs ± 312 ns per loop (mean ± std. dev. of 7 runs, 1000000 loops each)\n"
          ]
        }
      ]
    },
    {
      "cell_type": "code",
      "source": [
        "colors = ['black', 'white']\n",
        "sizes = ['S', 'M', 'L']\n",
        "tshirts = [(color, size) for color in colors for size in sizes]"
      ],
      "metadata": {
        "id": "yS_r3IBFkOhA"
      },
      "execution_count": null,
      "outputs": []
    },
    {
      "cell_type": "code",
      "source": [
        "tshirts"
      ],
      "metadata": {
        "colab": {
          "base_uri": "https://localhost:8080/"
        },
        "id": "vjcfZ8-gkjiA",
        "outputId": "9fc8d473-c9cd-493b-b048-9598cd2b1f74"
      },
      "execution_count": null,
      "outputs": [
        {
          "output_type": "execute_result",
          "data": {
            "text/plain": [
              "[('black', 'S'),\n",
              " ('black', 'M'),\n",
              " ('black', 'L'),\n",
              " ('white', 'S'),\n",
              " ('white', 'M'),\n",
              " ('white', 'L')]"
            ]
          },
          "metadata": {},
          "execution_count": 17
        }
      ]
    },
    {
      "cell_type": "code",
      "source": [
        "tshirts = [(color, size) for size in sizes\n",
        "                          for color in colors]"
      ],
      "metadata": {
        "id": "Wc9q9D3xkkOw"
      },
      "execution_count": null,
      "outputs": []
    },
    {
      "cell_type": "code",
      "source": [
        "tshirts"
      ],
      "metadata": {
        "colab": {
          "base_uri": "https://localhost:8080/"
        },
        "id": "xBHl5vLEkxyf",
        "outputId": "5992d02d-396d-4d89-828a-0728b6d521d1"
      },
      "execution_count": null,
      "outputs": [
        {
          "output_type": "execute_result",
          "data": {
            "text/plain": [
              "[('black', 'S'),\n",
              " ('white', 'S'),\n",
              " ('black', 'M'),\n",
              " ('white', 'M'),\n",
              " ('black', 'L'),\n",
              " ('white', 'L')]"
            ]
          },
          "metadata": {},
          "execution_count": 19
        }
      ]
    },
    {
      "cell_type": "markdown",
      "source": [
        "## Generator Expressions\n",
        " - It saves memory because it yields items one by one using the iterator protocol instead of building a whole list just to feed another constructor"
      ],
      "metadata": {
        "id": "ST8zcoVuk63m"
      }
    },
    {
      "cell_type": "code",
      "source": [
        "symbols = \"$¢£¤¥¦§\"\n",
        "tuple(ord(symbol) for symbol in symbols)\n",
        "\n",
        "import array\n",
        "array.array('I', (ord(symbol) for symbol in symbols))"
      ],
      "metadata": {
        "colab": {
          "base_uri": "https://localhost:8080/"
        },
        "id": "dqWmp11ykycn",
        "outputId": "c92a5dd7-df20-4a4a-c983-1d86cb029693"
      },
      "execution_count": null,
      "outputs": [
        {
          "output_type": "execute_result",
          "data": {
            "text/plain": [
              "array('I', [36, 162, 163, 164, 165, 166, 167])"
            ]
          },
          "metadata": {},
          "execution_count": 22
        }
      ]
    },
    {
      "cell_type": "code",
      "source": [
        "for tshirt in (f'{c} {s}' for c in colors for s in sizes):\n",
        "  print(tshirt)"
      ],
      "metadata": {
        "colab": {
          "base_uri": "https://localhost:8080/"
        },
        "id": "3d1tbXi7lQCI",
        "outputId": "c31390e6-a203-4b34-e543-da6b90b74a44"
      },
      "execution_count": null,
      "outputs": [
        {
          "output_type": "stream",
          "name": "stdout",
          "text": [
            "black S\n",
            "black M\n",
            "black L\n",
            "white S\n",
            "white M\n",
            "white L\n"
          ]
        }
      ]
    },
    {
      "cell_type": "code",
      "source": [
        "type(f'{c} {s}' for c in colors for s in sizes)"
      ],
      "metadata": {
        "colab": {
          "base_uri": "https://localhost:8080/"
        },
        "id": "3SJWNgjdlva4",
        "outputId": "169f92d1-ac4b-4948-f821-6036875ce68b"
      },
      "execution_count": null,
      "outputs": [
        {
          "output_type": "execute_result",
          "data": {
            "text/plain": [
              "generator"
            ]
          },
          "metadata": {},
          "execution_count": 24
        }
      ]
    },
    {
      "cell_type": "markdown",
      "source": [
        "## Tuples Are Not Just Immutable Lists\n",
        " - also used as records with no field names"
      ],
      "metadata": {
        "id": "b8ETr-hLl62R"
      }
    },
    {
      "cell_type": "code",
      "source": [
        "lax_coordinates = (33.9425, -118.408056)\n",
        "city, year, pop, chg, area = ('Tokyo', 2003, 32_450, 0.66, 8014)\n",
        "traveler_ids = [('USA', '3192319'), ('BRA', 'CE230124'), ('ESP', 'XDA12031')]\n",
        "for passport in sorted(traveler_ids):\n",
        "  print('%s/%s' % passport)"
      ],
      "metadata": {
        "colab": {
          "base_uri": "https://localhost:8080/"
        },
        "id": "P33Vt9Fely1J",
        "outputId": "f1ea6fb3-1307-488a-9418-2c0553f78639"
      },
      "execution_count": null,
      "outputs": [
        {
          "output_type": "stream",
          "name": "stdout",
          "text": [
            "BRA/CE230124\n",
            "ESP/XDA12031\n",
            "USA/3192319\n"
          ]
        }
      ]
    },
    {
      "cell_type": "code",
      "source": [
        "for country, _ in traveler_ids: # unpacking\n",
        "  print(country)"
      ],
      "metadata": {
        "colab": {
          "base_uri": "https://localhost:8080/"
        },
        "id": "ThckGzdimiTg",
        "outputId": "6c10d7dc-05db-4af4-d9cf-d610dee97ff0"
      },
      "execution_count": null,
      "outputs": [
        {
          "output_type": "stream",
          "name": "stdout",
          "text": [
            "USA\n",
            "BRA\n",
            "ESP\n"
          ]
        }
      ]
    },
    {
      "cell_type": "markdown",
      "source": [
        "### Tuples as Immutable Lists\n",
        " - Clarity\n",
        " - Performance: uses less memory than a list of the same length, allows Python to do some optimization"
      ],
      "metadata": {
        "id": "BAtrFx_5naqT"
      }
    },
    {
      "cell_type": "code",
      "source": [
        "a = (10, 'alpha', [1, 2])\n",
        "b = (10, 'alpha', [1, 2])"
      ],
      "metadata": {
        "id": "MsHE8Hh2my5R"
      },
      "execution_count": null,
      "outputs": []
    },
    {
      "cell_type": "code",
      "source": [
        "a == b"
      ],
      "metadata": {
        "colab": {
          "base_uri": "https://localhost:8080/"
        },
        "id": "i3E4OSFCm8eo",
        "outputId": "7b15fa0c-df96-4ff3-b757-499c3bd0cfc2"
      },
      "execution_count": null,
      "outputs": [
        {
          "output_type": "execute_result",
          "data": {
            "text/plain": [
              "True"
            ]
          },
          "metadata": {},
          "execution_count": 33
        }
      ]
    },
    {
      "cell_type": "markdown",
      "source": [
        "### Caveat\n",
        "- Tuples with mutable items can be a source of bugs!!!"
      ],
      "metadata": {
        "id": "MEixbS3NoG1f"
      }
    },
    {
      "cell_type": "code",
      "source": [
        "b[-1].append(99)"
      ],
      "metadata": {
        "id": "FGhxpWaGn_g_"
      },
      "execution_count": null,
      "outputs": []
    },
    {
      "cell_type": "code",
      "source": [
        "a == b"
      ],
      "metadata": {
        "colab": {
          "base_uri": "https://localhost:8080/"
        },
        "id": "HfN8HRhUoBg_",
        "outputId": "3fcb5837-45a7-44b1-f16d-40847c415441"
      },
      "execution_count": null,
      "outputs": [
        {
          "output_type": "execute_result",
          "data": {
            "text/plain": [
              "False"
            ]
          },
          "metadata": {},
          "execution_count": 35
        }
      ]
    },
    {
      "cell_type": "code",
      "source": [
        "b"
      ],
      "metadata": {
        "colab": {
          "base_uri": "https://localhost:8080/"
        },
        "id": "rYy4SzlToB_P",
        "outputId": "35de7730-baf4-4960-e494-395ca3b2ada9"
      },
      "execution_count": null,
      "outputs": [
        {
          "output_type": "execute_result",
          "data": {
            "text/plain": [
              "(10, 'alpha', [1, 2, 99])"
            ]
          },
          "metadata": {},
          "execution_count": 36
        }
      ]
    },
    {
      "cell_type": "code",
      "source": [
        "def fixed(o):\n",
        "  try:\n",
        "    hash(o)\n",
        "  except TypeError:\n",
        "    return False\n",
        "  return True"
      ],
      "metadata": {
        "id": "rA6YimvgoDmg"
      },
      "execution_count": null,
      "outputs": []
    },
    {
      "cell_type": "markdown",
      "source": [
        "#### `hash()`\n",
        " - An object is only hashable if its value cannot ever change"
      ],
      "metadata": {
        "id": "eF_6yZZnohyt"
      }
    },
    {
      "cell_type": "code",
      "source": [
        "tf = (10, 'alpha', (1, 2))\n",
        "tm = (10, 'alpha', [1, 2])"
      ],
      "metadata": {
        "id": "JrjopaLeoUSI"
      },
      "execution_count": null,
      "outputs": []
    },
    {
      "cell_type": "code",
      "source": [
        "fixed(tf)"
      ],
      "metadata": {
        "colab": {
          "base_uri": "https://localhost:8080/"
        },
        "id": "7ZU-FwFVoYZv",
        "outputId": "2f7b22f1-5546-4426-b84f-7d8637e194f3"
      },
      "execution_count": null,
      "outputs": [
        {
          "output_type": "execute_result",
          "data": {
            "text/plain": [
              "True"
            ]
          },
          "metadata": {},
          "execution_count": 39
        }
      ]
    },
    {
      "cell_type": "code",
      "source": [
        "fixed(tm)"
      ],
      "metadata": {
        "colab": {
          "base_uri": "https://localhost:8080/"
        },
        "id": "z6waKVSPob9f",
        "outputId": "d512bda3-8782-46c8-ad56-f8bb21063ea5"
      },
      "execution_count": null,
      "outputs": [
        {
          "output_type": "execute_result",
          "data": {
            "text/plain": [
              "False"
            ]
          },
          "metadata": {},
          "execution_count": 40
        }
      ]
    },
    {
      "cell_type": "code",
      "source": [
        "lax_coordinates = (33.9425, -118.408056)"
      ],
      "metadata": {
        "id": "nMMgY77Wocw4"
      },
      "execution_count": null,
      "outputs": []
    },
    {
      "cell_type": "code",
      "source": [
        "latitude, longitude = lax_coordinates"
      ],
      "metadata": {
        "id": "AoUbjFfQHKOb"
      },
      "execution_count": null,
      "outputs": []
    },
    {
      "cell_type": "code",
      "source": [
        "a = 3\n",
        "b = 5\n",
        "b, a = a, b\n",
        "print(a, b)"
      ],
      "metadata": {
        "colab": {
          "base_uri": "https://localhost:8080/"
        },
        "id": "xJBcq7nCHNzz",
        "outputId": "db45cf89-0390-4c2a-a36c-5599ab72209a"
      },
      "execution_count": null,
      "outputs": [
        {
          "output_type": "stream",
          "name": "stdout",
          "text": [
            "5 3\n"
          ]
        }
      ]
    },
    {
      "cell_type": "code",
      "source": [
        "divmod(20, 8)"
      ],
      "metadata": {
        "colab": {
          "base_uri": "https://localhost:8080/"
        },
        "id": "9BjvJY6eHQuj",
        "outputId": "1cb04735-3cd1-41ac-b221-1258db887e93"
      },
      "execution_count": null,
      "outputs": [
        {
          "output_type": "execute_result",
          "data": {
            "text/plain": [
              "(2, 4)"
            ]
          },
          "metadata": {},
          "execution_count": 6
        }
      ]
    },
    {
      "cell_type": "code",
      "source": [
        "t = (20, 8)"
      ],
      "metadata": {
        "id": "RsNoK-n7HZNb"
      },
      "execution_count": null,
      "outputs": []
    },
    {
      "cell_type": "code",
      "source": [
        "divmod(*t)"
      ],
      "metadata": {
        "colab": {
          "base_uri": "https://localhost:8080/"
        },
        "id": "F-CNHXgRHb4c",
        "outputId": "94b3542b-a990-4b32-c00a-e5964f513a55"
      },
      "execution_count": null,
      "outputs": [
        {
          "output_type": "execute_result",
          "data": {
            "text/plain": [
              "(2, 4)"
            ]
          },
          "metadata": {},
          "execution_count": 8
        }
      ]
    },
    {
      "cell_type": "code",
      "source": [
        "quotient, remainder = divmod(*t)"
      ],
      "metadata": {
        "id": "IGjUCJWpHdCD"
      },
      "execution_count": null,
      "outputs": []
    },
    {
      "cell_type": "code",
      "source": [
        "quotient, remainder"
      ],
      "metadata": {
        "colab": {
          "base_uri": "https://localhost:8080/"
        },
        "id": "x8CalfcvHg_k",
        "outputId": "2723cf36-a6d2-444b-9097-71805c2490d1"
      },
      "execution_count": null,
      "outputs": [
        {
          "output_type": "execute_result",
          "data": {
            "text/plain": [
              "(2, 4)"
            ]
          },
          "metadata": {},
          "execution_count": 10
        }
      ]
    },
    {
      "cell_type": "code",
      "source": [
        "import os"
      ],
      "metadata": {
        "id": "ZXD_d1qYHibL"
      },
      "execution_count": null,
      "outputs": []
    },
    {
      "cell_type": "code",
      "source": [
        "_, filename = os.path.split('/home/george/.ssh/id_rsa.pub')\n",
        "filename"
      ],
      "metadata": {
        "colab": {
          "base_uri": "https://localhost:8080/",
          "height": 36
        },
        "id": "YJNaJRcHHntU",
        "outputId": "6af2b5ce-5d6f-4dce-92ad-5d405e44c5d0"
      },
      "execution_count": null,
      "outputs": [
        {
          "output_type": "execute_result",
          "data": {
            "text/plain": [
              "'id_rsa.pub'"
            ],
            "application/vnd.google.colaboratory.intrinsic+json": {
              "type": "string"
            }
          },
          "metadata": {},
          "execution_count": 12
        }
      ]
    },
    {
      "cell_type": "code",
      "source": [
        "a, b, *rest = range(5)"
      ],
      "metadata": {
        "id": "TYWjzgdfHs77"
      },
      "execution_count": null,
      "outputs": []
    },
    {
      "cell_type": "code",
      "source": [
        "a, b, *rest = range(3)\n",
        "a, b, rest"
      ],
      "metadata": {
        "colab": {
          "base_uri": "https://localhost:8080/"
        },
        "id": "KQiYeM8aH08D",
        "outputId": "3a19ee9c-4ee8-41ae-bcee-f0c3678cd7e7"
      },
      "execution_count": null,
      "outputs": [
        {
          "output_type": "execute_result",
          "data": {
            "text/plain": [
              "(0, 1, [2])"
            ]
          },
          "metadata": {},
          "execution_count": 21
        }
      ]
    },
    {
      "cell_type": "code",
      "source": [
        "a, b, *c = range(2)"
      ],
      "metadata": {
        "id": "umtKZ7TuH2Cs"
      },
      "execution_count": null,
      "outputs": []
    },
    {
      "cell_type": "code",
      "source": [
        "a, *b, c = range(2)"
      ],
      "metadata": {
        "id": "AGDjwokNH_i9"
      },
      "execution_count": null,
      "outputs": []
    },
    {
      "cell_type": "code",
      "source": [
        "*head, b, c, d = range(5)"
      ],
      "metadata": {
        "id": "JKR8K7TEIOrD"
      },
      "execution_count": null,
      "outputs": []
    },
    {
      "cell_type": "code",
      "source": [
        "def fun(a, b, c, d, *rest):\n",
        "  return a, b, c, d, rest"
      ],
      "metadata": {
        "id": "6c7OvMftIP_s"
      },
      "execution_count": null,
      "outputs": []
    },
    {
      "cell_type": "code",
      "source": [
        "fun(*[1, 2], 3, *range(4, 7)) # expect (1, 2, 3, 4, (5, 6))"
      ],
      "metadata": {
        "colab": {
          "base_uri": "https://localhost:8080/"
        },
        "id": "4wCsSpLsIUOE",
        "outputId": "1c73355c-7a95-4601-e25e-195e56154f2c"
      },
      "execution_count": null,
      "outputs": [
        {
          "output_type": "execute_result",
          "data": {
            "text/plain": [
              "(1, 2, 3, 4, (5, 6))"
            ]
          },
          "metadata": {},
          "execution_count": 42
        }
      ]
    },
    {
      "cell_type": "code",
      "source": [
        "*range(4), 4"
      ],
      "metadata": {
        "colab": {
          "base_uri": "https://localhost:8080/"
        },
        "id": "WEhoTAIaIjUj",
        "outputId": "a24ee4a9-ecf4-4f96-a46c-aa49e2d5a012"
      },
      "execution_count": null,
      "outputs": [
        {
          "output_type": "execute_result",
          "data": {
            "text/plain": [
              "(0, 1, 2, 3, 4)"
            ]
          },
          "metadata": {},
          "execution_count": 44
        }
      ]
    },
    {
      "cell_type": "code",
      "source": [
        "[*range(4), 4]"
      ],
      "metadata": {
        "colab": {
          "base_uri": "https://localhost:8080/"
        },
        "id": "dhQuyaTgI5pr",
        "outputId": "a333b54e-05d9-489f-af58-f74e82ae5a84"
      },
      "execution_count": null,
      "outputs": [
        {
          "output_type": "execute_result",
          "data": {
            "text/plain": [
              "[0, 1, 2, 3, 4]"
            ]
          },
          "metadata": {},
          "execution_count": 45
        }
      ]
    },
    {
      "cell_type": "code",
      "source": [
        "{*range(4), 4, *(5, 6, 7)}"
      ],
      "metadata": {
        "colab": {
          "base_uri": "https://localhost:8080/"
        },
        "id": "BlRrCB3UI9na",
        "outputId": "d2053056-a83e-4cf3-a1f6-7386a8c9056f"
      },
      "execution_count": null,
      "outputs": [
        {
          "output_type": "execute_result",
          "data": {
            "text/plain": [
              "{0, 1, 2, 3, 4, 5, 6, 7}"
            ]
          },
          "metadata": {},
          "execution_count": 47
        }
      ]
    },
    {
      "cell_type": "markdown",
      "source": [
        "### Nested Unpacking"
      ],
      "metadata": {
        "id": "dVDDeW9sJFvF"
      }
    },
    {
      "cell_type": "code",
      "source": [
        "metro_areas = [\n",
        "    ('Tokyo', 'JP', 36.933, (35.689722, 139.4214)),\n",
        "    ('Delhi NCR', 'IN', 21.942, (28.613412, 77.2130)),\n",
        "    ('Mexico City', 'MX', 20.942, (19.4342, -99.13333)),\n",
        "    ('New York-Newark', 'US', 20.104, (40.805325, -74.020386)),\n",
        "    ('Sao Paulo', 'BR', 19.649, (-23.529, -46.1421)),\n",
        "]\n",
        "\n",
        "print(f'{\"\":15} | {\"latitude\":>9} | {\"longitude\":>9}')\n",
        "for name, _, _, (lat, lon) in metro_areas:\n",
        "  if lon <= 0:\n",
        "    print(f'{name:15} | {lat:>9} | {lon:>9}')"
      ],
      "metadata": {
        "colab": {
          "base_uri": "https://localhost:8080/"
        },
        "id": "9t0_jg2rI_Bj",
        "outputId": "b84f9760-4bbd-49b9-a547-bb5614f2c567"
      },
      "execution_count": null,
      "outputs": [
        {
          "output_type": "stream",
          "name": "stdout",
          "text": [
            "                |  latitude | longitude\n",
            "Mexico City     |   19.4342 | -99.13333\n",
            "New York-Newark | 40.805325 | -74.020386\n",
            "Sao Paulo       |   -23.529 |  -46.1421\n"
          ]
        }
      ]
    },
    {
      "cell_type": "markdown",
      "source": [
        "#### Caveat\n",
        "- single element tuple must be written with a trailing comma"
      ],
      "metadata": {
        "id": "bfcbPxdQKdsg"
      }
    },
    {
      "cell_type": "code",
      "source": [
        "(record, ) = (3, )"
      ],
      "metadata": {
        "id": "-j2HeHnsJ0As"
      },
      "execution_count": null,
      "outputs": []
    },
    {
      "cell_type": "markdown",
      "source": [
        "#### Note\n",
        "- Sequence pattern can match instances of most actual or virtual subclasses of `collections.abc.Sequence`, with the exception of `str`, `bytes`, and `bytearray`\n",
        "- `str(name)`, `float(name)` look like constructor calls But! in the context of a pattern,that syntax performs a runtime type check"
      ],
      "metadata": {
        "id": "NpwP8c-jMFJk"
      }
    },
    {
      "cell_type": "code",
      "source": [
        "metro_areas = [\n",
        "    ('Tokyo', 'JP', 36.933, (35.689722, 139.4214)),\n",
        "    ('Delhi NCR', 'IN', 21.942, (28.613412, 77.2130)),\n",
        "    ('Mexico City', 'MX', 20.942, (19.4342, -99.13333)),\n",
        "    ('New York-Newark', 'US', 20.104, (40.805325, -74.020386)),\n",
        "    ('Sao Paulo', 'BR', 19.649, (-23.529, -46.1421)),\n",
        "]\n",
        "\n",
        "print(f'{\"\":15} | {\"latitude\":>9} | {\"longitude\":>9}')\n",
        "for record in metro_areas:\n",
        "  match record:\n",
        "    # optinal guard starting with \"if\" is evaluated only if the pattern matches\n",
        "    case [str(name), *extra, (float(lat), float(lon)) as coord] if lon <= 0:\n",
        "      print(f'{name:15} | {lat:>9} | {lon:>9}')"
      ],
      "metadata": {
        "colab": {
          "base_uri": "https://localhost:8080/"
        },
        "id": "Qy5LD72LKa9b",
        "outputId": "9f0a821a-316c-4553-b923-9e9725130d72"
      },
      "execution_count": null,
      "outputs": [
        {
          "output_type": "stream",
          "name": "stdout",
          "text": [
            "                |  latitude | longitude\n",
            "Mexico City     |   19.4342 | -99.13333\n",
            "New York-Newark | 40.805325 | -74.020386\n",
            "Sao Paulo       |   -23.529 |  -46.1421\n"
          ]
        }
      ]
    },
    {
      "cell_type": "markdown",
      "source": [
        "#### Note\n",
        "- If you wanna treat an obj of `str`, `bytes`, `bytearray` as a sequence subject, convert it in the `match` clause"
      ],
      "metadata": {
        "id": "wX62rvbeMyWe"
      }
    },
    {
      "cell_type": "code",
      "source": [
        "phone = '42345'\n",
        "\n",
        "match tuple(phone):\n",
        "  case ['1', *rest]:\n",
        "    print(\"North America and Carribean\")\n",
        "  case ['2', *rest]:\n",
        "    print(\"Africa and some territories\")\n",
        "  case ['3' | '4', *rest]:\n",
        "    print(\"Europe\")\n",
        "  case _:\n",
        "    print(\"IDK\")"
      ],
      "metadata": {
        "colab": {
          "base_uri": "https://localhost:8080/"
        },
        "id": "3wiSZFVBLlhK",
        "outputId": "cb6763cf-afee-4309-d818-a0eb3975ef92"
      },
      "execution_count": null,
      "outputs": [
        {
          "output_type": "stream",
          "name": "stdout",
          "text": [
            "Europe\n"
          ]
        }
      ]
    },
    {
      "cell_type": "markdown",
      "source": [
        "#### Lisp"
      ],
      "metadata": {
        "id": "xPfSDD8YNufa"
      }
    },
    {
      "cell_type": "code",
      "source": [
        "################ Lispy: Scheme Interpreter in Python 3.3+\n",
        "\n",
        "## (c) Peter Norvig, 2010-18; See http://norvig.com/lispy.html\n",
        "\n",
        "################ Imports and Types\n",
        "\n",
        "import math\n",
        "import operator as op\n",
        "from collections import ChainMap as Environment\n",
        "\n",
        "Symbol = str          # A Lisp Symbol is implemented as a Python str\n",
        "List   = list         # A Lisp List   is implemented as a Python list\n",
        "Number = (int, float) # A Lisp Number is implemented as a Python int or float\n",
        "\n",
        "class Procedure(object):\n",
        "    \"A user-defined Scheme procedure.\"\n",
        "    def __init__(self, parms, body, env):\n",
        "        self.parms, self.body, self.env = parms, body, env\n",
        "    def __call__(self, *args):\n",
        "        env =  Environment(dict(zip(self.parms, args)), self.env)\n",
        "        return eval(self.body, env)\n",
        "\n",
        "################ Global Environment\n",
        "\n",
        "def standard_env():\n",
        "    \"An environment with some Scheme standard procedures.\"\n",
        "    env = {}\n",
        "    env.update(vars(math)) # sin, cos, sqrt, pi, ...\n",
        "    env.update({\n",
        "        '+':op.add, '-':op.sub, '*':op.mul, '/':op.truediv,\n",
        "        '>':op.gt, '<':op.lt, '>=':op.ge, '<=':op.le, '=':op.eq,\n",
        "        'abs':     abs,\n",
        "        'append':  op.add,\n",
        "        'apply':   lambda proc, args: proc(*args),\n",
        "        'begin':   lambda *x: x[-1],\n",
        "        'car':     lambda x: x[0],\n",
        "        'cdr':     lambda x: x[1:],\n",
        "        'cons':    lambda x,y: [x] + y,\n",
        "        'eq?':     op.is_,\n",
        "        'equal?':  op.eq,\n",
        "        'length':  len,\n",
        "        'list':    lambda *x: list(x),\n",
        "        'list?':   lambda x: isinstance(x,list),\n",
        "        'map':     lambda *args: list(map(*args)),\n",
        "        'max':     max,\n",
        "        'min':     min,\n",
        "        'not':     op.not_,\n",
        "        'null?':   lambda x: x == [],\n",
        "        'number?': lambda x: isinstance(x, Number),\n",
        "        'procedure?': callable,\n",
        "        'round':   round,\n",
        "        'symbol?': lambda x: isinstance(x, Symbol),\n",
        "    })\n",
        "    return env\n",
        "\n",
        "global_env = standard_env()\n",
        "\n",
        "################ Parsing: parse, tokenize, and read_from_tokens\n",
        "\n",
        "def parse(program):\n",
        "    \"Read a Scheme expression from a string.\"\n",
        "    return read_from_tokens(tokenize(program))\n",
        "\n",
        "def tokenize(s):\n",
        "    \"Convert a string into a list of tokens.\"\n",
        "    return s.replace('(',' ( ').replace(')',' ) ').split()\n",
        "\n",
        "def read_from_tokens(tokens):\n",
        "    \"Read an expression from a sequence of tokens.\"\n",
        "    if len(tokens) == 0:\n",
        "        raise SyntaxError('unexpected EOF while reading')\n",
        "    token = tokens.pop(0)\n",
        "    if '(' == token:\n",
        "        L = []\n",
        "        while tokens[0] != ')':\n",
        "            L.append(read_from_tokens(tokens))\n",
        "        tokens.pop(0) # pop off ')'\n",
        "        return L\n",
        "    elif ')' == token:\n",
        "        raise SyntaxError('unexpected )')\n",
        "    else:\n",
        "        return atom(token)\n",
        "\n",
        "def atom(token):\n",
        "    \"Numbers become numbers; every other token is a symbol.\"\n",
        "    try: return int(token)\n",
        "    except ValueError:\n",
        "        try: return float(token)\n",
        "        except ValueError:\n",
        "            return Symbol(token)\n",
        "\n",
        "################ Interaction: A REPL\n",
        "\n",
        "def repl(prompt='lis.py> '):\n",
        "    \"A prompt-read-eval-print loop.\"\n",
        "    while True:\n",
        "        val = eval(parse(input(prompt)))\n",
        "        if val is not None:\n",
        "            print(lispstr(val))\n",
        "\n",
        "def lispstr(exp):\n",
        "    \"Convert a Python object back into a Lisp-readable string.\"\n",
        "    if isinstance(exp, List):\n",
        "        return '(' + ' '.join(map(lispstr, exp)) + ')'\n",
        "    else:\n",
        "        return str(exp)\n",
        "\n",
        "################ eval\n",
        "\n",
        "def eval(x, env=global_env):\n",
        "    \"Evaluate an expression in an environment.\"\n",
        "    if isinstance(x, Symbol):      # variable reference\n",
        "        return env[x]\n",
        "    elif not isinstance(x, List):  # constant literal\n",
        "        return x\n",
        "    elif x[0] == 'quote':          # (quote exp)\n",
        "        (_, exp) = x\n",
        "        return exp\n",
        "    elif x[0] == 'if':             # (if test conseq alt)\n",
        "        (_, test, conseq, alt) = x\n",
        "        exp = (conseq if eval(test, env) else alt)\n",
        "        return eval(exp, env)\n",
        "    elif x[0] == 'define':         # (define var exp)\n",
        "        (_, var, exp) = x\n",
        "        env[var] = eval(exp, env)\n",
        "    elif x[0] == 'lambda':         # (lambda (var...) body)\n",
        "        (_, parms, body) = x\n",
        "        return Procedure(parms, body, env)\n",
        "    else:                          # (proc arg...)\n",
        "        proc = eval(x[0], env)\n",
        "        args = [eval(exp, env) for exp in x[1:]]\n",
        "        return proc(*args)"
      ],
      "metadata": {
        "id": "tsCyk-FhMtpl"
      },
      "execution_count": null,
      "outputs": []
    },
    {
      "cell_type": "code",
      "source": [
        "eval(parse('(gcd 18 45)'))"
      ],
      "metadata": {
        "colab": {
          "base_uri": "https://localhost:8080/"
        },
        "id": "7bTyR8NUNNRI",
        "outputId": "24389c1f-2646-4795-c399-51dcc58265ff"
      },
      "execution_count": null,
      "outputs": [
        {
          "output_type": "execute_result",
          "data": {
            "text/plain": [
              "9"
            ]
          },
          "metadata": {},
          "execution_count": 5
        }
      ]
    },
    {
      "cell_type": "code",
      "source": [
        "parse('''\n",
        "(define double\n",
        "  (lambda (n)\n",
        "     (* n 2)))\n",
        "''')"
      ],
      "metadata": {
        "colab": {
          "base_uri": "https://localhost:8080/"
        },
        "id": "cbOU61ZrNxmn",
        "outputId": "90934151-71d1-4c87-b0d3-5e65339f26e0"
      },
      "execution_count": null,
      "outputs": [
        {
          "output_type": "execute_result",
          "data": {
            "text/plain": [
              "['define', 'double', ['lambda', ['n'], ['*', 'n', 2]]]"
            ]
          },
          "metadata": {},
          "execution_count": 9
        }
      ]
    },
    {
      "cell_type": "markdown",
      "source": [
        "### Slicing"
      ],
      "metadata": {
        "id": "p-Lc7hTrQzpN"
      }
    },
    {
      "cell_type": "code",
      "source": [
        "l = [10, 20, 30, 40, 50, 60]\n",
        "print(l[:2])\n",
        "print(l[2:])\n",
        "print(l[:3])\n",
        "print(l[3:])"
      ],
      "metadata": {
        "colab": {
          "base_uri": "https://localhost:8080/"
        },
        "id": "003-7uVGN7s3",
        "outputId": "64f13843-349e-48b5-ce4e-08c117052c24"
      },
      "execution_count": null,
      "outputs": [
        {
          "output_type": "stream",
          "name": "stdout",
          "text": [
            "[10, 20]\n",
            "[30, 40, 50, 60]\n",
            "[10, 20, 30]\n",
            "[40, 50, 60]\n"
          ]
        }
      ]
    },
    {
      "cell_type": "code",
      "source": [
        "s = 'bicycle'\n",
        "s[::3]\n",
        "s[::-1]\n",
        "s[::-2]"
      ],
      "metadata": {
        "colab": {
          "base_uri": "https://localhost:8080/",
          "height": 36
        },
        "id": "qi_qS-1jP5mm",
        "outputId": "505304c9-40eb-4f7b-d1dc-c4b3dc00e96f"
      },
      "execution_count": null,
      "outputs": [
        {
          "output_type": "execute_result",
          "data": {
            "text/plain": [
              "'eccb'"
            ],
            "application/vnd.google.colaboratory.intrinsic+json": {
              "type": "string"
            }
          },
          "metadata": {},
          "execution_count": 15
        }
      ]
    },
    {
      "cell_type": "markdown",
      "source": [
        "notation `a:b:c` is only valid within `[]` when used as the indexing or subscript operator, and it produces a slice object: `slice(a, b, c)`\n",
        "\n",
        "Python calls `seq.__getitem__(slice(start, end, step))`"
      ],
      "metadata": {
        "id": "eFHa52f8Rs5h"
      }
    },
    {
      "cell_type": "code",
      "source": [
        "invoice = \"\"\"\n",
        "0.....6.................................40........52...55........\n",
        "1909  Pimoroni PiBrella                     $17.50    3    $52.50\n",
        "1489  6mm Tactile Switch x20                 $4.95    2     $9.90\n",
        "1510  Panavise Jr. - PV-201                 $28.00    1    $28.00\n",
        "1601  PiTFT Mini Kit 320x240                $34.95    1    $34.95\n",
        "\"\"\"\n",
        "\n",
        "SKU = slice(0, 6)\n",
        "DESCRIPTION = slice(6, 40)\n",
        "UNIT_PRICE = slice(40, 52)\n",
        "QUANTITY = slice(52, 55)\n",
        "ITEM_TOTAL = slice(55, None)\n",
        "line_items = invoice.split('\\n')[2:]"
      ],
      "metadata": {
        "id": "7fFSe81bReTf"
      },
      "execution_count": null,
      "outputs": []
    },
    {
      "cell_type": "code",
      "source": [
        "for item in line_items:\n",
        "  print(item[UNIT_PRICE], item[DESCRIPTION])"
      ],
      "metadata": {
        "colab": {
          "base_uri": "https://localhost:8080/"
        },
        "id": "dxyX_PfwSilW",
        "outputId": "cb27043a-703f-4a52-c8dc-f94a472336e6"
      },
      "execution_count": null,
      "outputs": [
        {
          "output_type": "stream",
          "name": "stdout",
          "text": [
            "    $17.50   Pimoroni PiBrella                 \n",
            "     $4.95   6mm Tactile Switch x20            \n",
            "    $28.00   Panavise Jr. - PV-201             \n",
            "    $34.95   PiTFT Mini Kit 320x240            \n",
            " \n"
          ]
        }
      ]
    },
    {
      "cell_type": "markdown",
      "source": [
        "#### Multidimensional Slicing and Ellipsis"
      ],
      "metadata": {
        "id": "q37tF4-ESuwk"
      }
    },
    {
      "cell_type": "code",
      "source": [
        "import numpy as np\n",
        "hi = np.random.rand(3, 4, 2)"
      ],
      "metadata": {
        "id": "5je00nLtSj8e"
      },
      "execution_count": null,
      "outputs": []
    },
    {
      "cell_type": "code",
      "source": [
        "hi[2, ..., 1] == hi[2, :, 1]"
      ],
      "metadata": {
        "colab": {
          "base_uri": "https://localhost:8080/"
        },
        "id": "ZfIWcJ8STXX2",
        "outputId": "387ed87b-1759-430e-d9bf-ec38647c88db"
      },
      "execution_count": null,
      "outputs": [
        {
          "output_type": "execute_result",
          "data": {
            "text/plain": [
              "array([ True,  True,  True,  True])"
            ]
          },
          "metadata": {},
          "execution_count": 26
        }
      ]
    },
    {
      "cell_type": "code",
      "source": [
        "l = list(range(10))\n",
        "l"
      ],
      "metadata": {
        "colab": {
          "base_uri": "https://localhost:8080/"
        },
        "id": "rpO9C9rOTdpu",
        "outputId": "70139b91-3647-42b4-8c85-cdb8c2715a70"
      },
      "execution_count": null,
      "outputs": [
        {
          "output_type": "execute_result",
          "data": {
            "text/plain": [
              "[0, 1, 2, 3, 4, 5, 6, 7, 8, 9]"
            ]
          },
          "metadata": {},
          "execution_count": 27
        }
      ]
    },
    {
      "cell_type": "code",
      "source": [
        "l[2:5] = [20, 30]"
      ],
      "metadata": {
        "id": "k-V_5kU_T7Rt"
      },
      "execution_count": null,
      "outputs": []
    },
    {
      "cell_type": "code",
      "source": [
        "l"
      ],
      "metadata": {
        "colab": {
          "base_uri": "https://localhost:8080/"
        },
        "id": "MWQT7PUeT8u9",
        "outputId": "9334df83-4ed0-46d3-ce79-8d58c8701931"
      },
      "execution_count": null,
      "outputs": [
        {
          "output_type": "execute_result",
          "data": {
            "text/plain": [
              "[0, 1, 20, 30, 5, 6, 7, 8, 9]"
            ]
          },
          "metadata": {},
          "execution_count": 30
        }
      ]
    },
    {
      "cell_type": "code",
      "source": [
        "del l[5:7]"
      ],
      "metadata": {
        "id": "OPa1P82QUCPs"
      },
      "execution_count": null,
      "outputs": []
    },
    {
      "cell_type": "code",
      "source": [
        "l"
      ],
      "metadata": {
        "colab": {
          "base_uri": "https://localhost:8080/"
        },
        "id": "0fwrCdg2UFWe",
        "outputId": "f3ca788d-76c6-42e3-8ac5-4b364f31950f"
      },
      "execution_count": null,
      "outputs": [
        {
          "output_type": "execute_result",
          "data": {
            "text/plain": [
              "[0, 1, 20, 30, 5, 8, 9]"
            ]
          },
          "metadata": {},
          "execution_count": 32
        }
      ]
    },
    {
      "cell_type": "code",
      "source": [
        "l[3::2]"
      ],
      "metadata": {
        "colab": {
          "base_uri": "https://localhost:8080/"
        },
        "id": "s0SSORMIUHXl",
        "outputId": "b2e003a7-27a1-4b0b-cde1-9a78d406c332"
      },
      "execution_count": null,
      "outputs": [
        {
          "output_type": "execute_result",
          "data": {
            "text/plain": [
              "[30, 8]"
            ]
          },
          "metadata": {},
          "execution_count": 33
        }
      ]
    },
    {
      "cell_type": "code",
      "source": [
        "l[2:5] = 100"
      ],
      "metadata": {
        "colab": {
          "base_uri": "https://localhost:8080/",
          "height": 149
        },
        "id": "KH8a2WMZUKf3",
        "outputId": "af0c2a1b-d8ea-48c0-9867-9332bcafacf8"
      },
      "execution_count": null,
      "outputs": [
        {
          "output_type": "error",
          "ename": "TypeError",
          "evalue": "can only assign an iterable",
          "traceback": [
            "\u001b[0;31m---------------------------------------------------------------------------\u001b[0m",
            "\u001b[0;31mTypeError\u001b[0m                                 Traceback (most recent call last)",
            "\u001b[0;32m<ipython-input-35-da8b10461280>\u001b[0m in \u001b[0;36m<cell line: 1>\u001b[0;34m()\u001b[0m\n\u001b[0;32m----> 1\u001b[0;31m \u001b[0ml\u001b[0m\u001b[0;34m[\u001b[0m\u001b[0;36m2\u001b[0m\u001b[0;34m:\u001b[0m\u001b[0;36m5\u001b[0m\u001b[0;34m]\u001b[0m \u001b[0;34m=\u001b[0m \u001b[0;36m100\u001b[0m\u001b[0;34m\u001b[0m\u001b[0;34m\u001b[0m\u001b[0m\n\u001b[0m",
            "\u001b[0;31mTypeError\u001b[0m: can only assign an iterable"
          ]
        }
      ]
    },
    {
      "cell_type": "markdown",
      "source": [
        "#### Using + and * with Sequences"
      ],
      "metadata": {
        "id": "PjAykuPWW4Ik"
      }
    },
    {
      "cell_type": "code",
      "source": [
        "l = [1, 2, 3]\n",
        "l * 5"
      ],
      "metadata": {
        "id": "qDNtRInxUL4m",
        "colab": {
          "base_uri": "https://localhost:8080/"
        },
        "outputId": "93a0c831-388c-40be-a66d-659d1990e1e7"
      },
      "execution_count": 1,
      "outputs": [
        {
          "output_type": "execute_result",
          "data": {
            "text/plain": [
              "[1, 2, 3, 1, 2, 3, 1, 2, 3, 1, 2, 3, 1, 2, 3]"
            ]
          },
          "metadata": {},
          "execution_count": 1
        }
      ]
    },
    {
      "cell_type": "code",
      "source": [
        "5 * 'abcd'"
      ],
      "metadata": {
        "colab": {
          "base_uri": "https://localhost:8080/",
          "height": 36
        },
        "id": "uw1tDohcW1Wf",
        "outputId": "11217fec-9198-4f23-8bbd-8d66649f705e"
      },
      "execution_count": 2,
      "outputs": [
        {
          "output_type": "execute_result",
          "data": {
            "text/plain": [
              "'abcdabcdabcdabcdabcd'"
            ],
            "application/vnd.google.colaboratory.intrinsic+json": {
              "type": "string"
            }
          },
          "metadata": {},
          "execution_count": 2
        }
      ]
    },
    {
      "cell_type": "markdown",
      "source": [
        "Warning! `my_list` in the below code results in a list with three references to the same inner list"
      ],
      "metadata": {
        "id": "gFMTz5IcXKDS"
      }
    },
    {
      "cell_type": "code",
      "source": [
        "my_list = [[]] * 3"
      ],
      "metadata": {
        "id": "zwH4jUqlW3pf"
      },
      "execution_count": 3,
      "outputs": []
    },
    {
      "cell_type": "code",
      "source": [
        "my_list[0].append(1)"
      ],
      "metadata": {
        "id": "1FxA7SueXEbg"
      },
      "execution_count": 4,
      "outputs": []
    },
    {
      "cell_type": "code",
      "source": [
        "my_list"
      ],
      "metadata": {
        "colab": {
          "base_uri": "https://localhost:8080/"
        },
        "id": "HbrQYNhyXH02",
        "outputId": "1d593d17-87c7-48b2-ae54-c15be369d7e3"
      },
      "execution_count": 5,
      "outputs": [
        {
          "output_type": "execute_result",
          "data": {
            "text/plain": [
              "[[1], [1], [1]]"
            ]
          },
          "metadata": {},
          "execution_count": 5
        }
      ]
    },
    {
      "cell_type": "code",
      "source": [
        "board = [['_'] * 3 for i in range(3)] # create a list of three lists of three items each"
      ],
      "metadata": {
        "id": "EzEWm2FKXInf"
      },
      "execution_count": 6,
      "outputs": []
    },
    {
      "cell_type": "code",
      "source": [
        "board"
      ],
      "metadata": {
        "colab": {
          "base_uri": "https://localhost:8080/"
        },
        "id": "XxFv_7_XXlKW",
        "outputId": "7193b96c-717c-44ac-b65f-9031277c2d29"
      },
      "execution_count": 7,
      "outputs": [
        {
          "output_type": "execute_result",
          "data": {
            "text/plain": [
              "[['_', '_', '_'], ['_', '_', '_'], ['_', '_', '_']]"
            ]
          },
          "metadata": {},
          "execution_count": 7
        }
      ]
    },
    {
      "cell_type": "code",
      "source": [
        "board[1][2] = 'X'"
      ],
      "metadata": {
        "id": "rpgW3WzbXli5"
      },
      "execution_count": 8,
      "outputs": []
    },
    {
      "cell_type": "code",
      "source": [
        "board"
      ],
      "metadata": {
        "colab": {
          "base_uri": "https://localhost:8080/"
        },
        "id": "FbDRouuaXn1o",
        "outputId": "a9f94934-4b31-4652-f8f4-991ab3dfc8a8"
      },
      "execution_count": 9,
      "outputs": [
        {
          "output_type": "execute_result",
          "data": {
            "text/plain": [
              "[['_', '_', '_'], ['_', '_', 'X'], ['_', '_', '_']]"
            ]
          },
          "metadata": {},
          "execution_count": 9
        }
      ]
    },
    {
      "cell_type": "code",
      "source": [
        "## internal of the above code\n",
        "board = []\n",
        "for i in range(3):\n",
        "  row = ['_'] * 3\n",
        "  board.append(row) # the same row is appended three times to `board`"
      ],
      "metadata": {
        "id": "gRh2vD9SYQ6V"
      },
      "execution_count": 14,
      "outputs": []
    },
    {
      "cell_type": "code",
      "source": [
        "board[1][2] = 'X'\n",
        "board"
      ],
      "metadata": {
        "colab": {
          "base_uri": "https://localhost:8080/"
        },
        "id": "6A0GXyPvYTR3",
        "outputId": "7c78bccc-7909-49a1-a6d9-f78bc2ff5143"
      },
      "execution_count": 15,
      "outputs": [
        {
          "output_type": "execute_result",
          "data": {
            "text/plain": [
              "[['_', '_', '_'], ['_', '_', 'X'], ['_', '_', '_']]"
            ]
          },
          "metadata": {},
          "execution_count": 15
        }
      ]
    },
    {
      "cell_type": "markdown",
      "source": [
        "Warning! Below code is not working as intended"
      ],
      "metadata": {
        "id": "ee3uXsg2XqeJ"
      }
    },
    {
      "cell_type": "code",
      "source": [
        "weird_board = [['_'] * 3] * 3 # outer list is made of three references to the same list\n",
        "print(weird_board)\n",
        "weird_board[1][2] = 'X'\n",
        "weird_board"
      ],
      "metadata": {
        "colab": {
          "base_uri": "https://localhost:8080/"
        },
        "id": "bOs4qqBgXoIv",
        "outputId": "50863900-7572-4a40-aa4f-890627193310"
      },
      "execution_count": 10,
      "outputs": [
        {
          "output_type": "stream",
          "name": "stdout",
          "text": [
            "[['_', '_', '_'], ['_', '_', '_'], ['_', '_', '_']]\n"
          ]
        },
        {
          "output_type": "execute_result",
          "data": {
            "text/plain": [
              "[['_', '_', 'X'], ['_', '_', 'X'], ['_', '_', 'X']]"
            ]
          },
          "metadata": {},
          "execution_count": 10
        }
      ]
    },
    {
      "cell_type": "code",
      "source": [
        "## internal of the above code\n",
        "row = ['_'] * 3\n",
        "board = []\n",
        "for i in range(3):\n",
        "  board.append(row) # the same row is appended three times to `board`"
      ],
      "metadata": {
        "id": "-xdDlzAiX0xm"
      },
      "execution_count": 11,
      "outputs": []
    },
    {
      "cell_type": "code",
      "source": [],
      "metadata": {
        "id": "AP2lWiEaYQHh"
      },
      "execution_count": null,
      "outputs": []
    },
    {
      "cell_type": "code",
      "source": [
        "board"
      ],
      "metadata": {
        "colab": {
          "base_uri": "https://localhost:8080/"
        },
        "id": "44gyAlhvYGr-",
        "outputId": "db3d13ba-ba29-45b2-f774-edd6b4b2ee39"
      },
      "execution_count": 12,
      "outputs": [
        {
          "output_type": "execute_result",
          "data": {
            "text/plain": [
              "[['_', '_', '_'], ['_', '_', '_'], ['_', '_', '_']]"
            ]
          },
          "metadata": {},
          "execution_count": 12
        }
      ]
    },
    {
      "cell_type": "code",
      "source": [
        "board[1][2] = 'O'\n",
        "board"
      ],
      "metadata": {
        "colab": {
          "base_uri": "https://localhost:8080/"
        },
        "id": "6LqKtkxYYHa2",
        "outputId": "85433ef2-c397-4f14-ad95-dda8857d7205"
      },
      "execution_count": 13,
      "outputs": [
        {
          "output_type": "execute_result",
          "data": {
            "text/plain": [
              "[['_', '_', 'O'], ['_', '_', 'O'], ['_', '_', 'O']]"
            ]
          },
          "metadata": {},
          "execution_count": 13
        }
      ]
    },
    {
      "cell_type": "markdown",
      "source": [
        "##### Note\n",
        "How `a += b` is executed?\n",
        " 1. If `__iadd__` is available, that will be called (`a` will be changed in place)\n",
        " 2. If not, new object `a + b` will be created and `a` will be bounded to that new object."
      ],
      "metadata": {
        "id": "Tt6V9Bj1Y47E"
      }
    },
    {
      "cell_type": "code",
      "source": [
        "l = [1, 2, 3]\n",
        "print(l)\n",
        "id(l)"
      ],
      "metadata": {
        "colab": {
          "base_uri": "https://localhost:8080/"
        },
        "id": "CS9V3d1wYJ4m",
        "outputId": "dbdf3645-a177-435a-b7e4-f661ef983fc6"
      },
      "execution_count": 22,
      "outputs": [
        {
          "output_type": "stream",
          "name": "stdout",
          "text": [
            "[1, 2, 3]\n"
          ]
        },
        {
          "output_type": "execute_result",
          "data": {
            "text/plain": [
              "138574041463872"
            ]
          },
          "metadata": {},
          "execution_count": 22
        }
      ]
    },
    {
      "cell_type": "code",
      "source": [
        "l *= 2\n",
        "print(l)\n",
        "id(l)"
      ],
      "metadata": {
        "colab": {
          "base_uri": "https://localhost:8080/"
        },
        "id": "vbg5qNlLZWPO",
        "outputId": "d02b6247-781b-4d2e-fff5-1b656dfd3d5c"
      },
      "execution_count": 23,
      "outputs": [
        {
          "output_type": "stream",
          "name": "stdout",
          "text": [
            "[1, 2, 3, 1, 2, 3]\n"
          ]
        },
        {
          "output_type": "execute_result",
          "data": {
            "text/plain": [
              "138574041463872"
            ]
          },
          "metadata": {},
          "execution_count": 23
        }
      ]
    },
    {
      "cell_type": "code",
      "source": [
        "t = (1, 2, 3)\n",
        "id(t)"
      ],
      "metadata": {
        "colab": {
          "base_uri": "https://localhost:8080/"
        },
        "id": "E1HKOxjbZX23",
        "outputId": "825c8dad-cb08-4bcb-fe3a-afa5106e1b38"
      },
      "execution_count": 30,
      "outputs": [
        {
          "output_type": "execute_result",
          "data": {
            "text/plain": [
              "138574043252928"
            ]
          },
          "metadata": {},
          "execution_count": 30
        }
      ]
    },
    {
      "cell_type": "code",
      "source": [
        "t *= 2\n",
        "id(t)"
      ],
      "metadata": {
        "colab": {
          "base_uri": "https://localhost:8080/"
        },
        "id": "RrHuuam1Zk9e",
        "outputId": "5019a1ad-7078-4a3d-9b6a-a15e795c6579"
      },
      "execution_count": 31,
      "outputs": [
        {
          "output_type": "execute_result",
          "data": {
            "text/plain": [
              "138574280535744"
            ]
          },
          "metadata": {},
          "execution_count": 31
        }
      ]
    },
    {
      "cell_type": "code",
      "source": [
        "t = (1, 2, [30, 40])\n",
        "t[2] += [50, 60]"
      ],
      "metadata": {
        "colab": {
          "base_uri": "https://localhost:8080/",
          "height": 168
        },
        "id": "m3sH8Sa1ZseW",
        "outputId": "80397206-5301-4e93-b439-bfdf24039192"
      },
      "execution_count": 32,
      "outputs": [
        {
          "output_type": "error",
          "ename": "TypeError",
          "evalue": "'tuple' object does not support item assignment",
          "traceback": [
            "\u001b[0;31m---------------------------------------------------------------------------\u001b[0m",
            "\u001b[0;31mTypeError\u001b[0m                                 Traceback (most recent call last)",
            "\u001b[0;32m<ipython-input-32-0e9217592952>\u001b[0m in \u001b[0;36m<cell line: 2>\u001b[0;34m()\u001b[0m\n\u001b[1;32m      1\u001b[0m \u001b[0mt\u001b[0m \u001b[0;34m=\u001b[0m \u001b[0;34m(\u001b[0m\u001b[0;36m1\u001b[0m\u001b[0;34m,\u001b[0m \u001b[0;36m2\u001b[0m\u001b[0;34m,\u001b[0m \u001b[0;34m[\u001b[0m\u001b[0;36m30\u001b[0m\u001b[0;34m,\u001b[0m \u001b[0;36m40\u001b[0m\u001b[0;34m]\u001b[0m\u001b[0;34m)\u001b[0m\u001b[0;34m\u001b[0m\u001b[0;34m\u001b[0m\u001b[0m\n\u001b[0;32m----> 2\u001b[0;31m \u001b[0mt\u001b[0m\u001b[0;34m[\u001b[0m\u001b[0;36m2\u001b[0m\u001b[0;34m]\u001b[0m \u001b[0;34m+=\u001b[0m \u001b[0;34m[\u001b[0m\u001b[0;36m50\u001b[0m\u001b[0;34m,\u001b[0m \u001b[0;36m60\u001b[0m\u001b[0;34m]\u001b[0m\u001b[0;34m\u001b[0m\u001b[0;34m\u001b[0m\u001b[0m\n\u001b[0m",
            "\u001b[0;31mTypeError\u001b[0m: 'tuple' object does not support item assignment"
          ]
        }
      ]
    },
    {
      "cell_type": "code",
      "source": [
        "t"
      ],
      "metadata": {
        "colab": {
          "base_uri": "https://localhost:8080/"
        },
        "id": "5jjmHHnjaDO2",
        "outputId": "62246a38-e5d7-4a41-89ac-4d7ec70a992c"
      },
      "execution_count": 33,
      "outputs": [
        {
          "output_type": "execute_result",
          "data": {
            "text/plain": [
              "(1, 2, [30, 40, 50, 60])"
            ]
          },
          "metadata": {},
          "execution_count": 33
        }
      ]
    },
    {
      "cell_type": "code",
      "source": [
        "import dis\n",
        "dis.dis('s[a] += b')"
      ],
      "metadata": {
        "colab": {
          "base_uri": "https://localhost:8080/"
        },
        "id": "bpMm2pRgaNGe",
        "outputId": "ca501176-b00a-4355-8694-6793ac3bcb96"
      },
      "execution_count": 35,
      "outputs": [
        {
          "output_type": "stream",
          "name": "stdout",
          "text": [
            "  1           0 LOAD_NAME                0 (s)\n",
            "              2 LOAD_NAME                1 (a)\n",
            "              4 DUP_TOP_TWO\n",
            "              6 BINARY_SUBSCR\n",
            "              8 LOAD_NAME                2 (b)\n",
            "             10 INPLACE_ADD\n",
            "             12 ROT_THREE\n",
            "             14 STORE_SUBSCR\n",
            "             16 LOAD_CONST               0 (None)\n",
            "             18 RETURN_VALUE\n"
          ]
        }
      ]
    },
    {
      "cell_type": "markdown",
      "source": [
        "3 Lessons\n",
        " - Avoid putting mutable items in tuples\n",
        " - Augmented assignment is not an atomic operation\n",
        " - inspecting python bytecoe is not too difficult, and can be helpful to see what is going on under the hood"
      ],
      "metadata": {
        "id": "-NEMPIR6boOA"
      }
    },
    {
      "cell_type": "markdown",
      "source": [
        "### `list.sort` vs the `sorted` built-in"
      ],
      "metadata": {
        "id": "x3Kd1pu_b8xG"
      }
    },
    {
      "cell_type": "code",
      "source": [
        "fruits = ['grape', 'raspberry', 'apple', 'banana']\n",
        "sorted(fruits)"
      ],
      "metadata": {
        "colab": {
          "base_uri": "https://localhost:8080/"
        },
        "id": "yr_cjJpybDfN",
        "outputId": "14d1dbe0-1472-444d-a742-50fb69006fee"
      },
      "execution_count": 36,
      "outputs": [
        {
          "output_type": "execute_result",
          "data": {
            "text/plain": [
              "['apple', 'banana', 'grape', 'raspberry']"
            ]
          },
          "metadata": {},
          "execution_count": 36
        }
      ]
    },
    {
      "cell_type": "code",
      "source": [
        "fruits"
      ],
      "metadata": {
        "colab": {
          "base_uri": "https://localhost:8080/"
        },
        "id": "rTbnh_VFciu9",
        "outputId": "941eb65c-9a88-40d8-8775-303dd58a87f3"
      },
      "execution_count": 37,
      "outputs": [
        {
          "output_type": "execute_result",
          "data": {
            "text/plain": [
              "['grape', 'raspberry', 'apple', 'banana']"
            ]
          },
          "metadata": {},
          "execution_count": 37
        }
      ]
    },
    {
      "cell_type": "code",
      "source": [
        "sorted(fruits, reverse=True)"
      ],
      "metadata": {
        "colab": {
          "base_uri": "https://localhost:8080/"
        },
        "id": "j24uLaeOckAl",
        "outputId": "97a2f103-0636-4b0c-b6b6-b7d16839bb32"
      },
      "execution_count": 38,
      "outputs": [
        {
          "output_type": "execute_result",
          "data": {
            "text/plain": [
              "['raspberry', 'grape', 'banana', 'apple']"
            ]
          },
          "metadata": {},
          "execution_count": 38
        }
      ]
    },
    {
      "cell_type": "code",
      "source": [
        "sorted(fruits, key=len)"
      ],
      "metadata": {
        "colab": {
          "base_uri": "https://localhost:8080/"
        },
        "id": "N_HyOEnycmJm",
        "outputId": "c3fe23ca-9623-4e1a-d509-ce12ec7fb05e"
      },
      "execution_count": 39,
      "outputs": [
        {
          "output_type": "execute_result",
          "data": {
            "text/plain": [
              "['grape', 'apple', 'banana', 'raspberry']"
            ]
          },
          "metadata": {},
          "execution_count": 39
        }
      ]
    },
    {
      "cell_type": "code",
      "source": [
        "sorted(fruits, key=len, reverse=True)"
      ],
      "metadata": {
        "colab": {
          "base_uri": "https://localhost:8080/"
        },
        "id": "1ywj2VDxcoNF",
        "outputId": "2ef63965-403b-41ad-f0cd-cd957d855e49"
      },
      "execution_count": 40,
      "outputs": [
        {
          "output_type": "execute_result",
          "data": {
            "text/plain": [
              "['raspberry', 'banana', 'grape', 'apple']"
            ]
          },
          "metadata": {},
          "execution_count": 40
        }
      ]
    },
    {
      "cell_type": "code",
      "source": [
        "fruits"
      ],
      "metadata": {
        "colab": {
          "base_uri": "https://localhost:8080/"
        },
        "id": "1hZ_VZFvcsLG",
        "outputId": "8e3225be-7e6e-4fb3-9a50-d39b1dd5a0c8"
      },
      "execution_count": 41,
      "outputs": [
        {
          "output_type": "execute_result",
          "data": {
            "text/plain": [
              "['grape', 'raspberry', 'apple', 'banana']"
            ]
          },
          "metadata": {},
          "execution_count": 41
        }
      ]
    },
    {
      "cell_type": "code",
      "source": [
        "fruits.sort()"
      ],
      "metadata": {
        "id": "weZQAO40cukt"
      },
      "execution_count": 42,
      "outputs": []
    },
    {
      "cell_type": "code",
      "source": [
        "fruits"
      ],
      "metadata": {
        "colab": {
          "base_uri": "https://localhost:8080/"
        },
        "id": "k3clqpGOcwiH",
        "outputId": "6056a9f8-651a-49f7-9326-e9862d023fb9"
      },
      "execution_count": 43,
      "outputs": [
        {
          "output_type": "execute_result",
          "data": {
            "text/plain": [
              "['apple', 'banana', 'grape', 'raspberry']"
            ]
          },
          "metadata": {},
          "execution_count": 43
        }
      ]
    },
    {
      "cell_type": "markdown",
      "source": [
        "#### managing ordered sequences with bisect"
      ],
      "metadata": {
        "id": "zQYJKunidvv_"
      }
    },
    {
      "cell_type": "code",
      "source": [
        "## bisect_demo.py\n",
        "##\n",
        "# import bisect\n",
        "# import sys\n",
        "\n",
        "# HAYSTACK = [1, 4, 5, 6, 8, 12, 15, 20, 21, 23, 23, 26, 29, 30]\n",
        "# NEEDLES = [0, 1, 2, 5, 8, 10, 22, 23, 29, 30, 31]\n",
        "\n",
        "# ROW_FMT = '{0:2d} @ {1:2d}    {2}{0:<2d}'\n",
        "\n",
        "# def demo(bisect_fn):\n",
        "#   for needle in reversed(NEEDLES):\n",
        "#     position = bisect_fn(HAYSTACK, needle)\n",
        "#     offset = position * '  |'\n",
        "#     print(ROW_FMT.format(needle, position, offset))\n",
        "\n",
        "# if __name__ == '__main__':\n",
        "#   if sys.argv[-1] == 'left':\n",
        "#     bisect_fn = bisect.bisect_left\n",
        "#   else:\n",
        "#     bisect_fn = bisect.bisect\n",
        "\n",
        "#   print('DEMO:', bisect_fn.__name__)\n",
        "#   print('haystack->', ' '.join(f'{n:2}' for n in HAYSTACK))\n",
        "#   demo(bisect_fn)"
      ],
      "metadata": {
        "id": "z3f3Oa5Pcw8l"
      },
      "execution_count": null,
      "outputs": []
    },
    {
      "cell_type": "markdown",
      "source": [],
      "metadata": {
        "id": "0kDuKdxwfKK5"
      }
    },
    {
      "cell_type": "code",
      "source": [
        "!python bisect_demo.py left"
      ],
      "metadata": {
        "colab": {
          "base_uri": "https://localhost:8080/"
        },
        "id": "At_e7cJOe8JF",
        "outputId": "47125e01-bd52-41ca-984b-498368a821e7"
      },
      "execution_count": 45,
      "outputs": [
        {
          "output_type": "stream",
          "name": "stdout",
          "text": [
            "DEMO: bisect_left\n",
            "haystack->  1  4  5  6  8 12 15 20 21 23 23 26 29 30\n",
            "31 @ 14      |  |  |  |  |  |  |  |  |  |  |  |  |  |31\n",
            "30 @ 13      |  |  |  |  |  |  |  |  |  |  |  |  |30\n",
            "29 @ 12      |  |  |  |  |  |  |  |  |  |  |  |29\n",
            "23 @  9      |  |  |  |  |  |  |  |  |23\n",
            "22 @  9      |  |  |  |  |  |  |  |  |22\n",
            "10 @  5      |  |  |  |  |10\n",
            " 8 @  4      |  |  |  |8 \n",
            " 5 @  2      |  |5 \n",
            " 2 @  1      |2 \n",
            " 1 @  0    1 \n",
            " 0 @  0    0 \n"
          ]
        }
      ]
    },
    {
      "cell_type": "code",
      "source": [],
      "metadata": {
        "id": "53ZhkNYTe_Ml"
      },
      "execution_count": null,
      "outputs": []
    }
  ]
}