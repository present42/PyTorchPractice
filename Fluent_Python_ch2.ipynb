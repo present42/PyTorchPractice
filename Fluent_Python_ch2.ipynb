{
  "nbformat": 4,
  "nbformat_minor": 0,
  "metadata": {
    "colab": {
      "provenance": [],
      "authorship_tag": "ABX9TyPybb9tFJUNbRxQhlXvv1UV",
      "include_colab_link": true
    },
    "kernelspec": {
      "name": "python3",
      "display_name": "Python 3"
    },
    "language_info": {
      "name": "python"
    }
  },
  "cells": [
    {
      "cell_type": "markdown",
      "metadata": {
        "id": "view-in-github",
        "colab_type": "text"
      },
      "source": [
        "<a href=\"https://colab.research.google.com/github/present42/PyTorchPractice/blob/main/Fluent_Python_ch2.ipynb\" target=\"_parent\"><img src=\"https://colab.research.google.com/assets/colab-badge.svg\" alt=\"Open In Colab\"/></a>"
      ]
    },
    {
      "cell_type": "markdown",
      "source": [
        "## First way of grouping sequence types\n",
        "* Container Sequences\n",
        " - e.g. `list`, `tuple`, `collections.deque`\n",
        " - can hold heterogenous items\n",
        "\n",
        "* Flat Sequences\n",
        " - e.g. `str`, `bytes`, `array.array`\n",
        " - hold items of one simple type\n",
        "\n",
        "## Second way of grouping sequence types\n",
        "* Mutable Sequences\n",
        " - e.g. `list`, `bytearray`, `array.array`, `collections.deque`\n",
        "* Immutable Sequences\n",
        " - e.g. `tuple`, `str`, `bytes`"
      ],
      "metadata": {
        "id": "kyiX4PfjN7vV"
      }
    },
    {
      "cell_type": "code",
      "execution_count": null,
      "metadata": {
        "id": "VMOMbbvjN5cT"
      },
      "outputs": [],
      "source": [
        "from collections import abc"
      ]
    },
    {
      "cell_type": "markdown",
      "source": [
        "built-in concrete sequence types are *virtual subclasses* of `MutableSequence`, `Sequence`"
      ],
      "metadata": {
        "id": "Y-GPe_fuO0ep"
      }
    },
    {
      "cell_type": "code",
      "source": [
        "issubclass(tuple, abc.Sequence)\n",
        "# issubclass(list, abc.Sequence)"
      ],
      "metadata": {
        "colab": {
          "base_uri": "https://localhost:8080/"
        },
        "id": "lRwPDaYZOxy3",
        "outputId": "24b31018-d5c9-41ad-f314-0b21902f448c"
      },
      "execution_count": null,
      "outputs": [
        {
          "output_type": "execute_result",
          "data": {
            "text/plain": [
              "True"
            ]
          },
          "metadata": {},
          "execution_count": 6
        }
      ]
    },
    {
      "cell_type": "code",
      "source": [
        "x = 'ABC'\n",
        "codes = [ord(x) for x in x]"
      ],
      "metadata": {
        "id": "4UrCJUYzQvbY"
      },
      "execution_count": 1,
      "outputs": []
    },
    {
      "cell_type": "code",
      "source": [
        "codes = [last := ord(c) for c in x]"
      ],
      "metadata": {
        "id": "S7sTWEI3irij"
      },
      "execution_count": 4,
      "outputs": []
    },
    {
      "cell_type": "code",
      "source": [
        "last"
      ],
      "metadata": {
        "colab": {
          "base_uri": "https://localhost:8080/"
        },
        "id": "Z_8iU6acisla",
        "outputId": "892ea908-295d-401e-b049-1019aca5f2e4"
      },
      "execution_count": 5,
      "outputs": [
        {
          "output_type": "execute_result",
          "data": {
            "text/plain": [
              "67"
            ]
          },
          "metadata": {},
          "execution_count": 5
        }
      ]
    },
    {
      "cell_type": "code",
      "source": [
        "codes"
      ],
      "metadata": {
        "colab": {
          "base_uri": "https://localhost:8080/"
        },
        "id": "g5qndYXXivdx",
        "outputId": "246c6cbf-397e-43b7-c6de-ad7d0d5acd51"
      },
      "execution_count": 6,
      "outputs": [
        {
          "output_type": "execute_result",
          "data": {
            "text/plain": [
              "[65, 66, 67]"
            ]
          },
          "metadata": {},
          "execution_count": 6
        }
      ]
    },
    {
      "cell_type": "code",
      "source": [
        "symbols = \"$¢£¤¥¦§\"\n",
        "beyond_ascii = [ord(s) for s in symbols if ord(s) > 127]\n",
        "beyond_ascii"
      ],
      "metadata": {
        "colab": {
          "base_uri": "https://localhost:8080/"
        },
        "id": "zpZQXIHOjFtB",
        "outputId": "ca4d40df-c26b-45b5-cee4-0537cb0d246f"
      },
      "execution_count": 10,
      "outputs": [
        {
          "output_type": "execute_result",
          "data": {
            "text/plain": [
              "[162, 163, 164, 165, 166, 167]"
            ]
          },
          "metadata": {},
          "execution_count": 10
        }
      ]
    },
    {
      "cell_type": "code",
      "source": [
        "beyond_ascii = list(filter(lambda c: c > 127, map(ord, symbols)))"
      ],
      "metadata": {
        "id": "qoYzrU_Mjn_p"
      },
      "execution_count": 12,
      "outputs": []
    },
    {
      "cell_type": "code",
      "source": [
        "beyond_ascii"
      ],
      "metadata": {
        "colab": {
          "base_uri": "https://localhost:8080/"
        },
        "id": "aXBiBCfskABl",
        "outputId": "9b645d7a-6bb1-4a9f-9b0a-b87bd8fabf74"
      },
      "execution_count": 13,
      "outputs": [
        {
          "output_type": "execute_result",
          "data": {
            "text/plain": [
              "[162, 163, 164, 165, 166, 167]"
            ]
          },
          "metadata": {},
          "execution_count": 13
        }
      ]
    },
    {
      "cell_type": "code",
      "source": [
        "%%timeit\n",
        "beyond_ascii = [ord(s) for s in symbols if ord(s) > 127]"
      ],
      "metadata": {
        "colab": {
          "base_uri": "https://localhost:8080/"
        },
        "id": "aEneWEvbkGZR",
        "outputId": "9084db2f-4ff5-45d4-a90b-75d3b09c85ba"
      },
      "execution_count": 14,
      "outputs": [
        {
          "output_type": "stream",
          "name": "stdout",
          "text": [
            "1.14 µs ± 105 ns per loop (mean ± std. dev. of 7 runs, 1000000 loops each)\n"
          ]
        }
      ]
    },
    {
      "cell_type": "code",
      "source": [
        "%%timeit\n",
        "beyond_ascii = list(filter(lambda c: c > 127, map(ord, symbols)))"
      ],
      "metadata": {
        "colab": {
          "base_uri": "https://localhost:8080/"
        },
        "id": "bEa6mZFikMRo",
        "outputId": "c72337d0-e939-4a5a-8139-cb2ca1050aa2"
      },
      "execution_count": 15,
      "outputs": [
        {
          "output_type": "stream",
          "name": "stdout",
          "text": [
            "1.37 µs ± 312 ns per loop (mean ± std. dev. of 7 runs, 1000000 loops each)\n"
          ]
        }
      ]
    },
    {
      "cell_type": "code",
      "source": [
        "colors = ['black', 'white']\n",
        "sizes = ['S', 'M', 'L']\n",
        "tshirts = [(color, size) for color in colors for size in sizes]"
      ],
      "metadata": {
        "id": "yS_r3IBFkOhA"
      },
      "execution_count": 16,
      "outputs": []
    },
    {
      "cell_type": "code",
      "source": [
        "tshirts"
      ],
      "metadata": {
        "colab": {
          "base_uri": "https://localhost:8080/"
        },
        "id": "vjcfZ8-gkjiA",
        "outputId": "9fc8d473-c9cd-493b-b048-9598cd2b1f74"
      },
      "execution_count": 17,
      "outputs": [
        {
          "output_type": "execute_result",
          "data": {
            "text/plain": [
              "[('black', 'S'),\n",
              " ('black', 'M'),\n",
              " ('black', 'L'),\n",
              " ('white', 'S'),\n",
              " ('white', 'M'),\n",
              " ('white', 'L')]"
            ]
          },
          "metadata": {},
          "execution_count": 17
        }
      ]
    },
    {
      "cell_type": "code",
      "source": [
        "tshirts = [(color, size) for size in sizes\n",
        "                          for color in colors]"
      ],
      "metadata": {
        "id": "Wc9q9D3xkkOw"
      },
      "execution_count": 18,
      "outputs": []
    },
    {
      "cell_type": "code",
      "source": [
        "tshirts"
      ],
      "metadata": {
        "colab": {
          "base_uri": "https://localhost:8080/"
        },
        "id": "xBHl5vLEkxyf",
        "outputId": "5992d02d-396d-4d89-828a-0728b6d521d1"
      },
      "execution_count": 19,
      "outputs": [
        {
          "output_type": "execute_result",
          "data": {
            "text/plain": [
              "[('black', 'S'),\n",
              " ('white', 'S'),\n",
              " ('black', 'M'),\n",
              " ('white', 'M'),\n",
              " ('black', 'L'),\n",
              " ('white', 'L')]"
            ]
          },
          "metadata": {},
          "execution_count": 19
        }
      ]
    },
    {
      "cell_type": "markdown",
      "source": [
        "## Generator Expressions\n",
        " - It saves memory because it yields items one by one using the iterator protocol instead of building a whole list just to feed another constructor"
      ],
      "metadata": {
        "id": "ST8zcoVuk63m"
      }
    },
    {
      "cell_type": "code",
      "source": [
        "symbols = \"$¢£¤¥¦§\"\n",
        "tuple(ord(symbol) for symbol in symbols)\n",
        "\n",
        "import array\n",
        "array.array('I', (ord(symbol) for symbol in symbols))"
      ],
      "metadata": {
        "colab": {
          "base_uri": "https://localhost:8080/"
        },
        "id": "dqWmp11ykycn",
        "outputId": "c92a5dd7-df20-4a4a-c983-1d86cb029693"
      },
      "execution_count": 22,
      "outputs": [
        {
          "output_type": "execute_result",
          "data": {
            "text/plain": [
              "array('I', [36, 162, 163, 164, 165, 166, 167])"
            ]
          },
          "metadata": {},
          "execution_count": 22
        }
      ]
    },
    {
      "cell_type": "code",
      "source": [
        "for tshirt in (f'{c} {s}' for c in colors for s in sizes):\n",
        "  print(tshirt)"
      ],
      "metadata": {
        "colab": {
          "base_uri": "https://localhost:8080/"
        },
        "id": "3d1tbXi7lQCI",
        "outputId": "c31390e6-a203-4b34-e543-da6b90b74a44"
      },
      "execution_count": 23,
      "outputs": [
        {
          "output_type": "stream",
          "name": "stdout",
          "text": [
            "black S\n",
            "black M\n",
            "black L\n",
            "white S\n",
            "white M\n",
            "white L\n"
          ]
        }
      ]
    },
    {
      "cell_type": "code",
      "source": [
        "type(f'{c} {s}' for c in colors for s in sizes)"
      ],
      "metadata": {
        "colab": {
          "base_uri": "https://localhost:8080/"
        },
        "id": "3SJWNgjdlva4",
        "outputId": "169f92d1-ac4b-4948-f821-6036875ce68b"
      },
      "execution_count": 24,
      "outputs": [
        {
          "output_type": "execute_result",
          "data": {
            "text/plain": [
              "generator"
            ]
          },
          "metadata": {},
          "execution_count": 24
        }
      ]
    },
    {
      "cell_type": "markdown",
      "source": [
        "## Tuples Are Not Just Immutable Lists\n",
        " - also used as records with no field names"
      ],
      "metadata": {
        "id": "b8ETr-hLl62R"
      }
    },
    {
      "cell_type": "code",
      "source": [
        "lax_coordinates = (33.9425, -118.408056)\n",
        "city, year, pop, chg, area = ('Tokyo', 2003, 32_450, 0.66, 8014)\n",
        "traveler_ids = [('USA', '3192319'), ('BRA', 'CE230124'), ('ESP', 'XDA12031')]\n",
        "for passport in sorted(traveler_ids):\n",
        "  print('%s/%s' % passport)"
      ],
      "metadata": {
        "colab": {
          "base_uri": "https://localhost:8080/"
        },
        "id": "P33Vt9Fely1J",
        "outputId": "f1ea6fb3-1307-488a-9418-2c0553f78639"
      },
      "execution_count": 26,
      "outputs": [
        {
          "output_type": "stream",
          "name": "stdout",
          "text": [
            "BRA/CE230124\n",
            "ESP/XDA12031\n",
            "USA/3192319\n"
          ]
        }
      ]
    },
    {
      "cell_type": "code",
      "source": [
        "for country, _ in traveler_ids: # unpacking\n",
        "  print(country)"
      ],
      "metadata": {
        "colab": {
          "base_uri": "https://localhost:8080/"
        },
        "id": "ThckGzdimiTg",
        "outputId": "6c10d7dc-05db-4af4-d9cf-d610dee97ff0"
      },
      "execution_count": 29,
      "outputs": [
        {
          "output_type": "stream",
          "name": "stdout",
          "text": [
            "USA\n",
            "BRA\n",
            "ESP\n"
          ]
        }
      ]
    },
    {
      "cell_type": "markdown",
      "source": [
        "### Tuples as Immutable Lists\n",
        " - Clarity\n",
        " - Performance: uses less memory than a list of the same length, allows Python to do some optimization"
      ],
      "metadata": {
        "id": "BAtrFx_5naqT"
      }
    },
    {
      "cell_type": "code",
      "source": [
        "a = (10, 'alpha', [1, 2])\n",
        "b = (10, 'alpha', [1, 2])"
      ],
      "metadata": {
        "id": "MsHE8Hh2my5R"
      },
      "execution_count": 32,
      "outputs": []
    },
    {
      "cell_type": "code",
      "source": [
        "a == b"
      ],
      "metadata": {
        "colab": {
          "base_uri": "https://localhost:8080/"
        },
        "id": "i3E4OSFCm8eo",
        "outputId": "7b15fa0c-df96-4ff3-b757-499c3bd0cfc2"
      },
      "execution_count": 33,
      "outputs": [
        {
          "output_type": "execute_result",
          "data": {
            "text/plain": [
              "True"
            ]
          },
          "metadata": {},
          "execution_count": 33
        }
      ]
    },
    {
      "cell_type": "markdown",
      "source": [
        "### Caveat\n",
        "- Tuples with mutable items can be a source of bugs!!!"
      ],
      "metadata": {
        "id": "MEixbS3NoG1f"
      }
    },
    {
      "cell_type": "code",
      "source": [
        "b[-1].append(99)"
      ],
      "metadata": {
        "id": "FGhxpWaGn_g_"
      },
      "execution_count": 34,
      "outputs": []
    },
    {
      "cell_type": "code",
      "source": [
        "a == b"
      ],
      "metadata": {
        "colab": {
          "base_uri": "https://localhost:8080/"
        },
        "id": "HfN8HRhUoBg_",
        "outputId": "3fcb5837-45a7-44b1-f16d-40847c415441"
      },
      "execution_count": 35,
      "outputs": [
        {
          "output_type": "execute_result",
          "data": {
            "text/plain": [
              "False"
            ]
          },
          "metadata": {},
          "execution_count": 35
        }
      ]
    },
    {
      "cell_type": "code",
      "source": [
        "b"
      ],
      "metadata": {
        "colab": {
          "base_uri": "https://localhost:8080/"
        },
        "id": "rYy4SzlToB_P",
        "outputId": "35de7730-baf4-4960-e494-395ca3b2ada9"
      },
      "execution_count": 36,
      "outputs": [
        {
          "output_type": "execute_result",
          "data": {
            "text/plain": [
              "(10, 'alpha', [1, 2, 99])"
            ]
          },
          "metadata": {},
          "execution_count": 36
        }
      ]
    },
    {
      "cell_type": "code",
      "source": [
        "def fixed(o):\n",
        "  try:\n",
        "    hash(o)\n",
        "  except TypeError:\n",
        "    return False\n",
        "  return True"
      ],
      "metadata": {
        "id": "rA6YimvgoDmg"
      },
      "execution_count": 37,
      "outputs": []
    },
    {
      "cell_type": "markdown",
      "source": [
        "#### `hash()`\n",
        " - An object is only hashable if its value cannot ever change"
      ],
      "metadata": {
        "id": "eF_6yZZnohyt"
      }
    },
    {
      "cell_type": "code",
      "source": [
        "tf = (10, 'alpha', (1, 2))\n",
        "tm = (10, 'alpha', [1, 2])"
      ],
      "metadata": {
        "id": "JrjopaLeoUSI"
      },
      "execution_count": 38,
      "outputs": []
    },
    {
      "cell_type": "code",
      "source": [
        "fixed(tf)"
      ],
      "metadata": {
        "colab": {
          "base_uri": "https://localhost:8080/"
        },
        "id": "7ZU-FwFVoYZv",
        "outputId": "2f7b22f1-5546-4426-b84f-7d8637e194f3"
      },
      "execution_count": 39,
      "outputs": [
        {
          "output_type": "execute_result",
          "data": {
            "text/plain": [
              "True"
            ]
          },
          "metadata": {},
          "execution_count": 39
        }
      ]
    },
    {
      "cell_type": "code",
      "source": [
        "fixed(tm)"
      ],
      "metadata": {
        "colab": {
          "base_uri": "https://localhost:8080/"
        },
        "id": "z6waKVSPob9f",
        "outputId": "d512bda3-8782-46c8-ad56-f8bb21063ea5"
      },
      "execution_count": 40,
      "outputs": [
        {
          "output_type": "execute_result",
          "data": {
            "text/plain": [
              "False"
            ]
          },
          "metadata": {},
          "execution_count": 40
        }
      ]
    },
    {
      "cell_type": "code",
      "source": [],
      "metadata": {
        "id": "nMMgY77Wocw4"
      },
      "execution_count": null,
      "outputs": []
    }
  ]
}