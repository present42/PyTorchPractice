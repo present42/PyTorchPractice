{
  "nbformat": 4,
  "nbformat_minor": 0,
  "metadata": {
    "colab": {
      "provenance": [],
      "gpuType": "T4",
      "authorship_tag": "ABX9TyMI27V0zZ9E6XZhHoXq4OH5",
      "include_colab_link": true
    },
    "kernelspec": {
      "name": "python3",
      "display_name": "Python 3"
    },
    "language_info": {
      "name": "python"
    },
    "accelerator": "GPU"
  },
  "cells": [
    {
      "cell_type": "markdown",
      "metadata": {
        "id": "view-in-github",
        "colab_type": "text"
      },
      "source": [
        "<a href=\"https://colab.research.google.com/github/present42/PyTorchPractice/blob/main/Triton_Official_Tutorial_(1)_Vector_Addition.ipynb\" target=\"_parent\"><img src=\"https://colab.research.google.com/assets/colab-badge.svg\" alt=\"Open In Colab\"/></a>"
      ]
    },
    {
      "cell_type": "code",
      "source": [
        "!export LC_ALL=\"en_US.UTF-8\"\n",
        "!export LD_LIBRARY_PATH=\"/usr/lib64-nvidia\"\n",
        "!export LIBRARY_PATH=\"/usr/local/cuda/lib64/stubs\"\n",
        "!ldconfig /usr/lib64-nvidia"
      ],
      "metadata": {
        "colab": {
          "base_uri": "https://localhost:8080/"
        },
        "id": "ZIRGTytTwHAh",
        "outputId": "e2d0e1ad-640f-4945-b71f-3dacf54834d7"
      },
      "execution_count": 4,
      "outputs": [
        {
          "output_type": "stream",
          "name": "stdout",
          "text": [
            "/sbin/ldconfig.real: /usr/local/lib/libtbbbind_2_5.so.3 is not a symbolic link\n",
            "\n",
            "/sbin/ldconfig.real: /usr/local/lib/libtbbmalloc_proxy.so.2 is not a symbolic link\n",
            "\n",
            "/sbin/ldconfig.real: /usr/local/lib/libtbbbind_2_0.so.3 is not a symbolic link\n",
            "\n",
            "/sbin/ldconfig.real: /usr/local/lib/libtbb.so.12 is not a symbolic link\n",
            "\n",
            "/sbin/ldconfig.real: /usr/local/lib/libtbbmalloc.so.2 is not a symbolic link\n",
            "\n",
            "/sbin/ldconfig.real: /usr/local/lib/libtbbbind.so.3 is not a symbolic link\n",
            "\n"
          ]
        }
      ]
    },
    {
      "cell_type": "code",
      "execution_count": 5,
      "metadata": {
        "id": "0IXzIPXTtKfx"
      },
      "outputs": [],
      "source": [
        "import torch\n",
        "\n",
        "import triton\n",
        "import triton.language as tl\n",
        "\n",
        "@triton.jit\n",
        "def add_kernel(x_ptr,\n",
        "               y_ptr,\n",
        "               output_ptr,\n",
        "               n_elements,\n",
        "               BLOCK_SIZE: tl.constexpr,\n",
        "               ):\n",
        "  pid = tl.program_id(axis=0) # there are multiple programs processing different data\n",
        "\n",
        "  block_start = pid * BLOCK_SIZE\n",
        "  offsets = block_start + tl.arange(0, BLOCK_SIZE) # offsets = a list of pointers\n",
        "\n",
        "  mask = offsets < n_elements\n",
        "\n",
        "  x = tl.load(x_ptr + offsets, mask=mask)\n",
        "  y = tl.load(y_ptr + offsets, mask=mask)\n",
        "\n",
        "  output = x + y\n",
        "\n",
        "  tl.store(output_ptr + offsets, output, mask=mask)"
      ]
    },
    {
      "cell_type": "code",
      "source": [
        "def add(x: torch.Tensor, y: torch.Tensor):\n",
        "  output = torch.empty_like(x)\n",
        "\n",
        "  assert x.is_cuda and y.is_cuda and output.is_cuda\n",
        "\n",
        "  n_elements = output.numel()\n",
        "\n",
        "  # SPMD = single program multiple memory\n",
        "  grid = lambda meta: (triton.cdiv(n_elements, meta['BLOCK_SIZE']), )\n",
        "\n",
        "  add_kernel[grid](x, y, output, n_elements, BLOCK_SIZE=1024)\n",
        "\n",
        "  return output"
      ],
      "metadata": {
        "id": "i29EMjk6uB2p"
      },
      "execution_count": 6,
      "outputs": []
    },
    {
      "cell_type": "code",
      "source": [
        "torch.manual_seed(0)\n",
        "\n",
        "size = 98432\n",
        "x = torch.rand(size, device='cuda')\n",
        "y = torch.rand(size, device='cuda')\n",
        "output_torch = x + y\n",
        "output_triton = add(x, y)\n",
        "print(output_torch)\n",
        "print(output_triton)\n",
        "print(f\"The maximum difference between torch and triton is {torch.max(torch.abs(output_torch - output_triton))}\")"
      ],
      "metadata": {
        "colab": {
          "base_uri": "https://localhost:8080/"
        },
        "id": "P9IOorc5vezK",
        "outputId": "f9d43974-e51b-4d2e-ce6d-9f87312d425a"
      },
      "execution_count": 7,
      "outputs": [
        {
          "output_type": "stream",
          "name": "stdout",
          "text": [
            "tensor([1.3713, 1.3076, 0.4940,  ..., 0.4024, 1.7918, 1.0686], device='cuda:0')\n",
            "tensor([1.3713, 1.3076, 0.4940,  ..., 0.4024, 1.7918, 1.0686], device='cuda:0')\n",
            "The maximum difference between torch and triton is 0.0\n"
          ]
        }
      ]
    },
    {
      "cell_type": "code",
      "source": [
        "@triton.testing.perf_report(\n",
        "    triton.testing.Benchmark(\n",
        "        x_names=['size'],\n",
        "        x_vals=[2**i for i in range(12, 28, 1)],\n",
        "        x_log = True,\n",
        "        line_arg='provider',\n",
        "        line_vals=['triton', 'torch'],\n",
        "        line_names=['Triton', 'Torch'],\n",
        "        styles=[('blue', '-'), ('green', '-')],\n",
        "        ylabel='GB/s',\n",
        "        plot_name='vector-add-performance',\n",
        "        args={},\n",
        "  ))\n",
        "def benchmark(size, provider):\n",
        "  x = torch.rand(size, device='cuda', dtype=torch.float32)\n",
        "  y = torch.rand(size, device='cuda', dtype=torch.float32)\n",
        "  quantiles = [0.5, 0.2, 0.8]\n",
        "  if provider == 'torch':\n",
        "    ms, min_ms, max_ms = triton.testing.do_bench(lambda: x + y, quantiles=quantiles)\n",
        "  if provider == 'triton':\n",
        "    ms, min_ms, max_ms = triton.testing.do_bench(lambda: add(x, y), quantiles=quantiles)\n",
        "  gbps = lambda ms: 12 * size / ms * 1e-6\n",
        "  return gbps(ms), gbps(min_ms), gbps(min_ms)"
      ],
      "metadata": {
        "id": "WYP1ZCoXvyqp"
      },
      "execution_count": 14,
      "outputs": []
    },
    {
      "cell_type": "code",
      "source": [
        "benchmark.run(print_data=True, show_plots=True)"
      ],
      "metadata": {
        "colab": {
          "base_uri": "https://localhost:8080/",
          "height": 790
        },
        "id": "mIQyKrejw69Q",
        "outputId": "3629a7b3-9a2d-4296-c2fb-c5caad0ca623"
      },
      "execution_count": 15,
      "outputs": [
        {
          "output_type": "display_data",
          "data": {
            "text/plain": [
              "<Figure size 640x480 with 1 Axes>"
            ],
            "image/png": "[encoded data removed]"
          },
          "metadata": {}
        },
        {
          "output_type": "stream",
          "name": "stdout",
          "text": [
            "vector-add-performance:\n",
            "           size      Triton       Torch\n",
            "0        4096.0    6.481013    6.678261\n",
            "1        8192.0   15.999999   17.258427\n",
            "2       16384.0   38.161490   36.141177\n",
            "3       32768.0   63.999998   63.999998\n",
            "4       65536.0   96.946742   99.497980\n",
            "5      131072.0  144.140760  145.851630\n",
            "6      262144.0  185.479239  177.124332\n",
            "7      524288.0  204.800005  194.565065\n",
            "8     1048576.0  220.412561  219.673742\n",
            "9     2097152.0  228.149700  231.849058\n",
            "10    4194304.0  232.551780  236.236710\n",
            "11    8388608.0  235.370603  240.315363\n",
            "12   16777216.0  237.772341  242.174687\n",
            "13   33554432.0  239.473806  243.930513\n",
            "14   67108864.0  240.143362  244.398396\n",
            "15  134217728.0  240.946371  245.913703\n"
          ]
        }
      ]
    },
    {
      "cell_type": "code",
      "source": [],
      "metadata": {
        "id": "B7XJtbEmx4XY"
      },
      "execution_count": null,
      "outputs": []
    }
  ]
}