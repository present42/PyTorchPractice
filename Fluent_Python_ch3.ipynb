{
  "nbformat": 4,
  "nbformat_minor": 0,
  "metadata": {
    "colab": {
      "provenance": [],
      "authorship_tag": "ABX9TyO2FJRVn0cdW3FV6XLLOmnh",
      "include_colab_link": true
    },
    "kernelspec": {
      "name": "python3",
      "display_name": "Python 3"
    },
    "language_info": {
      "name": "python"
    }
  },
  "cells": [
    {
      "cell_type": "markdown",
      "metadata": {
        "id": "view-in-github",
        "colab_type": "text"
      },
      "source": [
        "<a href=\"https://colab.research.google.com/github/present42/PyTorchPractice/blob/main/Fluent_Python_ch3.ipynb\" target=\"_parent\"><img src=\"https://colab.research.google.com/assets/colab-badge.svg\" alt=\"Open In Colab\"/></a>"
      ]
    },
    {
      "cell_type": "markdown",
      "source": [
        "# Dictionaries and Set\n",
        "\n",
        "<p> Class and instance attributes, module namespaces, and function keyword arguments are some of the core Python constructs represented by dictionaries in memory. </p>\n",
        "<p> Hashtables are the engines behind Python's high-performance dicts </p>\n"
      ],
      "metadata": {
        "id": "N1rAbG3dqOY7"
      }
    },
    {
      "cell_type": "code",
      "execution_count": null,
      "metadata": {
        "id": "1gdbfilEnqjf"
      },
      "outputs": [],
      "source": [
        "dial_codes = [\n",
        "    (880, 'Bangladesh'),\n",
        "    (55, 'Brazil'),\n",
        "    (86, 'China'),\n",
        "    (91, 'India'),\n",
        "    (852, 'Hong Kong'),\n",
        "    (82, 'South Korea'),\n",
        "    (234, 'Nigeria'),\n",
        "    (92, 'Pakistan'),\n",
        "    (7, 'Russia'),\n",
        "    (1, 'United States'),\n",
        "]"
      ]
    },
    {
      "cell_type": "code",
      "source": [
        "country_dial = { country:code for code, country in dial_codes}"
      ],
      "metadata": {
        "id": "bVgp7Ze-rnqp"
      },
      "execution_count": null,
      "outputs": []
    },
    {
      "cell_type": "code",
      "source": [
        "country_dial"
      ],
      "metadata": {
        "colab": {
          "base_uri": "https://localhost:8080/"
        },
        "id": "Kz4eB36frvBB",
        "outputId": "20a3caed-60be-4ab4-bcc3-0af3d4f89869"
      },
      "execution_count": null,
      "outputs": [
        {
          "output_type": "execute_result",
          "data": {
            "text/plain": [
              "{'Bangladesh': 880,\n",
              " 'Brazil': 55,\n",
              " 'China': 86,\n",
              " 'India': 91,\n",
              " 'Hong Kong': 852,\n",
              " 'South Korea': 82,\n",
              " 'Nigeria': 234,\n",
              " 'Pakistan': 92,\n",
              " 'Russia': 7,\n",
              " 'United States': 1}"
            ]
          },
          "metadata": {},
          "execution_count": 3
        }
      ]
    },
    {
      "cell_type": "code",
      "source": [
        "{code: country.upper()\n",
        "  for country, code in sorted(country_dial.items())\n",
        "  if code < 70}"
      ],
      "metadata": {
        "colab": {
          "base_uri": "https://localhost:8080/"
        },
        "id": "zjJ0u09Nrvnp",
        "outputId": "4355c517-ca73-4b94-ba53-dafe89ae40c4"
      },
      "execution_count": null,
      "outputs": [
        {
          "output_type": "execute_result",
          "data": {
            "text/plain": [
              "{55: 'BRAZIL', 7: 'RUSSIA', 1: 'UNITED STATES'}"
            ]
          },
          "metadata": {},
          "execution_count": 6
        }
      ]
    },
    {
      "cell_type": "code",
      "source": [
        "def dump(**kwargs): # we can apply ** to more than one argument in a function call\n",
        "  return kwargs\n",
        "\n",
        "dump(**{'x': 1}, y=2, **{'z': 3})"
      ],
      "metadata": {
        "colab": {
          "base_uri": "https://localhost:8080/"
        },
        "id": "K9i95GNnrxKZ",
        "outputId": "13c15801-7443-4afe-d56e-0f07732da257"
      },
      "execution_count": null,
      "outputs": [
        {
          "output_type": "execute_result",
          "data": {
            "text/plain": [
              "{'x': 1, 'y': 2, 'z': 3}"
            ]
          },
          "metadata": {},
          "execution_count": 11
        }
      ]
    },
    {
      "cell_type": "code",
      "source": [
        "{'a': 0, **{'x': 1}, 'y': 2, **{'z': 3, 'x': 4}} # duplicated keys are allowed / later occurences overwrites"
      ],
      "metadata": {
        "colab": {
          "base_uri": "https://localhost:8080/"
        },
        "id": "qJv5k0lfsVoI",
        "outputId": "cd3250b4-885d-4bdb-db0b-ef520344155d"
      },
      "execution_count": null,
      "outputs": [
        {
          "output_type": "execute_result",
          "data": {
            "text/plain": [
              "{'a': 0, 'x': 4, 'y': 2, 'z': 3}"
            ]
          },
          "metadata": {},
          "execution_count": 13
        }
      ]
    },
    {
      "cell_type": "markdown",
      "source": [
        "## Merging Mappings with `|`"
      ],
      "metadata": {
        "id": "L-mqyOZIs2yA"
      }
    },
    {
      "cell_type": "code",
      "source": [
        "d1 = {'a': 1, 'b': 3}\n",
        "d2 = {'a': 2, 'b': 4, 'c': 6}\n",
        "d1 | d2"
      ],
      "metadata": {
        "colab": {
          "base_uri": "https://localhost:8080/"
        },
        "id": "RRHZeSpvsuIB",
        "outputId": "77dd0cdb-1fb3-49d1-fc57-5d40b54c7e85"
      },
      "execution_count": null,
      "outputs": [
        {
          "output_type": "execute_result",
          "data": {
            "text/plain": [
              "{'a': 2, 'b': 4, 'c': 6}"
            ]
          },
          "metadata": {},
          "execution_count": 14
        }
      ]
    },
    {
      "cell_type": "code",
      "source": [
        "d2 | d1"
      ],
      "metadata": {
        "colab": {
          "base_uri": "https://localhost:8080/"
        },
        "id": "KdysoCbus_pg",
        "outputId": "8566a317-271d-4d75-bdff-9ce0b7c7a809"
      },
      "execution_count": null,
      "outputs": [
        {
          "output_type": "execute_result",
          "data": {
            "text/plain": [
              "{'a': 1, 'b': 3, 'c': 6}"
            ]
          },
          "metadata": {},
          "execution_count": 15
        }
      ]
    },
    {
      "cell_type": "code",
      "source": [
        "d1 |= d2"
      ],
      "metadata": {
        "id": "mNNRjTzqtE3p"
      },
      "execution_count": null,
      "outputs": []
    },
    {
      "cell_type": "code",
      "source": [
        "d1"
      ],
      "metadata": {
        "colab": {
          "base_uri": "https://localhost:8080/"
        },
        "id": "zbqzmzPbtJdZ",
        "outputId": "95a2907a-7e48-470d-cc7c-793dee3aa164"
      },
      "execution_count": null,
      "outputs": [
        {
          "output_type": "execute_result",
          "data": {
            "text/plain": [
              "{'a': 2, 'b': 4, 'c': 6}"
            ]
          },
          "metadata": {},
          "execution_count": 18
        }
      ]
    },
    {
      "cell_type": "markdown",
      "source": [
        "## Pattern Matching with Mappings"
      ],
      "metadata": {
        "id": "zp_9aeQ4tO8O"
      }
    },
    {
      "cell_type": "code",
      "source": [
        "def get_creators(record: dict) -> list:\n",
        "  match record:\n",
        "    case {'type': 'book', 'api': 2, 'authors': [*names]}:\n",
        "      return names\n",
        "\n",
        "    case {'type': 'book', 'api': 1, 'author': name}:\n",
        "      return [name]\n",
        "\n",
        "    case {'type': 'book'}:\n",
        "      raise ValueError(f\"Invalid 'book' record: {record!r}\")\n",
        "\n",
        "    case {'type': 'movie', 'director': name}:\n",
        "      return [name]\n",
        "\n",
        "    case _:\n",
        "      raise ValueError(f\"Invalid record: {record!r}\")\n"
      ],
      "metadata": {
        "id": "UTD6QQAYtJ3Y"
      },
      "execution_count": null,
      "outputs": []
    },
    {
      "cell_type": "code",
      "source": [
        "b1 = dict(api=1, author='Doublas Hofstadter', type='book', title='Godel, Escher, Bach')"
      ],
      "metadata": {
        "id": "ZJyiBT3muB2A"
      },
      "execution_count": null,
      "outputs": []
    },
    {
      "cell_type": "code",
      "source": [
        "get_creators(b1)"
      ],
      "metadata": {
        "colab": {
          "base_uri": "https://localhost:8080/"
        },
        "id": "Iu8-xmOnuR64",
        "outputId": "9545adae-b608-4d56-cca7-699fa3f2537f"
      },
      "execution_count": null,
      "outputs": [
        {
          "output_type": "execute_result",
          "data": {
            "text/plain": [
              "['Doublas Hofstadter']"
            ]
          },
          "metadata": {},
          "execution_count": 24
        }
      ]
    },
    {
      "cell_type": "code",
      "source": [
        "from collections import OrderedDict\n",
        "b2 = OrderedDict(api=2, type='book', title='Python in a Nutshell', authors='Martelli Ravenscroft Holden'.split())\n",
        "get_creators(b2)"
      ],
      "metadata": {
        "colab": {
          "base_uri": "https://localhost:8080/"
        },
        "id": "M8MxYYoJuS4g",
        "outputId": "6e86fd56-040f-4afb-941f-f93d208af8bc"
      },
      "execution_count": null,
      "outputs": [
        {
          "output_type": "execute_result",
          "data": {
            "text/plain": [
              "['Martelli', 'Ravenscroft', 'Holden']"
            ]
          },
          "metadata": {},
          "execution_count": 25
        }
      ]
    },
    {
      "cell_type": "code",
      "source": [
        "get_creators({'type': 'book', 'pages': 770})"
      ],
      "metadata": {
        "colab": {
          "base_uri": "https://localhost:8080/",
          "height": 280
        },
        "id": "UTCZ5ADEuhsJ",
        "outputId": "7b30c498-a319-4575-e6fd-6d7ab5878c37"
      },
      "execution_count": null,
      "outputs": [
        {
          "output_type": "error",
          "ename": "ValueError",
          "evalue": "Invalid 'book' record: {'type': 'book', 'pages': 770}",
          "traceback": [
            "\u001b[0;31m---------------------------------------------------------------------------\u001b[0m",
            "\u001b[0;31mValueError\u001b[0m                                Traceback (most recent call last)",
            "\u001b[0;32m<ipython-input-26-ce5f348af208>\u001b[0m in \u001b[0;36m<cell line: 1>\u001b[0;34m()\u001b[0m\n\u001b[0;32m----> 1\u001b[0;31m \u001b[0mget_creators\u001b[0m\u001b[0;34m(\u001b[0m\u001b[0;34m{\u001b[0m\u001b[0;34m'type'\u001b[0m\u001b[0;34m:\u001b[0m \u001b[0;34m'book'\u001b[0m\u001b[0;34m,\u001b[0m \u001b[0;34m'pages'\u001b[0m\u001b[0;34m:\u001b[0m \u001b[0;36m770\u001b[0m\u001b[0;34m}\u001b[0m\u001b[0;34m)\u001b[0m\u001b[0;34m\u001b[0m\u001b[0;34m\u001b[0m\u001b[0m\n\u001b[0m",
            "\u001b[0;32m<ipython-input-22-8a5ae31ff8be>\u001b[0m in \u001b[0;36mget_creators\u001b[0;34m(record)\u001b[0m\n\u001b[1;32m      8\u001b[0m \u001b[0;34m\u001b[0m\u001b[0m\n\u001b[1;32m      9\u001b[0m     \u001b[0mcase\u001b[0m \u001b[0;34m{\u001b[0m\u001b[0;34m'type'\u001b[0m\u001b[0;34m:\u001b[0m \u001b[0;34m'book'\u001b[0m\u001b[0;34m}\u001b[0m\u001b[0;34m:\u001b[0m\u001b[0;34m\u001b[0m\u001b[0;34m\u001b[0m\u001b[0m\n\u001b[0;32m---> 10\u001b[0;31m       \u001b[0;32mraise\u001b[0m \u001b[0mValueError\u001b[0m\u001b[0;34m(\u001b[0m\u001b[0;34mf\"Invalid 'book' record: {record!r}\"\u001b[0m\u001b[0;34m)\u001b[0m\u001b[0;34m\u001b[0m\u001b[0;34m\u001b[0m\u001b[0m\n\u001b[0m\u001b[1;32m     11\u001b[0m \u001b[0;34m\u001b[0m\u001b[0m\n\u001b[1;32m     12\u001b[0m     \u001b[0mcase\u001b[0m \u001b[0;34m{\u001b[0m\u001b[0;34m'type'\u001b[0m\u001b[0;34m:\u001b[0m \u001b[0;34m'movie'\u001b[0m\u001b[0;34m,\u001b[0m \u001b[0;34m'director'\u001b[0m\u001b[0;34m:\u001b[0m \u001b[0mname\u001b[0m\u001b[0;34m}\u001b[0m\u001b[0;34m:\u001b[0m\u001b[0;34m\u001b[0m\u001b[0;34m\u001b[0m\u001b[0m\n",
            "\u001b[0;31mValueError\u001b[0m: Invalid 'book' record: {'type': 'book', 'pages': 770}"
          ]
        }
      ]
    },
    {
      "cell_type": "code",
      "source": [
        "food = dict(category='ice cream', flavor='vanilla', cost=199)\n",
        "match food:\n",
        "  case {'category': 'ice cream', **details}:\n",
        "    print(f\"Ice cream details: {details}\")"
      ],
      "metadata": {
        "colab": {
          "base_uri": "https://localhost:8080/"
        },
        "id": "S0bQNentulgg",
        "outputId": "9848d882-0db9-41ad-8135-db2cb8cf9712"
      },
      "execution_count": null,
      "outputs": [
        {
          "output_type": "stream",
          "name": "stdout",
          "text": [
            "Ice cream details: {'flavor': 'vanilla', 'cost': 199}\n"
          ]
        }
      ]
    },
    {
      "cell_type": "markdown",
      "source": [
        "<p>Note that the automatic handling of missing keys is not triggered because pattern matching always uses the `d.get(key, sentinel)` method</p>"
      ],
      "metadata": {
        "id": "gHnjNq2pvFm3"
      }
    },
    {
      "cell_type": "markdown",
      "source": [
        "### Standard API of mapping type"
      ],
      "metadata": {
        "id": "0oT0ZCDrHcNe"
      }
    },
    {
      "cell_type": "code",
      "source": [
        "from collections import abc"
      ],
      "metadata": {
        "id": "1ZOxuUNiHi2d"
      },
      "execution_count": null,
      "outputs": []
    },
    {
      "cell_type": "code",
      "source": [
        "my_dict = {}\n",
        "isinstance(my_dict, abc.Mapping)"
      ],
      "metadata": {
        "id": "SCJ0Nebpu7Jo",
        "colab": {
          "base_uri": "https://localhost:8080/"
        },
        "outputId": "f426299e-bfbc-4c08-ffe7-5393d88f9e85"
      },
      "execution_count": null,
      "outputs": [
        {
          "output_type": "execute_result",
          "data": {
            "text/plain": [
              "True"
            ]
          },
          "metadata": {},
          "execution_count": 6
        }
      ]
    },
    {
      "cell_type": "code",
      "source": [
        "isinstance(my_dict, abc.MutableMapping)"
      ],
      "metadata": {
        "colab": {
          "base_uri": "https://localhost:8080/"
        },
        "id": "_Er4n-vAHiGU",
        "outputId": "4587ea18-3d3c-4440-88b1-667c922ea4a0"
      },
      "execution_count": null,
      "outputs": [
        {
          "output_type": "execute_result",
          "data": {
            "text/plain": [
              "True"
            ]
          },
          "metadata": {},
          "execution_count": 7
        }
      ]
    },
    {
      "cell_type": "code",
      "source": [
        "my_dict.get('hi', 0)"
      ],
      "metadata": {
        "colab": {
          "base_uri": "https://localhost:8080/"
        },
        "id": "P-SgZTiHH4er",
        "outputId": "12f87cca-c8fb-4705-9142-1a1fb4c15566"
      },
      "execution_count": null,
      "outputs": [
        {
          "output_type": "execute_result",
          "data": {
            "text/plain": [
              "0"
            ]
          },
          "metadata": {},
          "execution_count": 8
        }
      ]
    },
    {
      "cell_type": "code",
      "source": [
        "my_dict"
      ],
      "metadata": {
        "colab": {
          "base_uri": "https://localhost:8080/"
        },
        "id": "Tt-o9rQFH7GC",
        "outputId": "77a90947-d6d0-47d8-8985-3a53dfc372cb"
      },
      "execution_count": null,
      "outputs": [
        {
          "output_type": "execute_result",
          "data": {
            "text/plain": [
              "{}"
            ]
          },
          "metadata": {},
          "execution_count": 9
        }
      ]
    },
    {
      "cell_type": "markdown",
      "source": [
        "### What is Hashable\n",
        "<p>An object is hashable if it has a hash code which never changes during its lifetime. (it requires <code>__hash__</code>)</p>\n",
        "<p>It can be computed to other objects.</p>"
      ],
      "metadata": {
        "id": "yMDKPqrvIMUS"
      }
    },
    {
      "cell_type": "code",
      "source": [
        "tt = (1, 2, (30, 40))\n",
        "hash(tt)"
      ],
      "metadata": {
        "colab": {
          "base_uri": "https://localhost:8080/"
        },
        "id": "txZBAqIkH8Bt",
        "outputId": "a14a69b6-ae06-45f6-ec22-4551e7c83171"
      },
      "execution_count": null,
      "outputs": [
        {
          "output_type": "execute_result",
          "data": {
            "text/plain": [
              "-3907003130834322577"
            ]
          },
          "metadata": {},
          "execution_count": 10
        }
      ]
    },
    {
      "cell_type": "code",
      "source": [
        "tl = (1, 2, [30, 40])\n",
        "hash(tl)"
      ],
      "metadata": {
        "colab": {
          "base_uri": "https://localhost:8080/",
          "height": 168
        },
        "id": "pSbSGYDHItbL",
        "outputId": "e67ee052-09ec-4076-ec59-360973ebc004"
      },
      "execution_count": null,
      "outputs": [
        {
          "output_type": "error",
          "ename": "TypeError",
          "evalue": "unhashable type: 'list'",
          "traceback": [
            "\u001b[0;31m---------------------------------------------------------------------------\u001b[0m",
            "\u001b[0;31mTypeError\u001b[0m                                 Traceback (most recent call last)",
            "\u001b[0;32m<ipython-input-12-258d676ca6dc>\u001b[0m in \u001b[0;36m<cell line: 2>\u001b[0;34m()\u001b[0m\n\u001b[1;32m      1\u001b[0m \u001b[0mtl\u001b[0m \u001b[0;34m=\u001b[0m \u001b[0;34m(\u001b[0m\u001b[0;36m1\u001b[0m\u001b[0;34m,\u001b[0m \u001b[0;36m2\u001b[0m\u001b[0;34m,\u001b[0m \u001b[0;34m[\u001b[0m\u001b[0;36m30\u001b[0m\u001b[0;34m,\u001b[0m \u001b[0;36m40\u001b[0m\u001b[0;34m]\u001b[0m\u001b[0;34m)\u001b[0m\u001b[0;34m\u001b[0m\u001b[0;34m\u001b[0m\u001b[0m\n\u001b[0;32m----> 2\u001b[0;31m \u001b[0mhash\u001b[0m\u001b[0;34m(\u001b[0m\u001b[0mtl\u001b[0m\u001b[0;34m)\u001b[0m\u001b[0;34m\u001b[0m\u001b[0;34m\u001b[0m\u001b[0m\n\u001b[0m",
            "\u001b[0;31mTypeError\u001b[0m: unhashable type: 'list'"
          ]
        }
      ]
    },
    {
      "cell_type": "code",
      "source": [
        "tf = (1, 2, frozenset([30, 40]))\n",
        "hash(tf)"
      ],
      "metadata": {
        "colab": {
          "base_uri": "https://localhost:8080/"
        },
        "id": "75xR8-QlIvSC",
        "outputId": "1628d529-1a81-4f2f-f110-d6e9c388f1b6"
      },
      "execution_count": null,
      "outputs": [
        {
          "output_type": "execute_result",
          "data": {
            "text/plain": [
              "5149391500123939311"
            ]
          },
          "metadata": {},
          "execution_count": 13
        }
      ]
    },
    {
      "cell_type": "code",
      "source": [],
      "metadata": {
        "id": "adnKjXQFIz_D"
      },
      "execution_count": null,
      "outputs": []
    },
    {
      "cell_type": "code",
      "source": [
        "d = {'hi': 1, 3: 'there'}\n",
        "d.clear()\n",
        "d"
      ],
      "metadata": {
        "id": "ORwtncCLJGGC"
      },
      "execution_count": null,
      "outputs": []
    },
    {
      "cell_type": "code",
      "source": [
        "d = {'hi': 1, 3: 'there'}\n",
        "'hi' in d"
      ],
      "metadata": {
        "colab": {
          "base_uri": "https://localhost:8080/"
        },
        "id": "_nQ6JhtVJG4i",
        "outputId": "fde60055-df68-4a9f-e57a-b27e805498a0"
      },
      "execution_count": null,
      "outputs": [
        {
          "output_type": "execute_result",
          "data": {
            "text/plain": [
              "True"
            ]
          },
          "metadata": {},
          "execution_count": 17
        }
      ]
    },
    {
      "cell_type": "code",
      "source": [
        "d.copy() == d"
      ],
      "metadata": {
        "colab": {
          "base_uri": "https://localhost:8080/"
        },
        "id": "X-Vi5sYAJMpq",
        "outputId": "c4de66d7-b2c6-427b-a575-5b2bb182f6ba"
      },
      "execution_count": null,
      "outputs": [
        {
          "output_type": "execute_result",
          "data": {
            "text/plain": [
              "True"
            ]
          },
          "metadata": {},
          "execution_count": 19
        }
      ]
    },
    {
      "cell_type": "code",
      "source": [
        "import copy\n",
        "copy.copy(d) == d"
      ],
      "metadata": {
        "colab": {
          "base_uri": "https://localhost:8080/"
        },
        "id": "1h8yVVHHJOxT",
        "outputId": "40348221-4f64-44c0-d370-e0b2d6db8e9a"
      },
      "execution_count": null,
      "outputs": [
        {
          "output_type": "execute_result",
          "data": {
            "text/plain": [
              "True"
            ]
          },
          "metadata": {},
          "execution_count": 21
        }
      ]
    },
    {
      "cell_type": "code",
      "source": [
        "from collections import defaultdict"
      ],
      "metadata": {
        "id": "miaHlpHLJS16"
      },
      "execution_count": null,
      "outputs": []
    },
    {
      "cell_type": "code",
      "source": [
        "def def_value():\n",
        "  return \"hi there\"\n",
        "a = defaultdict(def_value)\n",
        "a[\"3\"] = \"hi\"\n",
        "a[2] = \"3\"\n",
        "a[(2, 3)] = \"hello\"\n",
        "a.default_factory()\n",
        "\n",
        "del a[\"3\"]"
      ],
      "metadata": {
        "id": "CcHmnPA8JZgr"
      },
      "execution_count": null,
      "outputs": []
    },
    {
      "cell_type": "code",
      "source": [
        "a"
      ],
      "metadata": {
        "colab": {
          "base_uri": "https://localhost:8080/"
        },
        "id": "YLWDUZwDJbzL",
        "outputId": "fe1f533f-1067-4789-c51e-61225a667b1c"
      },
      "execution_count": null,
      "outputs": [
        {
          "output_type": "execute_result",
          "data": {
            "text/plain": [
              "defaultdict(<function __main__.def_value()>, {2: '3', (2, 3): 'hello'})"
            ]
          },
          "metadata": {},
          "execution_count": 28
        }
      ]
    },
    {
      "cell_type": "code",
      "source": [
        "a.get((3, 4))"
      ],
      "metadata": {
        "id": "jdd76CATJ_IC"
      },
      "execution_count": null,
      "outputs": []
    },
    {
      "cell_type": "code",
      "source": [
        "for k, v in a.items():\n",
        "  del a[k]"
      ],
      "metadata": {
        "colab": {
          "base_uri": "https://localhost:8080/",
          "height": 168
        },
        "id": "i7EqK4y3KBGS",
        "outputId": "6d2d2387-f7d1-46cc-ac9a-0b54f3a4f2fc"
      },
      "execution_count": null,
      "outputs": [
        {
          "output_type": "error",
          "ename": "RuntimeError",
          "evalue": "dictionary changed size during iteration",
          "traceback": [
            "\u001b[0;31m---------------------------------------------------------------------------\u001b[0m",
            "\u001b[0;31mRuntimeError\u001b[0m                              Traceback (most recent call last)",
            "\u001b[0;32m<ipython-input-38-6c0fb3734247>\u001b[0m in \u001b[0;36m<cell line: 1>\u001b[0;34m()\u001b[0m\n\u001b[0;32m----> 1\u001b[0;31m \u001b[0;32mfor\u001b[0m \u001b[0mk\u001b[0m\u001b[0;34m,\u001b[0m \u001b[0mv\u001b[0m \u001b[0;32min\u001b[0m \u001b[0ma\u001b[0m\u001b[0;34m.\u001b[0m\u001b[0mitems\u001b[0m\u001b[0;34m(\u001b[0m\u001b[0;34m)\u001b[0m\u001b[0;34m:\u001b[0m\u001b[0;34m\u001b[0m\u001b[0;34m\u001b[0m\u001b[0m\n\u001b[0m\u001b[1;32m      2\u001b[0m   \u001b[0;32mdel\u001b[0m \u001b[0ma\u001b[0m\u001b[0;34m[\u001b[0m\u001b[0mk\u001b[0m\u001b[0;34m]\u001b[0m\u001b[0;34m\u001b[0m\u001b[0;34m\u001b[0m\u001b[0m\n",
            "\u001b[0;31mRuntimeError\u001b[0m: dictionary changed size during iteration"
          ]
        }
      ]
    },
    {
      "cell_type": "code",
      "source": [
        "a"
      ],
      "metadata": {
        "colab": {
          "base_uri": "https://localhost:8080/"
        },
        "id": "Y5edJD2sKF3C",
        "outputId": "b44d6099-f73d-4ef3-b5cd-cbb40f5787bf"
      },
      "execution_count": null,
      "outputs": [
        {
          "output_type": "execute_result",
          "data": {
            "text/plain": [
              "defaultdict(<function __main__.def_value()>,\n",
              "            {(2, 3): 'hello', '3': 'hi there'})"
            ]
          },
          "metadata": {},
          "execution_count": 39
        }
      ]
    },
    {
      "cell_type": "markdown",
      "source": [
        "# Inserting or Updating Mutable Values\n",
        "<p>If you wanna retrieve a mutable value and want to update it, there is a better way.</p>"
      ],
      "metadata": {
        "id": "Bx91kZXxK3w2"
      }
    },
    {
      "cell_type": "code",
      "source": [
        "!python index0.py zen.txt"
      ],
      "metadata": {
        "colab": {
          "base_uri": "https://localhost:8080/"
        },
        "id": "qeu5HD5-KXka",
        "outputId": "326a2f4b-4a73-46f7-9c08-228090b808af"
      },
      "execution_count": null,
      "outputs": [
        {
          "output_type": "stream",
          "name": "stdout",
          "text": [
            "a [(17, 48), (18, 53)]\n",
            "Although [(9, 1), (14, 1), (16, 1)]\n",
            "ambiguity [(12, 16)]\n",
            "and [(13, 23)]\n",
            "are [(19, 12)]\n",
            "aren [(8, 15)]\n",
            "at [(14, 38)]\n",
            "bad [(17, 50)]\n",
            "be [(13, 14), (14, 27), (18, 50)]\n",
            "beats [(9, 23)]\n",
            "Beautiful [(1, 1)]\n",
            "better [(1, 14), (2, 13), (3, 11), (4, 12), (5, 9), (6, 11), (15, 8), (16, 25)]\n",
            "break [(8, 40)]\n",
            "cases [(8, 9)]\n",
            "complex [(3, 23)]\n",
            "Complex [(4, 1)]\n",
            "complicated [(4, 24)]\n",
            "counts [(7, 13)]\n",
            "dense [(6, 23)]\n",
            "do [(13, 64), (19, 48)]\n",
            "Dutch [(14, 61)]\n",
            "easy [(18, 26)]\n",
            "enough [(8, 30)]\n",
            "Errors [(10, 1)]\n",
            "explain [(17, 34), (18, 34)]\n",
            "Explicit [(2, 1)]\n",
            "explicitly [(11, 8)]\n",
            "face [(12, 8)]\n",
            "first [(14, 41)]\n",
            "Flat [(5, 1)]\n",
            "good [(18, 55)]\n",
            "great [(19, 28)]\n",
            "guess [(12, 52)]\n",
            "hard [(17, 26)]\n",
            "honking [(19, 20)]\n",
            "idea [(17, 54), (18, 60), (19, 34)]\n",
            "If [(17, 1), (18, 1)]\n",
            "implementation [(17, 8), (18, 8)]\n",
            "implicit [(2, 25)]\n",
            "In [(12, 1)]\n",
            "is [(1, 11), (2, 10), (3, 8), (4, 9), (5, 6), (6, 8), (15, 5), (16, 16), (17, 23), (18, 23)]\n",
            "it [(13, 67), (17, 43), (18, 43)]\n",
            "let [(19, 42)]\n",
            "may [(14, 19), (18, 46)]\n",
            "more [(19, 51)]\n",
            "Namespaces [(19, 1)]\n",
            "nested [(5, 21)]\n",
            "never [(10, 15), (15, 20), (16, 10)]\n",
            "not [(14, 23)]\n",
            "Now [(15, 1)]\n",
            "now [(16, 45)]\n",
            "obvious [(13, 49), (14, 30)]\n",
            "of [(12, 13), (19, 56)]\n",
            "often [(16, 19)]\n",
            "one [(13, 17), (13, 43), (19, 16)]\n",
            "only [(13, 38)]\n",
            "pass [(10, 21)]\n",
            "practicality [(9, 10)]\n",
            "preferably [(13, 27)]\n",
            "purity [(9, 29)]\n",
            "re [(14, 58)]\n",
            "Readability [(7, 1)]\n",
            "refuse [(12, 27)]\n",
            "right [(16, 38)]\n",
            "rules [(8, 50)]\n",
            "s [(17, 46), (19, 46)]\n",
            "should [(10, 8), (13, 7)]\n",
            "silenced [(11, 19)]\n",
            "silently [(10, 26)]\n",
            "Simple [(3, 1)]\n",
            "Sparse [(6, 1)]\n",
            "Special [(8, 1)]\n",
            "special [(8, 22)]\n",
            "t [(8, 20)]\n",
            "temptation [(12, 38)]\n",
            "than [(1, 21), (2, 20), (3, 18), (4, 19), (5, 16), (6, 18), (15, 15), (16, 32)]\n",
            "that [(14, 10)]\n",
            "the [(8, 46), (12, 4), (12, 34), (17, 4), (18, 4)]\n",
            "There [(13, 1)]\n",
            "those [(19, 59)]\n",
            "to [(8, 37), (12, 49), (13, 61), (17, 31), (18, 31)]\n",
            "ugly [(1, 26)]\n",
            "Unless [(11, 1)]\n",
            "unless [(14, 47)]\n",
            "way [(13, 57), (14, 15)]\n",
            "you [(14, 54)]\n"
          ]
        }
      ]
    },
    {
      "cell_type": "markdown",
      "source": [
        "## Automatic Handling of Missing Keys\n",
        "\n",
        "<p> There are two ways to do this: </p>\n",
        "\n",
        " 1. Use `defaultdict`\n",
        " 2. subclass `dict` or any other mapping type and add a `__missing__` method"
      ],
      "metadata": {
        "id": "4_ATqlXuM_0G"
      }
    },
    {
      "cell_type": "code",
      "source": [
        "!python index_default.py zen.txt"
      ],
      "metadata": {
        "colab": {
          "base_uri": "https://localhost:8080/"
        },
        "id": "LWPWkizxM-35",
        "outputId": "0d643e07-f970-43a4-9407-b373d50b8866"
      },
      "execution_count": null,
      "outputs": [
        {
          "output_type": "stream",
          "name": "stdout",
          "text": [
            "a [(17, 48), (18, 53)]\n",
            "Although [(9, 1), (14, 1), (16, 1)]\n",
            "ambiguity [(12, 16)]\n",
            "and [(13, 23)]\n",
            "are [(19, 12)]\n",
            "aren [(8, 15)]\n",
            "at [(14, 38)]\n",
            "bad [(17, 50)]\n",
            "be [(13, 14), (14, 27), (18, 50)]\n",
            "beats [(9, 23)]\n",
            "Beautiful [(1, 1)]\n",
            "better [(1, 14), (2, 13), (3, 11), (4, 12), (5, 9), (6, 11), (15, 8), (16, 25)]\n",
            "break [(8, 40)]\n",
            "cases [(8, 9)]\n",
            "complex [(3, 23)]\n",
            "Complex [(4, 1)]\n",
            "complicated [(4, 24)]\n",
            "counts [(7, 13)]\n",
            "dense [(6, 23)]\n",
            "do [(13, 64), (19, 48)]\n",
            "Dutch [(14, 61)]\n",
            "easy [(18, 26)]\n",
            "enough [(8, 30)]\n",
            "Errors [(10, 1)]\n",
            "explain [(17, 34), (18, 34)]\n",
            "Explicit [(2, 1)]\n",
            "explicitly [(11, 8)]\n",
            "face [(12, 8)]\n",
            "first [(14, 41)]\n",
            "Flat [(5, 1)]\n",
            "good [(18, 55)]\n",
            "great [(19, 28)]\n",
            "guess [(12, 52)]\n",
            "hard [(17, 26)]\n",
            "honking [(19, 20)]\n",
            "idea [(17, 54), (18, 60), (19, 34)]\n",
            "If [(17, 1), (18, 1)]\n",
            "implementation [(17, 8), (18, 8)]\n",
            "implicit [(2, 25)]\n",
            "In [(12, 1)]\n",
            "is [(1, 11), (2, 10), (3, 8), (4, 9), (5, 6), (6, 8), (15, 5), (16, 16), (17, 23), (18, 23)]\n",
            "it [(13, 67), (17, 43), (18, 43)]\n",
            "let [(19, 42)]\n",
            "may [(14, 19), (18, 46)]\n",
            "more [(19, 51)]\n",
            "Namespaces [(19, 1)]\n",
            "nested [(5, 21)]\n",
            "never [(10, 15), (15, 20), (16, 10)]\n",
            "not [(14, 23)]\n",
            "Now [(15, 1)]\n",
            "now [(16, 45)]\n",
            "obvious [(13, 49), (14, 30)]\n",
            "of [(12, 13), (19, 56)]\n",
            "often [(16, 19)]\n",
            "one [(13, 17), (13, 43), (19, 16)]\n",
            "only [(13, 38)]\n",
            "pass [(10, 21)]\n",
            "practicality [(9, 10)]\n",
            "preferably [(13, 27)]\n",
            "purity [(9, 29)]\n",
            "re [(14, 58)]\n",
            "Readability [(7, 1)]\n",
            "refuse [(12, 27)]\n",
            "right [(16, 38)]\n",
            "rules [(8, 50)]\n",
            "s [(17, 46), (19, 46)]\n",
            "should [(10, 8), (13, 7)]\n",
            "silenced [(11, 19)]\n",
            "silently [(10, 26)]\n",
            "Simple [(3, 1)]\n",
            "Sparse [(6, 1)]\n",
            "Special [(8, 1)]\n",
            "special [(8, 22)]\n",
            "t [(8, 20)]\n",
            "temptation [(12, 38)]\n",
            "than [(1, 21), (2, 20), (3, 18), (4, 19), (5, 16), (6, 18), (15, 15), (16, 32)]\n",
            "that [(14, 10)]\n",
            "the [(8, 46), (12, 4), (12, 34), (17, 4), (18, 4)]\n",
            "There [(13, 1)]\n",
            "those [(19, 59)]\n",
            "to [(8, 37), (12, 49), (13, 61), (17, 31), (18, 31)]\n",
            "ugly [(1, 26)]\n",
            "Unless [(11, 1)]\n",
            "unless [(14, 47)]\n",
            "way [(13, 57), (14, 15)]\n",
            "you [(14, 54)]\n"
          ]
        }
      ]
    },
    {
      "cell_type": "markdown",
      "source": [
        "## Automatic Handling of Missing Keys"
      ],
      "metadata": {
        "id": "pRMuswDYT15t"
      }
    },
    {
      "cell_type": "code",
      "source": [
        "import collections\n",
        "import re\n",
        "import sys\n",
        "\n",
        "WORD_RE = re.compile(r'\\w+')\n",
        "\n",
        "# list function is default_factory\n",
        "# which returns an empty list for a missing key\n",
        "index = collections.defaultdict(list)\n",
        "with open(sys.argv[1], encoding='utf-8') as fp:\n",
        "  for line_no, line in enumerate(fp, 1):\n",
        "    for match in WORD_RE.finditer(line):\n",
        "      word = match.group()\n",
        "      column_no = match.start() + 1\n",
        "      location = (line_no, column_no)\n",
        "      # if word is not initially in the index,\n",
        "      # the default_factory is called to produce the missing value\n",
        "      # which is an empty list in this case\n",
        "      # that is assigned to index[word]\n",
        "      index[word].append(location)\n",
        "\n",
        "for word in sorted(index, key=str.upper):\n",
        "  print(word, index[word])"
      ],
      "metadata": {
        "id": "5v5u2ZAfMMgS"
      },
      "execution_count": null,
      "outputs": []
    },
    {
      "cell_type": "code",
      "source": [
        "!python index_default.py zen.txt"
      ],
      "metadata": {
        "id": "5dperBnAU0rC"
      },
      "execution_count": null,
      "outputs": []
    },
    {
      "cell_type": "code",
      "source": [
        "class StrKeyDict0(dict):\n",
        "  def __missing__(self, key):\n",
        "    if isinstance(key, str):\n",
        "      raise KeyError(key)\n",
        "    # only give a second chance when key is not string (for preventing infinite recursion)\n",
        "    return self[str(key)]\n",
        "\n",
        "  def get(self, key, default=None):\n",
        "    # print(f\"Hi, you are trying to get the value associated with {key}\")\n",
        "    try:\n",
        "      return self[key]\n",
        "    except KeyError:\n",
        "      return default\n",
        "\n",
        "  def __contains__(self, key):\n",
        "    return key in self.keys() or str(key) in self.keys()"
      ],
      "metadata": {
        "id": "K7jAHH0EU3Oa"
      },
      "execution_count": null,
      "outputs": []
    },
    {
      "cell_type": "code",
      "source": [
        "d = StrKeyDict0([('2', 'two'), ('4', 'four')])\n",
        "d[4]"
      ],
      "metadata": {
        "colab": {
          "base_uri": "https://localhost:8080/",
          "height": 36
        },
        "id": "FvkQdzghWLKi",
        "outputId": "6eb9bb94-e9eb-430b-a647-f33ff23693a8"
      },
      "execution_count": null,
      "outputs": [
        {
          "output_type": "execute_result",
          "data": {
            "text/plain": [
              "'four'"
            ],
            "application/vnd.google.colaboratory.intrinsic+json": {
              "type": "string"
            }
          },
          "metadata": {},
          "execution_count": 13
        }
      ]
    },
    {
      "cell_type": "code",
      "source": [
        "d_test = dict([('2', 'two'), ('4', 'four')])\n",
        "d_test.keys()"
      ],
      "metadata": {
        "colab": {
          "base_uri": "https://localhost:8080/"
        },
        "id": "aupTL9j7WWuj",
        "outputId": "ffb26581-5d6a-493b-b980-e3c1a93e051d"
      },
      "execution_count": null,
      "outputs": [
        {
          "output_type": "execute_result",
          "data": {
            "text/plain": [
              "dict_keys(['2', '4'])"
            ]
          },
          "metadata": {},
          "execution_count": 7
        }
      ]
    },
    {
      "cell_type": "markdown",
      "source": [
        "### `collections.ChainMap`\n",
        "\n",
        "- A `ChainMap` instance holds a list of mappings that can be searched as one."
      ],
      "metadata": {
        "id": "LVcyzxMHYZpn"
      }
    },
    {
      "cell_type": "code",
      "source": [
        "d1 = dict(a=1, b=3)\n",
        "d2 = dict(a=2, b=4, c=6)\n",
        "from collections import ChainMap\n",
        "\n",
        "chain = ChainMap(d1, d2)\n",
        "print(chain['a'])\n",
        "print(chain['b'])"
      ],
      "metadata": {
        "colab": {
          "base_uri": "https://localhost:8080/"
        },
        "id": "igYAo6hKWZvC",
        "outputId": "ed697ed2-3ca4-48d3-e858-937e3d0ab7de"
      },
      "execution_count": null,
      "outputs": [
        {
          "output_type": "stream",
          "name": "stdout",
          "text": [
            "1\n",
            "3\n"
          ]
        }
      ]
    },
    {
      "cell_type": "code",
      "source": [
        "chain['c'] = -1"
      ],
      "metadata": {
        "id": "6zf4aFXgYjya"
      },
      "execution_count": null,
      "outputs": []
    },
    {
      "cell_type": "code",
      "source": [
        "d1"
      ],
      "metadata": {
        "colab": {
          "base_uri": "https://localhost:8080/"
        },
        "id": "ZouGNae6Y3Xi",
        "outputId": "8eb54fb8-5d59-467d-e642-5034665daed1"
      },
      "execution_count": null,
      "outputs": [
        {
          "output_type": "execute_result",
          "data": {
            "text/plain": [
              "{'a': 1, 'b': 3, 'c': -1}"
            ]
          },
          "metadata": {},
          "execution_count": 18
        }
      ]
    },
    {
      "cell_type": "code",
      "source": [
        "d2"
      ],
      "metadata": {
        "colab": {
          "base_uri": "https://localhost:8080/"
        },
        "id": "5hEA_l3LY-Ea",
        "outputId": "4ab16aac-0a8c-4f91-9d7e-cd3c8706786f"
      },
      "execution_count": null,
      "outputs": [
        {
          "output_type": "execute_result",
          "data": {
            "text/plain": [
              "{'a': 2, 'b': 4, 'c': 6}"
            ]
          },
          "metadata": {},
          "execution_count": 19
        }
      ]
    },
    {
      "cell_type": "code",
      "source": [
        "# updates or insertions only affect the first input mapping\n",
        "# It is useful to mplement interpreters for languages with nested scopes"
      ],
      "metadata": {
        "id": "kMrBxhx3Y-1K"
      },
      "execution_count": null,
      "outputs": []
    },
    {
      "cell_type": "markdown",
      "source": [
        "## `collections.Counter`\n",
        "- a mapping that holds an integer count for each key"
      ],
      "metadata": {
        "id": "uIEjGmC0ZUGJ"
      }
    },
    {
      "cell_type": "code",
      "source": [
        "import collections"
      ],
      "metadata": {
        "id": "Zw5EFyrnZZXa"
      },
      "execution_count": null,
      "outputs": []
    },
    {
      "cell_type": "code",
      "source": [
        "ct = collections.Counter('abracadabra')\n",
        "ct"
      ],
      "metadata": {
        "colab": {
          "base_uri": "https://localhost:8080/"
        },
        "id": "BFz7jU0jZVZ6",
        "outputId": "1df82f22-de80-48f4-db1d-8642ae37b221"
      },
      "execution_count": null,
      "outputs": [
        {
          "output_type": "execute_result",
          "data": {
            "text/plain": [
              "Counter({'a': 5, 'b': 2, 'r': 2, 'c': 1, 'd': 1})"
            ]
          },
          "metadata": {},
          "execution_count": 22
        }
      ]
    },
    {
      "cell_type": "code",
      "source": [
        "ct.update('aaaaazzz')"
      ],
      "metadata": {
        "id": "ZaYbJjUOZYAa"
      },
      "execution_count": null,
      "outputs": []
    },
    {
      "cell_type": "code",
      "source": [
        "ct"
      ],
      "metadata": {
        "colab": {
          "base_uri": "https://localhost:8080/"
        },
        "id": "Su50ttKvZdHB",
        "outputId": "c0fce36c-4060-4858-8376-b9f44bea7778"
      },
      "execution_count": null,
      "outputs": [
        {
          "output_type": "execute_result",
          "data": {
            "text/plain": [
              "Counter({'a': 10, 'b': 2, 'r': 2, 'c': 1, 'd': 1, 'z': 3})"
            ]
          },
          "metadata": {},
          "execution_count": 24
        }
      ]
    },
    {
      "cell_type": "code",
      "source": [
        "ct.most_common(3)"
      ],
      "metadata": {
        "colab": {
          "base_uri": "https://localhost:8080/"
        },
        "id": "h1gzHklSZdqS",
        "outputId": "f4897e60-9c87-4af0-84f8-7de87ee53520"
      },
      "execution_count": null,
      "outputs": [
        {
          "output_type": "execute_result",
          "data": {
            "text/plain": [
              "[('a', 10), ('z', 3), ('b', 2)]"
            ]
          },
          "metadata": {},
          "execution_count": 25
        }
      ]
    },
    {
      "cell_type": "markdown",
      "source": [
        "## `shelve.Shelf`\n",
        "\n",
        "`shelve.open` module-level function returns a `shelve.Shelf` instance--a simple key-value DBM db backed by the `dbm` module\n",
        " - `shelve.Shelf` subclasses `abc.MutableMapping`\n",
        " - provides a few other I/O management methods, like `sync` and `close`\n",
        " - `Shelf` instance is a context manager, so you can use a `with` block to make sure it is closed after use\n",
        " - keys and values are saved whenever a new value is assigned to a key.\n",
        " - keys must be strings\n",
        " - values must be objects tha the `pickle` module can serialize.\n",
        ""
      ],
      "metadata": {
        "id": "bQ85Xj9xVMZa"
      }
    },
    {
      "cell_type": "markdown",
      "source": [
        "## Subclassing `UserDict`\n",
        " - Because `UserDict` extends `abc.MutableMapping`, the remaining methods that make `StrKeyDict` a full-fledged mapping are inherited from `UserDict`, `MutableMapping`, or `Mapping`"
      ],
      "metadata": {
        "id": "AwELH_ncV9p_"
      }
    },
    {
      "cell_type": "code",
      "source": [
        "import collections\n",
        "\n",
        "class StrKeyDict(collections.UserDict):\n",
        "\n",
        "  def __missing__(self, key):\n",
        "    if isinstance(key, str):\n",
        "      raise KeyError(key)\n",
        "    return self[str(key)]\n",
        "\n",
        "  def __contains__(self, key):\n",
        "    return str(key) in self.data\n",
        "\n",
        "  def __setitem__(self, key, item):\n",
        "    print(\"Huh, you try to set a item?!\")\n",
        "    # setitem converts any key to str\n",
        "    self.data[str(key)] = item"
      ],
      "metadata": {
        "id": "h2W02tLqZfKi"
      },
      "execution_count": 2,
      "outputs": []
    },
    {
      "cell_type": "code",
      "source": [
        "strkeydict = StrKeyDict({'a': 2, '3': 2})"
      ],
      "metadata": {
        "colab": {
          "base_uri": "https://localhost:8080/"
        },
        "id": "eHEchK4ZWwgX",
        "outputId": "df0d68d9-15b1-402a-8585-1ba85b7f9806"
      },
      "execution_count": 5,
      "outputs": [
        {
          "output_type": "stream",
          "name": "stdout",
          "text": [
            "Huh, you try to set a item?!\n",
            "Huh, you try to set a item?!\n"
          ]
        }
      ]
    },
    {
      "cell_type": "code",
      "source": [
        "strkeydict[4] = \"hi there\""
      ],
      "metadata": {
        "colab": {
          "base_uri": "https://localhost:8080/"
        },
        "id": "wipm3H4UXOzf",
        "outputId": "e8dacb51-b70f-4c66-85f3-97cee4c10b9d"
      },
      "execution_count": 6,
      "outputs": [
        {
          "output_type": "stream",
          "name": "stdout",
          "text": [
            "Huh, you try to set a item?!\n"
          ]
        }
      ]
    },
    {
      "cell_type": "code",
      "source": [
        "# MutableMapping.update ends up calling our implementation of __setitem__\n",
        "strkeydict.update({'4': 'hey there'})\n",
        "strkeydict[4]"
      ],
      "metadata": {
        "colab": {
          "base_uri": "https://localhost:8080/",
          "height": 54
        },
        "id": "YXce-Yt8XVY-",
        "outputId": "8de6891f-4bd6-4699-d490-5c6e42f93496"
      },
      "execution_count": 16,
      "outputs": [
        {
          "output_type": "stream",
          "name": "stdout",
          "text": [
            "Huh, you try to set a item?!\n"
          ]
        },
        {
          "output_type": "execute_result",
          "data": {
            "text/plain": [
              "'hey there'"
            ],
            "application/vnd.google.colaboratory.intrinsic+json": {
              "type": "string"
            }
          },
          "metadata": {},
          "execution_count": 16
        }
      ]
    },
    {
      "cell_type": "code",
      "source": [
        "# StrKeyDict inerited Mapping.get, which is implemented like StrKeyDict0"
      ],
      "metadata": {
        "id": "GmgNEeTBXWTH"
      },
      "execution_count": null,
      "outputs": []
    },
    {
      "cell_type": "markdown",
      "source": [
        "## Immutable Mapping\n",
        "\n",
        "- concrete use case: hardware programming library -> the `board.pins` mapping represetns teh physical GPIO pins on the device. It's useful to prevent inadvertent updates to `board.pins` because hardware can't be changed via software"
      ],
      "metadata": {
        "id": "Oar9FspkYt_P"
      }
    },
    {
      "cell_type": "code",
      "source": [
        "from types import MappingProxyType\n",
        "d = {1: \"A\"}\n",
        "d_proxy = MappingProxyType(d)\n",
        "d_proxy"
      ],
      "metadata": {
        "colab": {
          "base_uri": "https://localhost:8080/"
        },
        "id": "A0wZ4FfqYu5H",
        "outputId": "8f16433a-54df-4358-bb87-e28fc21c669e"
      },
      "execution_count": 17,
      "outputs": [
        {
          "output_type": "execute_result",
          "data": {
            "text/plain": [
              "mappingproxy({1: 'A'})"
            ]
          },
          "metadata": {},
          "execution_count": 17
        }
      ]
    },
    {
      "cell_type": "code",
      "source": [
        "d_proxy[1]"
      ],
      "metadata": {
        "colab": {
          "base_uri": "https://localhost:8080/",
          "height": 36
        },
        "id": "iuYVY3obZPvX",
        "outputId": "77ff7aab-07ef-4573-b7d9-26262e6b8596"
      },
      "execution_count": 18,
      "outputs": [
        {
          "output_type": "execute_result",
          "data": {
            "text/plain": [
              "'A'"
            ],
            "application/vnd.google.colaboratory.intrinsic+json": {
              "type": "string"
            }
          },
          "metadata": {},
          "execution_count": 18
        }
      ]
    },
    {
      "cell_type": "code",
      "source": [
        "d_proxy[2]"
      ],
      "metadata": {
        "colab": {
          "base_uri": "https://localhost:8080/",
          "height": 149
        },
        "id": "bZDDmRKRZQ9P",
        "outputId": "50b557bd-4b5c-4b93-ab07-ffa591f705f7"
      },
      "execution_count": 19,
      "outputs": [
        {
          "output_type": "error",
          "ename": "KeyError",
          "evalue": "2",
          "traceback": [
            "\u001b[0;31m---------------------------------------------------------------------------\u001b[0m",
            "\u001b[0;31mKeyError\u001b[0m                                  Traceback (most recent call last)",
            "\u001b[0;32m<ipython-input-19-6f9dce4cd735>\u001b[0m in \u001b[0;36m<cell line: 1>\u001b[0;34m()\u001b[0m\n\u001b[0;32m----> 1\u001b[0;31m \u001b[0md_proxy\u001b[0m\u001b[0;34m[\u001b[0m\u001b[0;36m2\u001b[0m\u001b[0;34m]\u001b[0m\u001b[0;34m\u001b[0m\u001b[0;34m\u001b[0m\u001b[0m\n\u001b[0m",
            "\u001b[0;31mKeyError\u001b[0m: 2"
          ]
        }
      ]
    },
    {
      "cell_type": "code",
      "source": [
        "d[2] = 'B'"
      ],
      "metadata": {
        "id": "9l9FF7CGZRbe"
      },
      "execution_count": 20,
      "outputs": []
    },
    {
      "cell_type": "code",
      "source": [
        "d_proxy[2]"
      ],
      "metadata": {
        "colab": {
          "base_uri": "https://localhost:8080/",
          "height": 36
        },
        "id": "86jGvEZmZToG",
        "outputId": "c83fe402-38ae-434e-b36e-e7f760c931fc"
      },
      "execution_count": 21,
      "outputs": [
        {
          "output_type": "execute_result",
          "data": {
            "text/plain": [
              "'B'"
            ],
            "application/vnd.google.colaboratory.intrinsic+json": {
              "type": "string"
            }
          },
          "metadata": {},
          "execution_count": 21
        }
      ]
    },
    {
      "cell_type": "code",
      "source": [
        "d_proxy[2] = 'B'"
      ],
      "metadata": {
        "colab": {
          "base_uri": "https://localhost:8080/",
          "height": 149
        },
        "id": "b21FCIogZU5_",
        "outputId": "c036a972-2a3a-4f68-f082-3ddc486b0dbc"
      },
      "execution_count": 22,
      "outputs": [
        {
          "output_type": "error",
          "ename": "TypeError",
          "evalue": "'mappingproxy' object does not support item assignment",
          "traceback": [
            "\u001b[0;31m---------------------------------------------------------------------------\u001b[0m",
            "\u001b[0;31mTypeError\u001b[0m                                 Traceback (most recent call last)",
            "\u001b[0;32m<ipython-input-22-f585899a63cb>\u001b[0m in \u001b[0;36m<cell line: 1>\u001b[0;34m()\u001b[0m\n\u001b[0;32m----> 1\u001b[0;31m \u001b[0md_proxy\u001b[0m\u001b[0;34m[\u001b[0m\u001b[0;36m2\u001b[0m\u001b[0;34m]\u001b[0m \u001b[0;34m=\u001b[0m \u001b[0;34m'B'\u001b[0m\u001b[0;34m\u001b[0m\u001b[0;34m\u001b[0m\u001b[0m\n\u001b[0m",
            "\u001b[0;31mTypeError\u001b[0m: 'mappingproxy' object does not support item assignment"
          ]
        }
      ]
    },
    {
      "cell_type": "markdown",
      "source": [
        "## View\n",
        " - allows high-performance operations on a `dict` without necessary copying of data\n",
        " - `.keys()`, `.values()` `.items()` return instances of classes called `dict_keys`, `dict_values`, `dict_items`.\n",
        "  * `dict_keys`, `dict_values`, `dict_items` are internal classes (not available via `__builtins__`\n",
        " - view object is a dynamic proxy"
      ],
      "metadata": {
        "id": "gNqS9BhMZhGz"
      }
    },
    {
      "cell_type": "code",
      "source": [
        "d = dict(a=10, b=20, c=30)\n",
        "values = d.values()"
      ],
      "metadata": {
        "id": "Obynb3loZXsH"
      },
      "execution_count": 23,
      "outputs": []
    },
    {
      "cell_type": "code",
      "source": [
        "values # __repr__ of view object shows its content"
      ],
      "metadata": {
        "colab": {
          "base_uri": "https://localhost:8080/"
        },
        "id": "-FY4Nk5oaFtB",
        "outputId": "b170d672-f7ee-4ef0-c852-b97ae10aa660"
      },
      "execution_count": 30,
      "outputs": [
        {
          "output_type": "execute_result",
          "data": {
            "text/plain": [
              "dict_values([10, 20, 30])"
            ]
          },
          "metadata": {},
          "execution_count": 30
        }
      ]
    },
    {
      "cell_type": "code",
      "source": [
        "len(values)"
      ],
      "metadata": {
        "colab": {
          "base_uri": "https://localhost:8080/"
        },
        "id": "SiaqYCYJZ65v",
        "outputId": "bf81c39b-0b0a-45bd-f2c5-62b64c74fb6d"
      },
      "execution_count": 26,
      "outputs": [
        {
          "output_type": "execute_result",
          "data": {
            "text/plain": [
              "3"
            ]
          },
          "metadata": {},
          "execution_count": 26
        }
      ]
    },
    {
      "cell_type": "code",
      "source": [
        "list(values) # values are iterable -> can create a list"
      ],
      "metadata": {
        "colab": {
          "base_uri": "https://localhost:8080/"
        },
        "id": "5H-rpZyzZ7m2",
        "outputId": "8a228086-1d3b-4df2-8de4-95fc96944a94"
      },
      "execution_count": 31,
      "outputs": [
        {
          "output_type": "execute_result",
          "data": {
            "text/plain": [
              "[10, 20, 30]"
            ]
          },
          "metadata": {},
          "execution_count": 31
        }
      ]
    },
    {
      "cell_type": "code",
      "source": [
        "reversed(values)"
      ],
      "metadata": {
        "colab": {
          "base_uri": "https://localhost:8080/"
        },
        "id": "3PPrM_TtZ_Mv",
        "outputId": "f3b5d2dc-4cc9-40bc-b14b-0f61ca257fdf"
      },
      "execution_count": 28,
      "outputs": [
        {
          "output_type": "execute_result",
          "data": {
            "text/plain": [
              "<dict_reversevalueiterator at 0x7aedb33ea390>"
            ]
          },
          "metadata": {},
          "execution_count": 28
        }
      ]
    },
    {
      "cell_type": "code",
      "source": [
        "values[0]"
      ],
      "metadata": {
        "colab": {
          "base_uri": "https://localhost:8080/",
          "height": 149
        },
        "id": "7OucyHF9aAi2",
        "outputId": "48b1d16f-24e1-4f29-a100-2c62a5f97e9b"
      },
      "execution_count": 29,
      "outputs": [
        {
          "output_type": "error",
          "ename": "TypeError",
          "evalue": "'dict_values' object is not subscriptable",
          "traceback": [
            "\u001b[0;31m---------------------------------------------------------------------------\u001b[0m",
            "\u001b[0;31mTypeError\u001b[0m                                 Traceback (most recent call last)",
            "\u001b[0;32m<ipython-input-29-b1ad2d7b09ed>\u001b[0m in \u001b[0;36m<cell line: 1>\u001b[0;34m()\u001b[0m\n\u001b[0;32m----> 1\u001b[0;31m \u001b[0mvalues\u001b[0m\u001b[0;34m[\u001b[0m\u001b[0;36m0\u001b[0m\u001b[0;34m]\u001b[0m\u001b[0;34m\u001b[0m\u001b[0;34m\u001b[0m\u001b[0m\n\u001b[0m",
            "\u001b[0;31mTypeError\u001b[0m: 'dict_values' object is not subscriptable"
          ]
        }
      ]
    },
    {
      "cell_type": "code",
      "source": [
        "d['z'] = 99"
      ],
      "metadata": {
        "id": "qdLT8bZlaB03"
      },
      "execution_count": 32,
      "outputs": []
    },
    {
      "cell_type": "code",
      "source": [
        "d"
      ],
      "metadata": {
        "colab": {
          "base_uri": "https://localhost:8080/"
        },
        "id": "c2QatVghaYGP",
        "outputId": "ee06ec9f-0865-43f5-b39f-d3e677c8c877"
      },
      "execution_count": 33,
      "outputs": [
        {
          "output_type": "execute_result",
          "data": {
            "text/plain": [
              "{'a': 10, 'b': 20, 'c': 30, 'z': 99}"
            ]
          },
          "metadata": {},
          "execution_count": 33
        }
      ]
    },
    {
      "cell_type": "code",
      "source": [
        "values"
      ],
      "metadata": {
        "colab": {
          "base_uri": "https://localhost:8080/"
        },
        "id": "hekKgi3FaYsn",
        "outputId": "88120bca-a4ad-4aa4-99d2-c29305efd7c3"
      },
      "execution_count": 34,
      "outputs": [
        {
          "output_type": "execute_result",
          "data": {
            "text/plain": [
              "dict_values([10, 20, 30, 99])"
            ]
          },
          "metadata": {},
          "execution_count": 34
        }
      ]
    },
    {
      "cell_type": "markdown",
      "source": [
        "## Practical Consequences of How `dict` Works\n",
        " - keys must be hashable object. They must implement proper `__hash__` and `__eq__` methods."
      ],
      "metadata": {
        "id": "GZtWMMxBaz-4"
      }
    },
    {
      "cell_type": "code",
      "source": [
        "a = {}\n",
        "b = [1, 2, 3]\n",
        "a[b] = 3"
      ],
      "metadata": {
        "colab": {
          "base_uri": "https://localhost:8080/",
          "height": 187
        },
        "id": "yPKRUEhbaaZY",
        "outputId": "6ff4566b-3af4-4048-dab6-86e28fe9f1a4"
      },
      "execution_count": 35,
      "outputs": [
        {
          "output_type": "error",
          "ename": "TypeError",
          "evalue": "unhashable type: 'list'",
          "traceback": [
            "\u001b[0;31m---------------------------------------------------------------------------\u001b[0m",
            "\u001b[0;31mTypeError\u001b[0m                                 Traceback (most recent call last)",
            "\u001b[0;32m<ipython-input-35-691d2fda4b17>\u001b[0m in \u001b[0;36m<cell line: 3>\u001b[0;34m()\u001b[0m\n\u001b[1;32m      1\u001b[0m \u001b[0ma\u001b[0m \u001b[0;34m=\u001b[0m \u001b[0;34m{\u001b[0m\u001b[0;34m}\u001b[0m\u001b[0;34m\u001b[0m\u001b[0;34m\u001b[0m\u001b[0m\n\u001b[1;32m      2\u001b[0m \u001b[0mb\u001b[0m \u001b[0;34m=\u001b[0m \u001b[0;34m[\u001b[0m\u001b[0;36m1\u001b[0m\u001b[0;34m,\u001b[0m \u001b[0;36m2\u001b[0m\u001b[0;34m,\u001b[0m \u001b[0;36m3\u001b[0m\u001b[0;34m]\u001b[0m\u001b[0;34m\u001b[0m\u001b[0;34m\u001b[0m\u001b[0m\n\u001b[0;32m----> 3\u001b[0;31m \u001b[0ma\u001b[0m\u001b[0;34m[\u001b[0m\u001b[0mb\u001b[0m\u001b[0;34m]\u001b[0m \u001b[0;34m=\u001b[0m \u001b[0;36m3\u001b[0m\u001b[0;34m\u001b[0m\u001b[0;34m\u001b[0m\u001b[0m\n\u001b[0m",
            "\u001b[0;31mTypeError\u001b[0m: unhashable type: 'list'"
          ]
        }
      ]
    },
    {
      "cell_type": "code",
      "source": [
        "class Test:\n",
        "  def __init__(self):\n",
        "    print(\"Hi this class is initialized\")\n",
        "\n",
        "  def test(self, input):\n",
        "    self.inp = input\n",
        "    print('hi')"
      ],
      "metadata": {
        "id": "duYWbVXkbC7o"
      },
      "execution_count": 36,
      "outputs": []
    },
    {
      "cell_type": "code",
      "source": [
        "a = Test()"
      ],
      "metadata": {
        "colab": {
          "base_uri": "https://localhost:8080/"
        },
        "id": "rWG3-xMYb9wH",
        "outputId": "bdb4b7cf-0ceb-4981-b867-2aa0952d3b7d"
      },
      "execution_count": 37,
      "outputs": [
        {
          "output_type": "stream",
          "name": "stdout",
          "text": [
            "Hi this class is initialized\n"
          ]
        }
      ]
    },
    {
      "cell_type": "code",
      "source": [
        "a.test('ohohoh')"
      ],
      "metadata": {
        "colab": {
          "base_uri": "https://localhost:8080/"
        },
        "id": "6nuxLx8pb-f3",
        "outputId": "73fa2bc4-23af-46d7-aad9-b3ca9563a115"
      },
      "execution_count": 38,
      "outputs": [
        {
          "output_type": "stream",
          "name": "stdout",
          "text": [
            "hi\n"
          ]
        }
      ]
    },
    {
      "cell_type": "markdown",
      "source": [
        "### Tips\n",
        " - To save memory, avoid creating instance attributes outside of the `__init__` method\n",
        "  * Python's default behavior - store instance attributes in a `__dict__` attribute (Unless the class has a `__slots__ attribute)\n",
        "  * Instances of a class can share a common hash table, stored with the class."
      ],
      "metadata": {
        "id": "x2wNHn9ncE6S"
      }
    },
    {
      "cell_type": "markdown",
      "source": [
        "## Set\n",
        "The `set` and `frozenset` types are implemented with a hash table"
      ],
      "metadata": {
        "id": "NqjXFoxvHGZ1"
      }
    },
    {
      "cell_type": "code",
      "source": [
        "l = ['spam', 'spam', 'eggs', 'spam', 'bacon', 'eggs']\n",
        "set(l)"
      ],
      "metadata": {
        "id": "9TxbmHrGcAN_"
      },
      "execution_count": 1,
      "outputs": []
    },
    {
      "cell_type": "code",
      "source": [
        "list(set(l))"
      ],
      "metadata": {
        "colab": {
          "base_uri": "https://localhost:8080/"
        },
        "id": "KQcyV3X9CtHV",
        "outputId": "659e6b1d-409e-498e-d06b-760bb93bbb99"
      },
      "execution_count": 2,
      "outputs": [
        {
          "output_type": "execute_result",
          "data": {
            "text/plain": [
              "['spam', 'eggs', 'bacon']"
            ]
          },
          "metadata": {},
          "execution_count": 2
        }
      ]
    },
    {
      "cell_type": "code",
      "source": [
        "# If you want to (1) remove duplicates and (2) preserve the order of the first occurrences\n",
        "dict.fromkeys(l).keys()"
      ],
      "metadata": {
        "colab": {
          "base_uri": "https://localhost:8080/"
        },
        "id": "O1hdG2bbCset",
        "outputId": "75dc80b3-6e4c-45a9-97a6-edd25f71cbf2"
      },
      "execution_count": 4,
      "outputs": [
        {
          "output_type": "execute_result",
          "data": {
            "text/plain": [
              "dict_keys(['spam', 'eggs', 'bacon'])"
            ]
          },
          "metadata": {},
          "execution_count": 4
        }
      ]
    },
    {
      "cell_type": "code",
      "source": [
        "list(dict.fromkeys(l).keys())"
      ],
      "metadata": {
        "colab": {
          "base_uri": "https://localhost:8080/"
        },
        "id": "Aq40mP0pDA7c",
        "outputId": "1bd0ab19-3f03-4f42-80ae-8decf2bd8110"
      },
      "execution_count": 5,
      "outputs": [
        {
          "output_type": "execute_result",
          "data": {
            "text/plain": [
              "['spam', 'eggs', 'bacon']"
            ]
          },
          "metadata": {},
          "execution_count": 5
        }
      ]
    },
    {
      "cell_type": "markdown",
      "source": [
        "Set element must be hashable. The `set` type is not hashable so you can't build a set with nested set instances. But `frozenset` is hashable. So you can have `frozenset` elements inside a `set`."
      ],
      "metadata": {
        "id": "kFbQadsXDTWk"
      }
    },
    {
      "cell_type": "code",
      "source": [
        "l = [1, 2]\n",
        "set(['a', l, 'b'])"
      ],
      "metadata": {
        "colab": {
          "base_uri": "https://localhost:8080/",
          "height": 168
        },
        "id": "81ROVpSYDG_F",
        "outputId": "e67f2465-e699-4027-8b90-b90f6226b890"
      },
      "execution_count": 6,
      "outputs": [
        {
          "output_type": "error",
          "ename": "TypeError",
          "evalue": "unhashable type: 'list'",
          "traceback": [
            "\u001b[0;31m---------------------------------------------------------------------------\u001b[0m",
            "\u001b[0;31mTypeError\u001b[0m                                 Traceback (most recent call last)",
            "\u001b[0;32m<ipython-input-6-f71cae95b803>\u001b[0m in \u001b[0;36m<cell line: 2>\u001b[0;34m()\u001b[0m\n\u001b[1;32m      1\u001b[0m \u001b[0ml\u001b[0m \u001b[0;34m=\u001b[0m \u001b[0;34m[\u001b[0m\u001b[0;36m1\u001b[0m\u001b[0;34m,\u001b[0m \u001b[0;36m2\u001b[0m\u001b[0;34m]\u001b[0m\u001b[0;34m\u001b[0m\u001b[0;34m\u001b[0m\u001b[0m\n\u001b[0;32m----> 2\u001b[0;31m \u001b[0mset\u001b[0m\u001b[0;34m(\u001b[0m\u001b[0;34m[\u001b[0m\u001b[0;34m'a'\u001b[0m\u001b[0;34m,\u001b[0m \u001b[0ml\u001b[0m\u001b[0;34m,\u001b[0m \u001b[0;34m'b'\u001b[0m\u001b[0;34m]\u001b[0m\u001b[0;34m)\u001b[0m\u001b[0;34m\u001b[0m\u001b[0;34m\u001b[0m\u001b[0m\n\u001b[0m",
            "\u001b[0;31mTypeError\u001b[0m: unhashable type: 'list'"
          ]
        }
      ]
    },
    {
      "cell_type": "code",
      "source": [
        "frozen_l = frozenset(l)\n",
        "frozen_m = frozenset(l)\n",
        "k = set(['a', frozen_l, frozen_m, 'b'])"
      ],
      "metadata": {
        "id": "1z9kY4bGDl3s"
      },
      "execution_count": 12,
      "outputs": []
    },
    {
      "cell_type": "code",
      "source": [
        "k"
      ],
      "metadata": {
        "colab": {
          "base_uri": "https://localhost:8080/"
        },
        "id": "JqW-CxI5Dwu0",
        "outputId": "c6e1401d-9c96-4550-dbbd-699e9802af1e"
      },
      "execution_count": 13,
      "outputs": [
        {
          "output_type": "execute_result",
          "data": {
            "text/plain": [
              "{'a', 'b', frozenset({1, 2})}"
            ]
          },
          "metadata": {},
          "execution_count": 13
        }
      ]
    },
    {
      "cell_type": "code",
      "source": [
        "a = {1, 2, 3} # set literal\n",
        "type(a)\n",
        "b = {2, 3, 4}\n",
        "type(b)\n",
        "a | b\n",
        "a ^ b"
      ],
      "metadata": {
        "colab": {
          "base_uri": "https://localhost:8080/"
        },
        "id": "w4d-lOOED_-c",
        "outputId": "68cef55d-308a-414e-dc0f-2477d01a0a75"
      },
      "execution_count": 17,
      "outputs": [
        {
          "output_type": "execute_result",
          "data": {
            "text/plain": [
              "{1, 4}"
            ]
          },
          "metadata": {},
          "execution_count": 17
        }
      ]
    },
    {
      "cell_type": "markdown",
      "source": [
        "Note that there is no literal for empty set (must use `set()`)\n",
        "If you use `{}`, you created an empty `dict`."
      ],
      "metadata": {
        "id": "rCBWYqQvEy_W"
      }
    },
    {
      "cell_type": "code",
      "source": [
        "s = {1}\n",
        "type(s)"
      ],
      "metadata": {
        "colab": {
          "base_uri": "https://localhost:8080/"
        },
        "id": "SwqDmKT0ElV9",
        "outputId": "ebb24b51-5382-4de9-ab0d-d36e6c2dba22"
      },
      "execution_count": 18,
      "outputs": [
        {
          "output_type": "execute_result",
          "data": {
            "text/plain": [
              "set"
            ]
          },
          "metadata": {},
          "execution_count": 18
        }
      ]
    },
    {
      "cell_type": "code",
      "source": [
        "s.pop()"
      ],
      "metadata": {
        "colab": {
          "base_uri": "https://localhost:8080/"
        },
        "id": "6rn9QMMIFDTu",
        "outputId": "0bfe6046-7be8-4ac3-c7da-90d483564f61"
      },
      "execution_count": 19,
      "outputs": [
        {
          "output_type": "execute_result",
          "data": {
            "text/plain": [
              "1"
            ]
          },
          "metadata": {},
          "execution_count": 19
        }
      ]
    },
    {
      "cell_type": "code",
      "source": [
        "s"
      ],
      "metadata": {
        "colab": {
          "base_uri": "https://localhost:8080/"
        },
        "id": "5uEFZSaXFEgV",
        "outputId": "6b4ad864-6627-43b9-9f66-eda3a408b686"
      },
      "execution_count": 20,
      "outputs": [
        {
          "output_type": "execute_result",
          "data": {
            "text/plain": [
              "set()"
            ]
          },
          "metadata": {},
          "execution_count": 20
        }
      ]
    },
    {
      "cell_type": "code",
      "source": [
        "s = {1, 2}\n",
        "s.pop()"
      ],
      "metadata": {
        "colab": {
          "base_uri": "https://localhost:8080/"
        },
        "id": "FFfBQMwSFFNF",
        "outputId": "08b9d046-dbcb-4715-9b77-755e0613c70e"
      },
      "execution_count": 21,
      "outputs": [
        {
          "output_type": "execute_result",
          "data": {
            "text/plain": [
              "1"
            ]
          },
          "metadata": {},
          "execution_count": 21
        }
      ]
    },
    {
      "cell_type": "code",
      "source": [
        "s"
      ],
      "metadata": {
        "colab": {
          "base_uri": "https://localhost:8080/"
        },
        "id": "eMJpp2sLFH4V",
        "outputId": "d11d64c6-e4bb-4fad-c80c-06478f2c85d0"
      },
      "execution_count": 22,
      "outputs": [
        {
          "output_type": "execute_result",
          "data": {
            "text/plain": [
              "{2}"
            ]
          },
          "metadata": {},
          "execution_count": 22
        }
      ]
    },
    {
      "cell_type": "code",
      "source": [
        "# Python runs a specialized BUILD_SET bytecode\n",
        "s = {1, 2, 3}\n",
        "# slower because Python has to look up the set name to fetch the constructor\n",
        "# then build a list, and finally pass it to the constructor\n",
        "s = set([1, 2, 3])"
      ],
      "metadata": {
        "id": "MCiR_c1sFIN0"
      },
      "execution_count": null,
      "outputs": []
    },
    {
      "cell_type": "code",
      "source": [
        "%%timeit\n",
        "s = {1, 2, 3}"
      ],
      "metadata": {
        "colab": {
          "base_uri": "https://localhost:8080/"
        },
        "id": "AW7-U_6EFbu9",
        "outputId": "c60818ac-61e2-4d42-d45f-d250ffb02fd6"
      },
      "execution_count": 25,
      "outputs": [
        {
          "output_type": "stream",
          "name": "stdout",
          "text": [
            "83.2 ns ± 1.22 ns per loop (mean ± std. dev. of 7 runs, 10000000 loops each)\n"
          ]
        }
      ]
    },
    {
      "cell_type": "code",
      "source": [
        "%%timeit\n",
        "s = set([1, 2, 3])"
      ],
      "metadata": {
        "colab": {
          "base_uri": "https://localhost:8080/"
        },
        "id": "FWH0SBuoFcel",
        "outputId": "8f943074-cb9a-4660-a716-70ef2aa3510b"
      },
      "execution_count": 24,
      "outputs": [
        {
          "output_type": "stream",
          "name": "stdout",
          "text": [
            "360 ns ± 204 ns per loop (mean ± std. dev. of 7 runs, 1000000 loops each)\n"
          ]
        }
      ]
    },
    {
      "cell_type": "code",
      "source": [
        "frozenset(range(10)) #frozenset must be created by calling the constructor"
      ],
      "metadata": {
        "colab": {
          "base_uri": "https://localhost:8080/"
        },
        "id": "HI4QssnnFeoO",
        "outputId": "dcb9bdd7-80b5-4d7f-8d36-3ec87b67f0a7"
      },
      "execution_count": 26,
      "outputs": [
        {
          "output_type": "execute_result",
          "data": {
            "text/plain": [
              "frozenset({0, 1, 2, 3, 4, 5, 6, 7, 8, 9})"
            ]
          },
          "metadata": {},
          "execution_count": 26
        }
      ]
    },
    {
      "cell_type": "code",
      "source": [
        "from unicodedata import name\n",
        "{chr(i) for i in range(32, 256) if 'SIGN' in name(chr(i), '')}"
      ],
      "metadata": {
        "colab": {
          "base_uri": "https://localhost:8080/"
        },
        "id": "prWCh4b5Fubt",
        "outputId": "5f8e37ce-865b-4279-b71b-ab43cb235ded"
      },
      "execution_count": 46,
      "outputs": [
        {
          "output_type": "execute_result",
          "data": {
            "text/plain": [
              "{'#',\n",
              " '$',\n",
              " '%',\n",
              " '+',\n",
              " '<',\n",
              " '=',\n",
              " '>',\n",
              " '¢',\n",
              " '£',\n",
              " '¤',\n",
              " '¥',\n",
              " '§',\n",
              " '©',\n",
              " '¬',\n",
              " '®',\n",
              " '°',\n",
              " '±',\n",
              " 'µ',\n",
              " '¶',\n",
              " '×',\n",
              " '÷'}"
            ]
          },
          "metadata": {},
          "execution_count": 46
        }
      ]
    },
    {
      "cell_type": "markdown",
      "source": [
        "Adding elements to a set may change the order of existing elements. That's because the algorithm becomes less efficient if the hash table is more than 2/3 full. So Python may need to move and resize the table as it gorws."
      ],
      "metadata": {
        "id": "pp7tnJ7nHfY7"
      }
    },
    {
      "cell_type": "code",
      "source": [
        "s = {'a', 'b', 'c'}"
      ],
      "metadata": {
        "id": "Pzrk58JmIFlT"
      },
      "execution_count": 50,
      "outputs": []
    },
    {
      "cell_type": "code",
      "source": [
        "t = {'a', 'b', 'c', 'd'}"
      ],
      "metadata": {
        "id": "tI-UQGOdGHJX"
      },
      "execution_count": 60,
      "outputs": []
    },
    {
      "cell_type": "markdown",
      "source": [
        "## Set Operations on dict Views\n",
        "\n",
        " - view objects returned by the `dict` methods `.keys()` and `items()` are remarkably similar to `frozenset`"
      ],
      "metadata": {
        "id": "2_dZmx2CJEjX"
      }
    },
    {
      "cell_type": "code",
      "source": [
        "d1 = dict(a=1, b=2, c=3, d=4)\n",
        "d2 = dict(b=20, d=40, e=50)\n",
        "\n",
        "d1.keys() & d2.keys()"
      ],
      "metadata": {
        "colab": {
          "base_uri": "https://localhost:8080/"
        },
        "id": "fVClkBMhI7Z1",
        "outputId": "c69d3e3e-616a-4b60-dc81-fb2c302a3edb"
      },
      "execution_count": 62,
      "outputs": [
        {
          "output_type": "execute_result",
          "data": {
            "text/plain": [
              "{'b', 'd'}"
            ]
          },
          "metadata": {},
          "execution_count": 62
        }
      ]
    },
    {
      "cell_type": "code",
      "source": [
        "s = {'a', 'e', 'i'}\n",
        "d1.keys() & s"
      ],
      "metadata": {
        "colab": {
          "base_uri": "https://localhost:8080/"
        },
        "id": "Y2-FenHUJajv",
        "outputId": "9e9faee7-9c7d-4089-b9be-e60fe03168a7"
      },
      "execution_count": 63,
      "outputs": [
        {
          "output_type": "execute_result",
          "data": {
            "text/plain": [
              "{'a'}"
            ]
          },
          "metadata": {},
          "execution_count": 63
        }
      ]
    },
    {
      "cell_type": "code",
      "source": [
        "d1.keys() | s"
      ],
      "metadata": {
        "colab": {
          "base_uri": "https://localhost:8080/"
        },
        "id": "drKaLYivJhSw",
        "outputId": "d05bd2a3-6117-44f0-afcb-c9a4e67ff895"
      },
      "execution_count": 66,
      "outputs": [
        {
          "output_type": "execute_result",
          "data": {
            "text/plain": [
              "{'a', 'b', 'c', 'd', 'e', 'i'}"
            ]
          },
          "metadata": {},
          "execution_count": 66
        }
      ]
    },
    {
      "cell_type": "markdown",
      "source": [
        "### Warning\n",
        "A `dict_items` view only works as a set if all values in the `dict` are hashable."
      ],
      "metadata": {
        "id": "F9ZBVN5aJuy8"
      }
    },
    {
      "cell_type": "code",
      "source": [
        "warning_d = dict(a=[1, 2, 3], b=2)\n",
        "\n",
        "warning_d.items() | s"
      ],
      "metadata": {
        "colab": {
          "base_uri": "https://localhost:8080/",
          "height": 187
        },
        "id": "pMGMX1wGJkVV",
        "outputId": "504f98f7-189c-4227-8c29-a890c1a10b1f"
      },
      "execution_count": 68,
      "outputs": [
        {
          "output_type": "error",
          "ename": "TypeError",
          "evalue": "unhashable type: 'list'",
          "traceback": [
            "\u001b[0;31m---------------------------------------------------------------------------\u001b[0m",
            "\u001b[0;31mTypeError\u001b[0m                                 Traceback (most recent call last)",
            "\u001b[0;32m<ipython-input-68-456d570de985>\u001b[0m in \u001b[0;36m<cell line: 3>\u001b[0;34m()\u001b[0m\n\u001b[1;32m      1\u001b[0m \u001b[0mwarning_d\u001b[0m \u001b[0;34m=\u001b[0m \u001b[0mdict\u001b[0m\u001b[0;34m(\u001b[0m\u001b[0ma\u001b[0m\u001b[0;34m=\u001b[0m\u001b[0;34m[\u001b[0m\u001b[0;36m1\u001b[0m\u001b[0;34m,\u001b[0m \u001b[0;36m2\u001b[0m\u001b[0;34m,\u001b[0m \u001b[0;36m3\u001b[0m\u001b[0;34m]\u001b[0m\u001b[0;34m,\u001b[0m \u001b[0mb\u001b[0m\u001b[0;34m=\u001b[0m\u001b[0;36m2\u001b[0m\u001b[0;34m)\u001b[0m\u001b[0;34m\u001b[0m\u001b[0;34m\u001b[0m\u001b[0m\n\u001b[1;32m      2\u001b[0m \u001b[0;34m\u001b[0m\u001b[0m\n\u001b[0;32m----> 3\u001b[0;31m \u001b[0mwarning_d\u001b[0m\u001b[0;34m.\u001b[0m\u001b[0mitems\u001b[0m\u001b[0;34m(\u001b[0m\u001b[0;34m)\u001b[0m \u001b[0;34m|\u001b[0m \u001b[0ms\u001b[0m\u001b[0;34m\u001b[0m\u001b[0;34m\u001b[0m\u001b[0m\n\u001b[0m",
            "\u001b[0;31mTypeError\u001b[0m: unhashable type: 'list'"
          ]
        }
      ]
    },
    {
      "cell_type": "code",
      "source": [],
      "metadata": {
        "id": "Xvgdmx8tJ7jl"
      },
      "execution_count": null,
      "outputs": []
    }
  ]
}