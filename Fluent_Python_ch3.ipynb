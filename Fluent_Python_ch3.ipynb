{
  "nbformat": 4,
  "nbformat_minor": 0,
  "metadata": {
    "colab": {
      "provenance": [],
      "authorship_tag": "ABX9TyOZYTgWdUddkfPGpSyzFIHH",
      "include_colab_link": true
    },
    "kernelspec": {
      "name": "python3",
      "display_name": "Python 3"
    },
    "language_info": {
      "name": "python"
    }
  },
  "cells": [
    {
      "cell_type": "markdown",
      "metadata": {
        "id": "view-in-github",
        "colab_type": "text"
      },
      "source": [
        "<a href=\"https://colab.research.google.com/github/present42/PyTorchPractice/blob/main/Fluent_Python_ch3.ipynb\" target=\"_parent\"><img src=\"https://colab.research.google.com/assets/colab-badge.svg\" alt=\"Open In Colab\"/></a>"
      ]
    },
    {
      "cell_type": "markdown",
      "source": [
        "# Dictionaries and Set\n",
        "\n",
        "<p> Class and instance attributes, module namespaces, and function keyword arguments are some of the core Python constructs represented by dictionaries in memory. </p>\n",
        "<p> Hashtables are the engines behind Python's high-performance dicts </p>\n"
      ],
      "metadata": {
        "id": "N1rAbG3dqOY7"
      }
    },
    {
      "cell_type": "code",
      "execution_count": null,
      "metadata": {
        "id": "1gdbfilEnqjf"
      },
      "outputs": [],
      "source": [
        "dial_codes = [\n",
        "    (880, 'Bangladesh'),\n",
        "    (55, 'Brazil'),\n",
        "    (86, 'China'),\n",
        "    (91, 'India'),\n",
        "    (852, 'Hong Kong'),\n",
        "    (82, 'South Korea'),\n",
        "    (234, 'Nigeria'),\n",
        "    (92, 'Pakistan'),\n",
        "    (7, 'Russia'),\n",
        "    (1, 'United States'),\n",
        "]"
      ]
    },
    {
      "cell_type": "code",
      "source": [
        "country_dial = { country:code for code, country in dial_codes}"
      ],
      "metadata": {
        "id": "bVgp7Ze-rnqp"
      },
      "execution_count": null,
      "outputs": []
    },
    {
      "cell_type": "code",
      "source": [
        "country_dial"
      ],
      "metadata": {
        "colab": {
          "base_uri": "https://localhost:8080/"
        },
        "id": "Kz4eB36frvBB",
        "outputId": "20a3caed-60be-4ab4-bcc3-0af3d4f89869"
      },
      "execution_count": null,
      "outputs": [
        {
          "output_type": "execute_result",
          "data": {
            "text/plain": [
              "{'Bangladesh': 880,\n",
              " 'Brazil': 55,\n",
              " 'China': 86,\n",
              " 'India': 91,\n",
              " 'Hong Kong': 852,\n",
              " 'South Korea': 82,\n",
              " 'Nigeria': 234,\n",
              " 'Pakistan': 92,\n",
              " 'Russia': 7,\n",
              " 'United States': 1}"
            ]
          },
          "metadata": {},
          "execution_count": 3
        }
      ]
    },
    {
      "cell_type": "code",
      "source": [
        "{code: country.upper()\n",
        "  for country, code in sorted(country_dial.items())\n",
        "  if code < 70}"
      ],
      "metadata": {
        "colab": {
          "base_uri": "https://localhost:8080/"
        },
        "id": "zjJ0u09Nrvnp",
        "outputId": "4355c517-ca73-4b94-ba53-dafe89ae40c4"
      },
      "execution_count": null,
      "outputs": [
        {
          "output_type": "execute_result",
          "data": {
            "text/plain": [
              "{55: 'BRAZIL', 7: 'RUSSIA', 1: 'UNITED STATES'}"
            ]
          },
          "metadata": {},
          "execution_count": 6
        }
      ]
    },
    {
      "cell_type": "code",
      "source": [
        "def dump(**kwargs): # we can apply ** to more than one argument in a function call\n",
        "  return kwargs\n",
        "\n",
        "dump(**{'x': 1}, y=2, **{'z': 3})"
      ],
      "metadata": {
        "colab": {
          "base_uri": "https://localhost:8080/"
        },
        "id": "K9i95GNnrxKZ",
        "outputId": "13c15801-7443-4afe-d56e-0f07732da257"
      },
      "execution_count": null,
      "outputs": [
        {
          "output_type": "execute_result",
          "data": {
            "text/plain": [
              "{'x': 1, 'y': 2, 'z': 3}"
            ]
          },
          "metadata": {},
          "execution_count": 11
        }
      ]
    },
    {
      "cell_type": "code",
      "source": [
        "{'a': 0, **{'x': 1}, 'y': 2, **{'z': 3, 'x': 4}} # duplicated keys are allowed / later occurences overwrites"
      ],
      "metadata": {
        "colab": {
          "base_uri": "https://localhost:8080/"
        },
        "id": "qJv5k0lfsVoI",
        "outputId": "cd3250b4-885d-4bdb-db0b-ef520344155d"
      },
      "execution_count": null,
      "outputs": [
        {
          "output_type": "execute_result",
          "data": {
            "text/plain": [
              "{'a': 0, 'x': 4, 'y': 2, 'z': 3}"
            ]
          },
          "metadata": {},
          "execution_count": 13
        }
      ]
    },
    {
      "cell_type": "markdown",
      "source": [
        "## Merging Mappings with `|`"
      ],
      "metadata": {
        "id": "L-mqyOZIs2yA"
      }
    },
    {
      "cell_type": "code",
      "source": [
        "d1 = {'a': 1, 'b': 3}\n",
        "d2 = {'a': 2, 'b': 4, 'c': 6}\n",
        "d1 | d2"
      ],
      "metadata": {
        "colab": {
          "base_uri": "https://localhost:8080/"
        },
        "id": "RRHZeSpvsuIB",
        "outputId": "77dd0cdb-1fb3-49d1-fc57-5d40b54c7e85"
      },
      "execution_count": null,
      "outputs": [
        {
          "output_type": "execute_result",
          "data": {
            "text/plain": [
              "{'a': 2, 'b': 4, 'c': 6}"
            ]
          },
          "metadata": {},
          "execution_count": 14
        }
      ]
    },
    {
      "cell_type": "code",
      "source": [
        "d2 | d1"
      ],
      "metadata": {
        "colab": {
          "base_uri": "https://localhost:8080/"
        },
        "id": "KdysoCbus_pg",
        "outputId": "8566a317-271d-4d75-bdff-9ce0b7c7a809"
      },
      "execution_count": null,
      "outputs": [
        {
          "output_type": "execute_result",
          "data": {
            "text/plain": [
              "{'a': 1, 'b': 3, 'c': 6}"
            ]
          },
          "metadata": {},
          "execution_count": 15
        }
      ]
    },
    {
      "cell_type": "code",
      "source": [
        "d1 |= d2"
      ],
      "metadata": {
        "id": "mNNRjTzqtE3p"
      },
      "execution_count": null,
      "outputs": []
    },
    {
      "cell_type": "code",
      "source": [
        "d1"
      ],
      "metadata": {
        "colab": {
          "base_uri": "https://localhost:8080/"
        },
        "id": "zbqzmzPbtJdZ",
        "outputId": "95a2907a-7e48-470d-cc7c-793dee3aa164"
      },
      "execution_count": null,
      "outputs": [
        {
          "output_type": "execute_result",
          "data": {
            "text/plain": [
              "{'a': 2, 'b': 4, 'c': 6}"
            ]
          },
          "metadata": {},
          "execution_count": 18
        }
      ]
    },
    {
      "cell_type": "markdown",
      "source": [
        "## Pattern Matching with Mappings"
      ],
      "metadata": {
        "id": "zp_9aeQ4tO8O"
      }
    },
    {
      "cell_type": "code",
      "source": [
        "def get_creators(record: dict) -> list:\n",
        "  match record:\n",
        "    case {'type': 'book', 'api': 2, 'authors': [*names]}:\n",
        "      return names\n",
        "\n",
        "    case {'type': 'book', 'api': 1, 'author': name}:\n",
        "      return [name]\n",
        "\n",
        "    case {'type': 'book'}:\n",
        "      raise ValueError(f\"Invalid 'book' record: {record!r}\")\n",
        "\n",
        "    case {'type': 'movie', 'director': name}:\n",
        "      return [name]\n",
        "\n",
        "    case _:\n",
        "      raise ValueError(f\"Invalid record: {record!r}\")\n"
      ],
      "metadata": {
        "id": "UTD6QQAYtJ3Y"
      },
      "execution_count": null,
      "outputs": []
    },
    {
      "cell_type": "code",
      "source": [
        "b1 = dict(api=1, author='Doublas Hofstadter', type='book', title='Godel, Escher, Bach')"
      ],
      "metadata": {
        "id": "ZJyiBT3muB2A"
      },
      "execution_count": null,
      "outputs": []
    },
    {
      "cell_type": "code",
      "source": [
        "get_creators(b1)"
      ],
      "metadata": {
        "colab": {
          "base_uri": "https://localhost:8080/"
        },
        "id": "Iu8-xmOnuR64",
        "outputId": "9545adae-b608-4d56-cca7-699fa3f2537f"
      },
      "execution_count": null,
      "outputs": [
        {
          "output_type": "execute_result",
          "data": {
            "text/plain": [
              "['Doublas Hofstadter']"
            ]
          },
          "metadata": {},
          "execution_count": 24
        }
      ]
    },
    {
      "cell_type": "code",
      "source": [
        "from collections import OrderedDict\n",
        "b2 = OrderedDict(api=2, type='book', title='Python in a Nutshell', authors='Martelli Ravenscroft Holden'.split())\n",
        "get_creators(b2)"
      ],
      "metadata": {
        "colab": {
          "base_uri": "https://localhost:8080/"
        },
        "id": "M8MxYYoJuS4g",
        "outputId": "6e86fd56-040f-4afb-941f-f93d208af8bc"
      },
      "execution_count": null,
      "outputs": [
        {
          "output_type": "execute_result",
          "data": {
            "text/plain": [
              "['Martelli', 'Ravenscroft', 'Holden']"
            ]
          },
          "metadata": {},
          "execution_count": 25
        }
      ]
    },
    {
      "cell_type": "code",
      "source": [
        "get_creators({'type': 'book', 'pages': 770})"
      ],
      "metadata": {
        "colab": {
          "base_uri": "https://localhost:8080/",
          "height": 280
        },
        "id": "UTCZ5ADEuhsJ",
        "outputId": "7b30c498-a319-4575-e6fd-6d7ab5878c37"
      },
      "execution_count": null,
      "outputs": [
        {
          "output_type": "error",
          "ename": "ValueError",
          "evalue": "Invalid 'book' record: {'type': 'book', 'pages': 770}",
          "traceback": [
            "\u001b[0;31m---------------------------------------------------------------------------\u001b[0m",
            "\u001b[0;31mValueError\u001b[0m                                Traceback (most recent call last)",
            "\u001b[0;32m<ipython-input-26-ce5f348af208>\u001b[0m in \u001b[0;36m<cell line: 1>\u001b[0;34m()\u001b[0m\n\u001b[0;32m----> 1\u001b[0;31m \u001b[0mget_creators\u001b[0m\u001b[0;34m(\u001b[0m\u001b[0;34m{\u001b[0m\u001b[0;34m'type'\u001b[0m\u001b[0;34m:\u001b[0m \u001b[0;34m'book'\u001b[0m\u001b[0;34m,\u001b[0m \u001b[0;34m'pages'\u001b[0m\u001b[0;34m:\u001b[0m \u001b[0;36m770\u001b[0m\u001b[0;34m}\u001b[0m\u001b[0;34m)\u001b[0m\u001b[0;34m\u001b[0m\u001b[0;34m\u001b[0m\u001b[0m\n\u001b[0m",
            "\u001b[0;32m<ipython-input-22-8a5ae31ff8be>\u001b[0m in \u001b[0;36mget_creators\u001b[0;34m(record)\u001b[0m\n\u001b[1;32m      8\u001b[0m \u001b[0;34m\u001b[0m\u001b[0m\n\u001b[1;32m      9\u001b[0m     \u001b[0mcase\u001b[0m \u001b[0;34m{\u001b[0m\u001b[0;34m'type'\u001b[0m\u001b[0;34m:\u001b[0m \u001b[0;34m'book'\u001b[0m\u001b[0;34m}\u001b[0m\u001b[0;34m:\u001b[0m\u001b[0;34m\u001b[0m\u001b[0;34m\u001b[0m\u001b[0m\n\u001b[0;32m---> 10\u001b[0;31m       \u001b[0;32mraise\u001b[0m \u001b[0mValueError\u001b[0m\u001b[0;34m(\u001b[0m\u001b[0;34mf\"Invalid 'book' record: {record!r}\"\u001b[0m\u001b[0;34m)\u001b[0m\u001b[0;34m\u001b[0m\u001b[0;34m\u001b[0m\u001b[0m\n\u001b[0m\u001b[1;32m     11\u001b[0m \u001b[0;34m\u001b[0m\u001b[0m\n\u001b[1;32m     12\u001b[0m     \u001b[0mcase\u001b[0m \u001b[0;34m{\u001b[0m\u001b[0;34m'type'\u001b[0m\u001b[0;34m:\u001b[0m \u001b[0;34m'movie'\u001b[0m\u001b[0;34m,\u001b[0m \u001b[0;34m'director'\u001b[0m\u001b[0;34m:\u001b[0m \u001b[0mname\u001b[0m\u001b[0;34m}\u001b[0m\u001b[0;34m:\u001b[0m\u001b[0;34m\u001b[0m\u001b[0;34m\u001b[0m\u001b[0m\n",
            "\u001b[0;31mValueError\u001b[0m: Invalid 'book' record: {'type': 'book', 'pages': 770}"
          ]
        }
      ]
    },
    {
      "cell_type": "code",
      "source": [
        "food = dict(category='ice cream', flavor='vanilla', cost=199)\n",
        "match food:\n",
        "  case {'category': 'ice cream', **details}:\n",
        "    print(f\"Ice cream details: {details}\")"
      ],
      "metadata": {
        "colab": {
          "base_uri": "https://localhost:8080/"
        },
        "id": "S0bQNentulgg",
        "outputId": "9848d882-0db9-41ad-8135-db2cb8cf9712"
      },
      "execution_count": null,
      "outputs": [
        {
          "output_type": "stream",
          "name": "stdout",
          "text": [
            "Ice cream details: {'flavor': 'vanilla', 'cost': 199}\n"
          ]
        }
      ]
    },
    {
      "cell_type": "markdown",
      "source": [
        "<p>Note that the automatic handling of missing keys is not triggered because pattern matching always uses the `d.get(key, sentinel)` method</p>"
      ],
      "metadata": {
        "id": "gHnjNq2pvFm3"
      }
    },
    {
      "cell_type": "markdown",
      "source": [
        "### Standard API of mapping type"
      ],
      "metadata": {
        "id": "0oT0ZCDrHcNe"
      }
    },
    {
      "cell_type": "code",
      "source": [
        "from collections import abc"
      ],
      "metadata": {
        "id": "1ZOxuUNiHi2d"
      },
      "execution_count": 5,
      "outputs": []
    },
    {
      "cell_type": "code",
      "source": [
        "my_dict = {}\n",
        "isinstance(my_dict, abc.Mapping)"
      ],
      "metadata": {
        "id": "SCJ0Nebpu7Jo",
        "colab": {
          "base_uri": "https://localhost:8080/"
        },
        "outputId": "f426299e-bfbc-4c08-ffe7-5393d88f9e85"
      },
      "execution_count": 6,
      "outputs": [
        {
          "output_type": "execute_result",
          "data": {
            "text/plain": [
              "True"
            ]
          },
          "metadata": {},
          "execution_count": 6
        }
      ]
    },
    {
      "cell_type": "code",
      "source": [
        "isinstance(my_dict, abc.MutableMapping)"
      ],
      "metadata": {
        "colab": {
          "base_uri": "https://localhost:8080/"
        },
        "id": "_Er4n-vAHiGU",
        "outputId": "4587ea18-3d3c-4440-88b1-667c922ea4a0"
      },
      "execution_count": 7,
      "outputs": [
        {
          "output_type": "execute_result",
          "data": {
            "text/plain": [
              "True"
            ]
          },
          "metadata": {},
          "execution_count": 7
        }
      ]
    },
    {
      "cell_type": "code",
      "source": [
        "my_dict.get('hi', 0)"
      ],
      "metadata": {
        "colab": {
          "base_uri": "https://localhost:8080/"
        },
        "id": "P-SgZTiHH4er",
        "outputId": "12f87cca-c8fb-4705-9142-1a1fb4c15566"
      },
      "execution_count": 8,
      "outputs": [
        {
          "output_type": "execute_result",
          "data": {
            "text/plain": [
              "0"
            ]
          },
          "metadata": {},
          "execution_count": 8
        }
      ]
    },
    {
      "cell_type": "code",
      "source": [
        "my_dict"
      ],
      "metadata": {
        "colab": {
          "base_uri": "https://localhost:8080/"
        },
        "id": "Tt-o9rQFH7GC",
        "outputId": "77a90947-d6d0-47d8-8985-3a53dfc372cb"
      },
      "execution_count": 9,
      "outputs": [
        {
          "output_type": "execute_result",
          "data": {
            "text/plain": [
              "{}"
            ]
          },
          "metadata": {},
          "execution_count": 9
        }
      ]
    },
    {
      "cell_type": "markdown",
      "source": [
        "### What is Hashable\n",
        "<p>An object is hashable if it has a hash code which never changes during its lifetime. (it requires <code>__hash__</code>)</p>\n",
        "<p>It can be computed to other objects.</p>"
      ],
      "metadata": {
        "id": "yMDKPqrvIMUS"
      }
    },
    {
      "cell_type": "code",
      "source": [
        "tt = (1, 2, (30, 40))\n",
        "hash(tt)"
      ],
      "metadata": {
        "colab": {
          "base_uri": "https://localhost:8080/"
        },
        "id": "txZBAqIkH8Bt",
        "outputId": "a14a69b6-ae06-45f6-ec22-4551e7c83171"
      },
      "execution_count": 10,
      "outputs": [
        {
          "output_type": "execute_result",
          "data": {
            "text/plain": [
              "-3907003130834322577"
            ]
          },
          "metadata": {},
          "execution_count": 10
        }
      ]
    },
    {
      "cell_type": "code",
      "source": [
        "tl = (1, 2, [30, 40])\n",
        "hash(tl)"
      ],
      "metadata": {
        "colab": {
          "base_uri": "https://localhost:8080/",
          "height": 168
        },
        "id": "pSbSGYDHItbL",
        "outputId": "e67ee052-09ec-4076-ec59-360973ebc004"
      },
      "execution_count": 12,
      "outputs": [
        {
          "output_type": "error",
          "ename": "TypeError",
          "evalue": "unhashable type: 'list'",
          "traceback": [
            "\u001b[0;31m---------------------------------------------------------------------------\u001b[0m",
            "\u001b[0;31mTypeError\u001b[0m                                 Traceback (most recent call last)",
            "\u001b[0;32m<ipython-input-12-258d676ca6dc>\u001b[0m in \u001b[0;36m<cell line: 2>\u001b[0;34m()\u001b[0m\n\u001b[1;32m      1\u001b[0m \u001b[0mtl\u001b[0m \u001b[0;34m=\u001b[0m \u001b[0;34m(\u001b[0m\u001b[0;36m1\u001b[0m\u001b[0;34m,\u001b[0m \u001b[0;36m2\u001b[0m\u001b[0;34m,\u001b[0m \u001b[0;34m[\u001b[0m\u001b[0;36m30\u001b[0m\u001b[0;34m,\u001b[0m \u001b[0;36m40\u001b[0m\u001b[0;34m]\u001b[0m\u001b[0;34m)\u001b[0m\u001b[0;34m\u001b[0m\u001b[0;34m\u001b[0m\u001b[0m\n\u001b[0;32m----> 2\u001b[0;31m \u001b[0mhash\u001b[0m\u001b[0;34m(\u001b[0m\u001b[0mtl\u001b[0m\u001b[0;34m)\u001b[0m\u001b[0;34m\u001b[0m\u001b[0;34m\u001b[0m\u001b[0m\n\u001b[0m",
            "\u001b[0;31mTypeError\u001b[0m: unhashable type: 'list'"
          ]
        }
      ]
    },
    {
      "cell_type": "code",
      "source": [
        "tf = (1, 2, frozenset([30, 40]))\n",
        "hash(tf)"
      ],
      "metadata": {
        "colab": {
          "base_uri": "https://localhost:8080/"
        },
        "id": "75xR8-QlIvSC",
        "outputId": "1628d529-1a81-4f2f-f110-d6e9c388f1b6"
      },
      "execution_count": 13,
      "outputs": [
        {
          "output_type": "execute_result",
          "data": {
            "text/plain": [
              "5149391500123939311"
            ]
          },
          "metadata": {},
          "execution_count": 13
        }
      ]
    },
    {
      "cell_type": "code",
      "source": [],
      "metadata": {
        "id": "adnKjXQFIz_D"
      },
      "execution_count": 14,
      "outputs": []
    },
    {
      "cell_type": "code",
      "source": [
        "d = {'hi': 1, 3: 'there'}\n",
        "d.clear()\n",
        "d"
      ],
      "metadata": {
        "id": "ORwtncCLJGGC"
      },
      "execution_count": 15,
      "outputs": []
    },
    {
      "cell_type": "code",
      "source": [
        "d = {'hi': 1, 3: 'there'}\n",
        "'hi' in d"
      ],
      "metadata": {
        "colab": {
          "base_uri": "https://localhost:8080/"
        },
        "id": "_nQ6JhtVJG4i",
        "outputId": "fde60055-df68-4a9f-e57a-b27e805498a0"
      },
      "execution_count": 17,
      "outputs": [
        {
          "output_type": "execute_result",
          "data": {
            "text/plain": [
              "True"
            ]
          },
          "metadata": {},
          "execution_count": 17
        }
      ]
    },
    {
      "cell_type": "code",
      "source": [
        "d.copy() == d"
      ],
      "metadata": {
        "colab": {
          "base_uri": "https://localhost:8080/"
        },
        "id": "X-Vi5sYAJMpq",
        "outputId": "c4de66d7-b2c6-427b-a575-5b2bb182f6ba"
      },
      "execution_count": 19,
      "outputs": [
        {
          "output_type": "execute_result",
          "data": {
            "text/plain": [
              "True"
            ]
          },
          "metadata": {},
          "execution_count": 19
        }
      ]
    },
    {
      "cell_type": "code",
      "source": [
        "import copy\n",
        "copy.copy(d) == d"
      ],
      "metadata": {
        "colab": {
          "base_uri": "https://localhost:8080/"
        },
        "id": "1h8yVVHHJOxT",
        "outputId": "40348221-4f64-44c0-d370-e0b2d6db8e9a"
      },
      "execution_count": 21,
      "outputs": [
        {
          "output_type": "execute_result",
          "data": {
            "text/plain": [
              "True"
            ]
          },
          "metadata": {},
          "execution_count": 21
        }
      ]
    },
    {
      "cell_type": "code",
      "source": [
        "from collections import defaultdict"
      ],
      "metadata": {
        "id": "miaHlpHLJS16"
      },
      "execution_count": 22,
      "outputs": []
    },
    {
      "cell_type": "code",
      "source": [
        "def def_value():\n",
        "  return \"hi there\"\n",
        "a = defaultdict(def_value)\n",
        "a[\"3\"] = \"hi\"\n",
        "a[2] = \"3\"\n",
        "a[(2, 3)] = \"hello\"\n",
        "a.default_factory()\n",
        "\n",
        "del a[\"3\"]"
      ],
      "metadata": {
        "id": "CcHmnPA8JZgr"
      },
      "execution_count": 27,
      "outputs": []
    },
    {
      "cell_type": "code",
      "source": [
        "a"
      ],
      "metadata": {
        "colab": {
          "base_uri": "https://localhost:8080/"
        },
        "id": "YLWDUZwDJbzL",
        "outputId": "fe1f533f-1067-4789-c51e-61225a667b1c"
      },
      "execution_count": 28,
      "outputs": [
        {
          "output_type": "execute_result",
          "data": {
            "text/plain": [
              "defaultdict(<function __main__.def_value()>, {2: '3', (2, 3): 'hello'})"
            ]
          },
          "metadata": {},
          "execution_count": 28
        }
      ]
    },
    {
      "cell_type": "code",
      "source": [
        "a.get((3, 4))"
      ],
      "metadata": {
        "id": "jdd76CATJ_IC"
      },
      "execution_count": 31,
      "outputs": []
    },
    {
      "cell_type": "code",
      "source": [
        "for k, v in a.items():\n",
        "  del a[k]"
      ],
      "metadata": {
        "colab": {
          "base_uri": "https://localhost:8080/",
          "height": 168
        },
        "id": "i7EqK4y3KBGS",
        "outputId": "6d2d2387-f7d1-46cc-ac9a-0b54f3a4f2fc"
      },
      "execution_count": 38,
      "outputs": [
        {
          "output_type": "error",
          "ename": "RuntimeError",
          "evalue": "dictionary changed size during iteration",
          "traceback": [
            "\u001b[0;31m---------------------------------------------------------------------------\u001b[0m",
            "\u001b[0;31mRuntimeError\u001b[0m                              Traceback (most recent call last)",
            "\u001b[0;32m<ipython-input-38-6c0fb3734247>\u001b[0m in \u001b[0;36m<cell line: 1>\u001b[0;34m()\u001b[0m\n\u001b[0;32m----> 1\u001b[0;31m \u001b[0;32mfor\u001b[0m \u001b[0mk\u001b[0m\u001b[0;34m,\u001b[0m \u001b[0mv\u001b[0m \u001b[0;32min\u001b[0m \u001b[0ma\u001b[0m\u001b[0;34m.\u001b[0m\u001b[0mitems\u001b[0m\u001b[0;34m(\u001b[0m\u001b[0;34m)\u001b[0m\u001b[0;34m:\u001b[0m\u001b[0;34m\u001b[0m\u001b[0;34m\u001b[0m\u001b[0m\n\u001b[0m\u001b[1;32m      2\u001b[0m   \u001b[0;32mdel\u001b[0m \u001b[0ma\u001b[0m\u001b[0;34m[\u001b[0m\u001b[0mk\u001b[0m\u001b[0;34m]\u001b[0m\u001b[0;34m\u001b[0m\u001b[0;34m\u001b[0m\u001b[0m\n",
            "\u001b[0;31mRuntimeError\u001b[0m: dictionary changed size during iteration"
          ]
        }
      ]
    },
    {
      "cell_type": "code",
      "source": [
        "a"
      ],
      "metadata": {
        "colab": {
          "base_uri": "https://localhost:8080/"
        },
        "id": "Y5edJD2sKF3C",
        "outputId": "b44d6099-f73d-4ef3-b5cd-cbb40f5787bf"
      },
      "execution_count": 39,
      "outputs": [
        {
          "output_type": "execute_result",
          "data": {
            "text/plain": [
              "defaultdict(<function __main__.def_value()>,\n",
              "            {(2, 3): 'hello', '3': 'hi there'})"
            ]
          },
          "metadata": {},
          "execution_count": 39
        }
      ]
    },
    {
      "cell_type": "markdown",
      "source": [
        "# Inserting or Updating Mutable Values\n",
        "<p>If you wanna retrieve a mutable value and want to update it, there is a better way.</p>"
      ],
      "metadata": {
        "id": "Bx91kZXxK3w2"
      }
    },
    {
      "cell_type": "code",
      "source": [
        "!python index0.py zen.txt"
      ],
      "metadata": {
        "colab": {
          "base_uri": "https://localhost:8080/"
        },
        "id": "qeu5HD5-KXka",
        "outputId": "326a2f4b-4a73-46f7-9c08-228090b808af"
      },
      "execution_count": 40,
      "outputs": [
        {
          "output_type": "stream",
          "name": "stdout",
          "text": [
            "a [(17, 48), (18, 53)]\n",
            "Although [(9, 1), (14, 1), (16, 1)]\n",
            "ambiguity [(12, 16)]\n",
            "and [(13, 23)]\n",
            "are [(19, 12)]\n",
            "aren [(8, 15)]\n",
            "at [(14, 38)]\n",
            "bad [(17, 50)]\n",
            "be [(13, 14), (14, 27), (18, 50)]\n",
            "beats [(9, 23)]\n",
            "Beautiful [(1, 1)]\n",
            "better [(1, 14), (2, 13), (3, 11), (4, 12), (5, 9), (6, 11), (15, 8), (16, 25)]\n",
            "break [(8, 40)]\n",
            "cases [(8, 9)]\n",
            "complex [(3, 23)]\n",
            "Complex [(4, 1)]\n",
            "complicated [(4, 24)]\n",
            "counts [(7, 13)]\n",
            "dense [(6, 23)]\n",
            "do [(13, 64), (19, 48)]\n",
            "Dutch [(14, 61)]\n",
            "easy [(18, 26)]\n",
            "enough [(8, 30)]\n",
            "Errors [(10, 1)]\n",
            "explain [(17, 34), (18, 34)]\n",
            "Explicit [(2, 1)]\n",
            "explicitly [(11, 8)]\n",
            "face [(12, 8)]\n",
            "first [(14, 41)]\n",
            "Flat [(5, 1)]\n",
            "good [(18, 55)]\n",
            "great [(19, 28)]\n",
            "guess [(12, 52)]\n",
            "hard [(17, 26)]\n",
            "honking [(19, 20)]\n",
            "idea [(17, 54), (18, 60), (19, 34)]\n",
            "If [(17, 1), (18, 1)]\n",
            "implementation [(17, 8), (18, 8)]\n",
            "implicit [(2, 25)]\n",
            "In [(12, 1)]\n",
            "is [(1, 11), (2, 10), (3, 8), (4, 9), (5, 6), (6, 8), (15, 5), (16, 16), (17, 23), (18, 23)]\n",
            "it [(13, 67), (17, 43), (18, 43)]\n",
            "let [(19, 42)]\n",
            "may [(14, 19), (18, 46)]\n",
            "more [(19, 51)]\n",
            "Namespaces [(19, 1)]\n",
            "nested [(5, 21)]\n",
            "never [(10, 15), (15, 20), (16, 10)]\n",
            "not [(14, 23)]\n",
            "Now [(15, 1)]\n",
            "now [(16, 45)]\n",
            "obvious [(13, 49), (14, 30)]\n",
            "of [(12, 13), (19, 56)]\n",
            "often [(16, 19)]\n",
            "one [(13, 17), (13, 43), (19, 16)]\n",
            "only [(13, 38)]\n",
            "pass [(10, 21)]\n",
            "practicality [(9, 10)]\n",
            "preferably [(13, 27)]\n",
            "purity [(9, 29)]\n",
            "re [(14, 58)]\n",
            "Readability [(7, 1)]\n",
            "refuse [(12, 27)]\n",
            "right [(16, 38)]\n",
            "rules [(8, 50)]\n",
            "s [(17, 46), (19, 46)]\n",
            "should [(10, 8), (13, 7)]\n",
            "silenced [(11, 19)]\n",
            "silently [(10, 26)]\n",
            "Simple [(3, 1)]\n",
            "Sparse [(6, 1)]\n",
            "Special [(8, 1)]\n",
            "special [(8, 22)]\n",
            "t [(8, 20)]\n",
            "temptation [(12, 38)]\n",
            "than [(1, 21), (2, 20), (3, 18), (4, 19), (5, 16), (6, 18), (15, 15), (16, 32)]\n",
            "that [(14, 10)]\n",
            "the [(8, 46), (12, 4), (12, 34), (17, 4), (18, 4)]\n",
            "There [(13, 1)]\n",
            "those [(19, 59)]\n",
            "to [(8, 37), (12, 49), (13, 61), (17, 31), (18, 31)]\n",
            "ugly [(1, 26)]\n",
            "Unless [(11, 1)]\n",
            "unless [(14, 47)]\n",
            "way [(13, 57), (14, 15)]\n",
            "you [(14, 54)]\n"
          ]
        }
      ]
    },
    {
      "cell_type": "markdown",
      "source": [
        "## Automatic Handling of Missing Keys\n",
        "\n",
        "<p> There are two ways to do this: </p>\n",
        "\n",
        " 1. Use `defaultdict`\n",
        " 2. subclass `dict` or any other mapping type and add a `__missing__` method"
      ],
      "metadata": {
        "id": "4_ATqlXuM_0G"
      }
    },
    {
      "cell_type": "code",
      "source": [
        "!python index_default.py zen.txt"
      ],
      "metadata": {
        "colab": {
          "base_uri": "https://localhost:8080/"
        },
        "id": "LWPWkizxM-35",
        "outputId": "0d643e07-f970-43a4-9407-b373d50b8866"
      },
      "execution_count": 41,
      "outputs": [
        {
          "output_type": "stream",
          "name": "stdout",
          "text": [
            "a [(17, 48), (18, 53)]\n",
            "Although [(9, 1), (14, 1), (16, 1)]\n",
            "ambiguity [(12, 16)]\n",
            "and [(13, 23)]\n",
            "are [(19, 12)]\n",
            "aren [(8, 15)]\n",
            "at [(14, 38)]\n",
            "bad [(17, 50)]\n",
            "be [(13, 14), (14, 27), (18, 50)]\n",
            "beats [(9, 23)]\n",
            "Beautiful [(1, 1)]\n",
            "better [(1, 14), (2, 13), (3, 11), (4, 12), (5, 9), (6, 11), (15, 8), (16, 25)]\n",
            "break [(8, 40)]\n",
            "cases [(8, 9)]\n",
            "complex [(3, 23)]\n",
            "Complex [(4, 1)]\n",
            "complicated [(4, 24)]\n",
            "counts [(7, 13)]\n",
            "dense [(6, 23)]\n",
            "do [(13, 64), (19, 48)]\n",
            "Dutch [(14, 61)]\n",
            "easy [(18, 26)]\n",
            "enough [(8, 30)]\n",
            "Errors [(10, 1)]\n",
            "explain [(17, 34), (18, 34)]\n",
            "Explicit [(2, 1)]\n",
            "explicitly [(11, 8)]\n",
            "face [(12, 8)]\n",
            "first [(14, 41)]\n",
            "Flat [(5, 1)]\n",
            "good [(18, 55)]\n",
            "great [(19, 28)]\n",
            "guess [(12, 52)]\n",
            "hard [(17, 26)]\n",
            "honking [(19, 20)]\n",
            "idea [(17, 54), (18, 60), (19, 34)]\n",
            "If [(17, 1), (18, 1)]\n",
            "implementation [(17, 8), (18, 8)]\n",
            "implicit [(2, 25)]\n",
            "In [(12, 1)]\n",
            "is [(1, 11), (2, 10), (3, 8), (4, 9), (5, 6), (6, 8), (15, 5), (16, 16), (17, 23), (18, 23)]\n",
            "it [(13, 67), (17, 43), (18, 43)]\n",
            "let [(19, 42)]\n",
            "may [(14, 19), (18, 46)]\n",
            "more [(19, 51)]\n",
            "Namespaces [(19, 1)]\n",
            "nested [(5, 21)]\n",
            "never [(10, 15), (15, 20), (16, 10)]\n",
            "not [(14, 23)]\n",
            "Now [(15, 1)]\n",
            "now [(16, 45)]\n",
            "obvious [(13, 49), (14, 30)]\n",
            "of [(12, 13), (19, 56)]\n",
            "often [(16, 19)]\n",
            "one [(13, 17), (13, 43), (19, 16)]\n",
            "only [(13, 38)]\n",
            "pass [(10, 21)]\n",
            "practicality [(9, 10)]\n",
            "preferably [(13, 27)]\n",
            "purity [(9, 29)]\n",
            "re [(14, 58)]\n",
            "Readability [(7, 1)]\n",
            "refuse [(12, 27)]\n",
            "right [(16, 38)]\n",
            "rules [(8, 50)]\n",
            "s [(17, 46), (19, 46)]\n",
            "should [(10, 8), (13, 7)]\n",
            "silenced [(11, 19)]\n",
            "silently [(10, 26)]\n",
            "Simple [(3, 1)]\n",
            "Sparse [(6, 1)]\n",
            "Special [(8, 1)]\n",
            "special [(8, 22)]\n",
            "t [(8, 20)]\n",
            "temptation [(12, 38)]\n",
            "than [(1, 21), (2, 20), (3, 18), (4, 19), (5, 16), (6, 18), (15, 15), (16, 32)]\n",
            "that [(14, 10)]\n",
            "the [(8, 46), (12, 4), (12, 34), (17, 4), (18, 4)]\n",
            "There [(13, 1)]\n",
            "those [(19, 59)]\n",
            "to [(8, 37), (12, 49), (13, 61), (17, 31), (18, 31)]\n",
            "ugly [(1, 26)]\n",
            "Unless [(11, 1)]\n",
            "unless [(14, 47)]\n",
            "way [(13, 57), (14, 15)]\n",
            "you [(14, 54)]\n"
          ]
        }
      ]
    },
    {
      "cell_type": "code",
      "source": [],
      "metadata": {
        "id": "5v5u2ZAfMMgS"
      },
      "execution_count": null,
      "outputs": []
    }
  ]
}