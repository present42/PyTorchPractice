{
  "nbformat": 4,
  "nbformat_minor": 0,
  "metadata": {
    "colab": {
      "provenance": [],
      "authorship_tag": "ABX9TyOGEwbazffRQMn/qn+SfU9x",
      "include_colab_link": true
    },
    "kernelspec": {
      "name": "python3",
      "display_name": "Python 3"
    },
    "language_info": {
      "name": "python"
    }
  },
  "cells": [
    {
      "cell_type": "markdown",
      "metadata": {
        "id": "view-in-github",
        "colab_type": "text"
      },
      "source": [
        "<a href=\"https://colab.research.google.com/github/present42/PyTorchPractice/blob/main/Fluent_Python_ch3.ipynb\" target=\"_parent\"><img src=\"https://colab.research.google.com/assets/colab-badge.svg\" alt=\"Open In Colab\"/></a>"
      ]
    },
    {
      "cell_type": "markdown",
      "source": [
        "# Dictionaries and Set\n",
        "\n",
        "<p> Class and instance attributes, module namespaces, and function keyword arguments are some of the core Python constructs represented by dictionaries in memory. </p>\n",
        "<p> Hashtables are the engines behind Python's high-performance dicts </p>\n"
      ],
      "metadata": {
        "id": "N1rAbG3dqOY7"
      }
    },
    {
      "cell_type": "code",
      "execution_count": 1,
      "metadata": {
        "id": "1gdbfilEnqjf"
      },
      "outputs": [],
      "source": [
        "dial_codes = [\n",
        "    (880, 'Bangladesh'),\n",
        "    (55, 'Brazil'),\n",
        "    (86, 'China'),\n",
        "    (91, 'India'),\n",
        "    (852, 'Hong Kong'),\n",
        "    (82, 'South Korea'),\n",
        "    (234, 'Nigeria'),\n",
        "    (92, 'Pakistan'),\n",
        "    (7, 'Russia'),\n",
        "    (1, 'United States'),\n",
        "]"
      ]
    },
    {
      "cell_type": "code",
      "source": [
        "country_dial = { country:code for code, country in dial_codes}"
      ],
      "metadata": {
        "id": "bVgp7Ze-rnqp"
      },
      "execution_count": 2,
      "outputs": []
    },
    {
      "cell_type": "code",
      "source": [
        "country_dial"
      ],
      "metadata": {
        "colab": {
          "base_uri": "https://localhost:8080/"
        },
        "id": "Kz4eB36frvBB",
        "outputId": "20a3caed-60be-4ab4-bcc3-0af3d4f89869"
      },
      "execution_count": 3,
      "outputs": [
        {
          "output_type": "execute_result",
          "data": {
            "text/plain": [
              "{'Bangladesh': 880,\n",
              " 'Brazil': 55,\n",
              " 'China': 86,\n",
              " 'India': 91,\n",
              " 'Hong Kong': 852,\n",
              " 'South Korea': 82,\n",
              " 'Nigeria': 234,\n",
              " 'Pakistan': 92,\n",
              " 'Russia': 7,\n",
              " 'United States': 1}"
            ]
          },
          "metadata": {},
          "execution_count": 3
        }
      ]
    },
    {
      "cell_type": "code",
      "source": [
        "{code: country.upper()\n",
        "  for country, code in sorted(country_dial.items())\n",
        "  if code < 70}"
      ],
      "metadata": {
        "colab": {
          "base_uri": "https://localhost:8080/"
        },
        "id": "zjJ0u09Nrvnp",
        "outputId": "4355c517-ca73-4b94-ba53-dafe89ae40c4"
      },
      "execution_count": 6,
      "outputs": [
        {
          "output_type": "execute_result",
          "data": {
            "text/plain": [
              "{55: 'BRAZIL', 7: 'RUSSIA', 1: 'UNITED STATES'}"
            ]
          },
          "metadata": {},
          "execution_count": 6
        }
      ]
    },
    {
      "cell_type": "code",
      "source": [
        "def dump(**kwargs): # we can apply ** to more than one argument in a function call\n",
        "  return kwargs\n",
        "\n",
        "dump(**{'x': 1}, y=2, **{'z': 3})"
      ],
      "metadata": {
        "colab": {
          "base_uri": "https://localhost:8080/"
        },
        "id": "K9i95GNnrxKZ",
        "outputId": "13c15801-7443-4afe-d56e-0f07732da257"
      },
      "execution_count": 11,
      "outputs": [
        {
          "output_type": "execute_result",
          "data": {
            "text/plain": [
              "{'x': 1, 'y': 2, 'z': 3}"
            ]
          },
          "metadata": {},
          "execution_count": 11
        }
      ]
    },
    {
      "cell_type": "code",
      "source": [
        "{'a': 0, **{'x': 1}, 'y': 2, **{'z': 3, 'x': 4}} # duplicated keys are allowed / later occurences overwrites"
      ],
      "metadata": {
        "colab": {
          "base_uri": "https://localhost:8080/"
        },
        "id": "qJv5k0lfsVoI",
        "outputId": "cd3250b4-885d-4bdb-db0b-ef520344155d"
      },
      "execution_count": 13,
      "outputs": [
        {
          "output_type": "execute_result",
          "data": {
            "text/plain": [
              "{'a': 0, 'x': 4, 'y': 2, 'z': 3}"
            ]
          },
          "metadata": {},
          "execution_count": 13
        }
      ]
    },
    {
      "cell_type": "markdown",
      "source": [
        "## Merging Mappings with `|`"
      ],
      "metadata": {
        "id": "L-mqyOZIs2yA"
      }
    },
    {
      "cell_type": "code",
      "source": [
        "d1 = {'a': 1, 'b': 3}\n",
        "d2 = {'a': 2, 'b': 4, 'c': 6}\n",
        "d1 | d2"
      ],
      "metadata": {
        "colab": {
          "base_uri": "https://localhost:8080/"
        },
        "id": "RRHZeSpvsuIB",
        "outputId": "77dd0cdb-1fb3-49d1-fc57-5d40b54c7e85"
      },
      "execution_count": 14,
      "outputs": [
        {
          "output_type": "execute_result",
          "data": {
            "text/plain": [
              "{'a': 2, 'b': 4, 'c': 6}"
            ]
          },
          "metadata": {},
          "execution_count": 14
        }
      ]
    },
    {
      "cell_type": "code",
      "source": [
        "d2 | d1"
      ],
      "metadata": {
        "colab": {
          "base_uri": "https://localhost:8080/"
        },
        "id": "KdysoCbus_pg",
        "outputId": "8566a317-271d-4d75-bdff-9ce0b7c7a809"
      },
      "execution_count": 15,
      "outputs": [
        {
          "output_type": "execute_result",
          "data": {
            "text/plain": [
              "{'a': 1, 'b': 3, 'c': 6}"
            ]
          },
          "metadata": {},
          "execution_count": 15
        }
      ]
    },
    {
      "cell_type": "code",
      "source": [
        "d1 |= d2"
      ],
      "metadata": {
        "id": "mNNRjTzqtE3p"
      },
      "execution_count": 17,
      "outputs": []
    },
    {
      "cell_type": "code",
      "source": [
        "d1"
      ],
      "metadata": {
        "colab": {
          "base_uri": "https://localhost:8080/"
        },
        "id": "zbqzmzPbtJdZ",
        "outputId": "95a2907a-7e48-470d-cc7c-793dee3aa164"
      },
      "execution_count": 18,
      "outputs": [
        {
          "output_type": "execute_result",
          "data": {
            "text/plain": [
              "{'a': 2, 'b': 4, 'c': 6}"
            ]
          },
          "metadata": {},
          "execution_count": 18
        }
      ]
    },
    {
      "cell_type": "markdown",
      "source": [
        "## Pattern Matching with Mappings"
      ],
      "metadata": {
        "id": "zp_9aeQ4tO8O"
      }
    },
    {
      "cell_type": "code",
      "source": [
        "def get_creators(record: dict) -> list:\n",
        "  match record:\n",
        "    case {'type': 'book', 'api': 2, 'authors': [*names]}:\n",
        "      return names\n",
        "\n",
        "    case {'type': 'book', 'api': 1, 'author': name}:\n",
        "      return [name]\n",
        "\n",
        "    case {'type': 'book'}:\n",
        "      raise ValueError(f\"Invalid 'book' record: {record!r}\")\n",
        "\n",
        "    case {'type': 'movie', 'director': name}:\n",
        "      return [name]\n",
        "\n",
        "    case _:\n",
        "      raise ValueError(f\"Invalid record: {record!r}\")\n",
        ""
      ],
      "metadata": {
        "id": "UTD6QQAYtJ3Y"
      },
      "execution_count": 22,
      "outputs": []
    },
    {
      "cell_type": "code",
      "source": [
        "b1 = dict(api=1, author='Doublas Hofstadter', type='book', title='Godel, Escher, Bach')"
      ],
      "metadata": {
        "id": "ZJyiBT3muB2A"
      },
      "execution_count": 23,
      "outputs": []
    },
    {
      "cell_type": "code",
      "source": [
        "get_creators(b1)"
      ],
      "metadata": {
        "colab": {
          "base_uri": "https://localhost:8080/"
        },
        "id": "Iu8-xmOnuR64",
        "outputId": "9545adae-b608-4d56-cca7-699fa3f2537f"
      },
      "execution_count": 24,
      "outputs": [
        {
          "output_type": "execute_result",
          "data": {
            "text/plain": [
              "['Doublas Hofstadter']"
            ]
          },
          "metadata": {},
          "execution_count": 24
        }
      ]
    },
    {
      "cell_type": "code",
      "source": [
        "from collections import OrderedDict\n",
        "b2 = OrderedDict(api=2, type='book', title='Python in a Nutshell', authors='Martelli Ravenscroft Holden'.split())\n",
        "get_creators(b2)"
      ],
      "metadata": {
        "colab": {
          "base_uri": "https://localhost:8080/"
        },
        "id": "M8MxYYoJuS4g",
        "outputId": "6e86fd56-040f-4afb-941f-f93d208af8bc"
      },
      "execution_count": 25,
      "outputs": [
        {
          "output_type": "execute_result",
          "data": {
            "text/plain": [
              "['Martelli', 'Ravenscroft', 'Holden']"
            ]
          },
          "metadata": {},
          "execution_count": 25
        }
      ]
    },
    {
      "cell_type": "code",
      "source": [
        "get_creators({'type': 'book', 'pages': 770})"
      ],
      "metadata": {
        "colab": {
          "base_uri": "https://localhost:8080/",
          "height": 280
        },
        "id": "UTCZ5ADEuhsJ",
        "outputId": "7b30c498-a319-4575-e6fd-6d7ab5878c37"
      },
      "execution_count": 26,
      "outputs": [
        {
          "output_type": "error",
          "ename": "ValueError",
          "evalue": "Invalid 'book' record: {'type': 'book', 'pages': 770}",
          "traceback": [
            "\u001b[0;31m---------------------------------------------------------------------------\u001b[0m",
            "\u001b[0;31mValueError\u001b[0m                                Traceback (most recent call last)",
            "\u001b[0;32m<ipython-input-26-ce5f348af208>\u001b[0m in \u001b[0;36m<cell line: 1>\u001b[0;34m()\u001b[0m\n\u001b[0;32m----> 1\u001b[0;31m \u001b[0mget_creators\u001b[0m\u001b[0;34m(\u001b[0m\u001b[0;34m{\u001b[0m\u001b[0;34m'type'\u001b[0m\u001b[0;34m:\u001b[0m \u001b[0;34m'book'\u001b[0m\u001b[0;34m,\u001b[0m \u001b[0;34m'pages'\u001b[0m\u001b[0;34m:\u001b[0m \u001b[0;36m770\u001b[0m\u001b[0;34m}\u001b[0m\u001b[0;34m)\u001b[0m\u001b[0;34m\u001b[0m\u001b[0;34m\u001b[0m\u001b[0m\n\u001b[0m",
            "\u001b[0;32m<ipython-input-22-8a5ae31ff8be>\u001b[0m in \u001b[0;36mget_creators\u001b[0;34m(record)\u001b[0m\n\u001b[1;32m      8\u001b[0m \u001b[0;34m\u001b[0m\u001b[0m\n\u001b[1;32m      9\u001b[0m     \u001b[0mcase\u001b[0m \u001b[0;34m{\u001b[0m\u001b[0;34m'type'\u001b[0m\u001b[0;34m:\u001b[0m \u001b[0;34m'book'\u001b[0m\u001b[0;34m}\u001b[0m\u001b[0;34m:\u001b[0m\u001b[0;34m\u001b[0m\u001b[0;34m\u001b[0m\u001b[0m\n\u001b[0;32m---> 10\u001b[0;31m       \u001b[0;32mraise\u001b[0m \u001b[0mValueError\u001b[0m\u001b[0;34m(\u001b[0m\u001b[0;34mf\"Invalid 'book' record: {record!r}\"\u001b[0m\u001b[0;34m)\u001b[0m\u001b[0;34m\u001b[0m\u001b[0;34m\u001b[0m\u001b[0m\n\u001b[0m\u001b[1;32m     11\u001b[0m \u001b[0;34m\u001b[0m\u001b[0m\n\u001b[1;32m     12\u001b[0m     \u001b[0mcase\u001b[0m \u001b[0;34m{\u001b[0m\u001b[0;34m'type'\u001b[0m\u001b[0;34m:\u001b[0m \u001b[0;34m'movie'\u001b[0m\u001b[0;34m,\u001b[0m \u001b[0;34m'director'\u001b[0m\u001b[0;34m:\u001b[0m \u001b[0mname\u001b[0m\u001b[0;34m}\u001b[0m\u001b[0;34m:\u001b[0m\u001b[0;34m\u001b[0m\u001b[0;34m\u001b[0m\u001b[0m\n",
            "\u001b[0;31mValueError\u001b[0m: Invalid 'book' record: {'type': 'book', 'pages': 770}"
          ]
        }
      ]
    },
    {
      "cell_type": "code",
      "source": [
        "food = dict(category='ice cream', flavor='vanilla', cost=199)\n",
        "match food:\n",
        "  case {'category': 'ice cream', **details}:\n",
        "    print(f\"Ice cream details: {details}\")"
      ],
      "metadata": {
        "colab": {
          "base_uri": "https://localhost:8080/"
        },
        "id": "S0bQNentulgg",
        "outputId": "9848d882-0db9-41ad-8135-db2cb8cf9712"
      },
      "execution_count": 27,
      "outputs": [
        {
          "output_type": "stream",
          "name": "stdout",
          "text": [
            "Ice cream details: {'flavor': 'vanilla', 'cost': 199}\n"
          ]
        }
      ]
    },
    {
      "cell_type": "markdown",
      "source": [
        "<p>Note that the automatic handling of missing keys is not triggered because pattern matching always uses the `d.get(key, sentinel)` method</p>"
      ],
      "metadata": {
        "id": "gHnjNq2pvFm3"
      }
    },
    {
      "cell_type": "code",
      "source": [],
      "metadata": {
        "id": "SCJ0Nebpu7Jo"
      },
      "execution_count": null,
      "outputs": []
    }
  ]
}