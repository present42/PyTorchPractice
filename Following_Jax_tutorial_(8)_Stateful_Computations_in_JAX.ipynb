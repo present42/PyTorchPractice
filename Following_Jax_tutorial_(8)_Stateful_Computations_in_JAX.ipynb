{
  "nbformat": 4,
  "nbformat_minor": 0,
  "metadata": {
    "colab": {
      "provenance": [],
      "authorship_tag": "ABX9TyMt8wWxZ2wBtFMCRuE/1IQQ",
      "include_colab_link": true
    },
    "kernelspec": {
      "name": "python3",
      "display_name": "Python 3"
    },
    "language_info": {
      "name": "python"
    }
  },
  "cells": [
    {
      "cell_type": "markdown",
      "metadata": {
        "id": "view-in-github",
        "colab_type": "text"
      },
      "source": [
        "<a href=\"https://colab.research.google.com/github/present42/PyTorchPractice/blob/main/Following_Jax_tutorial_(8)_Stateful_Computations_in_JAX.ipynb\" target=\"_parent\"><img src=\"https://colab.research.google.com/assets/colab-badge.svg\" alt=\"Open In Colab\"/></a>"
      ]
    },
    {
      "cell_type": "markdown",
      "source": [
        "# Motivation\n",
        "\n",
        "Some JAX transformation (notably `jax.jit`) impose constraints on teh functionst they transform."
      ],
      "metadata": {
        "id": "64yX2vgyVDFd"
      }
    },
    {
      "cell_type": "code",
      "execution_count": 1,
      "metadata": {
        "colab": {
          "base_uri": "https://localhost:8080/"
        },
        "id": "tjEqou7xU9QO",
        "outputId": "72f07bc1-38f7-4180-9b92-c2cb24d9dd33"
      },
      "outputs": [
        {
          "output_type": "stream",
          "name": "stdout",
          "text": [
            "1\n",
            "2\n",
            "3\n"
          ]
        }
      ],
      "source": [
        "import jax\n",
        "import jax.numpy as jnp\n",
        "\n",
        "class Counter:\n",
        "  def __init__(self):\n",
        "    self.n = 0\n",
        "\n",
        "  def count(self) -> int:\n",
        "    self.n += 1\n",
        "    return self.n\n",
        "\n",
        "  def reset(self):\n",
        "    self.n = 0\n",
        "\n",
        "counter = Counter()\n",
        "\n",
        "for _ in range(3):\n",
        "  print(counter.count())"
      ]
    },
    {
      "cell_type": "markdown",
      "source": [
        "`n` attribute maintains the counter's state between successive calls of `count`. It is modified as a side effect of calling `count`."
      ],
      "metadata": {
        "id": "6WiR2HlHVjNr"
      }
    },
    {
      "cell_type": "code",
      "source": [
        "counter.reset()\n",
        "fast_count = jax.jit(counter.count)\n",
        "\n",
        "for _ in range(3):\n",
        "  print(fast_count())"
      ],
      "metadata": {
        "colab": {
          "base_uri": "https://localhost:8080/"
        },
        "id": "GhWwze4zVg5S",
        "outputId": "87298571-4181-4ba4-f019-7302952257d5"
      },
      "execution_count": 2,
      "outputs": [
        {
          "output_type": "stream",
          "name": "stdout",
          "text": [
            "1\n",
            "1\n",
            "1\n"
          ]
        }
      ]
    },
    {
      "cell_type": "markdown",
      "source": [
        "## The solution: explicit state\n",
        "\n",
        "Part of the problem with our counter was that the returned value didn't depend on the arguments. Well, why don't we make the state into an argument?"
      ],
      "metadata": {
        "id": "2fk8J1CUV9D5"
      }
    },
    {
      "cell_type": "code",
      "source": [
        "CounterState = int\n",
        "\n",
        "class CounterV2:\n",
        "  def count(self, n: CounterState) -> tuple[int, CounterState]:\n",
        "    # output and counter state (for didactic purpose)\n",
        "    return n+1, n+1\n",
        "  def reset(self) -> CounterState:\n",
        "    return 0\n",
        "\n",
        "counter = CounterV2()\n",
        "state = counter.reset()\n",
        "\n",
        "for _ in range(3):\n",
        "  value, state = counter.count(state)\n",
        "  print(value)"
      ],
      "metadata": {
        "colab": {
          "base_uri": "https://localhost:8080/"
        },
        "id": "LiQuXKREVzh5",
        "outputId": "c4e19f8f-bd90-41dd-81ed-b8e8eaab987b"
      },
      "execution_count": 3,
      "outputs": [
        {
          "output_type": "stream",
          "name": "stdout",
          "text": [
            "1\n",
            "2\n",
            "3\n"
          ]
        }
      ]
    },
    {
      "cell_type": "code",
      "source": [
        "state = counter.reset()\n",
        "fast_count = jax.jit(counter.count)\n",
        "\n",
        "for _ in range(3):\n",
        "  value, state = fast_count(state)\n",
        "  print(value)"
      ],
      "metadata": {
        "colab": {
          "base_uri": "https://localhost:8080/"
        },
        "id": "kFGTFuvEWe4P",
        "outputId": "09352895-2404-4c15-8e3a-6b8ee9abbba1"
      },
      "execution_count": 4,
      "outputs": [
        {
          "output_type": "stream",
          "name": "stdout",
          "text": [
            "1\n",
            "2\n",
            "3\n"
          ]
        }
      ]
    },
    {
      "cell_type": "markdown",
      "source": [
        "## Simple worked example: Linear Regression"
      ],
      "metadata": {
        "id": "86Ndr1aZWqym"
      }
    },
    {
      "cell_type": "code",
      "source": [
        "from typing import NamedTuple\n",
        "\n",
        "class Params(NamedTuple):\n",
        "  weight: jnp.ndarray\n",
        "  bias: jnp.ndarray\n",
        "\n",
        "def init(rng) -> Params:\n",
        "  weight_key, bias_key = jax.random.split(rng)\n",
        "  weight = jax.random.normal(weight_key, ())\n",
        "  bias = jax.random.normal(bias_key, ())\n",
        "  return Params(weight, bias)\n",
        "\n",
        "def loss(params: Params, x: jnp.ndarray, y: jnp.ndarray) -> jnp.ndarray:\n",
        "  pred = params.weight * x + params.bias\n",
        "  return jnp.mean((pred - y) ** 2)\n",
        "\n",
        "LEARNING_RATE = 0.005\n",
        "\n",
        "@jax.jit\n",
        "def update(params: Params, x: jnp.ndarray, y: jnp.ndarray) -> Params:\n",
        "  grad = jax.grad(loss)(params, x, y)\n",
        "\n",
        "  new_params = jax.tree_map(lambda param, g: param - LEARNING_RATE * g, params, grad)\n",
        "  return new_params"
      ],
      "metadata": {
        "id": "PvbZssmrWpAY"
      },
      "execution_count": 5,
      "outputs": []
    },
    {
      "cell_type": "markdown",
      "source": [
        "Note that we **manually** pipe the params in and out of the update function."
      ],
      "metadata": {
        "id": "G0lxP50IYDY_"
      }
    },
    {
      "cell_type": "code",
      "source": [
        "import matplotlib.pyplot as plt\n",
        "\n",
        "rng = jax.random.key(42)\n",
        "\n",
        "true_w, true_b = 2, -1\n",
        "x_rng, noise_rng = jax.random.split(rng)\n",
        "xs = jax.random.normal(x_rng, (128, 1))\n",
        "noise = jax.random.normal(noise_rng, (128, 1)) * 0.5\n",
        "ys = xs * true_w + true_b + noise\n",
        "\n",
        "params = init(rng)\n",
        "for _ in range(1000):\n",
        "  params = update(params, xs, ys)\n",
        "\n",
        "plt.scatter(xs, ys)\n",
        "plt.plot(xs, params.weight * xs + params.bias, c='red', label='Model pred')\n",
        "plt.legend();"
      ],
      "metadata": {
        "colab": {
          "base_uri": "https://localhost:8080/",
          "height": 487
        },
        "id": "Es4EEAgPX_nf",
        "outputId": "23dcf6d8-7ed2-4fca-9915-590e6534d2a0"
      },
      "execution_count": 6,
      "outputs": [
        {
          "output_type": "stream",
          "name": "stderr",
          "text": [
            "<ipython-input-5-156d8c1a83fb>:23: DeprecationWarning: jax.tree_map is deprecated: use jax.tree.map (jax v0.4.25 or newer) or jax.tree_util.tree_map (any JAX version).\n",
            "  new_params = jax.tree_map(lambda param, g: param - LEARNING_RATE * g, params, grad)\n"
          ]
        },
        {
          "output_type": "display_data",
          "data": {
            "text/plain": [
              "<Figure size 640x480 with 1 Axes>"
            ],
            "image/png": "[encoded data removed]"
          },
          "metadata": {}
        }
      ]
    },
    {
      "cell_type": "code",
      "source": [],
      "metadata": {
        "id": "ALMEm92IYi1v"
      },
      "execution_count": null,
      "outputs": []
    }
  ]
}