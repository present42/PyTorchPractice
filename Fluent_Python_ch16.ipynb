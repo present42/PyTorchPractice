{
  "nbformat": 4,
  "nbformat_minor": 0,
  "metadata": {
    "colab": {
      "provenance": [],
      "authorship_tag": "ABX9TyNcjVOFTBF+UWYaVHWt8hxx"
    },
    "kernelspec": {
      "name": "python3",
      "display_name": "Python 3"
    },
    "language_info": {
      "name": "python"
    }
  },
  "cells": [
    {
      "cell_type": "markdown",
      "source": [
        "# Chapter 16. Operator Overloading"
      ],
      "metadata": {
        "id": "QySdrj5-oym7"
      }
    },
    {
      "cell_type": "markdown",
      "source": [
        "Main contents:\n",
        " - How an infix operator method should signal it cannot handle an operand\n",
        " - Using duck typing or goose typing to deal with operands of various types\n",
        " - special behaviour of the rich comparison operators (`==`, `>`, `>=`)\n",
        " - default handling of augmented assignment operators such as `+=` and how to overload them"
      ],
      "metadata": {
        "id": "LvtBX-e2pW6q"
      }
    },
    {
      "cell_type": "markdown",
      "source": [
        "## Operator Overloading 101"
      ],
      "metadata": {
        "id": "sFryC6_EqEkG"
      }
    },
    {
      "cell_type": "markdown",
      "source": [
        "restrictions imposed by python\n",
        " - we cannot change the meaning of the operators for the built-in types\n",
        " - we cannot create new operators, only overload existing ones\n",
        " - a few operators can't be overloaded: `is`, `and`, `or`, `not` (but the bitwise can)\n"
      ],
      "metadata": {
        "id": "4dMh_44GqWxT"
      }
    },
    {
      "cell_type": "markdown",
      "source": [
        "## Unary Operator\n",
        "\n",
        "Note. Stick to the general rule of operators: always return a new object. i.e., don't modify the receiver (`self`), but create and return a new instance of a suitable type"
      ],
      "metadata": {
        "id": "aoo8RW0Hq9Kx"
      }
    },
    {
      "cell_type": "code",
      "execution_count": 1,
      "metadata": {
        "id": "1DciniBbos5c"
      },
      "outputs": [],
      "source": [
        "# vector_v5.py\n",
        "from array import array\n",
        "import operator\n",
        "import reprlib\n",
        "import math\n",
        "import functools\n",
        "import itertools\n",
        "\n",
        "class Vector:\n",
        "  typecode = 'd'\n",
        "  __match_args__ = ('x', 'y', 'z', 't')\n",
        "\n",
        "  def __init__(self, components):\n",
        "    # self._components - \"protected\" instance attribute will hold an array with the Vector components\n",
        "    self._components = array(self.typecode, components)\n",
        "\n",
        "  def __iter__(self):\n",
        "    return iter(self._components)\n",
        "\n",
        "  def __repr__(self):\n",
        "    components = reprlib.repr(self._components)\n",
        "    components = components[components.find('['):-1]\n",
        "    return f'Vector({components})'\n",
        "\n",
        "  def __str__(self):\n",
        "    return str(tuple(self))\n",
        "\n",
        "  def __bytes__(self):\n",
        "    return (bytes([ord(self.typecode)]) +\n",
        "            bytes(self._components))\n",
        "\n",
        "  def __eq__(self, other):\n",
        "    return tuple(self) == tuple(other)\n",
        "\n",
        "  def __abs__(self):\n",
        "    return math.hypot(*self)\n",
        "\n",
        "  def __bool__(self):\n",
        "    return bool(abs(self))\n",
        "\n",
        "  def __len__(self):\n",
        "    return len(self._components)\n",
        "\n",
        "  def __getitem__(self, key):\n",
        "    if isinstance(key, slice):\n",
        "      cls = type(self)\n",
        "      return cls(self._components[key])\n",
        "    index = operator.index(key) # operator.index() calls the __index__ special method\n",
        "    return self._components[index]\n",
        "\n",
        "  def __getattr__(self, name):\n",
        "    cls = type(self)\n",
        "    try:\n",
        "      pos = cls.__match_args__.index(name)\n",
        "    except ValueError:\n",
        "      pos = -1\n",
        "    if 0 <= pos < len(self._components):\n",
        "      return self._components[pos]\n",
        "    msg = f'{cls.__name__!r} object has not attribute {name!r}'\n",
        "    raise AttributeError(msg)\n",
        "\n",
        "  def __setattr__(self, name, value):\n",
        "    cls = type(self)\n",
        "    if len(name) == 1:\n",
        "      if name in cls.__match_args__:\n",
        "        error = 'readonly attribute {attr_name!r}'\n",
        "      elif name.islower():\n",
        "        error = \"can't set attribute 'a' to 'z' in {cls_name!r}\"\n",
        "      else:\n",
        "        error = ''\n",
        "      if error:\n",
        "        msg = error.format(cls_name=cls.__name__, attr_name=name)\n",
        "        raise AttributeError(msg)\n",
        "    super().__setattr__(name, value)\n",
        "\n",
        "  def __eq__(self, other):\n",
        "    return len(self) == len(other) and all(a == b for a, b in zip(self, other))\n",
        "\n",
        "  def __hash__(self):\n",
        "    hashes = map(hash, self._components)\n",
        "    return functools.reduce(operator.xor, hashes, 0)\n",
        "\n",
        "  def angle(self, n):\n",
        "    r = math.hypot(*self[n:])\n",
        "    a = math.atan2(r, self[n-1])\n",
        "    if (n == len(self) - 1) and (self[-1] < 0):\n",
        "      return math.pi * 2 - a\n",
        "    else:\n",
        "      return a\n",
        "\n",
        "  def angles(self):\n",
        "    return(self.angle(n) for n in range(1, len(self)))\n",
        "\n",
        "  def __format__(self, fmt_spec=''):\n",
        "    if fmt_spec.endswith('h'):\n",
        "      fmt_spec = fmt_spec[:-1]\n",
        "      coords = itertools.chain([abs(self)], self.angles())\n",
        "      outer_fmt = '<{}>'\n",
        "    else:\n",
        "      coords = self\n",
        "      outer_fmt = '({})'\n",
        "    components = (format(c, fmt_spec) for c in coords)\n",
        "    return outer_fmt.format(', '.join(components))\n",
        "\n",
        "  @classmethod\n",
        "  def frombytes(cls, octets):\n",
        "    typecode = chr(octets[0])\n",
        "    memv = memoryview(octets[1:]).cast(typecode)\n",
        "    return cls(memv)\n",
        "\n",
        "  def __neg__(self):\n",
        "    return Vector(-x for x in self)\n",
        "\n",
        "  def __pos__(self):\n",
        "    return Vector(self)"
      ]
    },
    {
      "cell_type": "markdown",
      "source": [
        "### When x and +x are not equal\n",
        "\n",
        "Everybody expects that `x == +x` but there are two cases in the standard library where `x != +x`"
      ],
      "metadata": {
        "id": "dJQC8i7Dr3V1"
      }
    },
    {
      "cell_type": "code",
      "source": [
        "import decimal\n",
        "ctx = decimal.getcontext()\n",
        "ctx.prec = 40\n",
        "one_third = decimal.Decimal('1') / decimal.Decimal('3')"
      ],
      "metadata": {
        "id": "So1LhveMr2sM"
      },
      "execution_count": 9,
      "outputs": []
    },
    {
      "cell_type": "code",
      "source": [
        "one_third"
      ],
      "metadata": {
        "colab": {
          "base_uri": "https://localhost:8080/"
        },
        "id": "C64BCDkpsQvl",
        "outputId": "797556a4-42d0-4b07-ad5b-99338f81cab2"
      },
      "execution_count": 10,
      "outputs": [
        {
          "output_type": "execute_result",
          "data": {
            "text/plain": [
              "Decimal('0.3333333333333333333333333333333333333333')"
            ]
          },
          "metadata": {},
          "execution_count": 10
        }
      ]
    },
    {
      "cell_type": "code",
      "source": [
        "one_third == +one_third"
      ],
      "metadata": {
        "colab": {
          "base_uri": "https://localhost:8080/"
        },
        "id": "LPqogDOEsRIk",
        "outputId": "e45d6a09-df92-43cc-bf9b-5f5886beb2ee"
      },
      "execution_count": 11,
      "outputs": [
        {
          "output_type": "execute_result",
          "data": {
            "text/plain": [
              "False"
            ]
          },
          "metadata": {},
          "execution_count": 11
        }
      ]
    },
    {
      "cell_type": "code",
      "source": [
        "ctx.prec = 28"
      ],
      "metadata": {
        "id": "D7_4PD77sUa0"
      },
      "execution_count": 12,
      "outputs": []
    },
    {
      "cell_type": "code",
      "source": [
        "one_third == +one_third"
      ],
      "metadata": {
        "colab": {
          "base_uri": "https://localhost:8080/"
        },
        "id": "O5CsEmfdsYpt",
        "outputId": "6b1c93fa-9d0b-42e4-aca0-ed021ff0041b"
      },
      "execution_count": 13,
      "outputs": [
        {
          "output_type": "execute_result",
          "data": {
            "text/plain": [
              "False"
            ]
          },
          "metadata": {},
          "execution_count": 13
        }
      ]
    },
    {
      "cell_type": "code",
      "source": [
        "+one_third"
      ],
      "metadata": {
        "colab": {
          "base_uri": "https://localhost:8080/"
        },
        "id": "KO9lOlJFsaEs",
        "outputId": "15d2c636-950c-4dc5-880d-e3faa6432558"
      },
      "execution_count": 14,
      "outputs": [
        {
          "output_type": "execute_result",
          "data": {
            "text/plain": [
              "Decimal('0.3333333333333333333333333333')"
            ]
          },
          "metadata": {},
          "execution_count": 14
        }
      ]
    },
    {
      "cell_type": "code",
      "source": [],
      "metadata": {
        "id": "wuLZSUFZsbh8"
      },
      "execution_count": null,
      "outputs": []
    }
  ]
}