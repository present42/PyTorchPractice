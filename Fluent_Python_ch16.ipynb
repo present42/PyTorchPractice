{
  "nbformat": 4,
  "nbformat_minor": 0,
  "metadata": {
    "colab": {
      "provenance": [],
      "authorship_tag": "ABX9TyMCcrzfJRLkl+DKKwYDYOVW"
    },
    "kernelspec": {
      "name": "python3",
      "display_name": "Python 3"
    },
    "language_info": {
      "name": "python"
    }
  },
  "cells": [
    {
      "cell_type": "markdown",
      "source": [
        "# Chapter 16. Operator Overloading"
      ],
      "metadata": {
        "id": "QySdrj5-oym7"
      }
    },
    {
      "cell_type": "markdown",
      "source": [
        "Main contents:\n",
        " - How an infix operator method should signal it cannot handle an operand\n",
        " - Using duck typing or goose typing to deal with operands of various types\n",
        " - special behaviour of the rich comparison operators (`==`, `>`, `>=`)\n",
        " - default handling of augmented assignment operators such as `+=` and how to overload them"
      ],
      "metadata": {
        "id": "LvtBX-e2pW6q"
      }
    },
    {
      "cell_type": "markdown",
      "source": [
        "## Operator Overloading 101"
      ],
      "metadata": {
        "id": "sFryC6_EqEkG"
      }
    },
    {
      "cell_type": "markdown",
      "source": [
        "restrictions imposed by python\n",
        " - we cannot change the meaning of the operators for the built-in types\n",
        " - we cannot create new operators, only overload existing ones\n",
        " - a few operators can't be overloaded: `is`, `and`, `or`, `not` (but the bitwise can)\n"
      ],
      "metadata": {
        "id": "4dMh_44GqWxT"
      }
    },
    {
      "cell_type": "markdown",
      "source": [
        "## Unary Operator\n",
        "\n",
        "Note. Stick to the general rule of operators: always return a new object. i.e., don't modify the receiver (`self`), but create and return a new instance of a suitable type"
      ],
      "metadata": {
        "id": "aoo8RW0Hq9Kx"
      }
    },
    {
      "cell_type": "code",
      "execution_count": 1,
      "metadata": {
        "id": "1DciniBbos5c"
      },
      "outputs": [],
      "source": [
        "# vector_v5.py\n",
        "from array import array\n",
        "import operator\n",
        "import reprlib\n",
        "import math\n",
        "import functools\n",
        "import itertools\n",
        "\n",
        "class Vector:\n",
        "  typecode = 'd'\n",
        "  __match_args__ = ('x', 'y', 'z', 't')\n",
        "\n",
        "  def __init__(self, components):\n",
        "    # self._components - \"protected\" instance attribute will hold an array with the Vector components\n",
        "    self._components = array(self.typecode, components)\n",
        "\n",
        "  def __iter__(self):\n",
        "    return iter(self._components)\n",
        "\n",
        "  def __repr__(self):\n",
        "    components = reprlib.repr(self._components)\n",
        "    components = components[components.find('['):-1]\n",
        "    return f'Vector({components})'\n",
        "\n",
        "  def __str__(self):\n",
        "    return str(tuple(self))\n",
        "\n",
        "  def __bytes__(self):\n",
        "    return (bytes([ord(self.typecode)]) +\n",
        "            bytes(self._components))\n",
        "\n",
        "  def __eq__(self, other):\n",
        "    return tuple(self) == tuple(other)\n",
        "\n",
        "  def __abs__(self):\n",
        "    return math.hypot(*self)\n",
        "\n",
        "  def __bool__(self):\n",
        "    return bool(abs(self))\n",
        "\n",
        "  def __len__(self):\n",
        "    return len(self._components)\n",
        "\n",
        "  def __getitem__(self, key):\n",
        "    if isinstance(key, slice):\n",
        "      cls = type(self)\n",
        "      return cls(self._components[key])\n",
        "    index = operator.index(key) # operator.index() calls the __index__ special method\n",
        "    return self._components[index]\n",
        "\n",
        "  def __getattr__(self, name):\n",
        "    cls = type(self)\n",
        "    try:\n",
        "      pos = cls.__match_args__.index(name)\n",
        "    except ValueError:\n",
        "      pos = -1\n",
        "    if 0 <= pos < len(self._components):\n",
        "      return self._components[pos]\n",
        "    msg = f'{cls.__name__!r} object has not attribute {name!r}'\n",
        "    raise AttributeError(msg)\n",
        "\n",
        "  def __setattr__(self, name, value):\n",
        "    cls = type(self)\n",
        "    if len(name) == 1:\n",
        "      if name in cls.__match_args__:\n",
        "        error = 'readonly attribute {attr_name!r}'\n",
        "      elif name.islower():\n",
        "        error = \"can't set attribute 'a' to 'z' in {cls_name!r}\"\n",
        "      else:\n",
        "        error = ''\n",
        "      if error:\n",
        "        msg = error.format(cls_name=cls.__name__, attr_name=name)\n",
        "        raise AttributeError(msg)\n",
        "    super().__setattr__(name, value)\n",
        "\n",
        "  def __eq__(self, other):\n",
        "    return len(self) == len(other) and all(a == b for a, b in zip(self, other))\n",
        "\n",
        "  def __hash__(self):\n",
        "    hashes = map(hash, self._components)\n",
        "    return functools.reduce(operator.xor, hashes, 0)\n",
        "\n",
        "  def angle(self, n):\n",
        "    r = math.hypot(*self[n:])\n",
        "    a = math.atan2(r, self[n-1])\n",
        "    if (n == len(self) - 1) and (self[-1] < 0):\n",
        "      return math.pi * 2 - a\n",
        "    else:\n",
        "      return a\n",
        "\n",
        "  def angles(self):\n",
        "    return(self.angle(n) for n in range(1, len(self)))\n",
        "\n",
        "  def __format__(self, fmt_spec=''):\n",
        "    if fmt_spec.endswith('h'):\n",
        "      fmt_spec = fmt_spec[:-1]\n",
        "      coords = itertools.chain([abs(self)], self.angles())\n",
        "      outer_fmt = '<{}>'\n",
        "    else:\n",
        "      coords = self\n",
        "      outer_fmt = '({})'\n",
        "    components = (format(c, fmt_spec) for c in coords)\n",
        "    return outer_fmt.format(', '.join(components))\n",
        "\n",
        "  @classmethod\n",
        "  def frombytes(cls, octets):\n",
        "    typecode = chr(octets[0])\n",
        "    memv = memoryview(octets[1:]).cast(typecode)\n",
        "    return cls(memv)\n",
        "\n",
        "  def __neg__(self):\n",
        "    return Vector(-x for x in self)\n",
        "\n",
        "  def __pos__(self):\n",
        "    return Vector(self)"
      ]
    },
    {
      "cell_type": "markdown",
      "source": [
        "### When x and +x are not equal\n",
        "\n",
        "Everybody expects that `x == +x` but there are two cases in the standard library where `x != +x`"
      ],
      "metadata": {
        "id": "dJQC8i7Dr3V1"
      }
    },
    {
      "cell_type": "code",
      "source": [
        "import decimal\n",
        "ctx = decimal.getcontext()\n",
        "ctx.prec = 40\n",
        "one_third = decimal.Decimal('1') / decimal.Decimal('3')"
      ],
      "metadata": {
        "id": "So1LhveMr2sM"
      },
      "execution_count": 9,
      "outputs": []
    },
    {
      "cell_type": "code",
      "source": [
        "one_third"
      ],
      "metadata": {
        "colab": {
          "base_uri": "https://localhost:8080/"
        },
        "id": "C64BCDkpsQvl",
        "outputId": "797556a4-42d0-4b07-ad5b-99338f81cab2"
      },
      "execution_count": 10,
      "outputs": [
        {
          "output_type": "execute_result",
          "data": {
            "text/plain": [
              "Decimal('0.3333333333333333333333333333333333333333')"
            ]
          },
          "metadata": {},
          "execution_count": 10
        }
      ]
    },
    {
      "cell_type": "code",
      "source": [
        "one_third == +one_third"
      ],
      "metadata": {
        "colab": {
          "base_uri": "https://localhost:8080/"
        },
        "id": "LPqogDOEsRIk",
        "outputId": "e45d6a09-df92-43cc-bf9b-5f5886beb2ee"
      },
      "execution_count": 11,
      "outputs": [
        {
          "output_type": "execute_result",
          "data": {
            "text/plain": [
              "False"
            ]
          },
          "metadata": {},
          "execution_count": 11
        }
      ]
    },
    {
      "cell_type": "code",
      "source": [
        "ctx.prec = 28"
      ],
      "metadata": {
        "id": "D7_4PD77sUa0"
      },
      "execution_count": 12,
      "outputs": []
    },
    {
      "cell_type": "code",
      "source": [
        "one_third == +one_third"
      ],
      "metadata": {
        "colab": {
          "base_uri": "https://localhost:8080/"
        },
        "id": "O5CsEmfdsYpt",
        "outputId": "6b1c93fa-9d0b-42e4-aca0-ed021ff0041b"
      },
      "execution_count": 13,
      "outputs": [
        {
          "output_type": "execute_result",
          "data": {
            "text/plain": [
              "False"
            ]
          },
          "metadata": {},
          "execution_count": 13
        }
      ]
    },
    {
      "cell_type": "code",
      "source": [
        "+one_third"
      ],
      "metadata": {
        "colab": {
          "base_uri": "https://localhost:8080/"
        },
        "id": "KO9lOlJFsaEs",
        "outputId": "15d2c636-950c-4dc5-880d-e3faa6432558"
      },
      "execution_count": 14,
      "outputs": [
        {
          "output_type": "execute_result",
          "data": {
            "text/plain": [
              "Decimal('0.3333333333333333333333333333')"
            ]
          },
          "metadata": {},
          "execution_count": 14
        }
      ]
    },
    {
      "cell_type": "code",
      "source": [
        "from collections import Counter"
      ],
      "metadata": {
        "id": "wuLZSUFZsbh8"
      },
      "execution_count": 2,
      "outputs": []
    },
    {
      "cell_type": "code",
      "source": [
        "ct = Counter('abracadabra')\n",
        "ct"
      ],
      "metadata": {
        "colab": {
          "base_uri": "https://localhost:8080/"
        },
        "id": "_QkyPBliW4Fd",
        "outputId": "a23fa608-10e5-4456-a150-822a33c8a0d3"
      },
      "execution_count": 3,
      "outputs": [
        {
          "output_type": "execute_result",
          "data": {
            "text/plain": [
              "Counter({'a': 5, 'b': 2, 'r': 2, 'c': 1, 'd': 1})"
            ]
          },
          "metadata": {},
          "execution_count": 3
        }
      ]
    },
    {
      "cell_type": "code",
      "source": [
        "ct['r'] = -3\n",
        "ct['d'] = 0"
      ],
      "metadata": {
        "id": "B86o5wB_W6Fl"
      },
      "execution_count": 4,
      "outputs": []
    },
    {
      "cell_type": "code",
      "source": [
        "ct"
      ],
      "metadata": {
        "colab": {
          "base_uri": "https://localhost:8080/"
        },
        "id": "8JMTMPYSXCeE",
        "outputId": "e8fffeae-e1af-4a06-d0f4-b17afa69b4a6"
      },
      "execution_count": 5,
      "outputs": [
        {
          "output_type": "execute_result",
          "data": {
            "text/plain": [
              "Counter({'a': 5, 'b': 2, 'r': -3, 'c': 1, 'd': 0})"
            ]
          },
          "metadata": {},
          "execution_count": 5
        }
      ]
    },
    {
      "cell_type": "markdown",
      "source": [
        "Note that `+ct` discards from the result any item with a negative or zero count."
      ],
      "metadata": {
        "id": "vU-SIuofXMdj"
      }
    },
    {
      "cell_type": "code",
      "source": [
        "+ct"
      ],
      "metadata": {
        "colab": {
          "base_uri": "https://localhost:8080/"
        },
        "id": "2DkPR6HzXC9M",
        "outputId": "3a7dedcc-2ed8-484b-f40f-ea79caea6f1f"
      },
      "execution_count": 6,
      "outputs": [
        {
          "output_type": "execute_result",
          "data": {
            "text/plain": [
              "Counter({'a': 5, 'b': 2, 'c': 1})"
            ]
          },
          "metadata": {},
          "execution_count": 6
        }
      ]
    },
    {
      "cell_type": "code",
      "source": [
        "ct == +ct"
      ],
      "metadata": {
        "colab": {
          "base_uri": "https://localhost:8080/"
        },
        "id": "_uh49gNQXEhN",
        "outputId": "42667530-a48b-49aa-c33e-9dfdb7365233"
      },
      "execution_count": 8,
      "outputs": [
        {
          "output_type": "execute_result",
          "data": {
            "text/plain": [
              "False"
            ]
          },
          "metadata": {},
          "execution_count": 8
        }
      ]
    },
    {
      "cell_type": "markdown",
      "source": [
        "## Overloading + for Vector Addition"
      ],
      "metadata": {
        "id": "auJqXtsCXT5p"
      }
    },
    {
      "cell_type": "code",
      "source": [
        "# vector_v5.py\n",
        "from array import array\n",
        "import operator\n",
        "import reprlib\n",
        "import math\n",
        "import functools\n",
        "import itertools\n",
        "\n",
        "class Vector:\n",
        "  typecode = 'd'\n",
        "  __match_args__ = ('x', 'y', 'z', 't')\n",
        "\n",
        "  def __init__(self, components):\n",
        "    # self._components - \"protected\" instance attribute will hold an array with the Vector components\n",
        "    self._components = array(self.typecode, components)\n",
        "\n",
        "  def __iter__(self):\n",
        "    return iter(self._components)\n",
        "\n",
        "  def __repr__(self):\n",
        "    components = reprlib.repr(self._components)\n",
        "    components = components[components.find('['):-1]\n",
        "    return f'Vector({components})'\n",
        "\n",
        "  def __str__(self):\n",
        "    return str(tuple(self))\n",
        "\n",
        "  def __bytes__(self):\n",
        "    return (bytes([ord(self.typecode)]) +\n",
        "            bytes(self._components))\n",
        "\n",
        "  def __eq__(self, other):\n",
        "    return tuple(self) == tuple(other)\n",
        "\n",
        "  def __abs__(self):\n",
        "    return math.hypot(*self)\n",
        "\n",
        "  def __bool__(self):\n",
        "    return bool(abs(self))\n",
        "\n",
        "  def __len__(self):\n",
        "    return len(self._components)\n",
        "\n",
        "  def __getitem__(self, key):\n",
        "    if isinstance(key, slice):\n",
        "      cls = type(self)\n",
        "      return cls(self._components[key])\n",
        "    index = operator.index(key) # operator.index() calls the __index__ special method\n",
        "    return self._components[index]\n",
        "\n",
        "  def __getattr__(self, name):\n",
        "    cls = type(self)\n",
        "    try:\n",
        "      pos = cls.__match_args__.index(name)\n",
        "    except ValueError:\n",
        "      pos = -1\n",
        "    if 0 <= pos < len(self._components):\n",
        "      return self._components[pos]\n",
        "    msg = f'{cls.__name__!r} object has not attribute {name!r}'\n",
        "    raise AttributeError(msg)\n",
        "\n",
        "  def __setattr__(self, name, value):\n",
        "    cls = type(self)\n",
        "    if len(name) == 1:\n",
        "      if name in cls.__match_args__:\n",
        "        error = 'readonly attribute {attr_name!r}'\n",
        "      elif name.islower():\n",
        "        error = \"can't set attribute 'a' to 'z' in {cls_name!r}\"\n",
        "      else:\n",
        "        error = ''\n",
        "      if error:\n",
        "        msg = error.format(cls_name=cls.__name__, attr_name=name)\n",
        "        raise AttributeError(msg)\n",
        "    super().__setattr__(name, value)\n",
        "\n",
        "  def __eq__(self, other):\n",
        "    return len(self) == len(other) and all(a == b for a, b in zip(self, other))\n",
        "\n",
        "  def __hash__(self):\n",
        "    hashes = map(hash, self._components)\n",
        "    return functools.reduce(operator.xor, hashes, 0)\n",
        "\n",
        "  def angle(self, n):\n",
        "    r = math.hypot(*self[n:])\n",
        "    a = math.atan2(r, self[n-1])\n",
        "    if (n == len(self) - 1) and (self[-1] < 0):\n",
        "      return math.pi * 2 - a\n",
        "    else:\n",
        "      return a\n",
        "\n",
        "  def angles(self):\n",
        "    return(self.angle(n) for n in range(1, len(self)))\n",
        "\n",
        "  def __format__(self, fmt_spec=''):\n",
        "    if fmt_spec.endswith('h'):\n",
        "      fmt_spec = fmt_spec[:-1]\n",
        "      coords = itertools.chain([abs(self)], self.angles())\n",
        "      outer_fmt = '<{}>'\n",
        "    else:\n",
        "      coords = self\n",
        "      outer_fmt = '({})'\n",
        "    components = (format(c, fmt_spec) for c in coords)\n",
        "    return outer_fmt.format(', '.join(components))\n",
        "\n",
        "  @classmethod\n",
        "  def frombytes(cls, octets):\n",
        "    typecode = chr(octets[0])\n",
        "    memv = memoryview(octets[1:]).cast(typecode)\n",
        "    return cls(memv)\n",
        "\n",
        "  def __neg__(self):\n",
        "    return Vector(-x for x in self)\n",
        "\n",
        "  def __pos__(self):\n",
        "    return Vector(self)\n",
        "\n",
        "  def __add__(self, other):\n",
        "    # pairs is a generator that produces tuples (a, b)\n",
        "    # where a is from self, and b is from other\n",
        "    try:\n",
        "      pairs = itertools.zip_longest(self, other, fillvalue=0)\n",
        "      return Vector(a + b for a, b in pairs) #\n",
        "    except TypeError:\n",
        "      return NotImplemented\n",
        "\n",
        "  def __radd__(self, other):\n",
        "    return self + other\n",
        "\n",
        "  # Equivalently,\n",
        "  # __radd__ = __add__\n",
        "\n"
      ],
      "metadata": {
        "id": "1_59adpQXFf7"
      },
      "execution_count": 16,
      "outputs": []
    },
    {
      "cell_type": "code",
      "source": [
        "v1 = Vector([3, 4, 5])\n",
        "v1 + (10, 20, 30)"
      ],
      "metadata": {
        "colab": {
          "base_uri": "https://localhost:8080/"
        },
        "id": "Us633SJIYWIw",
        "outputId": "e94f1167-e88c-4e3c-a5c9-4e8b64506664"
      },
      "execution_count": 17,
      "outputs": [
        {
          "output_type": "execute_result",
          "data": {
            "text/plain": [
              "Vector([13.0, 24.0, 35.0])"
            ]
          },
          "metadata": {},
          "execution_count": 17
        }
      ]
    },
    {
      "cell_type": "code",
      "source": [
        "(10, 20, 30) + Vector([3, 4, 5])"
      ],
      "metadata": {
        "colab": {
          "base_uri": "https://localhost:8080/"
        },
        "id": "m7oPUQxFYZ1R",
        "outputId": "b9a1b1a9-5e5d-4a0d-8ad0-cfc250374659"
      },
      "execution_count": 18,
      "outputs": [
        {
          "output_type": "execute_result",
          "data": {
            "text/plain": [
              "Vector([13.0, 24.0, 35.0])"
            ]
          },
          "metadata": {},
          "execution_count": 18
        }
      ]
    },
    {
      "cell_type": "code",
      "source": [
        "v1 + \"abc\""
      ],
      "metadata": {
        "colab": {
          "base_uri": "https://localhost:8080/",
          "height": 149
        },
        "id": "Czp3-jOQYoxs",
        "outputId": "f28020d3-a553-4ba5-b53a-6ff43b0d0850"
      },
      "execution_count": 20,
      "outputs": [
        {
          "output_type": "error",
          "ename": "TypeError",
          "evalue": "unsupported operand type(s) for +: 'Vector' and 'str'",
          "traceback": [
            "\u001b[0;31m---------------------------------------------------------------------------\u001b[0m",
            "\u001b[0;31mTypeError\u001b[0m                                 Traceback (most recent call last)",
            "\u001b[0;32m<ipython-input-20-2ad4af108318>\u001b[0m in \u001b[0;36m<cell line: 1>\u001b[0;34m()\u001b[0m\n\u001b[0;32m----> 1\u001b[0;31m \u001b[0mv1\u001b[0m \u001b[0;34m+\u001b[0m \u001b[0;34m\"abc\"\u001b[0m\u001b[0;34m\u001b[0m\u001b[0;34m\u001b[0m\u001b[0m\n\u001b[0m",
            "\u001b[0;31mTypeError\u001b[0m: unsupported operand type(s) for +: 'Vector' and 'str'"
          ]
        }
      ]
    },
    {
      "cell_type": "markdown",
      "source": [
        "## Overloading * for Scalar Multiplication"
      ],
      "metadata": {
        "id": "EkuT3z4SaMVY"
      }
    },
    {
      "cell_type": "markdown",
      "source": [
        "Good Example of Goose Typing. If we tested `other` operand against `Vector`, we'd deny users the flexibility of using lists or arrays as operands to `@`"
      ],
      "metadata": {
        "id": "339PWbZ_cwqG"
      }
    },
    {
      "cell_type": "code",
      "source": [
        "# vector_v5.py\n",
        "from array import array\n",
        "import operator\n",
        "import reprlib\n",
        "import math\n",
        "import functools\n",
        "import itertools\n",
        "\n",
        "class Vector:\n",
        "  typecode = 'd'\n",
        "  __match_args__ = ('x', 'y', 'z', 't')\n",
        "\n",
        "  def __init__(self, components):\n",
        "    # self._components - \"protected\" instance attribute will hold an array with the Vector components\n",
        "    self._components = array(self.typecode, components)\n",
        "\n",
        "  def __iter__(self):\n",
        "    return iter(self._components)\n",
        "\n",
        "  def __repr__(self):\n",
        "    components = reprlib.repr(self._components)\n",
        "    components = components[components.find('['):-1]\n",
        "    return f'Vector({components})'\n",
        "\n",
        "  def __str__(self):\n",
        "    return str(tuple(self))\n",
        "\n",
        "  def __bytes__(self):\n",
        "    return (bytes([ord(self.typecode)]) +\n",
        "            bytes(self._components))\n",
        "\n",
        "  def __eq__(self, other):\n",
        "    return tuple(self) == tuple(other)\n",
        "\n",
        "  def __abs__(self):\n",
        "    return math.hypot(*self)\n",
        "\n",
        "  def __bool__(self):\n",
        "    return bool(abs(self))\n",
        "\n",
        "  def __len__(self):\n",
        "    return len(self._components)\n",
        "\n",
        "  def __getitem__(self, key):\n",
        "    if isinstance(key, slice):\n",
        "      cls = type(self)\n",
        "      return cls(self._components[key])\n",
        "    index = operator.index(key) # operator.index() calls the __index__ special method\n",
        "    return self._components[index]\n",
        "\n",
        "  def __getattr__(self, name):\n",
        "    cls = type(self)\n",
        "    try:\n",
        "      pos = cls.__match_args__.index(name)\n",
        "    except ValueError:\n",
        "      pos = -1\n",
        "    if 0 <= pos < len(self._components):\n",
        "      return self._components[pos]\n",
        "    msg = f'{cls.__name__!r} object has not attribute {name!r}'\n",
        "    raise AttributeError(msg)\n",
        "\n",
        "  def __setattr__(self, name, value):\n",
        "    cls = type(self)\n",
        "    if len(name) == 1:\n",
        "      if name in cls.__match_args__:\n",
        "        error = 'readonly attribute {attr_name!r}'\n",
        "      elif name.islower():\n",
        "        error = \"can't set attribute 'a' to 'z' in {cls_name!r}\"\n",
        "      else:\n",
        "        error = ''\n",
        "      if error:\n",
        "        msg = error.format(cls_name=cls.__name__, attr_name=name)\n",
        "        raise AttributeError(msg)\n",
        "    super().__setattr__(name, value)\n",
        "\n",
        "  def __eq__(self, other):\n",
        "    return len(self) == len(other) and all(a == b for a, b in zip(self, other))\n",
        "\n",
        "  def __hash__(self):\n",
        "    hashes = map(hash, self._components)\n",
        "    return functools.reduce(operator.xor, hashes, 0)\n",
        "\n",
        "  def angle(self, n):\n",
        "    r = math.hypot(*self[n:])\n",
        "    a = math.atan2(r, self[n-1])\n",
        "    if (n == len(self) - 1) and (self[-1] < 0):\n",
        "      return math.pi * 2 - a\n",
        "    else:\n",
        "      return a\n",
        "\n",
        "  def angles(self):\n",
        "    return(self.angle(n) for n in range(1, len(self)))\n",
        "\n",
        "  def __format__(self, fmt_spec=''):\n",
        "    if fmt_spec.endswith('h'):\n",
        "      fmt_spec = fmt_spec[:-1]\n",
        "      coords = itertools.chain([abs(self)], self.angles())\n",
        "      outer_fmt = '<{}>'\n",
        "    else:\n",
        "      coords = self\n",
        "      outer_fmt = '({})'\n",
        "    components = (format(c, fmt_spec) for c in coords)\n",
        "    return outer_fmt.format(', '.join(components))\n",
        "\n",
        "  @classmethod\n",
        "  def frombytes(cls, octets):\n",
        "    typecode = chr(octets[0])\n",
        "    memv = memoryview(octets[1:]).cast(typecode)\n",
        "    return cls(memv)\n",
        "\n",
        "  def __neg__(self):\n",
        "    return Vector(-x for x in self)\n",
        "\n",
        "  def __pos__(self):\n",
        "    return Vector(self)\n",
        "\n",
        "  def __add__(self, other):\n",
        "    # pairs is a generator that produces tuples (a, b)\n",
        "    # where a is from self, and b is from other\n",
        "    try:\n",
        "      pairs = itertools.zip_longest(self, other, fillvalue=0)\n",
        "      return Vector(a + b for a, b in pairs) #\n",
        "    except TypeError:\n",
        "      return NotImplemented\n",
        "\n",
        "  def __radd__(self, other):\n",
        "    return self + other\n",
        "\n",
        "  # Equivalently,\n",
        "  # __radd__ = __add__\n",
        "\n",
        "  def __mul__(self, scalar):\n",
        "    try:\n",
        "      scalar = float(scalar) # duck typing!\n",
        "    except TypeError:\n",
        "      return NotImplemented\n",
        "\n",
        "    return Vector(scalar * val for val in self)\n",
        "\n",
        "  def __rmul__(self, scalar):\n",
        "    return self * scalar"
      ],
      "metadata": {
        "id": "bnglPHVQZfhE"
      },
      "execution_count": 24,
      "outputs": []
    },
    {
      "cell_type": "code",
      "source": [
        "v1 = Vector([1.0, 2.0, 3.0])\n",
        "14 * v1"
      ],
      "metadata": {
        "colab": {
          "base_uri": "https://localhost:8080/"
        },
        "id": "jLM7kcGhaiRD",
        "outputId": "e6df409b-08d8-4a24-f351-ccdd7f4fa321"
      },
      "execution_count": 25,
      "outputs": [
        {
          "output_type": "execute_result",
          "data": {
            "text/plain": [
              "Vector([14.0, 28.0, 42.0])"
            ]
          },
          "metadata": {},
          "execution_count": 25
        }
      ]
    },
    {
      "cell_type": "code",
      "source": [
        "v1 * True"
      ],
      "metadata": {
        "colab": {
          "base_uri": "https://localhost:8080/"
        },
        "id": "VK54zwchbPhE",
        "outputId": "acc20afb-54d6-4d35-c4e5-31b8a727d29c"
      },
      "execution_count": 26,
      "outputs": [
        {
          "output_type": "execute_result",
          "data": {
            "text/plain": [
              "Vector([1.0, 2.0, 3.0])"
            ]
          },
          "metadata": {},
          "execution_count": 26
        }
      ]
    },
    {
      "cell_type": "code",
      "source": [
        "from fractions import Fraction\n",
        "v1 * Fraction(1, 3)"
      ],
      "metadata": {
        "colab": {
          "base_uri": "https://localhost:8080/"
        },
        "id": "ywHzxaSMbQ2s",
        "outputId": "c6c16937-6102-44b1-cfec-8836050cf37b"
      },
      "execution_count": 27,
      "outputs": [
        {
          "output_type": "execute_result",
          "data": {
            "text/plain": [
              "Vector([0.3333333333333333, 0.6666666666666666, 1.0])"
            ]
          },
          "metadata": {},
          "execution_count": 27
        }
      ]
    },
    {
      "cell_type": "markdown",
      "source": [
        "## Using @ as an Infix Operator"
      ],
      "metadata": {
        "id": "8eL_jmD8bgGp"
      }
    },
    {
      "cell_type": "code",
      "source": [
        "# vector_v7.py\n",
        "from array import array\n",
        "import operator\n",
        "import reprlib\n",
        "import math\n",
        "import functools\n",
        "import itertools\n",
        "from collections import abc\n",
        "\n",
        "class Vector:\n",
        "  typecode = 'd'\n",
        "  __match_args__ = ('x', 'y', 'z', 't')\n",
        "\n",
        "  def __init__(self, components):\n",
        "    # self._components - \"protected\" instance attribute will hold an array with the Vector components\n",
        "    self._components = array(self.typecode, components)\n",
        "\n",
        "  def __iter__(self):\n",
        "    return iter(self._components)\n",
        "\n",
        "  def __repr__(self):\n",
        "    components = reprlib.repr(self._components)\n",
        "    components = components[components.find('['):-1]\n",
        "    return f'Vector({components})'\n",
        "\n",
        "  def __str__(self):\n",
        "    return str(tuple(self))\n",
        "\n",
        "  def __bytes__(self):\n",
        "    return (bytes([ord(self.typecode)]) +\n",
        "            bytes(self._components))\n",
        "\n",
        "  def __eq__(self, other):\n",
        "    return tuple(self) == tuple(other)\n",
        "\n",
        "  def __abs__(self):\n",
        "    return math.hypot(*self)\n",
        "\n",
        "  def __bool__(self):\n",
        "    return bool(abs(self))\n",
        "\n",
        "  def __len__(self):\n",
        "    return len(self._components)\n",
        "\n",
        "  def __getitem__(self, key):\n",
        "    if isinstance(key, slice):\n",
        "      cls = type(self)\n",
        "      return cls(self._components[key])\n",
        "    index = operator.index(key) # operator.index() calls the __index__ special method\n",
        "    return self._components[index]\n",
        "\n",
        "  def __getattr__(self, name):\n",
        "    cls = type(self)\n",
        "    try:\n",
        "      pos = cls.__match_args__.index(name)\n",
        "    except ValueError:\n",
        "      pos = -1\n",
        "    if 0 <= pos < len(self._components):\n",
        "      return self._components[pos]\n",
        "    msg = f'{cls.__name__!r} object has not attribute {name!r}'\n",
        "    raise AttributeError(msg)\n",
        "\n",
        "  def __setattr__(self, name, value):\n",
        "    cls = type(self)\n",
        "    if len(name) == 1:\n",
        "      if name in cls.__match_args__:\n",
        "        error = 'readonly attribute {attr_name!r}'\n",
        "      elif name.islower():\n",
        "        error = \"can't set attribute 'a' to 'z' in {cls_name!r}\"\n",
        "      else:\n",
        "        error = ''\n",
        "      if error:\n",
        "        msg = error.format(cls_name=cls.__name__, attr_name=name)\n",
        "        raise AttributeError(msg)\n",
        "    super().__setattr__(name, value)\n",
        "\n",
        "  def __eq__(self, other):\n",
        "    return len(self) == len(other) and all(a == b for a, b in zip(self, other))\n",
        "\n",
        "  def __hash__(self):\n",
        "    hashes = map(hash, self._components)\n",
        "    return functools.reduce(operator.xor, hashes, 0)\n",
        "\n",
        "  def angle(self, n):\n",
        "    r = math.hypot(*self[n:])\n",
        "    a = math.atan2(r, self[n-1])\n",
        "    if (n == len(self) - 1) and (self[-1] < 0):\n",
        "      return math.pi * 2 - a\n",
        "    else:\n",
        "      return a\n",
        "\n",
        "  def angles(self):\n",
        "    return(self.angle(n) for n in range(1, len(self)))\n",
        "\n",
        "  def __format__(self, fmt_spec=''):\n",
        "    if fmt_spec.endswith('h'):\n",
        "      fmt_spec = fmt_spec[:-1]\n",
        "      coords = itertools.chain([abs(self)], self.angles())\n",
        "      outer_fmt = '<{}>'\n",
        "    else:\n",
        "      coords = self\n",
        "      outer_fmt = '({})'\n",
        "    components = (format(c, fmt_spec) for c in coords)\n",
        "    return outer_fmt.format(', '.join(components))\n",
        "\n",
        "  @classmethod\n",
        "  def frombytes(cls, octets):\n",
        "    typecode = chr(octets[0])\n",
        "    memv = memoryview(octets[1:]).cast(typecode)\n",
        "    return cls(memv)\n",
        "\n",
        "  def __neg__(self):\n",
        "    return Vector(-x for x in self)\n",
        "\n",
        "  def __pos__(self):\n",
        "    return Vector(self)\n",
        "\n",
        "  def __add__(self, other):\n",
        "    # pairs is a generator that produces tuples (a, b)\n",
        "    # where a is from self, and b is from other\n",
        "    try:\n",
        "      pairs = itertools.zip_longest(self, other, fillvalue=0)\n",
        "      return Vector(a + b for a, b in pairs) #\n",
        "    except TypeError:\n",
        "      return NotImplemented\n",
        "\n",
        "  def __radd__(self, other):\n",
        "    return self + other\n",
        "\n",
        "  # Equivalently,\n",
        "  # __radd__ = __add__\n",
        "\n",
        "  def __mul__(self, scalar):\n",
        "    try:\n",
        "      scalar = float(scalar) # duck typing!\n",
        "    except TypeError:\n",
        "      return NotImplemented\n",
        "\n",
        "    return Vector(scalar * val for val in self)\n",
        "\n",
        "  def __rmul__(self, scalar):\n",
        "    return self * scalar\n",
        "\n",
        "  def __matmul__(self, other):\n",
        "    if (isinstance(other, abc.Sized) and\n",
        "        isinstance(other, abc.Iterable)):\n",
        "        if len(self) == len(other):\n",
        "          return sum(a * b for a, b in zip(self, other))\n",
        "        else:\n",
        "          return ValueError(\"@ requires vectors of equal length\")\n",
        "    else:\n",
        "      return NotImplemented\n",
        "\n",
        "  def __rmatmul__(self, other):\n",
        "    return self @ other"
      ],
      "metadata": {
        "id": "eWQWzIqfb7gj"
      },
      "execution_count": 28,
      "outputs": []
    },
    {
      "cell_type": "code",
      "source": [
        "va = Vector([1, 2, 3])\n",
        "vz = Vector([5, 6, 7])\n",
        "\n",
        "va @ vz"
      ],
      "metadata": {
        "colab": {
          "base_uri": "https://localhost:8080/"
        },
        "id": "7f-5hQvUbT1U",
        "outputId": "b2f3c0de-60f3-4934-985d-d9783e3fbee8"
      },
      "execution_count": 29,
      "outputs": [
        {
          "output_type": "execute_result",
          "data": {
            "text/plain": [
              "38.0"
            ]
          },
          "metadata": {},
          "execution_count": 29
        }
      ]
    },
    {
      "cell_type": "markdown",
      "source": [
        "## Rich Comparison Operators\n",
        "\n",
        "Handling comparison operators by Python interpreter is similar to what we just saw, but differs in two important ways:\n",
        " - same set of methods is used in forward and reverse operator cllas.\n",
        " - in case of `==` and `!=`, if the reverse method is missing, or returns `NotImplemented`"
      ],
      "metadata": {
        "id": "Ij7cxf0sdP51"
      }
    },
    {
      "cell_type": "code",
      "source": [
        "va = Vector([1.0, 2.0, 3.0])\n",
        "vb = Vector(range(1, 4))\n",
        "va == vb"
      ],
      "metadata": {
        "colab": {
          "base_uri": "https://localhost:8080/"
        },
        "id": "GS4snqXTdAaL",
        "outputId": "20e21104-7e21-4d1f-ae26-3b8a0001eed2"
      },
      "execution_count": 30,
      "outputs": [
        {
          "output_type": "execute_result",
          "data": {
            "text/plain": [
              "True"
            ]
          },
          "metadata": {},
          "execution_count": 30
        }
      ]
    },
    {
      "cell_type": "code",
      "source": [
        "vc = Vector([1, 2])"
      ],
      "metadata": {
        "id": "tUqEznacd-HT"
      },
      "execution_count": 31,
      "outputs": []
    },
    {
      "cell_type": "code",
      "source": [
        "t3 = (1, 2, 3)"
      ],
      "metadata": {
        "id": "oSHIzsjJeAk0"
      },
      "execution_count": 32,
      "outputs": []
    },
    {
      "cell_type": "code",
      "source": [
        "va == t3"
      ],
      "metadata": {
        "colab": {
          "base_uri": "https://localhost:8080/"
        },
        "id": "1tVd-IhBeCPM",
        "outputId": "bcad2b5c-31f1-43bf-8b41-f81f660a31cc"
      },
      "execution_count": 33,
      "outputs": [
        {
          "output_type": "execute_result",
          "data": {
            "text/plain": [
              "True"
            ]
          },
          "metadata": {},
          "execution_count": 33
        }
      ]
    },
    {
      "cell_type": "code",
      "source": [
        "t3 == va"
      ],
      "metadata": {
        "colab": {
          "base_uri": "https://localhost:8080/"
        },
        "id": "FZZDEm5yeDN1",
        "outputId": "0f925632-8fdd-4a19-e228-97f08b1380e4"
      },
      "execution_count": 34,
      "outputs": [
        {
          "output_type": "execute_result",
          "data": {
            "text/plain": [
              "True"
            ]
          },
          "metadata": {},
          "execution_count": 34
        }
      ]
    },
    {
      "cell_type": "markdown",
      "source": [
        "Taking a clue from Python, we fix the `__eq__` in our Vector class"
      ],
      "metadata": {
        "id": "qQ21brI4eOAH"
      }
    },
    {
      "cell_type": "code",
      "source": [
        "[1, 2] == (1, 2)"
      ],
      "metadata": {
        "colab": {
          "base_uri": "https://localhost:8080/"
        },
        "id": "GDJ5Gl2EeD_s",
        "outputId": "96f7456a-41b4-4a4e-91e7-43fe1f77708a"
      },
      "execution_count": 35,
      "outputs": [
        {
          "output_type": "execute_result",
          "data": {
            "text/plain": [
              "False"
            ]
          },
          "metadata": {},
          "execution_count": 35
        }
      ]
    },
    {
      "cell_type": "code",
      "source": [
        "# vector_v8.py\n",
        "from array import array\n",
        "import operator\n",
        "import reprlib\n",
        "import math\n",
        "import functools\n",
        "import itertools\n",
        "from collections import abc\n",
        "\n",
        "class Vector:\n",
        "  typecode = 'd'\n",
        "  __match_args__ = ('x', 'y', 'z', 't')\n",
        "\n",
        "  def __init__(self, components):\n",
        "    # self._components - \"protected\" instance attribute will hold an array with the Vector components\n",
        "    self._components = array(self.typecode, components)\n",
        "\n",
        "  def __iter__(self):\n",
        "    return iter(self._components)\n",
        "\n",
        "  def __repr__(self):\n",
        "    components = reprlib.repr(self._components)\n",
        "    components = components[components.find('['):-1]\n",
        "    return f'Vector({components})'\n",
        "\n",
        "  def __str__(self):\n",
        "    return str(tuple(self))\n",
        "\n",
        "  def __bytes__(self):\n",
        "    return (bytes([ord(self.typecode)]) +\n",
        "            bytes(self._components))\n",
        "\n",
        "  def __eq__(self, other):\n",
        "    return tuple(self) == tuple(other)\n",
        "\n",
        "  def __abs__(self):\n",
        "    return math.hypot(*self)\n",
        "\n",
        "  def __bool__(self):\n",
        "    return bool(abs(self))\n",
        "\n",
        "  def __len__(self):\n",
        "    return len(self._components)\n",
        "\n",
        "  def __getitem__(self, key):\n",
        "    if isinstance(key, slice):\n",
        "      cls = type(self)\n",
        "      return cls(self._components[key])\n",
        "    index = operator.index(key) # operator.index() calls the __index__ special method\n",
        "    return self._components[index]\n",
        "\n",
        "  def __getattr__(self, name):\n",
        "    cls = type(self)\n",
        "    try:\n",
        "      pos = cls.__match_args__.index(name)\n",
        "    except ValueError:\n",
        "      pos = -1\n",
        "    if 0 <= pos < len(self._components):\n",
        "      return self._components[pos]\n",
        "    msg = f'{cls.__name__!r} object has not attribute {name!r}'\n",
        "    raise AttributeError(msg)\n",
        "\n",
        "  def __setattr__(self, name, value):\n",
        "    cls = type(self)\n",
        "    if len(name) == 1:\n",
        "      if name in cls.__match_args__:\n",
        "        error = 'readonly attribute {attr_name!r}'\n",
        "      elif name.islower():\n",
        "        error = \"can't set attribute 'a' to 'z' in {cls_name!r}\"\n",
        "      else:\n",
        "        error = ''\n",
        "      if error:\n",
        "        msg = error.format(cls_name=cls.__name__, attr_name=name)\n",
        "        raise AttributeError(msg)\n",
        "    super().__setattr__(name, value)\n",
        "\n",
        "  def __eq__(self, other):\n",
        "    if isinstance(other, Vector):\n",
        "      return len(self) == len(other) and all(a == b for a, b in zip(self, other))\n",
        "    else:\n",
        "      return NotImplemented\n",
        "\n",
        "  def __hash__(self):\n",
        "    hashes = map(hash, self._components)\n",
        "    return functools.reduce(operator.xor, hashes, 0)\n",
        "\n",
        "  def angle(self, n):\n",
        "    r = math.hypot(*self[n:])\n",
        "    a = math.atan2(r, self[n-1])\n",
        "    if (n == len(self) - 1) and (self[-1] < 0):\n",
        "      return math.pi * 2 - a\n",
        "    else:\n",
        "      return a\n",
        "\n",
        "  def angles(self):\n",
        "    return(self.angle(n) for n in range(1, len(self)))\n",
        "\n",
        "  def __format__(self, fmt_spec=''):\n",
        "    if fmt_spec.endswith('h'):\n",
        "      fmt_spec = fmt_spec[:-1]\n",
        "      coords = itertools.chain([abs(self)], self.angles())\n",
        "      outer_fmt = '<{}>'\n",
        "    else:\n",
        "      coords = self\n",
        "      outer_fmt = '({})'\n",
        "    components = (format(c, fmt_spec) for c in coords)\n",
        "    return outer_fmt.format(', '.join(components))\n",
        "\n",
        "  @classmethod\n",
        "  def frombytes(cls, octets):\n",
        "    typecode = chr(octets[0])\n",
        "    memv = memoryview(octets[1:]).cast(typecode)\n",
        "    return cls(memv)\n",
        "\n",
        "  def __neg__(self):\n",
        "    return Vector(-x for x in self)\n",
        "\n",
        "  def __pos__(self):\n",
        "    return Vector(self)\n",
        "\n",
        "  def __add__(self, other):\n",
        "    # pairs is a generator that produces tuples (a, b)\n",
        "    # where a is from self, and b is from other\n",
        "    try:\n",
        "      pairs = itertools.zip_longest(self, other, fillvalue=0)\n",
        "      return Vector(a + b for a, b in pairs) #\n",
        "    except TypeError:\n",
        "      return NotImplemented\n",
        "\n",
        "  def __radd__(self, other):\n",
        "    return self + other\n",
        "\n",
        "  # Equivalently,\n",
        "  # __radd__ = __add__\n",
        "\n",
        "  def __mul__(self, scalar):\n",
        "    try:\n",
        "      scalar = float(scalar) # duck typing!\n",
        "    except TypeError:\n",
        "      return NotImplemented\n",
        "\n",
        "    return Vector(scalar * val for val in self)\n",
        "\n",
        "  def __rmul__(self, scalar):\n",
        "    return self * scalar\n",
        "\n",
        "  def __matmul__(self, other):\n",
        "    if (isinstance(other, abc.Sized) and\n",
        "        isinstance(other, abc.Iterable)):\n",
        "        if len(self) == len(other):\n",
        "          return sum(a * b for a, b in zip(self, other))\n",
        "        else:\n",
        "          return ValueError(\"@ requires vectors of equal length\")\n",
        "    else:\n",
        "      return NotImplemented\n",
        "\n",
        "  def __rmatmul__(self, other):\n",
        "    return self @ other"
      ],
      "metadata": {
        "id": "qcVv1RRYeNQU"
      },
      "execution_count": 36,
      "outputs": []
    },
    {
      "cell_type": "code",
      "source": [
        "va = Vector([1.0, 2.0, 3.0])\n",
        "vb = Vector(range(1, 4))\n",
        "print(va == vb)\n",
        "\n",
        "t3 = (1, 2, 3)\n",
        "print(va == t3)"
      ],
      "metadata": {
        "colab": {
          "base_uri": "https://localhost:8080/"
        },
        "id": "rXDs2JtVeiks",
        "outputId": "7b1bad1f-6811-4e21-b885-305cf678e174"
      },
      "execution_count": 37,
      "outputs": [
        {
          "output_type": "stream",
          "name": "stdout",
          "text": [
            "True\n",
            "False\n"
          ]
        }
      ]
    },
    {
      "cell_type": "code",
      "source": [
        "va != vb"
      ],
      "metadata": {
        "colab": {
          "base_uri": "https://localhost:8080/"
        },
        "id": "TaYi_RYnetFs",
        "outputId": "f17d0d9b-8c39-40f4-a287-c1032e457109"
      },
      "execution_count": 38,
      "outputs": [
        {
          "output_type": "execute_result",
          "data": {
            "text/plain": [
              "False"
            ]
          },
          "metadata": {},
          "execution_count": 38
        }
      ]
    },
    {
      "cell_type": "code",
      "source": [
        "vc != (1, 2, 3)"
      ],
      "metadata": {
        "colab": {
          "base_uri": "https://localhost:8080/"
        },
        "id": "4Yz28nRqe8MT",
        "outputId": "ec34601f-43a6-4270-d97e-38127ac295ac"
      },
      "execution_count": 39,
      "outputs": [
        {
          "output_type": "execute_result",
          "data": {
            "text/plain": [
              "True"
            ]
          },
          "metadata": {},
          "execution_count": 39
        }
      ]
    },
    {
      "cell_type": "markdown",
      "source": [
        "## Augmented Assignment Operators"
      ],
      "metadata": {
        "id": "dhwifuiofLuV"
      }
    },
    {
      "cell_type": "markdown",
      "source": [
        "Our `Vector` class already supports the augmented assignment operator `+=` and `*=`. That's because augmented assignment works with immutable receivers by creating new instances and rebinding the lefthand variable"
      ],
      "metadata": {
        "id": "b77sdB8rfPpz"
      }
    },
    {
      "cell_type": "code",
      "source": [
        "v1 = Vector([1, 2, 3])\n",
        "v1_alias = v1\n",
        "id(v1)"
      ],
      "metadata": {
        "colab": {
          "base_uri": "https://localhost:8080/"
        },
        "id": "aVB2_ry3e9X6",
        "outputId": "c3eec3fa-55c4-49d1-8778-e4367159069d"
      },
      "execution_count": 41,
      "outputs": [
        {
          "output_type": "execute_result",
          "data": {
            "text/plain": [
              "135549427527840"
            ]
          },
          "metadata": {},
          "execution_count": 41
        }
      ]
    },
    {
      "cell_type": "code",
      "source": [
        "v1 += Vector([4, 5, 6]) # new object is created\n",
        "v1"
      ],
      "metadata": {
        "colab": {
          "base_uri": "https://localhost:8080/"
        },
        "id": "24D2kqm5fdOr",
        "outputId": "28748e09-a428-4c95-a00f-0e2fc45df15d"
      },
      "execution_count": 42,
      "outputs": [
        {
          "output_type": "execute_result",
          "data": {
            "text/plain": [
              "Vector([5.0, 7.0, 9.0])"
            ]
          },
          "metadata": {},
          "execution_count": 42
        }
      ]
    },
    {
      "cell_type": "code",
      "source": [
        "v1_alias"
      ],
      "metadata": {
        "colab": {
          "base_uri": "https://localhost:8080/"
        },
        "id": "dOThqvyRfiKk",
        "outputId": "5a687952-cb9b-4b38-ff9c-bb4def66b3be"
      },
      "execution_count": 43,
      "outputs": [
        {
          "output_type": "execute_result",
          "data": {
            "text/plain": [
              "Vector([1.0, 2.0, 3.0])"
            ]
          },
          "metadata": {},
          "execution_count": 43
        }
      ]
    },
    {
      "cell_type": "code",
      "source": [
        "id(v1)"
      ],
      "metadata": {
        "colab": {
          "base_uri": "https://localhost:8080/"
        },
        "id": "TMF4YZ9xfjRE",
        "outputId": "80e36185-dd1d-44ca-ff00-ee20c13e5ba1"
      },
      "execution_count": 44,
      "outputs": [
        {
          "output_type": "execute_result",
          "data": {
            "text/plain": [
              "135549427527312"
            ]
          },
          "metadata": {},
          "execution_count": 44
        }
      ]
    },
    {
      "cell_type": "code",
      "source": [
        "v1 *= 11 # new object is created"
      ],
      "metadata": {
        "id": "Jem_Apctfkg1"
      },
      "execution_count": 45,
      "outputs": []
    },
    {
      "cell_type": "code",
      "source": [
        "v1"
      ],
      "metadata": {
        "colab": {
          "base_uri": "https://localhost:8080/"
        },
        "id": "XcmxZejQfm-c",
        "outputId": "81ce387e-0e6b-4272-b6e9-4ce1efedd839"
      },
      "execution_count": 46,
      "outputs": [
        {
          "output_type": "execute_result",
          "data": {
            "text/plain": [
              "Vector([55.0, 77.0, 99.0])"
            ]
          },
          "metadata": {},
          "execution_count": 46
        }
      ]
    },
    {
      "cell_type": "code",
      "source": [
        "id(v1)"
      ],
      "metadata": {
        "colab": {
          "base_uri": "https://localhost:8080/"
        },
        "id": "oPByeWLvfnPn",
        "outputId": "216dc8ce-438c-4a44-f73a-7f8eb889e750"
      },
      "execution_count": 47,
      "outputs": [
        {
          "output_type": "execute_result",
          "data": {
            "text/plain": [
              "135549427525008"
            ]
          },
          "metadata": {},
          "execution_count": 47
        }
      ]
    },
    {
      "cell_type": "markdown",
      "source": [
        "## Augmented Assignment Operator"
      ],
      "metadata": {
        "id": "HQiTyFuZg99I"
      }
    },
    {
      "cell_type": "code",
      "source": [
        "# tombola.py\n",
        "\n",
        "import abc\n",
        "\n",
        "class Tombola(abc.ABC):\n",
        "\n",
        "  @abc.abstractmethod\n",
        "  def load(self, iterable):\n",
        "    \"\"\"Add items from an iterable\"\"\"\n",
        "\n",
        "  @abc.abstractmethod\n",
        "  def pick(self):\n",
        "    \"\"\" Remove item at random, returning it\n",
        "\n",
        "    This method should raise `LookupError` when the instance is empty\n",
        "    \"\"\"\n",
        "\n",
        "  def loaded(self):\n",
        "    return bool(self.inspect())\n",
        "\n",
        "  def inspect(self):\n",
        "    items = []\n",
        "    while True:\n",
        "      try:\n",
        "        items.append(self.pick())\n",
        "      except LookupError:\n",
        "        break\n",
        "    self.load(items)\n",
        "    return tuple(items)\n",
        "\n"
      ],
      "metadata": {
        "id": "Ur9Uawx5fn30"
      },
      "execution_count": null,
      "outputs": []
    },
    {
      "cell_type": "code",
      "source": [
        "# bingo.py\n",
        "import random\n",
        "from tombola import Tombola\n",
        "\n",
        "class BingoCage(Tombola):\n",
        "  def __init__(self, items):\n",
        "    self._randomizer = random.SystemRandom()\n",
        "    self._items = []\n",
        "    self.load(items)\n",
        "\n",
        "  def load(self, items):\n",
        "    self._items.extend(items)\n",
        "    self._randomizer.shuffle(self._items)\n",
        "\n",
        "  def pick(self):\n",
        "    try:\n",
        "      return self._items.pop()\n",
        "    except IndexError:\n",
        "      raise LookupError('pick from empty BingoCage')\n",
        "\n",
        "  def __call__(self):\n",
        "    self.pick()"
      ],
      "metadata": {
        "id": "E9ie5eVfhJMh"
      },
      "execution_count": null,
      "outputs": []
    },
    {
      "cell_type": "code",
      "source": [
        "from tombola import Tombola\n",
        "from bingo import BingoCage\n",
        "\n",
        "class AddableBingoCage(BingoCage):\n",
        "  def __add__(self, other):\n",
        "    if isinstance(other, Tombola): # Our __add__ will only work with an instance of\n",
        "                                   #   Tombola as the second operand\n",
        "      return AddableBingoCage(self.inspect() + other.inspect())\n",
        "    else:\n",
        "      return NotImplemented\n",
        "\n",
        "  def __iadd__(self, other):\n",
        "    if isinstance(other, Tombola):\n",
        "      other_iterable = other.inspect()\n",
        "    else:\n",
        "      try:\n",
        "        other_iterable = iter(other)\n",
        "      except TypeError:\n",
        "        msg = ('right operand in += must be '\n",
        "               \"'Tombola' or an iterable\")\n",
        "        raise TypeError(msg)\n",
        "    self.load(other_iterable)\n",
        "    return self # very important: augmented assignment special methods must return self"
      ],
      "metadata": {
        "id": "BorUQxkXhX9y"
      },
      "execution_count": 66,
      "outputs": []
    },
    {
      "cell_type": "code",
      "source": [
        "# AddableBingoCage demo\n",
        "vowels = \"AEIOU\"\n",
        "globe = AddableBingoCage(vowels)\n",
        "print(globe.inspect())\n",
        "print(globe.pick() in vowels)\n",
        "print(len(globe.inspect()) == 4)\n"
      ],
      "metadata": {
        "colab": {
          "base_uri": "https://localhost:8080/"
        },
        "id": "og1xlrTiijic",
        "outputId": "359b32a4-7730-4030-dc11-542cfea61b0c"
      },
      "execution_count": 67,
      "outputs": [
        {
          "output_type": "stream",
          "name": "stdout",
          "text": [
            "('O', 'A', 'U', 'I', 'E')\n",
            "True\n",
            "True\n"
          ]
        }
      ]
    },
    {
      "cell_type": "code",
      "source": [
        "globe2 = AddableBingoCage('XYZ')\n",
        "globe3 = globe + globe2\n",
        "assert len(globe3.inspect()) == 7"
      ],
      "metadata": {
        "id": "wiDAkpD9jMQ7"
      },
      "execution_count": 68,
      "outputs": []
    },
    {
      "cell_type": "code",
      "source": [
        "void = globe + [10, 20]"
      ],
      "metadata": {
        "colab": {
          "base_uri": "https://localhost:8080/",
          "height": 149
        },
        "id": "kHNdR5jojWCb",
        "outputId": "94875c81-571f-4c39-8453-394a4d0ecf0c"
      },
      "execution_count": 69,
      "outputs": [
        {
          "output_type": "error",
          "ename": "TypeError",
          "evalue": "unsupported operand type(s) for +: 'AddableBingoCage' and 'list'",
          "traceback": [
            "\u001b[0;31m---------------------------------------------------------------------------\u001b[0m",
            "\u001b[0;31mTypeError\u001b[0m                                 Traceback (most recent call last)",
            "\u001b[0;32m<ipython-input-69-78b5ef2cec28>\u001b[0m in \u001b[0;36m<cell line: 1>\u001b[0;34m()\u001b[0m\n\u001b[0;32m----> 1\u001b[0;31m \u001b[0mvoid\u001b[0m \u001b[0;34m=\u001b[0m \u001b[0mglobe\u001b[0m \u001b[0;34m+\u001b[0m \u001b[0;34m[\u001b[0m\u001b[0;36m10\u001b[0m\u001b[0;34m,\u001b[0m \u001b[0;36m20\u001b[0m\u001b[0;34m]\u001b[0m\u001b[0;34m\u001b[0m\u001b[0;34m\u001b[0m\u001b[0m\n\u001b[0m",
            "\u001b[0;31mTypeError\u001b[0m: unsupported operand type(s) for +: 'AddableBingoCage' and 'list'"
          ]
        }
      ]
    },
    {
      "cell_type": "code",
      "source": [
        "globe_orig = globe\n",
        "assert len(globe.inspect()) == 4\n",
        "\n",
        "globe += globe2\n",
        "assert len(globe.inspect()) == 7\n",
        "\n",
        "globe += ['M', 'N']\n",
        "assert len(globe.inspect()) == 9\n",
        "\n",
        "assert globe is globe_orig\n",
        "\n",
        "globe += 1"
      ],
      "metadata": {
        "colab": {
          "base_uri": "https://localhost:8080/",
          "height": 435
        },
        "id": "mOrT_rZ6jXmV",
        "outputId": "39cf2173-4308-46fe-feef-02f359b1bd6b"
      },
      "execution_count": 72,
      "outputs": [
        {
          "output_type": "error",
          "ename": "TypeError",
          "evalue": "right operand in += must be 'Tombola' or an iterable",
          "traceback": [
            "\u001b[0;31m---------------------------------------------------------------------------\u001b[0m",
            "\u001b[0;31mTypeError\u001b[0m                                 Traceback (most recent call last)",
            "\u001b[0;32m<ipython-input-66-98203ef31c0d>\u001b[0m in \u001b[0;36m__iadd__\u001b[0;34m(self, other)\u001b[0m\n\u001b[1;32m     16\u001b[0m       \u001b[0;32mtry\u001b[0m\u001b[0;34m:\u001b[0m\u001b[0;34m\u001b[0m\u001b[0;34m\u001b[0m\u001b[0m\n\u001b[0;32m---> 17\u001b[0;31m         \u001b[0mother_iterable\u001b[0m \u001b[0;34m=\u001b[0m \u001b[0miter\u001b[0m\u001b[0;34m(\u001b[0m\u001b[0mother\u001b[0m\u001b[0;34m)\u001b[0m\u001b[0;34m\u001b[0m\u001b[0;34m\u001b[0m\u001b[0m\n\u001b[0m\u001b[1;32m     18\u001b[0m       \u001b[0;32mexcept\u001b[0m \u001b[0mTypeError\u001b[0m\u001b[0;34m:\u001b[0m\u001b[0;34m\u001b[0m\u001b[0;34m\u001b[0m\u001b[0m\n",
            "\u001b[0;31mTypeError\u001b[0m: 'int' object is not iterable",
            "\nDuring handling of the above exception, another exception occurred:\n",
            "\u001b[0;31mTypeError\u001b[0m                                 Traceback (most recent call last)",
            "\u001b[0;32m<ipython-input-72-62d861a2ec23>\u001b[0m in \u001b[0;36m<cell line: 12>\u001b[0;34m()\u001b[0m\n\u001b[1;32m     10\u001b[0m \u001b[0;32massert\u001b[0m \u001b[0mglobe\u001b[0m \u001b[0;32mis\u001b[0m \u001b[0mglobe_orig\u001b[0m\u001b[0;34m\u001b[0m\u001b[0;34m\u001b[0m\u001b[0m\n\u001b[1;32m     11\u001b[0m \u001b[0;34m\u001b[0m\u001b[0m\n\u001b[0;32m---> 12\u001b[0;31m \u001b[0mglobe\u001b[0m \u001b[0;34m+=\u001b[0m \u001b[0;36m1\u001b[0m\u001b[0;34m\u001b[0m\u001b[0;34m\u001b[0m\u001b[0m\n\u001b[0m",
            "\u001b[0;32m<ipython-input-66-98203ef31c0d>\u001b[0m in \u001b[0;36m__iadd__\u001b[0;34m(self, other)\u001b[0m\n\u001b[1;32m     19\u001b[0m         msg = ('right operand in += must be '\n\u001b[1;32m     20\u001b[0m                \"'Tombola' or an iterable\")\n\u001b[0;32m---> 21\u001b[0;31m         \u001b[0;32mraise\u001b[0m \u001b[0mTypeError\u001b[0m\u001b[0;34m(\u001b[0m\u001b[0mmsg\u001b[0m\u001b[0;34m)\u001b[0m\u001b[0;34m\u001b[0m\u001b[0;34m\u001b[0m\u001b[0m\n\u001b[0m\u001b[1;32m     22\u001b[0m     \u001b[0mself\u001b[0m\u001b[0;34m.\u001b[0m\u001b[0mload\u001b[0m\u001b[0;34m(\u001b[0m\u001b[0mother_iterable\u001b[0m\u001b[0;34m)\u001b[0m\u001b[0;34m\u001b[0m\u001b[0;34m\u001b[0m\u001b[0m\n\u001b[1;32m     23\u001b[0m     \u001b[0;32mreturn\u001b[0m \u001b[0mself\u001b[0m \u001b[0;31m# very important: augmented assignment special methods must return self\u001b[0m\u001b[0;34m\u001b[0m\u001b[0;34m\u001b[0m\u001b[0m\n",
            "\u001b[0;31mTypeError\u001b[0m: right operand in += must be 'Tombola' or an iterable"
          ]
        }
      ]
    },
    {
      "cell_type": "code",
      "source": [],
      "metadata": {
        "id": "4uEipc9pjtOT"
      },
      "execution_count": null,
      "outputs": []
    }
  ]
}