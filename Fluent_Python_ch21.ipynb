{
  "nbformat": 4,
  "nbformat_minor": 0,
  "metadata": {
    "colab": {
      "provenance": [],
      "authorship_tag": "ABX9TyPUw0jh64yQ+l9+AeKvDivn"
    },
    "kernelspec": {
      "name": "python3",
      "display_name": "Python 3"
    },
    "language_info": {
      "name": "python"
    }
  },
  "cells": [
    {
      "cell_type": "markdown",
      "source": [
        "# Chapter 21. Asynchronous Programming"
      ],
      "metadata": {
        "id": "1gyUhusueJ3-"
      }
    },
    {
      "cell_type": "markdown",
      "source": [
        "Three major topics that are related:\n",
        " - Python's `async def`, `await`, `async with`, and `async for`\n",
        " - Objects supporting those constructs: native coroutines and asynchronous variants of context managers, iterables, generators, and comprehensions\n",
        " - `asyncio` and other async libraries\n"
      ],
      "metadata": {
        "id": "Q-95Qxg_eUj9"
      }
    },
    {
      "cell_type": "markdown",
      "source": [
        "## A Few Definitions\n",
        "\n",
        "Native coroutine\n",
        " - a coroutine fcn defined with `async def`. You can delegate from a native coroutine to another native coroutine using the `await` keyword, similar to `yield from`. The `await` keyword cannot be used outside of a native coroutine.\n",
        "\n",
        "Classic coroutine\n",
        " - A generator function that consumes datat sent to it via `my_coro.send(data)` calls, and reads that data by using `yield` in an expression. Classic coroutines can delegate to other classic coroutines using `yield from`.\n",
        "\n",
        "Generator-based coroutine\n",
        " - A generator fcn decorated with `@types.coroutine`. That decorator makes the generator compatible with the new `await` keyword.\n",
        "\n",
        "Asynchronous generator\n",
        " - A generator fcn defined with `async def` and using `yield` in its body. It returns an async generator object that provides `_anext_`, a coroutine method to retrieve the next itme."
      ],
      "metadata": {
        "id": "MFDqqeZYfRb0"
      }
    },
    {
      "cell_type": "markdown",
      "source": [
        "10:09 - 10:25"
      ],
      "metadata": {
        "id": "VQxVt7Mlz1dG"
      }
    },
    {
      "cell_type": "code",
      "execution_count": null,
      "metadata": {
        "id": "P3fujZoJeDnx"
      },
      "outputs": [],
      "source": [
        "# blogdom.py\n",
        "\n",
        "#!/usr/bin/env pythono3\n",
        "import asyncio\n",
        "import socket\n",
        "from keyword import kwlist\n",
        "\n",
        "MAX_KEYWORD_LEN = 4\n",
        "\n",
        "async def probe(domain: str) -> tuple[str, bool]:\n",
        "  # get a reference to the asyncio event loop\n",
        "  # so we can use it next\n",
        "  loop = asyncio.get_running_loop()\n",
        "  try:\n",
        "    # loop.getaddrinfo coroutine method\n",
        "    # returns a five-part tuple of paramters\n",
        "    await loop.getaddrinfo(domain, None)\n",
        "  except socket.gaierror:\n",
        "    return (domain, False)\n",
        "  return (domain, True)\n",
        "\n",
        "# main must be a coroutine so that we can use await in it\n",
        "async def main() -> None:\n",
        "  names = (kw for kw in kwlist if len(kw) <= MAX_KEYWORD_LEN)\n",
        "  domains = (f'{name}.dev'.lower() for name in names)\n",
        "  # build a list of coroutine objs by invoking\n",
        "  # the probe coroutine with each domain argument\n",
        "  coros = [probe(domain) for domain in domains]\n",
        "  # asyncio.as_completed is a generator that yields\n",
        "  # coroutines that return the results of the coroutine\n",
        "  # passed to it **in the order they are completed**\n",
        "  for coro in asyncio.as_completed(coros):\n",
        "    # await expression will not block\n",
        "    # but this is required for us to get the res from coro\n",
        "    domain, found = await coro\n",
        "    mark = '+' if found else ' '\n",
        "    print(f'{mark} {domain}')\n",
        "\n",
        "if __name__ == '__main__':\n",
        "  # asyncio.run starts the event loop\n",
        "  # and returns only when the event loop exits\n",
        "  asyncio.run(main())"
      ]
    },
    {
      "cell_type": "code",
      "source": [
        "!python blogdom.py"
      ],
      "metadata": {
        "colab": {
          "base_uri": "https://localhost:8080/"
        },
        "id": "13Jj2Z3l1Sb4",
        "outputId": "0011e9d5-9f46-44b9-f901-2d2fa96a4ed7"
      },
      "execution_count": 1,
      "outputs": [
        {
          "output_type": "stream",
          "name": "stdout",
          "text": [
            "+ not.dev\n",
            "+ as.dev\n",
            "+ from.dev\n",
            "  is.dev\n",
            "  with.dev\n",
            "  for.dev\n",
            "+ def.dev\n",
            "  or.dev\n",
            "  none.dev\n",
            "  pass.dev\n",
            "  if.dev\n",
            "+ in.dev\n",
            "  elif.dev\n",
            "+ and.dev\n",
            "+ try.dev\n",
            "+ true.dev\n",
            "  else.dev\n",
            "+ del.dev\n"
          ]
        }
      ]
    },
    {
      "cell_type": "markdown",
      "source": [
        "## Awaitable\n",
        "\n",
        "The `for` keyword works with `iterables`. The `await` keyword works with `awaitable`.\n",
        "\n",
        "As the end user of `asyncio`, these are awaitables we'll see frequently:\n",
        " - A native coroutine object, which you get by calling a native coroutine function\n",
        " - An `asyncio.Task` which we usually get by passing a coroutine obj to `asyncio.create_task()`\n",
        "\n",
        "Lower-level awaitable:\n",
        " - An object with an `__await__` method that returns an iterator; for example, an `asyncio.Future` instance\n",
        "\n",
        " - Objects written in ohter languages using the Python/C API with a `tp_as_async.am_await` function returning an iterator"
      ],
      "metadata": {
        "id": "PFjHW34UuX4A"
      }
    },
    {
      "cell_type": "markdown",
      "source": [
        "## Downloading with asyncio and HTTPX"
      ],
      "metadata": {
        "id": "AxvKLd1WvrEj"
      }
    },
    {
      "cell_type": "markdown",
      "source": [
        "As of Python 3.10, `asyncio` only supports TCP and UDP directly, and there are no async HTTP client or server packages in the standard library. So, we use HTTPX."
      ],
      "metadata": {
        "id": "UQxaHX2YvyDz"
      }
    },
    {
      "cell_type": "code",
      "source": [
        "# flags_asyncio.py\n",
        "\n",
        "import asyncio\n",
        "\n",
        "from httpx import AsyncClient\n",
        "\n",
        "from flags import BASE_URL, save_flag, main\n",
        "\n",
        "# must be a native coroutine\n",
        "# so it can await on get_flag which does http request\n",
        "# Then, it displays the code of the downloaded flag,\n",
        "# and save the result\n",
        "async def download_one(client: AsyncClient, cc: str):\n",
        "  image = await get_flag(client, cc)\n",
        "  save_flag(image, f'{cc}.gif')\n",
        "  print(cc, end=' ', flush=True)\n",
        "  return cc\n",
        "\n",
        "async def get_flag(client: AsyncClient, cc: str) -> bytes:\n",
        "  url = f\"{BASE_URL}/{cc}/{cc}.gif\".lower()\n",
        "  # get method of httpx.AsyncClient returns a ClientResponse obj\n",
        "  # that is also an async context manager\n",
        "  resp = await client.get(url, timeout=6.1, follow_redirects=True)\n",
        "  return resp.read()\n",
        "\n",
        "# This fcn needs to be a plain fcn--not a coroutine\n",
        "def download_many(cc_list: list[str]) -> int:\n",
        "  # execute the event loop driving the supervisor(cc_list)\n",
        "  # coroutine object until it returns\n",
        "  return asyncio.run(supervisor(cc_list))\n",
        "\n",
        "async def supervisor(cc_list: list[str]) -> int:\n",
        "  # Async HTTP client operations in httpx are methods of AsyncClient\n",
        "  # which is also an async context manager\n",
        "  # a context manager with async setup and teardown methods\n",
        "  async with AsyncClient() as client:\n",
        "    # build a list of coroutine objects by calling the download_one\n",
        "    # coroutine once for each flag to be retrieved\n",
        "    to_do = [download_one(client, cc) for cc in sorted(cc_list)]\n",
        "    # wait for the asyncio.gather coroutine,\n",
        "    # which accepts one or more awaitable arguments\n",
        "    # and waits for all of them to complete\n",
        "    res = await asyncio.gather(*to_do)\n",
        "\n",
        "  return len(res)\n",
        "\n",
        "if __name__ == '__main__':\n",
        "  main(download_many)"
      ],
      "metadata": {
        "id": "TZ7TRvC4uirh"
      },
      "execution_count": null,
      "outputs": []
    },
    {
      "cell_type": "markdown",
      "source": [
        "### The Secret of Native Coroutines: Humble Generators"
      ],
      "metadata": {
        "id": "3BV3WvkGypYA"
      }
    },
    {
      "cell_type": "markdown",
      "source": [
        "A key difference between the classic coroutine and native coroutine is that there are no visible `.send()` calls or `yield` expression in the latter. Our code sits between the asyncio library and the async libraries we are using (e.g. HTTPX).\n",
        "\n",
        "Under the hood, the `asyncio` event loop makes the `.send` calls that drive your coroutines, and your coroutines `await` on other coroutines, including library coroutines. (`await` borrows most of its implementation from `yield from`, which also makes `.send` calls to drive coroutines)\n",
        "\n"
      ],
      "metadata": {
        "id": "7uY1-K6IyzGf"
      }
    },
    {
      "cell_type": "markdown",
      "source": [
        "### All-or-Nothing Problem"
      ],
      "metadata": {
        "id": "FfVPXSnNz_cr"
      }
    },
    {
      "cell_type": "markdown",
      "source": [
        "## Asynchronous Context Managers"
      ],
      "metadata": {
        "id": "v83yVjOR0PuL"
      }
    },
    {
      "cell_type": "code",
      "source": [],
      "metadata": {
        "id": "bMXEIWZU1To6"
      },
      "execution_count": null,
      "outputs": []
    }
  ]
}