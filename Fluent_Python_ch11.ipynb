{
  "nbformat": 4,
  "nbformat_minor": 0,
  "metadata": {
    "colab": {
      "provenance": [],
      "authorship_tag": "ABX9TyPqRudNmqlIq4V0x3RKDVLN",
      "include_colab_link": true
    },
    "kernelspec": {
      "name": "python3",
      "display_name": "Python 3"
    },
    "language_info": {
      "name": "python"
    }
  },
  "cells": [
    {
      "cell_type": "markdown",
      "metadata": {
        "id": "view-in-github",
        "colab_type": "text"
      },
      "source": [
        "<a href=\"https://colab.research.google.com/github/present42/PyTorchPractice/blob/main/Fluent_Python_ch11.ipynb\" target=\"_parent\"><img src=\"https://colab.research.google.com/assets/colab-badge.svg\" alt=\"Open In Colab\"/></a>"
      ]
    },
    {
      "cell_type": "markdown",
      "source": [
        "# Chapter 11. A Pythonic Object"
      ],
      "metadata": {
        "id": "r-lfk_3e_P02"
      }
    },
    {
      "cell_type": "markdown",
      "source": [
        "Coverage of this chapter:\n",
        " * Support the built-in fcns that convert objects to other types\n",
        " * Implement an alternative contstructor as a class method\n",
        " * extend the format mini-language used by f-strings\n",
        " * Provide read-only access to attributes\n",
        " * make an object hashable for use in sets and as dict keys\n",
        " * save memory with the use of `__slot__`"
      ],
      "metadata": {
        "id": "zAM76-o1_0Hc"
      }
    },
    {
      "cell_type": "code",
      "execution_count": null,
      "metadata": {
        "id": "-JV1OmT6_OmI"
      },
      "outputs": [],
      "source": [
        "# vector2d_v0.py\n",
        "from array import array\n",
        "import math\n",
        "\n",
        "class Vector2d:\n",
        "  typecode = 'd' # typecode is a class attr\n",
        "                 # we'll use when converting Vector2d <=> bytes\n",
        "\n",
        "  def __init__(self, x, y):\n",
        "    self.x = float(x) # converting x to float catches errors early\n",
        "    self.y = float(y)\n",
        "\n",
        "  def __iter__(self):\n",
        "    \"\"\"\n",
        "    __iter__ makes a Vector2d iterable\n",
        "    \"\"\"\n",
        "    # equivalent to yield self.x; yield self.y\n",
        "    return (i for i in (self.x, self.y))\n",
        "\n",
        "  def __repr__(self):\n",
        "    \"\"\"\n",
        "    __repr__ builds a string by interpolating the components\n",
        "    with {!r} to get their repr; because Vector2d is iterable\n",
        "    *self feeds the x and y component to format\n",
        "    \"\"\"\n",
        "    class_name = type(self).__name__\n",
        "    return '{}({!r}, {!r})'.format(class_name, *self)\n",
        "\n",
        "  def __str__(self):\n",
        "    return str(tuple(self))\n",
        "\n",
        "  def __bytes__(self):\n",
        "    return (bytes([ord(self.typecode)]) +\n",
        "            bytes(array(self.typecode, self)))\n",
        "\n",
        "  def __eq__(self, other):\n",
        "    \"\"\"\n",
        "    To quickly compare all components,\n",
        "    build tuples out of the operands\n",
        "    But there is a side effect:\n",
        "    e.g. Vector(3, 4) == [3, 4]\n",
        "\n",
        "    \"\"\"\n",
        "    return tuple(self) == tuple(other)\n",
        "\n",
        "  def __abs__(self):\n",
        "    return math.hypot(self.x, self.y)\n",
        "\n",
        "  def __bool__(self):\n",
        "    return bool(abs(self))"
      ]
    },
    {
      "cell_type": "markdown",
      "source": [
        "But we still need a way to rebuild a Vector2d from the binary representation produced by bytes()"
      ],
      "metadata": {
        "id": "tJXkFLuwF6Ae"
      }
    },
    {
      "cell_type": "code",
      "source": [
        "# vector2d_v1.py\n",
        "from array import array\n",
        "import math\n",
        "\n",
        "class Vector2d:\n",
        "  typecode = 'd' # typecode is a class attr\n",
        "                 # we'll use when converting Vector2d <=> bytes\n",
        "\n",
        "  def __init__(self, x, y):\n",
        "    self.x = float(x) # converting x to float catches errors early\n",
        "    self.y = float(y)\n",
        "\n",
        "  def __iter__(self):\n",
        "    \"\"\"\n",
        "    __iter__ makes a Vector2d iterable\n",
        "    \"\"\"\n",
        "    # equivalent to yield self.x; yield self.y\n",
        "    return (i for i in (self.x, self.y))\n",
        "\n",
        "  def __repr__(self):\n",
        "    \"\"\"\n",
        "    __repr__ builds a string by interpolating the components\n",
        "    with {!r} to get their repr; because Vector2d is iterable\n",
        "    *self feeds the x and y component to format\n",
        "    \"\"\"\n",
        "    class_name = type(self).__name__\n",
        "    return '{}({!r}, {!r})'.format(class_name, *self)\n",
        "\n",
        "  def __str__(self):\n",
        "    return str(tuple(self))\n",
        "\n",
        "  def __bytes__(self):\n",
        "    return (bytes([ord(self.typecode)]) +\n",
        "            bytes(array(self.typecode, self)))\n",
        "\n",
        "  # classmethod decorator modifies a method\n",
        "  # so it can be called directly on a class\n",
        "  @classmethod\n",
        "  def frombytes(cls, octets):\n",
        "    typecode = chr(octets[0])\n",
        "    memv = memoryview(octets[1:]).cast(typecode)\n",
        "    return cls(*memv)\n",
        "\n",
        "  def __eq__(self, other):\n",
        "    \"\"\"\n",
        "    To quickly compare all components,\n",
        "    build tuples out of the operands\n",
        "    But there is a side effect:\n",
        "    e.g. Vector(3, 4) == [3, 4]\n",
        "\n",
        "    \"\"\"\n",
        "    return tuple(self) == tuple(other)\n",
        "\n",
        "  def __abs__(self):\n",
        "    return math.hypot(self.x, self.y)\n",
        "\n",
        "  def __bool__(self):\n",
        "    return bool(abs(self))\n",
        "\n",
        "  def __format__(self, fmt_spec=''):\n",
        "    components = (format(c, fmt_spec) for c in self)\n",
        "    return '({}, {})'.format(*components)"
      ],
      "metadata": {
        "id": "OsgSnvueF5Pc"
      },
      "execution_count": null,
      "outputs": []
    },
    {
      "cell_type": "markdown",
      "source": [
        "## `classmethod` vs `staticmethod`\n",
        "\n",
        "`classmethod` changes the way the method is called, so it receives the class itself as the first argument, instead of an instance. Its most common use is for alternative constructors, like `frombytes`\n",
        "\n",
        "In contrast, `staticmethod` decorators changes a method so that it receives no special first argument. In essence, a static method is just like a plain function that happens to live in a class body, instaed of being defined at the module level."
      ],
      "metadata": {
        "id": "HkAqer1tG-_z"
      }
    },
    {
      "cell_type": "code",
      "source": [
        "class Demo:\n",
        "  @classmethod\n",
        "  def klassmeth(*args):\n",
        "    return args\n",
        "\n",
        "  @staticmethod\n",
        "  def statmeth(*args):\n",
        "    return args"
      ],
      "metadata": {
        "id": "vGqNIcKBHB3T"
      },
      "execution_count": null,
      "outputs": []
    },
    {
      "cell_type": "code",
      "source": [
        "Demo.klassmeth()\n",
        "Demo.klassmeth('Spam')"
      ],
      "metadata": {
        "colab": {
          "base_uri": "https://localhost:8080/"
        },
        "id": "ppOwH3OMH3ne",
        "outputId": "a77be9ba-ea5d-4dbd-9838-d8492285066b"
      },
      "execution_count": null,
      "outputs": [
        {
          "output_type": "execute_result",
          "data": {
            "text/plain": [
              "(__main__.Demo, 'Spam')"
            ]
          },
          "metadata": {},
          "execution_count": 9
        }
      ]
    },
    {
      "cell_type": "code",
      "source": [
        "Demo.statmeth()\n",
        "Demo.statmeth('Spam')"
      ],
      "metadata": {
        "colab": {
          "base_uri": "https://localhost:8080/"
        },
        "id": "WjxO5kxRH4oA",
        "outputId": "cb02947a-535f-4123-f78b-5edfecde09b2"
      },
      "execution_count": null,
      "outputs": [
        {
          "output_type": "execute_result",
          "data": {
            "text/plain": [
              "('Spam',)"
            ]
          },
          "metadata": {},
          "execution_count": 7
        }
      ]
    },
    {
      "cell_type": "markdown",
      "source": [
        "# Formatted Displays"
      ],
      "metadata": {
        "id": "SGXeIYb_I0B9"
      }
    },
    {
      "cell_type": "code",
      "source": [
        "brl = 1 / 4.82"
      ],
      "metadata": {
        "id": "P3gkV636H5pO"
      },
      "execution_count": null,
      "outputs": []
    },
    {
      "cell_type": "code",
      "source": [
        "brl"
      ],
      "metadata": {
        "colab": {
          "base_uri": "https://localhost:8080/"
        },
        "id": "SFc14x_xJBX8",
        "outputId": "0fb21379-4b37-4a96-91cd-c0e53b866e2b"
      },
      "execution_count": null,
      "outputs": [
        {
          "output_type": "execute_result",
          "data": {
            "text/plain": [
              "0.20746887966804978"
            ]
          },
          "metadata": {},
          "execution_count": 11
        }
      ]
    },
    {
      "cell_type": "code",
      "source": [
        "format(brl, '0.4f') # built-in format fcn"
      ],
      "metadata": {
        "colab": {
          "base_uri": "https://localhost:8080/",
          "height": 36
        },
        "id": "2mgNS18XJBo4",
        "outputId": "5bc3da97-816d-4f4d-a04c-a1cbd0a63f90"
      },
      "execution_count": null,
      "outputs": [
        {
          "output_type": "execute_result",
          "data": {
            "text/plain": [
              "'0.2075'"
            ],
            "application/vnd.google.colaboratory.intrinsic+json": {
              "type": "string"
            }
          },
          "metadata": {},
          "execution_count": 12
        }
      ]
    },
    {
      "cell_type": "code",
      "source": [
        "'1 BRL = {rate:0.2f} USD'.format(rate=brl)"
      ],
      "metadata": {
        "colab": {
          "base_uri": "https://localhost:8080/",
          "height": 36
        },
        "id": "aTbrBv1JJEFR",
        "outputId": "0c7732dd-15fd-4e4f-b51c-1af9b1c70557"
      },
      "execution_count": null,
      "outputs": [
        {
          "output_type": "execute_result",
          "data": {
            "text/plain": [
              "'1 BRL = 0.21 USD'"
            ],
            "application/vnd.google.colaboratory.intrinsic+json": {
              "type": "string"
            }
          },
          "metadata": {},
          "execution_count": 13
        }
      ]
    },
    {
      "cell_type": "code",
      "source": [
        "f'1 USD = {1 / brl:0.2f} BRL'"
      ],
      "metadata": {
        "colab": {
          "base_uri": "https://localhost:8080/",
          "height": 36
        },
        "id": "_CKEXUbIJK28",
        "outputId": "cc619808-1d0b-4496-e61b-985e4a79a983"
      },
      "execution_count": null,
      "outputs": [
        {
          "output_type": "execute_result",
          "data": {
            "text/plain": [
              "'1 USD = 4.82 BRL'"
            ],
            "application/vnd.google.colaboratory.intrinsic+json": {
              "type": "string"
            }
          },
          "metadata": {},
          "execution_count": 14
        }
      ]
    },
    {
      "cell_type": "markdown",
      "source": [
        "`int` type supports 'b' and 'x' for base 2 and base 16"
      ],
      "metadata": {
        "id": "ds6a_NYaJsJm"
      }
    },
    {
      "cell_type": "code",
      "source": [
        "format(42, 'b')\n",
        "format(42, 'x')"
      ],
      "metadata": {
        "colab": {
          "base_uri": "https://localhost:8080/",
          "height": 36
        },
        "id": "PAPJkFa9JQzt",
        "outputId": "8206b8cf-94f2-4f65-8123-724aacadf225"
      },
      "execution_count": null,
      "outputs": [
        {
          "output_type": "execute_result",
          "data": {
            "text/plain": [
              "'2a'"
            ],
            "application/vnd.google.colaboratory.intrinsic+json": {
              "type": "string"
            }
          },
          "metadata": {},
          "execution_count": 20
        }
      ]
    },
    {
      "cell_type": "code",
      "source": [
        "format(2 / 3, '.2%') # percentage display"
      ],
      "metadata": {
        "colab": {
          "base_uri": "https://localhost:8080/",
          "height": 36
        },
        "id": "BmjAn0mDJwYS",
        "outputId": "da7ed0a6-0649-47a2-84e5-bd91a3c02239"
      },
      "execution_count": null,
      "outputs": [
        {
          "output_type": "execute_result",
          "data": {
            "text/plain": [
              "'66.67%'"
            ],
            "application/vnd.google.colaboratory.intrinsic+json": {
              "type": "string"
            }
          },
          "metadata": {},
          "execution_count": 19
        }
      ]
    },
    {
      "cell_type": "markdown",
      "source": [
        "Format Specification Mini-Language is extensible because each class gets to interpret the `format_spec` argument as it likes."
      ],
      "metadata": {
        "id": "6Svuvod6J-AW"
      }
    },
    {
      "cell_type": "code",
      "source": [
        "from datetime import datetime\n",
        "\n",
        "now = datetime.now()\n",
        "format(now, '%H:%M:%S')\n",
        "\"It's now {:%I:%M %p}\".format(now)"
      ],
      "metadata": {
        "colab": {
          "base_uri": "https://localhost:8080/",
          "height": 36
        },
        "id": "ThL2vJ7rJyNA",
        "outputId": "28a83ac4-cc36-4221-992d-1630c3fc7f5f"
      },
      "execution_count": null,
      "outputs": [
        {
          "output_type": "execute_result",
          "data": {
            "text/plain": [
              "\"It's now 02:50 AM\""
            ],
            "application/vnd.google.colaboratory.intrinsic+json": {
              "type": "string"
            }
          },
          "metadata": {},
          "execution_count": 22
        }
      ]
    },
    {
      "cell_type": "code",
      "source": [
        "v1 = Vector2d(3, 4)"
      ],
      "metadata": {
        "id": "u3gswpAhKKqR"
      },
      "execution_count": null,
      "outputs": []
    },
    {
      "cell_type": "markdown",
      "source": [
        "If a class has no `__format__`, the method inherited from `object` returns `str(my_object)`."
      ],
      "metadata": {
        "id": "d2LnjX9zLFRh"
      }
    },
    {
      "cell_type": "code",
      "source": [
        "format(v1)"
      ],
      "metadata": {
        "colab": {
          "base_uri": "https://localhost:8080/",
          "height": 36
        },
        "id": "cvytqdYJK6dm",
        "outputId": "4b42cf3f-b720-49b1-fd90-2371ed5b73be"
      },
      "execution_count": null,
      "outputs": [
        {
          "output_type": "execute_result",
          "data": {
            "text/plain": [
              "'(3.0, 4.0)'"
            ],
            "application/vnd.google.colaboratory.intrinsic+json": {
              "type": "string"
            }
          },
          "metadata": {},
          "execution_count": 24
        }
      ]
    },
    {
      "cell_type": "markdown",
      "source": [
        "However, if you pass a format specifier, `object.__format__` raises TypeError"
      ],
      "metadata": {
        "id": "MrgLC1jyLKpb"
      }
    },
    {
      "cell_type": "code",
      "source": [
        "format(v1, '.3f')"
      ],
      "metadata": {
        "colab": {
          "base_uri": "https://localhost:8080/",
          "height": 149
        },
        "id": "VKXt2tBrK7F5",
        "outputId": "f0b755e8-de25-4f05-f02a-722aa059c23a"
      },
      "execution_count": null,
      "outputs": [
        {
          "output_type": "error",
          "ename": "TypeError",
          "evalue": "unsupported format string passed to Vector2d.__format__",
          "traceback": [
            "\u001b[0;31m---------------------------------------------------------------------------\u001b[0m",
            "\u001b[0;31mTypeError\u001b[0m                                 Traceback (most recent call last)",
            "\u001b[0;32m<ipython-input-29-9f7764dc3848>\u001b[0m in \u001b[0;36m<cell line: 1>\u001b[0;34m()\u001b[0m\n\u001b[0;32m----> 1\u001b[0;31m \u001b[0mformat\u001b[0m\u001b[0;34m(\u001b[0m\u001b[0mv1\u001b[0m\u001b[0;34m,\u001b[0m \u001b[0;34m'.3f'\u001b[0m\u001b[0;34m)\u001b[0m\u001b[0;34m\u001b[0m\u001b[0;34m\u001b[0m\u001b[0m\n\u001b[0m",
            "\u001b[0;31mTypeError\u001b[0m: unsupported format string passed to Vector2d.__format__"
          ]
        }
      ]
    },
    {
      "cell_type": "code",
      "source": [
        "v1 = Vector2d(3, 4)"
      ],
      "metadata": {
        "id": "mshQU8zYLP2S"
      },
      "execution_count": null,
      "outputs": []
    },
    {
      "cell_type": "code",
      "source": [
        "format(v1)"
      ],
      "metadata": {
        "colab": {
          "base_uri": "https://localhost:8080/",
          "height": 36
        },
        "id": "AAYqfuaSLdDR",
        "outputId": "6fa5ce72-91bc-47d3-b40b-8bc7bfae9025"
      },
      "execution_count": null,
      "outputs": [
        {
          "output_type": "execute_result",
          "data": {
            "text/plain": [
              "'(3.0, 4.0)'"
            ],
            "application/vnd.google.colaboratory.intrinsic+json": {
              "type": "string"
            }
          },
          "metadata": {},
          "execution_count": 32
        }
      ]
    },
    {
      "cell_type": "code",
      "source": [
        "format(v1, '.3f')"
      ],
      "metadata": {
        "colab": {
          "base_uri": "https://localhost:8080/",
          "height": 36
        },
        "id": "qV8ewGzWLdiv",
        "outputId": "0c073cf4-c22f-4ab0-bbda-54a21f1931ab"
      },
      "execution_count": null,
      "outputs": [
        {
          "output_type": "execute_result",
          "data": {
            "text/plain": [
              "'(3.000, 4.000)'"
            ],
            "application/vnd.google.colaboratory.intrinsic+json": {
              "type": "string"
            }
          },
          "metadata": {},
          "execution_count": 33
        }
      ]
    },
    {
      "cell_type": "code",
      "source": [
        "format(v1, '.3e')"
      ],
      "metadata": {
        "colab": {
          "base_uri": "https://localhost:8080/",
          "height": 36
        },
        "id": "x77eY-W4L4gJ",
        "outputId": "e698700f-cd77-4eb8-e6cd-635c6ee585f4"
      },
      "execution_count": null,
      "outputs": [
        {
          "output_type": "execute_result",
          "data": {
            "text/plain": [
              "'(3.000e+00, 4.000e+00)'"
            ],
            "application/vnd.google.colaboratory.intrinsic+json": {
              "type": "string"
            }
          },
          "metadata": {},
          "execution_count": 34
        }
      ]
    },
    {
      "cell_type": "markdown",
      "source": [
        "Add custom fornatting: polar coordinate"
      ],
      "metadata": {
        "id": "RY9pPmzkL_aq"
      }
    },
    {
      "cell_type": "code",
      "source": [
        "# vector2d_v1.py\n",
        "from array import array\n",
        "import math\n",
        "\n",
        "class Vector2d:\n",
        "  typecode = 'd' # typecode is a class attr\n",
        "                 # we'll use when converting Vector2d <=> bytes\n",
        "\n",
        "  def __init__(self, x, y):\n",
        "    self.x = float(x) # converting x to float catches errors early\n",
        "    self.y = float(y)\n",
        "\n",
        "  def __iter__(self):\n",
        "    \"\"\"\n",
        "    __iter__ makes a Vector2d iterable\n",
        "    \"\"\"\n",
        "    # equivalent to yield self.x; yield self.y\n",
        "    return (i for i in (self.x, self.y))\n",
        "\n",
        "  def __repr__(self):\n",
        "    \"\"\"\n",
        "    __repr__ builds a string by interpolating the components\n",
        "    with {!r} to get their repr; because Vector2d is iterable\n",
        "    *self feeds the x and y component to format\n",
        "    \"\"\"\n",
        "    class_name = type(self).__name__\n",
        "    return '{}({!r}, {!r})'.format(class_name, *self)\n",
        "\n",
        "  def __str__(self):\n",
        "    return str(tuple(self))\n",
        "\n",
        "  def __bytes__(self):\n",
        "    return (bytes([ord(self.typecode)]) +\n",
        "            bytes(array(self.typecode, self)))\n",
        "\n",
        "  # classmethod decorator modifies a method\n",
        "  # so it can be called directly on a class\n",
        "  @classmethod\n",
        "  def frombytes(cls, octets):\n",
        "    typecode = chr(octets[0])\n",
        "    memv = memoryview(octets[1:]).cast(typecode)\n",
        "    return cls(*memv)\n",
        "\n",
        "  def __eq__(self, other):\n",
        "    \"\"\"\n",
        "    To quickly compare all components,\n",
        "    build tuples out of the operands\n",
        "    But there is a side effect:\n",
        "    e.g. Vector(3, 4) == [3, 4]\n",
        "\n",
        "    \"\"\"\n",
        "    return tuple(self) == tuple(other)\n",
        "\n",
        "  def __abs__(self):\n",
        "    return math.hypot(self.x, self.y)\n",
        "\n",
        "  def __bool__(self):\n",
        "    return bool(abs(self))\n",
        "\n",
        "  def angle(self):\n",
        "    return math.atan2(self.y, self.x)\n",
        "\n",
        "  def __format__(self, fmt_spec=''):\n",
        "    if fmt_spec.endswith('p'):\n",
        "      fmt_spec = fmt_spec[:-1]\n",
        "      coords = (abs(self), self.angle())\n",
        "      outer_fmt = '<{}, {}>'\n",
        "    else:\n",
        "      coords = self\n",
        "      outer_fmt = '({}, {})'\n",
        "    components = (format(c, fmt_spec) for c in coords)\n",
        "    return outer_fmt.format(*components)\n",
        "\n"
      ],
      "metadata": {
        "id": "pDmJwvNzL8b3"
      },
      "execution_count": null,
      "outputs": []
    },
    {
      "cell_type": "code",
      "source": [
        "format(Vector2d(1, 1), 'p')"
      ],
      "metadata": {
        "colab": {
          "base_uri": "https://localhost:8080/",
          "height": 36
        },
        "id": "1mOsEgRYMtZ1",
        "outputId": "5741d41d-c0e6-4098-97c5-9311b6101094"
      },
      "execution_count": null,
      "outputs": [
        {
          "output_type": "execute_result",
          "data": {
            "text/plain": [
              "'<1.4142135623730951, 0.7853981633974483>'"
            ],
            "application/vnd.google.colaboratory.intrinsic+json": {
              "type": "string"
            }
          },
          "metadata": {},
          "execution_count": 36
        }
      ]
    },
    {
      "cell_type": "code",
      "source": [
        "format(Vector2d(1, 1), '.3ep')"
      ],
      "metadata": {
        "colab": {
          "base_uri": "https://localhost:8080/",
          "height": 36
        },
        "id": "o8GARHnOMwkr",
        "outputId": "ae88c1e1-d3fa-46e6-f1ba-6fee04f157ff"
      },
      "execution_count": null,
      "outputs": [
        {
          "output_type": "execute_result",
          "data": {
            "text/plain": [
              "'<1.414e+00, 7.854e-01>'"
            ],
            "application/vnd.google.colaboratory.intrinsic+json": {
              "type": "string"
            }
          },
          "metadata": {},
          "execution_count": 37
        }
      ]
    },
    {
      "cell_type": "code",
      "source": [
        "format(Vector2d(1, 1), '0.5fp')"
      ],
      "metadata": {
        "colab": {
          "base_uri": "https://localhost:8080/",
          "height": 36
        },
        "id": "azdzLNqqMyu0",
        "outputId": "7faf766b-601a-4a39-e331-e3d5071de36a"
      },
      "execution_count": null,
      "outputs": [
        {
          "output_type": "execute_result",
          "data": {
            "text/plain": [
              "'<1.41421, 0.78540>'"
            ],
            "application/vnd.google.colaboratory.intrinsic+json": {
              "type": "string"
            }
          },
          "metadata": {},
          "execution_count": 38
        }
      ]
    },
    {
      "cell_type": "markdown",
      "source": [
        "## A Hashable Vector2d"
      ],
      "metadata": {
        "id": "JaP6iXrMM659"
      }
    },
    {
      "cell_type": "code",
      "source": [
        "v1 = Vector2d(3, 4)"
      ],
      "metadata": {
        "id": "srgqg4Q2M1-y"
      },
      "execution_count": null,
      "outputs": []
    },
    {
      "cell_type": "code",
      "source": [
        "hash(v1)"
      ],
      "metadata": {
        "colab": {
          "base_uri": "https://localhost:8080/",
          "height": 149
        },
        "id": "YDYKSIcmM9pH",
        "outputId": "dabf5877-4fba-46c0-f879-3e140a21cbc3"
      },
      "execution_count": null,
      "outputs": [
        {
          "output_type": "error",
          "ename": "TypeError",
          "evalue": "unhashable type: 'Vector2d'",
          "traceback": [
            "\u001b[0;31m---------------------------------------------------------------------------\u001b[0m",
            "\u001b[0;31mTypeError\u001b[0m                                 Traceback (most recent call last)",
            "\u001b[0;32m<ipython-input-40-e769d6e59c8c>\u001b[0m in \u001b[0;36m<cell line: 1>\u001b[0;34m()\u001b[0m\n\u001b[0;32m----> 1\u001b[0;31m \u001b[0mhash\u001b[0m\u001b[0;34m(\u001b[0m\u001b[0mv1\u001b[0m\u001b[0;34m)\u001b[0m\u001b[0;34m\u001b[0m\u001b[0;34m\u001b[0m\u001b[0m\n\u001b[0m",
            "\u001b[0;31mTypeError\u001b[0m: unhashable type: 'Vector2d'"
          ]
        }
      ]
    },
    {
      "cell_type": "code",
      "source": [
        "set([v1])"
      ],
      "metadata": {
        "colab": {
          "base_uri": "https://localhost:8080/",
          "height": 149
        },
        "id": "bzNZ2_jIM-L_",
        "outputId": "1784bcf1-2a48-4e43-d425-cf59f1336227"
      },
      "execution_count": null,
      "outputs": [
        {
          "output_type": "error",
          "ename": "TypeError",
          "evalue": "unhashable type: 'Vector2d'",
          "traceback": [
            "\u001b[0;31m---------------------------------------------------------------------------\u001b[0m",
            "\u001b[0;31mTypeError\u001b[0m                                 Traceback (most recent call last)",
            "\u001b[0;32m<ipython-input-41-bc2432ceb71f>\u001b[0m in \u001b[0;36m<cell line: 1>\u001b[0;34m()\u001b[0m\n\u001b[0;32m----> 1\u001b[0;31m \u001b[0mset\u001b[0m\u001b[0;34m(\u001b[0m\u001b[0;34m[\u001b[0m\u001b[0mv1\u001b[0m\u001b[0;34m]\u001b[0m\u001b[0;34m)\u001b[0m\u001b[0;34m\u001b[0m\u001b[0;34m\u001b[0m\u001b[0m\n\u001b[0m",
            "\u001b[0;31mTypeError\u001b[0m: unhashable type: 'Vector2d'"
          ]
        }
      ]
    },
    {
      "cell_type": "markdown",
      "source": [
        "To make a `Vector2d` hashable, we must implement `__hash__`"
      ],
      "metadata": {
        "id": "q6I1D5grNBiw"
      }
    },
    {
      "cell_type": "code",
      "source": [
        "# vector2d_v3.py\n",
        "from array import array\n",
        "import math\n",
        "\n",
        "class Vector2d:\n",
        "  typecode = 'd' # typecode is a class attr\n",
        "                 # we'll use when converting Vector2d <=> bytes\n",
        "\n",
        "  __match_args__ = ('x', 'y') # class attribute listing the instance attributes in the order\n",
        "                              # they will be used for positional pattern matching\n",
        "  def __init__(self, x, y):\n",
        "    self.__x = float(x) # converting x to float catches errors early\n",
        "    self.__y = float(y)\n",
        "\n",
        "  @property\n",
        "  def x(self):\n",
        "    return self.__x\n",
        "\n",
        "  @property\n",
        "  def y(self):\n",
        "    return self.__y\n",
        "\n",
        "  def __iter__(self):\n",
        "    \"\"\"\n",
        "    __iter__ makes a Vector2d iterable\n",
        "    \"\"\"\n",
        "    # equivalent to yield self.x; yield self.y\n",
        "    return (i for i in (self.x, self.y))\n",
        "\n",
        "  def __repr__(self):\n",
        "    \"\"\"\n",
        "    __repr__ builds a string by interpolating the components\n",
        "    with {!r} to get their repr; because Vector2d is iterable\n",
        "    *self feeds the x and y component to format\n",
        "    \"\"\"\n",
        "    class_name = type(self).__name__\n",
        "    return '{}({!r}, {!r})'.format(class_name, *self)\n",
        "\n",
        "  def __str__(self):\n",
        "    return str(tuple(self))\n",
        "\n",
        "  def __bytes__(self):\n",
        "    return (bytes([ord(self.typecode)]) +\n",
        "            bytes(array(self.typecode, self)))\n",
        "\n",
        "  # classmethod decorator modifies a method\n",
        "  # so it can be called directly on a class\n",
        "  @classmethod\n",
        "  def frombytes(cls, octets):\n",
        "    typecode = chr(octets[0])\n",
        "    memv = memoryview(octets[1:]).cast(typecode)\n",
        "    return cls(*memv)\n",
        "\n",
        "  def __eq__(self, other):\n",
        "    \"\"\"\n",
        "    To quickly compare all components,\n",
        "    build tuples out of the operands\n",
        "    But there is a side effect:\n",
        "    e.g. Vector(3, 4) == [3, 4]\n",
        "\n",
        "    \"\"\"\n",
        "    return tuple(self) == tuple(other)\n",
        "\n",
        "  def __abs__(self):\n",
        "    return math.hypot(self.x, self.y)\n",
        "\n",
        "  def __bool__(self):\n",
        "    return bool(abs(self))\n",
        "\n",
        "  def angle(self):\n",
        "    return math.atan2(self.y, self.x)\n",
        "\n",
        "  def __format__(self, fmt_spec=''):\n",
        "    if fmt_spec.endswith('p'):\n",
        "      fmt_spec = fmt_spec[:-1]\n",
        "      coords = (abs(self), self.angle())\n",
        "      outer_fmt = '<{}, {}>'\n",
        "    else:\n",
        "      coords = self\n",
        "      outer_fmt = '({}, {})'\n",
        "    components = (format(c, fmt_spec) for c in coords)\n",
        "    return outer_fmt.format(*components)\n",
        "\n",
        "  def __hash__(self):\n",
        "    return hash((self.x, self.y))"
      ],
      "metadata": {
        "id": "xlp-tVtdM_2G"
      },
      "execution_count": 7,
      "outputs": []
    },
    {
      "cell_type": "code",
      "source": [
        "v1 = Vector2d(3, 4)\n",
        "v2 = Vector2d(3.1, 4.2)\n",
        "hash(v1), hash(v2)"
      ],
      "metadata": {
        "colab": {
          "base_uri": "https://localhost:8080/"
        },
        "id": "-Xq1li_QNvF1",
        "outputId": "869559a6-ef80-4fcf-8f5f-7903969d269c"
      },
      "execution_count": null,
      "outputs": [
        {
          "output_type": "execute_result",
          "data": {
            "text/plain": [
              "(1079245023883434373, 1994163070182233067)"
            ]
          },
          "metadata": {},
          "execution_count": 57
        }
      ]
    },
    {
      "cell_type": "code",
      "source": [
        "{v1, v2}"
      ],
      "metadata": {
        "colab": {
          "base_uri": "https://localhost:8080/"
        },
        "id": "mr5ct2KJN044",
        "outputId": "23f3612e-78f1-4b8f-8f11-3f97f5756276"
      },
      "execution_count": null,
      "outputs": [
        {
          "output_type": "execute_result",
          "data": {
            "text/plain": [
              "{Vector2d(3.0, 4.0), Vector2d(3.1, 4.2)}"
            ]
          },
          "metadata": {},
          "execution_count": 58
        }
      ]
    },
    {
      "cell_type": "markdown",
      "source": [
        "13:57 -"
      ],
      "metadata": {
        "id": "maKpsMks-stg"
      }
    },
    {
      "cell_type": "markdown",
      "source": [
        "## Supporting Positional Pattern Matching"
      ],
      "metadata": {
        "id": "3YgI51Y7-upn"
      }
    },
    {
      "cell_type": "code",
      "source": [
        "def keyword_pattern_demo(v: Vector2d) -> None:\n",
        "  match v:\n",
        "    case Vector2d(0, 0):\n",
        "      print(f'{v!r} is null')\n",
        "    case Vector2d(0):\n",
        "      print(f'{v!r} is vertical')\n",
        "    case Vector2d(_, 0):\n",
        "      print(f'{v!r} is horizontal')\n",
        "    case Vector2d(x, y) if x==y:\n",
        "      print(f'{v!r} is diagonal')\n",
        "    case _:\n",
        "      print(f'{v!r} is awesome')"
      ],
      "metadata": {
        "id": "8vrnXV4UOYyg"
      },
      "execution_count": 8,
      "outputs": []
    },
    {
      "cell_type": "code",
      "source": [
        "keyword_pattern_demo(Vector2d(0, 3))"
      ],
      "metadata": {
        "colab": {
          "base_uri": "https://localhost:8080/"
        },
        "id": "P6AUZFfl_SYS",
        "outputId": "421979c3-d1db-4236-d52b-40730589f5c5"
      },
      "execution_count": 13,
      "outputs": [
        {
          "output_type": "stream",
          "name": "stdout",
          "text": [
            "Vector2d(0.0, 3.0) is vertical\n"
          ]
        }
      ]
    },
    {
      "cell_type": "code",
      "source": [
        "# Review\n",
        "\n",
        "v1 = Vector2d(3, 4)\n",
        "print(v1.x, v1.y)"
      ],
      "metadata": {
        "colab": {
          "base_uri": "https://localhost:8080/"
        },
        "id": "pSfb9yh7_YDQ",
        "outputId": "f4665907-4b62-44fd-963d-13175e01eb4b"
      },
      "execution_count": 14,
      "outputs": [
        {
          "output_type": "stream",
          "name": "stdout",
          "text": [
            "3.0 4.0\n"
          ]
        }
      ]
    },
    {
      "cell_type": "code",
      "source": [
        "x, y = v1\n",
        "x, y"
      ],
      "metadata": {
        "colab": {
          "base_uri": "https://localhost:8080/"
        },
        "id": "pHTOGiu7AHnw",
        "outputId": "643a5542-0a1e-4eac-d3ff-34103f39558a"
      },
      "execution_count": 15,
      "outputs": [
        {
          "output_type": "execute_result",
          "data": {
            "text/plain": [
              "(3.0, 4.0)"
            ]
          },
          "metadata": {},
          "execution_count": 15
        }
      ]
    },
    {
      "cell_type": "code",
      "source": [
        "v1"
      ],
      "metadata": {
        "colab": {
          "base_uri": "https://localhost:8080/"
        },
        "id": "RWhuGgp5AJ7h",
        "outputId": "d7dcf2ca-1811-497b-b65b-db40fbf745ee"
      },
      "execution_count": 16,
      "outputs": [
        {
          "output_type": "execute_result",
          "data": {
            "text/plain": [
              "Vector2d(3.0, 4.0)"
            ]
          },
          "metadata": {},
          "execution_count": 16
        }
      ]
    },
    {
      "cell_type": "code",
      "source": [
        "v1_clone = eval(repr(v1))"
      ],
      "metadata": {
        "id": "RNBdIkynAKzB"
      },
      "execution_count": 17,
      "outputs": []
    },
    {
      "cell_type": "code",
      "source": [
        "v1 == v1_clone"
      ],
      "metadata": {
        "colab": {
          "base_uri": "https://localhost:8080/"
        },
        "id": "nIcYJFRlANrI",
        "outputId": "5e05df65-1fd1-4cac-e102-4092381ba7c3"
      },
      "execution_count": 18,
      "outputs": [
        {
          "output_type": "execute_result",
          "data": {
            "text/plain": [
              "True"
            ]
          },
          "metadata": {},
          "execution_count": 18
        }
      ]
    },
    {
      "cell_type": "code",
      "source": [
        "v1 is v1_clone"
      ],
      "metadata": {
        "colab": {
          "base_uri": "https://localhost:8080/"
        },
        "id": "ozvC4bZAAOxZ",
        "outputId": "4d65b363-9816-4f26-e71a-b96212ae0370"
      },
      "execution_count": 19,
      "outputs": [
        {
          "output_type": "execute_result",
          "data": {
            "text/plain": [
              "False"
            ]
          },
          "metadata": {},
          "execution_count": 19
        }
      ]
    },
    {
      "cell_type": "code",
      "source": [
        "octets = bytes(v1)"
      ],
      "metadata": {
        "id": "INbUGW47APdR"
      },
      "execution_count": 20,
      "outputs": []
    },
    {
      "cell_type": "code",
      "source": [
        "octets"
      ],
      "metadata": {
        "colab": {
          "base_uri": "https://localhost:8080/"
        },
        "id": "DiDBCNLwAR0R",
        "outputId": "6ac270ea-d83a-4c5b-ce2f-da27405eeb72"
      },
      "execution_count": 21,
      "outputs": [
        {
          "output_type": "execute_result",
          "data": {
            "text/plain": [
              "b'd\\x00\\x00\\x00\\x00\\x00\\x00\\x08@\\x00\\x00\\x00\\x00\\x00\\x00\\x10@'"
            ]
          },
          "metadata": {},
          "execution_count": 21
        }
      ]
    },
    {
      "cell_type": "code",
      "source": [
        "abs(v1)"
      ],
      "metadata": {
        "colab": {
          "base_uri": "https://localhost:8080/"
        },
        "id": "qiU06Q2WAS8p",
        "outputId": "abf4303f-d8f8-402a-f3d5-b4270a5ba8fa"
      },
      "execution_count": 22,
      "outputs": [
        {
          "output_type": "execute_result",
          "data": {
            "text/plain": [
              "5.0"
            ]
          },
          "metadata": {},
          "execution_count": 22
        }
      ]
    },
    {
      "cell_type": "code",
      "source": [
        "bool(v1), bool(Vector2d(0, 0))"
      ],
      "metadata": {
        "colab": {
          "base_uri": "https://localhost:8080/"
        },
        "id": "00ib1ZdGAUcB",
        "outputId": "a2aa7694-fdcb-47bd-8d0e-0ff0a6fe5965"
      },
      "execution_count": 23,
      "outputs": [
        {
          "output_type": "execute_result",
          "data": {
            "text/plain": [
              "(True, False)"
            ]
          },
          "metadata": {},
          "execution_count": 23
        }
      ]
    },
    {
      "cell_type": "code",
      "source": [
        "v1_clone = Vector2d.frombytes(bytes(v1))"
      ],
      "metadata": {
        "id": "g-9QxdLNAWQB"
      },
      "execution_count": 24,
      "outputs": []
    },
    {
      "cell_type": "code",
      "source": [
        "v1_clone"
      ],
      "metadata": {
        "colab": {
          "base_uri": "https://localhost:8080/"
        },
        "id": "N-GxKBx8AeOJ",
        "outputId": "fdc7f5f3-88f6-458a-9aeb-0757b96a9d12"
      },
      "execution_count": 25,
      "outputs": [
        {
          "output_type": "execute_result",
          "data": {
            "text/plain": [
              "Vector2d(3.0, 4.0)"
            ]
          },
          "metadata": {},
          "execution_count": 25
        }
      ]
    },
    {
      "cell_type": "code",
      "source": [
        "v1 == v1_clone"
      ],
      "metadata": {
        "colab": {
          "base_uri": "https://localhost:8080/"
        },
        "id": "zDeJJf8IAezB",
        "outputId": "f9da558b-6b1c-4535-ca3d-c6ab9e7060e1"
      },
      "execution_count": 26,
      "outputs": [
        {
          "output_type": "execute_result",
          "data": {
            "text/plain": [
              "True"
            ]
          },
          "metadata": {},
          "execution_count": 26
        }
      ]
    },
    {
      "cell_type": "code",
      "source": [
        "format(v1)"
      ],
      "metadata": {
        "colab": {
          "base_uri": "https://localhost:8080/",
          "height": 36
        },
        "id": "6kX_2hpVAf8R",
        "outputId": "efa5ae98-d999-4052-97eb-7dbfa16316a0"
      },
      "execution_count": 27,
      "outputs": [
        {
          "output_type": "execute_result",
          "data": {
            "text/plain": [
              "'(3.0, 4.0)'"
            ],
            "application/vnd.google.colaboratory.intrinsic+json": {
              "type": "string"
            }
          },
          "metadata": {},
          "execution_count": 27
        }
      ]
    },
    {
      "cell_type": "code",
      "source": [
        "format(v1, '.3e')"
      ],
      "metadata": {
        "colab": {
          "base_uri": "https://localhost:8080/",
          "height": 36
        },
        "id": "kYjFFHTmAhyB",
        "outputId": "dc96f580-c82f-4fb8-c611-85919ef64070"
      },
      "execution_count": 28,
      "outputs": [
        {
          "output_type": "execute_result",
          "data": {
            "text/plain": [
              "'(3.000e+00, 4.000e+00)'"
            ],
            "application/vnd.google.colaboratory.intrinsic+json": {
              "type": "string"
            }
          },
          "metadata": {},
          "execution_count": 28
        }
      ]
    },
    {
      "cell_type": "code",
      "source": [
        "format(v1, '.2f')"
      ],
      "metadata": {
        "colab": {
          "base_uri": "https://localhost:8080/",
          "height": 36
        },
        "id": "OwmQ1bd5AjJy",
        "outputId": "989a77a9-0d25-4041-ec79-35bfff39da41"
      },
      "execution_count": 29,
      "outputs": [
        {
          "output_type": "execute_result",
          "data": {
            "text/plain": [
              "'(3.00, 4.00)'"
            ],
            "application/vnd.google.colaboratory.intrinsic+json": {
              "type": "string"
            }
          },
          "metadata": {},
          "execution_count": 29
        }
      ]
    },
    {
      "cell_type": "code",
      "source": [
        "v1.angle()"
      ],
      "metadata": {
        "colab": {
          "base_uri": "https://localhost:8080/"
        },
        "id": "KpnIsYCjAkey",
        "outputId": "efc7e51d-f1e1-4484-a919-eb9365807a57"
      },
      "execution_count": 30,
      "outputs": [
        {
          "output_type": "execute_result",
          "data": {
            "text/plain": [
              "0.9272952180016122"
            ]
          },
          "metadata": {},
          "execution_count": 30
        }
      ]
    },
    {
      "cell_type": "code",
      "source": [
        "Vector2d(1, 0).angle()"
      ],
      "metadata": {
        "colab": {
          "base_uri": "https://localhost:8080/"
        },
        "id": "dymuOxk0AmX6",
        "outputId": "98ac7934-3ba5-421c-97e4-8e2899310aa1"
      },
      "execution_count": 31,
      "outputs": [
        {
          "output_type": "execute_result",
          "data": {
            "text/plain": [
              "0.0"
            ]
          },
          "metadata": {},
          "execution_count": 31
        }
      ]
    },
    {
      "cell_type": "code",
      "source": [
        "abs(Vector2d(0, 1).angle() - math.pi/2) < 10**-8"
      ],
      "metadata": {
        "colab": {
          "base_uri": "https://localhost:8080/"
        },
        "id": "9VojfXdAAprx",
        "outputId": "f9f572e7-cc01-461a-9666-567e7ec59830"
      },
      "execution_count": 32,
      "outputs": [
        {
          "output_type": "execute_result",
          "data": {
            "text/plain": [
              "True"
            ]
          },
          "metadata": {},
          "execution_count": 32
        }
      ]
    },
    {
      "cell_type": "code",
      "source": [
        "abs(Vector2d(1, 1).angle() - math.pi/4) < 10**-8"
      ],
      "metadata": {
        "colab": {
          "base_uri": "https://localhost:8080/"
        },
        "id": "wPgvM8zpAwip",
        "outputId": "a670e9c6-dca1-479b-9e98-614febe6c30b"
      },
      "execution_count": 33,
      "outputs": [
        {
          "output_type": "execute_result",
          "data": {
            "text/plain": [
              "True"
            ]
          },
          "metadata": {},
          "execution_count": 33
        }
      ]
    },
    {
      "cell_type": "markdown",
      "source": [
        "# Private and \"Protected\" Attributes in Python"
      ],
      "metadata": {
        "id": "mTIrCY21BE8x"
      }
    },
    {
      "cell_type": "markdown",
      "source": [
        "If you name an instance attribute in the form `__mood`, Python stores the name in the instance `__dict__` prefixed with a leading underscore and the class name, `__mood` becomes `_Dog__mood`. This language feature goes by the lovely name of \"name mangling\""
      ],
      "metadata": {
        "id": "Zf1En1PFBiBO"
      }
    },
    {
      "cell_type": "code",
      "source": [
        "v1 = Vector2d(3, 4)\n",
        "v1.__dict__"
      ],
      "metadata": {
        "colab": {
          "base_uri": "https://localhost:8080/"
        },
        "id": "JOwu3izoAzxK",
        "outputId": "c0574255-c716-489b-f207-58b8d90d7c25"
      },
      "execution_count": 34,
      "outputs": [
        {
          "output_type": "execute_result",
          "data": {
            "text/plain": [
              "{'_Vector2d__x': 3.0, '_Vector2d__y': 4.0}"
            ]
          },
          "metadata": {},
          "execution_count": 34
        }
      ]
    },
    {
      "cell_type": "code",
      "source": [
        "v1._Vector2d__x = 4.0"
      ],
      "metadata": {
        "id": "8s_iT-EyB42i"
      },
      "execution_count": 35,
      "outputs": []
    },
    {
      "cell_type": "code",
      "source": [
        "v1"
      ],
      "metadata": {
        "colab": {
          "base_uri": "https://localhost:8080/"
        },
        "id": "_akx7vwTB8-J",
        "outputId": "8f55694d-6e57-4c91-e4e7-4802f400ed54"
      },
      "execution_count": 36,
      "outputs": [
        {
          "output_type": "execute_result",
          "data": {
            "text/plain": [
              "Vector2d(4.0, 4.0)"
            ]
          },
          "metadata": {},
          "execution_count": 36
        }
      ]
    },
    {
      "cell_type": "markdown",
      "source": [
        "Name mangling is about safety, not security: it's designed to prevent accidental access and not malicious prying."
      ],
      "metadata": {
        "id": "ZO67TgYIB_pj"
      }
    },
    {
      "cell_type": "markdown",
      "source": [
        "# Saving Memory with `__slots__`"
      ],
      "metadata": {
        "id": "WGLfRS6rCpU6"
      }
    },
    {
      "cell_type": "markdown",
      "source": [
        "By default, Python stores the attributes of each instance in a `dict` named `__dict__`. As we saw earlier, a `dict` has a significant memory overhead. But if you define a class attr named `__slots__` holding a sequence of attribute names, Python uses an alternative storage model for the instance attributes: the attributes named in `__slots__` are stored in a hidden array or references that use less memory than a `dict`."
      ],
      "metadata": {
        "id": "LGqS1W14CuQZ"
      }
    },
    {
      "cell_type": "code",
      "source": [
        "class Pixel:\n",
        "  __slots__ = ('x', 'y') # it must be present when this class is created; adding / changing later has no effect\n",
        "                         # attribute names may be in a tuple or list"
      ],
      "metadata": {
        "id": "gj3tt2x_B9bp"
      },
      "execution_count": 38,
      "outputs": []
    },
    {
      "cell_type": "code",
      "source": [
        "p = Pixel()"
      ],
      "metadata": {
        "id": "WILm1VaZDIoB"
      },
      "execution_count": 39,
      "outputs": []
    },
    {
      "cell_type": "code",
      "source": [
        "p.__dict__ # first effect: instances of Pixel have no __dict__"
      ],
      "metadata": {
        "colab": {
          "base_uri": "https://localhost:8080/",
          "height": 149
        },
        "id": "UVSy1IM0DVTR",
        "outputId": "73e28d5a-ec61-47e4-f09a-371083a7dc35"
      },
      "execution_count": 40,
      "outputs": [
        {
          "output_type": "error",
          "ename": "AttributeError",
          "evalue": "'Pixel' object has no attribute '__dict__'",
          "traceback": [
            "\u001b[0;31m---------------------------------------------------------------------------\u001b[0m",
            "\u001b[0;31mAttributeError\u001b[0m                            Traceback (most recent call last)",
            "\u001b[0;32m<ipython-input-40-33b2432b7e42>\u001b[0m in \u001b[0;36m<cell line: 1>\u001b[0;34m()\u001b[0m\n\u001b[0;32m----> 1\u001b[0;31m \u001b[0mp\u001b[0m\u001b[0;34m.\u001b[0m\u001b[0m__dict__\u001b[0m\u001b[0;34m\u001b[0m\u001b[0;34m\u001b[0m\u001b[0m\n\u001b[0m",
            "\u001b[0;31mAttributeError\u001b[0m: 'Pixel' object has no attribute '__dict__'"
          ]
        }
      ]
    },
    {
      "cell_type": "code",
      "source": [
        "p.x = 10"
      ],
      "metadata": {
        "id": "DWk_Z36QDV2K"
      },
      "execution_count": 43,
      "outputs": []
    },
    {
      "cell_type": "code",
      "source": [
        "p.y = 20"
      ],
      "metadata": {
        "id": "9KBL0ZsoDXD6"
      },
      "execution_count": 44,
      "outputs": []
    },
    {
      "cell_type": "code",
      "source": [
        "p.color = 'red' # Second effect: trying to set an attribute not listed in __slots__ raises Error"
      ],
      "metadata": {
        "colab": {
          "base_uri": "https://localhost:8080/",
          "height": 149
        },
        "id": "zRcOPubCDXbg",
        "outputId": "9c0bc2c5-1c89-4efc-d014-c5b003077d5b"
      },
      "execution_count": 46,
      "outputs": [
        {
          "output_type": "error",
          "ename": "AttributeError",
          "evalue": "'Pixel' object has no attribute 'color'",
          "traceback": [
            "\u001b[0;31m---------------------------------------------------------------------------\u001b[0m",
            "\u001b[0;31mAttributeError\u001b[0m                            Traceback (most recent call last)",
            "\u001b[0;32m<ipython-input-46-94f4b84d8f2c>\u001b[0m in \u001b[0;36m<cell line: 1>\u001b[0;34m()\u001b[0m\n\u001b[0;32m----> 1\u001b[0;31m \u001b[0mp\u001b[0m\u001b[0;34m.\u001b[0m\u001b[0mcolor\u001b[0m \u001b[0;34m=\u001b[0m \u001b[0;34m'red'\u001b[0m \u001b[0;31m# Second effect: trying to set an attribute not listed in __slots__ raises Error\u001b[0m\u001b[0;34m\u001b[0m\u001b[0;34m\u001b[0m\u001b[0m\n\u001b[0m",
            "\u001b[0;31mAttributeError\u001b[0m: 'Pixel' object has no attribute 'color'"
          ]
        }
      ]
    },
    {
      "cell_type": "code",
      "source": [
        "class OpenPixel(Pixel):\n",
        "  pass"
      ],
      "metadata": {
        "id": "f1cjBTFqD8vZ"
      },
      "execution_count": 55,
      "outputs": []
    },
    {
      "cell_type": "code",
      "source": [
        "op = OpenPixel()"
      ],
      "metadata": {
        "id": "e2eGOnHkECcB"
      },
      "execution_count": 56,
      "outputs": []
    },
    {
      "cell_type": "markdown",
      "source": [
        "Suprise: instances of `OpenPixel` have a `__dict__`"
      ],
      "metadata": {
        "id": "yo8cd0maENbr"
      }
    },
    {
      "cell_type": "code",
      "source": [
        "op.__dict__"
      ],
      "metadata": {
        "colab": {
          "base_uri": "https://localhost:8080/"
        },
        "id": "2SH23REREDcY",
        "outputId": "8d273dc0-ea22-4ef2-818a-7fbb2b2f7d02"
      },
      "execution_count": 57,
      "outputs": [
        {
          "output_type": "execute_result",
          "data": {
            "text/plain": [
              "{}"
            ]
          },
          "metadata": {},
          "execution_count": 57
        }
      ]
    },
    {
      "cell_type": "code",
      "source": [
        "op.x = 8"
      ],
      "metadata": {
        "id": "TzY9dXQNED_C"
      },
      "execution_count": 58,
      "outputs": []
    },
    {
      "cell_type": "code",
      "source": [
        "op.__dict__"
      ],
      "metadata": {
        "colab": {
          "base_uri": "https://localhost:8080/"
        },
        "id": "XK29JAHLEFNx",
        "outputId": "d4046cf8-099f-40be-b065-4bb3871372fb"
      },
      "execution_count": 59,
      "outputs": [
        {
          "output_type": "execute_result",
          "data": {
            "text/plain": [
              "{}"
            ]
          },
          "metadata": {},
          "execution_count": 59
        }
      ]
    },
    {
      "cell_type": "code",
      "source": [
        "op.x"
      ],
      "metadata": {
        "colab": {
          "base_uri": "https://localhost:8080/"
        },
        "id": "iLAwgsoKEF-g",
        "outputId": "90acbe97-e705-4542-9a66-080d09bfaec1"
      },
      "execution_count": 60,
      "outputs": [
        {
          "output_type": "execute_result",
          "data": {
            "text/plain": [
              "8"
            ]
          },
          "metadata": {},
          "execution_count": 60
        }
      ]
    },
    {
      "cell_type": "code",
      "source": [
        "op.color = 'green'"
      ],
      "metadata": {
        "id": "YKMzGLy-EG9x"
      },
      "execution_count": 61,
      "outputs": []
    },
    {
      "cell_type": "code",
      "source": [
        "op.__dict__"
      ],
      "metadata": {
        "colab": {
          "base_uri": "https://localhost:8080/"
        },
        "id": "ilGWwWpDEIFr",
        "outputId": "f8c7c94d-382d-4e81-e15a-92e2bc9c80ee"
      },
      "execution_count": 63,
      "outputs": [
        {
          "output_type": "execute_result",
          "data": {
            "text/plain": [
              "{'color': 'green'}"
            ]
          },
          "metadata": {},
          "execution_count": 63
        }
      ]
    },
    {
      "cell_type": "markdown",
      "source": [
        "Conclusion: Effect of `__slots__` is only partially inheritied by a subclass"
      ],
      "metadata": {
        "id": "06vJYp7mEYLR"
      }
    },
    {
      "cell_type": "code",
      "source": [
        "class ColorPixel(Pixel):\n",
        "  __slots__ = ('color', )"
      ],
      "metadata": {
        "id": "AlXRbeo6EIS4"
      },
      "execution_count": 64,
      "outputs": []
    },
    {
      "cell_type": "code",
      "source": [
        "cp = ColorPixel()\n",
        "cp.__dict__"
      ],
      "metadata": {
        "colab": {
          "base_uri": "https://localhost:8080/",
          "height": 168
        },
        "id": "z7vIlvuaEiuJ",
        "outputId": "111d42bc-a828-44cf-fd0b-908c33fb16d0"
      },
      "execution_count": 65,
      "outputs": [
        {
          "output_type": "error",
          "ename": "AttributeError",
          "evalue": "'ColorPixel' object has no attribute '__dict__'",
          "traceback": [
            "\u001b[0;31m---------------------------------------------------------------------------\u001b[0m",
            "\u001b[0;31mAttributeError\u001b[0m                            Traceback (most recent call last)",
            "\u001b[0;32m<ipython-input-65-f6a66577201f>\u001b[0m in \u001b[0;36m<cell line: 2>\u001b[0;34m()\u001b[0m\n\u001b[1;32m      1\u001b[0m \u001b[0mcp\u001b[0m \u001b[0;34m=\u001b[0m \u001b[0mColorPixel\u001b[0m\u001b[0;34m(\u001b[0m\u001b[0;34m)\u001b[0m\u001b[0;34m\u001b[0m\u001b[0;34m\u001b[0m\u001b[0m\n\u001b[0;32m----> 2\u001b[0;31m \u001b[0mcp\u001b[0m\u001b[0;34m.\u001b[0m\u001b[0m__dict__\u001b[0m\u001b[0;34m\u001b[0m\u001b[0;34m\u001b[0m\u001b[0m\n\u001b[0m",
            "\u001b[0;31mAttributeError\u001b[0m: 'ColorPixel' object has no attribute '__dict__'"
          ]
        }
      ]
    },
    {
      "cell_type": "code",
      "source": [
        "cp.x = 2\n",
        "cp.color = 'blue'"
      ],
      "metadata": {
        "id": "eIlvNPtgElVA"
      },
      "execution_count": 66,
      "outputs": []
    },
    {
      "cell_type": "code",
      "source": [
        "cp.flavor = 'banana'"
      ],
      "metadata": {
        "colab": {
          "base_uri": "https://localhost:8080/",
          "height": 149
        },
        "id": "ysSOgD9mEnKR",
        "outputId": "aab80955-5559-4d22-94bf-70c83a320294"
      },
      "execution_count": 67,
      "outputs": [
        {
          "output_type": "error",
          "ename": "AttributeError",
          "evalue": "'ColorPixel' object has no attribute 'flavor'",
          "traceback": [
            "\u001b[0;31m---------------------------------------------------------------------------\u001b[0m",
            "\u001b[0;31mAttributeError\u001b[0m                            Traceback (most recent call last)",
            "\u001b[0;32m<ipython-input-67-8002b3a4bef4>\u001b[0m in \u001b[0;36m<cell line: 1>\u001b[0;34m()\u001b[0m\n\u001b[0;32m----> 1\u001b[0;31m \u001b[0mcp\u001b[0m\u001b[0;34m.\u001b[0m\u001b[0mflavor\u001b[0m \u001b[0;34m=\u001b[0m \u001b[0;34m'banana'\u001b[0m\u001b[0;34m\u001b[0m\u001b[0;34m\u001b[0m\u001b[0m\n\u001b[0m",
            "\u001b[0;31mAttributeError\u001b[0m: 'ColorPixel' object has no attribute 'flavor'"
          ]
        }
      ]
    },
    {
      "cell_type": "markdown",
      "source": [
        "## Simple Measure of `__slots__` Savings"
      ],
      "metadata": {
        "id": "nMrru7LCFBFW"
      }
    },
    {
      "cell_type": "code",
      "source": [
        "# vector2d_v3_slots.py\n",
        "from array import array\n",
        "import math\n",
        "\n",
        "class Vector2d:\n",
        "  __match_args__ = ('x', 'y') # class attribute listing the instance attributes in the order\n",
        "                              # they will be used for positional pattern matching\n",
        "  __slots__ = ('__x', '__y')\n",
        "\n",
        "  typecode = 'd' # typecode is a class attr\n",
        "                 # we'll use when converting Vector2d <=> bytes\n",
        "\n",
        "\n",
        "  def __init__(self, x, y):\n",
        "    self.__x = float(x) # converting x to float catches errors early\n",
        "    self.__y = float(y)\n",
        "\n",
        "  @property\n",
        "  def x(self):\n",
        "    return self.__x\n",
        "\n",
        "  @property\n",
        "  def y(self):\n",
        "    return self.__y\n",
        "\n",
        "  def __iter__(self):\n",
        "    \"\"\"\n",
        "    __iter__ makes a Vector2d iterable\n",
        "    \"\"\"\n",
        "    # equivalent to yield self.x; yield self.y\n",
        "    return (i for i in (self.x, self.y))\n",
        "\n",
        "  def __repr__(self):\n",
        "    \"\"\"\n",
        "    __repr__ builds a string by interpolating the components\n",
        "    with {!r} to get their repr; because Vector2d is iterable\n",
        "    *self feeds the x and y component to format\n",
        "    \"\"\"\n",
        "    class_name = type(self).__name__\n",
        "    return '{}({!r}, {!r})'.format(class_name, *self)\n",
        "\n",
        "  def __str__(self):\n",
        "    return str(tuple(self))\n",
        "\n",
        "  def __bytes__(self):\n",
        "    return (bytes([ord(self.typecode)]) +\n",
        "            bytes(array(self.typecode, self)))\n",
        "\n",
        "  # classmethod decorator modifies a method\n",
        "  # so it can be called directly on a class\n",
        "  @classmethod\n",
        "  def frombytes(cls, octets):\n",
        "    typecode = chr(octets[0])\n",
        "    memv = memoryview(octets[1:]).cast(typecode)\n",
        "    return cls(*memv)\n",
        "\n",
        "  def __eq__(self, other):\n",
        "    \"\"\"\n",
        "    To quickly compare all components,\n",
        "    build tuples out of the operands\n",
        "    But there is a side effect:\n",
        "    e.g. Vector(3, 4) == [3, 4]\n",
        "\n",
        "    \"\"\"\n",
        "    return tuple(self) == tuple(other)\n",
        "\n",
        "  def __abs__(self):\n",
        "    return math.hypot(self.x, self.y)\n",
        "\n",
        "  def __bool__(self):\n",
        "    return bool(abs(self))\n",
        "\n",
        "  def angle(self):\n",
        "    return math.atan2(self.y, self.x)\n",
        "\n",
        "  def __format__(self, fmt_spec=''):\n",
        "    if fmt_spec.endswith('p'):\n",
        "      fmt_spec = fmt_spec[:-1]\n",
        "      coords = (abs(self), self.angle())\n",
        "      outer_fmt = '<{}, {}>'\n",
        "    else:\n",
        "      coords = self\n",
        "      outer_fmt = '({}, {})'\n",
        "    components = (format(c, fmt_spec) for c in coords)\n",
        "    return outer_fmt.format(*components)\n",
        "\n",
        "  def __hash__(self):\n",
        "    return hash((self.x, self.y))"
      ],
      "metadata": {
        "id": "kgG8ZdAlEoZ6"
      },
      "execution_count": 74,
      "outputs": []
    },
    {
      "cell_type": "code",
      "source": [
        "v1 = Vector2d(1.1, 2.2)\n",
        "dumpd = bytes(v1)"
      ],
      "metadata": {
        "id": "woI1N-ywFOWB"
      },
      "execution_count": 75,
      "outputs": []
    },
    {
      "cell_type": "code",
      "source": [
        "dumpd"
      ],
      "metadata": {
        "colab": {
          "base_uri": "https://localhost:8080/"
        },
        "id": "0NDbfvnYGddx",
        "outputId": "bff523d4-8c5b-48a5-b58f-99c87a389dda"
      },
      "execution_count": 76,
      "outputs": [
        {
          "output_type": "execute_result",
          "data": {
            "text/plain": [
              "b'd\\x9a\\x99\\x99\\x99\\x99\\x99\\xf1?\\x9a\\x99\\x99\\x99\\x99\\x99\\x01@'"
            ]
          },
          "metadata": {},
          "execution_count": 76
        }
      ]
    },
    {
      "cell_type": "code",
      "source": [
        "len(dumpd)"
      ],
      "metadata": {
        "colab": {
          "base_uri": "https://localhost:8080/"
        },
        "id": "m9-KZaaeGd7B",
        "outputId": "383d3efb-ce2a-4f55-c948-0cc67b051ea5"
      },
      "execution_count": 77,
      "outputs": [
        {
          "output_type": "execute_result",
          "data": {
            "text/plain": [
              "17"
            ]
          },
          "metadata": {},
          "execution_count": 77
        }
      ]
    },
    {
      "cell_type": "code",
      "source": [
        "v1.typecode = 'f'"
      ],
      "metadata": {
        "colab": {
          "base_uri": "https://localhost:8080/",
          "height": 149
        },
        "id": "NrWJsJxlGfMQ",
        "outputId": "5729575b-ae39-421b-a811-93ffefd7e0a0"
      },
      "execution_count": 78,
      "outputs": [
        {
          "output_type": "error",
          "ename": "AttributeError",
          "evalue": "'Vector2d' object attribute 'typecode' is read-only",
          "traceback": [
            "\u001b[0;31m---------------------------------------------------------------------------\u001b[0m",
            "\u001b[0;31mAttributeError\u001b[0m                            Traceback (most recent call last)",
            "\u001b[0;32m<ipython-input-78-7a26a4d1bf11>\u001b[0m in \u001b[0;36m<cell line: 1>\u001b[0;34m()\u001b[0m\n\u001b[0;32m----> 1\u001b[0;31m \u001b[0mv1\u001b[0m\u001b[0;34m.\u001b[0m\u001b[0mtypecode\u001b[0m \u001b[0;34m=\u001b[0m \u001b[0;34m'f'\u001b[0m\u001b[0;34m\u001b[0m\u001b[0;34m\u001b[0m\u001b[0m\n\u001b[0m",
            "\u001b[0;31mAttributeError\u001b[0m: 'Vector2d' object attribute 'typecode' is read-only"
          ]
        }
      ]
    },
    {
      "cell_type": "code",
      "source": [
        "class ShortVector2d(Vector2d):\n",
        "  typecode = 'f'"
      ],
      "metadata": {
        "id": "cyERuJ2xGgkR"
      },
      "execution_count": 79,
      "outputs": []
    },
    {
      "cell_type": "code",
      "source": [
        "sv = ShortVector2d(1/11, 1/27)"
      ],
      "metadata": {
        "id": "GKcx-id6HFlZ"
      },
      "execution_count": 80,
      "outputs": []
    },
    {
      "cell_type": "code",
      "source": [
        "sv"
      ],
      "metadata": {
        "colab": {
          "base_uri": "https://localhost:8080/"
        },
        "id": "brq2VvxRHHc5",
        "outputId": "a5aca063-0d21-49d0-ed86-f670d1612048"
      },
      "execution_count": 81,
      "outputs": [
        {
          "output_type": "execute_result",
          "data": {
            "text/plain": [
              "ShortVector2d(0.09090909090909091, 0.037037037037037035)"
            ]
          },
          "metadata": {},
          "execution_count": 81
        }
      ]
    },
    {
      "cell_type": "code",
      "source": [
        "len(bytes(sv))"
      ],
      "metadata": {
        "colab": {
          "base_uri": "https://localhost:8080/"
        },
        "id": "6PKw9g01HH_o",
        "outputId": "acaa950e-705f-4718-aad0-58a19ac12938"
      },
      "execution_count": 82,
      "outputs": [
        {
          "output_type": "execute_result",
          "data": {
            "text/plain": [
              "9"
            ]
          },
          "metadata": {},
          "execution_count": 82
        }
      ]
    },
    {
      "cell_type": "code",
      "source": [],
      "metadata": {
        "id": "GgIGsvtgHJ1h"
      },
      "execution_count": null,
      "outputs": []
    }
  ]
}