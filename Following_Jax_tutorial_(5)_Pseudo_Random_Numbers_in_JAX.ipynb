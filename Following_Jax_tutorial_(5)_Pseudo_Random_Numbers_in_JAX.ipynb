{
  "nbformat": 4,
  "nbformat_minor": 0,
  "metadata": {
    "colab": {
      "provenance": [],
      "authorship_tag": "ABX9TyMS1Dh9+IrI4BcOQPfgGGTm",
      "include_colab_link": true
    },
    "kernelspec": {
      "name": "python3",
      "display_name": "Python 3"
    },
    "language_info": {
      "name": "python"
    }
  },
  "cells": [
    {
      "cell_type": "markdown",
      "metadata": {
        "id": "view-in-github",
        "colab_type": "text"
      },
      "source": [
        "<a href=\"https://colab.research.google.com/github/present42/PyTorchPractice/blob/main/Following_Jax_tutorial_(5)_Pseudo_Random_Numbers_in_JAX.ipynb\" target=\"_parent\"><img src=\"https://colab.research.google.com/assets/colab-badge.svg\" alt=\"Open In Colab\"/></a>"
      ]
    },
    {
      "cell_type": "markdown",
      "source": [
        "## Random numbers in NumPy\n",
        "\n",
        "In NumPy, pseudo-random number generation is based on a global `state`"
      ],
      "metadata": {
        "id": "R2-ZXhuDDRc7"
      }
    },
    {
      "cell_type": "code",
      "execution_count": 1,
      "metadata": {
        "id": "m80iWsZLCwgz"
      },
      "outputs": [],
      "source": [
        "import numpy as np\n",
        "np.random.seed(0) # random.seed(SEED)"
      ]
    },
    {
      "cell_type": "code",
      "source": [
        "def print_truncated_random_state():\n",
        "  full_random_state = np.random.get_state()\n",
        "  print(str(full_random_state)[:460], \"...\")"
      ],
      "metadata": {
        "id": "5XU4nc7LDgrx"
      },
      "execution_count": 2,
      "outputs": []
    },
    {
      "cell_type": "code",
      "source": [
        "print_truncated_random_state()"
      ],
      "metadata": {
        "colab": {
          "base_uri": "https://localhost:8080/"
        },
        "id": "bzWKnaL4Doqy",
        "outputId": "ea9cfc3e-04d3-4fef-cdf2-8cc71cd17d75"
      },
      "execution_count": 3,
      "outputs": [
        {
          "output_type": "stream",
          "name": "stdout",
          "text": [
            "('MT19937', array([         0,          1, 1812433255, 1900727105, 1208447044,\n",
            "       2481403966, 4042607538,  337614300, 3232553940, 1018809052,\n",
            "       3202401494, 1775180719, 3192392114,  594215549,  184016991,\n",
            "        829906058,  610491522, 3879932251, 3139825610,  297902587,\n",
            "       4075895579, 2943625357, 3530655617, 1423771745, 2135928312,\n",
            "       2891506774, 1066338622,  135451537,  933040465, 2759011858,\n",
            "       2273819758, 3545703099, 2516396728, 127 ...\n"
          ]
        }
      ]
    },
    {
      "cell_type": "markdown",
      "source": [
        "The `state` is updated by each call to a random function:"
      ],
      "metadata": {
        "id": "0ppzoCnFDt6S"
      }
    },
    {
      "cell_type": "code",
      "source": [
        "np.random.seed(0)\n",
        "\n",
        "print_truncated_random_state()\n",
        "\n",
        "_ = np.random.uniform()\n",
        "\n",
        "print_truncated_random_state()"
      ],
      "metadata": {
        "colab": {
          "base_uri": "https://localhost:8080/"
        },
        "id": "sbkjl68BDqeg",
        "outputId": "dc8942b0-6908-457f-e410-ea503c6dd7fe"
      },
      "execution_count": 4,
      "outputs": [
        {
          "output_type": "stream",
          "name": "stdout",
          "text": [
            "('MT19937', array([         0,          1, 1812433255, 1900727105, 1208447044,\n",
            "       2481403966, 4042607538,  337614300, 3232553940, 1018809052,\n",
            "       3202401494, 1775180719, 3192392114,  594215549,  184016991,\n",
            "        829906058,  610491522, 3879932251, 3139825610,  297902587,\n",
            "       4075895579, 2943625357, 3530655617, 1423771745, 2135928312,\n",
            "       2891506774, 1066338622,  135451537,  933040465, 2759011858,\n",
            "       2273819758, 3545703099, 2516396728, 127 ...\n",
            "('MT19937', array([2443250962, 1093594115, 1878467924, 2709361018, 1101979660,\n",
            "       3904844661,  676747479, 2085143622, 1056793272, 3812477442,\n",
            "       2168787041,  275552121, 2696932952, 3432054210, 1657102335,\n",
            "       3518946594,  962584079, 1051271004, 3806145045, 1414436097,\n",
            "       2032348584, 1661738718, 1116708477, 2562755208, 3176189976,\n",
            "        696824676, 2399811678, 3992505346,  569184356, 2626558620,\n",
            "        136797809, 4273176064,  296167901, 343 ...\n"
          ]
        }
      ]
    },
    {
      "cell_type": "code",
      "source": [
        "np.random.seed(0)\n",
        "print(np.random.uniform(size=3))"
      ],
      "metadata": {
        "colab": {
          "base_uri": "https://localhost:8080/"
        },
        "id": "e09Zucu9D2Aa",
        "outputId": "75ccc4f8-842b-4f36-f0c7-d95ae9ba6757"
      },
      "execution_count": 6,
      "outputs": [
        {
          "output_type": "stream",
          "name": "stdout",
          "text": [
            "[0.5488135  0.71518937 0.60276338]\n"
          ]
        }
      ]
    },
    {
      "cell_type": "markdown",
      "source": [
        "NumPy provides a sequential equivalent guarantee, meaning that sampling N numbers in a row individually or sampling a vector of N numbers results in the same psuedo-random sequences:"
      ],
      "metadata": {
        "id": "CiVM9XAREEhg"
      }
    },
    {
      "cell_type": "code",
      "source": [
        "np.random.seed(0)\n",
        "print(\"individually:\", np.stack([np.random.uniform() for _ in range(3)]))\n",
        "\n",
        "np.random.seed(0)\n",
        "print(\"all at once: \", np.random.uniform(size=3))"
      ],
      "metadata": {
        "colab": {
          "base_uri": "https://localhost:8080/"
        },
        "id": "SvILh6AID-th",
        "outputId": "48f55e81-d610-48c0-8674-9bdc57ad79b5"
      },
      "execution_count": 8,
      "outputs": [
        {
          "output_type": "stream",
          "name": "stdout",
          "text": [
            "individually: [0.5488135  0.71518937 0.60276338]\n",
            "all at once:  [0.5488135  0.71518937 0.60276338]\n"
          ]
        }
      ]
    },
    {
      "cell_type": "markdown",
      "source": [
        "## Random Numbers in JAX\n",
        "\n",
        "Why it's different? NumPy's PRNG design makes it hard to simultaneously guarantee a number of desirable properties for JAX, specifically that code must be:\n",
        "1. reproducible\n",
        "2. parallelizable\n",
        "3. vectorizable"
      ],
      "metadata": {
        "id": "135Wapx-EeWm"
      }
    },
    {
      "cell_type": "code",
      "source": [
        "import numpy as np\n",
        "\n",
        "np.random.seed(0)\n",
        "\n",
        "def bar(): return np.random.uniform()\n",
        "def baz(): return np.random.uniform()\n",
        "\n",
        "def foo(): return bar() + 2 * baz()\n",
        "\n",
        "print(foo())"
      ],
      "metadata": {
        "colab": {
          "base_uri": "https://localhost:8080/"
        },
        "id": "ohpAU89aEBNJ",
        "outputId": "0ff405ea-0255-47f7-ca0b-f115bf060b53"
      },
      "execution_count": 9,
      "outputs": [
        {
          "output_type": "stream",
          "name": "stdout",
          "text": [
            "1.9791922366721637\n"
          ]
        }
      ]
    },
    {
      "cell_type": "markdown",
      "source": [
        "Making this code reproducible in JAX would require enforcing this specific order of execution. This would violate requirement #2, as JAX should be able to parallelize `bar` and `baz` when jitting as these functions don't actually depend on each other.\n",
        "\n",
        "So, JAX does not use a global state. Instead, random functions explicitly consume the state, which is referred to as a `key`."
      ],
      "metadata": {
        "id": "oLif9lhTE-tz"
      }
    },
    {
      "cell_type": "code",
      "source": [
        "from jax import random\n",
        "key = random.key(42)\n",
        "\n",
        "print(key) # a single key is an array of scalar shape () and key element type"
      ],
      "metadata": {
        "colab": {
          "base_uri": "https://localhost:8080/"
        },
        "id": "xRZd1_LsE1cA",
        "outputId": "1dc16a27-2eab-46fa-8fa4-d406620dc69c"
      },
      "execution_count": 10,
      "outputs": [
        {
          "output_type": "stream",
          "name": "stdout",
          "text": [
            "Array((), dtype=key<fry>) overlaying:\n",
            "[ 0 42]\n"
          ]
        }
      ]
    },
    {
      "cell_type": "markdown",
      "source": [
        "'Random key' is essentially just another word for 'random seed'. However, any call of a random function in JAX requires a key to be specified."
      ],
      "metadata": {
        "id": "SFL954g1Fi8j"
      }
    },
    {
      "cell_type": "code",
      "source": [
        "print(random.normal(key))\n",
        "print(random.normal(key))"
      ],
      "metadata": {
        "colab": {
          "base_uri": "https://localhost:8080/"
        },
        "id": "SiPRGyRQFUsY",
        "outputId": "1aa22b48-0c61-41fc-9484-9597667ef205"
      },
      "execution_count": 11,
      "outputs": [
        {
          "output_type": "stream",
          "name": "stdout",
          "text": [
            "-0.18471177\n",
            "-0.18471177\n"
          ]
        }
      ]
    },
    {
      "cell_type": "markdown",
      "source": [
        "**Rule of thumb**\n",
        " - Never reuse keys unless you want identical values"
      ],
      "metadata": {
        "id": "t82fqmc8Fw9J"
      }
    },
    {
      "cell_type": "code",
      "source": [
        "print('old key', key)\n",
        "new_key, subkey = random.split(key)\n",
        "del key # old key must be discarded\n",
        "normal_sample = random.normal(subkey)\n",
        "\n",
        "print(r\"    \\--SPLIT --> new key   \", new_key)\n",
        "print(r\"            \\--> new subkey\", subkey, '--> normal', normal_sample)\n",
        "del subkey\n",
        "\n",
        "key = new_key"
      ],
      "metadata": {
        "colab": {
          "base_uri": "https://localhost:8080/"
        },
        "id": "eMtpk1-3FsyB",
        "outputId": "097f3597-5790-4e0b-ad34-c34e28a71e4a"
      },
      "execution_count": 12,
      "outputs": [
        {
          "output_type": "stream",
          "name": "stdout",
          "text": [
            "old key Array((), dtype=key<fry>) overlaying:\n",
            "[ 0 42]\n",
            "    \\--SPLIT --> new key    Array((), dtype=key<fry>) overlaying:\n",
            "[2465931498 3679230171]\n",
            "            \\--> new subkey Array((), dtype=key<fry>) overlaying:\n",
            "[255383827 267815257] --> normal 1.3694694\n"
          ]
        }
      ]
    },
    {
      "cell_type": "code",
      "source": [
        "# concise way to write the above code\n",
        "key, subkey = random.split(key)"
      ],
      "metadata": {
        "id": "bq9n4PeyGReQ"
      },
      "execution_count": null,
      "outputs": []
    },
    {
      "cell_type": "code",
      "source": [
        "key, *forty_two_subkeys = random.split(key, num=43)"
      ],
      "metadata": {
        "id": "o0vCN0XzGrG_"
      },
      "execution_count": 13,
      "outputs": []
    },
    {
      "cell_type": "code",
      "source": [
        "len(forty_two_subkeys)"
      ],
      "metadata": {
        "colab": {
          "base_uri": "https://localhost:8080/"
        },
        "id": "bBInAjfAGtlw",
        "outputId": "61d4e496-9941-44f3-9c17-54cc5c4572bd"
      },
      "execution_count": 15,
      "outputs": [
        {
          "output_type": "execute_result",
          "data": {
            "text/plain": [
              "42"
            ]
          },
          "metadata": {},
          "execution_count": 15
        }
      ]
    },
    {
      "cell_type": "markdown",
      "source": [
        "## Note\n",
        "As in NumPy, JAX's random module also allows sampling of vectors of numbers. However, JAX does not provide a sequential equivalence guarantee, because doing so would interfere with the vectorization on SIMD hardware."
      ],
      "metadata": {
        "id": "zauHYs0xHHCS"
      }
    },
    {
      "cell_type": "code",
      "source": [
        "key = random.key(42)\n",
        "subkeys = random.split(key, 3)\n",
        "sequence = np.stack([random.normal(subkey) for subkey in subkeys])\n",
        "print(sequence)\n",
        "\n",
        "key = random.key(42)\n",
        "print(random.normal(key, shape=(3, )))"
      ],
      "metadata": {
        "colab": {
          "base_uri": "https://localhost:8080/"
        },
        "id": "hOqhU0F-Guop",
        "outputId": "94414b87-37d6-4fb9-db26-cf31a33b4659"
      },
      "execution_count": 16,
      "outputs": [
        {
          "output_type": "stream",
          "name": "stdout",
          "text": [
            "[-0.04838832  0.10796154 -1.2226542 ]\n",
            "[ 0.18693547 -1.2806505  -1.5593132 ]\n"
          ]
        }
      ]
    },
    {
      "cell_type": "code",
      "source": [],
      "metadata": {
        "id": "FwlXPAoMHgGP"
      },
      "execution_count": null,
      "outputs": []
    }
  ]
}