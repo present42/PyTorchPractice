{
  "nbformat": 4,
  "nbformat_minor": 0,
  "metadata": {
    "colab": {
      "provenance": [],
      "authorship_tag": "ABX9TyN4+j4GIjItVAnw9g4bRG9f",
      "include_colab_link": true
    },
    "kernelspec": {
      "name": "python3",
      "display_name": "Python 3"
    },
    "language_info": {
      "name": "python"
    }
  },
  "cells": [
    {
      "cell_type": "markdown",
      "metadata": {
        "id": "view-in-github",
        "colab_type": "text"
      },
      "source": [
        "<a href=\"https://colab.research.google.com/github/present42/PyTorchPractice/blob/main/Fluent_Python_ch4.ipynb\" target=\"_parent\"><img src=\"https://colab.research.google.com/assets/colab-badge.svg\" alt=\"Open In Colab\"/></a>"
      ]
    },
    {
      "cell_type": "markdown",
      "source": [
        "Python 3 introduced a sharp distinction between strings of human text and sequence of raw bytes.\n",
        "\n",
        "Main topic\n",
        " - Unicode strings\n",
        " - binary sequences\n",
        " - encoding used to convert between them"
      ],
      "metadata": {
        "id": "NWynYvXIhZbJ"
      }
    },
    {
      "cell_type": "markdown",
      "source": [
        "The Unicode standard explicitly separates the identity of characters from specific byte representations:\n",
        " * The identity of a character--its code point--is a number from 0, to 1,114,111 shown in the Unicode as 4 to 6 hex digits with a \"U+\" prefix.\n",
        " * Actual bytes that represent a character depend on the *encoding* in use"
      ],
      "metadata": {
        "id": "siWhCZFhiLZW"
      }
    },
    {
      "cell_type": "code",
      "execution_count": null,
      "metadata": {
        "colab": {
          "base_uri": "https://localhost:8080/"
        },
        "id": "5dZW2YulhN9q",
        "outputId": "ff1a0f26-d33b-4b3a-da16-9dbfaa6c8bc7"
      },
      "outputs": [
        {
          "output_type": "execute_result",
          "data": {
            "text/plain": [
              "4"
            ]
          },
          "metadata": {},
          "execution_count": 1
        }
      ],
      "source": [
        "s = 'café' # str café has 4 unicode characters\n",
        "len(s)"
      ]
    },
    {
      "cell_type": "code",
      "source": [
        "b = s.encode('utf8') # Encode str to bytes using UTF-8 encoding\n",
        "b"
      ],
      "metadata": {
        "colab": {
          "base_uri": "https://localhost:8080/"
        },
        "id": "IMzSshEei8TC",
        "outputId": "3a10b6e1-7e3c-4c2c-fbc0-2abdae2d3e2c"
      },
      "execution_count": null,
      "outputs": [
        {
          "output_type": "execute_result",
          "data": {
            "text/plain": [
              "b'caf\\xc3\\xa9'"
            ]
          },
          "metadata": {},
          "execution_count": 2
        }
      ]
    },
    {
      "cell_type": "code",
      "source": [
        "len(b)"
      ],
      "metadata": {
        "colab": {
          "base_uri": "https://localhost:8080/"
        },
        "id": "egofm9fMi-Fl",
        "outputId": "5f4c4b31-a745-4fc6-ee90-0c4b1eeb5824"
      },
      "execution_count": null,
      "outputs": [
        {
          "output_type": "execute_result",
          "data": {
            "text/plain": [
              "5"
            ]
          },
          "metadata": {},
          "execution_count": 3
        }
      ]
    },
    {
      "cell_type": "code",
      "source": [
        "b.decode('utf8')"
      ],
      "metadata": {
        "colab": {
          "base_uri": "https://localhost:8080/",
          "height": 36
        },
        "id": "bFoZPO6sjAfK",
        "outputId": "cfb67594-531e-424b-b681-1b5e72a7b8a5"
      },
      "execution_count": null,
      "outputs": [
        {
          "output_type": "execute_result",
          "data": {
            "text/plain": [
              "'café'"
            ],
            "application/vnd.google.colaboratory.intrinsic+json": {
              "type": "string"
            }
          },
          "metadata": {},
          "execution_count": 4
        }
      ]
    },
    {
      "cell_type": "markdown",
      "source": [
        "## Byte Essentials\n",
        " 1. There are 2 basic built-in types for binary sequences: immutable `bytes` type and mutable `bytearray`.\n",
        " 2. Each item in `bytes` or `bytearray` is an integer from 0 to 255 and not a one-character string like in the Python 2 `str`."
      ],
      "metadata": {
        "id": "Zr_qLFC7je7e"
      }
    },
    {
      "cell_type": "code",
      "source": [
        "cafe = bytes('café', encoding='utf_8')\n",
        "cafe"
      ],
      "metadata": {
        "colab": {
          "base_uri": "https://localhost:8080/"
        },
        "id": "8ztpSgC5jegp",
        "outputId": "f1f92573-1301-49c8-d7dc-64dafc65a4fd"
      },
      "execution_count": null,
      "outputs": [
        {
          "output_type": "execute_result",
          "data": {
            "text/plain": [
              "b'caf\\xc3\\xa9'"
            ]
          },
          "metadata": {},
          "execution_count": 5
        }
      ]
    },
    {
      "cell_type": "code",
      "source": [
        "cafe[0] # each itemr is an integer in range(256)"
      ],
      "metadata": {
        "colab": {
          "base_uri": "https://localhost:8080/"
        },
        "id": "jG6Md6-TjCOe",
        "outputId": "3811a935-b896-430f-d299-87b4093abb70"
      },
      "execution_count": null,
      "outputs": [
        {
          "output_type": "execute_result",
          "data": {
            "text/plain": [
              "99"
            ]
          },
          "metadata": {},
          "execution_count": 6
        }
      ]
    },
    {
      "cell_type": "code",
      "source": [
        "cafe[:1] # slices of bytes are also bytes"
      ],
      "metadata": {
        "colab": {
          "base_uri": "https://localhost:8080/"
        },
        "id": "Rq3G4sQ9kVA2",
        "outputId": "655e1e0f-a830-407b-adf3-b89faa032e20"
      },
      "execution_count": null,
      "outputs": [
        {
          "output_type": "execute_result",
          "data": {
            "text/plain": [
              "b'c'"
            ]
          },
          "metadata": {},
          "execution_count": 7
        }
      ]
    },
    {
      "cell_type": "code",
      "source": [
        "cafe_arr = bytearray(cafe)\n",
        "cafe_arr # no literal syntax for bytearray"
      ],
      "metadata": {
        "colab": {
          "base_uri": "https://localhost:8080/"
        },
        "id": "Rj6TYLXokWl5",
        "outputId": "c1986484-a755-4d36-9c45-e2b445975f8c"
      },
      "execution_count": null,
      "outputs": [
        {
          "output_type": "execute_result",
          "data": {
            "text/plain": [
              "bytearray(b'caf\\xc3\\xa9')"
            ]
          },
          "metadata": {},
          "execution_count": 8
        }
      ]
    },
    {
      "cell_type": "code",
      "source": [
        "cafe_arr[-1:] # slices of bytearray are also bytearray"
      ],
      "metadata": {
        "colab": {
          "base_uri": "https://localhost:8080/"
        },
        "id": "hWvNVpSBkgjm",
        "outputId": "222e3439-65e0-4596-b85b-d77d5112af73"
      },
      "execution_count": null,
      "outputs": [
        {
          "output_type": "execute_result",
          "data": {
            "text/plain": [
              "bytearray(b'\\xa9')"
            ]
          },
          "metadata": {},
          "execution_count": 9
        }
      ]
    },
    {
      "cell_type": "markdown",
      "source": [
        "Although binary sequences are really sequences of integers, their literal notation reflects the fact that ASCII text is often embedded in them.\n",
        " - For bytes with decimal codes 32 to 126 (from space to `~`), the ASCII character itself is used\n",
        " - For bytes corresponding to tab, newline, carriage return, and `\\` the escape sequences `\\t`, `\\n`, `\\r`, `\\\\` are used.\n",
        " - If both string delimiters `'` and `\"` appear in the byte sequences, the whole sequence is delimited by `'`, and andy `'` inside are escaped as `\\'`"
      ],
      "metadata": {
        "id": "y7j_em-Tk6ok"
      }
    },
    {
      "cell_type": "code",
      "source": [
        "test = \"Hi there, \\'test for encoding''\"\n",
        "bytes(test, 'utf_8')"
      ],
      "metadata": {
        "colab": {
          "base_uri": "https://localhost:8080/"
        },
        "id": "SdU9l0ndk6Yu",
        "outputId": "a7225f7b-5a73-4af8-a98c-ede822ab2af0"
      },
      "execution_count": null,
      "outputs": [
        {
          "output_type": "execute_result",
          "data": {
            "text/plain": [
              "b\"Hi there, 'test for encoding''\""
            ]
          },
          "metadata": {},
          "execution_count": 14
        }
      ]
    },
    {
      "cell_type": "markdown",
      "source": [
        "### Note\n",
        "Both `bytes` and `bytearray` support every `str` method except those that do formatting and those that depend on Unicode data. In addition, the regular expression functions in the `re` module also work on binary sequences."
      ],
      "metadata": {
        "id": "csgxYx95mEoD"
      }
    },
    {
      "cell_type": "markdown",
      "source": [
        "Binary sequences have a class method that `str` doesn't have, called `fromhex`, which builds a binary sequence by parsing pairs of hex digits optionally separted by spaces.\n",
        "\n",
        "Another way of building `bytes` or `bytearray`:\n",
        " 1. An iterable providing items with values from 0 to 255\n",
        " 2. An object that implements the buffer protocol that copies the bytes from the source object to the newly created binary sequence."
      ],
      "metadata": {
        "id": "UX2cuLm2mciD"
      }
    },
    {
      "cell_type": "code",
      "source": [
        "bytes.fromhex('31 4B CE A9')"
      ],
      "metadata": {
        "colab": {
          "base_uri": "https://localhost:8080/"
        },
        "id": "B7s_TTUymRjE",
        "outputId": "032fe930-23cf-47d8-b20c-83ce862315b3"
      },
      "execution_count": null,
      "outputs": [
        {
          "output_type": "execute_result",
          "data": {
            "text/plain": [
              "b'1K\\xce\\xa9'"
            ]
          },
          "metadata": {},
          "execution_count": 15
        }
      ]
    },
    {
      "cell_type": "code",
      "source": [
        "import array\n",
        "numbers = array.array('h', [-2, -1, 0, 1, 2]) # Typecode 'h' creates an array of short integers (16 bits = 2 byte)\n",
        "octets = bytes(numbers)\n",
        "octets"
      ],
      "metadata": {
        "colab": {
          "base_uri": "https://localhost:8080/"
        },
        "id": "975cWD8jklQY",
        "outputId": "b5c96629-8abe-462b-acfc-254bd3f02d66"
      },
      "execution_count": null,
      "outputs": [
        {
          "output_type": "execute_result",
          "data": {
            "text/plain": [
              "b'\\xfe\\xff\\xff\\xff\\x00\\x00\\x01\\x00\\x02\\x00'"
            ]
          },
          "metadata": {},
          "execution_count": 16
        }
      ]
    },
    {
      "cell_type": "markdown",
      "source": [
        "## Basic Encoders / Decoders\n",
        "The python distribution bundles more than 100 codecs for text to byte conversion and vice versa."
      ],
      "metadata": {
        "id": "OjKYNVPGnNiB"
      }
    },
    {
      "cell_type": "code",
      "source": [
        "for codec in ['latin_1', 'utf_8', 'utf_16']:\n",
        "  print(codec, 'El Niño'.encode(codec), sep='\\t')"
      ],
      "metadata": {
        "colab": {
          "base_uri": "https://localhost:8080/"
        },
        "id": "El0Vm8sim5Rs",
        "outputId": "eecd20c3-a2e7-4614-d403-7c477f29a2b8"
      },
      "execution_count": null,
      "outputs": [
        {
          "output_type": "stream",
          "name": "stdout",
          "text": [
            "latin_1\tb'El Ni\\xf1o'\n",
            "utf_8\tb'El Ni\\xc3\\xb1o'\n",
            "utf_16\tb'\\xff\\xfeE\\x00l\\x00 \\x00N\\x00i\\x00\\xf1\\x00o\\x00'\n"
          ]
        }
      ]
    },
    {
      "cell_type": "code",
      "source": [
        "print(\"气\".encode('latin1'))"
      ],
      "metadata": {
        "colab": {
          "base_uri": "https://localhost:8080/",
          "height": 149
        },
        "id": "9_znP-oQn1GS",
        "outputId": "cdbad5eb-d980-48af-d5df-7a2184c1dcbf"
      },
      "execution_count": null,
      "outputs": [
        {
          "output_type": "error",
          "ename": "UnicodeEncodeError",
          "evalue": "'latin-1' codec can't encode character '\\u6c14' in position 0: ordinal not in range(256)",
          "traceback": [
            "\u001b[0;31m---------------------------------------------------------------------------\u001b[0m",
            "\u001b[0;31mUnicodeEncodeError\u001b[0m                        Traceback (most recent call last)",
            "\u001b[0;32m<ipython-input-21-efcc8a797830>\u001b[0m in \u001b[0;36m<cell line: 1>\u001b[0;34m()\u001b[0m\n\u001b[0;32m----> 1\u001b[0;31m \u001b[0mprint\u001b[0m\u001b[0;34m(\u001b[0m\u001b[0;34m\"气\"\u001b[0m\u001b[0;34m.\u001b[0m\u001b[0mencode\u001b[0m\u001b[0;34m(\u001b[0m\u001b[0;34m'latin1'\u001b[0m\u001b[0;34m)\u001b[0m\u001b[0;34m)\u001b[0m\u001b[0;34m\u001b[0m\u001b[0;34m\u001b[0m\u001b[0m\n\u001b[0m",
            "\u001b[0;31mUnicodeEncodeError\u001b[0m: 'latin-1' codec can't encode character '\\u6c14' in position 0: ordinal not in range(256)"
          ]
        }
      ]
    },
    {
      "cell_type": "code",
      "source": [
        "city = 'São Paulo'\n",
        "city.encode('utf-8')"
      ],
      "metadata": {
        "id": "P1BFTIvpoFRc",
        "colab": {
          "base_uri": "https://localhost:8080/"
        },
        "outputId": "08e8c7d1-d493-43cd-bc33-c725d652925e"
      },
      "execution_count": null,
      "outputs": [
        {
          "output_type": "execute_result",
          "data": {
            "text/plain": [
              "b'S\\xc3\\xa3o Paulo'"
            ]
          },
          "metadata": {},
          "execution_count": 1
        }
      ]
    },
    {
      "cell_type": "code",
      "source": [
        "city.encode('utf-16')"
      ],
      "metadata": {
        "colab": {
          "base_uri": "https://localhost:8080/"
        },
        "id": "MT97nnUhjkdg",
        "outputId": "9a259dfe-04d6-4df5-e3e3-3962a6930ac6"
      },
      "execution_count": null,
      "outputs": [
        {
          "output_type": "execute_result",
          "data": {
            "text/plain": [
              "b'\\xff\\xfeS\\x00\\xe3\\x00o\\x00 \\x00P\\x00a\\x00u\\x00l\\x00o\\x00'"
            ]
          },
          "metadata": {},
          "execution_count": 2
        }
      ]
    },
    {
      "cell_type": "code",
      "source": [
        "city.encode('iso8859_1')"
      ],
      "metadata": {
        "colab": {
          "base_uri": "https://localhost:8080/"
        },
        "id": "KP9AeJE3jnF-",
        "outputId": "7b076dcb-6f6e-432a-97c0-e7f93e0efc8a"
      },
      "execution_count": null,
      "outputs": [
        {
          "output_type": "execute_result",
          "data": {
            "text/plain": [
              "b'S\\xe3o Paulo'"
            ]
          },
          "metadata": {},
          "execution_count": 4
        }
      ]
    },
    {
      "cell_type": "code",
      "source": [
        "city.encode('cp437')"
      ],
      "metadata": {
        "colab": {
          "base_uri": "https://localhost:8080/",
          "height": 280
        },
        "id": "TiWqdFlrjq5-",
        "outputId": "b12ab37c-29d7-477e-d471-4522b21fec6b"
      },
      "execution_count": null,
      "outputs": [
        {
          "output_type": "error",
          "ename": "UnicodeEncodeError",
          "evalue": "'charmap' codec can't encode character '\\xe3' in position 1: character maps to <undefined>",
          "traceback": [
            "\u001b[0;31m---------------------------------------------------------------------------\u001b[0m",
            "\u001b[0;31mUnicodeEncodeError\u001b[0m                        Traceback (most recent call last)",
            "\u001b[0;32m<ipython-input-5-064a572fd5b6>\u001b[0m in \u001b[0;36m<cell line: 1>\u001b[0;34m()\u001b[0m\n\u001b[0;32m----> 1\u001b[0;31m \u001b[0mcity\u001b[0m\u001b[0;34m.\u001b[0m\u001b[0mencode\u001b[0m\u001b[0;34m(\u001b[0m\u001b[0;34m'cp437'\u001b[0m\u001b[0;34m)\u001b[0m\u001b[0;34m\u001b[0m\u001b[0;34m\u001b[0m\u001b[0m\n\u001b[0m",
            "\u001b[0;32m/usr/lib/python3.10/encodings/cp437.py\u001b[0m in \u001b[0;36mencode\u001b[0;34m(self, input, errors)\u001b[0m\n\u001b[1;32m     10\u001b[0m \u001b[0;34m\u001b[0m\u001b[0m\n\u001b[1;32m     11\u001b[0m     \u001b[0;32mdef\u001b[0m \u001b[0mencode\u001b[0m\u001b[0;34m(\u001b[0m\u001b[0mself\u001b[0m\u001b[0;34m,\u001b[0m\u001b[0minput\u001b[0m\u001b[0;34m,\u001b[0m\u001b[0merrors\u001b[0m\u001b[0;34m=\u001b[0m\u001b[0;34m'strict'\u001b[0m\u001b[0;34m)\u001b[0m\u001b[0;34m:\u001b[0m\u001b[0;34m\u001b[0m\u001b[0;34m\u001b[0m\u001b[0m\n\u001b[0;32m---> 12\u001b[0;31m         \u001b[0;32mreturn\u001b[0m \u001b[0mcodecs\u001b[0m\u001b[0;34m.\u001b[0m\u001b[0mcharmap_encode\u001b[0m\u001b[0;34m(\u001b[0m\u001b[0minput\u001b[0m\u001b[0;34m,\u001b[0m\u001b[0merrors\u001b[0m\u001b[0;34m,\u001b[0m\u001b[0mencoding_map\u001b[0m\u001b[0;34m)\u001b[0m\u001b[0;34m\u001b[0m\u001b[0;34m\u001b[0m\u001b[0m\n\u001b[0m\u001b[1;32m     13\u001b[0m \u001b[0;34m\u001b[0m\u001b[0m\n\u001b[1;32m     14\u001b[0m     \u001b[0;32mdef\u001b[0m \u001b[0mdecode\u001b[0m\u001b[0;34m(\u001b[0m\u001b[0mself\u001b[0m\u001b[0;34m,\u001b[0m\u001b[0minput\u001b[0m\u001b[0;34m,\u001b[0m\u001b[0merrors\u001b[0m\u001b[0;34m=\u001b[0m\u001b[0;34m'strict'\u001b[0m\u001b[0;34m)\u001b[0m\u001b[0;34m:\u001b[0m\u001b[0;34m\u001b[0m\u001b[0;34m\u001b[0m\u001b[0m\n",
            "\u001b[0;31mUnicodeEncodeError\u001b[0m: 'charmap' codec can't encode character '\\xe3' in position 1: character maps to <undefined>"
          ]
        }
      ]
    },
    {
      "cell_type": "code",
      "source": [
        "city.encode('cp437', errors='ignore')"
      ],
      "metadata": {
        "colab": {
          "base_uri": "https://localhost:8080/"
        },
        "id": "e_O9lJKlnvqc",
        "outputId": "c099e17a-40d5-47bc-8e70-c42b6b221256"
      },
      "execution_count": null,
      "outputs": [
        {
          "output_type": "execute_result",
          "data": {
            "text/plain": [
              "b'So Paulo'"
            ]
          },
          "metadata": {},
          "execution_count": 6
        }
      ]
    },
    {
      "cell_type": "code",
      "source": [
        "city.encode('cp437', errors='replace')"
      ],
      "metadata": {
        "colab": {
          "base_uri": "https://localhost:8080/"
        },
        "id": "S4766j6-n0z-",
        "outputId": "f7d04463-edbd-45e7-c17c-6f3845048b6c"
      },
      "execution_count": null,
      "outputs": [
        {
          "output_type": "execute_result",
          "data": {
            "text/plain": [
              "b'S?o Paulo'"
            ]
          },
          "metadata": {},
          "execution_count": 7
        }
      ]
    },
    {
      "cell_type": "markdown",
      "source": [
        "`charrefreplace` replaces unencodable characters with an XML entity. If you can't use UTF and you can't afford to lose data, this is the only option"
      ],
      "metadata": {
        "id": "PzbI0XaYoEEh"
      }
    },
    {
      "cell_type": "code",
      "source": [
        "city.encode('cp437', errors='xmlcharrefreplace')"
      ],
      "metadata": {
        "colab": {
          "base_uri": "https://localhost:8080/"
        },
        "id": "e5YvbN45n3k9",
        "outputId": "79fcb62f-6602-488b-e0e0-ee3aa355465d"
      },
      "execution_count": null,
      "outputs": [
        {
          "output_type": "execute_result",
          "data": {
            "text/plain": [
              "b'S&#227;o Paulo'"
            ]
          },
          "metadata": {},
          "execution_count": 8
        }
      ]
    },
    {
      "cell_type": "code",
      "source": [
        "city.isascii()"
      ],
      "metadata": {
        "colab": {
          "base_uri": "https://localhost:8080/"
        },
        "id": "cMmDAAPqn6it",
        "outputId": "e8c5c262-05cc-4ba6-8a95-c98770dbba9a"
      },
      "execution_count": null,
      "outputs": [
        {
          "output_type": "execute_result",
          "data": {
            "text/plain": [
              "False"
            ]
          },
          "metadata": {},
          "execution_count": 9
        }
      ]
    },
    {
      "cell_type": "code",
      "source": [
        "\"hello!@#$%^*\".isascii()"
      ],
      "metadata": {
        "colab": {
          "base_uri": "https://localhost:8080/"
        },
        "id": "BAAjxxtnoWEN",
        "outputId": "c901491a-6f0f-4df6-ff4a-1d23b16f9d8f"
      },
      "execution_count": null,
      "outputs": [
        {
          "output_type": "execute_result",
          "data": {
            "text/plain": [
              "True"
            ]
          },
          "metadata": {},
          "execution_count": 11
        }
      ]
    },
    {
      "cell_type": "markdown",
      "source": [
        "Example of how using the wrong codec may produce gremlins or a `UnicodeDecodeError`"
      ],
      "metadata": {
        "id": "GfPO_kt9o0lk"
      }
    },
    {
      "cell_type": "code",
      "source": [
        "octets = b'Montr\\xe9al' # encoded as latin1\n",
        "octets.decode('cp1252') # works as intended because cp1252 is a superset of latin1"
      ],
      "metadata": {
        "colab": {
          "base_uri": "https://localhost:8080/",
          "height": 36
        },
        "id": "67-NQReloXc9",
        "outputId": "359eb535-4e7d-41ab-f1ed-3daebfa5dc81"
      },
      "execution_count": null,
      "outputs": [
        {
          "output_type": "execute_result",
          "data": {
            "text/plain": [
              "'Montréal'"
            ],
            "application/vnd.google.colaboratory.intrinsic+json": {
              "type": "string"
            }
          },
          "metadata": {},
          "execution_count": 12
        }
      ]
    },
    {
      "cell_type": "code",
      "source": [
        "octets.decode('iso8859_7') # intended for Greek so it was misinterpreted"
      ],
      "metadata": {
        "colab": {
          "base_uri": "https://localhost:8080/",
          "height": 36
        },
        "id": "hwMuZjDPo8R8",
        "outputId": "422af02f-fefa-4bbf-8597-491109b72c16"
      },
      "execution_count": null,
      "outputs": [
        {
          "output_type": "execute_result",
          "data": {
            "text/plain": [
              "'Montrιal'"
            ],
            "application/vnd.google.colaboratory.intrinsic+json": {
              "type": "string"
            }
          },
          "metadata": {},
          "execution_count": 13
        }
      ]
    },
    {
      "cell_type": "code",
      "source": [
        "octets.decode('koi8_r') # intended for Russian so it was misinterpreted"
      ],
      "metadata": {
        "colab": {
          "base_uri": "https://localhost:8080/",
          "height": 36
        },
        "id": "LS7cenLjo_PH",
        "outputId": "b7fea610-1e1e-4922-cec1-2e7325290bd1"
      },
      "execution_count": null,
      "outputs": [
        {
          "output_type": "execute_result",
          "data": {
            "text/plain": [
              "'MontrИal'"
            ],
            "application/vnd.google.colaboratory.intrinsic+json": {
              "type": "string"
            }
          },
          "metadata": {},
          "execution_count": 15
        }
      ]
    },
    {
      "cell_type": "code",
      "source": [
        "octets.decode('utf_8')"
      ],
      "metadata": {
        "colab": {
          "base_uri": "https://localhost:8080/",
          "height": 149
        },
        "id": "Y1z5TF0LpB-9",
        "outputId": "1c7725f4-cbbe-4032-a318-d4395f44a1d0"
      },
      "execution_count": null,
      "outputs": [
        {
          "output_type": "error",
          "ename": "UnicodeDecodeError",
          "evalue": "'utf-8' codec can't decode byte 0xe9 in position 5: invalid continuation byte",
          "traceback": [
            "\u001b[0;31m---------------------------------------------------------------------------\u001b[0m",
            "\u001b[0;31mUnicodeDecodeError\u001b[0m                        Traceback (most recent call last)",
            "\u001b[0;32m<ipython-input-16-afaa3d3916c5>\u001b[0m in \u001b[0;36m<cell line: 1>\u001b[0;34m()\u001b[0m\n\u001b[0;32m----> 1\u001b[0;31m \u001b[0moctets\u001b[0m\u001b[0;34m.\u001b[0m\u001b[0mdecode\u001b[0m\u001b[0;34m(\u001b[0m\u001b[0;34m'utf_8'\u001b[0m\u001b[0;34m)\u001b[0m\u001b[0;34m\u001b[0m\u001b[0;34m\u001b[0m\u001b[0m\n\u001b[0m",
            "\u001b[0;31mUnicodeDecodeError\u001b[0m: 'utf-8' codec can't decode byte 0xe9 in position 5: invalid continuation byte"
          ]
        }
      ]
    },
    {
      "cell_type": "code",
      "source": [
        "octets.decode('utf_8', errors='replace')"
      ],
      "metadata": {
        "colab": {
          "base_uri": "https://localhost:8080/",
          "height": 36
        },
        "id": "Vr6-66ZwpFz9",
        "outputId": "d1eb0d3a-ca4f-46e5-d646-4ea554e7a418"
      },
      "execution_count": null,
      "outputs": [
        {
          "output_type": "execute_result",
          "data": {
            "text/plain": [
              "'Montr�al'"
            ],
            "application/vnd.google.colaboratory.intrinsic+json": {
              "type": "string"
            }
          },
          "metadata": {},
          "execution_count": 17
        }
      ]
    },
    {
      "cell_type": "markdown",
      "source": [
        " - UTF-8 is the default source encoding for Python 3\n",
        " - ASCII is the default source encoding for Python 2"
      ],
      "metadata": {
        "id": "AtttDGyTpfN_"
      }
    },
    {
      "cell_type": "code",
      "source": [
        "# coding: cp1252\n",
        "\n",
        "print('Olá Mundo')"
      ],
      "metadata": {
        "colab": {
          "base_uri": "https://localhost:8080/"
        },
        "id": "ciKJ7X27pa1N",
        "outputId": "61a87413-af95-4d2d-8e78-cf10d465cf8b"
      },
      "execution_count": null,
      "outputs": [
        {
          "output_type": "stream",
          "name": "stdout",
          "text": [
            "Olá Mundo\n"
          ]
        }
      ]
    },
    {
      "cell_type": "markdown",
      "source": [
        "## Q. How do you find the encoding of a byte sequence?\n",
        "No, you can't. You must be told.\n",
        "Ex. HTTP, XML contain headers that explicitly tell us how the content is encoded."
      ],
      "metadata": {
        "id": "YzktnVZXqHxF"
      }
    },
    {
      "cell_type": "code",
      "source": [
        "' '.encode('utf-8')"
      ],
      "metadata": {
        "colab": {
          "base_uri": "https://localhost:8080/"
        },
        "id": "HeTXIApkp4I0",
        "outputId": "2a50b285-b446-4068-eab3-6879ee5fb526"
      },
      "execution_count": null,
      "outputs": [
        {
          "output_type": "execute_result",
          "data": {
            "text/plain": [
              "b'\\xff\\xfe \\x00'"
            ]
          },
          "metadata": {},
          "execution_count": 20
        }
      ]
    },
    {
      "cell_type": "code",
      "source": [
        "u16 = 'El Niño'.encode('utf-16')\n",
        "u16\n"
      ],
      "metadata": {
        "colab": {
          "base_uri": "https://localhost:8080/"
        },
        "id": "kVfcOKRtrBl9",
        "outputId": "a70303c4-2b27-4e3d-be8d-c86d6aa79109"
      },
      "execution_count": null,
      "outputs": [
        {
          "output_type": "execute_result",
          "data": {
            "text/plain": [
              "b'\\xff\\xfeE\\x00l\\x00 \\x00N\\x00i\\x00\\xf1\\x00o\\x00'"
            ]
          },
          "metadata": {},
          "execution_count": 21
        }
      ]
    },
    {
      "cell_type": "markdown",
      "source": [
        "The bytes are `b'\\xff\\xfe'`. This is BOM-byte-order mark (denoting little-endian byt ordering of the Intel CPU)."
      ],
      "metadata": {
        "id": "RMOs5S1rrlAo"
      }
    },
    {
      "cell_type": "code",
      "source": [
        "list(u16)"
      ],
      "metadata": {
        "colab": {
          "base_uri": "https://localhost:8080/"
        },
        "id": "ffAHEWmjrg3F",
        "outputId": "79981b4a-28b4-44d6-c826-af539ddbe28f"
      },
      "execution_count": null,
      "outputs": [
        {
          "output_type": "execute_result",
          "data": {
            "text/plain": [
              "[255, 254, 69, 0, 108, 0, 32, 0, 78, 0, 105, 0, 241, 0, 111, 0]"
            ]
          },
          "metadata": {},
          "execution_count": 22
        }
      ]
    },
    {
      "cell_type": "code",
      "source": [
        "u16le = 'El Niño'.encode('utf-16le') #little endian\n",
        "list(u16le) # BOM is supposed to be filtered by the UTF16 codec"
      ],
      "metadata": {
        "colab": {
          "base_uri": "https://localhost:8080/"
        },
        "id": "jEecS6Dkr_RU",
        "outputId": "ae222966-7e1a-42bb-84aa-c91413253b2f"
      },
      "execution_count": null,
      "outputs": [
        {
          "output_type": "execute_result",
          "data": {
            "text/plain": [
              "[69, 0, 108, 0, 32, 0, 78, 0, 105, 0, 241, 0, 111, 0]"
            ]
          },
          "metadata": {},
          "execution_count": 23
        }
      ]
    },
    {
      "cell_type": "code",
      "source": [
        "u16be = 'El Niño'.encode('utf-16be') #big endian\n",
        "list(u16be)"
      ],
      "metadata": {
        "colab": {
          "base_uri": "https://localhost:8080/"
        },
        "id": "KxJCnxPrs1Rl",
        "outputId": "e84354a5-4a8b-40bc-85e6-249ef51a2f7e"
      },
      "execution_count": null,
      "outputs": [
        {
          "output_type": "execute_result",
          "data": {
            "text/plain": [
              "[0, 69, 0, 108, 0, 32, 0, 78, 0, 105, 0, 241, 0, 111]"
            ]
          },
          "metadata": {},
          "execution_count": 24
        }
      ]
    },
    {
      "cell_type": "markdown",
      "source": [
        "## Handling Text Files\n",
        " - \"Unicode Sandwich\": `bytes` should be decoded to `str` as early as possible on input. \"filling\" is the business logic of your program. We should never be encoding or decoding in the middle of other processing."
      ],
      "metadata": {
        "id": "RQlhtjNk_Fct"
      }
    },
    {
      "cell_type": "code",
      "source": [
        "# specified UTF-8 encoding when writing the file\n",
        "open('cafe.txt', 'w', encoding='utf-8').write('café')"
      ],
      "metadata": {
        "id": "zUKrNXvls4sM",
        "colab": {
          "base_uri": "https://localhost:8080/"
        },
        "outputId": "f49cd7fc-5508-4813-99b9-1053917af7a8"
      },
      "execution_count": null,
      "outputs": [
        {
          "output_type": "execute_result",
          "data": {
            "text/plain": [
              "4"
            ]
          },
          "metadata": {},
          "execution_count": 1
        }
      ]
    },
    {
      "cell_type": "code",
      "source": [
        "# (maybe) fail to use utf-8 encoding\n",
        "open('cafe.txt').read()"
      ],
      "metadata": {
        "colab": {
          "base_uri": "https://localhost:8080/",
          "height": 36
        },
        "id": "4W8f4oT0_x9q",
        "outputId": "b20a06c5-efc0-407c-83d3-842ed685e310"
      },
      "execution_count": null,
      "outputs": [
        {
          "output_type": "execute_result",
          "data": {
            "text/plain": [
              "'café'"
            ],
            "application/vnd.google.colaboratory.intrinsic+json": {
              "type": "string"
            }
          },
          "metadata": {},
          "execution_count": 2
        }
      ]
    },
    {
      "cell_type": "code",
      "source": [
        "fp = open('cafe.txt', 'w', encoding='utf_8') # By default, open uses text mode and returns a TextIOWrapper obj with specific encoding"
      ],
      "metadata": {
        "id": "hEGX3Gu6_zvI"
      },
      "execution_count": null,
      "outputs": []
    },
    {
      "cell_type": "code",
      "source": [
        "fp"
      ],
      "metadata": {
        "colab": {
          "base_uri": "https://localhost:8080/"
        },
        "id": "um4T0TZ8Alrh",
        "outputId": "c8fe61ed-fd23-4f9d-ed12-5c22d913cb8b"
      },
      "execution_count": null,
      "outputs": [
        {
          "output_type": "execute_result",
          "data": {
            "text/plain": [
              "<_io.TextIOWrapper name='cafe.txt' mode='w' encoding='utf_8'>"
            ]
          },
          "metadata": {},
          "execution_count": 4
        }
      ]
    },
    {
      "cell_type": "code",
      "source": [
        "fp.write('café') # method on a TextIOWrapper returns the numbere of Unicode characters written"
      ],
      "metadata": {
        "colab": {
          "base_uri": "https://localhost:8080/"
        },
        "id": "ejqT7gQzAmJX",
        "outputId": "0df7a28c-0410-43d7-b7b8-05c88bd98582"
      },
      "execution_count": null,
      "outputs": [
        {
          "output_type": "execute_result",
          "data": {
            "text/plain": [
              "4"
            ]
          },
          "metadata": {},
          "execution_count": 5
        }
      ]
    },
    {
      "cell_type": "code",
      "source": [
        "fp.close()"
      ],
      "metadata": {
        "id": "-BnR4TKhA7JA"
      },
      "execution_count": null,
      "outputs": []
    },
    {
      "cell_type": "code",
      "source": [
        "import os\n",
        "os.stat('cafe.txt').st_size # os.stat says the file has 5 bytes; UTF-8 encodes é as w bytes"
      ],
      "metadata": {
        "colab": {
          "base_uri": "https://localhost:8080/"
        },
        "id": "L3blP430BDUX",
        "outputId": "558009b8-b45e-48a3-f617-1d0fbbf23b81"
      },
      "execution_count": null,
      "outputs": [
        {
          "output_type": "execute_result",
          "data": {
            "text/plain": [
              "5"
            ]
          },
          "metadata": {},
          "execution_count": 8
        }
      ]
    },
    {
      "cell_type": "code",
      "source": [
        "fp2 = open('cafe.txt')"
      ],
      "metadata": {
        "id": "56p8Y1w1BESA"
      },
      "execution_count": null,
      "outputs": []
    },
    {
      "cell_type": "code",
      "source": [
        "fp2"
      ],
      "metadata": {
        "colab": {
          "base_uri": "https://localhost:8080/"
        },
        "id": "HUiwzIqoBTcP",
        "outputId": "e3930932-bb82-4d7a-d28f-bf0cf544a783"
      },
      "execution_count": null,
      "outputs": [
        {
          "output_type": "execute_result",
          "data": {
            "text/plain": [
              "<_io.TextIOWrapper name='cafe.txt' mode='r' encoding='UTF-8'>"
            ]
          },
          "metadata": {},
          "execution_count": 10
        }
      ]
    },
    {
      "cell_type": "code",
      "source": [
        "fp2.encoding"
      ],
      "metadata": {
        "colab": {
          "base_uri": "https://localhost:8080/",
          "height": 36
        },
        "id": "NcKrnN4VBT2o",
        "outputId": "507eb5a9-b291-4049-9a4f-5b078d658dee"
      },
      "execution_count": null,
      "outputs": [
        {
          "output_type": "execute_result",
          "data": {
            "text/plain": [
              "'UTF-8'"
            ],
            "application/vnd.google.colaboratory.intrinsic+json": {
              "type": "string"
            }
          },
          "metadata": {},
          "execution_count": 11
        }
      ]
    },
    {
      "cell_type": "code",
      "source": [
        "fp2.read()"
      ],
      "metadata": {
        "colab": {
          "base_uri": "https://localhost:8080/",
          "height": 36
        },
        "id": "h_LjHvlFBYTo",
        "outputId": "9bf20916-ddce-4ddf-c8f1-d613c02831cd"
      },
      "execution_count": null,
      "outputs": [
        {
          "output_type": "execute_result",
          "data": {
            "text/plain": [
              "'café'"
            ],
            "application/vnd.google.colaboratory.intrinsic+json": {
              "type": "string"
            }
          },
          "metadata": {},
          "execution_count": 12
        }
      ]
    },
    {
      "cell_type": "code",
      "source": [
        "fp4 = open('cafe.txt', 'rb') # Do not open text files in binary mode unless you need to anlayze the file contents"
      ],
      "metadata": {
        "id": "k83KE0ySBb5x"
      },
      "execution_count": null,
      "outputs": []
    },
    {
      "cell_type": "code",
      "source": [
        "fp4"
      ],
      "metadata": {
        "colab": {
          "base_uri": "https://localhost:8080/"
        },
        "id": "XU5Cz9eMCFxw",
        "outputId": "0dba8264-28ae-4769-f9dd-1a82807cf16f"
      },
      "execution_count": null,
      "outputs": [
        {
          "output_type": "execute_result",
          "data": {
            "text/plain": [
              "<_io.BufferedReader name='cafe.txt'>"
            ]
          },
          "metadata": {},
          "execution_count": 14
        }
      ]
    },
    {
      "cell_type": "code",
      "source": [
        "fp4.read()"
      ],
      "metadata": {
        "colab": {
          "base_uri": "https://localhost:8080/"
        },
        "id": "TCnkIIYVCGBw",
        "outputId": "6c0227ea-be2d-4dfc-c257-44a63ffb8bc4"
      },
      "execution_count": null,
      "outputs": [
        {
          "output_type": "execute_result",
          "data": {
            "text/plain": [
              "b'caf\\xc3\\xa9'"
            ]
          },
          "metadata": {},
          "execution_count": 15
        }
      ]
    },
    {
      "cell_type": "markdown",
      "source": [
        "## Beware of Encoding Defaults\n",
        "\n"
      ],
      "metadata": {
        "id": "jap6g7m3Ckjc"
      }
    },
    {
      "cell_type": "code",
      "source": [
        "import locale\n",
        "import sys\n",
        "\n",
        "expressions = \"\"\"\n",
        "        locale.getpreferredencoding()\n",
        "        type(my_file)\n",
        "        my_file.encoding\n",
        "        sys.stdout.isatty()\n",
        "        sys.stdout.encoding\n",
        "        sys.stdin.isatty()\n",
        "        sys.stdin.encoding\n",
        "        sys.stderr.isatty()\n",
        "        sys.stderr.encoding\n",
        "        sys.getdefaultencoding()\n",
        "        sys.getfilesystemencoding()\n",
        "    \"\"\""
      ],
      "metadata": {
        "id": "cmM7ZQnvCHcQ"
      },
      "execution_count": null,
      "outputs": []
    },
    {
      "cell_type": "code",
      "source": [
        "my_file = open(\"dummy\", \"w\")\n",
        "for exp in expressions.split():\n",
        "  value = eval(exp)\n",
        "  print(f\"{exp:>30} -> {value!r}\")"
      ],
      "metadata": {
        "colab": {
          "base_uri": "https://localhost:8080/"
        },
        "id": "92Dg7mWxCsBg",
        "outputId": "dc9a8ba4-240b-4abb-fed3-4e085a8acf7f"
      },
      "execution_count": null,
      "outputs": [
        {
          "output_type": "stream",
          "name": "stdout",
          "text": [
            " locale.getpreferredencoding() -> 'UTF-8'\n",
            "                 type(my_file) -> <class '_io.TextIOWrapper'>\n",
            "              my_file.encoding -> 'UTF-8'\n",
            "           sys.stdout.isatty() -> False\n",
            "           sys.stdout.encoding -> 'UTF-8'\n",
            "            sys.stdin.isatty() -> False\n",
            "            sys.stdin.encoding -> 'utf-8'\n",
            "           sys.stderr.isatty() -> False\n",
            "           sys.stderr.encoding -> 'UTF-8'\n",
            "      sys.getdefaultencoding() -> 'utf-8'\n",
            "   sys.getfilesystemencoding() -> 'utf-8'\n"
          ]
        }
      ]
    },
    {
      "cell_type": "code",
      "source": [
        "import sys\n",
        "from unicodedata import name\n",
        "\n",
        "print(sys.version)\n",
        "print()\n",
        "print('sys.stdout.isatty():', sys.stdout.isatty())\n",
        "print('sys.stdout.encoding():', sys.stdout.encoding)\n",
        "print()\n",
        "\n",
        "test_chars = [\n",
        "    '\\N{HORIZONTAL ELLIPSIS}',\n",
        "    '\\N{INFINITY}',\n",
        "    '\\N{CIRCLED NUMBER FORTY TWO}',\n",
        "]\n",
        "\n",
        "for char in test_chars:\n",
        "  print(f\"Trying to output {name(char)}:\")\n",
        "  print(char)"
      ],
      "metadata": {
        "colab": {
          "base_uri": "https://localhost:8080/"
        },
        "id": "Ieks0YSMC4jI",
        "outputId": "0279632a-b574-41d6-edcd-a19ae2dcbcd3"
      },
      "execution_count": null,
      "outputs": [
        {
          "output_type": "stream",
          "name": "stdout",
          "text": [
            "3.10.12 (main, Nov 20 2023, 15:14:05) [GCC 11.4.0]\n",
            "\n",
            "sys.stdout.isatty(): False\n",
            "sys.stdout.encoding(): UTF-8\n",
            "\n",
            "Trying to output HORIZONTAL ELLIPSIS:\n",
            "…\n",
            "Trying to output INFINITY:\n",
            "∞\n",
            "Trying to output CIRCLED NUMBER FORTY TWO:\n",
            "㊷\n"
          ]
        }
      ]
    },
    {
      "cell_type": "markdown",
      "source": [
        "## Normalizing Unicode for Reliable Comparisons"
      ],
      "metadata": {
        "id": "f3mh4Za9wfA6"
      }
    },
    {
      "cell_type": "code",
      "source": [
        "s1 = 'café'\n",
        "s2 = 'cafe\\N{COMBINING ACUTE ACCENT}'"
      ],
      "metadata": {
        "id": "3pFmiqjqERTX"
      },
      "execution_count": null,
      "outputs": []
    },
    {
      "cell_type": "code",
      "source": [
        "s1, s2"
      ],
      "metadata": {
        "colab": {
          "base_uri": "https://localhost:8080/"
        },
        "id": "7DzwWZ0FwRCI",
        "outputId": "aeab8547-eb95-4bfa-e774-19ac60000f2c"
      },
      "execution_count": null,
      "outputs": [
        {
          "output_type": "execute_result",
          "data": {
            "text/plain": [
              "('café', 'café')"
            ]
          },
          "metadata": {},
          "execution_count": 2
        }
      ]
    },
    {
      "cell_type": "code",
      "source": [
        "len(s1), len(s2)"
      ],
      "metadata": {
        "colab": {
          "base_uri": "https://localhost:8080/"
        },
        "id": "v4F-CKN3wRjn",
        "outputId": "9b0c5dcf-102c-4fb1-c4e0-c4866c32befd"
      },
      "execution_count": null,
      "outputs": [
        {
          "output_type": "execute_result",
          "data": {
            "text/plain": [
              "(4, 5)"
            ]
          },
          "metadata": {},
          "execution_count": 3
        }
      ]
    },
    {
      "cell_type": "code",
      "source": [
        "s1 == s2"
      ],
      "metadata": {
        "colab": {
          "base_uri": "https://localhost:8080/"
        },
        "id": "L5GgpE9wwTiA",
        "outputId": "4806d09f-457d-486a-cce7-cebfa2db9161"
      },
      "execution_count": null,
      "outputs": [
        {
          "output_type": "execute_result",
          "data": {
            "text/plain": [
              "False"
            ]
          },
          "metadata": {},
          "execution_count": 4
        }
      ]
    },
    {
      "cell_type": "code",
      "source": [
        "from unicodedata import normalize\n",
        "\n",
        "len(normalize('NFC', s1)), len(normalize('NFC', s2))"
      ],
      "metadata": {
        "colab": {
          "base_uri": "https://localhost:8080/"
        },
        "id": "irpqBr9jwUX_",
        "outputId": "62a771fc-8163-4769-a3d3-92d02d064d4a"
      },
      "execution_count": null,
      "outputs": [
        {
          "output_type": "execute_result",
          "data": {
            "text/plain": [
              "(4, 4)"
            ]
          },
          "metadata": {},
          "execution_count": 5
        }
      ]
    },
    {
      "cell_type": "code",
      "source": [
        "len(normalize('NFD', s1))"
      ],
      "metadata": {
        "colab": {
          "base_uri": "https://localhost:8080/"
        },
        "id": "Y4_Ijeudwu34",
        "outputId": "7e8cd564-f2cc-41f5-cc22-6c356e0b9402"
      },
      "execution_count": null,
      "outputs": [
        {
          "output_type": "execute_result",
          "data": {
            "text/plain": [
              "5"
            ]
          },
          "metadata": {},
          "execution_count": 6
        }
      ]
    },
    {
      "cell_type": "code",
      "source": [
        "normalize('NFD', s1) == normalize('NFD', s2)\n",
        "normalize('NFC', s1) == normalize('NFC', s2)"
      ],
      "metadata": {
        "colab": {
          "base_uri": "https://localhost:8080/"
        },
        "id": "zPmEtw_WwzIX",
        "outputId": "9c84328c-5e42-4985-a045-aedcbd0dd5c8"
      },
      "execution_count": null,
      "outputs": [
        {
          "output_type": "execute_result",
          "data": {
            "text/plain": [
              "True"
            ]
          },
          "metadata": {},
          "execution_count": 9
        }
      ]
    },
    {
      "cell_type": "markdown",
      "source": [
        "Note. Keyboard driver usually generate composed characters, so text typed by users will be in NFC by default."
      ],
      "metadata": {
        "id": "JP-UH25yw83P"
      }
    },
    {
      "cell_type": "code",
      "source": [
        "from unicodedata import normalize, name"
      ],
      "metadata": {
        "id": "wDw4LWsPw1Az"
      },
      "execution_count": null,
      "outputs": []
    },
    {
      "cell_type": "code",
      "source": [
        "ohm = '\\u2126'"
      ],
      "metadata": {
        "id": "0r4Lo3gCxMAv"
      },
      "execution_count": null,
      "outputs": []
    },
    {
      "cell_type": "code",
      "source": [
        "name(ohm)"
      ],
      "metadata": {
        "colab": {
          "base_uri": "https://localhost:8080/",
          "height": 36
        },
        "id": "O-tdZPm_xPYW",
        "outputId": "c0e19d72-665e-4ac8-dea3-3d8b4cd5bad3"
      },
      "execution_count": null,
      "outputs": [
        {
          "output_type": "execute_result",
          "data": {
            "text/plain": [
              "'OHM SIGN'"
            ],
            "application/vnd.google.colaboratory.intrinsic+json": {
              "type": "string"
            }
          },
          "metadata": {},
          "execution_count": 23
        }
      ]
    },
    {
      "cell_type": "code",
      "source": [
        "ohm_c = normalize('NFC', ohm)"
      ],
      "metadata": {
        "id": "RVBE5a_CxPp3"
      },
      "execution_count": null,
      "outputs": []
    },
    {
      "cell_type": "code",
      "source": [
        "name(ohm_c)"
      ],
      "metadata": {
        "colab": {
          "base_uri": "https://localhost:8080/",
          "height": 36
        },
        "id": "WWOWntvRxlfv",
        "outputId": "9d8423b2-e9f9-4a94-c9eb-4943fda67245"
      },
      "execution_count": null,
      "outputs": [
        {
          "output_type": "execute_result",
          "data": {
            "text/plain": [
              "'GREEK CAPITAL LETTER OMEGA'"
            ],
            "application/vnd.google.colaboratory.intrinsic+json": {
              "type": "string"
            }
          },
          "metadata": {},
          "execution_count": 25
        }
      ]
    },
    {
      "cell_type": "code",
      "source": [
        "ohm_c == ohm"
      ],
      "metadata": {
        "colab": {
          "base_uri": "https://localhost:8080/"
        },
        "id": "faMOvis3xmSf",
        "outputId": "cccac8f2-5919-4574-bc3f-b1e49bb166fb"
      },
      "execution_count": null,
      "outputs": [
        {
          "output_type": "execute_result",
          "data": {
            "text/plain": [
              "False"
            ]
          },
          "metadata": {},
          "execution_count": 27
        }
      ]
    },
    {
      "cell_type": "code",
      "source": [
        "normalize('NFC', ohm) == normalize('NFC', ohm_c)"
      ],
      "metadata": {
        "colab": {
          "base_uri": "https://localhost:8080/"
        },
        "id": "YMMhXyhuxmrn",
        "outputId": "c33065d5-9ca8-4420-cc39-9bf16ce41154"
      },
      "execution_count": null,
      "outputs": [
        {
          "output_type": "execute_result",
          "data": {
            "text/plain": [
              "True"
            ]
          },
          "metadata": {},
          "execution_count": 28
        }
      ]
    },
    {
      "cell_type": "code",
      "source": [
        "half = '\\N{VULGAR FRACTION ONE HALF}'"
      ],
      "metadata": {
        "id": "Kw3e20jvxtte"
      },
      "execution_count": null,
      "outputs": []
    },
    {
      "cell_type": "code",
      "source": [
        "print(half)"
      ],
      "metadata": {
        "colab": {
          "base_uri": "https://localhost:8080/"
        },
        "id": "J7BIK2dBx-bu",
        "outputId": "54be4c10-f943-455d-ae98-b50553783a40"
      },
      "execution_count": null,
      "outputs": [
        {
          "output_type": "stream",
          "name": "stdout",
          "text": [
            "½\n"
          ]
        }
      ]
    },
    {
      "cell_type": "code",
      "source": [
        "normalize('NFKC', half)"
      ],
      "metadata": {
        "colab": {
          "base_uri": "https://localhost:8080/",
          "height": 36
        },
        "id": "_Yi69Nrex-xn",
        "outputId": "f8507841-0000-4d41-c745-f467b51e1ef5"
      },
      "execution_count": null,
      "outputs": [
        {
          "output_type": "execute_result",
          "data": {
            "text/plain": [
              "'1⁄2'"
            ],
            "application/vnd.google.colaboratory.intrinsic+json": {
              "type": "string"
            }
          },
          "metadata": {},
          "execution_count": 34
        }
      ]
    },
    {
      "cell_type": "code",
      "source": [
        "for char in normalize('NFKC', half):\n",
        "  print(char, name(char), sep='\\t')\n"
      ],
      "metadata": {
        "colab": {
          "base_uri": "https://localhost:8080/"
        },
        "id": "-2FS9elfyCmW",
        "outputId": "fbe9b9a7-3684-41aa-8c8a-06b68c75db11"
      },
      "execution_count": null,
      "outputs": [
        {
          "output_type": "stream",
          "name": "stdout",
          "text": [
            "1\tDIGIT ONE\n",
            "⁄\tFRACTION SLASH\n",
            "2\tDIGIT TWO\n"
          ]
        }
      ]
    },
    {
      "cell_type": "code",
      "source": [
        "four_squared=\"4²\"\n",
        "normalize('NFKC', four_squared)"
      ],
      "metadata": {
        "colab": {
          "base_uri": "https://localhost:8080/",
          "height": 36
        },
        "id": "jlf35oblyQIn",
        "outputId": "0e042bee-f6b6-4266-c017-c7442f364c20"
      },
      "execution_count": null,
      "outputs": [
        {
          "output_type": "execute_result",
          "data": {
            "text/plain": [
              "'42'"
            ],
            "application/vnd.google.colaboratory.intrinsic+json": {
              "type": "string"
            }
          },
          "metadata": {},
          "execution_count": 37
        }
      ]
    },
    {
      "cell_type": "code",
      "source": [
        "micro='µ'\n",
        "micro_kc = normalize('NFKC', micro)\n",
        "micro, micro_kc"
      ],
      "metadata": {
        "colab": {
          "base_uri": "https://localhost:8080/"
        },
        "id": "cwKgEZGlygye",
        "outputId": "82b60669-0c1c-4263-d526-42163c7f718b"
      },
      "execution_count": null,
      "outputs": [
        {
          "output_type": "execute_result",
          "data": {
            "text/plain": [
              "('µ', 'μ')"
            ]
          },
          "metadata": {},
          "execution_count": 38
        }
      ]
    },
    {
      "cell_type": "code",
      "source": [
        "ord(micro), ord(micro_kc)"
      ],
      "metadata": {
        "colab": {
          "base_uri": "https://localhost:8080/"
        },
        "id": "kZstSHqYyqV-",
        "outputId": "8fdb76f7-76e8-441e-dfbc-c98fff3bc47f"
      },
      "execution_count": null,
      "outputs": [
        {
          "output_type": "execute_result",
          "data": {
            "text/plain": [
              "(181, 956)"
            ]
          },
          "metadata": {},
          "execution_count": 39
        }
      ]
    },
    {
      "cell_type": "code",
      "source": [
        "name(micro), name(micro_kc)"
      ],
      "metadata": {
        "colab": {
          "base_uri": "https://localhost:8080/"
        },
        "id": "C8Tlz4fSyshf",
        "outputId": "7a9fa92e-ae4f-4d40-cfb6-4ebcbca2f9df"
      },
      "execution_count": null,
      "outputs": [
        {
          "output_type": "execute_result",
          "data": {
            "text/plain": [
              "('MICRO SIGN', 'GREEK SMALL LETTER MU')"
            ]
          },
          "metadata": {},
          "execution_count": 40
        }
      ]
    },
    {
      "cell_type": "code",
      "source": [
        "name(micro)"
      ],
      "metadata": {
        "colab": {
          "base_uri": "https://localhost:8080/",
          "height": 36
        },
        "id": "Iw3NK6Yzy5qu",
        "outputId": "0d20a76a-a2cc-4a78-b10c-57c22691683a"
      },
      "execution_count": null,
      "outputs": [
        {
          "output_type": "execute_result",
          "data": {
            "text/plain": [
              "'MICRO SIGN'"
            ],
            "application/vnd.google.colaboratory.intrinsic+json": {
              "type": "string"
            }
          },
          "metadata": {},
          "execution_count": 43
        }
      ]
    },
    {
      "cell_type": "code",
      "source": [
        "# convert all text to lowercase\n",
        "micro_cf = micro.casefold()\n",
        "micro, micro_cf"
      ],
      "metadata": {
        "colab": {
          "base_uri": "https://localhost:8080/"
        },
        "id": "WGXtaRMuzOqe",
        "outputId": "43118416-ef18-4e79-fc10-3e57cd982f32"
      },
      "execution_count": null,
      "outputs": [
        {
          "output_type": "execute_result",
          "data": {
            "text/plain": [
              "('µ', 'μ')"
            ]
          },
          "metadata": {},
          "execution_count": 44
        }
      ]
    },
    {
      "cell_type": "code",
      "source": [
        "name(micro_cf)"
      ],
      "metadata": {
        "colab": {
          "base_uri": "https://localhost:8080/",
          "height": 36
        },
        "id": "39vo8qPHzUfv",
        "outputId": "473a8a09-81fe-4a6c-bc7e-ce6bbd690246"
      },
      "execution_count": null,
      "outputs": [
        {
          "output_type": "execute_result",
          "data": {
            "text/plain": [
              "'GREEK SMALL LETTER MU'"
            ],
            "application/vnd.google.colaboratory.intrinsic+json": {
              "type": "string"
            }
          },
          "metadata": {},
          "execution_count": 45
        }
      ]
    },
    {
      "cell_type": "code",
      "source": [
        "eszett = 'ß'\n",
        "name(eszett)"
      ],
      "metadata": {
        "colab": {
          "base_uri": "https://localhost:8080/",
          "height": 36
        },
        "id": "JsC94cgNzWBf",
        "outputId": "bf46c50d-cc7d-44b7-8208-443fd5eec79f"
      },
      "execution_count": null,
      "outputs": [
        {
          "output_type": "execute_result",
          "data": {
            "text/plain": [
              "'LATIN SMALL LETTER SHARP S'"
            ],
            "application/vnd.google.colaboratory.intrinsic+json": {
              "type": "string"
            }
          },
          "metadata": {},
          "execution_count": 46
        }
      ]
    },
    {
      "cell_type": "code",
      "source": [
        "eszett_cf = eszett.casefold()"
      ],
      "metadata": {
        "id": "CamdpuFFzcRv"
      },
      "execution_count": null,
      "outputs": []
    },
    {
      "cell_type": "code",
      "source": [
        "eszett, eszett_cf"
      ],
      "metadata": {
        "colab": {
          "base_uri": "https://localhost:8080/"
        },
        "id": "mcyH9Vkjze9_",
        "outputId": "7f393aae-5b33-41b4-c4dc-07727f4aa09e"
      },
      "execution_count": null,
      "outputs": [
        {
          "output_type": "execute_result",
          "data": {
            "text/plain": [
              "('ß', 'ss')"
            ]
          },
          "metadata": {},
          "execution_count": 48
        }
      ]
    },
    {
      "cell_type": "code",
      "source": [
        "def nfc_equal(str1, str2):\n",
        "  return normalize('NFC', str1) == normalize('NFC', str2)\n",
        "\n",
        "def fold_equal(str1, str2):\n",
        "  return normalize('NFC', str1).casefold() == normalize('NFC', str2).casefold()"
      ],
      "metadata": {
        "id": "BtS6a7qOzlEm"
      },
      "execution_count": null,
      "outputs": []
    },
    {
      "cell_type": "code",
      "source": [
        "import string\n",
        "import unicodedata\n",
        "\n",
        "def shave_marks(txt):\n",
        "  norm_txt = unicodedata.normalize('NFD', txt)\n",
        "  shaved = ''.join(c for c in norm_txt if not unicodedata.combining(c))\n",
        "\n",
        "  return unicodedata.normalize('NFC', shaved)"
      ],
      "metadata": {
        "id": "nyLTrah30ELd"
      },
      "execution_count": null,
      "outputs": []
    },
    {
      "cell_type": "code",
      "source": [
        "shave_marks(\"café\")"
      ],
      "metadata": {
        "colab": {
          "base_uri": "https://localhost:8080/",
          "height": 36
        },
        "id": "m-dOXWdb0y3e",
        "outputId": "21daa87b-c3dc-479c-a57f-37e800582474"
      },
      "execution_count": null,
      "outputs": [
        {
          "output_type": "execute_result",
          "data": {
            "text/plain": [
              "'cafe'"
            ],
            "application/vnd.google.colaboratory.intrinsic+json": {
              "type": "string"
            }
          },
          "metadata": {},
          "execution_count": 66
        }
      ]
    },
    {
      "cell_type": "code",
      "source": [
        "order = '“Herr Voß: • ½ cup of Œtker™ caffè latte • bowl of açaí.”'\n",
        "shave_marks(order)"
      ],
      "metadata": {
        "colab": {
          "base_uri": "https://localhost:8080/",
          "height": 36
        },
        "id": "y6Z3ZCsF067P",
        "outputId": "2be14b47-0095-4583-9a73-25434a9fa7bb"
      },
      "execution_count": null,
      "outputs": [
        {
          "output_type": "execute_result",
          "data": {
            "text/plain": [
              "'“Herr Voß: • ½ cup of Œtker™ caffe latte • bowl of acai.”'"
            ],
            "application/vnd.google.colaboratory.intrinsic+json": {
              "type": "string"
            }
          },
          "metadata": {},
          "execution_count": 67
        }
      ]
    },
    {
      "cell_type": "code",
      "source": [
        "Greek = \"Ζέφυρος, Zéfiro\"\n",
        "shave_marks(Greek)"
      ],
      "metadata": {
        "colab": {
          "base_uri": "https://localhost:8080/",
          "height": 36
        },
        "id": "haPd5dhe1cQu",
        "outputId": "d1898360-794c-4423-ae0d-636b99496ee1"
      },
      "execution_count": null,
      "outputs": [
        {
          "output_type": "execute_result",
          "data": {
            "text/plain": [
              "'Ζεφυρος, Zefiro'"
            ],
            "application/vnd.google.colaboratory.intrinsic+json": {
              "type": "string"
            }
          },
          "metadata": {},
          "execution_count": 68
        }
      ]
    },
    {
      "cell_type": "code",
      "source": [
        "def shave_marks_latin(txt):\n",
        "  norm_txt = unicodedata.normalize('NFD', txt)\n",
        "  latin_base = False\n",
        "  preserve = []\n",
        "  for c in norm_txt:\n",
        "    if unicodedata.combining(c) and latin_base:\n",
        "      continue # ignore diacritic on Latin base char\n",
        "    preserve.append(c)\n",
        "    if not unicodedata.combining(c):\n",
        "      latin_base = c in string.ascii_letters\n",
        "  shaved = ''.join(preserve)\n",
        "  return unicodedata.normalize('NFC', shaved)"
      ],
      "metadata": {
        "id": "VVIM1oC314uV"
      },
      "execution_count": null,
      "outputs": []
    },
    {
      "cell_type": "code",
      "source": [
        "shave_marks_latin(Greek)"
      ],
      "metadata": {
        "colab": {
          "base_uri": "https://localhost:8080/",
          "height": 36
        },
        "id": "Vf60kGEt2mPF",
        "outputId": "3f93bdbf-ba3b-4643-f91e-edec74fb6d6c"
      },
      "execution_count": null,
      "outputs": [
        {
          "output_type": "execute_result",
          "data": {
            "text/plain": [
              "'Ζέφυρος, Zefiro'"
            ],
            "application/vnd.google.colaboratory.intrinsic+json": {
              "type": "string"
            }
          },
          "metadata": {},
          "execution_count": 70
        }
      ]
    },
    {
      "cell_type": "code",
      "source": [
        "shave_marks_latin(order)"
      ],
      "metadata": {
        "colab": {
          "base_uri": "https://localhost:8080/",
          "height": 36
        },
        "id": "u8nquKPI2ni8",
        "outputId": "e1b90a8b-0d36-4738-b32b-92e23f2f944e"
      },
      "execution_count": null,
      "outputs": [
        {
          "output_type": "execute_result",
          "data": {
            "text/plain": [
              "'“Herr Voß: • ½ cup of Œtker™ caffe latte • bowl of acai.”'"
            ],
            "application/vnd.google.colaboratory.intrinsic+json": {
              "type": "string"
            }
          },
          "metadata": {},
          "execution_count": 71
        }
      ]
    },
    {
      "cell_type": "code",
      "source": [
        "single_map = str.maketrans(\"\"\"‚ƒ„ˆ‹‘’“”•–—˜›\"\"\",\n",
        "                           \"\"\"'f\"^<''\"\"---~>\"\"\")\n",
        "\n",
        "multi_map = str.maketrans({\n",
        "    '€': 'EUR',\n",
        "    '…': '...',\n",
        "    'Æ': 'AE',\n",
        "    'æ': 'ae',\n",
        "    'Œ': 'OE',\n",
        "    'œ': 'oe',\n",
        "    '™': '(TM)',\n",
        "    '‰': '<per mille>',\n",
        "    '†': '**',\n",
        "    '‡': '***',\n",
        "})"
      ],
      "metadata": {
        "id": "74oSY0vB2pqE"
      },
      "execution_count": null,
      "outputs": []
    },
    {
      "cell_type": "code",
      "source": [
        "multi_map.update(single_map)"
      ],
      "metadata": {
        "id": "76YyuIdk3G8d"
      },
      "execution_count": null,
      "outputs": []
    },
    {
      "cell_type": "code",
      "source": [
        "def dewinize(txt):\n",
        "  return txt.translate(multi_map)"
      ],
      "metadata": {
        "id": "7PasE5IO3bht"
      },
      "execution_count": null,
      "outputs": []
    },
    {
      "cell_type": "code",
      "source": [
        "type(multi_map)"
      ],
      "metadata": {
        "colab": {
          "base_uri": "https://localhost:8080/"
        },
        "id": "0jqgYZdg3hgc",
        "outputId": "bb5d23b5-a63f-4781-f3c8-dcff49610abb"
      },
      "execution_count": null,
      "outputs": [
        {
          "output_type": "execute_result",
          "data": {
            "text/plain": [
              "dict"
            ]
          },
          "metadata": {},
          "execution_count": 76
        }
      ]
    },
    {
      "cell_type": "code",
      "source": [
        "def asciize(txt):\n",
        "  no_marks = shave_marks_latin(dewinize(txt))\n",
        "  no_marks = no_marks.replace('ß', 'ss')\n",
        "  return unicodedata.normalize('NFKC', no_marks)"
      ],
      "metadata": {
        "id": "g5xX5z6r3i70"
      },
      "execution_count": null,
      "outputs": []
    },
    {
      "cell_type": "code",
      "source": [
        "dewinize(order)"
      ],
      "metadata": {
        "colab": {
          "base_uri": "https://localhost:8080/",
          "height": 36
        },
        "id": "KCeGvBK13y64",
        "outputId": "5f529816-6a8f-4159-ecac-0784cd0874a7"
      },
      "execution_count": null,
      "outputs": [
        {
          "output_type": "execute_result",
          "data": {
            "text/plain": [
              "'\"Herr Voß: - ½ cup of OEtker(TM) caffè latte - bowl of açaí.\"'"
            ],
            "application/vnd.google.colaboratory.intrinsic+json": {
              "type": "string"
            }
          },
          "metadata": {},
          "execution_count": 78
        }
      ]
    },
    {
      "cell_type": "code",
      "source": [
        "asciize(order)"
      ],
      "metadata": {
        "colab": {
          "base_uri": "https://localhost:8080/",
          "height": 36
        },
        "id": "7ql7jHTK32GW",
        "outputId": "35aabfa7-c6cc-41ba-adcc-920f5fd58521"
      },
      "execution_count": null,
      "outputs": [
        {
          "output_type": "execute_result",
          "data": {
            "text/plain": [
              "'\"Herr Voss: - 1⁄2 cup of OEtker(TM) caffe latte - bowl of acai.\"'"
            ],
            "application/vnd.google.colaboratory.intrinsic+json": {
              "type": "string"
            }
          },
          "metadata": {},
          "execution_count": 79
        }
      ]
    },
    {
      "cell_type": "markdown",
      "source": [
        "## Sorting Unicode Text"
      ],
      "metadata": {
        "id": "hjhmtt0Nr5U8"
      }
    },
    {
      "cell_type": "code",
      "source": [
        "fruits = ['caju', 'atemoia', 'cajá', 'açaí', 'acerola']\n",
        "sorted(fruits)"
      ],
      "metadata": {
        "id": "iIAxPUKI39ks",
        "colab": {
          "base_uri": "https://localhost:8080/"
        },
        "outputId": "599bc859-27fb-44df-ec48-3a505b279f2b"
      },
      "execution_count": 2,
      "outputs": [
        {
          "output_type": "execute_result",
          "data": {
            "text/plain": [
              "['acerola', 'atemoia', 'açaí', 'caju', 'cajá']"
            ]
          },
          "metadata": {},
          "execution_count": 2
        }
      ]
    },
    {
      "cell_type": "markdown",
      "source": [
        "Standard way to sort non-ASCII text in Python is to use `locale.strxfrm` function which transforms a string to one that can be used in locale-aware comparisons"
      ],
      "metadata": {
        "id": "H7nL_cQ3sSYY"
      }
    },
    {
      "cell_type": "code",
      "source": [
        "!apt-get install language-pack-pt"
      ],
      "metadata": {
        "id": "dggUtd6y4BMd",
        "colab": {
          "base_uri": "https://localhost:8080/"
        },
        "outputId": "02f06b94-eaa3-4f1f-a456-fd7e854f3d5b"
      },
      "execution_count": 10,
      "outputs": [
        {
          "output_type": "stream",
          "name": "stdout",
          "text": [
            "Reading package lists... Done\n",
            "Building dependency tree... Done\n",
            "Reading state information... Done\n",
            "The following additional packages will be installed:\n",
            "  language-pack-pt-base\n",
            "The following NEW packages will be installed:\n",
            "  language-pack-pt language-pack-pt-base\n",
            "0 upgraded, 2 newly installed, 0 to remove and 45 not upgraded.\n",
            "Need to get 2,993 kB of archives.\n",
            "After this operation, 15.4 MB of additional disk space will be used.\n",
            "Get:1 http://archive.ubuntu.com/ubuntu jammy-updates/main amd64 language-pack-pt-base all 1:22.04+20240212 [2,991 kB]\n",
            "Get:2 http://archive.ubuntu.com/ubuntu jammy-updates/main amd64 language-pack-pt all 1:22.04+20240212 [1,896 B]\n",
            "Fetched 2,993 kB in 2s (1,203 kB/s)\n",
            "Selecting previously unselected package language-pack-pt-base.\n",
            "(Reading database ... 121753 files and directories currently installed.)\n",
            "Preparing to unpack .../language-pack-pt-base_1%3a22.04+20240212_all.deb ...\n",
            "Unpacking language-pack-pt-base (1:22.04+20240212) ...\n",
            "Selecting previously unselected package language-pack-pt.\n",
            "Preparing to unpack .../language-pack-pt_1%3a22.04+20240212_all.deb ...\n",
            "Unpacking language-pack-pt (1:22.04+20240212) ...\n",
            "Setting up language-pack-pt (1:22.04+20240212) ...\n",
            "Setting up language-pack-pt-base (1:22.04+20240212) ...\n",
            "Generating locales (this might take a while)...\n",
            "  pt_BR.UTF-8... done\n",
            "  pt_PT.UTF-8... done\n",
            "Generation complete.\n"
          ]
        }
      ]
    },
    {
      "cell_type": "code",
      "source": [
        "import locale\n",
        "my_locale = locale.setlocale(locale.LC_COLLATE, 'pt_BR.UTF-8')\n",
        "print(my_locale)"
      ],
      "metadata": {
        "colab": {
          "base_uri": "https://localhost:8080/"
        },
        "id": "w9st0pqpsItT",
        "outputId": "8c5d44a0-deb3-4ce4-f8ec-ac24e2998267"
      },
      "execution_count": 1,
      "outputs": [
        {
          "output_type": "stream",
          "name": "stdout",
          "text": [
            "pt_BR.UTF-8\n"
          ]
        }
      ]
    },
    {
      "cell_type": "code",
      "source": [
        "sorted_fruits = sorted(fruits, key=locale.strxfrm)\n",
        "print(sorted_fruits)"
      ],
      "metadata": {
        "colab": {
          "base_uri": "https://localhost:8080/"
        },
        "id": "PUctddkEuHRv",
        "outputId": "86bc8629-c065-4d06-f311-dcfce4571812"
      },
      "execution_count": 4,
      "outputs": [
        {
          "output_type": "stream",
          "name": "stdout",
          "text": [
            "['açaí', 'acerola', 'atemoia', 'cajá', 'caju']\n"
          ]
        }
      ]
    },
    {
      "cell_type": "markdown",
      "source": [
        "* Easier solution that works on Linux, Mac, Windows"
      ],
      "metadata": {
        "id": "7mHBmMgEvf22"
      }
    },
    {
      "cell_type": "code",
      "source": [
        "!pip install pyuca"
      ],
      "metadata": {
        "colab": {
          "base_uri": "https://localhost:8080/"
        },
        "id": "rrhvB4DUvTyr",
        "outputId": "16df36c7-2d78-457f-d443-b716cefddb66"
      },
      "execution_count": 6,
      "outputs": [
        {
          "output_type": "stream",
          "name": "stdout",
          "text": [
            "Collecting pyuca\n",
            "  Downloading pyuca-1.2-py2.py3-none-any.whl (1.5 MB)\n",
            "\u001b[2K     \u001b[90m━━━━━━━━━━━━━━━━━━━━━━━━━━━━━━━━━━━━━━━━\u001b[0m \u001b[32m1.5/1.5 MB\u001b[0m \u001b[31m8.8 MB/s\u001b[0m eta \u001b[36m0:00:00\u001b[0m\n",
            "\u001b[?25hInstalling collected packages: pyuca\n",
            "Successfully installed pyuca-1.2\n"
          ]
        }
      ]
    },
    {
      "cell_type": "code",
      "source": [
        "import pyuca\n",
        "coll = pyuca.Collator()\n",
        "sorted_fruits = sorted(fruits, key=coll.sort_key)\n",
        "sorted_fruits"
      ],
      "metadata": {
        "colab": {
          "base_uri": "https://localhost:8080/"
        },
        "id": "G4jORCKQuklH",
        "outputId": "25b8f3d4-d037-4e7d-ad24-cdb6e0ce9f8d"
      },
      "execution_count": 8,
      "outputs": [
        {
          "output_type": "execute_result",
          "data": {
            "text/plain": [
              "['açaí', 'acerola', 'atemoia', 'cajá', 'caju']"
            ]
          },
          "metadata": {},
          "execution_count": 8
        }
      ]
    },
    {
      "cell_type": "code",
      "source": [
        "from unicodedata import name\n",
        "print(name('A'))\n",
        "print(name('ã'))\n",
        "print(name('♛'))\n",
        "print(name('😸'))"
      ],
      "metadata": {
        "colab": {
          "base_uri": "https://localhost:8080/"
        },
        "id": "gCmbrCk1vjvM",
        "outputId": "3d04f2b0-4441-4003-f98d-3cdba44a578c"
      },
      "execution_count": 9,
      "outputs": [
        {
          "output_type": "stream",
          "name": "stdout",
          "text": [
            "LATIN CAPITAL LETTER A\n",
            "LATIN SMALL LETTER A WITH TILDE\n",
            "BLACK CHESS QUEEN\n",
            "GRINNING CAT FACE WITH SMILING EYES\n"
          ]
        }
      ]
    },
    {
      "cell_type": "code",
      "source": [
        "# !/usr/bin/env python3\n",
        "import sys\n",
        "import unicodedata\n",
        "\n",
        "# sets defaults for the range of code points to search\n",
        "START, END = ord(' '), sys.maxunicode + 1\n",
        "\n",
        "# find accepts query_words and optional keyword-only arguments to\n",
        "# limit the range of search\n",
        "def find(*query_words, start=START, end=END):\n",
        "  query = {w.upper() for w in query_words}\n",
        "  for code in range(start, end):\n",
        "    char = chr(code)\n",
        "    name = unicodedata.name(char, None)\n",
        "    if name and query.issubset(name.split()):\n",
        "      print(f\"U+{code:04X}\\t{char}\\t{name}\")\n",
        "\n",
        "def main(words):\n",
        "  if words:\n",
        "    find(*words)\n",
        "  else:\n",
        "    print('Please provide words to find.')\n",
        "\n",
        "if __name__ == '__main__':\n",
        "  main(sys.argv[1:])\n"
      ],
      "metadata": {
        "id": "KBNnQKNJvSpn"
      },
      "execution_count": 13,
      "outputs": []
    },
    {
      "cell_type": "code",
      "source": [
        "!python ./cf.py dog"
      ],
      "metadata": {
        "colab": {
          "base_uri": "https://localhost:8080/"
        },
        "id": "UyaMtKuXxqUz",
        "outputId": "5cb7477d-99d5-4754-f463-e595bcf39879"
      },
      "execution_count": 24,
      "outputs": [
        {
          "output_type": "stream",
          "name": "stdout",
          "text": [
            "U+2EA8\t⺨\tCJK RADICAL DOG\n",
            "U+2F5D\t⽝\tKANGXI RADICAL DOG\n",
            "U+B3C5\t독\tHANGUL SYLLABLE DOG\n",
            "U+1F32D\t🌭\tHOT DOG\n",
            "U+1F415\t🐕\tDOG\n",
            "U+1F436\t🐶\tDOG FACE\n",
            "U+1F9AE\t🦮\tGUIDE DOG\n"
          ]
        }
      ]
    },
    {
      "cell_type": "code",
      "source": [],
      "metadata": {
        "id": "wZUHEymNxwsP"
      },
      "execution_count": null,
      "outputs": []
    }
  ]
}