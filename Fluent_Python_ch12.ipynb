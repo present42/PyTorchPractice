{
  "nbformat": 4,
  "nbformat_minor": 0,
  "metadata": {
    "colab": {
      "provenance": [],
      "authorship_tag": "ABX9TyNU912n7zWYCxDChu9OHujE",
      "include_colab_link": true
    },
    "kernelspec": {
      "name": "python3",
      "display_name": "Python 3"
    },
    "language_info": {
      "name": "python"
    }
  },
  "cells": [
    {
      "cell_type": "markdown",
      "metadata": {
        "id": "view-in-github",
        "colab_type": "text"
      },
      "source": [
        "<a href=\"https://colab.research.google.com/github/present42/PyTorchPractice/blob/main/Fluent_Python_ch12.ipynb\" target=\"_parent\"><img src=\"https://colab.research.google.com/assets/colab-badge.svg\" alt=\"Open In Colab\"/></a>"
      ]
    },
    {
      "cell_type": "markdown",
      "source": [
        "# Chapter 12. Special Methods for Sequences"
      ],
      "metadata": {
        "id": "16xOUHRonnar"
      }
    },
    {
      "cell_type": "markdown",
      "source": [
        "Implementation of `Vector` class with following properties:\n",
        " 1. Basic sequence protocol: `__len__` and `__getitem__`\n",
        " 2. Safe representation of instances with many items\n",
        " 3. Proper slicing support, producing new Vector instances\n",
        " 4. Aggregate hashing, taking  into account every contained element value\n",
        " 5. Custom formatting language extension"
      ],
      "metadata": {
        "id": "909Ko00In_A5"
      }
    },
    {
      "cell_type": "markdown",
      "source": [
        "# Vector Take #1: Vector2d Compatible"
      ],
      "metadata": {
        "id": "i6cWfI5Kos_-"
      }
    },
    {
      "cell_type": "markdown",
      "source": [
        "best practice for a sequence constructor is to take the data as iterable argument in the constructor."
      ],
      "metadata": {
        "id": "blEAsh5Go3gW"
      }
    },
    {
      "cell_type": "code",
      "execution_count": 1,
      "metadata": {
        "id": "yZTRQRagnlH4"
      },
      "outputs": [],
      "source": [
        "# vector_v1.py\n",
        "from array import array\n",
        "import reprlib\n",
        "import math\n",
        "\n",
        "class Vector:\n",
        "  typecode = 'd'\n",
        "\n",
        "  def __init__(self, components):\n",
        "    # self._components - \"protected\" instance attribute will hold an array with the Vector components\n",
        "    self._components = array(self.typecode, components)\n",
        "\n",
        "  def __iter__(self):\n",
        "    return iter(self._components)\n",
        "\n",
        "  def __repr__(self):\n",
        "    components = reprlib.repr(self._components)\n",
        "    components = components[components.find('['):-1]\n",
        "    return f'Vector({components})'\n",
        "\n",
        "  def __str__(self):\n",
        "    return str(tuple(self))\n",
        "\n",
        "  def __bytes__(self):\n",
        "    return (bytes([ord(self.typecode)]) +\n",
        "            bytes(self._components))\n",
        "\n",
        "  def __eq__(self, other):\n",
        "    return tuple(self) == tuple(other)\n",
        "\n",
        "  def __abs__(self):\n",
        "    return math.hypot(*self)\n",
        "\n",
        "  def __bool__(self):\n",
        "    return bool(abs(self))\n",
        "\n",
        "  @classmethod\n",
        "  def frombytes(cls, octets):\n",
        "    typecode = chr(octets[0])\n",
        "    memv = memoryview(octets[1:]).cast(typecode)\n",
        "    return cls(memv)"
      ]
    },
    {
      "cell_type": "code",
      "source": [
        "tuple(Vector([3.1, 4.2]))"
      ],
      "metadata": {
        "colab": {
          "base_uri": "https://localhost:8080/"
        },
        "id": "VRiXTkvGqsPg",
        "outputId": "52486f27-fbe1-4827-8e47-f4ab31735c54"
      },
      "execution_count": null,
      "outputs": [
        {
          "output_type": "execute_result",
          "data": {
            "text/plain": [
              "(3.1, 4.2)"
            ]
          },
          "metadata": {},
          "execution_count": 3
        }
      ]
    },
    {
      "cell_type": "code",
      "source": [
        "Vector((3, 4, 5))"
      ],
      "metadata": {
        "colab": {
          "base_uri": "https://localhost:8080/"
        },
        "id": "oaqNetLDrIWX",
        "outputId": "9eb023a1-a2e9-45b0-e22c-7c5a080c8960"
      },
      "execution_count": null,
      "outputs": [
        {
          "output_type": "execute_result",
          "data": {
            "text/plain": [
              "Vector([3.0, 4.0, 5.0])"
            ]
          },
          "metadata": {},
          "execution_count": 4
        }
      ]
    },
    {
      "cell_type": "code",
      "source": [
        "Vector(range(10))"
      ],
      "metadata": {
        "colab": {
          "base_uri": "https://localhost:8080/"
        },
        "id": "UydYccK1rduH",
        "outputId": "724e6676-7516-45c3-ea18-794c89701737"
      },
      "execution_count": null,
      "outputs": [
        {
          "output_type": "execute_result",
          "data": {
            "text/plain": [
              "Vector([0.0, 1.0, 2.0, 3.0, 4.0, ...])"
            ]
          },
          "metadata": {},
          "execution_count": 5
        }
      ]
    },
    {
      "cell_type": "markdown",
      "source": [
        "## Protocols and Duck Typing"
      ],
      "metadata": {
        "id": "B-Abe-CNrprf"
      }
    },
    {
      "cell_type": "markdown",
      "source": [
        "You don't need to inherit from any special class to create a fully functional sequence type in Python; you just need to implement the methods that fulfill the sequence protocol"
      ],
      "metadata": {
        "id": "1y72TyqKruyG"
      }
    },
    {
      "cell_type": "code",
      "source": [
        "# Code from Ex1-1\n",
        "import collections\n",
        "\n",
        "Card = collections.namedtuple('Card', ['rank', 'suit'])\n",
        "\n",
        "class FrenchDeck:\n",
        "  ranks = [str(n) for n in range(2, 11)] + list('JQKA')\n",
        "  suits = 'spades diamonds clubs hearts'.split()\n",
        "\n",
        "  def __init__(self):\n",
        "    self._cards = [Card(rank, suit) for suit in self.suits for rank in self.ranks]\n",
        "\n",
        "  def __len__(self):\n",
        "    return len(self._cards)\n",
        "\n",
        "  def __getitem__(self, position):\n",
        "    return self._cards[position]\n"
      ],
      "metadata": {
        "id": "rwiHQoxLrfoO"
      },
      "execution_count": null,
      "outputs": []
    },
    {
      "cell_type": "markdown",
      "source": [
        "The above `FrenchDeck` class is a sequence even if it subclasses `object`. We say it is a sequence because it behaves like one, and that is what matters."
      ],
      "metadata": {
        "id": "wu5vrkiMsgjY"
      }
    },
    {
      "cell_type": "markdown",
      "source": [
        "# Vector Take #2: A Sliceable Sequence"
      ],
      "metadata": {
        "id": "0rJdzfKTs-WH"
      }
    },
    {
      "cell_type": "code",
      "source": [
        "# vector_v2.py\n",
        "from array import array\n",
        "import reprlib\n",
        "import math\n",
        "\n",
        "class Vector:\n",
        "  typecode = 'd'\n",
        "\n",
        "  def __init__(self, components):\n",
        "    # self._components - \"protected\" instance attribute will hold an array with the Vector components\n",
        "    self._components = array(self.typecode, components)\n",
        "\n",
        "  def __iter__(self):\n",
        "    return iter(self._components)\n",
        "\n",
        "  def __repr__(self):\n",
        "    components = reprlib.repr(self._components)\n",
        "    components = components[components.find('['):-1]\n",
        "    return f'Vector({components})'\n",
        "\n",
        "  def __str__(self):\n",
        "    return str(tuple(self))\n",
        "\n",
        "  def __bytes__(self):\n",
        "    return (bytes([ord(self.typecode)]) +\n",
        "            bytes(self._components))\n",
        "\n",
        "  def __eq__(self, other):\n",
        "    return tuple(self) == tuple(other)\n",
        "\n",
        "  def __abs__(self):\n",
        "    return math.hypot(*self)\n",
        "\n",
        "  def __bool__(self):\n",
        "    return bool(abs(self))\n",
        "\n",
        "  def __len__(self):\n",
        "    return len(self._components)\n",
        "\n",
        "  def __getitem__(self, index):\n",
        "    return self._components[index]\n",
        "\n",
        "  @classmethod\n",
        "  def frombytes(cls, octets):\n",
        "    typecode = chr(octets[0])\n",
        "    memv = memoryview(octets[1:]).cast(typecode)\n",
        "    return cls(memv)"
      ],
      "metadata": {
        "id": "Gq3stluasaaw"
      },
      "execution_count": null,
      "outputs": []
    },
    {
      "cell_type": "code",
      "source": [
        "v1 = Vector([3, 4, 5])"
      ],
      "metadata": {
        "id": "--BwqoU2tOYg"
      },
      "execution_count": null,
      "outputs": []
    },
    {
      "cell_type": "code",
      "source": [
        "len(v1)"
      ],
      "metadata": {
        "colab": {
          "base_uri": "https://localhost:8080/"
        },
        "id": "HbOFi_vBtQQf",
        "outputId": "178eb9cc-8efe-4775-af71-5ccbb0bddf07"
      },
      "execution_count": null,
      "outputs": [
        {
          "output_type": "execute_result",
          "data": {
            "text/plain": [
              "3"
            ]
          },
          "metadata": {},
          "execution_count": 9
        }
      ]
    },
    {
      "cell_type": "code",
      "source": [
        "v1[0], v1[-1]"
      ],
      "metadata": {
        "colab": {
          "base_uri": "https://localhost:8080/"
        },
        "id": "dfDJEO0RtQ0P",
        "outputId": "94bb9841-6e0d-42ef-df38-fe499303c506"
      },
      "execution_count": null,
      "outputs": [
        {
          "output_type": "execute_result",
          "data": {
            "text/plain": [
              "(3.0, 5.0)"
            ]
          },
          "metadata": {},
          "execution_count": 10
        }
      ]
    },
    {
      "cell_type": "code",
      "source": [
        "v7 = Vector(range(7))\n",
        "v7[1:4]"
      ],
      "metadata": {
        "colab": {
          "base_uri": "https://localhost:8080/"
        },
        "id": "lB1aBMv5tSE_",
        "outputId": "7ac8e7ba-aa05-427f-f9da-9c8947f5e34b"
      },
      "execution_count": null,
      "outputs": [
        {
          "output_type": "execute_result",
          "data": {
            "text/plain": [
              "array('d', [1.0, 2.0, 3.0])"
            ]
          },
          "metadata": {},
          "execution_count": 11
        }
      ]
    },
    {
      "cell_type": "markdown",
      "source": [
        "## how slicing works"
      ],
      "metadata": {
        "id": "-PxdsFistird"
      }
    },
    {
      "cell_type": "code",
      "source": [
        "class MySeq:\n",
        "  def __getitem__(self, index):\n",
        "    return index"
      ],
      "metadata": {
        "id": "9ss30u5btVP4"
      },
      "execution_count": null,
      "outputs": []
    },
    {
      "cell_type": "code",
      "source": [
        "s = MySeq()"
      ],
      "metadata": {
        "id": "f0fG7mv2tnIf"
      },
      "execution_count": null,
      "outputs": []
    },
    {
      "cell_type": "code",
      "source": [
        "s[1]"
      ],
      "metadata": {
        "colab": {
          "base_uri": "https://localhost:8080/"
        },
        "id": "t9LBSMDJtn2n",
        "outputId": "806fa9a8-8318-40e2-b8b6-df18df72c41b"
      },
      "execution_count": null,
      "outputs": [
        {
          "output_type": "execute_result",
          "data": {
            "text/plain": [
              "1"
            ]
          },
          "metadata": {},
          "execution_count": 14
        }
      ]
    },
    {
      "cell_type": "code",
      "source": [
        "s[1:4]"
      ],
      "metadata": {
        "colab": {
          "base_uri": "https://localhost:8080/"
        },
        "id": "1iFMHLCStoRf",
        "outputId": "a6006a9d-e20d-4d74-c6e3-3bcd0d144555"
      },
      "execution_count": null,
      "outputs": [
        {
          "output_type": "execute_result",
          "data": {
            "text/plain": [
              "slice(1, 4, None)"
            ]
          },
          "metadata": {},
          "execution_count": 15
        }
      ]
    },
    {
      "cell_type": "code",
      "source": [
        "s[1:4:2]"
      ],
      "metadata": {
        "colab": {
          "base_uri": "https://localhost:8080/"
        },
        "id": "yu2Zh8catqOv",
        "outputId": "b0fc5a11-f09e-4474-f9ab-4502150dd45d"
      },
      "execution_count": null,
      "outputs": [
        {
          "output_type": "execute_result",
          "data": {
            "text/plain": [
              "slice(1, 4, 2)"
            ]
          },
          "metadata": {},
          "execution_count": 16
        }
      ]
    },
    {
      "cell_type": "code",
      "source": [
        "s[1:4:2, 9]"
      ],
      "metadata": {
        "colab": {
          "base_uri": "https://localhost:8080/"
        },
        "id": "LrmcScNNtrm_",
        "outputId": "15014a3e-6c31-4432-d49e-d7ca5848e8ca"
      },
      "execution_count": null,
      "outputs": [
        {
          "output_type": "execute_result",
          "data": {
            "text/plain": [
              "(slice(1, 4, 2), 9)"
            ]
          },
          "metadata": {},
          "execution_count": 17
        }
      ]
    },
    {
      "cell_type": "code",
      "source": [
        "s[1:4:2, 7:9] # tuple may even hold several slice objects"
      ],
      "metadata": {
        "colab": {
          "base_uri": "https://localhost:8080/"
        },
        "id": "mJ1sfrGKts83",
        "outputId": "ab717246-8c99-4ba5-e764-dea2e5646e71"
      },
      "execution_count": null,
      "outputs": [
        {
          "output_type": "execute_result",
          "data": {
            "text/plain": [
              "(slice(1, 4, 2), slice(7, 9, None))"
            ]
          },
          "metadata": {},
          "execution_count": 18
        }
      ]
    },
    {
      "cell_type": "code",
      "source": [
        "slice"
      ],
      "metadata": {
        "colab": {
          "base_uri": "https://localhost:8080/"
        },
        "id": "3xHO7fe_tvq_",
        "outputId": "62326ba4-91a2-493e-98e3-7feed3c22881"
      },
      "execution_count": null,
      "outputs": [
        {
          "output_type": "execute_result",
          "data": {
            "text/plain": [
              "slice"
            ]
          },
          "metadata": {},
          "execution_count": 19
        }
      ]
    },
    {
      "cell_type": "code",
      "source": [
        "dir(slice)"
      ],
      "metadata": {
        "colab": {
          "base_uri": "https://localhost:8080/"
        },
        "id": "ZJYPD2rlt343",
        "outputId": "54850245-fea2-4cde-ba4a-2b417f166f9a"
      },
      "execution_count": null,
      "outputs": [
        {
          "output_type": "execute_result",
          "data": {
            "text/plain": [
              "['__class__',\n",
              " '__delattr__',\n",
              " '__dir__',\n",
              " '__doc__',\n",
              " '__eq__',\n",
              " '__format__',\n",
              " '__ge__',\n",
              " '__getattribute__',\n",
              " '__gt__',\n",
              " '__hash__',\n",
              " '__init__',\n",
              " '__init_subclass__',\n",
              " '__le__',\n",
              " '__lt__',\n",
              " '__ne__',\n",
              " '__new__',\n",
              " '__reduce__',\n",
              " '__reduce_ex__',\n",
              " '__repr__',\n",
              " '__setattr__',\n",
              " '__sizeof__',\n",
              " '__str__',\n",
              " '__subclasshook__',\n",
              " 'indices',\n",
              " 'start',\n",
              " 'step',\n",
              " 'stop']"
            ]
          },
          "metadata": {},
          "execution_count": 20
        }
      ]
    },
    {
      "cell_type": "code",
      "source": [
        "'ABCDE'[:10:2] == 'ABCDE'[0:5:2]"
      ],
      "metadata": {
        "colab": {
          "base_uri": "https://localhost:8080/"
        },
        "id": "yJZouZXut5aA",
        "outputId": "c54bc766-ba80-40eb-a733-b84ac5df131a"
      },
      "execution_count": null,
      "outputs": [
        {
          "output_type": "execute_result",
          "data": {
            "text/plain": [
              "True"
            ]
          },
          "metadata": {},
          "execution_count": 23
        }
      ]
    },
    {
      "cell_type": "code",
      "source": [
        "slice(None, 10, 2).indices(5) # indices exposes the tricky logic that's implemented in the built-in seq\n",
        "                              # to gracefully handle missing or negative indices"
      ],
      "metadata": {
        "colab": {
          "base_uri": "https://localhost:8080/"
        },
        "id": "F-_C85tOuh3I",
        "outputId": "b52fd591-f898-4d01-d566-aae694ab4052"
      },
      "execution_count": null,
      "outputs": [
        {
          "output_type": "execute_result",
          "data": {
            "text/plain": [
              "(0, 5, 2)"
            ]
          },
          "metadata": {},
          "execution_count": 24
        }
      ]
    },
    {
      "cell_type": "code",
      "source": [
        "slice(-3, None, None).indices(5)"
      ],
      "metadata": {
        "colab": {
          "base_uri": "https://localhost:8080/"
        },
        "id": "Zg8pzMIxuloI",
        "outputId": "d5ca22f1-57d3-4872-ec98-ae7b55142f13"
      },
      "execution_count": null,
      "outputs": [
        {
          "output_type": "execute_result",
          "data": {
            "text/plain": [
              "(2, 5, 1)"
            ]
          },
          "metadata": {},
          "execution_count": 25
        }
      ]
    },
    {
      "cell_type": "markdown",
      "source": [
        "In our vector code, we'll not need the `slice.indices()` method because when we get a slice argument we'll delegate its handling t the _components array."
      ],
      "metadata": {
        "id": "3MxzKjx5vCUo"
      }
    },
    {
      "cell_type": "code",
      "source": [
        "# vector_v2.py\n",
        "from array import array\n",
        "import operator\n",
        "import reprlib\n",
        "import math\n",
        "\n",
        "class Vector:\n",
        "  typecode = 'd'\n",
        "\n",
        "  def __init__(self, components):\n",
        "    # self._components - \"protected\" instance attribute will hold an array with the Vector components\n",
        "    self._components = array(self.typecode, components)\n",
        "\n",
        "  def __iter__(self):\n",
        "    return iter(self._components)\n",
        "\n",
        "  def __repr__(self):\n",
        "    components = reprlib.repr(self._components)\n",
        "    components = components[components.find('['):-1]\n",
        "    return f'Vector({components})'\n",
        "\n",
        "  def __str__(self):\n",
        "    return str(tuple(self))\n",
        "\n",
        "  def __bytes__(self):\n",
        "    return (bytes([ord(self.typecode)]) +\n",
        "            bytes(self._components))\n",
        "\n",
        "  def __eq__(self, other):\n",
        "    return tuple(self) == tuple(other)\n",
        "\n",
        "  def __abs__(self):\n",
        "    return math.hypot(*self)\n",
        "\n",
        "  def __bool__(self):\n",
        "    return bool(abs(self))\n",
        "\n",
        "  def __len__(self):\n",
        "    return len(self._components)\n",
        "\n",
        "  def __getitem__(self, key):\n",
        "    if isinstance(key, slice):\n",
        "      cls = type(self)\n",
        "      return cls(self._components[key])\n",
        "    index = operator.index(key) # operator.index() calls the __index__ special method\n",
        "    return self._components[index]\n",
        "\n",
        "  @classmethod\n",
        "  def frombytes(cls, octets):\n",
        "    typecode = chr(octets[0])\n",
        "    memv = memoryview(octets[1:]).cast(typecode)\n",
        "    return cls(memv)"
      ],
      "metadata": {
        "id": "lODRm3Slu7rX"
      },
      "execution_count": 2,
      "outputs": []
    },
    {
      "cell_type": "code",
      "source": [
        "v7 = Vector(range(7))"
      ],
      "metadata": {
        "id": "va8qyqyswZVp"
      },
      "execution_count": null,
      "outputs": []
    },
    {
      "cell_type": "code",
      "source": [
        "v7[-1]"
      ],
      "metadata": {
        "colab": {
          "base_uri": "https://localhost:8080/"
        },
        "id": "4EQ1gevWwbGI",
        "outputId": "acb8ff5f-50b0-4421-c844-1ed9a6d6750c"
      },
      "execution_count": null,
      "outputs": [
        {
          "output_type": "execute_result",
          "data": {
            "text/plain": [
              "6.0"
            ]
          },
          "metadata": {},
          "execution_count": 32
        }
      ]
    },
    {
      "cell_type": "code",
      "source": [
        "v7[1:4]"
      ],
      "metadata": {
        "colab": {
          "base_uri": "https://localhost:8080/"
        },
        "id": "lormVvH1wbu4",
        "outputId": "87e568a2-5b58-4ed2-c84f-1f5cc640ee16"
      },
      "execution_count": null,
      "outputs": [
        {
          "output_type": "execute_result",
          "data": {
            "text/plain": [
              "Vector([1.0, 2.0, 3.0])"
            ]
          },
          "metadata": {},
          "execution_count": 33
        }
      ]
    },
    {
      "cell_type": "code",
      "source": [
        "v7[-1:]"
      ],
      "metadata": {
        "colab": {
          "base_uri": "https://localhost:8080/"
        },
        "id": "1_YgwqbSwxUw",
        "outputId": "82335279-4154-4e1a-b686-af1da96a5438"
      },
      "execution_count": null,
      "outputs": [
        {
          "output_type": "execute_result",
          "data": {
            "text/plain": [
              "Vector([6.0])"
            ]
          },
          "metadata": {},
          "execution_count": 34
        }
      ]
    },
    {
      "cell_type": "code",
      "source": [
        "v7[1, 2] # Vector does not support multidimensional indexing"
      ],
      "metadata": {
        "colab": {
          "base_uri": "https://localhost:8080/",
          "height": 280
        },
        "id": "YYxaLRu-wyiY",
        "outputId": "24e8aa9e-5c29-4d5f-ca94-b0d40759710d"
      },
      "execution_count": null,
      "outputs": [
        {
          "output_type": "error",
          "ename": "TypeError",
          "evalue": "'tuple' object cannot be interpreted as an integer",
          "traceback": [
            "\u001b[0;31m---------------------------------------------------------------------------\u001b[0m",
            "\u001b[0;31mTypeError\u001b[0m                                 Traceback (most recent call last)",
            "\u001b[0;32m<ipython-input-35-54e115c7e17b>\u001b[0m in \u001b[0;36m<cell line: 1>\u001b[0;34m()\u001b[0m\n\u001b[0;32m----> 1\u001b[0;31m \u001b[0mv7\u001b[0m\u001b[0;34m[\u001b[0m\u001b[0;36m1\u001b[0m\u001b[0;34m,\u001b[0m \u001b[0;36m2\u001b[0m\u001b[0;34m]\u001b[0m\u001b[0;34m\u001b[0m\u001b[0;34m\u001b[0m\u001b[0m\n\u001b[0m",
            "\u001b[0;32m<ipython-input-30-272dec69d221>\u001b[0m in \u001b[0;36m__getitem__\u001b[0;34m(self, key)\u001b[0m\n\u001b[1;32m     43\u001b[0m       \u001b[0mcls\u001b[0m \u001b[0;34m=\u001b[0m \u001b[0mtype\u001b[0m\u001b[0;34m(\u001b[0m\u001b[0mself\u001b[0m\u001b[0;34m)\u001b[0m\u001b[0;34m\u001b[0m\u001b[0;34m\u001b[0m\u001b[0m\n\u001b[1;32m     44\u001b[0m       \u001b[0;32mreturn\u001b[0m \u001b[0mcls\u001b[0m\u001b[0;34m(\u001b[0m\u001b[0mself\u001b[0m\u001b[0;34m.\u001b[0m\u001b[0m_components\u001b[0m\u001b[0;34m[\u001b[0m\u001b[0mkey\u001b[0m\u001b[0;34m]\u001b[0m\u001b[0;34m)\u001b[0m\u001b[0;34m\u001b[0m\u001b[0;34m\u001b[0m\u001b[0m\n\u001b[0;32m---> 45\u001b[0;31m     \u001b[0mindex\u001b[0m \u001b[0;34m=\u001b[0m \u001b[0moperator\u001b[0m\u001b[0;34m.\u001b[0m\u001b[0mindex\u001b[0m\u001b[0;34m(\u001b[0m\u001b[0mkey\u001b[0m\u001b[0;34m)\u001b[0m \u001b[0;31m# operator.index() calls the __index__ special method\u001b[0m\u001b[0;34m\u001b[0m\u001b[0;34m\u001b[0m\u001b[0m\n\u001b[0m\u001b[1;32m     46\u001b[0m     \u001b[0;32mreturn\u001b[0m \u001b[0mself\u001b[0m\u001b[0;34m.\u001b[0m\u001b[0m_components\u001b[0m\u001b[0;34m[\u001b[0m\u001b[0mindex\u001b[0m\u001b[0;34m]\u001b[0m\u001b[0;34m\u001b[0m\u001b[0;34m\u001b[0m\u001b[0m\n\u001b[1;32m     47\u001b[0m \u001b[0;34m\u001b[0m\u001b[0m\n",
            "\u001b[0;31mTypeError\u001b[0m: 'tuple' object cannot be interpreted as an integer"
          ]
        }
      ]
    },
    {
      "cell_type": "markdown",
      "source": [
        "# Vector Take #3: Dynamic Attribute Access"
      ],
      "metadata": {
        "id": "0D8I31vowpgI"
      }
    },
    {
      "cell_type": "code",
      "source": [
        "# vector_v3.py\n",
        "from array import array\n",
        "import operator\n",
        "import reprlib\n",
        "import math\n",
        "\n",
        "class Vector:\n",
        "  typecode = 'd'\n",
        "  __match_args__ = ('x', 'y', 'z', 't')\n",
        "\n",
        "  def __init__(self, components):\n",
        "    # self._components - \"protected\" instance attribute will hold an array with the Vector components\n",
        "    self._components = array(self.typecode, components)\n",
        "\n",
        "  def __iter__(self):\n",
        "    return iter(self._components)\n",
        "\n",
        "  def __repr__(self):\n",
        "    components = reprlib.repr(self._components)\n",
        "    components = components[components.find('['):-1]\n",
        "    return f'Vector({components})'\n",
        "\n",
        "  def __str__(self):\n",
        "    return str(tuple(self))\n",
        "\n",
        "  def __bytes__(self):\n",
        "    return (bytes([ord(self.typecode)]) +\n",
        "            bytes(self._components))\n",
        "\n",
        "  def __eq__(self, other):\n",
        "    return tuple(self) == tuple(other)\n",
        "\n",
        "  def __abs__(self):\n",
        "    return math.hypot(*self)\n",
        "\n",
        "  def __bool__(self):\n",
        "    return bool(abs(self))\n",
        "\n",
        "  def __len__(self):\n",
        "    return len(self._components)\n",
        "\n",
        "  def __getitem__(self, key):\n",
        "    if isinstance(key, slice):\n",
        "      cls = type(self)\n",
        "      return cls(self._components[key])\n",
        "    index = operator.index(key) # operator.index() calls the __index__ special method\n",
        "    return self._components[index]\n",
        "\n",
        "  def __getattr__(self, name):\n",
        "    cls = type(self)\n",
        "    try:\n",
        "      pos = cls.__match_args__.index(name)\n",
        "    except ValueError:\n",
        "      pos = -1\n",
        "    if 0 <= pos < len(self._components):\n",
        "      return self._components[pos]\n",
        "    msg = f'{cls.__name__!r} object has not attribute {name!r}'\n",
        "    raise AttributeError(msg)\n",
        "\n",
        "  def __setattr__(self, name, value):\n",
        "    cls = type(self)\n",
        "    if len(name) == 1:\n",
        "      if name in cls.__match_args__:\n",
        "        error = 'readonly attribute {attr_name!r}'\n",
        "      elif name.islower():\n",
        "        error = \"can't set attribute 'a' to 'z' in {cls_name!r}\"\n",
        "      else:\n",
        "        error = ''\n",
        "      if error:\n",
        "        msg = error.format(cls_name=cls.__name__, attr_name=name)\n",
        "        raise AttributeError(msg)\n",
        "    super().__setattr__(name, value)\n",
        "\n",
        "  @classmethod\n",
        "  def frombytes(cls, octets):\n",
        "    typecode = chr(octets[0])\n",
        "    memv = memoryview(octets[1:]).cast(typecode)\n",
        "    return cls(memv)"
      ],
      "metadata": {
        "id": "XVRntQgZwzWY"
      },
      "execution_count": 11,
      "outputs": []
    },
    {
      "cell_type": "code",
      "source": [
        "v = Vector(range(5))"
      ],
      "metadata": {
        "id": "lGxVYyFMxi3y"
      },
      "execution_count": 12,
      "outputs": []
    },
    {
      "cell_type": "code",
      "source": [
        "v"
      ],
      "metadata": {
        "colab": {
          "base_uri": "https://localhost:8080/"
        },
        "id": "pv-AmnNgxlla",
        "outputId": "e7f40394-b765-454e-c5c2-6b69fda33d85"
      },
      "execution_count": 13,
      "outputs": [
        {
          "output_type": "execute_result",
          "data": {
            "text/plain": [
              "Vector([0.0, 1.0, 2.0, 3.0, 4.0])"
            ]
          },
          "metadata": {},
          "execution_count": 13
        }
      ]
    },
    {
      "cell_type": "code",
      "source": [
        "v.x"
      ],
      "metadata": {
        "colab": {
          "base_uri": "https://localhost:8080/"
        },
        "id": "otHBw4CGxmIp",
        "outputId": "3a06f3ca-b4df-44af-ebf1-6e78846fc0de"
      },
      "execution_count": 14,
      "outputs": [
        {
          "output_type": "execute_result",
          "data": {
            "text/plain": [
              "0.0"
            ]
          },
          "metadata": {},
          "execution_count": 14
        }
      ]
    },
    {
      "cell_type": "code",
      "source": [
        "v.x = 10"
      ],
      "metadata": {
        "colab": {
          "base_uri": "https://localhost:8080/",
          "height": 280
        },
        "id": "hDQE9Wxixm_y",
        "outputId": "c0ce5c9f-4996-4487-a3f8-3dc64375b7bc"
      },
      "execution_count": 15,
      "outputs": [
        {
          "output_type": "error",
          "ename": "AttributeError",
          "evalue": "readonly attribute 'x'",
          "traceback": [
            "\u001b[0;31m---------------------------------------------------------------------------\u001b[0m",
            "\u001b[0;31mAttributeError\u001b[0m                            Traceback (most recent call last)",
            "\u001b[0;32m<ipython-input-15-ab03a2bcc936>\u001b[0m in \u001b[0;36m<cell line: 1>\u001b[0;34m()\u001b[0m\n\u001b[0;32m----> 1\u001b[0;31m \u001b[0mv\u001b[0m\u001b[0;34m.\u001b[0m\u001b[0mx\u001b[0m \u001b[0;34m=\u001b[0m \u001b[0;36m10\u001b[0m\u001b[0;34m\u001b[0m\u001b[0;34m\u001b[0m\u001b[0m\n\u001b[0m",
            "\u001b[0;32m<ipython-input-11-a32056254e9b>\u001b[0m in \u001b[0;36m__setattr__\u001b[0;34m(self, name, value)\u001b[0m\n\u001b[1;32m     69\u001b[0m       \u001b[0;32mif\u001b[0m \u001b[0merror\u001b[0m\u001b[0;34m:\u001b[0m\u001b[0;34m\u001b[0m\u001b[0;34m\u001b[0m\u001b[0m\n\u001b[1;32m     70\u001b[0m         \u001b[0mmsg\u001b[0m \u001b[0;34m=\u001b[0m \u001b[0merror\u001b[0m\u001b[0;34m.\u001b[0m\u001b[0mformat\u001b[0m\u001b[0;34m(\u001b[0m\u001b[0mcls_name\u001b[0m\u001b[0;34m=\u001b[0m\u001b[0mcls\u001b[0m\u001b[0;34m.\u001b[0m\u001b[0m__name__\u001b[0m\u001b[0;34m,\u001b[0m \u001b[0mattr_name\u001b[0m\u001b[0;34m=\u001b[0m\u001b[0mname\u001b[0m\u001b[0;34m)\u001b[0m\u001b[0;34m\u001b[0m\u001b[0;34m\u001b[0m\u001b[0m\n\u001b[0;32m---> 71\u001b[0;31m         \u001b[0;32mraise\u001b[0m \u001b[0mAttributeError\u001b[0m\u001b[0;34m(\u001b[0m\u001b[0mmsg\u001b[0m\u001b[0;34m)\u001b[0m\u001b[0;34m\u001b[0m\u001b[0;34m\u001b[0m\u001b[0m\n\u001b[0m\u001b[1;32m     72\u001b[0m     \u001b[0msuper\u001b[0m\u001b[0;34m(\u001b[0m\u001b[0;34m)\u001b[0m\u001b[0;34m.\u001b[0m\u001b[0m__setattr__\u001b[0m\u001b[0;34m(\u001b[0m\u001b[0mname\u001b[0m\u001b[0;34m,\u001b[0m \u001b[0mvalue\u001b[0m\u001b[0;34m)\u001b[0m\u001b[0;34m\u001b[0m\u001b[0;34m\u001b[0m\u001b[0m\n\u001b[1;32m     73\u001b[0m \u001b[0;34m\u001b[0m\u001b[0m\n",
            "\u001b[0;31mAttributeError\u001b[0m: readonly attribute 'x'"
          ]
        }
      ]
    },
    {
      "cell_type": "code",
      "source": [
        "v"
      ],
      "metadata": {
        "colab": {
          "base_uri": "https://localhost:8080/"
        },
        "id": "cUcf4g9Ixnkp",
        "outputId": "4010ab3d-a2c4-4dad-ff40-4aa5ab328513"
      },
      "execution_count": 16,
      "outputs": [
        {
          "output_type": "execute_result",
          "data": {
            "text/plain": [
              "Vector([0.0, 1.0, 2.0, 3.0, 4.0])"
            ]
          },
          "metadata": {},
          "execution_count": 16
        }
      ]
    },
    {
      "cell_type": "code",
      "source": [
        "v.x"
      ],
      "metadata": {
        "colab": {
          "base_uri": "https://localhost:8080/"
        },
        "id": "uLz5ih7Xxocp",
        "outputId": "d012c15f-4002-4e12-f9ab-8c7c17bd2344"
      },
      "execution_count": 17,
      "outputs": [
        {
          "output_type": "execute_result",
          "data": {
            "text/plain": [
              "0.0"
            ]
          },
          "metadata": {},
          "execution_count": 17
        }
      ]
    },
    {
      "cell_type": "markdown",
      "source": [
        "# Vector Take #4: Hashing and a Faster `==`"
      ],
      "metadata": {
        "id": "atK4US0jzuOt"
      }
    },
    {
      "cell_type": "code",
      "source": [
        "2 * 3 * 4 * 5"
      ],
      "metadata": {
        "colab": {
          "base_uri": "https://localhost:8080/"
        },
        "id": "dMYSNmsJxqWJ",
        "outputId": "7f3d3119-d73f-4465-dab0-2f9b7f715ca9"
      },
      "execution_count": 18,
      "outputs": [
        {
          "output_type": "execute_result",
          "data": {
            "text/plain": [
              "120"
            ]
          },
          "metadata": {},
          "execution_count": 18
        }
      ]
    },
    {
      "cell_type": "code",
      "source": [
        "import functools\n",
        "\n",
        "functools.reduce(lambda a, b: a * b, range(1, 6))"
      ],
      "metadata": {
        "colab": {
          "base_uri": "https://localhost:8080/"
        },
        "id": "1HSpnAlz0LEr",
        "outputId": "e9b4d142-b0fc-43e3-b1ab-9594462055f9"
      },
      "execution_count": 19,
      "outputs": [
        {
          "output_type": "execute_result",
          "data": {
            "text/plain": [
              "120"
            ]
          },
          "metadata": {},
          "execution_count": 19
        }
      ]
    },
    {
      "cell_type": "code",
      "source": [
        "1 ^ 2"
      ],
      "metadata": {
        "colab": {
          "base_uri": "https://localhost:8080/"
        },
        "id": "EjRxvvBW0O8h",
        "outputId": "fa27e7c5-adaa-4f7c-f4d3-017ed86a4dc0"
      },
      "execution_count": 20,
      "outputs": [
        {
          "output_type": "execute_result",
          "data": {
            "text/plain": [
              "3"
            ]
          },
          "metadata": {},
          "execution_count": 20
        }
      ]
    },
    {
      "cell_type": "code",
      "source": [
        "n = 0\n",
        "for i in range(1, 6):\n",
        "  n ^= i\n",
        "  print(n)"
      ],
      "metadata": {
        "colab": {
          "base_uri": "https://localhost:8080/"
        },
        "id": "lxVQDiij0YLJ",
        "outputId": "5163699a-02c7-4e3a-ec99-9e4e97b2059c"
      },
      "execution_count": 21,
      "outputs": [
        {
          "output_type": "stream",
          "name": "stdout",
          "text": [
            "1\n",
            "3\n",
            "0\n",
            "4\n",
            "1\n"
          ]
        }
      ]
    },
    {
      "cell_type": "code",
      "source": [
        "functools.reduce(lambda a, b: a ^ b, range(6))"
      ],
      "metadata": {
        "colab": {
          "base_uri": "https://localhost:8080/"
        },
        "id": "9C19LkMi0w0S",
        "outputId": "cfa83106-f108-479e-9dac-ee11aa2bedc9"
      },
      "execution_count": 22,
      "outputs": [
        {
          "output_type": "execute_result",
          "data": {
            "text/plain": [
              "1"
            ]
          },
          "metadata": {},
          "execution_count": 22
        }
      ]
    },
    {
      "cell_type": "code",
      "source": [
        "import operator\n",
        "functools.reduce(operator.xor, range(6))"
      ],
      "metadata": {
        "colab": {
          "base_uri": "https://localhost:8080/"
        },
        "id": "KwBnhwER03zy",
        "outputId": "030592fd-0887-495b-a7be-af06ed413f64"
      },
      "execution_count": 23,
      "outputs": [
        {
          "output_type": "execute_result",
          "data": {
            "text/plain": [
              "1"
            ]
          },
          "metadata": {},
          "execution_count": 23
        }
      ]
    },
    {
      "cell_type": "code",
      "source": [
        "# vector_v4.py\n",
        "from array import array\n",
        "import operator\n",
        "import reprlib\n",
        "import math\n",
        "import functools\n",
        "\n",
        "class Vector:\n",
        "  typecode = 'd'\n",
        "  __match_args__ = ('x', 'y', 'z', 't')\n",
        "\n",
        "  def __init__(self, components):\n",
        "    # self._components - \"protected\" instance attribute will hold an array with the Vector components\n",
        "    self._components = array(self.typecode, components)\n",
        "\n",
        "  def __iter__(self):\n",
        "    return iter(self._components)\n",
        "\n",
        "  def __repr__(self):\n",
        "    components = reprlib.repr(self._components)\n",
        "    components = components[components.find('['):-1]\n",
        "    return f'Vector({components})'\n",
        "\n",
        "  def __str__(self):\n",
        "    return str(tuple(self))\n",
        "\n",
        "  def __bytes__(self):\n",
        "    return (bytes([ord(self.typecode)]) +\n",
        "            bytes(self._components))\n",
        "\n",
        "  def __eq__(self, other):\n",
        "    return tuple(self) == tuple(other)\n",
        "\n",
        "  def __abs__(self):\n",
        "    return math.hypot(*self)\n",
        "\n",
        "  def __bool__(self):\n",
        "    return bool(abs(self))\n",
        "\n",
        "  def __len__(self):\n",
        "    return len(self._components)\n",
        "\n",
        "  def __getitem__(self, key):\n",
        "    if isinstance(key, slice):\n",
        "      cls = type(self)\n",
        "      return cls(self._components[key])\n",
        "    index = operator.index(key) # operator.index() calls the __index__ special method\n",
        "    return self._components[index]\n",
        "\n",
        "  def __getattr__(self, name):\n",
        "    cls = type(self)\n",
        "    try:\n",
        "      pos = cls.__match_args__.index(name)\n",
        "    except ValueError:\n",
        "      pos = -1\n",
        "    if 0 <= pos < len(self._components):\n",
        "      return self._components[pos]\n",
        "    msg = f'{cls.__name__!r} object has not attribute {name!r}'\n",
        "    raise AttributeError(msg)\n",
        "\n",
        "  def __setattr__(self, name, value):\n",
        "    cls = type(self)\n",
        "    if len(name) == 1:\n",
        "      if name in cls.__match_args__:\n",
        "        error = 'readonly attribute {attr_name!r}'\n",
        "      elif name.islower():\n",
        "        error = \"can't set attribute 'a' to 'z' in {cls_name!r}\"\n",
        "      else:\n",
        "        error = ''\n",
        "      if error:\n",
        "        msg = error.format(cls_name=cls.__name__, attr_name=name)\n",
        "        raise AttributeError(msg)\n",
        "    super().__setattr__(name, value)\n",
        "\n",
        "  def __eq__(self, other):\n",
        "    return len(self) == len(other) and all(a == b for a, b in zip(self, other))\n",
        "\n",
        "  def __hash__(self):\n",
        "    hashes = map(hash, self._components)\n",
        "    return functools.reduce(operator.xor, hashes, 0)\n",
        "\n",
        "  @classmethod\n",
        "  def frombytes(cls, octets):\n",
        "    typecode = chr(octets[0])\n",
        "    memv = memoryview(octets[1:]).cast(typecode)\n",
        "    return cls(memv)"
      ],
      "metadata": {
        "id": "-xooaVMB060J"
      },
      "execution_count": 24,
      "outputs": []
    },
    {
      "cell_type": "code",
      "source": [
        "zip(range(3), 'ABC') # zip returns a generator that produces tuples on demand"
      ],
      "metadata": {
        "colab": {
          "base_uri": "https://localhost:8080/"
        },
        "id": "7Z1QZgin2nxx",
        "outputId": "6a8fd126-8ddf-4a6a-a942-c7f85c6945ff"
      },
      "execution_count": 25,
      "outputs": [
        {
          "output_type": "execute_result",
          "data": {
            "text/plain": [
              "<zip at 0x7a75eec5ac40>"
            ]
          },
          "metadata": {},
          "execution_count": 25
        }
      ]
    },
    {
      "cell_type": "code",
      "source": [
        "list(zip(range(3), 'ABC'))"
      ],
      "metadata": {
        "colab": {
          "base_uri": "https://localhost:8080/"
        },
        "id": "L0Ap21G92xrx",
        "outputId": "8129f8b7-1530-46d1-fa80-a283a9a86ccd"
      },
      "execution_count": 26,
      "outputs": [
        {
          "output_type": "execute_result",
          "data": {
            "text/plain": [
              "[(0, 'A'), (1, 'B'), (2, 'C')]"
            ]
          },
          "metadata": {},
          "execution_count": 26
        }
      ]
    },
    {
      "cell_type": "code",
      "source": [
        "list(zip(range(3), 'ABC', [0.0, 1.1, 2.2, 3.3]))"
      ],
      "metadata": {
        "colab": {
          "base_uri": "https://localhost:8080/"
        },
        "id": "mFNluquI20ai",
        "outputId": "400d8c40-2201-4124-c3af-4b35f7b098ad"
      },
      "execution_count": 29,
      "outputs": [
        {
          "output_type": "execute_result",
          "data": {
            "text/plain": [
              "[(0, 'A', 0.0), (1, 'B', 1.1), (2, 'C', 2.2)]"
            ]
          },
          "metadata": {},
          "execution_count": 29
        }
      ]
    },
    {
      "cell_type": "code",
      "source": [
        "from itertools import zip_longest"
      ],
      "metadata": {
        "id": "8J57ueWi235Z"
      },
      "execution_count": 30,
      "outputs": []
    },
    {
      "cell_type": "code",
      "source": [
        "list(zip_longest(range(3), 'ABC', [0.0, 1.1, 2.2, 3.3]))"
      ],
      "metadata": {
        "colab": {
          "base_uri": "https://localhost:8080/"
        },
        "id": "beW7R5Iv2_LK",
        "outputId": "0f895ce6-f684-43cd-f082-87fffcecc479"
      },
      "execution_count": 31,
      "outputs": [
        {
          "output_type": "execute_result",
          "data": {
            "text/plain": [
              "[(0, 'A', 0.0), (1, 'B', 1.1), (2, 'C', 2.2), (None, None, 3.3)]"
            ]
          },
          "metadata": {},
          "execution_count": 31
        }
      ]
    },
    {
      "cell_type": "code",
      "source": [
        "a = [(1, 2, 3),\n",
        "     (4, 5, 6)]\n",
        "list(zip(*a))"
      ],
      "metadata": {
        "colab": {
          "base_uri": "https://localhost:8080/"
        },
        "id": "BkShIRr63A7y",
        "outputId": "32c59e99-fd43-443e-f421-fd329048c81f"
      },
      "execution_count": 32,
      "outputs": [
        {
          "output_type": "execute_result",
          "data": {
            "text/plain": [
              "[(1, 4), (2, 5), (3, 6)]"
            ]
          },
          "metadata": {},
          "execution_count": 32
        }
      ]
    },
    {
      "cell_type": "code",
      "source": [
        "b = [(1, 2),\n",
        "     (3, 4),\n",
        "     (5, 6)]\n",
        "list(zip(*b))"
      ],
      "metadata": {
        "colab": {
          "base_uri": "https://localhost:8080/"
        },
        "id": "7heYoOHr3O_K",
        "outputId": "6fa950d9-4d70-4596-faa8-08a4d99356f9"
      },
      "execution_count": 33,
      "outputs": [
        {
          "output_type": "execute_result",
          "data": {
            "text/plain": [
              "[(1, 3, 5), (2, 4, 6)]"
            ]
          },
          "metadata": {},
          "execution_count": 33
        }
      ]
    },
    {
      "cell_type": "markdown",
      "source": [
        "# Vector Take #5: Formatting"
      ],
      "metadata": {
        "id": "hLyopkMs3hNP"
      }
    },
    {
      "cell_type": "code",
      "source": [
        "# vector_v5.py\n",
        "from array import array\n",
        "import operator\n",
        "import reprlib\n",
        "import math\n",
        "import functools\n",
        "import itertools\n",
        "\n",
        "class Vector:\n",
        "  typecode = 'd'\n",
        "  __match_args__ = ('x', 'y', 'z', 't')\n",
        "\n",
        "  def __init__(self, components):\n",
        "    # self._components - \"protected\" instance attribute will hold an array with the Vector components\n",
        "    self._components = array(self.typecode, components)\n",
        "\n",
        "  def __iter__(self):\n",
        "    return iter(self._components)\n",
        "\n",
        "  def __repr__(self):\n",
        "    components = reprlib.repr(self._components)\n",
        "    components = components[components.find('['):-1]\n",
        "    return f'Vector({components})'\n",
        "\n",
        "  def __str__(self):\n",
        "    return str(tuple(self))\n",
        "\n",
        "  def __bytes__(self):\n",
        "    return (bytes([ord(self.typecode)]) +\n",
        "            bytes(self._components))\n",
        "\n",
        "  def __eq__(self, other):\n",
        "    return tuple(self) == tuple(other)\n",
        "\n",
        "  def __abs__(self):\n",
        "    return math.hypot(*self)\n",
        "\n",
        "  def __bool__(self):\n",
        "    return bool(abs(self))\n",
        "\n",
        "  def __len__(self):\n",
        "    return len(self._components)\n",
        "\n",
        "  def __getitem__(self, key):\n",
        "    if isinstance(key, slice):\n",
        "      cls = type(self)\n",
        "      return cls(self._components[key])\n",
        "    index = operator.index(key) # operator.index() calls the __index__ special method\n",
        "    return self._components[index]\n",
        "\n",
        "  def __getattr__(self, name):\n",
        "    cls = type(self)\n",
        "    try:\n",
        "      pos = cls.__match_args__.index(name)\n",
        "    except ValueError:\n",
        "      pos = -1\n",
        "    if 0 <= pos < len(self._components):\n",
        "      return self._components[pos]\n",
        "    msg = f'{cls.__name__!r} object has not attribute {name!r}'\n",
        "    raise AttributeError(msg)\n",
        "\n",
        "  def __setattr__(self, name, value):\n",
        "    cls = type(self)\n",
        "    if len(name) == 1:\n",
        "      if name in cls.__match_args__:\n",
        "        error = 'readonly attribute {attr_name!r}'\n",
        "      elif name.islower():\n",
        "        error = \"can't set attribute 'a' to 'z' in {cls_name!r}\"\n",
        "      else:\n",
        "        error = ''\n",
        "      if error:\n",
        "        msg = error.format(cls_name=cls.__name__, attr_name=name)\n",
        "        raise AttributeError(msg)\n",
        "    super().__setattr__(name, value)\n",
        "\n",
        "  def __eq__(self, other):\n",
        "    return len(self) == len(other) and all(a == b for a, b in zip(self, other))\n",
        "\n",
        "  def __hash__(self):\n",
        "    hashes = map(hash, self._components)\n",
        "    return functools.reduce(operator.xor, hashes, 0)\n",
        "\n",
        "  def angle(self, n):\n",
        "    r = math.hypot(*self[n:])\n",
        "    a = math.atan2(r, self[n-1])\n",
        "    if (n == len(self) - 1) and (self[-1] < 0):\n",
        "      return math.pi * 2 - a\n",
        "    else:\n",
        "      return a\n",
        "\n",
        "  def angles(self):\n",
        "    return(self.angle(n) for n in range(1, len(self)))\n",
        "\n",
        "  def __format__(self, fmt_spec=''):\n",
        "    if fmt_spec.endswith('h'):\n",
        "      fmt_spec = fmt_spec[:-1]\n",
        "      coords = itertools.chain([abs(self)], self.angles())\n",
        "      outer_fmt = '<{}>'\n",
        "    else:\n",
        "      coords = self\n",
        "      outer_fmt = '({})'\n",
        "    components = (format(c, fmt_spec) for c in coords)\n",
        "    return outer_fmt.format(', '.join(components))\n",
        "\n",
        "  @classmethod\n",
        "  def frombytes(cls, octets):\n",
        "    typecode = chr(octets[0])\n",
        "    memv = memoryview(octets[1:]).cast(typecode)\n",
        "    return cls(memv)"
      ],
      "metadata": {
        "id": "lZdJOazW3T-Z"
      },
      "execution_count": 36,
      "outputs": []
    },
    {
      "cell_type": "code",
      "source": [
        "format(Vector([-1, -1, -1, -1]), 'h')\n",
        "format(Vector([2, 2, 2, 2]), '.3eh')\n",
        "format(Vector([0, 1, 0, 0]), '.5fh')"
      ],
      "metadata": {
        "colab": {
          "base_uri": "https://localhost:8080/",
          "height": 36
        },
        "id": "kq7g5i-W5Dex",
        "outputId": "42a94c8e-2cac-4e08-ac97-8917ca08ec9d"
      },
      "execution_count": 39,
      "outputs": [
        {
          "output_type": "execute_result",
          "data": {
            "text/plain": [
              "'<1.00000, 1.57080, 0.00000, 0.00000>'"
            ],
            "application/vnd.google.colaboratory.intrinsic+json": {
              "type": "string"
            }
          },
          "metadata": {},
          "execution_count": 39
        }
      ]
    },
    {
      "cell_type": "code",
      "source": [],
      "metadata": {
        "id": "RpNKffvJ5JFa"
      },
      "execution_count": null,
      "outputs": []
    }
  ]
}