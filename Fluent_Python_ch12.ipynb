{
  "nbformat": 4,
  "nbformat_minor": 0,
  "metadata": {
    "colab": {
      "provenance": [],
      "authorship_tag": "ABX9TyP8GxIahttZFiKZrY1ignbe",
      "include_colab_link": true
    },
    "kernelspec": {
      "name": "python3",
      "display_name": "Python 3"
    },
    "language_info": {
      "name": "python"
    }
  },
  "cells": [
    {
      "cell_type": "markdown",
      "metadata": {
        "id": "view-in-github",
        "colab_type": "text"
      },
      "source": [
        "<a href=\"https://colab.research.google.com/github/present42/PyTorchPractice/blob/main/Fluent_Python_ch12.ipynb\" target=\"_parent\"><img src=\"https://colab.research.google.com/assets/colab-badge.svg\" alt=\"Open In Colab\"/></a>"
      ]
    },
    {
      "cell_type": "markdown",
      "source": [
        "# Chapter 12. Special Methods for Sequences"
      ],
      "metadata": {
        "id": "16xOUHRonnar"
      }
    },
    {
      "cell_type": "markdown",
      "source": [
        "Implementation of `Vector` class with following properties:\n",
        " 1. Basic sequence protocol: `__len__` and `__getitem__`\n",
        " 2. Safe representation of instances with many items\n",
        " 3. Proper slicing support, producing new Vector instances\n",
        " 4. Aggregate hashing, taking  into account every contained element value\n",
        " 5. Custom formatting language extension"
      ],
      "metadata": {
        "id": "909Ko00In_A5"
      }
    },
    {
      "cell_type": "markdown",
      "source": [
        "# Vector Take #1: Vector2d Compatible"
      ],
      "metadata": {
        "id": "i6cWfI5Kos_-"
      }
    },
    {
      "cell_type": "markdown",
      "source": [
        "best practice for a sequence constructor is to take the data as iterable argument in the constructor."
      ],
      "metadata": {
        "id": "blEAsh5Go3gW"
      }
    },
    {
      "cell_type": "code",
      "execution_count": 1,
      "metadata": {
        "id": "yZTRQRagnlH4"
      },
      "outputs": [],
      "source": [
        "# vector_v1.py\n",
        "from array import array\n",
        "import reprlib\n",
        "import math\n",
        "\n",
        "class Vector:\n",
        "  typecode = 'd'\n",
        "\n",
        "  def __init__(self, components):\n",
        "    # self._components - \"protected\" instance attribute will hold an array with the Vector components\n",
        "    self._components = array(self.typecode, components)\n",
        "\n",
        "  def __iter__(self):\n",
        "    return iter(self._components)\n",
        "\n",
        "  def __repr__(self):\n",
        "    components = reprlib.repr(self._components)\n",
        "    components = components[components.find('['):-1]\n",
        "    return f'Vector({components})'\n",
        "\n",
        "  def __str__(self):\n",
        "    return str(tuple(self))\n",
        "\n",
        "  def __bytes__(self):\n",
        "    return (bytes([ord(self.typecode)]) +\n",
        "            bytes(self._components))\n",
        "\n",
        "  def __eq__(self, other):\n",
        "    return tuple(self) == tuple(other)\n",
        "\n",
        "  def __abs__(self):\n",
        "    return math.hypot(*self)\n",
        "\n",
        "  def __bool__(self):\n",
        "    return bool(abs(self))\n",
        "\n",
        "  @classmethod\n",
        "  def frombytes(cls, octets):\n",
        "    typecode = chr(octets[0])\n",
        "    memv = memoryview(octets[1:]).cast(typecode)\n",
        "    return cls(memv)"
      ]
    },
    {
      "cell_type": "code",
      "source": [
        "tuple(Vector([3.1, 4.2]))"
      ],
      "metadata": {
        "colab": {
          "base_uri": "https://localhost:8080/"
        },
        "id": "VRiXTkvGqsPg",
        "outputId": "52486f27-fbe1-4827-8e47-f4ab31735c54"
      },
      "execution_count": 3,
      "outputs": [
        {
          "output_type": "execute_result",
          "data": {
            "text/plain": [
              "(3.1, 4.2)"
            ]
          },
          "metadata": {},
          "execution_count": 3
        }
      ]
    },
    {
      "cell_type": "code",
      "source": [
        "Vector((3, 4, 5))"
      ],
      "metadata": {
        "colab": {
          "base_uri": "https://localhost:8080/"
        },
        "id": "oaqNetLDrIWX",
        "outputId": "9eb023a1-a2e9-45b0-e22c-7c5a080c8960"
      },
      "execution_count": 4,
      "outputs": [
        {
          "output_type": "execute_result",
          "data": {
            "text/plain": [
              "Vector([3.0, 4.0, 5.0])"
            ]
          },
          "metadata": {},
          "execution_count": 4
        }
      ]
    },
    {
      "cell_type": "code",
      "source": [
        "Vector(range(10))"
      ],
      "metadata": {
        "colab": {
          "base_uri": "https://localhost:8080/"
        },
        "id": "UydYccK1rduH",
        "outputId": "724e6676-7516-45c3-ea18-794c89701737"
      },
      "execution_count": 5,
      "outputs": [
        {
          "output_type": "execute_result",
          "data": {
            "text/plain": [
              "Vector([0.0, 1.0, 2.0, 3.0, 4.0, ...])"
            ]
          },
          "metadata": {},
          "execution_count": 5
        }
      ]
    },
    {
      "cell_type": "markdown",
      "source": [
        "## Protocols and Duck Typing"
      ],
      "metadata": {
        "id": "B-Abe-CNrprf"
      }
    },
    {
      "cell_type": "markdown",
      "source": [
        "You don't need to inherit from any special class to create a fully functional sequence type in Python; you just need to implement the methods that fulfill the sequence protocol"
      ],
      "metadata": {
        "id": "1y72TyqKruyG"
      }
    },
    {
      "cell_type": "code",
      "source": [
        "# Code from Ex1-1\n",
        "import collections\n",
        "\n",
        "Card = collections.namedtuple('Card', ['rank', 'suit'])\n",
        "\n",
        "class FrenchDeck:\n",
        "  ranks = [str(n) for n in range(2, 11)] + list('JQKA')\n",
        "  suits = 'spades diamonds clubs hearts'.split()\n",
        "\n",
        "  def __init__(self):\n",
        "    self._cards = [Card(rank, suit) for suit in self.suits for rank in self.ranks]\n",
        "\n",
        "  def __len__(self):\n",
        "    return len(self._cards)\n",
        "\n",
        "  def __getitem__(self, position):\n",
        "    return self._cards[position]\n"
      ],
      "metadata": {
        "id": "rwiHQoxLrfoO"
      },
      "execution_count": 6,
      "outputs": []
    },
    {
      "cell_type": "markdown",
      "source": [
        "The above `FrenchDeck` class is a sequence even if it subclasses `object`. We say it is a sequence because it behaves like one, and that is what matters."
      ],
      "metadata": {
        "id": "wu5vrkiMsgjY"
      }
    },
    {
      "cell_type": "markdown",
      "source": [
        "# Vector Take #2: A Sliceable Sequence"
      ],
      "metadata": {
        "id": "0rJdzfKTs-WH"
      }
    },
    {
      "cell_type": "code",
      "source": [
        "# vector_v2.py\n",
        "from array import array\n",
        "import reprlib\n",
        "import math\n",
        "\n",
        "class Vector:\n",
        "  typecode = 'd'\n",
        "\n",
        "  def __init__(self, components):\n",
        "    # self._components - \"protected\" instance attribute will hold an array with the Vector components\n",
        "    self._components = array(self.typecode, components)\n",
        "\n",
        "  def __iter__(self):\n",
        "    return iter(self._components)\n",
        "\n",
        "  def __repr__(self):\n",
        "    components = reprlib.repr(self._components)\n",
        "    components = components[components.find('['):-1]\n",
        "    return f'Vector({components})'\n",
        "\n",
        "  def __str__(self):\n",
        "    return str(tuple(self))\n",
        "\n",
        "  def __bytes__(self):\n",
        "    return (bytes([ord(self.typecode)]) +\n",
        "            bytes(self._components))\n",
        "\n",
        "  def __eq__(self, other):\n",
        "    return tuple(self) == tuple(other)\n",
        "\n",
        "  def __abs__(self):\n",
        "    return math.hypot(*self)\n",
        "\n",
        "  def __bool__(self):\n",
        "    return bool(abs(self))\n",
        "\n",
        "  def __len__(self):\n",
        "    return len(self._components)\n",
        "\n",
        "  def __getitem__(self, index):\n",
        "    return self._components[index]\n",
        "\n",
        "  @classmethod\n",
        "  def frombytes(cls, octets):\n",
        "    typecode = chr(octets[0])\n",
        "    memv = memoryview(octets[1:]).cast(typecode)\n",
        "    return cls(memv)"
      ],
      "metadata": {
        "id": "Gq3stluasaaw"
      },
      "execution_count": 7,
      "outputs": []
    },
    {
      "cell_type": "code",
      "source": [
        "v1 = Vector([3, 4, 5])"
      ],
      "metadata": {
        "id": "--BwqoU2tOYg"
      },
      "execution_count": 8,
      "outputs": []
    },
    {
      "cell_type": "code",
      "source": [
        "len(v1)"
      ],
      "metadata": {
        "colab": {
          "base_uri": "https://localhost:8080/"
        },
        "id": "HbOFi_vBtQQf",
        "outputId": "178eb9cc-8efe-4775-af71-5ccbb0bddf07"
      },
      "execution_count": 9,
      "outputs": [
        {
          "output_type": "execute_result",
          "data": {
            "text/plain": [
              "3"
            ]
          },
          "metadata": {},
          "execution_count": 9
        }
      ]
    },
    {
      "cell_type": "code",
      "source": [
        "v1[0], v1[-1]"
      ],
      "metadata": {
        "colab": {
          "base_uri": "https://localhost:8080/"
        },
        "id": "dfDJEO0RtQ0P",
        "outputId": "94bb9841-6e0d-42ef-df38-fe499303c506"
      },
      "execution_count": 10,
      "outputs": [
        {
          "output_type": "execute_result",
          "data": {
            "text/plain": [
              "(3.0, 5.0)"
            ]
          },
          "metadata": {},
          "execution_count": 10
        }
      ]
    },
    {
      "cell_type": "code",
      "source": [
        "v7 = Vector(range(7))\n",
        "v7[1:4]"
      ],
      "metadata": {
        "colab": {
          "base_uri": "https://localhost:8080/"
        },
        "id": "lB1aBMv5tSE_",
        "outputId": "7ac8e7ba-aa05-427f-f9da-9c8947f5e34b"
      },
      "execution_count": 11,
      "outputs": [
        {
          "output_type": "execute_result",
          "data": {
            "text/plain": [
              "array('d', [1.0, 2.0, 3.0])"
            ]
          },
          "metadata": {},
          "execution_count": 11
        }
      ]
    },
    {
      "cell_type": "markdown",
      "source": [
        "## how slicing works"
      ],
      "metadata": {
        "id": "-PxdsFistird"
      }
    },
    {
      "cell_type": "code",
      "source": [
        "class MySeq:\n",
        "  def __getitem__(self, index):\n",
        "    return index"
      ],
      "metadata": {
        "id": "9ss30u5btVP4"
      },
      "execution_count": 12,
      "outputs": []
    },
    {
      "cell_type": "code",
      "source": [
        "s = MySeq()"
      ],
      "metadata": {
        "id": "f0fG7mv2tnIf"
      },
      "execution_count": 13,
      "outputs": []
    },
    {
      "cell_type": "code",
      "source": [
        "s[1]"
      ],
      "metadata": {
        "colab": {
          "base_uri": "https://localhost:8080/"
        },
        "id": "t9LBSMDJtn2n",
        "outputId": "806fa9a8-8318-40e2-b8b6-df18df72c41b"
      },
      "execution_count": 14,
      "outputs": [
        {
          "output_type": "execute_result",
          "data": {
            "text/plain": [
              "1"
            ]
          },
          "metadata": {},
          "execution_count": 14
        }
      ]
    },
    {
      "cell_type": "code",
      "source": [
        "s[1:4]"
      ],
      "metadata": {
        "colab": {
          "base_uri": "https://localhost:8080/"
        },
        "id": "1iFMHLCStoRf",
        "outputId": "a6006a9d-e20d-4d74-c6e3-3bcd0d144555"
      },
      "execution_count": 15,
      "outputs": [
        {
          "output_type": "execute_result",
          "data": {
            "text/plain": [
              "slice(1, 4, None)"
            ]
          },
          "metadata": {},
          "execution_count": 15
        }
      ]
    },
    {
      "cell_type": "code",
      "source": [
        "s[1:4:2]"
      ],
      "metadata": {
        "colab": {
          "base_uri": "https://localhost:8080/"
        },
        "id": "yu2Zh8catqOv",
        "outputId": "b0fc5a11-f09e-4474-f9ab-4502150dd45d"
      },
      "execution_count": 16,
      "outputs": [
        {
          "output_type": "execute_result",
          "data": {
            "text/plain": [
              "slice(1, 4, 2)"
            ]
          },
          "metadata": {},
          "execution_count": 16
        }
      ]
    },
    {
      "cell_type": "code",
      "source": [
        "s[1:4:2, 9]"
      ],
      "metadata": {
        "colab": {
          "base_uri": "https://localhost:8080/"
        },
        "id": "LrmcScNNtrm_",
        "outputId": "15014a3e-6c31-4432-d49e-d7ca5848e8ca"
      },
      "execution_count": 17,
      "outputs": [
        {
          "output_type": "execute_result",
          "data": {
            "text/plain": [
              "(slice(1, 4, 2), 9)"
            ]
          },
          "metadata": {},
          "execution_count": 17
        }
      ]
    },
    {
      "cell_type": "code",
      "source": [
        "s[1:4:2, 7:9] # tuple may even hold several slice objects"
      ],
      "metadata": {
        "colab": {
          "base_uri": "https://localhost:8080/"
        },
        "id": "mJ1sfrGKts83",
        "outputId": "ab717246-8c99-4ba5-e764-dea2e5646e71"
      },
      "execution_count": 18,
      "outputs": [
        {
          "output_type": "execute_result",
          "data": {
            "text/plain": [
              "(slice(1, 4, 2), slice(7, 9, None))"
            ]
          },
          "metadata": {},
          "execution_count": 18
        }
      ]
    },
    {
      "cell_type": "code",
      "source": [
        "slice"
      ],
      "metadata": {
        "colab": {
          "base_uri": "https://localhost:8080/"
        },
        "id": "3xHO7fe_tvq_",
        "outputId": "62326ba4-91a2-493e-98e3-7feed3c22881"
      },
      "execution_count": 19,
      "outputs": [
        {
          "output_type": "execute_result",
          "data": {
            "text/plain": [
              "slice"
            ]
          },
          "metadata": {},
          "execution_count": 19
        }
      ]
    },
    {
      "cell_type": "code",
      "source": [
        "dir(slice)"
      ],
      "metadata": {
        "colab": {
          "base_uri": "https://localhost:8080/"
        },
        "id": "ZJYPD2rlt343",
        "outputId": "54850245-fea2-4cde-ba4a-2b417f166f9a"
      },
      "execution_count": 20,
      "outputs": [
        {
          "output_type": "execute_result",
          "data": {
            "text/plain": [
              "['__class__',\n",
              " '__delattr__',\n",
              " '__dir__',\n",
              " '__doc__',\n",
              " '__eq__',\n",
              " '__format__',\n",
              " '__ge__',\n",
              " '__getattribute__',\n",
              " '__gt__',\n",
              " '__hash__',\n",
              " '__init__',\n",
              " '__init_subclass__',\n",
              " '__le__',\n",
              " '__lt__',\n",
              " '__ne__',\n",
              " '__new__',\n",
              " '__reduce__',\n",
              " '__reduce_ex__',\n",
              " '__repr__',\n",
              " '__setattr__',\n",
              " '__sizeof__',\n",
              " '__str__',\n",
              " '__subclasshook__',\n",
              " 'indices',\n",
              " 'start',\n",
              " 'step',\n",
              " 'stop']"
            ]
          },
          "metadata": {},
          "execution_count": 20
        }
      ]
    },
    {
      "cell_type": "code",
      "source": [
        "'ABCDE'[:10:2] == 'ABCDE'[0:5:2]"
      ],
      "metadata": {
        "colab": {
          "base_uri": "https://localhost:8080/"
        },
        "id": "yJZouZXut5aA",
        "outputId": "c54bc766-ba80-40eb-a733-b84ac5df131a"
      },
      "execution_count": 23,
      "outputs": [
        {
          "output_type": "execute_result",
          "data": {
            "text/plain": [
              "True"
            ]
          },
          "metadata": {},
          "execution_count": 23
        }
      ]
    },
    {
      "cell_type": "code",
      "source": [
        "slice(None, 10, 2).indices(5) # indices exposes the tricky logic that's implemented in the built-in seq\n",
        "                              # to gracefully handle missing or negative indices"
      ],
      "metadata": {
        "colab": {
          "base_uri": "https://localhost:8080/"
        },
        "id": "F-_C85tOuh3I",
        "outputId": "b52fd591-f898-4d01-d566-aae694ab4052"
      },
      "execution_count": 24,
      "outputs": [
        {
          "output_type": "execute_result",
          "data": {
            "text/plain": [
              "(0, 5, 2)"
            ]
          },
          "metadata": {},
          "execution_count": 24
        }
      ]
    },
    {
      "cell_type": "code",
      "source": [
        "slice(-3, None, None).indices(5)"
      ],
      "metadata": {
        "colab": {
          "base_uri": "https://localhost:8080/"
        },
        "id": "Zg8pzMIxuloI",
        "outputId": "d5ca22f1-57d3-4872-ec98-ae7b55142f13"
      },
      "execution_count": 25,
      "outputs": [
        {
          "output_type": "execute_result",
          "data": {
            "text/plain": [
              "(2, 5, 1)"
            ]
          },
          "metadata": {},
          "execution_count": 25
        }
      ]
    },
    {
      "cell_type": "markdown",
      "source": [
        "In our vector code, we'll not need the `slice.indices()` method because when we get a slice argument we'll delegate its handling t the _components array."
      ],
      "metadata": {
        "id": "3MxzKjx5vCUo"
      }
    },
    {
      "cell_type": "code",
      "source": [
        "# vector_v2.py\n",
        "from array import array\n",
        "import operator\n",
        "import reprlib\n",
        "import math\n",
        "\n",
        "class Vector:\n",
        "  typecode = 'd'\n",
        "\n",
        "  def __init__(self, components):\n",
        "    # self._components - \"protected\" instance attribute will hold an array with the Vector components\n",
        "    self._components = array(self.typecode, components)\n",
        "\n",
        "  def __iter__(self):\n",
        "    return iter(self._components)\n",
        "\n",
        "  def __repr__(self):\n",
        "    components = reprlib.repr(self._components)\n",
        "    components = components[components.find('['):-1]\n",
        "    return f'Vector({components})'\n",
        "\n",
        "  def __str__(self):\n",
        "    return str(tuple(self))\n",
        "\n",
        "  def __bytes__(self):\n",
        "    return (bytes([ord(self.typecode)]) +\n",
        "            bytes(self._components))\n",
        "\n",
        "  def __eq__(self, other):\n",
        "    return tuple(self) == tuple(other)\n",
        "\n",
        "  def __abs__(self):\n",
        "    return math.hypot(*self)\n",
        "\n",
        "  def __bool__(self):\n",
        "    return bool(abs(self))\n",
        "\n",
        "  def __len__(self):\n",
        "    return len(self._components)\n",
        "\n",
        "  def __getitem__(self, key):\n",
        "    if isinstance(key, slice):\n",
        "      cls = type(self)\n",
        "      return cls(self._components[key])\n",
        "    index = operator.index(key) # operator.index() calls the __index__ special method\n",
        "    return self._components[index]\n",
        "\n",
        "  @classmethod\n",
        "  def frombytes(cls, octets):\n",
        "    typecode = chr(octets[0])\n",
        "    memv = memoryview(octets[1:]).cast(typecode)\n",
        "    return cls(memv)"
      ],
      "metadata": {
        "id": "lODRm3Slu7rX"
      },
      "execution_count": 30,
      "outputs": []
    },
    {
      "cell_type": "code",
      "source": [
        "v7 = Vector(range(7))"
      ],
      "metadata": {
        "id": "va8qyqyswZVp"
      },
      "execution_count": 31,
      "outputs": []
    },
    {
      "cell_type": "code",
      "source": [
        "v7[-1]"
      ],
      "metadata": {
        "colab": {
          "base_uri": "https://localhost:8080/"
        },
        "id": "4EQ1gevWwbGI",
        "outputId": "acb8ff5f-50b0-4421-c844-1ed9a6d6750c"
      },
      "execution_count": 32,
      "outputs": [
        {
          "output_type": "execute_result",
          "data": {
            "text/plain": [
              "6.0"
            ]
          },
          "metadata": {},
          "execution_count": 32
        }
      ]
    },
    {
      "cell_type": "code",
      "source": [
        "v7[1:4]"
      ],
      "metadata": {
        "colab": {
          "base_uri": "https://localhost:8080/"
        },
        "id": "lormVvH1wbu4",
        "outputId": "87e568a2-5b58-4ed2-c84f-1f5cc640ee16"
      },
      "execution_count": 33,
      "outputs": [
        {
          "output_type": "execute_result",
          "data": {
            "text/plain": [
              "Vector([1.0, 2.0, 3.0])"
            ]
          },
          "metadata": {},
          "execution_count": 33
        }
      ]
    },
    {
      "cell_type": "code",
      "source": [
        "v7[-1:]"
      ],
      "metadata": {
        "colab": {
          "base_uri": "https://localhost:8080/"
        },
        "id": "1_YgwqbSwxUw",
        "outputId": "82335279-4154-4e1a-b686-af1da96a5438"
      },
      "execution_count": 34,
      "outputs": [
        {
          "output_type": "execute_result",
          "data": {
            "text/plain": [
              "Vector([6.0])"
            ]
          },
          "metadata": {},
          "execution_count": 34
        }
      ]
    },
    {
      "cell_type": "code",
      "source": [
        "v7[1, 2] # Vector does not support multidimensional indexing"
      ],
      "metadata": {
        "colab": {
          "base_uri": "https://localhost:8080/",
          "height": 280
        },
        "id": "YYxaLRu-wyiY",
        "outputId": "24e8aa9e-5c29-4d5f-ca94-b0d40759710d"
      },
      "execution_count": 35,
      "outputs": [
        {
          "output_type": "error",
          "ename": "TypeError",
          "evalue": "'tuple' object cannot be interpreted as an integer",
          "traceback": [
            "\u001b[0;31m---------------------------------------------------------------------------\u001b[0m",
            "\u001b[0;31mTypeError\u001b[0m                                 Traceback (most recent call last)",
            "\u001b[0;32m<ipython-input-35-54e115c7e17b>\u001b[0m in \u001b[0;36m<cell line: 1>\u001b[0;34m()\u001b[0m\n\u001b[0;32m----> 1\u001b[0;31m \u001b[0mv7\u001b[0m\u001b[0;34m[\u001b[0m\u001b[0;36m1\u001b[0m\u001b[0;34m,\u001b[0m \u001b[0;36m2\u001b[0m\u001b[0;34m]\u001b[0m\u001b[0;34m\u001b[0m\u001b[0;34m\u001b[0m\u001b[0m\n\u001b[0m",
            "\u001b[0;32m<ipython-input-30-272dec69d221>\u001b[0m in \u001b[0;36m__getitem__\u001b[0;34m(self, key)\u001b[0m\n\u001b[1;32m     43\u001b[0m       \u001b[0mcls\u001b[0m \u001b[0;34m=\u001b[0m \u001b[0mtype\u001b[0m\u001b[0;34m(\u001b[0m\u001b[0mself\u001b[0m\u001b[0;34m)\u001b[0m\u001b[0;34m\u001b[0m\u001b[0;34m\u001b[0m\u001b[0m\n\u001b[1;32m     44\u001b[0m       \u001b[0;32mreturn\u001b[0m \u001b[0mcls\u001b[0m\u001b[0;34m(\u001b[0m\u001b[0mself\u001b[0m\u001b[0;34m.\u001b[0m\u001b[0m_components\u001b[0m\u001b[0;34m[\u001b[0m\u001b[0mkey\u001b[0m\u001b[0;34m]\u001b[0m\u001b[0;34m)\u001b[0m\u001b[0;34m\u001b[0m\u001b[0;34m\u001b[0m\u001b[0m\n\u001b[0;32m---> 45\u001b[0;31m     \u001b[0mindex\u001b[0m \u001b[0;34m=\u001b[0m \u001b[0moperator\u001b[0m\u001b[0;34m.\u001b[0m\u001b[0mindex\u001b[0m\u001b[0;34m(\u001b[0m\u001b[0mkey\u001b[0m\u001b[0;34m)\u001b[0m \u001b[0;31m# operator.index() calls the __index__ special method\u001b[0m\u001b[0;34m\u001b[0m\u001b[0;34m\u001b[0m\u001b[0m\n\u001b[0m\u001b[1;32m     46\u001b[0m     \u001b[0;32mreturn\u001b[0m \u001b[0mself\u001b[0m\u001b[0;34m.\u001b[0m\u001b[0m_components\u001b[0m\u001b[0;34m[\u001b[0m\u001b[0mindex\u001b[0m\u001b[0;34m]\u001b[0m\u001b[0;34m\u001b[0m\u001b[0;34m\u001b[0m\u001b[0m\n\u001b[1;32m     47\u001b[0m \u001b[0;34m\u001b[0m\u001b[0m\n",
            "\u001b[0;31mTypeError\u001b[0m: 'tuple' object cannot be interpreted as an integer"
          ]
        }
      ]
    },
    {
      "cell_type": "code",
      "source": [],
      "metadata": {
        "id": "XVRntQgZwzWY"
      },
      "execution_count": null,
      "outputs": []
    }
  ]
}